{
 "cells": [
  {
   "cell_type": "markdown",
   "id": "2446747b",
   "metadata": {},
   "source": [
    "# Benchmarking feature selection algorithms in the molecular property prediction space: Ames mutagenicity\n",
    "\n",
    "*Alejandro Corrochano's contribution to the final project.* "
   ]
  },
  {
   "cell_type": "code",
   "execution_count": 9,
   "id": "14c8203f",
   "metadata": {},
   "outputs": [],
   "source": [
    "# Datasets\n",
    "from tdc.single_pred import Tox\n",
    "\n",
    "# Additional functions in a separate ipynb file\n",
    "from ipynb.fs.full.AZ_additional_functions import *\n",
    "\n",
    "# General use \n",
    "import pandas as pd\n",
    "import numpy as np\n",
    "import seaborn as sns\n",
    "import matplotlib.pyplot as plt \n",
    "\n",
    "#import shap\n",
    "#Save and load models\n",
    "import joblib\n",
    "\n",
    "# RDkit\n",
    "from rdkit import Chem\n",
    "from rdkit import RDLogger\n",
    "from rdkit import DataStructs\n",
    "from rdkit.Chem import AllChem\n",
    "from rdkit.Chem import Descriptors\n",
    "from rdkit.ML.Descriptors.MoleculeDescriptors import MolecularDescriptorCalculator\n",
    "\n",
    "# Standardizing\n",
    "from molvs import standardize_smiles"
   ]
  },
  {
   "cell_type": "code",
   "execution_count": 10,
   "id": "8c3ae46f",
   "metadata": {},
   "outputs": [
    {
     "name": "stderr",
     "output_type": "stream",
     "text": [
      "Found local copy...\n",
      "Loading...\n",
      "Done!\n"
     ]
    }
   ],
   "source": [
    "data = Tox(name = 'AMES')\n",
    "#DF contains the whole dataset stored in a Pandas dataframe format \n",
    "df = data.get_data()\n",
    "#Get_split divides the dataset into 3 different sets (Train, validation, test)\n",
    "split_AMES = data.get_split()"
   ]
  },
  {
   "cell_type": "code",
   "execution_count": 11,
   "id": "565b9a6a",
   "metadata": {},
   "outputs": [
    {
     "name": "stdout",
     "output_type": "stream",
     "text": [
      "Total number of molecules: 7278\n",
      "Train set: 5094 - 70.0%\n",
      "Validation set: 728 - 10.0%\n",
      "Test set: 1456 - 20.0%\n"
     ]
    },
    {
     "data": {
      "text/html": [
       "<div>\n",
       "<style scoped>\n",
       "    .dataframe tbody tr th:only-of-type {\n",
       "        vertical-align: middle;\n",
       "    }\n",
       "\n",
       "    .dataframe tbody tr th {\n",
       "        vertical-align: top;\n",
       "    }\n",
       "\n",
       "    .dataframe thead th {\n",
       "        text-align: right;\n",
       "    }\n",
       "</style>\n",
       "<table border=\"1\" class=\"dataframe\">\n",
       "  <thead>\n",
       "    <tr style=\"text-align: right;\">\n",
       "      <th></th>\n",
       "      <th>Drug_ID</th>\n",
       "      <th>Drug</th>\n",
       "      <th>Y</th>\n",
       "    </tr>\n",
       "  </thead>\n",
       "  <tbody>\n",
       "    <tr>\n",
       "      <th>0</th>\n",
       "      <td>Drug 1</td>\n",
       "      <td>O=[N+]([O-])c1c2c(c3ccc4cccc5ccc1c3c45)CCCC2</td>\n",
       "      <td>1</td>\n",
       "    </tr>\n",
       "    <tr>\n",
       "      <th>1</th>\n",
       "      <td>Drug 2</td>\n",
       "      <td>O=c1c2ccccc2c(=O)c2c1ccc1c2[nH]c2c3c(=O)c4cccc...</td>\n",
       "      <td>0</td>\n",
       "    </tr>\n",
       "    <tr>\n",
       "      <th>2</th>\n",
       "      <td>Drug 3</td>\n",
       "      <td>[N-]=[N+]=CC(=O)NCC(=O)NN</td>\n",
       "      <td>1</td>\n",
       "    </tr>\n",
       "    <tr>\n",
       "      <th>3</th>\n",
       "      <td>Drug 4</td>\n",
       "      <td>[N-]=[N+]=C1C=NC(=O)NC1=O</td>\n",
       "      <td>1</td>\n",
       "    </tr>\n",
       "    <tr>\n",
       "      <th>4</th>\n",
       "      <td>Drug 6</td>\n",
       "      <td>CCCCN(CC(O)C1=CC(=[N+]=[N-])C(=O)C=C1)N=O</td>\n",
       "      <td>1</td>\n",
       "    </tr>\n",
       "  </tbody>\n",
       "</table>\n",
       "</div>"
      ],
      "text/plain": [
       "  Drug_ID                                               Drug  Y\n",
       "0  Drug 1       O=[N+]([O-])c1c2c(c3ccc4cccc5ccc1c3c45)CCCC2  1\n",
       "1  Drug 2  O=c1c2ccccc2c(=O)c2c1ccc1c2[nH]c2c3c(=O)c4cccc...  0\n",
       "2  Drug 3                          [N-]=[N+]=CC(=O)NCC(=O)NN  1\n",
       "3  Drug 4                          [N-]=[N+]=C1C=NC(=O)NC1=O  1\n",
       "4  Drug 6          CCCCN(CC(O)C1=CC(=[N+]=[N-])C(=O)C=C1)N=O  1"
      ]
     },
     "metadata": {},
     "output_type": "display_data"
    }
   ],
   "source": [
    "data_overview(df, split_AMES)"
   ]
  },
  {
   "cell_type": "code",
   "execution_count": 12,
   "id": "ef7c80ab",
   "metadata": {},
   "outputs": [
    {
     "name": "stdout",
     "output_type": "stream",
     "text": [
      "Number of compounds modified: 0\n"
     ]
    }
   ],
   "source": [
    "# Remove fragments of compounds that may contain them\n",
    "frag_compounds = [comp for comp in df['Drug'] if len(comp.split('.')) > 1]\n",
    "for ind, c in enumerate(frag_compounds):\n",
    "    df.loc[df.Drug == frag_compounds[ind], 'Drug'] = frag_compounds[ind].split('.')[0]\n",
    "\n",
    "print('Number of compounds modified: {}'.format(len(frag_compounds)))"
   ]
  },
  {
   "cell_type": "code",
   "execution_count": 13,
   "id": "55517821",
   "metadata": {},
   "outputs": [
    {
     "name": "stdout",
     "output_type": "stream",
     "text": [
      "Duplicated compounds and with less than 5 heavy atoms have been removed.\n",
      "New number of compounds: 7140 (-138)\n"
     ]
    }
   ],
   "source": [
    "# Duplicates and compounds with less than 5 heavy atoms removal\n",
    "df = remove_ha_duplicates(df)"
   ]
  },
  {
   "cell_type": "code",
   "execution_count": 15,
   "id": "08c42ead",
   "metadata": {},
   "outputs": [
    {
     "name": "stdout",
     "output_type": "stream",
     "text": [
      "Calculator initialized. Total number of descriptors: 208\n"
     ]
    }
   ],
   "source": [
    "descList = [i for i,j in Descriptors.descList]\n",
    "#Molecular descriptor calculator\n",
    "calculator = MolecularDescriptorCalculator(descList)\n",
    "print('Calculator initialized. Total number of descriptors:', len(descList))"
   ]
  },
  {
   "cell_type": "code",
   "execution_count": 16,
   "id": "8e08b0ab",
   "metadata": {},
   "outputs": [
    {
     "name": "stdout",
     "output_type": "stream",
     "text": [
      "Actual shape of the Dataframe: (7140, 211)\n"
     ]
    }
   ],
   "source": [
    "# Standardize the molecules \n",
    "df['Drug'] = [standardize_smiles(smi) for smi in df['Drug']]\n",
    "\n",
    "# Generate a list of lists where each row corresponds to a molecule and each column to a descriptor (transpose step required)\n",
    "c = [calculator.CalcDescriptors(Chem.MolFromSmiles(smi)) for smi in df['Drug']]\n",
    "\n",
    "# Convert it into a numpy array and transpose it so the columns represent the descriptors\n",
    "c = np.asarray(c).transpose()\n",
    "\n",
    "# Append all the descriptors to the DF\n",
    "for i, descriptor in enumerate(descList):\n",
    "    df[descriptor] = c[i]\n",
    "    \n",
    "#We move the target (Ames) to the end\n",
    "temp = df.pop('Y') # remove column b and store it in df1\n",
    "df['Y'] = temp\n",
    "\n",
    "print('Actual shape of the Dataframe:', df.shape)"
   ]
  },
  {
   "cell_type": "code",
   "execution_count": 17,
   "id": "bf6251fc",
   "metadata": {},
   "outputs": [
    {
     "data": {
      "text/html": [
       "<div>\n",
       "<style scoped>\n",
       "    .dataframe tbody tr th:only-of-type {\n",
       "        vertical-align: middle;\n",
       "    }\n",
       "\n",
       "    .dataframe tbody tr th {\n",
       "        vertical-align: top;\n",
       "    }\n",
       "\n",
       "    .dataframe thead th {\n",
       "        text-align: right;\n",
       "    }\n",
       "</style>\n",
       "<table border=\"1\" class=\"dataframe\">\n",
       "  <thead>\n",
       "    <tr style=\"text-align: right;\">\n",
       "      <th></th>\n",
       "      <th>Drug_ID</th>\n",
       "      <th>Drug</th>\n",
       "      <th>MaxEStateIndex</th>\n",
       "      <th>MinEStateIndex</th>\n",
       "      <th>MaxAbsEStateIndex</th>\n",
       "      <th>MinAbsEStateIndex</th>\n",
       "      <th>qed</th>\n",
       "      <th>MolWt</th>\n",
       "      <th>HeavyAtomMolWt</th>\n",
       "      <th>ExactMolWt</th>\n",
       "      <th>...</th>\n",
       "      <th>fr_sulfonamd</th>\n",
       "      <th>fr_sulfone</th>\n",
       "      <th>fr_term_acetylene</th>\n",
       "      <th>fr_tetrazole</th>\n",
       "      <th>fr_thiazole</th>\n",
       "      <th>fr_thiocyan</th>\n",
       "      <th>fr_thiophene</th>\n",
       "      <th>fr_unbrch_alkane</th>\n",
       "      <th>fr_urea</th>\n",
       "      <th>Y</th>\n",
       "    </tr>\n",
       "  </thead>\n",
       "  <tbody>\n",
       "    <tr>\n",
       "      <th>0</th>\n",
       "      <td>Drug 0</td>\n",
       "      <td>O=[N+]([O-])c1ccc2ccc3ccc([N+](=O)[O-])c4c5ccc...</td>\n",
       "      <td>11.663401</td>\n",
       "      <td>-0.396099</td>\n",
       "      <td>11.663401</td>\n",
       "      <td>0.008895</td>\n",
       "      <td>0.181963</td>\n",
       "      <td>342.310</td>\n",
       "      <td>332.230</td>\n",
       "      <td>342.064057</td>\n",
       "      <td>...</td>\n",
       "      <td>0.0</td>\n",
       "      <td>0.0</td>\n",
       "      <td>0.0</td>\n",
       "      <td>0.0</td>\n",
       "      <td>0.0</td>\n",
       "      <td>0.0</td>\n",
       "      <td>0.0</td>\n",
       "      <td>0.0</td>\n",
       "      <td>0.0</td>\n",
       "      <td>1</td>\n",
       "    </tr>\n",
       "    <tr>\n",
       "      <th>1</th>\n",
       "      <td>Drug 1</td>\n",
       "      <td>O=[N+]([O-])c1c2c(c3ccc4cccc5ccc1c3c45)CCCC2</td>\n",
       "      <td>11.824743</td>\n",
       "      <td>-0.170602</td>\n",
       "      <td>11.824743</td>\n",
       "      <td>0.170602</td>\n",
       "      <td>0.269289</td>\n",
       "      <td>301.345</td>\n",
       "      <td>286.225</td>\n",
       "      <td>301.110279</td>\n",
       "      <td>...</td>\n",
       "      <td>0.0</td>\n",
       "      <td>0.0</td>\n",
       "      <td>0.0</td>\n",
       "      <td>0.0</td>\n",
       "      <td>0.0</td>\n",
       "      <td>0.0</td>\n",
       "      <td>0.0</td>\n",
       "      <td>0.0</td>\n",
       "      <td>0.0</td>\n",
       "      <td>1</td>\n",
       "    </tr>\n",
       "    <tr>\n",
       "      <th>2</th>\n",
       "      <td>Drug 2</td>\n",
       "      <td>O=c1c2ccccc2c(=O)c2c1ccc1c2[nH]c2c3c(=O)c4cccc...</td>\n",
       "      <td>14.431073</td>\n",
       "      <td>-0.378575</td>\n",
       "      <td>14.431073</td>\n",
       "      <td>0.128988</td>\n",
       "      <td>0.184582</td>\n",
       "      <td>646.614</td>\n",
       "      <td>628.470</td>\n",
       "      <td>646.116486</td>\n",
       "      <td>...</td>\n",
       "      <td>0.0</td>\n",
       "      <td>0.0</td>\n",
       "      <td>0.0</td>\n",
       "      <td>0.0</td>\n",
       "      <td>0.0</td>\n",
       "      <td>0.0</td>\n",
       "      <td>0.0</td>\n",
       "      <td>0.0</td>\n",
       "      <td>0.0</td>\n",
       "      <td>0</td>\n",
       "    </tr>\n",
       "    <tr>\n",
       "      <th>3</th>\n",
       "      <td>Drug 3</td>\n",
       "      <td>[N-]=[N+]=CC(=O)NCC(=O)NN</td>\n",
       "      <td>10.422197</td>\n",
       "      <td>-0.670278</td>\n",
       "      <td>10.422197</td>\n",
       "      <td>0.248657</td>\n",
       "      <td>0.103849</td>\n",
       "      <td>157.133</td>\n",
       "      <td>150.077</td>\n",
       "      <td>157.059974</td>\n",
       "      <td>...</td>\n",
       "      <td>0.0</td>\n",
       "      <td>0.0</td>\n",
       "      <td>0.0</td>\n",
       "      <td>0.0</td>\n",
       "      <td>0.0</td>\n",
       "      <td>0.0</td>\n",
       "      <td>0.0</td>\n",
       "      <td>0.0</td>\n",
       "      <td>0.0</td>\n",
       "      <td>1</td>\n",
       "    </tr>\n",
       "    <tr>\n",
       "      <th>4</th>\n",
       "      <td>Drug 4</td>\n",
       "      <td>[N-]=[N+]=C1C=NC(=O)NC1=O</td>\n",
       "      <td>10.521759</td>\n",
       "      <td>-0.752407</td>\n",
       "      <td>10.521759</td>\n",
       "      <td>0.278148</td>\n",
       "      <td>0.342148</td>\n",
       "      <td>138.086</td>\n",
       "      <td>136.070</td>\n",
       "      <td>138.017775</td>\n",
       "      <td>...</td>\n",
       "      <td>0.0</td>\n",
       "      <td>0.0</td>\n",
       "      <td>0.0</td>\n",
       "      <td>0.0</td>\n",
       "      <td>0.0</td>\n",
       "      <td>0.0</td>\n",
       "      <td>0.0</td>\n",
       "      <td>0.0</td>\n",
       "      <td>1.0</td>\n",
       "      <td>1</td>\n",
       "    </tr>\n",
       "  </tbody>\n",
       "</table>\n",
       "<p>5 rows × 211 columns</p>\n",
       "</div>"
      ],
      "text/plain": [
       "  Drug_ID                                               Drug  MaxEStateIndex  \\\n",
       "0  Drug 0  O=[N+]([O-])c1ccc2ccc3ccc([N+](=O)[O-])c4c5ccc...       11.663401   \n",
       "1  Drug 1       O=[N+]([O-])c1c2c(c3ccc4cccc5ccc1c3c45)CCCC2       11.824743   \n",
       "2  Drug 2  O=c1c2ccccc2c(=O)c2c1ccc1c2[nH]c2c3c(=O)c4cccc...       14.431073   \n",
       "3  Drug 3                          [N-]=[N+]=CC(=O)NCC(=O)NN       10.422197   \n",
       "4  Drug 4                          [N-]=[N+]=C1C=NC(=O)NC1=O       10.521759   \n",
       "\n",
       "   MinEStateIndex  MaxAbsEStateIndex  MinAbsEStateIndex       qed    MolWt  \\\n",
       "0       -0.396099          11.663401           0.008895  0.181963  342.310   \n",
       "1       -0.170602          11.824743           0.170602  0.269289  301.345   \n",
       "2       -0.378575          14.431073           0.128988  0.184582  646.614   \n",
       "3       -0.670278          10.422197           0.248657  0.103849  157.133   \n",
       "4       -0.752407          10.521759           0.278148  0.342148  138.086   \n",
       "\n",
       "   HeavyAtomMolWt  ExactMolWt  ...  fr_sulfonamd  fr_sulfone  \\\n",
       "0         332.230  342.064057  ...           0.0         0.0   \n",
       "1         286.225  301.110279  ...           0.0         0.0   \n",
       "2         628.470  646.116486  ...           0.0         0.0   \n",
       "3         150.077  157.059974  ...           0.0         0.0   \n",
       "4         136.070  138.017775  ...           0.0         0.0   \n",
       "\n",
       "   fr_term_acetylene  fr_tetrazole  fr_thiazole  fr_thiocyan  fr_thiophene  \\\n",
       "0                0.0           0.0          0.0          0.0           0.0   \n",
       "1                0.0           0.0          0.0          0.0           0.0   \n",
       "2                0.0           0.0          0.0          0.0           0.0   \n",
       "3                0.0           0.0          0.0          0.0           0.0   \n",
       "4                0.0           0.0          0.0          0.0           0.0   \n",
       "\n",
       "   fr_unbrch_alkane  fr_urea  Y  \n",
       "0               0.0      0.0  1  \n",
       "1               0.0      0.0  1  \n",
       "2               0.0      0.0  0  \n",
       "3               0.0      0.0  1  \n",
       "4               0.0      1.0  1  \n",
       "\n",
       "[5 rows x 211 columns]"
      ]
     },
     "execution_count": 17,
     "metadata": {},
     "output_type": "execute_result"
    }
   ],
   "source": [
    "df.head()"
   ]
  },
  {
   "cell_type": "markdown",
   "id": "7f0aa897",
   "metadata": {},
   "source": [
    "### Generate splits, remove NaNs, and normalization"
   ]
  },
  {
   "cell_type": "markdown",
   "id": "4549bf92",
   "metadata": {},
   "source": [
    "#### Train, validation, and test sets for both Descriptors and fingerprints"
   ]
  },
  {
   "cell_type": "code",
   "execution_count": 18,
   "id": "1ffd3616",
   "metadata": {},
   "outputs": [
    {
     "name": "stdout",
     "output_type": "stream",
     "text": [
      "Data has been split\n"
     ]
    }
   ],
   "source": [
    "X_train, y_train, X_val, y_val, X_test, y_test = train_val_test_split(df, split_AMES)"
   ]
  },
  {
   "cell_type": "markdown",
   "id": "0a876083",
   "metadata": {},
   "source": [
    "#### Remove NaNs values"
   ]
  },
  {
   "cell_type": "code",
   "execution_count": 20,
   "id": "e9f31be2",
   "metadata": {},
   "outputs": [],
   "source": [
    "X_train, y_train, X_val, y_val, X_test, y_test = remove_nans(X_train, X_val, X_test, y_train, y_val, y_test)"
   ]
  },
  {
   "cell_type": "markdown",
   "id": "ba3c0b46",
   "metadata": {},
   "source": [
    "#### Data normalization required in linear models"
   ]
  },
  {
   "cell_type": "code",
   "execution_count": 21,
   "id": "482c9c92",
   "metadata": {},
   "outputs": [
    {
     "name": "stdout",
     "output_type": "stream",
     "text": [
      "Data is now normalized.\n"
     ]
    }
   ],
   "source": [
    "X_train_norm, X_val_norm, X_test_norm = normalize_data(X_train, X_val, X_test)"
   ]
  },
  {
   "cell_type": "markdown",
   "id": "f6f65754",
   "metadata": {},
   "source": [
    "## Baseline"
   ]
  },
  {
   "cell_type": "code",
   "execution_count": null,
   "id": "141f9997",
   "metadata": {},
   "outputs": [],
   "source": [
    "models, results = models_comparison(X_train, y_train, X_val, y_val, True, True, False, X_train_norm, X_val_norm)"
   ]
  },
  {
   "cell_type": "markdown",
   "id": "2f055318",
   "metadata": {},
   "source": [
    "## MRMR"
   ]
  },
  {
   "cell_type": "code",
   "execution_count": null,
   "id": "7ec4b11b",
   "metadata": {},
   "outputs": [],
   "source": [
    "models, results, num_sel_feat, features = fs_mrmr(X_train, y_train, X_val, y_val, X_train_norm, X_val_norm, True)"
   ]
  },
  {
   "cell_type": "code",
   "execution_count": null,
   "id": "e33ba60f",
   "metadata": {},
   "outputs": [],
   "source": [
    "mcc, auc = plot_classification_metrics(results, X_train)"
   ]
  },
  {
   "cell_type": "code",
   "execution_count": null,
   "id": "d51ace14",
   "metadata": {},
   "outputs": [],
   "source": [
    "# Take selected features by MRMR\n",
    "selected_features_mrmr = features[np.argmax(mcc)]"
   ]
  },
  {
   "cell_type": "code",
   "execution_count": null,
   "id": "55961c76",
   "metadata": {},
   "outputs": [],
   "source": [
    "rnd_models_mrmr, metrics_rnd_mrmr = apply_randsearch(X_train[selected_features_mrmr]\n",
    "                                                        , y_train                                                       \n",
    "                                                        , X_val[selected_features_mrmr]\n",
    "                                                        , y_val\n",
    "                                                        , False\n",
    "                                                        , X_train_norm[selected_features_mrmr]\n",
    "                                                        , X_val_norm[selected_features_mrmr])"
   ]
  },
  {
   "cell_type": "markdown",
   "id": "782d8612",
   "metadata": {},
   "source": [
    "## RELIEFF"
   ]
  },
  {
   "cell_type": "code",
   "execution_count": null,
   "id": "258f3591",
   "metadata": {},
   "outputs": [],
   "source": [
    "n_neighbors = 100\n",
    "models_rf, results_rf, num_sel_feat_rf, features_rf = fs_relieff(X_train, y_train, X_val, y_val, X_train_norm, X_val_norm, True, n_neighbors)"
   ]
  },
  {
   "cell_type": "code",
   "execution_count": null,
   "id": "db6bcc95",
   "metadata": {},
   "outputs": [],
   "source": [
    "mcc_rf, auc_rf = plot_classification_metrics(results_rf, X_train, \"RelieFf\")"
   ]
  },
  {
   "cell_type": "code",
   "execution_count": null,
   "id": "b7abd443",
   "metadata": {},
   "outputs": [],
   "source": [
    "# Take selected features by RelieFf\n",
    "selected_features_rf = features_rf[np.argmax(mcc_rf)]"
   ]
  },
  {
   "cell_type": "code",
   "execution_count": null,
   "id": "b6dcc8fa",
   "metadata": {},
   "outputs": [],
   "source": [
    "# Hyperparameter optimisation post relief feature selection\n",
    "rnd_models_rf, metrics_rnd_rf = apply_randsearch(X_train[selected_features_rf]\n",
    "                                                        , y_train                                                       \n",
    "                                                        , X_val[selected_features_rf]\n",
    "                                                        , y_val\n",
    "                                                        , True\n",
    "                                                        , X_train_norm[selected_features_rf]\n",
    "                                                        , X_val_norm[selected_features_rf])"
   ]
  },
  {
   "cell_type": "markdown",
   "id": "a018e13f",
   "metadata": {},
   "source": [
    "## MIC"
   ]
  },
  {
   "cell_type": "code",
   "execution_count": null,
   "id": "af3d8c7d",
   "metadata": {},
   "outputs": [],
   "source": [
    "models_mic, results_mic, num_sel_feat_mic, features_mic = fs_score_fn(X_train, y_train, X_val, y_val, X_train_norm, X_val_norm, True, mutual_info_classif)"
   ]
  },
  {
   "cell_type": "code",
   "execution_count": null,
   "id": "e6cd46e2",
   "metadata": {},
   "outputs": [],
   "source": [
    "mcc_mic, auc_mic = plot_classification_metrics(results_mic, X_train, \"Mutual Info Classification\")"
   ]
  },
  {
   "cell_type": "code",
   "execution_count": null,
   "id": "f6d272a7",
   "metadata": {},
   "outputs": [],
   "source": [
    "selected_features_mic = features_mic[np.argmax(mcc_mic)]"
   ]
  },
  {
   "cell_type": "code",
   "execution_count": null,
   "id": "7f8007ce",
   "metadata": {},
   "outputs": [],
   "source": [
    "# Hyperparameter optimisation post mutual info classification feature selection\n",
    "rnd_models_mic, metrics_rnd_mic = apply_randsearch(X_train[selected_features_mic]\n",
    "                                                        , y_train                                                       \n",
    "                                                        , X_val[selected_features_mic]\n",
    "                                                        , y_val\n",
    "                                                        , True\n",
    "                                                        , X_train_norm[selected_features_mic]\n",
    "                                                        , X_val_norm[selected_features_mic])"
   ]
  }
 ],
 "metadata": {
  "kernelspec": {
   "display_name": "Python 3 (ipykernel)",
   "language": "python",
   "name": "python3"
  },
  "language_info": {
   "codemirror_mode": {
    "name": "ipython",
    "version": 3
   },
   "file_extension": ".py",
   "mimetype": "text/x-python",
   "name": "python",
   "nbconvert_exporter": "python",
   "pygments_lexer": "ipython3",
   "version": "3.9.7"
  }
 },
 "nbformat": 4,
 "nbformat_minor": 5
}
