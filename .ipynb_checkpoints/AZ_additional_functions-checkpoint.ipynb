{
 "cells": [
  {
   "cell_type": "code",
   "execution_count": 23,
   "id": "accec099",
   "metadata": {
    "scrolled": true
   },
   "outputs": [
    {
     "ename": "XGBoostError",
     "evalue": "XGBoost Library (libxgboost.dylib) could not be loaded.\nLikely causes:\n  * OpenMP runtime is not installed (vcomp140.dll or libgomp-1.dll for Windows, libomp.dylib for Mac OSX, libgomp.so for Linux and other UNIX-like OSes). Mac OSX users: Run `brew install libomp` to install OpenMP runtime.\n  * You are running 32-bit Python on a 64-bit OS\nError message(s): ['dlopen(/Users/acorrochanon/opt/anaconda3/envs/my-rdkit-env/lib/python3.9/site-packages/xgboost/lib/libxgboost.dylib, 6): Library not loaded: /usr/local/opt/libomp/lib/libomp.dylib\\n  Referenced from: /Users/acorrochanon/opt/anaconda3/envs/my-rdkit-env/lib/python3.9/site-packages/xgboost/lib/libxgboost.dylib\\n  Reason: image not found']\n",
     "output_type": "error",
     "traceback": [
      "\u001b[0;31m---------------------------------------------------------------------------\u001b[0m",
      "\u001b[0;31mXGBoostError\u001b[0m                              Traceback (most recent call last)",
      "\u001b[0;32m/var/folders/gv/z7k0kt1s7wx10fl8kbfr15cr0000gn/T/ipykernel_5777/2649097167.py\u001b[0m in \u001b[0;36m<module>\u001b[0;34m\u001b[0m\n\u001b[1;32m      9\u001b[0m \u001b[0;34m\u001b[0m\u001b[0m\n\u001b[1;32m     10\u001b[0m \u001b[0;31m#Models\u001b[0m\u001b[0;34m\u001b[0m\u001b[0;34m\u001b[0m\u001b[0;34m\u001b[0m\u001b[0m\n\u001b[0;32m---> 11\u001b[0;31m \u001b[0;32mimport\u001b[0m \u001b[0mxgboost\u001b[0m\u001b[0;34m\u001b[0m\u001b[0;34m\u001b[0m\u001b[0m\n\u001b[0m\u001b[1;32m     12\u001b[0m \u001b[0;32mfrom\u001b[0m \u001b[0msklearn\u001b[0m\u001b[0;34m.\u001b[0m\u001b[0mlinear_model\u001b[0m \u001b[0;32mimport\u001b[0m \u001b[0mLinearRegression\u001b[0m\u001b[0;34m\u001b[0m\u001b[0;34m\u001b[0m\u001b[0m\n\u001b[1;32m     13\u001b[0m \u001b[0;32mfrom\u001b[0m \u001b[0msklearn\u001b[0m\u001b[0;34m.\u001b[0m\u001b[0mensemble\u001b[0m \u001b[0;32mimport\u001b[0m \u001b[0mRandomForestRegressor\u001b[0m\u001b[0;34m\u001b[0m\u001b[0;34m\u001b[0m\u001b[0m\n",
      "\u001b[0;32m~/opt/anaconda3/envs/my-rdkit-env/lib/python3.9/site-packages/xgboost/__init__.py\u001b[0m in \u001b[0;36m<module>\u001b[0;34m\u001b[0m\n\u001b[1;32m      7\u001b[0m \u001b[0;32mimport\u001b[0m \u001b[0mos\u001b[0m\u001b[0;34m\u001b[0m\u001b[0;34m\u001b[0m\u001b[0m\n\u001b[1;32m      8\u001b[0m \u001b[0;34m\u001b[0m\u001b[0m\n\u001b[0;32m----> 9\u001b[0;31m \u001b[0;32mfrom\u001b[0m \u001b[0;34m.\u001b[0m\u001b[0mcore\u001b[0m \u001b[0;32mimport\u001b[0m \u001b[0mDMatrix\u001b[0m\u001b[0;34m,\u001b[0m \u001b[0mDeviceQuantileDMatrix\u001b[0m\u001b[0;34m,\u001b[0m \u001b[0mBooster\u001b[0m\u001b[0;34m\u001b[0m\u001b[0;34m\u001b[0m\u001b[0m\n\u001b[0m\u001b[1;32m     10\u001b[0m \u001b[0;32mfrom\u001b[0m \u001b[0;34m.\u001b[0m\u001b[0mtraining\u001b[0m \u001b[0;32mimport\u001b[0m \u001b[0mtrain\u001b[0m\u001b[0;34m,\u001b[0m \u001b[0mcv\u001b[0m\u001b[0;34m\u001b[0m\u001b[0;34m\u001b[0m\u001b[0m\n\u001b[1;32m     11\u001b[0m \u001b[0;32mfrom\u001b[0m \u001b[0;34m.\u001b[0m \u001b[0;32mimport\u001b[0m \u001b[0mrabit\u001b[0m  \u001b[0;31m# noqa\u001b[0m\u001b[0;34m\u001b[0m\u001b[0;34m\u001b[0m\u001b[0m\n",
      "\u001b[0;32m~/opt/anaconda3/envs/my-rdkit-env/lib/python3.9/site-packages/xgboost/core.py\u001b[0m in \u001b[0;36m<module>\u001b[0;34m\u001b[0m\n\u001b[1;32m    193\u001b[0m \u001b[0;34m\u001b[0m\u001b[0m\n\u001b[1;32m    194\u001b[0m \u001b[0;31m# load the XGBoost library globally\u001b[0m\u001b[0;34m\u001b[0m\u001b[0;34m\u001b[0m\u001b[0;34m\u001b[0m\u001b[0m\n\u001b[0;32m--> 195\u001b[0;31m \u001b[0m_LIB\u001b[0m \u001b[0;34m=\u001b[0m \u001b[0m_load_lib\u001b[0m\u001b[0;34m(\u001b[0m\u001b[0;34m)\u001b[0m\u001b[0;34m\u001b[0m\u001b[0;34m\u001b[0m\u001b[0m\n\u001b[0m\u001b[1;32m    196\u001b[0m \u001b[0;34m\u001b[0m\u001b[0m\n\u001b[1;32m    197\u001b[0m \u001b[0;34m\u001b[0m\u001b[0m\n",
      "\u001b[0;32m~/opt/anaconda3/envs/my-rdkit-env/lib/python3.9/site-packages/xgboost/core.py\u001b[0m in \u001b[0;36m_load_lib\u001b[0;34m()\u001b[0m\n\u001b[1;32m    176\u001b[0m     \u001b[0;32mif\u001b[0m \u001b[0;32mnot\u001b[0m \u001b[0mlib_success\u001b[0m\u001b[0;34m:\u001b[0m\u001b[0;34m\u001b[0m\u001b[0;34m\u001b[0m\u001b[0m\n\u001b[1;32m    177\u001b[0m         \u001b[0mlibname\u001b[0m \u001b[0;34m=\u001b[0m \u001b[0mos\u001b[0m\u001b[0;34m.\u001b[0m\u001b[0mpath\u001b[0m\u001b[0;34m.\u001b[0m\u001b[0mbasename\u001b[0m\u001b[0;34m(\u001b[0m\u001b[0mlib_paths\u001b[0m\u001b[0;34m[\u001b[0m\u001b[0;36m0\u001b[0m\u001b[0;34m]\u001b[0m\u001b[0;34m)\u001b[0m\u001b[0;34m\u001b[0m\u001b[0;34m\u001b[0m\u001b[0m\n\u001b[0;32m--> 178\u001b[0;31m         raise XGBoostError(\n\u001b[0m\u001b[1;32m    179\u001b[0m             \u001b[0;34m'XGBoost Library ({}) could not be loaded.\\n'\u001b[0m\u001b[0;34m.\u001b[0m\u001b[0mformat\u001b[0m\u001b[0;34m(\u001b[0m\u001b[0mlibname\u001b[0m\u001b[0;34m)\u001b[0m \u001b[0;34m+\u001b[0m\u001b[0;34m\u001b[0m\u001b[0;34m\u001b[0m\u001b[0m\n\u001b[1;32m    180\u001b[0m             \u001b[0;34m'Likely causes:\\n'\u001b[0m \u001b[0;34m+\u001b[0m\u001b[0;34m\u001b[0m\u001b[0;34m\u001b[0m\u001b[0m\n",
      "\u001b[0;31mXGBoostError\u001b[0m: XGBoost Library (libxgboost.dylib) could not be loaded.\nLikely causes:\n  * OpenMP runtime is not installed (vcomp140.dll or libgomp-1.dll for Windows, libomp.dylib for Mac OSX, libgomp.so for Linux and other UNIX-like OSes). Mac OSX users: Run `brew install libomp` to install OpenMP runtime.\n  * You are running 32-bit Python on a 64-bit OS\nError message(s): ['dlopen(/Users/acorrochanon/opt/anaconda3/envs/my-rdkit-env/lib/python3.9/site-packages/xgboost/lib/libxgboost.dylib, 6): Library not loaded: /usr/local/opt/libomp/lib/libomp.dylib\\n  Referenced from: /Users/acorrochanon/opt/anaconda3/envs/my-rdkit-env/lib/python3.9/site-packages/xgboost/lib/libxgboost.dylib\\n  Reason: image not found']\n"
     ]
    }
   ],
   "source": [
    "# Common use \n",
    "import numpy as np \n",
    "import matplotlib.pyplot as plt \n",
    "import seaborn as sns\n",
    "\n",
    "#Metrics\n",
    "import sklearn.metrics as metrics\n",
    "from sklearn.preprocessing import StandardScaler\n",
    "\n",
    "#Models\n",
    "import xgboost\n",
    "from sklearn.linear_model import LinearRegression\n",
    "from sklearn.ensemble import RandomForestRegressor\n",
    "from sklearn.tree import DecisionTreeRegressor\n",
    "from sklearn.svm import SVR"
   ]
  },
  {
   "cell_type": "markdown",
   "id": "fd1848a2",
   "metadata": {},
   "source": [
    "## Visualization methods"
   ]
  },
  {
   "cell_type": "code",
   "execution_count": 10,
   "id": "cc3d8644",
   "metadata": {},
   "outputs": [],
   "source": [
    "# Compute regression metrics \n",
    "def plot_regression_metrics(model_name, y_true, y_pred, mode = 0):\n",
    "    \n",
    "    # Compute metrics \n",
    "    r2 = metrics.r2_score(y_true, y_pred)\n",
    "    mae = metrics.mean_absolute_error(y_true, y_pred)\n",
    "    mse = metrics.mean_squared_error(y_true, y_pred)\n",
    "    \n",
    "    # Mode to 1 displays r-squared plots\n",
    "    if mode == 1: \n",
    "        plt.figure(figsize=(10, 5), dpi = 95)\n",
    "\n",
    "        plt.scatter(y_true, y_pred, color='salmon', s=5)\n",
    "        plt.plot(np.unique(y_true), np.poly1d(np.polyfit(y_true, y_pred, 1))(np.unique(y_true)), color='black')\n",
    "\n",
    "        plt.text(0, 3.5,'R-squared = %0.2f' % r2)\n",
    "        plt.xlabel('Actual values')\n",
    "        plt.ylabel('Predicted Values')\n",
    "        plt.title('Prediction results using {}'.format(model_name))\n",
    "        plt.show()\n",
    "    \n",
    "    print(model_name,'| R2: %0.3f, MAE: %0.3f, MSE: %0.3f' %(r2, mae, mse))\n",
    "        \n",
    "    return r2, mae, mse "
   ]
  },
  {
   "cell_type": "code",
   "execution_count": 22,
   "id": "16e581ab",
   "metadata": {},
   "outputs": [],
   "source": [
    "def models_comparison(names, met):\n",
    "    sns.set(font_scale = 1)\n",
    "    # set width of bar\n",
    "    barWidth = 0.25\n",
    "    plt.figure(figsize=(8, 4), dpi = 95)\n",
    "\n",
    "    # set height of bar\n",
    "    R2 = [i[0] for i in met]\n",
    "    MAE = [i[1] for i in met]\n",
    "    MSE = [i[2] for i in met]\n",
    "\n",
    "    # Set position of bar on X axis\n",
    "    br1 = np.arange(len(R2))\n",
    "    br2 = [x + barWidth for x in br1]\n",
    "    br3 = [x + barWidth for x in br2]\n",
    "\n",
    "    # Make the plot\n",
    "    plt.bar(br1, R2, color ='r', width = barWidth,\n",
    "            edgecolor ='grey', label ='R2')\n",
    "    plt.bar(br2, MAE, color ='g', width = barWidth,\n",
    "            edgecolor ='grey', label ='MAE')\n",
    "    plt.bar(br3, MSE, color ='b', width = barWidth,\n",
    "            edgecolor ='grey', label ='MSE')\n",
    "\n",
    "    # Adding Xticks\n",
    "    plt.xlabel('Models', fontweight ='bold', fontsize = 15)\n",
    "    plt.ylabel('Metrics', fontweight ='bold', fontsize = 15)\n",
    "    plt.xticks([r + barWidth for r in range(len(R2))],\n",
    "            [name for name in names])\n",
    "    plt.legend()\n",
    "    plt.title('Metrics obtained for each regression model')\n",
    "    \n",
    "    plt.show()"
   ]
  },
  {
   "cell_type": "code",
   "execution_count": null,
   "id": "031206bc",
   "metadata": {},
   "outputs": [],
   "source": [
    "#We visualize the distributions of the columns that contain NaN values in order to decide which value should be replaced with\n",
    "\n",
    "# import matplotlib.pyplot as plt \n",
    "\n",
    "# fig, axs = plt.subplots(4, 3, figsize=(15,15))\n",
    "# fig.tight_layout()\n",
    "\n",
    "# def iterate_columns(cols, counter):\n",
    "#     for ind, col in enumerate(cols):\n",
    "#         col.hist(df[nan_cols[ind+counter]])\n",
    "#         col.axvline(df[nan_cols[ind+counter]].mean(), color='k', linestyle='dashed', linewidth=1, label='Mean')\n",
    "#         col.axvline(df[nan_cols[ind+counter]].median(), color='r', linestyle='dashed', linewidth=1, label='Median')\n",
    "#         col.legend()\n",
    "#         col.set_title(nan_cols[ind+counter])\n",
    "\n",
    "# counter = [0,3,6,9]\n",
    "# aux = 0\n",
    "# for row in axs:\n",
    "#     iterate_columns(row, counter[aux])\n",
    "#     aux += 1\n",
    "\n",
    "# plt.show()"
   ]
  },
  {
   "cell_type": "markdown",
   "id": "5cf620c6",
   "metadata": {},
   "source": [
    "## Computation methods"
   ]
  },
  {
   "cell_type": "code",
   "execution_count": null,
   "id": "c8a09b40",
   "metadata": {},
   "outputs": [],
   "source": [
    "# Save the model \n",
    "# joblib.dump(rf_lipo_baseline, 'rf_lipo_baseline.pkl')\n",
    "\n",
    "# Loading model\n",
    "# rf_model = joblib.load('rf_lipo_baseline.pkl')"
   ]
  },
  {
   "cell_type": "code",
   "execution_count": 21,
   "id": "0f4c6ac1",
   "metadata": {},
   "outputs": [],
   "source": [
    "def normalize_data(X_train, X_val, X_test):\n",
    "    scaler = StandardScaler()\n",
    "    \n",
    "    X_train_norm = scaler.fit_transform(X_train)\n",
    "    X_val_norm = scaler.transform(X_val)\n",
    "    X_test_norm = scaler.transform(X_test)\n",
    "    \n",
    "    return X_train_norm, X_val_norm, X_test_norm"
   ]
  },
  {
   "cell_type": "code",
   "execution_count": 19,
   "id": "8f7643a5",
   "metadata": {},
   "outputs": [],
   "source": [
    "def reg_models_comparison(X_train, X_train_norm, y_train, X_val, X_val_norm, y_val):\n",
    "    models = [('LR', LinearRegression()), \n",
    "              ('RFR', RandomForestRegressor()), \n",
    "              ('DTR', DecisionTreeRegressor()),\n",
    "              ('SVM', SVR()),\n",
    "              \n",
    "             ]\n",
    "\n",
    "    names = []\n",
    "    results = []\n",
    "\n",
    "    for name, model in models:\n",
    "        # If the model is linear we then use linear data\n",
    "        if name == 'LR' or name == 'SVM':\n",
    "            clf = model.fit(X_train_norm, y_train)\n",
    "            y_pred = clf.predict(X_val_norm)\n",
    "        else:\n",
    "            clf = model.fit(X_train, y_train)\n",
    "            y_pred = clf.predict(X_val)\n",
    "\n",
    "        # Compute metrics \n",
    "        r2, mae, mse = plot_regression_metrics(name, y_val, y_pred)\n",
    "\n",
    "        # Save values to later plot them\n",
    "        names.append(name)\n",
    "        results.append([r2, mae, mse])\n",
    "        \n",
    "    # We plot the metrics obtained for each model\n",
    "    models_comparison(names, results)"
   ]
  }
 ],
 "metadata": {
  "kernelspec": {
   "display_name": "Python 3 (ipykernel)",
   "language": "python",
   "name": "python3"
  },
  "language_info": {
   "codemirror_mode": {
    "name": "ipython",
    "version": 3
   },
   "file_extension": ".py",
   "mimetype": "text/x-python",
   "name": "python",
   "nbconvert_exporter": "python",
   "pygments_lexer": "ipython3",
   "version": "3.9.6"
  }
 },
 "nbformat": 4,
 "nbformat_minor": 5
}
