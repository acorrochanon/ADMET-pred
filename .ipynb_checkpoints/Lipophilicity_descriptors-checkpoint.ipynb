{
 "cells": [
  {
   "cell_type": "markdown",
   "id": "816443d7",
   "metadata": {},
   "source": [
    "# Benchmarking feature selection algorithms in the molecular property prediction space: Lipophilicity\n",
    "\n",
    "Lipophilicity measures the ability of a drug to dissolve in a lipid (e.g. fats, oils) environment. High lipophilicity often leads to high rate of metabolism, poor solubility, high turn-over, and low absorption\n",
    "\n",
    "*Alejandro Corrochano's contribution to the final project.* "
   ]
  },
  {
   "cell_type": "code",
   "execution_count": 1,
   "id": "7373a1ff",
   "metadata": {},
   "outputs": [],
   "source": [
    "# Datasets\n",
    "from tdc.single_pred import ADME\n",
    "\n",
    "# Additional functions in a separate ipynb file\n",
    "from ipynb.fs.full.AZ_additional_functions import *\n",
    "\n",
    "# General use \n",
    "import pandas as pd\n",
    "import numpy as np\n",
    "import seaborn as sns\n",
    "import matplotlib.pyplot as plt \n",
    "\n",
    "#Save and load models\n",
    "import joblib\n",
    "\n",
    "#Metrics \n",
    "import sklearn.metrics as metrics\n",
    "\n",
    "# RDkit\n",
    "from rdkit import Chem\n",
    "from rdkit import DataStructs\n",
    "from rdkit.Chem import AllChem\n",
    "from rdkit.Chem import Descriptors\n",
    "from rdkit.ML.Descriptors.MoleculeDescriptors import MolecularDescriptorCalculator\n",
    "\n",
    "# Standardizing\n",
    "from molvs import standardize_smiles"
   ]
  },
  {
   "cell_type": "code",
   "execution_count": 2,
   "id": "ab9d917b",
   "metadata": {},
   "outputs": [
    {
     "name": "stderr",
     "output_type": "stream",
     "text": [
      "Found local copy...\n",
      "Loading...\n",
      "Done!\n"
     ]
    }
   ],
   "source": [
    "data = ADME(name = 'Lipophilicity_AstraZeneca')\n",
    "#DF contains the whole dataset stored in a Pandas dataframe format \n",
    "df = data.get_data()\n",
    "#Get_split divides the dataset into 3 different sets (Train, validation, test)\n",
    "split_LIPO = data.get_split()"
   ]
  },
  {
   "cell_type": "code",
   "execution_count": 3,
   "id": "37c7e3c9",
   "metadata": {
    "scrolled": false
   },
   "outputs": [
    {
     "name": "stdout",
     "output_type": "stream",
     "text": [
      "Total number of molecules: 4200\n",
      "Train set: 2940 - 70.0%\n",
      "Validation set: 420 - 10.0%\n",
      "Test set: 840 - 20.0%\n"
     ]
    },
    {
     "data": {
      "text/html": [
       "<div>\n",
       "<style scoped>\n",
       "    .dataframe tbody tr th:only-of-type {\n",
       "        vertical-align: middle;\n",
       "    }\n",
       "\n",
       "    .dataframe tbody tr th {\n",
       "        vertical-align: top;\n",
       "    }\n",
       "\n",
       "    .dataframe thead th {\n",
       "        text-align: right;\n",
       "    }\n",
       "</style>\n",
       "<table border=\"1\" class=\"dataframe\">\n",
       "  <thead>\n",
       "    <tr style=\"text-align: right;\">\n",
       "      <th></th>\n",
       "      <th>Drug_ID</th>\n",
       "      <th>Drug</th>\n",
       "      <th>Y</th>\n",
       "    </tr>\n",
       "  </thead>\n",
       "  <tbody>\n",
       "    <tr>\n",
       "      <th>0</th>\n",
       "      <td>CHEMBL596271</td>\n",
       "      <td>Cn1c(CN2CCN(c3ccc(Cl)cc3)CC2)nc2ccccc21</td>\n",
       "      <td>3.54</td>\n",
       "    </tr>\n",
       "    <tr>\n",
       "      <th>1</th>\n",
       "      <td>CHEMBL1951080</td>\n",
       "      <td>COc1cc(OC)c(S(=O)(=O)N2c3ccccc3CCC2C)cc1NC(=O)...</td>\n",
       "      <td>-1.18</td>\n",
       "    </tr>\n",
       "    <tr>\n",
       "      <th>2</th>\n",
       "      <td>CHEMBL1771</td>\n",
       "      <td>COC(=O)[C@H](c1ccccc1Cl)N1CCc2sccc2C1</td>\n",
       "      <td>3.69</td>\n",
       "    </tr>\n",
       "    <tr>\n",
       "      <th>3</th>\n",
       "      <td>CHEMBL317462</td>\n",
       "      <td>OC1(C#Cc2ccc(-c3ccccc3)cc2)CN2CCC1CC2</td>\n",
       "      <td>3.14</td>\n",
       "    </tr>\n",
       "    <tr>\n",
       "      <th>4</th>\n",
       "      <td>CHEMBL1940306</td>\n",
       "      <td>CS(=O)(=O)c1ccc(Oc2ccc(C#C[C@]3(O)CN4CCC3CC4)c...</td>\n",
       "      <td>1.51</td>\n",
       "    </tr>\n",
       "  </tbody>\n",
       "</table>\n",
       "</div>"
      ],
      "text/plain": [
       "         Drug_ID                                               Drug     Y\n",
       "0   CHEMBL596271            Cn1c(CN2CCN(c3ccc(Cl)cc3)CC2)nc2ccccc21  3.54\n",
       "1  CHEMBL1951080  COc1cc(OC)c(S(=O)(=O)N2c3ccccc3CCC2C)cc1NC(=O)... -1.18\n",
       "2     CHEMBL1771              COC(=O)[C@H](c1ccccc1Cl)N1CCc2sccc2C1  3.69\n",
       "3   CHEMBL317462              OC1(C#Cc2ccc(-c3ccccc3)cc2)CN2CCC1CC2  3.14\n",
       "4  CHEMBL1940306  CS(=O)(=O)c1ccc(Oc2ccc(C#C[C@]3(O)CN4CCC3CC4)c...  1.51"
      ]
     },
     "metadata": {},
     "output_type": "display_data"
    }
   ],
   "source": [
    "data_overview(df, split_LIPO)"
   ]
  },
  {
   "cell_type": "code",
   "execution_count": 4,
   "id": "5387e4c6",
   "metadata": {},
   "outputs": [
    {
     "name": "stdout",
     "output_type": "stream",
     "text": [
      "Number of compounds modified: 1\n"
     ]
    }
   ],
   "source": [
    "# Remove fragments of compounds that may contain them\n",
    "frag_compounds = [comp for comp in df['Drug'] if len(comp.split('.')) > 1]\n",
    "for ind, c in enumerate(frag_compounds):\n",
    "    df.loc[df.Drug == frag_compounds[ind], 'Drug'] = frag_compounds[ind].split('.')[0]\n",
    "\n",
    "print('Number of compounds modified: {}'.format(len(frag_compounds)))"
   ]
  },
  {
   "cell_type": "code",
   "execution_count": 5,
   "id": "3966062d",
   "metadata": {},
   "outputs": [
    {
     "name": "stdout",
     "output_type": "stream",
     "text": [
      "Duplicated compounds and with less than 5 heavy atoms have been removed.\n",
      "New number of compounds: 4200 (0)\n"
     ]
    }
   ],
   "source": [
    "# Duplicates and compounds with less than 5 heavy atoms removal\n",
    "df = remove_ha_duplicates(df)"
   ]
  },
  {
   "cell_type": "markdown",
   "id": "d436e8f5",
   "metadata": {},
   "source": [
    "### Descriptors\n",
    "Contain numerical information regarding the molecule "
   ]
  },
  {
   "cell_type": "code",
   "execution_count": 6,
   "id": "4ea8432e",
   "metadata": {},
   "outputs": [
    {
     "name": "stdout",
     "output_type": "stream",
     "text": [
      "Calculator initialized. Total number of descriptors: 208\n"
     ]
    }
   ],
   "source": [
    "descList = [i for i,j in Descriptors.descList]\n",
    "#Molecular descriptor calculator\n",
    "calculator = MolecularDescriptorCalculator(descList)\n",
    "print('Calculator initialized. Total number of descriptors:', len(descList))"
   ]
  },
  {
   "cell_type": "code",
   "execution_count": 7,
   "id": "f42033cf",
   "metadata": {},
   "outputs": [
    {
     "name": "stdout",
     "output_type": "stream",
     "text": [
      "Actual shape of the Dataframe: (4200, 211)\n"
     ]
    }
   ],
   "source": [
    "# Standardize the molecules \n",
    "df['Drug'] = [standardize_smiles(smi) for smi in df['Drug']]\n",
    "\n",
    "# Generate a list of lists where each row corresponds to a molecule and each column to a descriptor (transpose step required)\n",
    "c = [calculator.CalcDescriptors(Chem.MolFromSmiles(smi)) for smi in df['Drug']]\n",
    "\n",
    "# Convert it into a numpy array and transpose it so the columns represent the descriptors\n",
    "c = np.asarray(c).transpose()\n",
    "\n",
    "# Append all the descriptors to the DF\n",
    "for i, descriptor in enumerate(descList):\n",
    "    df[descriptor] = c[i]\n",
    "    \n",
    "#We move the target (lipophilicity value) to the end\n",
    "temp = df.pop('Y') # remove column b and store it in df1\n",
    "df['Y'] = temp\n",
    "\n",
    "print('Actual shape of the Dataframe:', df.shape)"
   ]
  },
  {
   "cell_type": "code",
   "execution_count": 8,
   "id": "6d9e1c9f",
   "metadata": {
    "scrolled": true
   },
   "outputs": [
    {
     "data": {
      "text/html": [
       "<div>\n",
       "<style scoped>\n",
       "    .dataframe tbody tr th:only-of-type {\n",
       "        vertical-align: middle;\n",
       "    }\n",
       "\n",
       "    .dataframe tbody tr th {\n",
       "        vertical-align: top;\n",
       "    }\n",
       "\n",
       "    .dataframe thead th {\n",
       "        text-align: right;\n",
       "    }\n",
       "</style>\n",
       "<table border=\"1\" class=\"dataframe\">\n",
       "  <thead>\n",
       "    <tr style=\"text-align: right;\">\n",
       "      <th></th>\n",
       "      <th>Drug_ID</th>\n",
       "      <th>Drug</th>\n",
       "      <th>MaxEStateIndex</th>\n",
       "      <th>MinEStateIndex</th>\n",
       "      <th>MaxAbsEStateIndex</th>\n",
       "      <th>MinAbsEStateIndex</th>\n",
       "      <th>qed</th>\n",
       "      <th>MolWt</th>\n",
       "      <th>HeavyAtomMolWt</th>\n",
       "      <th>ExactMolWt</th>\n",
       "      <th>...</th>\n",
       "      <th>fr_sulfonamd</th>\n",
       "      <th>fr_sulfone</th>\n",
       "      <th>fr_term_acetylene</th>\n",
       "      <th>fr_tetrazole</th>\n",
       "      <th>fr_thiazole</th>\n",
       "      <th>fr_thiocyan</th>\n",
       "      <th>fr_thiophene</th>\n",
       "      <th>fr_unbrch_alkane</th>\n",
       "      <th>fr_urea</th>\n",
       "      <th>Y</th>\n",
       "    </tr>\n",
       "  </thead>\n",
       "  <tbody>\n",
       "    <tr>\n",
       "      <th>0</th>\n",
       "      <td>CHEMBL596271</td>\n",
       "      <td>Cn1c(CN2CCN(c3ccc(Cl)cc3)CC2)nc2ccccc21</td>\n",
       "      <td>5.976320</td>\n",
       "      <td>0.790958</td>\n",
       "      <td>5.976320</td>\n",
       "      <td>0.790958</td>\n",
       "      <td>0.728444</td>\n",
       "      <td>340.858</td>\n",
       "      <td>319.690</td>\n",
       "      <td>340.145474</td>\n",
       "      <td>...</td>\n",
       "      <td>0.0</td>\n",
       "      <td>0.0</td>\n",
       "      <td>0.0</td>\n",
       "      <td>0.0</td>\n",
       "      <td>0.0</td>\n",
       "      <td>0.0</td>\n",
       "      <td>0.0</td>\n",
       "      <td>0.0</td>\n",
       "      <td>0.0</td>\n",
       "      <td>3.54</td>\n",
       "    </tr>\n",
       "    <tr>\n",
       "      <th>1</th>\n",
       "      <td>CHEMBL1951080</td>\n",
       "      <td>COc1cc(OC)c(S(=O)(=O)N2c3ccccc3CCC2C)cc1NC(=O)...</td>\n",
       "      <td>13.847757</td>\n",
       "      <td>-4.060285</td>\n",
       "      <td>13.847757</td>\n",
       "      <td>0.083663</td>\n",
       "      <td>0.545587</td>\n",
       "      <td>494.591</td>\n",
       "      <td>468.383</td>\n",
       "      <td>494.118143</td>\n",
       "      <td>...</td>\n",
       "      <td>1.0</td>\n",
       "      <td>0.0</td>\n",
       "      <td>0.0</td>\n",
       "      <td>0.0</td>\n",
       "      <td>0.0</td>\n",
       "      <td>0.0</td>\n",
       "      <td>0.0</td>\n",
       "      <td>0.0</td>\n",
       "      <td>0.0</td>\n",
       "      <td>-1.18</td>\n",
       "    </tr>\n",
       "    <tr>\n",
       "      <th>2</th>\n",
       "      <td>CHEMBL1771</td>\n",
       "      <td>COC(=O)[C@H](c1ccccc1Cl)N1CCc2sccc2C1</td>\n",
       "      <td>12.294248</td>\n",
       "      <td>-0.447454</td>\n",
       "      <td>12.294248</td>\n",
       "      <td>0.262241</td>\n",
       "      <td>0.807761</td>\n",
       "      <td>321.829</td>\n",
       "      <td>305.701</td>\n",
       "      <td>321.059027</td>\n",
       "      <td>...</td>\n",
       "      <td>0.0</td>\n",
       "      <td>0.0</td>\n",
       "      <td>0.0</td>\n",
       "      <td>0.0</td>\n",
       "      <td>0.0</td>\n",
       "      <td>0.0</td>\n",
       "      <td>1.0</td>\n",
       "      <td>0.0</td>\n",
       "      <td>0.0</td>\n",
       "      <td>3.69</td>\n",
       "    </tr>\n",
       "    <tr>\n",
       "      <th>3</th>\n",
       "      <td>CHEMBL234951</td>\n",
       "      <td>O=C(NC1Cc2ccccc2N(C[C@@H](O)CO)C1=O)c1cc2cc(Cl...</td>\n",
       "      <td>12.966133</td>\n",
       "      <td>-1.063518</td>\n",
       "      <td>12.966133</td>\n",
       "      <td>0.046181</td>\n",
       "      <td>0.506650</td>\n",
       "      <td>419.890</td>\n",
       "      <td>401.746</td>\n",
       "      <td>419.070655</td>\n",
       "      <td>...</td>\n",
       "      <td>0.0</td>\n",
       "      <td>0.0</td>\n",
       "      <td>0.0</td>\n",
       "      <td>0.0</td>\n",
       "      <td>0.0</td>\n",
       "      <td>0.0</td>\n",
       "      <td>1.0</td>\n",
       "      <td>0.0</td>\n",
       "      <td>0.0</td>\n",
       "      <td>3.37</td>\n",
       "    </tr>\n",
       "    <tr>\n",
       "      <th>4</th>\n",
       "      <td>CHEMBL565079</td>\n",
       "      <td>Cc1cccc(C[C@H](NC(=O)c2cc(C(C)(C)C)nn2C)C(=O)N...</td>\n",
       "      <td>12.834652</td>\n",
       "      <td>-0.795707</td>\n",
       "      <td>12.834652</td>\n",
       "      <td>0.112199</td>\n",
       "      <td>0.747686</td>\n",
       "      <td>381.480</td>\n",
       "      <td>354.264</td>\n",
       "      <td>381.216475</td>\n",
       "      <td>...</td>\n",
       "      <td>0.0</td>\n",
       "      <td>0.0</td>\n",
       "      <td>0.0</td>\n",
       "      <td>0.0</td>\n",
       "      <td>0.0</td>\n",
       "      <td>0.0</td>\n",
       "      <td>0.0</td>\n",
       "      <td>0.0</td>\n",
       "      <td>0.0</td>\n",
       "      <td>3.10</td>\n",
       "    </tr>\n",
       "  </tbody>\n",
       "</table>\n",
       "<p>5 rows × 211 columns</p>\n",
       "</div>"
      ],
      "text/plain": [
       "         Drug_ID                                               Drug  \\\n",
       "0   CHEMBL596271            Cn1c(CN2CCN(c3ccc(Cl)cc3)CC2)nc2ccccc21   \n",
       "1  CHEMBL1951080  COc1cc(OC)c(S(=O)(=O)N2c3ccccc3CCC2C)cc1NC(=O)...   \n",
       "2     CHEMBL1771              COC(=O)[C@H](c1ccccc1Cl)N1CCc2sccc2C1   \n",
       "3   CHEMBL234951  O=C(NC1Cc2ccccc2N(C[C@@H](O)CO)C1=O)c1cc2cc(Cl...   \n",
       "4   CHEMBL565079  Cc1cccc(C[C@H](NC(=O)c2cc(C(C)(C)C)nn2C)C(=O)N...   \n",
       "\n",
       "   MaxEStateIndex  MinEStateIndex  MaxAbsEStateIndex  MinAbsEStateIndex  \\\n",
       "0        5.976320        0.790958           5.976320           0.790958   \n",
       "1       13.847757       -4.060285          13.847757           0.083663   \n",
       "2       12.294248       -0.447454          12.294248           0.262241   \n",
       "3       12.966133       -1.063518          12.966133           0.046181   \n",
       "4       12.834652       -0.795707          12.834652           0.112199   \n",
       "\n",
       "        qed    MolWt  HeavyAtomMolWt  ExactMolWt  ...  fr_sulfonamd  \\\n",
       "0  0.728444  340.858         319.690  340.145474  ...           0.0   \n",
       "1  0.545587  494.591         468.383  494.118143  ...           1.0   \n",
       "2  0.807761  321.829         305.701  321.059027  ...           0.0   \n",
       "3  0.506650  419.890         401.746  419.070655  ...           0.0   \n",
       "4  0.747686  381.480         354.264  381.216475  ...           0.0   \n",
       "\n",
       "   fr_sulfone  fr_term_acetylene  fr_tetrazole  fr_thiazole  fr_thiocyan  \\\n",
       "0         0.0                0.0           0.0          0.0          0.0   \n",
       "1         0.0                0.0           0.0          0.0          0.0   \n",
       "2         0.0                0.0           0.0          0.0          0.0   \n",
       "3         0.0                0.0           0.0          0.0          0.0   \n",
       "4         0.0                0.0           0.0          0.0          0.0   \n",
       "\n",
       "   fr_thiophene  fr_unbrch_alkane  fr_urea     Y  \n",
       "0           0.0               0.0      0.0  3.54  \n",
       "1           0.0               0.0      0.0 -1.18  \n",
       "2           1.0               0.0      0.0  3.69  \n",
       "3           1.0               0.0      0.0  3.37  \n",
       "4           0.0               0.0      0.0  3.10  \n",
       "\n",
       "[5 rows x 211 columns]"
      ]
     },
     "execution_count": 8,
     "metadata": {},
     "output_type": "execute_result"
    }
   ],
   "source": [
    "df.head()"
   ]
  },
  {
   "cell_type": "markdown",
   "id": "bc6aaba1",
   "metadata": {},
   "source": [
    "#### Remove MolLogP and BCUT2D descriptors.\n",
    "It would be counterproductive to use MolLogP as a feature to predict the exact same thing that it represents. Regarding BCUT2D, most of the values are zero hence not relevant"
   ]
  },
  {
   "cell_type": "code",
   "execution_count": 9,
   "id": "283ad34c",
   "metadata": {},
   "outputs": [],
   "source": [
    "df.drop([col for col in df.columns if 'BCUT2D' in col or 'MolLogP' in col], axis = 1, inplace = True)"
   ]
  },
  {
   "cell_type": "markdown",
   "id": "87a87083",
   "metadata": {},
   "source": [
    "### Generate splits, remove NaNs, and normalization"
   ]
  },
  {
   "cell_type": "markdown",
   "id": "10c38ba8",
   "metadata": {},
   "source": [
    "#### Train, validation, and test sets for both Descriptors and fingerprints"
   ]
  },
  {
   "cell_type": "code",
   "execution_count": 10,
   "id": "678450cf",
   "metadata": {
    "scrolled": true
   },
   "outputs": [
    {
     "name": "stdout",
     "output_type": "stream",
     "text": [
      "Data has been split\n"
     ]
    }
   ],
   "source": [
    "X_train, y_train, X_val, y_val, X_test, y_test = train_val_test_split(df, split_LIPO)"
   ]
  },
  {
   "cell_type": "markdown",
   "id": "73e1ff83",
   "metadata": {},
   "source": [
    "#### Remove NaNs values"
   ]
  },
  {
   "cell_type": "code",
   "execution_count": 11,
   "id": "353e7965",
   "metadata": {},
   "outputs": [
    {
     "name": "stdout",
     "output_type": "stream",
     "text": [
      "Removed the following rows in the train set: Int64Index([1561], dtype='int64')\n"
     ]
    }
   ],
   "source": [
    "X_train, y_train, X_val, y_val, X_test, y_test = remove_nans(X_train, X_val, X_test, y_train, y_val, y_test)"
   ]
  },
  {
   "cell_type": "markdown",
   "id": "be40fe2c",
   "metadata": {},
   "source": [
    "#### Data normalization required in linear models"
   ]
  },
  {
   "cell_type": "code",
   "execution_count": 12,
   "id": "d4b32603",
   "metadata": {},
   "outputs": [
    {
     "name": "stdout",
     "output_type": "stream",
     "text": [
      "Data is now normalized.\n"
     ]
    }
   ],
   "source": [
    "X_train_norm, X_val_norm, X_test_norm = normalize_data(X_train, X_val, X_test)"
   ]
  },
  {
   "cell_type": "markdown",
   "id": "36118f81",
   "metadata": {},
   "source": [
    "## Building our baseline models\n",
    "\n",
    "In order to get some initial results, we will now construct a few baseline models where all the features are included without any preprocessing."
   ]
  },
  {
   "cell_type": "markdown",
   "id": "b2ffd7fc",
   "metadata": {},
   "source": [
    "We now compare the metrics obtained for each of the following models:\n",
    "- Linear regression (**LR**)\n",
    "- Random forest regressor (**RFR**)\n",
    "- Decision tree regressor (**DTR**)\n",
    "- Support vector machine (**SVM**)\n",
    "- Multi-layer Perceptron regressor (**MLP**)\n",
    "- XG Boost regressor (**XGB**)"
   ]
  },
  {
   "cell_type": "markdown",
   "id": "60cdad20",
   "metadata": {},
   "source": [
    "#### Descriptors"
   ]
  },
  {
   "cell_type": "code",
   "execution_count": 13,
   "id": "15716834",
   "metadata": {
    "scrolled": false
   },
   "outputs": [
    {
     "name": "stdout",
     "output_type": "stream",
     "text": [
      "LR | R2: 0.606, MAE: 0.589, MSE: 0.586 | Training time: 0.1\n",
      "RFR | R2: 0.605, MAE: 0.578, MSE: 0.589 | Training time: 14.6\n",
      "DTR | R2: 0.257, MAE: 0.761, MSE: 1.106 | Training time: 0.2\n",
      "SVR | R2: 0.683, MAE: 0.506, MSE: 0.472 | Training time: 0.8\n",
      "MLPR | R2: 0.654, MAE: 0.517, MSE: 0.515 | Training time: 3.1\n",
      "XGBR | R2: 0.612, MAE: 0.563, MSE: 0.578 | Training time: 1.4\n"
     ]
    },
    {
     "data": {
      "image/png": "[encoded data removed]",
      "text/plain": [
       "<Figure size 1425x570 with 1 Axes>"
      ]
     },
     "metadata": {},
     "output_type": "display_data"
    }
   ],
   "source": [
    "models, results = models_comparison(X_train, y_train, X_val, y_val, False, True, False, X_train_norm, X_val_norm)"
   ]
  },
  {
   "cell_type": "markdown",
   "id": "c5d4fea4",
   "metadata": {},
   "source": [
    "## 1 - Improving the model: Feature Selection - MRMR\n",
    "\n",
    "Seeks to find a set of features giving the best possible predictive performance based on the reasonable trade-off between relevance and redundancy. "
   ]
  },
  {
   "cell_type": "code",
   "execution_count": 14,
   "id": "42538b13",
   "metadata": {
    "scrolled": true
   },
   "outputs": [
    {
     "name": "stderr",
     "output_type": "stream",
     "text": [
      "100%|██████████████████████████████████████████████████████████████████████████████████| 10/10 [00:00<00:00, 17.93it/s]\n"
     ]
    },
    {
     "name": "stdout",
     "output_type": "stream",
     "text": [
      "LR | R2: -0.006, MAE: 0.997, MSE: 1.497 | Training time: 0.0\n",
      "RFR | R2: -0.055, MAE: 0.956, MSE: 1.571 | Training time: 0.5\n",
      "DTR | R2: -0.387, MAE: 1.077, MSE: 2.064 | Training time: 0.0\n",
      "SVR | R2: -0.035, MAE: 0.994, MSE: 1.541 | Training time: 0.3\n",
      "MLPR | R2: -0.006, MAE: 0.994, MSE: 1.497 | Training time: 0.7\n",
      "XGBR | R2: 0.105, MAE: 0.916, MSE: 1.333 | Training time: 0.3\n"
     ]
    },
    {
     "name": "stderr",
     "output_type": "stream",
     "text": [
      "100%|██████████████████████████████████████████████████████████████████████████████████| 15/15 [00:00<00:00, 17.93it/s]\n"
     ]
    },
    {
     "name": "stdout",
     "output_type": "stream",
     "text": [
      "LR | R2: -0.005, MAE: 0.996, MSE: 1.496 | Training time: 0.0\n",
      "RFR | R2: -0.049, MAE: 0.952, MSE: 1.562 | Training time: 0.6\n",
      "DTR | R2: -0.393, MAE: 1.081, MSE: 2.073 | Training time: 0.0\n",
      "SVR | R2: -0.032, MAE: 0.991, MSE: 1.536 | Training time: 0.4\n",
      "MLPR | R2: -0.009, MAE: 0.999, MSE: 1.502 | Training time: 0.4\n",
      "XGBR | R2: 0.080, MAE: 0.931, MSE: 1.370 | Training time: 0.3\n"
     ]
    },
    {
     "name": "stderr",
     "output_type": "stream",
     "text": [
      "100%|██████████████████████████████████████████████████████████████████████████████████| 20/20 [00:01<00:00, 17.34it/s]\n"
     ]
    },
    {
     "name": "stdout",
     "output_type": "stream",
     "text": [
      "LR | R2: 0.114, MAE: 0.937, MSE: 1.319 | Training time: 0.0\n",
      "RFR | R2: 0.119, MAE: 0.867, MSE: 1.312 | Training time: 0.6\n",
      "DTR | R2: -0.184, MAE: 0.994, MSE: 1.762 | Training time: 0.0\n",
      "SVR | R2: 0.090, MAE: 0.930, MSE: 1.355 | Training time: 0.4\n",
      "MLPR | R2: 0.086, MAE: 0.946, MSE: 1.360 | Training time: 1.0\n",
      "XGBR | R2: 0.223, MAE: 0.844, MSE: 1.157 | Training time: 0.3\n"
     ]
    },
    {
     "name": "stderr",
     "output_type": "stream",
     "text": [
      "100%|██████████████████████████████████████████████████████████████████████████████████| 25/25 [00:01<00:00, 17.47it/s]\n"
     ]
    },
    {
     "name": "stdout",
     "output_type": "stream",
     "text": [
      "LR | R2: 0.120, MAE: 0.931, MSE: 1.310 | Training time: 0.0\n",
      "RFR | R2: 0.133, MAE: 0.862, MSE: 1.291 | Training time: 0.8\n",
      "DTR | R2: -0.222, MAE: 0.995, MSE: 1.819 | Training time: 0.0\n",
      "SVR | R2: 0.090, MAE: 0.929, MSE: 1.355 | Training time: 0.5\n",
      "MLPR | R2: 0.104, MAE: 0.941, MSE: 1.333 | Training time: 1.3\n",
      "XGBR | R2: 0.246, MAE: 0.833, MSE: 1.123 | Training time: 0.3\n"
     ]
    },
    {
     "name": "stderr",
     "output_type": "stream",
     "text": [
      "100%|██████████████████████████████████████████████████████████████████████████████████| 30/30 [00:01<00:00, 17.72it/s]\n"
     ]
    },
    {
     "name": "stdout",
     "output_type": "stream",
     "text": [
      "LR | R2: 0.120, MAE: 0.932, MSE: 1.311 | Training time: 0.0\n",
      "RFR | R2: 0.176, MAE: 0.837, MSE: 1.226 | Training time: 0.8\n",
      "DTR | R2: -0.166, MAE: 0.958, MSE: 1.735 | Training time: 0.0\n",
      "SVR | R2: 0.096, MAE: 0.913, MSE: 1.345 | Training time: 0.5\n",
      "MLPR | R2: 0.120, MAE: 0.922, MSE: 1.310 | Training time: 1.0\n",
      "XGBR | R2: 0.248, MAE: 0.827, MSE: 1.119 | Training time: 0.3\n"
     ]
    },
    {
     "name": "stderr",
     "output_type": "stream",
     "text": [
      "100%|██████████████████████████████████████████████████████████████████████████████████| 35/35 [00:01<00:00, 18.06it/s]\n"
     ]
    },
    {
     "name": "stdout",
     "output_type": "stream",
     "text": [
      "LR | R2: 0.160, MAE: 0.912, MSE: 1.250 | Training time: 0.0\n",
      "RFR | R2: 0.250, MAE: 0.789, MSE: 1.117 | Training time: 0.9\n",
      "DTR | R2: -0.154, MAE: 0.962, MSE: 1.718 | Training time: 0.0\n",
      "SVR | R2: 0.145, MAE: 0.883, MSE: 1.272 | Training time: 0.5\n",
      "MLPR | R2: 0.149, MAE: 0.903, MSE: 1.267 | Training time: 1.2\n",
      "XGBR | R2: 0.307, MAE: 0.786, MSE: 1.031 | Training time: 0.3\n"
     ]
    },
    {
     "name": "stderr",
     "output_type": "stream",
     "text": [
      "100%|██████████████████████████████████████████████████████████████████████████████████| 40/40 [00:02<00:00, 18.21it/s]\n"
     ]
    },
    {
     "name": "stdout",
     "output_type": "stream",
     "text": [
      "LR | R2: 0.161, MAE: 0.912, MSE: 1.248 | Training time: 0.0\n",
      "RFR | R2: 0.319, MAE: 0.763, MSE: 1.014 | Training time: 1.0\n",
      "DTR | R2: -0.109, MAE: 0.973, MSE: 1.651 | Training time: 0.0\n",
      "SVR | R2: 0.171, MAE: 0.877, MSE: 1.233 | Training time: 0.5\n",
      "MLPR | R2: 0.139, MAE: 0.897, MSE: 1.281 | Training time: 2.2\n",
      "XGBR | R2: 0.332, MAE: 0.773, MSE: 0.995 | Training time: 0.3\n"
     ]
    },
    {
     "name": "stderr",
     "output_type": "stream",
     "text": [
      "100%|██████████████████████████████████████████████████████████████████████████████████| 45/45 [00:02<00:00, 19.22it/s]\n"
     ]
    },
    {
     "name": "stdout",
     "output_type": "stream",
     "text": [
      "LR | R2: 0.175, MAE: 0.905, MSE: 1.227 | Training time: 0.0\n",
      "RFR | R2: 0.331, MAE: 0.752, MSE: 0.996 | Training time: 1.2\n",
      "DTR | R2: -0.151, MAE: 0.989, MSE: 1.714 | Training time: 0.0\n",
      "SVR | R2: 0.208, MAE: 0.850, MSE: 1.179 | Training time: 0.6\n",
      "MLPR | R2: 0.130, MAE: 0.890, MSE: 1.295 | Training time: 3.7\n",
      "XGBR | R2: 0.377, MAE: 0.730, MSE: 0.928 | Training time: 0.3\n"
     ]
    },
    {
     "name": "stderr",
     "output_type": "stream",
     "text": [
      "100%|██████████████████████████████████████████████████████████████████████████████████| 50/50 [00:02<00:00, 19.41it/s]\n"
     ]
    },
    {
     "name": "stdout",
     "output_type": "stream",
     "text": [
      "LR | R2: 0.186, MAE: 0.885, MSE: 1.211 | Training time: 0.0\n",
      "RFR | R2: 0.372, MAE: 0.731, MSE: 0.934 | Training time: 1.3\n",
      "DTR | R2: -0.029, MAE: 0.933, MSE: 1.532 | Training time: 0.0\n",
      "SVR | R2: 0.229, MAE: 0.830, MSE: 1.148 | Training time: 0.5\n",
      "MLPR | R2: 0.163, MAE: 0.876, MSE: 1.246 | Training time: 2.8\n",
      "XGBR | R2: 0.381, MAE: 0.734, MSE: 0.921 | Training time: 0.3\n"
     ]
    },
    {
     "name": "stderr",
     "output_type": "stream",
     "text": [
      "100%|██████████████████████████████████████████████████████████████████████████████████| 55/55 [00:02<00:00, 19.83it/s]\n"
     ]
    },
    {
     "name": "stdout",
     "output_type": "stream",
     "text": [
      "LR | R2: 0.258, MAE: 0.848, MSE: 1.105 | Training time: 0.0\n",
      "RFR | R2: 0.471, MAE: 0.675, MSE: 0.787 | Training time: 1.7\n",
      "DTR | R2: 0.116, MAE: 0.863, MSE: 1.315 | Training time: 0.0\n",
      "SVR | R2: 0.328, MAE: 0.772, MSE: 1.001 | Training time: 0.5\n",
      "MLPR | R2: 0.154, MAE: 0.862, MSE: 1.259 | Training time: 4.3\n",
      "XGBR | R2: 0.444, MAE: 0.707, MSE: 0.827 | Training time: 0.4\n"
     ]
    },
    {
     "name": "stderr",
     "output_type": "stream",
     "text": [
      "100%|██████████████████████████████████████████████████████████████████████████████████| 60/60 [00:02<00:00, 20.08it/s]\n"
     ]
    },
    {
     "name": "stdout",
     "output_type": "stream",
     "text": [
      "LR | R2: 0.324, MAE: 0.810, MSE: 1.006 | Training time: 0.0\n",
      "RFR | R2: 0.484, MAE: 0.661, MSE: 0.769 | Training time: 1.8\n",
      "DTR | R2: -0.024, MAE: 0.924, MSE: 1.524 | Training time: 0.0\n",
      "SVR | R2: 0.408, MAE: 0.715, MSE: 0.882 | Training time: 0.5\n",
      "MLPR | R2: 0.230, MAE: 0.780, MSE: 1.146 | Training time: 5.1\n",
      "XGBR | R2: 0.453, MAE: 0.679, MSE: 0.815 | Training time: 0.4\n"
     ]
    },
    {
     "name": "stderr",
     "output_type": "stream",
     "text": [
      "100%|██████████████████████████████████████████████████████████████████████████████████| 65/65 [00:03<00:00, 20.03it/s]\n"
     ]
    },
    {
     "name": "stdout",
     "output_type": "stream",
     "text": [
      "LR | R2: 0.337, MAE: 0.804, MSE: 0.987 | Training time: 0.0\n",
      "RFR | R2: 0.493, MAE: 0.662, MSE: 0.755 | Training time: 2.1\n",
      "DTR | R2: -0.055, MAE: 0.923, MSE: 1.571 | Training time: 0.0\n",
      "SVR | R2: 0.436, MAE: 0.701, MSE: 0.839 | Training time: 0.5\n",
      "MLPR | R2: 0.325, MAE: 0.734, MSE: 1.004 | Training time: 4.2\n",
      "XGBR | R2: 0.497, MAE: 0.658, MSE: 0.749 | Training time: 0.4\n"
     ]
    },
    {
     "name": "stderr",
     "output_type": "stream",
     "text": [
      "100%|██████████████████████████████████████████████████████████████████████████████████| 70/70 [00:03<00:00, 20.41it/s]\n"
     ]
    },
    {
     "name": "stdout",
     "output_type": "stream",
     "text": [
      "LR | R2: 0.354, MAE: 0.793, MSE: 0.962 | Training time: 0.0\n",
      "RFR | R2: 0.501, MAE: 0.655, MSE: 0.743 | Training time: 2.3\n",
      "DTR | R2: 0.005, MAE: 0.876, MSE: 1.481 | Training time: 0.0\n",
      "SVR | R2: 0.472, MAE: 0.676, MSE: 0.787 | Training time: 0.6\n",
      "MLPR | R2: 0.431, MAE: 0.698, MSE: 0.847 | Training time: 3.8\n",
      "XGBR | R2: 0.520, MAE: 0.633, MSE: 0.715 | Training time: 0.4\n"
     ]
    },
    {
     "name": "stderr",
     "output_type": "stream",
     "text": [
      "100%|██████████████████████████████████████████████████████████████████████████████████| 75/75 [00:03<00:00, 20.62it/s]\n"
     ]
    },
    {
     "name": "stdout",
     "output_type": "stream",
     "text": [
      "LR | R2: 0.384, MAE: 0.761, MSE: 0.918 | Training time: 0.0\n",
      "RFR | R2: 0.526, MAE: 0.639, MSE: 0.706 | Training time: 2.6\n",
      "DTR | R2: 0.213, MAE: 0.807, MSE: 1.171 | Training time: 0.0\n",
      "SVR | R2: 0.497, MAE: 0.649, MSE: 0.749 | Training time: 0.6\n",
      "MLPR | R2: 0.378, MAE: 0.720, MSE: 0.926 | Training time: 4.2\n",
      "XGBR | R2: 0.565, MAE: 0.606, MSE: 0.648 | Training time: 0.5\n"
     ]
    },
    {
     "name": "stderr",
     "output_type": "stream",
     "text": [
      "100%|██████████████████████████████████████████████████████████████████████████████████| 80/80 [00:03<00:00, 20.95it/s]\n"
     ]
    },
    {
     "name": "stdout",
     "output_type": "stream",
     "text": [
      "LR | R2: 0.398, MAE: 0.754, MSE: 0.896 | Training time: 0.0\n",
      "RFR | R2: 0.541, MAE: 0.634, MSE: 0.683 | Training time: 3.2\n",
      "DTR | R2: 0.198, MAE: 0.811, MSE: 1.193 | Training time: 0.1\n",
      "SVR | R2: 0.527, MAE: 0.639, MSE: 0.704 | Training time: 0.5\n",
      "MLPR | R2: 0.452, MAE: 0.680, MSE: 0.815 | Training time: 3.5\n",
      "XGBR | R2: 0.582, MAE: 0.584, MSE: 0.622 | Training time: 0.5\n"
     ]
    },
    {
     "name": "stderr",
     "output_type": "stream",
     "text": [
      "100%|██████████████████████████████████████████████████████████████████████████████████| 85/85 [00:03<00:00, 21.30it/s]\n"
     ]
    },
    {
     "name": "stdout",
     "output_type": "stream",
     "text": [
      "LR | R2: 0.408, MAE: 0.744, MSE: 0.881 | Training time: 0.0\n",
      "RFR | R2: 0.562, MAE: 0.612, MSE: 0.653 | Training time: 3.4\n",
      "DTR | R2: 0.192, MAE: 0.821, MSE: 1.203 | Training time: 0.1\n",
      "SVR | R2: 0.551, MAE: 0.622, MSE: 0.668 | Training time: 0.6\n",
      "MLPR | R2: 0.460, MAE: 0.664, MSE: 0.804 | Training time: 3.9\n",
      "XGBR | R2: 0.590, MAE: 0.574, MSE: 0.610 | Training time: 0.6\n"
     ]
    },
    {
     "name": "stderr",
     "output_type": "stream",
     "text": [
      "100%|██████████████████████████████████████████████████████████████████████████████████| 90/90 [00:04<00:00, 21.15it/s]\n"
     ]
    },
    {
     "name": "stdout",
     "output_type": "stream",
     "text": [
      "LR | R2: 0.435, MAE: 0.720, MSE: 0.841 | Training time: 0.0\n",
      "RFR | R2: 0.569, MAE: 0.614, MSE: 0.642 | Training time: 3.7\n",
      "DTR | R2: 0.247, MAE: 0.805, MSE: 1.120 | Training time: 0.1\n",
      "SVR | R2: 0.572, MAE: 0.604, MSE: 0.637 | Training time: 0.6\n",
      "MLPR | R2: 0.472, MAE: 0.654, MSE: 0.786 | Training time: 3.7\n",
      "XGBR | R2: 0.585, MAE: 0.585, MSE: 0.617 | Training time: 0.6\n"
     ]
    },
    {
     "name": "stderr",
     "output_type": "stream",
     "text": [
      "100%|██████████████████████████████████████████████████████████████████████████████████| 95/95 [00:04<00:00, 21.53it/s]\n"
     ]
    },
    {
     "name": "stdout",
     "output_type": "stream",
     "text": [
      "LR | R2: 0.442, MAE: 0.714, MSE: 0.831 | Training time: 0.0\n",
      "RFR | R2: 0.557, MAE: 0.619, MSE: 0.659 | Training time: 4.2\n",
      "DTR | R2: 0.191, MAE: 0.805, MSE: 1.204 | Training time: 0.1\n",
      "SVR | R2: 0.580, MAE: 0.598, MSE: 0.625 | Training time: 0.7\n",
      "MLPR | R2: 0.513, MAE: 0.633, MSE: 0.724 | Training time: 3.0\n",
      "XGBR | R2: 0.601, MAE: 0.571, MSE: 0.595 | Training time: 0.6\n"
     ]
    },
    {
     "name": "stderr",
     "output_type": "stream",
     "text": [
      "100%|████████████████████████████████████████████████████████████████████████████████| 100/100 [00:04<00:00, 21.60it/s]\n"
     ]
    },
    {
     "name": "stdout",
     "output_type": "stream",
     "text": [
      "LR | R2: 0.499, MAE: 0.671, MSE: 0.746 | Training time: 0.0\n",
      "RFR | R2: 0.577, MAE: 0.593, MSE: 0.630 | Training time: 4.6\n",
      "DTR | R2: 0.190, MAE: 0.807, MSE: 1.206 | Training time: 0.1\n",
      "SVR | R2: 0.620, MAE: 0.560, MSE: 0.566 | Training time: 0.6\n",
      "MLPR | R2: 0.590, MAE: 0.570, MSE: 0.610 | Training time: 2.6\n",
      "XGBR | R2: 0.624, MAE: 0.559, MSE: 0.560 | Training time: 0.7\n"
     ]
    },
    {
     "name": "stderr",
     "output_type": "stream",
     "text": [
      "100%|████████████████████████████████████████████████████████████████████████████████| 105/105 [00:04<00:00, 22.07it/s]\n"
     ]
    },
    {
     "name": "stdout",
     "output_type": "stream",
     "text": [
      "LR | R2: 0.532, MAE: 0.654, MSE: 0.697 | Training time: 0.0\n",
      "RFR | R2: 0.568, MAE: 0.600, MSE: 0.643 | Training time: 5.0\n",
      "DTR | R2: 0.138, MAE: 0.834, MSE: 1.284 | Training time: 0.1\n",
      "SVR | R2: 0.642, MAE: 0.546, MSE: 0.533 | Training time: 0.6\n",
      "MLPR | R2: 0.577, MAE: 0.583, MSE: 0.630 | Training time: 2.8\n",
      "XGBR | R2: 0.593, MAE: 0.573, MSE: 0.606 | Training time: 0.7\n"
     ]
    },
    {
     "name": "stderr",
     "output_type": "stream",
     "text": [
      "100%|████████████████████████████████████████████████████████████████████████████████| 110/110 [00:04<00:00, 22.31it/s]\n"
     ]
    },
    {
     "name": "stdout",
     "output_type": "stream",
     "text": [
      "LR | R2: 0.529, MAE: 0.657, MSE: 0.701 | Training time: 0.0\n",
      "RFR | R2: 0.568, MAE: 0.605, MSE: 0.642 | Training time: 5.5\n",
      "DTR | R2: 0.127, MAE: 0.833, MSE: 1.300 | Training time: 0.1\n",
      "SVR | R2: 0.642, MAE: 0.550, MSE: 0.533 | Training time: 0.7\n",
      "MLPR | R2: 0.564, MAE: 0.595, MSE: 0.648 | Training time: 2.9\n",
      "XGBR | R2: 0.626, MAE: 0.556, MSE: 0.557 | Training time: 0.7\n"
     ]
    },
    {
     "name": "stderr",
     "output_type": "stream",
     "text": [
      "100%|████████████████████████████████████████████████████████████████████████████████| 115/115 [00:05<00:00, 21.92it/s]\n"
     ]
    },
    {
     "name": "stdout",
     "output_type": "stream",
     "text": [
      "LR | R2: 0.541, MAE: 0.642, MSE: 0.683 | Training time: 0.0\n",
      "RFR | R2: 0.574, MAE: 0.596, MSE: 0.633 | Training time: 6.1\n",
      "DTR | R2: 0.202, MAE: 0.796, MSE: 1.188 | Training time: 0.1\n",
      "SVR | R2: 0.644, MAE: 0.543, MSE: 0.530 | Training time: 0.6\n",
      "MLPR | R2: 0.572, MAE: 0.549, MSE: 0.636 | Training time: 3.3\n",
      "XGBR | R2: 0.573, MAE: 0.585, MSE: 0.636 | Training time: 0.8\n"
     ]
    },
    {
     "name": "stderr",
     "output_type": "stream",
     "text": [
      "100%|████████████████████████████████████████████████████████████████████████████████| 120/120 [00:05<00:00, 22.83it/s]\n"
     ]
    },
    {
     "name": "stdout",
     "output_type": "stream",
     "text": [
      "LR | R2: 0.537, MAE: 0.645, MSE: 0.689 | Training time: 0.1\n",
      "RFR | R2: 0.579, MAE: 0.598, MSE: 0.626 | Training time: 6.7\n",
      "DTR | R2: 0.226, MAE: 0.791, MSE: 1.152 | Training time: 0.1\n",
      "SVR | R2: 0.647, MAE: 0.543, MSE: 0.526 | Training time: 0.6\n",
      "MLPR | R2: 0.588, MAE: 0.556, MSE: 0.614 | Training time: 3.9\n",
      "XGBR | R2: 0.591, MAE: 0.566, MSE: 0.608 | Training time: 0.8\n"
     ]
    },
    {
     "name": "stderr",
     "output_type": "stream",
     "text": [
      "100%|████████████████████████████████████████████████████████████████████████████████| 125/125 [00:05<00:00, 22.91it/s]\n"
     ]
    },
    {
     "name": "stdout",
     "output_type": "stream",
     "text": [
      "LR | R2: 0.555, MAE: 0.636, MSE: 0.663 | Training time: 0.1\n",
      "RFR | R2: 0.568, MAE: 0.605, MSE: 0.643 | Training time: 7.3\n",
      "DTR | R2: 0.174, MAE: 0.789, MSE: 1.229 | Training time: 0.1\n",
      "SVR | R2: 0.656, MAE: 0.532, MSE: 0.512 | Training time: 0.7\n",
      "MLPR | R2: 0.605, MAE: 0.559, MSE: 0.588 | Training time: 4.2\n",
      "XGBR | R2: 0.616, MAE: 0.559, MSE: 0.572 | Training time: 0.8\n"
     ]
    },
    {
     "name": "stderr",
     "output_type": "stream",
     "text": [
      "100%|████████████████████████████████████████████████████████████████████████████████| 130/130 [00:05<00:00, 23.24it/s]\n"
     ]
    },
    {
     "name": "stdout",
     "output_type": "stream",
     "text": [
      "LR | R2: 0.555, MAE: 0.632, MSE: 0.662 | Training time: 0.1\n",
      "RFR | R2: 0.570, MAE: 0.600, MSE: 0.640 | Training time: 7.8\n",
      "DTR | R2: 0.182, MAE: 0.805, MSE: 1.217 | Training time: 0.1\n",
      "SVR | R2: 0.654, MAE: 0.534, MSE: 0.515 | Training time: 0.6\n",
      "MLPR | R2: 0.644, MAE: 0.539, MSE: 0.529 | Training time: 2.9\n",
      "XGBR | R2: 0.615, MAE: 0.569, MSE: 0.573 | Training time: 0.9\n"
     ]
    },
    {
     "name": "stderr",
     "output_type": "stream",
     "text": [
      "100%|████████████████████████████████████████████████████████████████████████████████| 135/135 [00:05<00:00, 23.49it/s]\n"
     ]
    },
    {
     "name": "stdout",
     "output_type": "stream",
     "text": [
      "LR | R2: 0.568, MAE: 0.622, MSE: 0.643 | Training time: 0.1\n",
      "RFR | R2: 0.585, MAE: 0.591, MSE: 0.618 | Training time: 7.9\n",
      "DTR | R2: 0.196, MAE: 0.799, MSE: 1.196 | Training time: 0.1\n",
      "SVR | R2: 0.668, MAE: 0.521, MSE: 0.494 | Training time: 0.7\n",
      "MLPR | R2: 0.612, MAE: 0.551, MSE: 0.578 | Training time: 3.2\n",
      "XGBR | R2: 0.628, MAE: 0.550, MSE: 0.554 | Training time: 0.9\n"
     ]
    },
    {
     "name": "stderr",
     "output_type": "stream",
     "text": [
      "100%|████████████████████████████████████████████████████████████████████████████████| 140/140 [00:05<00:00, 23.40it/s]\n"
     ]
    },
    {
     "name": "stdout",
     "output_type": "stream",
     "text": [
      "LR | R2: 0.572, MAE: 0.618, MSE: 0.637 | Training time: 0.1\n",
      "RFR | R2: 0.587, MAE: 0.590, MSE: 0.614 | Training time: 8.4\n",
      "DTR | R2: 0.165, MAE: 0.822, MSE: 1.243 | Training time: 0.1\n",
      "SVR | R2: 0.676, MAE: 0.516, MSE: 0.482 | Training time: 0.7\n",
      "MLPR | R2: 0.639, MAE: 0.538, MSE: 0.537 | Training time: 3.7\n",
      "XGBR | R2: 0.632, MAE: 0.550, MSE: 0.548 | Training time: 1.0\n"
     ]
    },
    {
     "name": "stderr",
     "output_type": "stream",
     "text": [
      "100%|████████████████████████████████████████████████████████████████████████████████| 145/145 [00:06<00:00, 24.00it/s]\n"
     ]
    },
    {
     "name": "stdout",
     "output_type": "stream",
     "text": [
      "LR | R2: 0.578, MAE: 0.613, MSE: 0.628 | Training time: 0.1\n",
      "RFR | R2: 0.584, MAE: 0.595, MSE: 0.619 | Training time: 8.9\n",
      "DTR | R2: 0.158, MAE: 0.822, MSE: 1.253 | Training time: 0.1\n",
      "SVR | R2: 0.680, MAE: 0.512, MSE: 0.477 | Training time: 0.6\n",
      "MLPR | R2: 0.664, MAE: 0.507, MSE: 0.500 | Training time: 3.8\n",
      "XGBR | R2: 0.635, MAE: 0.548, MSE: 0.543 | Training time: 1.0\n"
     ]
    },
    {
     "name": "stderr",
     "output_type": "stream",
     "text": [
      "100%|████████████████████████████████████████████████████████████████████████████████| 150/150 [00:06<00:00, 24.23it/s]\n"
     ]
    },
    {
     "name": "stdout",
     "output_type": "stream",
     "text": [
      "LR | R2: 0.581, MAE: 0.610, MSE: 0.624 | Training time: 0.1\n",
      "RFR | R2: 0.585, MAE: 0.595, MSE: 0.617 | Training time: 9.5\n",
      "DTR | R2: 0.136, MAE: 0.810, MSE: 1.287 | Training time: 0.2\n",
      "SVR | R2: 0.687, MAE: 0.505, MSE: 0.466 | Training time: 0.7\n",
      "MLPR | R2: 0.615, MAE: 0.545, MSE: 0.573 | Training time: 3.2\n",
      "XGBR | R2: 0.623, MAE: 0.550, MSE: 0.561 | Training time: 1.0\n"
     ]
    },
    {
     "name": "stderr",
     "output_type": "stream",
     "text": [
      "100%|████████████████████████████████████████████████████████████████████████████████| 155/155 [00:06<00:00, 24.27it/s]\n"
     ]
    },
    {
     "name": "stdout",
     "output_type": "stream",
     "text": [
      "LR | R2: 0.584, MAE: 0.607, MSE: 0.620 | Training time: 0.1\n",
      "RFR | R2: 0.594, MAE: 0.589, MSE: 0.604 | Training time: 9.9\n",
      "DTR | R2: 0.100, MAE: 0.838, MSE: 1.339 | Training time: 0.2\n",
      "SVR | R2: 0.688, MAE: 0.504, MSE: 0.465 | Training time: 0.7\n",
      "MLPR | R2: 0.607, MAE: 0.556, MSE: 0.585 | Training time: 3.8\n",
      "XGBR | R2: 0.640, MAE: 0.551, MSE: 0.536 | Training time: 1.1\n"
     ]
    },
    {
     "name": "stderr",
     "output_type": "stream",
     "text": [
      "100%|████████████████████████████████████████████████████████████████████████████████| 160/160 [00:06<00:00, 24.78it/s]\n"
     ]
    },
    {
     "name": "stdout",
     "output_type": "stream",
     "text": [
      "LR | R2: 0.585, MAE: 0.601, MSE: 0.618 | Training time: 0.1\n",
      "RFR | R2: 0.589, MAE: 0.594, MSE: 0.612 | Training time: 10.7\n",
      "DTR | R2: 0.180, MAE: 0.798, MSE: 1.220 | Training time: 0.2\n",
      "SVR | R2: 0.688, MAE: 0.505, MSE: 0.464 | Training time: 0.7\n",
      "MLPR | R2: 0.628, MAE: 0.522, MSE: 0.554 | Training time: 3.3\n",
      "XGBR | R2: 0.626, MAE: 0.561, MSE: 0.557 | Training time: 1.1\n"
     ]
    },
    {
     "name": "stderr",
     "output_type": "stream",
     "text": [
      "100%|████████████████████████████████████████████████████████████████████████████████| 165/165 [00:06<00:00, 24.74it/s]\n"
     ]
    },
    {
     "name": "stdout",
     "output_type": "stream",
     "text": [
      "LR | R2: 0.581, MAE: 0.599, MSE: 0.624 | Training time: 0.1\n",
      "RFR | R2: 0.591, MAE: 0.590, MSE: 0.609 | Training time: 11.2\n",
      "DTR | R2: 0.209, MAE: 0.783, MSE: 1.178 | Training time: 0.2\n",
      "SVR | R2: 0.688, MAE: 0.504, MSE: 0.464 | Training time: 0.7\n",
      "MLPR | R2: 0.600, MAE: 0.560, MSE: 0.595 | Training time: 2.9\n",
      "XGBR | R2: 0.613, MAE: 0.558, MSE: 0.576 | Training time: 1.2\n"
     ]
    },
    {
     "name": "stderr",
     "output_type": "stream",
     "text": [
      "100%|████████████████████████████████████████████████████████████████████████████████| 170/170 [00:06<00:00, 25.45it/s]\n"
     ]
    },
    {
     "name": "stdout",
     "output_type": "stream",
     "text": [
      "LR | R2: 0.565, MAE: 0.605, MSE: 0.647 | Training time: 0.1\n",
      "RFR | R2: 0.599, MAE: 0.581, MSE: 0.596 | Training time: 12.0\n",
      "DTR | R2: 0.183, MAE: 0.787, MSE: 1.216 | Training time: 0.2\n",
      "SVR | R2: 0.687, MAE: 0.504, MSE: 0.465 | Training time: 0.8\n",
      "MLPR | R2: 0.619, MAE: 0.530, MSE: 0.568 | Training time: 3.3\n",
      "XGBR | R2: 0.619, MAE: 0.564, MSE: 0.568 | Training time: 1.2\n"
     ]
    },
    {
     "name": "stderr",
     "output_type": "stream",
     "text": [
      "100%|████████████████████████████████████████████████████████████████████████████████| 175/175 [00:06<00:00, 25.47it/s]\n"
     ]
    },
    {
     "name": "stdout",
     "output_type": "stream",
     "text": [
      "LR | R2: 0.571, MAE: 0.603, MSE: 0.639 | Training time: 0.1\n",
      "RFR | R2: 0.598, MAE: 0.581, MSE: 0.598 | Training time: 12.8\n",
      "DTR | R2: 0.234, MAE: 0.763, MSE: 1.139 | Training time: 0.2\n",
      "SVR | R2: 0.686, MAE: 0.506, MSE: 0.467 | Training time: 0.8\n",
      "MLPR | R2: 0.689, MAE: 0.493, MSE: 0.463 | Training time: 3.7\n",
      "XGBR | R2: 0.610, MAE: 0.576, MSE: 0.581 | Training time: 1.3\n"
     ]
    },
    {
     "name": "stderr",
     "output_type": "stream",
     "text": [
      "100%|████████████████████████████████████████████████████████████████████████████████| 180/180 [00:07<00:00, 25.71it/s]\n"
     ]
    },
    {
     "name": "stdout",
     "output_type": "stream",
     "text": [
      "LR | R2: 0.566, MAE: 0.604, MSE: 0.646 | Training time: 0.1\n",
      "RFR | R2: 0.602, MAE: 0.581, MSE: 0.592 | Training time: 13.3\n",
      "DTR | R2: 0.274, MAE: 0.754, MSE: 1.081 | Training time: 0.2\n",
      "SVR | R2: 0.685, MAE: 0.506, MSE: 0.469 | Training time: 0.7\n",
      "MLPR | R2: 0.597, MAE: 0.553, MSE: 0.600 | Training time: 3.5\n",
      "XGBR | R2: 0.614, MAE: 0.565, MSE: 0.575 | Training time: 1.3\n"
     ]
    },
    {
     "name": "stderr",
     "output_type": "stream",
     "text": [
      "100%|████████████████████████████████████████████████████████████████████████████████| 185/185 [00:09<00:00, 18.80it/s]\n"
     ]
    },
    {
     "name": "stdout",
     "output_type": "stream",
     "text": [
      "LR | R2: 0.591, MAE: 0.591, MSE: 0.609 | Training time: 0.1\n",
      "RFR | R2: 0.604, MAE: 0.577, MSE: 0.589 | Training time: 14.1\n",
      "DTR | R2: 0.227, MAE: 0.766, MSE: 1.150 | Training time: 0.2\n",
      "SVR | R2: 0.683, MAE: 0.507, MSE: 0.472 | Training time: 0.8\n",
      "MLPR | R2: 0.629, MAE: 0.545, MSE: 0.553 | Training time: 3.5\n",
      "XGBR | R2: 0.600, MAE: 0.574, MSE: 0.596 | Training time: 1.4\n"
     ]
    },
    {
     "name": "stderr",
     "output_type": "stream",
     "text": [
      "100%|████████████████████████████████████████████████████████████████████████████████| 188/188 [00:12<00:00, 15.52it/s]\n"
     ]
    },
    {
     "name": "stdout",
     "output_type": "stream",
     "text": [
      "LR | R2: 0.599, MAE: 0.591, MSE: 0.597 | Training time: 0.1\n",
      "RFR | R2: 0.605, MAE: 0.577, MSE: 0.588 | Training time: 14.5\n",
      "DTR | R2: 0.257, MAE: 0.775, MSE: 1.105 | Training time: 0.2\n",
      "SVR | R2: 0.683, MAE: 0.506, MSE: 0.472 | Training time: 0.8\n",
      "MLPR | R2: 0.622, MAE: 0.555, MSE: 0.563 | Training time: 3.6\n",
      "XGBR | R2: 0.617, MAE: 0.560, MSE: 0.570 | Training time: 1.4\n"
     ]
    },
    {
     "name": "stderr",
     "output_type": "stream",
     "text": [
      "100%|████████████████████████████████████████████████████████████████████████████████| 188/188 [00:12<00:00, 15.50it/s]\n"
     ]
    },
    {
     "name": "stdout",
     "output_type": "stream",
     "text": [
      "LR | R2: 0.599, MAE: 0.591, MSE: 0.597 | Training time: 0.1\n",
      "RFR | R2: 0.605, MAE: 0.577, MSE: 0.588 | Training time: 14.5\n",
      "DTR | R2: 0.257, MAE: 0.775, MSE: 1.105 | Training time: 0.2\n",
      "SVR | R2: 0.683, MAE: 0.506, MSE: 0.472 | Training time: 0.8\n",
      "MLPR | R2: 0.622, MAE: 0.555, MSE: 0.563 | Training time: 3.7\n",
      "XGBR | R2: 0.617, MAE: 0.560, MSE: 0.570 | Training time: 1.4\n"
     ]
    }
   ],
   "source": [
    "models_mrmr, results_mrmr, num_sel_feat_mrmr, features_mrmr = fs_mrmr(X_train, y_train, X_val, y_val, X_train_norm, X_val_norm)"
   ]
  },
  {
   "cell_type": "markdown",
   "id": "ad86dfc4",
   "metadata": {},
   "source": [
    "We now plot the metrics obtained for each iteration"
   ]
  },
  {
   "cell_type": "code",
   "execution_count": 15,
   "id": "87670a35",
   "metadata": {},
   "outputs": [
    {
     "data": {
      "image/png": "[encoded data removed]",
      "text/plain": [
       "<Figure size 950x380 with 1 Axes>"
      ]
     },
     "metadata": {},
     "output_type": "display_data"
    }
   ],
   "source": [
    "r2_mrmr, mse_mrmr = plot_fs_metrics(num_sel_feat_mrmr, results_mrmr, \"MRMR\")"
   ]
  },
  {
   "cell_type": "markdown",
   "id": "92334c79",
   "metadata": {},
   "source": [
    "Best performance occurs when the number of selected features is **175**, **27** less feature wrt baseline. Model that better performs is **MLPR**, with the following metrics: **R2: 0.689, MAE: 0.493, MSE: 0.463**. However, since the difference is minimal, we will be using **150** features on the **SVR**, as metrics are almost equal with 25 less features. Metrics are: **R2: 0.687, MAE: 0.505, MSE: 0.466**"
   ]
  },
  {
   "cell_type": "code",
   "execution_count": 60,
   "id": "1b72cb34",
   "metadata": {},
   "outputs": [
    {
     "name": "stdout",
     "output_type": "stream",
     "text": [
      "Number of features that will be employed: 150\n"
     ]
    }
   ],
   "source": [
    "# Take selected features by MRMR\n",
    "\n",
    "idx = get_pos_features(r2_mrmr)\n",
    "selected_features_mrmr = features_mrmr[idx]"
   ]
  },
  {
   "cell_type": "markdown",
   "id": "0fcea653",
   "metadata": {},
   "source": [
    "#### Perform Hyper parameter optimisation using randomizedSearchCV() with SVR as its the best performing baseline model"
   ]
  },
  {
   "cell_type": "code",
   "execution_count": 17,
   "id": "86bbc87f",
   "metadata": {},
   "outputs": [
    {
     "name": "stdout",
     "output_type": "stream",
     "text": [
      "{'kernel': 'rbf', 'gamma': 'auto', 'degree': 8, 'coef0': 0.01, 'C': 5}\n",
      "R2: 0.742662, MSE: 0.383033, MAE: 0.449122\n"
     ]
    }
   ],
   "source": [
    "rnd_models_mrmr, metrics_rnd_mrmr = apply_randsearch(X_train[selected_features_mrmr]\n",
    "                                                        , y_train                                                       \n",
    "                                                        , X_val[selected_features_mrmr]\n",
    "                                                        , y_val\n",
    "                                                        , False\n",
    "                                                        , X_train_norm[selected_features_mrmr]\n",
    "                                                        , X_val_norm[selected_features_mrmr])"
   ]
  },
  {
   "cell_type": "markdown",
   "id": "74ab5b9c",
   "metadata": {},
   "source": [
    "## 2 - Improving the model: Feature Selection - Relieff \n",
    "Metod assumes the dependencies between features and tries to estimate the quality of attributes based on how well the attribute can distinguish between instances that are near to each other. "
   ]
  },
  {
   "cell_type": "code",
   "execution_count": 18,
   "id": "caf1f341",
   "metadata": {
    "scrolled": true
   },
   "outputs": [
    {
     "name": "stdout",
     "output_type": "stream",
     "text": [
      "\n",
      "=======================Selected features 10/198 =======================\n",
      "LR | R2: 0.305, MAE: 0.826, MSE: 1.035 | Training time: 0.0\n",
      "RFR | R2: 0.512, MAE: 0.633, MSE: 0.726 | Training time: 1.0\n",
      "DTR | R2: 0.002, MAE: 0.856, MSE: 1.485 | Training time: 0.0\n",
      "SVR | R2: 0.430, MAE: 0.721, MSE: 0.849 | Training time: 0.4\n",
      "MLPR | R2: 0.423, MAE: 0.689, MSE: 0.859 | Training time: 5.8\n",
      "XGBR | R2: 0.483, MAE: 0.658, MSE: 0.769 | Training time: 0.3\n",
      "\n",
      "=======================Selected features 15/198 =======================\n",
      "LR | R2: 0.318, MAE: 0.814, MSE: 1.015 | Training time: 0.0\n",
      "RFR | R2: 0.526, MAE: 0.633, MSE: 0.705 | Training time: 1.6\n",
      "DTR | R2: 0.171, MAE: 0.821, MSE: 1.234 | Training time: 0.0\n",
      "SVR | R2: 0.482, MAE: 0.678, MSE: 0.771 | Training time: 0.5\n",
      "MLPR | R2: 0.433, MAE: 0.706, MSE: 0.844 | Training time: 3.3\n",
      "XGBR | R2: 0.487, MAE: 0.659, MSE: 0.764 | Training time: 0.3\n",
      "\n",
      "=======================Selected features 20/198 =======================\n",
      "LR | R2: 0.355, MAE: 0.792, MSE: 0.960 | Training time: 0.0\n",
      "RFR | R2: 0.571, MAE: 0.604, MSE: 0.639 | Training time: 2.2\n",
      "DTR | R2: 0.229, MAE: 0.792, MSE: 1.148 | Training time: 0.0\n",
      "SVR | R2: 0.533, MAE: 0.632, MSE: 0.695 | Training time: 0.5\n",
      "MLPR | R2: 0.412, MAE: 0.681, MSE: 0.875 | Training time: 6.3\n",
      "XGBR | R2: 0.549, MAE: 0.616, MSE: 0.671 | Training time: 0.4\n",
      "\n",
      "=======================Selected features 25/198 =======================\n",
      "LR | R2: 0.409, MAE: 0.750, MSE: 0.879 | Training time: 0.0\n",
      "RFR | R2: 0.564, MAE: 0.607, MSE: 0.649 | Training time: 2.8\n",
      "DTR | R2: 0.216, MAE: 0.783, MSE: 1.168 | Training time: 0.0\n",
      "SVR | R2: 0.542, MAE: 0.630, MSE: 0.682 | Training time: 0.5\n",
      "MLPR | R2: 0.452, MAE: 0.670, MSE: 0.815 | Training time: 4.5\n",
      "XGBR | R2: 0.545, MAE: 0.622, MSE: 0.677 | Training time: 0.5\n",
      "\n",
      "=======================Selected features 30/198 =======================\n",
      "LR | R2: 0.441, MAE: 0.731, MSE: 0.832 | Training time: 0.0\n",
      "RFR | R2: 0.572, MAE: 0.601, MSE: 0.637 | Training time: 3.5\n",
      "DTR | R2: 0.245, MAE: 0.767, MSE: 1.124 | Training time: 0.1\n",
      "SVR | R2: 0.558, MAE: 0.613, MSE: 0.657 | Training time: 0.5\n",
      "MLPR | R2: 0.493, MAE: 0.659, MSE: 0.755 | Training time: 5.0\n",
      "XGBR | R2: 0.537, MAE: 0.618, MSE: 0.689 | Training time: 0.5\n",
      "\n",
      "=======================Selected features 35/198 =======================\n",
      "LR | R2: 0.460, MAE: 0.715, MSE: 0.804 | Training time: 0.0\n",
      "RFR | R2: 0.573, MAE: 0.599, MSE: 0.636 | Training time: 4.3\n",
      "DTR | R2: -0.006, MAE: 0.875, MSE: 1.497 | Training time: 0.1\n",
      "SVR | R2: 0.578, MAE: 0.592, MSE: 0.629 | Training time: 0.5\n",
      "MLPR | R2: 0.512, MAE: 0.621, MSE: 0.727 | Training time: 4.9\n",
      "XGBR | R2: 0.582, MAE: 0.591, MSE: 0.622 | Training time: 0.6\n",
      "\n",
      "=======================Selected features 40/198 =======================\n",
      "LR | R2: 0.470, MAE: 0.701, MSE: 0.789 | Training time: 0.0\n",
      "RFR | R2: 0.572, MAE: 0.604, MSE: 0.637 | Training time: 4.9\n",
      "DTR | R2: 0.118, MAE: 0.836, MSE: 1.314 | Training time: 0.1\n",
      "SVR | R2: 0.580, MAE: 0.596, MSE: 0.625 | Training time: 0.5\n",
      "MLPR | R2: 0.508, MAE: 0.634, MSE: 0.732 | Training time: 4.6\n",
      "XGBR | R2: 0.573, MAE: 0.593, MSE: 0.636 | Training time: 0.6\n",
      "\n",
      "=======================Selected features 45/198 =======================\n",
      "LR | R2: 0.493, MAE: 0.685, MSE: 0.755 | Training time: 0.0\n",
      "RFR | R2: 0.572, MAE: 0.600, MSE: 0.637 | Training time: 5.5\n",
      "DTR | R2: 0.165, MAE: 0.815, MSE: 1.243 | Training time: 0.1\n",
      "SVR | R2: 0.616, MAE: 0.568, MSE: 0.572 | Training time: 0.5\n",
      "MLPR | R2: 0.571, MAE: 0.590, MSE: 0.639 | Training time: 5.1\n",
      "XGBR | R2: 0.571, MAE: 0.574, MSE: 0.639 | Training time: 0.7\n",
      "\n",
      "=======================Selected features 50/198 =======================\n",
      "LR | R2: 0.504, MAE: 0.678, MSE: 0.739 | Training time: 0.0\n",
      "RFR | R2: 0.573, MAE: 0.603, MSE: 0.636 | Training time: 6.1\n",
      "DTR | R2: 0.187, MAE: 0.809, MSE: 1.211 | Training time: 0.1\n",
      "SVR | R2: 0.618, MAE: 0.570, MSE: 0.568 | Training time: 0.5\n",
      "MLPR | R2: 0.511, MAE: 0.629, MSE: 0.728 | Training time: 5.3\n",
      "XGBR | R2: 0.580, MAE: 0.597, MSE: 0.625 | Training time: 0.8\n",
      "\n",
      "=======================Selected features 55/198 =======================\n",
      "LR | R2: 0.516, MAE: 0.670, MSE: 0.721 | Training time: 0.0\n",
      "RFR | R2: 0.584, MAE: 0.591, MSE: 0.619 | Training time: 6.8\n",
      "DTR | R2: 0.129, MAE: 0.815, MSE: 1.296 | Training time: 0.1\n",
      "SVR | R2: 0.613, MAE: 0.572, MSE: 0.576 | Training time: 0.5\n",
      "MLPR | R2: 0.610, MAE: 0.540, MSE: 0.580 | Training time: 3.9\n",
      "XGBR | R2: 0.570, MAE: 0.596, MSE: 0.641 | Training time: 0.8\n",
      "\n",
      "=======================Selected features 60/198 =======================\n",
      "LR | R2: 0.516, MAE: 0.671, MSE: 0.720 | Training time: 0.0\n",
      "RFR | R2: 0.576, MAE: 0.595, MSE: 0.631 | Training time: 7.3\n",
      "DTR | R2: 0.086, MAE: 0.834, MSE: 1.360 | Training time: 0.1\n",
      "SVR | R2: 0.623, MAE: 0.566, MSE: 0.561 | Training time: 0.5\n",
      "MLPR | R2: 0.560, MAE: 0.582, MSE: 0.655 | Training time: 4.0\n",
      "XGBR | R2: 0.580, MAE: 0.583, MSE: 0.625 | Training time: 0.8\n",
      "\n",
      "=======================Selected features 65/198 =======================\n",
      "LR | R2: 0.525, MAE: 0.665, MSE: 0.707 | Training time: 0.0\n",
      "RFR | R2: 0.584, MAE: 0.596, MSE: 0.620 | Training time: 8.1\n",
      "DTR | R2: 0.169, MAE: 0.808, MSE: 1.237 | Training time: 0.1\n",
      "SVR | R2: 0.621, MAE: 0.568, MSE: 0.564 | Training time: 0.5\n",
      "MLPR | R2: 0.614, MAE: 0.564, MSE: 0.574 | Training time: 3.5\n",
      "XGBR | R2: 0.606, MAE: 0.562, MSE: 0.586 | Training time: 0.8\n",
      "\n",
      "=======================Selected features 70/198 =======================\n",
      "LR | R2: 0.526, MAE: 0.657, MSE: 0.705 | Training time: 0.0\n",
      "RFR | R2: 0.592, MAE: 0.583, MSE: 0.607 | Training time: 8.5\n",
      "DTR | R2: 0.133, MAE: 0.820, MSE: 1.290 | Training time: 0.1\n",
      "SVR | R2: 0.635, MAE: 0.550, MSE: 0.543 | Training time: 0.5\n",
      "MLPR | R2: 0.586, MAE: 0.561, MSE: 0.616 | Training time: 5.4\n",
      "XGBR | R2: 0.573, MAE: 0.587, MSE: 0.636 | Training time: 0.9\n",
      "\n",
      "=======================Selected features 75/198 =======================\n",
      "LR | R2: 0.527, MAE: 0.657, MSE: 0.704 | Training time: 0.0\n",
      "RFR | R2: 0.587, MAE: 0.591, MSE: 0.615 | Training time: 9.0\n",
      "DTR | R2: 0.115, MAE: 0.828, MSE: 1.317 | Training time: 0.1\n",
      "SVR | R2: 0.641, MAE: 0.545, MSE: 0.534 | Training time: 0.6\n",
      "MLPR | R2: 0.556, MAE: 0.586, MSE: 0.660 | Training time: 5.1\n",
      "XGBR | R2: 0.554, MAE: 0.608, MSE: 0.664 | Training time: 1.0\n",
      "\n",
      "=======================Selected features 80/198 =======================\n",
      "LR | R2: 0.538, MAE: 0.647, MSE: 0.688 | Training time: 0.0\n",
      "RFR | R2: 0.588, MAE: 0.590, MSE: 0.614 | Training time: 9.5\n",
      "DTR | R2: 0.176, MAE: 0.803, MSE: 1.227 | Training time: 0.2\n",
      "SVR | R2: 0.648, MAE: 0.538, MSE: 0.524 | Training time: 0.5\n",
      "MLPR | R2: 0.573, MAE: 0.565, MSE: 0.636 | Training time: 3.5\n",
      "XGBR | R2: 0.617, MAE: 0.557, MSE: 0.571 | Training time: 0.9\n",
      "\n",
      "=======================Selected features 85/198 =======================\n",
      "LR | R2: 0.538, MAE: 0.647, MSE: 0.687 | Training time: 0.0\n",
      "RFR | R2: 0.592, MAE: 0.587, MSE: 0.607 | Training time: 9.9\n",
      "DTR | R2: 0.110, MAE: 0.813, MSE: 1.324 | Training time: 0.2\n",
      "SVR | R2: 0.660, MAE: 0.530, MSE: 0.506 | Training time: 0.6\n",
      "MLPR | R2: 0.602, MAE: 0.565, MSE: 0.592 | Training time: 3.3\n",
      "XGBR | R2: 0.604, MAE: 0.574, MSE: 0.590 | Training time: 1.1\n",
      "\n",
      "=======================Selected features 90/198 =======================\n",
      "LR | R2: 0.543, MAE: 0.642, MSE: 0.680 | Training time: 0.0\n",
      "RFR | R2: 0.593, MAE: 0.583, MSE: 0.606 | Training time: 10.2\n",
      "DTR | R2: 0.106, MAE: 0.830, MSE: 1.331 | Training time: 0.2\n",
      "SVR | R2: 0.667, MAE: 0.523, MSE: 0.496 | Training time: 0.6\n",
      "MLPR | R2: 0.580, MAE: 0.569, MSE: 0.625 | Training time: 4.1\n",
      "XGBR | R2: 0.622, MAE: 0.549, MSE: 0.563 | Training time: 1.1\n",
      "\n",
      "=======================Selected features 95/198 =======================\n",
      "LR | R2: 0.548, MAE: 0.639, MSE: 0.672 | Training time: 0.0\n",
      "RFR | R2: 0.601, MAE: 0.579, MSE: 0.594 | Training time: 10.9\n",
      "DTR | R2: 0.134, MAE: 0.823, MSE: 1.288 | Training time: 0.2\n",
      "SVR | R2: 0.675, MAE: 0.519, MSE: 0.484 | Training time: 0.6\n",
      "MLPR | R2: 0.616, MAE: 0.532, MSE: 0.571 | Training time: 3.8\n",
      "XGBR | R2: 0.612, MAE: 0.579, MSE: 0.578 | Training time: 1.0\n",
      "\n",
      "=======================Selected features 100/198 =======================\n",
      "LR | R2: 0.550, MAE: 0.640, MSE: 0.670 | Training time: 0.0\n",
      "RFR | R2: 0.599, MAE: 0.578, MSE: 0.597 | Training time: 11.3\n",
      "DTR | R2: 0.181, MAE: 0.800, MSE: 1.219 | Training time: 0.2\n",
      "SVR | R2: 0.671, MAE: 0.522, MSE: 0.490 | Training time: 0.6\n"
     ]
    },
    {
     "name": "stdout",
     "output_type": "stream",
     "text": [
      "MLPR | R2: 0.625, MAE: 0.538, MSE: 0.558 | Training time: 3.4\n",
      "XGBR | R2: 0.603, MAE: 0.564, MSE: 0.591 | Training time: 1.1\n",
      "\n",
      "=======================Selected features 105/198 =======================\n",
      "LR | R2: 0.552, MAE: 0.639, MSE: 0.667 | Training time: 0.0\n",
      "RFR | R2: 0.607, MAE: 0.575, MSE: 0.584 | Training time: 11.7\n",
      "DTR | R2: 0.172, MAE: 0.816, MSE: 1.233 | Training time: 0.2\n",
      "SVR | R2: 0.673, MAE: 0.520, MSE: 0.487 | Training time: 0.6\n",
      "MLPR | R2: 0.675, MAE: 0.519, MSE: 0.483 | Training time: 3.4\n",
      "XGBR | R2: 0.612, MAE: 0.569, MSE: 0.578 | Training time: 1.1\n",
      "\n",
      "=======================Selected features 110/198 =======================\n",
      "LR | R2: 0.552, MAE: 0.638, MSE: 0.667 | Training time: 0.0\n",
      "RFR | R2: 0.601, MAE: 0.579, MSE: 0.594 | Training time: 12.0\n",
      "DTR | R2: 0.156, MAE: 0.816, MSE: 1.256 | Training time: 0.2\n",
      "SVR | R2: 0.672, MAE: 0.520, MSE: 0.488 | Training time: 0.7\n",
      "MLPR | R2: 0.618, MAE: 0.545, MSE: 0.568 | Training time: 4.1\n",
      "XGBR | R2: 0.605, MAE: 0.572, MSE: 0.588 | Training time: 1.2\n",
      "\n",
      "=======================Selected features 115/198 =======================\n",
      "LR | R2: 0.555, MAE: 0.635, MSE: 0.662 | Training time: 0.0\n",
      "RFR | R2: 0.603, MAE: 0.577, MSE: 0.590 | Training time: 12.3\n",
      "DTR | R2: 0.215, MAE: 0.796, MSE: 1.168 | Training time: 0.2\n",
      "SVR | R2: 0.675, MAE: 0.516, MSE: 0.483 | Training time: 0.6\n",
      "MLPR | R2: 0.624, MAE: 0.550, MSE: 0.559 | Training time: 3.9\n",
      "XGBR | R2: 0.604, MAE: 0.577, MSE: 0.589 | Training time: 1.1\n",
      "\n",
      "=======================Selected features 120/198 =======================\n",
      "LR | R2: 0.558, MAE: 0.631, MSE: 0.658 | Training time: 0.0\n",
      "RFR | R2: 0.603, MAE: 0.577, MSE: 0.591 | Training time: 12.6\n",
      "DTR | R2: 0.165, MAE: 0.821, MSE: 1.242 | Training time: 0.2\n",
      "SVR | R2: 0.683, MAE: 0.509, MSE: 0.471 | Training time: 0.6\n",
      "MLPR | R2: 0.615, MAE: 0.555, MSE: 0.573 | Training time: 3.9\n",
      "XGBR | R2: 0.613, MAE: 0.564, MSE: 0.577 | Training time: 1.3\n",
      "\n",
      "=======================Selected features 125/198 =======================\n",
      "LR | R2: 0.558, MAE: 0.631, MSE: 0.658 | Training time: 0.1\n",
      "RFR | R2: 0.599, MAE: 0.579, MSE: 0.597 | Training time: 13.0\n",
      "DTR | R2: 0.159, MAE: 0.815, MSE: 1.252 | Training time: 0.2\n",
      "SVR | R2: 0.688, MAE: 0.505, MSE: 0.464 | Training time: 0.7\n",
      "MLPR | R2: 0.566, MAE: 0.581, MSE: 0.646 | Training time: 4.4\n",
      "XGBR | R2: 0.587, MAE: 0.581, MSE: 0.615 | Training time: 1.3\n",
      "\n",
      "=======================Selected features 130/198 =======================\n",
      "LR | R2: 0.559, MAE: 0.630, MSE: 0.657 | Training time: 0.1\n",
      "RFR | R2: 0.605, MAE: 0.576, MSE: 0.589 | Training time: 13.7\n",
      "DTR | R2: 0.185, MAE: 0.808, MSE: 1.213 | Training time: 0.2\n",
      "SVR | R2: 0.684, MAE: 0.507, MSE: 0.470 | Training time: 0.7\n",
      "MLPR | R2: 0.622, MAE: 0.543, MSE: 0.563 | Training time: 4.0\n",
      "XGBR | R2: 0.592, MAE: 0.581, MSE: 0.607 | Training time: 1.3\n",
      "\n",
      "=======================Selected features 135/198 =======================\n",
      "LR | R2: 0.564, MAE: 0.628, MSE: 0.649 | Training time: 0.1\n",
      "RFR | R2: 0.602, MAE: 0.578, MSE: 0.592 | Training time: 13.6\n",
      "DTR | R2: 0.164, MAE: 0.806, MSE: 1.245 | Training time: 0.2\n",
      "SVR | R2: 0.689, MAE: 0.504, MSE: 0.463 | Training time: 0.7\n",
      "MLPR | R2: 0.609, MAE: 0.563, MSE: 0.582 | Training time: 4.3\n",
      "XGBR | R2: 0.591, MAE: 0.579, MSE: 0.608 | Training time: 1.3\n",
      "\n",
      "=======================Selected features 140/198 =======================\n",
      "LR | R2: 0.572, MAE: 0.621, MSE: 0.637 | Training time: 0.1\n",
      "RFR | R2: 0.603, MAE: 0.578, MSE: 0.590 | Training time: 13.7\n",
      "DTR | R2: 0.177, MAE: 0.797, MSE: 1.226 | Training time: 0.2\n",
      "SVR | R2: 0.692, MAE: 0.501, MSE: 0.459 | Training time: 0.7\n",
      "MLPR | R2: 0.609, MAE: 0.556, MSE: 0.581 | Training time: 3.6\n",
      "XGBR | R2: 0.594, MAE: 0.579, MSE: 0.604 | Training time: 1.3\n",
      "\n",
      "=======================Selected features 145/198 =======================\n",
      "LR | R2: 0.573, MAE: 0.621, MSE: 0.636 | Training time: 0.1\n",
      "RFR | R2: 0.604, MAE: 0.577, MSE: 0.590 | Training time: 13.6\n",
      "DTR | R2: 0.145, MAE: 0.831, MSE: 1.273 | Training time: 0.2\n",
      "SVR | R2: 0.689, MAE: 0.503, MSE: 0.463 | Training time: 0.6\n",
      "MLPR | R2: 0.624, MAE: 0.557, MSE: 0.560 | Training time: 3.2\n",
      "XGBR | R2: 0.597, MAE: 0.577, MSE: 0.599 | Training time: 1.3\n",
      "\n",
      "=======================Selected features 150/198 =======================\n",
      "LR | R2: 0.589, MAE: 0.610, MSE: 0.612 | Training time: 0.1\n",
      "RFR | R2: 0.599, MAE: 0.579, MSE: 0.597 | Training time: 13.8\n",
      "DTR | R2: 0.186, MAE: 0.795, MSE: 1.211 | Training time: 0.2\n",
      "SVR | R2: 0.695, MAE: 0.496, MSE: 0.453 | Training time: 0.7\n",
      "MLPR | R2: 0.682, MAE: 0.509, MSE: 0.473 | Training time: 4.2\n",
      "XGBR | R2: 0.614, MAE: 0.564, MSE: 0.575 | Training time: 1.3\n",
      "\n",
      "=======================Selected features 155/198 =======================\n",
      "LR | R2: 0.595, MAE: 0.603, MSE: 0.602 | Training time: 0.1\n",
      "RFR | R2: 0.607, MAE: 0.574, MSE: 0.585 | Training time: 13.9\n",
      "DTR | R2: 0.173, MAE: 0.803, MSE: 1.230 | Training time: 0.2\n",
      "SVR | R2: 0.691, MAE: 0.498, MSE: 0.460 | Training time: 0.7\n",
      "MLPR | R2: 0.641, MAE: 0.537, MSE: 0.534 | Training time: 3.7\n",
      "XGBR | R2: 0.609, MAE: 0.567, MSE: 0.582 | Training time: 1.3\n",
      "\n",
      "=======================Selected features 160/198 =======================\n",
      "LR | R2: 0.598, MAE: 0.599, MSE: 0.598 | Training time: 0.1\n",
      "RFR | R2: 0.605, MAE: 0.578, MSE: 0.588 | Training time: 14.0\n",
      "DTR | R2: 0.183, MAE: 0.799, MSE: 1.216 | Training time: 0.2\n",
      "SVR | R2: 0.689, MAE: 0.501, MSE: 0.463 | Training time: 0.7\n",
      "MLPR | R2: 0.651, MAE: 0.520, MSE: 0.519 | Training time: 4.4\n",
      "XGBR | R2: 0.592, MAE: 0.582, MSE: 0.607 | Training time: 1.3\n",
      "\n",
      "=======================Selected features 165/198 =======================\n",
      "LR | R2: 0.592, MAE: 0.598, MSE: 0.608 | Training time: 0.1\n",
      "RFR | R2: 0.607, MAE: 0.573, MSE: 0.585 | Training time: 14.1\n",
      "DTR | R2: 0.182, MAE: 0.797, MSE: 1.217 | Training time: 0.2\n",
      "SVR | R2: 0.685, MAE: 0.503, MSE: 0.469 | Training time: 0.7\n",
      "MLPR | R2: 0.637, MAE: 0.531, MSE: 0.540 | Training time: 3.8\n",
      "XGBR | R2: 0.584, MAE: 0.587, MSE: 0.619 | Training time: 1.3\n",
      "\n",
      "=======================Selected features 170/198 =======================\n",
      "LR | R2: 0.589, MAE: 0.600, MSE: 0.612 | Training time: 0.1\n",
      "RFR | R2: 0.608, MAE: 0.576, MSE: 0.584 | Training time: 14.2\n",
      "DTR | R2: 0.207, MAE: 0.798, MSE: 1.180 | Training time: 0.2\n",
      "SVR | R2: 0.687, MAE: 0.502, MSE: 0.466 | Training time: 0.7\n",
      "MLPR | R2: 0.636, MAE: 0.519, MSE: 0.541 | Training time: 4.3\n",
      "XGBR | R2: 0.609, MAE: 0.563, MSE: 0.581 | Training time: 1.3\n",
      "\n",
      "=======================Selected features 175/198 =======================\n",
      "LR | R2: 0.585, MAE: 0.602, MSE: 0.618 | Training time: 0.1\n",
      "RFR | R2: 0.609, MAE: 0.574, MSE: 0.582 | Training time: 14.3\n",
      "DTR | R2: 0.235, MAE: 0.774, MSE: 1.139 | Training time: 0.2\n",
      "SVR | R2: 0.685, MAE: 0.504, MSE: 0.469 | Training time: 0.8\n",
      "MLPR | R2: 0.656, MAE: 0.520, MSE: 0.512 | Training time: 3.4\n",
      "XGBR | R2: 0.609, MAE: 0.564, MSE: 0.583 | Training time: 1.5\n",
      "\n",
      "=======================Selected features 180/198 =======================\n",
      "LR | R2: 0.585, MAE: 0.602, MSE: 0.618 | Training time: 0.1\n",
      "RFR | R2: 0.609, MAE: 0.575, MSE: 0.582 | Training time: 14.3\n",
      "DTR | R2: 0.254, MAE: 0.755, MSE: 1.110 | Training time: 0.2\n",
      "SVR | R2: 0.685, MAE: 0.504, MSE: 0.469 | Training time: 0.7\n",
      "MLPR | R2: 0.625, MAE: 0.509, MSE: 0.558 | Training time: 3.3\n",
      "XGBR | R2: 0.609, MAE: 0.564, MSE: 0.583 | Training time: 1.4\n",
      "\n",
      "=======================Selected features 185/198 =======================\n",
      "LR | R2: 0.584, MAE: 0.602, MSE: 0.619 | Training time: 0.1\n",
      "RFR | R2: 0.607, MAE: 0.575, MSE: 0.584 | Training time: 14.2\n",
      "DTR | R2: 0.208, MAE: 0.785, MSE: 1.178 | Training time: 0.2\n",
      "SVR | R2: 0.685, MAE: 0.504, MSE: 0.469 | Training time: 0.8\n",
      "MLPR | R2: 0.640, MAE: 0.537, MSE: 0.536 | Training time: 3.7\n",
      "XGBR | R2: 0.609, MAE: 0.564, MSE: 0.583 | Training time: 1.5\n",
      "\n",
      "=======================Selected features 190/198 =======================\n",
      "LR | R2: 0.586, MAE: 0.601, MSE: 0.616 | Training time: 0.1\n",
      "RFR | R2: 0.605, MAE: 0.577, MSE: 0.589 | Training time: 14.5\n",
      "DTR | R2: 0.253, MAE: 0.768, MSE: 1.111 | Training time: 0.2\n",
      "SVR | R2: 0.682, MAE: 0.507, MSE: 0.473 | Training time: 0.9\n",
      "MLPR | R2: 0.626, MAE: 0.535, MSE: 0.557 | Training time: 4.8\n",
      "XGBR | R2: 0.605, MAE: 0.560, MSE: 0.587 | Training time: 1.5\n",
      "\n",
      "=======================Selected features 195/198 =======================\n",
      "LR | R2: 0.598, MAE: 0.593, MSE: 0.599 | Training time: 0.1\n"
     ]
    },
    {
     "name": "stdout",
     "output_type": "stream",
     "text": [
      "RFR | R2: 0.605, MAE: 0.577, MSE: 0.587 | Training time: 14.3\n",
      "DTR | R2: 0.237, MAE: 0.773, MSE: 1.136 | Training time: 0.2\n",
      "SVR | R2: 0.684, MAE: 0.507, MSE: 0.470 | Training time: 0.8\n",
      "MLPR | R2: 0.634, MAE: 0.525, MSE: 0.545 | Training time: 4.4\n",
      "XGBR | R2: 0.615, MAE: 0.563, MSE: 0.572 | Training time: 1.5\n"
     ]
    }
   ],
   "source": [
    "n_neighbors = 100\n",
    "models_relieff, results_relief, num_sel_feat_relief, features_relief = fs_relieff(X_train, y_train, X_val, y_val, X_train_norm, X_val_norm, False, n_neighbors)"
   ]
  },
  {
   "cell_type": "code",
   "execution_count": 19,
   "id": "bb42ddd9",
   "metadata": {},
   "outputs": [
    {
     "data": {
      "image/png": "[encoded data removed]",
      "text/plain": [
       "<Figure size 950x380 with 1 Axes>"
      ]
     },
     "metadata": {},
     "output_type": "display_data"
    }
   ],
   "source": [
    "r2_relieff, mse_relieff = plot_fs_metrics(num_sel_feat_relief, results_relief, \"RelieFf\")"
   ]
  },
  {
   "cell_type": "markdown",
   "id": "a2ba46d7",
   "metadata": {},
   "source": [
    "Best performance occurs when the number of selected features is **150**, **52** less feature wrt baseline. Model that better performs is **SVR**, with the following metrics: **R2: 0.695, MAE: 0.498, MSE: 0.453**."
   ]
  },
  {
   "cell_type": "code",
   "execution_count": 61,
   "id": "692fed4e",
   "metadata": {},
   "outputs": [
    {
     "name": "stdout",
     "output_type": "stream",
     "text": [
      "Number of features that will be employed: 150\n"
     ]
    }
   ],
   "source": [
    "# Selected features by RelieFf algorithm\n",
    "idx = get_pos_features(r2_relieff)\n",
    "selected_features_relieff = features_relief[idx]"
   ]
  },
  {
   "cell_type": "code",
   "execution_count": 22,
   "id": "d4621043",
   "metadata": {},
   "outputs": [
    {
     "name": "stdout",
     "output_type": "stream",
     "text": [
      "{'kernel': 'rbf', 'gamma': 'auto', 'degree': 8, 'coef0': 0.01, 'C': 5}\n",
      "R2: 0.749421, MSE: 0.372973, MAE: 0.445180\n"
     ]
    }
   ],
   "source": [
    "# Apply randsearch to the potential model candidates with the selected features\n",
    "rnd_models_relieff, metrics_rnd_relieff = apply_randsearch(X_train[selected_features_relieff]\n",
    "                                                        , y_train                                                       \n",
    "                                                        , X_val[selected_features_relieff]\n",
    "                                                        , y_val\n",
    "                                                        , False\n",
    "                                                        , X_train_norm[selected_features_relieff]\n",
    "                                                        , X_val_norm[selected_features_relieff])"
   ]
  },
  {
   "cell_type": "markdown",
   "id": "c39df920",
   "metadata": {},
   "source": [
    "## 3 - Improving the model: Feature Selection - Mutual info regression\n",
    "\n",
    "This method utilizes the mutual information. It calculates mutual information value for each of independent variables with respect to dependent variable, and selects the ones which has most information gain. In other words, it basically measures the dependency of features with the target value. The higher score means more dependent variables."
   ]
  },
  {
   "cell_type": "code",
   "execution_count": 23,
   "id": "c786f60c",
   "metadata": {},
   "outputs": [
    {
     "name": "stdout",
     "output_type": "stream",
     "text": [
      "\n",
      "=======================Selected features 10/198 =======================\n",
      "LR | R2: 0.141, MAE: 0.920, MSE: 1.278 | Training time: 0.0\n",
      "RFR | R2: 0.468, MAE: 0.680, MSE: 0.792 | Training time: 2.0\n",
      "DTR | R2: -0.056, MAE: 0.911, MSE: 1.571 | Training time: 0.0\n",
      "SVR | R2: 0.282, MAE: 0.826, MSE: 1.069 | Training time: 0.5\n",
      "MLPR | R2: 0.122, MAE: 0.843, MSE: 1.308 | Training time: 9.2\n",
      "XGBR | R2: 0.404, MAE: 0.715, MSE: 0.887 | Training time: 0.4\n",
      "\n",
      "=======================Selected features 15/198 =======================\n",
      "LR | R2: 0.239, MAE: 0.864, MSE: 1.132 | Training time: 0.0\n",
      "RFR | R2: 0.521, MAE: 0.641, MSE: 0.713 | Training time: 2.7\n",
      "DTR | R2: 0.095, MAE: 0.841, MSE: 1.347 | Training time: 0.0\n",
      "SVR | R2: 0.431, MAE: 0.708, MSE: 0.847 | Training time: 0.5\n",
      "MLPR | R2: 0.322, MAE: 0.758, MSE: 1.009 | Training time: 7.1\n",
      "XGBR | R2: 0.546, MAE: 0.625, MSE: 0.675 | Training time: 0.5\n",
      "\n",
      "=======================Selected features 20/198 =======================\n",
      "LR | R2: 0.257, MAE: 0.855, MSE: 1.106 | Training time: 0.0\n",
      "RFR | R2: 0.526, MAE: 0.631, MSE: 0.705 | Training time: 3.2\n",
      "DTR | R2: 0.129, MAE: 0.829, MSE: 1.296 | Training time: 0.0\n",
      "SVR | R2: 0.488, MAE: 0.671, MSE: 0.762 | Training time: 0.5\n",
      "MLPR | R2: 0.372, MAE: 0.719, MSE: 0.935 | Training time: 5.9\n",
      "XGBR | R2: 0.556, MAE: 0.618, MSE: 0.661 | Training time: 0.5\n",
      "\n",
      "=======================Selected features 25/198 =======================\n",
      "LR | R2: 0.293, MAE: 0.823, MSE: 1.052 | Training time: 0.0\n",
      "RFR | R2: 0.517, MAE: 0.638, MSE: 0.719 | Training time: 4.0\n",
      "DTR | R2: 0.109, MAE: 0.841, MSE: 1.326 | Training time: 0.1\n",
      "SVR | R2: 0.483, MAE: 0.674, MSE: 0.769 | Training time: 0.5\n",
      "MLPR | R2: 0.390, MAE: 0.695, MSE: 0.909 | Training time: 6.0\n",
      "XGBR | R2: 0.521, MAE: 0.631, MSE: 0.713 | Training time: 0.6\n",
      "\n",
      "=======================Selected features 30/198 =======================\n",
      "LR | R2: 0.374, MAE: 0.779, MSE: 0.932 | Training time: 0.0\n",
      "RFR | R2: 0.539, MAE: 0.625, MSE: 0.687 | Training time: 4.9\n",
      "DTR | R2: 0.190, MAE: 0.807, MSE: 1.206 | Training time: 0.1\n",
      "SVR | R2: 0.571, MAE: 0.616, MSE: 0.638 | Training time: 0.6\n",
      "MLPR | R2: 0.494, MAE: 0.656, MSE: 0.753 | Training time: 6.7\n",
      "XGBR | R2: 0.581, MAE: 0.595, MSE: 0.623 | Training time: 0.6\n",
      "\n",
      "=======================Selected features 35/198 =======================\n",
      "LR | R2: 0.416, MAE: 0.749, MSE: 0.869 | Training time: 0.0\n",
      "RFR | R2: 0.551, MAE: 0.618, MSE: 0.669 | Training time: 5.5\n",
      "DTR | R2: 0.176, MAE: 0.814, MSE: 1.226 | Training time: 0.1\n",
      "SVR | R2: 0.588, MAE: 0.601, MSE: 0.613 | Training time: 0.6\n",
      "MLPR | R2: 0.518, MAE: 0.646, MSE: 0.717 | Training time: 5.2\n",
      "XGBR | R2: 0.575, MAE: 0.603, MSE: 0.632 | Training time: 0.7\n",
      "\n",
      "=======================Selected features 40/198 =======================\n",
      "LR | R2: 0.442, MAE: 0.736, MSE: 0.831 | Training time: 0.0\n",
      "RFR | R2: 0.547, MAE: 0.620, MSE: 0.674 | Training time: 6.1\n",
      "DTR | R2: 0.049, MAE: 0.862, MSE: 1.415 | Training time: 0.1\n",
      "SVR | R2: 0.601, MAE: 0.585, MSE: 0.594 | Training time: 0.6\n",
      "MLPR | R2: 0.524, MAE: 0.629, MSE: 0.709 | Training time: 5.9\n",
      "XGBR | R2: 0.601, MAE: 0.575, MSE: 0.593 | Training time: 0.7\n",
      "\n",
      "=======================Selected features 45/198 =======================\n",
      "LR | R2: 0.485, MAE: 0.684, MSE: 0.766 | Training time: 0.0\n",
      "RFR | R2: 0.581, MAE: 0.595, MSE: 0.624 | Training time: 6.8\n",
      "DTR | R2: 0.142, MAE: 0.815, MSE: 1.276 | Training time: 0.1\n",
      "SVR | R2: 0.634, MAE: 0.558, MSE: 0.545 | Training time: 0.6\n",
      "MLPR | R2: 0.591, MAE: 0.572, MSE: 0.609 | Training time: 5.1\n",
      "XGBR | R2: 0.612, MAE: 0.566, MSE: 0.577 | Training time: 0.8\n",
      "\n",
      "=======================Selected features 50/198 =======================\n",
      "LR | R2: 0.471, MAE: 0.697, MSE: 0.787 | Training time: 0.0\n",
      "RFR | R2: 0.557, MAE: 0.611, MSE: 0.659 | Training time: 7.4\n",
      "DTR | R2: 0.068, MAE: 0.855, MSE: 1.388 | Training time: 0.1\n",
      "SVR | R2: 0.623, MAE: 0.566, MSE: 0.561 | Training time: 0.5\n",
      "MLPR | R2: 0.544, MAE: 0.600, MSE: 0.679 | Training time: 3.8\n",
      "XGBR | R2: 0.589, MAE: 0.584, MSE: 0.612 | Training time: 0.9\n",
      "\n",
      "=======================Selected features 55/198 =======================\n",
      "LR | R2: 0.500, MAE: 0.671, MSE: 0.745 | Training time: 0.0\n",
      "RFR | R2: 0.580, MAE: 0.596, MSE: 0.625 | Training time: 8.0\n",
      "DTR | R2: 0.161, MAE: 0.807, MSE: 1.249 | Training time: 0.1\n",
      "SVR | R2: 0.631, MAE: 0.555, MSE: 0.550 | Training time: 0.6\n",
      "MLPR | R2: 0.607, MAE: 0.560, MSE: 0.585 | Training time: 6.0\n",
      "XGBR | R2: 0.632, MAE: 0.566, MSE: 0.548 | Training time: 0.9\n",
      "\n",
      "=======================Selected features 60/198 =======================\n",
      "LR | R2: 0.511, MAE: 0.667, MSE: 0.728 | Training time: 0.0\n",
      "RFR | R2: 0.578, MAE: 0.599, MSE: 0.628 | Training time: 8.7\n",
      "DTR | R2: 0.169, MAE: 0.791, MSE: 1.236 | Training time: 0.1\n",
      "SVR | R2: 0.649, MAE: 0.544, MSE: 0.523 | Training time: 0.6\n",
      "MLPR | R2: 0.594, MAE: 0.565, MSE: 0.604 | Training time: 5.0\n",
      "XGBR | R2: 0.625, MAE: 0.553, MSE: 0.558 | Training time: 0.9\n",
      "\n",
      "=======================Selected features 65/198 =======================\n",
      "LR | R2: 0.508, MAE: 0.668, MSE: 0.733 | Training time: 0.0\n",
      "RFR | R2: 0.583, MAE: 0.593, MSE: 0.620 | Training time: 8.9\n",
      "DTR | R2: 0.096, MAE: 0.813, MSE: 1.345 | Training time: 0.1\n",
      "SVR | R2: 0.653, MAE: 0.537, MSE: 0.517 | Training time: 0.5\n",
      "MLPR | R2: 0.600, MAE: 0.553, MSE: 0.595 | Training time: 4.8\n",
      "XGBR | R2: 0.583, MAE: 0.577, MSE: 0.621 | Training time: 0.9\n",
      "\n",
      "=======================Selected features 70/198 =======================\n",
      "LR | R2: 0.506, MAE: 0.671, MSE: 0.735 | Training time: 0.0\n",
      "RFR | R2: 0.581, MAE: 0.592, MSE: 0.624 | Training time: 9.5\n",
      "DTR | R2: 0.031, MAE: 0.862, MSE: 1.442 | Training time: 0.2\n",
      "SVR | R2: 0.657, MAE: 0.534, MSE: 0.510 | Training time: 0.7\n",
      "MLPR | R2: 0.586, MAE: 0.558, MSE: 0.616 | Training time: 4.6\n",
      "XGBR | R2: 0.605, MAE: 0.578, MSE: 0.588 | Training time: 1.2\n",
      "\n",
      "=======================Selected features 75/198 =======================\n",
      "LR | R2: 0.513, MAE: 0.663, MSE: 0.725 | Training time: 0.0\n",
      "RFR | R2: 0.580, MAE: 0.595, MSE: 0.626 | Training time: 11.4\n",
      "DTR | R2: 0.197, MAE: 0.768, MSE: 1.195 | Training time: 0.2\n",
      "SVR | R2: 0.658, MAE: 0.538, MSE: 0.509 | Training time: 0.7\n",
      "MLPR | R2: 0.634, MAE: 0.538, MSE: 0.545 | Training time: 4.9\n",
      "XGBR | R2: 0.617, MAE: 0.554, MSE: 0.570 | Training time: 1.1\n",
      "\n",
      "=======================Selected features 80/198 =======================\n",
      "LR | R2: 0.526, MAE: 0.657, MSE: 0.706 | Training time: 0.0\n",
      "RFR | R2: 0.579, MAE: 0.595, MSE: 0.626 | Training time: 11.3\n",
      "DTR | R2: 0.121, MAE: 0.834, MSE: 1.308 | Training time: 0.3\n",
      "SVR | R2: 0.658, MAE: 0.535, MSE: 0.510 | Training time: 0.7\n",
      "MLPR | R2: 0.599, MAE: 0.566, MSE: 0.596 | Training time: 4.9\n",
      "XGBR | R2: 0.576, MAE: 0.590, MSE: 0.631 | Training time: 1.1\n",
      "\n",
      "=======================Selected features 85/198 =======================\n",
      "LR | R2: 0.530, MAE: 0.657, MSE: 0.700 | Training time: 0.0\n",
      "RFR | R2: 0.593, MAE: 0.582, MSE: 0.605 | Training time: 11.4\n",
      "DTR | R2: 0.112, MAE: 0.823, MSE: 1.321 | Training time: 0.2\n",
      "SVR | R2: 0.673, MAE: 0.521, MSE: 0.486 | Training time: 0.7\n",
      "MLPR | R2: 0.610, MAE: 0.560, MSE: 0.580 | Training time: 4.4\n",
      "XGBR | R2: 0.581, MAE: 0.584, MSE: 0.623 | Training time: 1.4\n",
      "\n",
      "=======================Selected features 90/198 =======================\n",
      "LR | R2: 0.535, MAE: 0.652, MSE: 0.692 | Training time: 0.0\n",
      "RFR | R2: 0.585, MAE: 0.587, MSE: 0.617 | Training time: 12.0\n",
      "DTR | R2: 0.092, MAE: 0.845, MSE: 1.352 | Training time: 0.2\n",
      "SVR | R2: 0.665, MAE: 0.528, MSE: 0.498 | Training time: 0.7\n",
      "MLPR | R2: 0.628, MAE: 0.548, MSE: 0.553 | Training time: 5.1\n",
      "XGBR | R2: 0.616, MAE: 0.567, MSE: 0.571 | Training time: 1.2\n",
      "\n",
      "=======================Selected features 95/198 =======================\n",
      "LR | R2: 0.543, MAE: 0.644, MSE: 0.680 | Training time: 0.0\n",
      "RFR | R2: 0.596, MAE: 0.581, MSE: 0.602 | Training time: 11.8\n",
      "DTR | R2: 0.148, MAE: 0.816, MSE: 1.268 | Training time: 0.2\n",
      "SVR | R2: 0.668, MAE: 0.529, MSE: 0.494 | Training time: 0.7\n",
      "MLPR | R2: 0.611, MAE: 0.555, MSE: 0.579 | Training time: 3.6\n",
      "XGBR | R2: 0.590, MAE: 0.586, MSE: 0.610 | Training time: 1.2\n",
      "\n",
      "=======================Selected features 100/198 =======================\n",
      "LR | R2: 0.538, MAE: 0.646, MSE: 0.687 | Training time: 0.0\n",
      "RFR | R2: 0.578, MAE: 0.591, MSE: 0.628 | Training time: 11.9\n",
      "DTR | R2: 0.139, MAE: 0.848, MSE: 1.282 | Training time: 0.2\n",
      "SVR | R2: 0.664, MAE: 0.530, MSE: 0.500 | Training time: 0.6\n"
     ]
    },
    {
     "name": "stdout",
     "output_type": "stream",
     "text": [
      "MLPR | R2: 0.655, MAE: 0.521, MSE: 0.513 | Training time: 3.0\n",
      "XGBR | R2: 0.600, MAE: 0.573, MSE: 0.596 | Training time: 1.2\n",
      "\n",
      "=======================Selected features 105/198 =======================\n",
      "LR | R2: 0.566, MAE: 0.622, MSE: 0.645 | Training time: 0.0\n",
      "RFR | R2: 0.590, MAE: 0.583, MSE: 0.610 | Training time: 12.9\n",
      "DTR | R2: 0.184, MAE: 0.797, MSE: 1.215 | Training time: 0.2\n",
      "SVR | R2: 0.669, MAE: 0.527, MSE: 0.492 | Training time: 0.7\n",
      "MLPR | R2: 0.649, MAE: 0.533, MSE: 0.523 | Training time: 3.8\n",
      "XGBR | R2: 0.626, MAE: 0.550, MSE: 0.557 | Training time: 1.2\n",
      "\n",
      "=======================Selected features 110/198 =======================\n",
      "LR | R2: 0.572, MAE: 0.623, MSE: 0.637 | Training time: 0.0\n",
      "RFR | R2: 0.597, MAE: 0.582, MSE: 0.600 | Training time: 12.8\n",
      "DTR | R2: 0.171, MAE: 0.788, MSE: 1.234 | Training time: 0.3\n",
      "SVR | R2: 0.680, MAE: 0.514, MSE: 0.476 | Training time: 0.9\n",
      "MLPR | R2: 0.580, MAE: 0.586, MSE: 0.624 | Training time: 5.0\n",
      "XGBR | R2: 0.592, MAE: 0.582, MSE: 0.607 | Training time: 1.6\n",
      "\n",
      "=======================Selected features 115/198 =======================\n",
      "LR | R2: 0.560, MAE: 0.634, MSE: 0.655 | Training time: 0.1\n",
      "RFR | R2: 0.599, MAE: 0.578, MSE: 0.596 | Training time: 14.9\n",
      "DTR | R2: 0.174, MAE: 0.773, MSE: 1.229 | Training time: 0.2\n",
      "SVR | R2: 0.675, MAE: 0.520, MSE: 0.484 | Training time: 0.9\n",
      "MLPR | R2: 0.627, MAE: 0.536, MSE: 0.555 | Training time: 4.7\n",
      "XGBR | R2: 0.633, MAE: 0.549, MSE: 0.546 | Training time: 1.3\n",
      "\n",
      "=======================Selected features 120/198 =======================\n",
      "LR | R2: 0.569, MAE: 0.626, MSE: 0.641 | Training time: 0.1\n",
      "RFR | R2: 0.605, MAE: 0.575, MSE: 0.587 | Training time: 15.4\n",
      "DTR | R2: 0.176, MAE: 0.794, MSE: 1.226 | Training time: 0.2\n",
      "SVR | R2: 0.680, MAE: 0.513, MSE: 0.476 | Training time: 0.8\n",
      "MLPR | R2: 0.606, MAE: 0.565, MSE: 0.587 | Training time: 4.4\n",
      "XGBR | R2: 0.614, MAE: 0.554, MSE: 0.575 | Training time: 1.3\n",
      "\n",
      "=======================Selected features 125/198 =======================\n",
      "LR | R2: 0.569, MAE: 0.622, MSE: 0.642 | Training time: 0.1\n",
      "RFR | R2: 0.606, MAE: 0.573, MSE: 0.587 | Training time: 13.4\n",
      "DTR | R2: 0.164, MAE: 0.783, MSE: 1.244 | Training time: 0.2\n",
      "SVR | R2: 0.680, MAE: 0.513, MSE: 0.477 | Training time: 0.8\n",
      "MLPR | R2: 0.595, MAE: 0.559, MSE: 0.603 | Training time: 4.4\n",
      "XGBR | R2: 0.617, MAE: 0.555, MSE: 0.570 | Training time: 1.2\n",
      "\n",
      "=======================Selected features 130/198 =======================\n",
      "LR | R2: 0.575, MAE: 0.617, MSE: 0.632 | Training time: 0.1\n",
      "RFR | R2: 0.599, MAE: 0.580, MSE: 0.597 | Training time: 15.1\n",
      "DTR | R2: 0.206, MAE: 0.805, MSE: 1.182 | Training time: 0.2\n",
      "SVR | R2: 0.673, MAE: 0.517, MSE: 0.487 | Training time: 0.7\n",
      "MLPR | R2: 0.628, MAE: 0.531, MSE: 0.554 | Training time: 4.0\n",
      "XGBR | R2: 0.589, MAE: 0.586, MSE: 0.612 | Training time: 1.4\n",
      "\n",
      "=======================Selected features 135/198 =======================\n",
      "LR | R2: 0.585, MAE: 0.612, MSE: 0.617 | Training time: 0.1\n",
      "RFR | R2: 0.597, MAE: 0.580, MSE: 0.600 | Training time: 15.1\n",
      "DTR | R2: 0.237, MAE: 0.772, MSE: 1.136 | Training time: 0.3\n",
      "SVR | R2: 0.671, MAE: 0.522, MSE: 0.490 | Training time: 1.0\n",
      "MLPR | R2: 0.615, MAE: 0.556, MSE: 0.573 | Training time: 4.3\n",
      "XGBR | R2: 0.611, MAE: 0.567, MSE: 0.580 | Training time: 1.5\n",
      "\n",
      "=======================Selected features 140/198 =======================\n",
      "LR | R2: 0.595, MAE: 0.607, MSE: 0.603 | Training time: 0.1\n",
      "RFR | R2: 0.605, MAE: 0.577, MSE: 0.588 | Training time: 15.4\n",
      "DTR | R2: 0.239, MAE: 0.776, MSE: 1.132 | Training time: 0.2\n",
      "SVR | R2: 0.668, MAE: 0.515, MSE: 0.494 | Training time: 0.9\n",
      "MLPR | R2: 0.616, MAE: 0.561, MSE: 0.571 | Training time: 4.5\n",
      "XGBR | R2: 0.616, MAE: 0.566, MSE: 0.572 | Training time: 1.3\n",
      "\n",
      "=======================Selected features 145/198 =======================\n",
      "LR | R2: 0.591, MAE: 0.614, MSE: 0.609 | Training time: 0.1\n",
      "RFR | R2: 0.603, MAE: 0.578, MSE: 0.590 | Training time: 14.0\n",
      "DTR | R2: 0.217, MAE: 0.791, MSE: 1.166 | Training time: 0.3\n",
      "SVR | R2: 0.673, MAE: 0.520, MSE: 0.487 | Training time: 0.8\n",
      "MLPR | R2: 0.621, MAE: 0.557, MSE: 0.565 | Training time: 4.2\n",
      "XGBR | R2: 0.600, MAE: 0.585, MSE: 0.596 | Training time: 1.3\n",
      "\n",
      "=======================Selected features 150/198 =======================\n",
      "LR | R2: 0.589, MAE: 0.611, MSE: 0.612 | Training time: 0.1\n",
      "RFR | R2: 0.597, MAE: 0.582, MSE: 0.600 | Training time: 14.0\n",
      "DTR | R2: 0.265, MAE: 0.757, MSE: 1.094 | Training time: 0.3\n",
      "SVR | R2: 0.678, MAE: 0.513, MSE: 0.480 | Training time: 0.8\n",
      "MLPR | R2: 0.599, MAE: 0.547, MSE: 0.597 | Training time: 4.8\n",
      "XGBR | R2: 0.649, MAE: 0.541, MSE: 0.522 | Training time: 1.3\n",
      "\n",
      "=======================Selected features 155/198 =======================\n",
      "LR | R2: 0.603, MAE: 0.601, MSE: 0.591 | Training time: 0.1\n",
      "RFR | R2: 0.603, MAE: 0.575, MSE: 0.591 | Training time: 14.0\n",
      "DTR | R2: 0.280, MAE: 0.748, MSE: 1.071 | Training time: 0.2\n",
      "SVR | R2: 0.685, MAE: 0.501, MSE: 0.469 | Training time: 0.8\n",
      "MLPR | R2: 0.647, MAE: 0.515, MSE: 0.525 | Training time: 2.8\n",
      "XGBR | R2: 0.609, MAE: 0.567, MSE: 0.583 | Training time: 1.3\n",
      "\n",
      "=======================Selected features 160/198 =======================\n",
      "LR | R2: 0.583, MAE: 0.606, MSE: 0.621 | Training time: 0.1\n",
      "RFR | R2: 0.603, MAE: 0.578, MSE: 0.591 | Training time: 14.2\n",
      "DTR | R2: 0.275, MAE: 0.756, MSE: 1.080 | Training time: 0.3\n",
      "SVR | R2: 0.681, MAE: 0.507, MSE: 0.474 | Training time: 0.8\n",
      "MLPR | R2: 0.669, MAE: 0.518, MSE: 0.492 | Training time: 4.4\n",
      "XGBR | R2: 0.599, MAE: 0.581, MSE: 0.597 | Training time: 1.3\n",
      "\n",
      "=======================Selected features 165/198 =======================\n",
      "LR | R2: 0.599, MAE: 0.604, MSE: 0.596 | Training time: 0.1\n",
      "RFR | R2: 0.604, MAE: 0.578, MSE: 0.589 | Training time: 14.1\n",
      "DTR | R2: 0.220, MAE: 0.780, MSE: 1.161 | Training time: 0.2\n",
      "SVR | R2: 0.683, MAE: 0.505, MSE: 0.472 | Training time: 0.8\n",
      "MLPR | R2: 0.657, MAE: 0.524, MSE: 0.511 | Training time: 3.1\n",
      "XGBR | R2: 0.578, MAE: 0.595, MSE: 0.628 | Training time: 1.3\n",
      "\n",
      "=======================Selected features 170/198 =======================\n",
      "LR | R2: 0.591, MAE: 0.601, MSE: 0.609 | Training time: 0.1\n",
      "RFR | R2: 0.596, MAE: 0.582, MSE: 0.601 | Training time: 14.3\n",
      "DTR | R2: 0.288, MAE: 0.752, MSE: 1.059 | Training time: 0.2\n",
      "SVR | R2: 0.676, MAE: 0.508, MSE: 0.482 | Training time: 0.8\n",
      "MLPR | R2: 0.616, MAE: 0.552, MSE: 0.571 | Training time: 4.5\n",
      "XGBR | R2: 0.612, MAE: 0.560, MSE: 0.577 | Training time: 1.3\n",
      "\n",
      "=======================Selected features 175/198 =======================\n",
      "LR | R2: 0.598, MAE: 0.595, MSE: 0.598 | Training time: 0.1\n",
      "RFR | R2: 0.605, MAE: 0.576, MSE: 0.588 | Training time: 14.5\n",
      "DTR | R2: 0.201, MAE: 0.781, MSE: 1.189 | Training time: 0.2\n",
      "SVR | R2: 0.673, MAE: 0.517, MSE: 0.487 | Training time: 0.8\n",
      "MLPR | R2: 0.646, MAE: 0.524, MSE: 0.528 | Training time: 3.7\n",
      "XGBR | R2: 0.612, MAE: 0.558, MSE: 0.578 | Training time: 1.3\n",
      "\n",
      "=======================Selected features 180/198 =======================\n",
      "LR | R2: 0.592, MAE: 0.596, MSE: 0.608 | Training time: 0.1\n",
      "RFR | R2: 0.604, MAE: 0.578, MSE: 0.589 | Training time: 14.2\n",
      "DTR | R2: 0.264, MAE: 0.765, MSE: 1.095 | Training time: 0.2\n",
      "SVR | R2: 0.683, MAE: 0.506, MSE: 0.472 | Training time: 0.8\n",
      "MLPR | R2: 0.619, MAE: 0.542, MSE: 0.568 | Training time: 4.3\n",
      "XGBR | R2: 0.623, MAE: 0.554, MSE: 0.562 | Training time: 1.4\n",
      "\n",
      "=======================Selected features 185/198 =======================\n",
      "LR | R2: 0.604, MAE: 0.599, MSE: 0.590 | Training time: 0.1\n",
      "RFR | R2: 0.602, MAE: 0.579, MSE: 0.592 | Training time: 14.2\n",
      "DTR | R2: 0.241, MAE: 0.767, MSE: 1.130 | Training time: 0.2\n",
      "SVR | R2: 0.677, MAE: 0.516, MSE: 0.481 | Training time: 0.8\n",
      "MLPR | R2: 0.632, MAE: 0.520, MSE: 0.548 | Training time: 4.4\n",
      "XGBR | R2: 0.613, MAE: 0.558, MSE: 0.576 | Training time: 1.4\n",
      "\n",
      "=======================Selected features 190/198 =======================\n",
      "LR | R2: 0.609, MAE: 0.594, MSE: 0.581 | Training time: 0.1\n",
      "RFR | R2: 0.602, MAE: 0.579, MSE: 0.592 | Training time: 14.4\n",
      "DTR | R2: 0.237, MAE: 0.772, MSE: 1.136 | Training time: 0.2\n",
      "SVR | R2: 0.679, MAE: 0.514, MSE: 0.478 | Training time: 0.9\n",
      "MLPR | R2: 0.612, MAE: 0.552, MSE: 0.578 | Training time: 3.7\n",
      "XGBR | R2: 0.623, MAE: 0.560, MSE: 0.562 | Training time: 1.4\n",
      "\n",
      "=======================Selected features 195/198 =======================\n",
      "LR | R2: 0.601, MAE: 0.591, MSE: 0.594 | Training time: 0.1\n"
     ]
    },
    {
     "name": "stdout",
     "output_type": "stream",
     "text": [
      "RFR | R2: 0.604, MAE: 0.578, MSE: 0.590 | Training time: 14.7\n",
      "DTR | R2: 0.193, MAE: 0.800, MSE: 1.202 | Training time: 0.2\n",
      "SVR | R2: 0.683, MAE: 0.506, MSE: 0.471 | Training time: 0.8\n",
      "MLPR | R2: 0.649, MAE: 0.522, MSE: 0.522 | Training time: 3.7\n",
      "XGBR | R2: 0.604, MAE: 0.571, MSE: 0.589 | Training time: 1.4\n"
     ]
    }
   ],
   "source": [
    "# Apply feature selection using mutual_info_regression\n",
    "models_mir, results_mir, num_sel_feat_mir,features_mir = fs_score_fn(X_train, y_train, X_val, y_val, X_train_norm, X_val_norm, False, mutual_info_regression)"
   ]
  },
  {
   "cell_type": "code",
   "execution_count": 24,
   "id": "31bf81ef",
   "metadata": {},
   "outputs": [
    {
     "data": {
      "image/png": "[encoded data removed]",
      "text/plain": [
       "<Figure size 950x380 with 1 Axes>"
      ]
     },
     "metadata": {},
     "output_type": "display_data"
    }
   ],
   "source": [
    "# Plot scores obtained\n",
    "r2_mir, mse_mir = plot_fs_metrics(num_sel_feat_mir, results_mir, \"Mutual Info Regression\")"
   ]
  },
  {
   "cell_type": "markdown",
   "id": "18c33bd6",
   "metadata": {},
   "source": [
    "Best performance occurs when the number of selected features is **155**, **47** less feature w.r.t baseline. Model that better performs is **SVR**, with the following metrics: **R2: 0.685, MAE: 0.501, MSE: 0.469**."
   ]
  },
  {
   "cell_type": "code",
   "execution_count": 62,
   "id": "ffe01e86",
   "metadata": {},
   "outputs": [
    {
     "name": "stdout",
     "output_type": "stream",
     "text": [
      "Number of features that will be employed: 155\n"
     ]
    }
   ],
   "source": [
    "# Selected features by MIR algorithm\n",
    "idx = get_pos_features(r2_mir)\n",
    "selected_features_mir = features_mir[idx]"
   ]
  },
  {
   "cell_type": "code",
   "execution_count": 26,
   "id": "44a0ec4f",
   "metadata": {},
   "outputs": [
    {
     "name": "stdout",
     "output_type": "stream",
     "text": [
      "{'kernel': 'rbf', 'gamma': 'auto', 'degree': 8, 'coef0': 0.01, 'C': 5}\n",
      "R2: 0.745198, MSE: 0.379259, MAE: 0.446818\n"
     ]
    }
   ],
   "source": [
    "# Apply randsearch to the potential model candidates with the selected features\n",
    "rnd_models_mir, metrics_rnd_mir = apply_randsearch(X_train[selected_features_mir]\n",
    "                                                        , y_train                                                       \n",
    "                                                        , X_val[selected_features_mir]\n",
    "                                                        , y_val\n",
    "                                                        , False\n",
    "                                                        , X_train_norm[selected_features_mir]\n",
    "                                                        , X_val_norm[selected_features_mir])"
   ]
  },
  {
   "cell_type": "markdown",
   "id": "e46ab445",
   "metadata": {},
   "source": [
    "## 4 - Improving the model: Manual data cleaning"
   ]
  },
  {
   "cell_type": "markdown",
   "id": "12146dd3",
   "metadata": {},
   "source": [
    "#### Pipeline\n",
    "- Remove **zero variance features**. \n",
    "- Remove **high correlated** features."
   ]
  },
  {
   "cell_type": "markdown",
   "id": "ff8b165d",
   "metadata": {},
   "source": [
    "#### 1 - Remove MolLogP, BCUT2D, and zero variance features. "
   ]
  },
  {
   "cell_type": "code",
   "execution_count": 27,
   "id": "2b6590f9",
   "metadata": {},
   "outputs": [
    {
     "name": "stdout",
     "output_type": "stream",
     "text": [
      "Total number of features dropped: 10\n"
     ]
    }
   ],
   "source": [
    "#Remove MolLogP, BCUT2D, and features with zero variance\n",
    "from sklearn.feature_selection import VarianceThreshold\n",
    "\n",
    "selector = VarianceThreshold()\n",
    "selector.fit(X_train)\n",
    "\n",
    "# Selector.get_support() returns a [,num_descriptors] boolean mask. False represents zero variance columns.\n",
    "zero_var_cols = [column for column in X_train.columns\n",
    "                    if column not in X_train.columns[selector.get_support()]]\n",
    "\n",
    "print('Total number of features dropped:', len(zero_var_cols))"
   ]
  },
  {
   "cell_type": "markdown",
   "id": "493f99a9",
   "metadata": {},
   "source": [
    "#### 2 - Remove high correlated features"
   ]
  },
  {
   "cell_type": "code",
   "execution_count": 28,
   "id": "cb42a5ff",
   "metadata": {},
   "outputs": [
    {
     "name": "stdout",
     "output_type": "stream",
     "text": [
      "Number of correlated features deleted: 29\n"
     ]
    }
   ],
   "source": [
    "# We drop the features with a high correlation\n",
    "\n",
    "corr = X_train.corr().abs()\n",
    "\n",
    "# Select upper triangle of correlation matrix\n",
    "upper = corr.where(np.triu(np.ones(corr.shape), k=1).astype(np.bool))\n",
    "\n",
    "# Find features with correlation greater than X\n",
    "correlated_features = [col for col in upper.columns if any(upper[col] > 0.95)]\n",
    "\n",
    "print('Number of correlated features deleted: {}'.format(len(correlated_features)))"
   ]
  },
  {
   "cell_type": "code",
   "execution_count": 29,
   "id": "807c56dc",
   "metadata": {},
   "outputs": [
    {
     "name": "stdout",
     "output_type": "stream",
     "text": [
      "Total number of remaining descriptors after the data cleaning: 159\n"
     ]
    }
   ],
   "source": [
    "# We group all the dropped features\n",
    "mc_cols = list(set(X_train.columns) - set(correlated_features + zero_var_cols))\n",
    "\n",
    "print('Total number of remaining descriptors after the data cleaning: {}'.format(len(mc_cols)))"
   ]
  },
  {
   "cell_type": "markdown",
   "id": "7f2c9f3f",
   "metadata": {},
   "source": [
    "### Models comparison after data cleaning"
   ]
  },
  {
   "cell_type": "code",
   "execution_count": 30,
   "id": "cb97ede6",
   "metadata": {
    "scrolled": false
   },
   "outputs": [
    {
     "name": "stdout",
     "output_type": "stream",
     "text": [
      "LR | R2: 0.562, MAE: 0.612, MSE: 0.652 | Training time: 0.1\n",
      "RFR | R2: 0.597, MAE: 0.582, MSE: 0.599 | Training time: 11.0\n",
      "DTR | R2: 0.183, MAE: 0.825, MSE: 1.216 | Training time: 0.2\n",
      "SVR | R2: 0.690, MAE: 0.502, MSE: 0.462 | Training time: 0.8\n",
      "MLPR | R2: 0.636, MAE: 0.536, MSE: 0.542 | Training time: 4.2\n",
      "XGBR | R2: 0.639, MAE: 0.534, MSE: 0.537 | Training time: 1.1\n"
     ]
    },
    {
     "data": {
      "image/png": "[encoded data removed]",
      "text/plain": [
       "<Figure size 1425x570 with 1 Axes>"
      ]
     },
     "metadata": {},
     "output_type": "display_data"
    }
   ],
   "source": [
    "models, results = models_comparison(X_train[mc_cols]\n",
    "                                    , y_train\n",
    "                                    , X_val[mc_cols]\n",
    "                                    , y_val\n",
    "                                    , False\n",
    "                                    , True\n",
    "                                    , False\n",
    "                                    , X_train_norm[mc_cols]\n",
    "                                    , X_val_norm[mc_cols])"
   ]
  },
  {
   "cell_type": "markdown",
   "id": "511947bd",
   "metadata": {},
   "source": [
    "Best performance occurs when the number of selected features is **159**, **49** less features wrt baseline. Model that better performs is **SVR**, with the following metrics: **R2: 0.690, MAE: 0.502, MSE: 0.462**."
   ]
  },
  {
   "cell_type": "code",
   "execution_count": 31,
   "id": "ba3b8685",
   "metadata": {
    "scrolled": true
   },
   "outputs": [
    {
     "name": "stdout",
     "output_type": "stream",
     "text": [
      "{'kernel': 'rbf', 'gamma': 'auto', 'degree': 8, 'coef0': 0.01, 'C': 5}\n",
      "R2: 0.743075, MSE: 0.382419, MAE: 0.447705\n"
     ]
    }
   ],
   "source": [
    "rnd_models_mc, metrics_rnd_mc = apply_randsearch(X_train[mc_cols]\n",
    "                                                        , y_train                                                       \n",
    "                                                        , X_val[mc_cols]\n",
    "                                                        , y_val\n",
    "                                                        , False\n",
    "                                                        , X_train_norm[mc_cols]\n",
    "                                                        , X_val_norm[mc_cols])"
   ]
  },
  {
   "cell_type": "markdown",
   "id": "b3fb245a",
   "metadata": {},
   "source": [
    "## Performance against the test set \n",
    "\n",
    "We will now see how our best model works with the unseen test set. Recall that the tuned SVR with the features selected by RelieFf is the chosen solution. "
   ]
  },
  {
   "cell_type": "code",
   "execution_count": 63,
   "id": "0dd9c153",
   "metadata": {},
   "outputs": [],
   "source": [
    "# Save the model that better performs  \n",
    "joblib.dump(rnd_models_relieff[0], 'svr_relieff.pkl')\n",
    "\n",
    "# In case loading the model \n",
    "svr_relieff = joblib.load('svr_relieff.pkl')"
   ]
  },
  {
   "cell_type": "code",
   "execution_count": 64,
   "id": "11b284f0",
   "metadata": {},
   "outputs": [
    {
     "data": {
      "image/png": "[encoded data removed]",
      "text/plain": [
       "<Figure size 900x600 with 1 Axes>"
      ]
     },
     "metadata": {},
     "output_type": "display_data"
    },
    {
     "name": "stdout",
     "output_type": "stream",
     "text": [
      "Number of samples: 840 | R2: 0.721, MSE: 0.401, MAE: 0.458\n"
     ]
    }
   ],
   "source": [
    "# Predict the labels \n",
    "y_pred = svr_relieff.predict(X_test_norm[selected_features_relieff])\n",
    "\n",
    "# R2, MSE, MAE\n",
    "r2 = metrics.r2_score(y_test, y_pred)\n",
    "mse = metrics.mean_squared_error(y_test, y_pred)\n",
    "mae = metrics.mean_absolute_error(y_test, y_pred)\n",
    "\n",
    "# Scatter plot\n",
    "plt.figure(dpi = 150)\n",
    "plt.scatter(y_test, y_pred, color='salmon', s=5)\n",
    "plt.plot(np.unique(y_test), np.poly1d(np.polyfit(y_test, y_pred, 1))(np.unique(y_test)), color='black')\n",
    "\n",
    "plt.text(0, 3.5,'R-squared = %0.2f' % r2)\n",
    "plt.xlabel('True lipophilicity values')\n",
    "plt.ylabel('Predicted lipophilicity values')\n",
    "plt.title('Prediction results using tuned SVR + RelieFf')\n",
    "plt.show()\\\n",
    "\n",
    "# Print metrics\n",
    "print('Number of samples: %d | R2: %0.3f, MSE: %0.3f, MAE: %0.3f' %(len(y_test), r2, mse, mae))"
   ]
  }
 ],
 "metadata": {
  "kernelspec": {
   "display_name": "Python 3 (ipykernel)",
   "language": "python",
   "name": "python3"
  },
  "language_info": {
   "codemirror_mode": {
    "name": "ipython",
    "version": 3
   },
   "file_extension": ".py",
   "mimetype": "text/x-python",
   "name": "python",
   "nbconvert_exporter": "python",
   "pygments_lexer": "ipython3",
   "version": "3.9.7"
  }
 },
 "nbformat": 4,
 "nbformat_minor": 5
}
