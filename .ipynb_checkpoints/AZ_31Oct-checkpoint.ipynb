{
 "cells": [
  {
   "cell_type": "markdown",
   "id": "53347800",
   "metadata": {},
   "source": [
    "# Benchmarking feature selection algorithms in the molecular property prediction space\n"
   ]
  },
  {
   "cell_type": "code",
   "execution_count": 1,
   "id": "752add9f",
   "metadata": {},
   "outputs": [],
   "source": [
    "#!pip install ipynb\n",
    "#!pip install shap\n",
    "#!pip install joblib\n",
    "#!pip install molvs\n",
    "\n",
    "#Added\n",
    "#!pip install skrebate"
   ]
  },
  {
   "cell_type": "code",
   "execution_count": 65,
   "id": "2d6f835c",
   "metadata": {},
   "outputs": [],
   "source": [
    "# Datasets\n",
    "from tdc.single_pred import ADME, Tox\n",
    "\n",
    "# Additional functions in a separate ipynb file\n",
    "from ipynb.fs.full.AZ_additional_functions import *\n",
    "\n",
    "# General use \n",
    "import pandas as pd\n",
    "import numpy as np\n",
    "import seaborn as sns\n",
    "import matplotlib.pyplot as plt \n",
    "\n",
    "#import shap\n",
    "import joblib\n",
    "\n",
    "import scipy\n",
    "import sklearn.metrics as metrics\n",
    "from sklearn.preprocessing import StandardScaler\n",
    "from sklearn.model_selection import RandomizedSearchCV\n",
    "\n",
    "# Models\n",
    "from sklearn.ensemble import RandomForestRegressor\n",
    "from sklearn.svm import SVR\n",
    "\n",
    "# RDkit\n",
    "from rdkit import Chem\n",
    "from rdkit import RDLogger\n",
    "from rdkit import DataStructs\n",
    "from rdkit.Chem import AllChem\n",
    "from rdkit.Chem import Descriptors\n",
    "from rdkit.ML.Descriptors.MoleculeDescriptors import MolecularDescriptorCalculator\n",
    "\n",
    "#Added\n",
    "from sklearn.feature_selection import SelectKBest\n",
    "from skrebate import ReliefF\n",
    "from sklearn.feature_selection import mutual_info_regression, RFE\n",
    "\n",
    "# Standardizing\n",
    "from molvs import standardize_smiles"
   ]
  },
  {
   "cell_type": "code",
   "execution_count": 3,
   "id": "f0ee888e",
   "metadata": {},
   "outputs": [],
   "source": [
    "benchmark = []"
   ]
  },
  {
   "cell_type": "markdown",
   "id": "834b5299",
   "metadata": {},
   "source": [
    "## Lipophilicity\n",
    "\n",
    "Lipophilicity measures the ability of a drug to dissolve in a lipid (e.g. fats, oils) environment. High lipophilicity often leads to high rate of metabolism, poor solubility, high turn-over, and low absorption"
   ]
  },
  {
   "cell_type": "code",
   "execution_count": 4,
   "id": "20f68759",
   "metadata": {},
   "outputs": [
    {
     "name": "stderr",
     "output_type": "stream",
     "text": [
      "Found local copy...\n",
      "Loading...\n",
      "Done!\n"
     ]
    }
   ],
   "source": [
    "data = ADME(name = 'Lipophilicity_AstraZeneca')\n",
    "#DF contains the whole dataset stored in a Pandas dataframe format \n",
    "df = data.get_data()\n",
    "#Get_split divides the dataset into 3 different sets (Train, validation, test)\n",
    "split_LIPO = data.get_split()"
   ]
  },
  {
   "cell_type": "code",
   "execution_count": 5,
   "id": "3e35f52e",
   "metadata": {
    "scrolled": false
   },
   "outputs": [
    {
     "name": "stdout",
     "output_type": "stream",
     "text": [
      "Total number of molecules: 4200\n",
      "Train set: 2940 - 70.0%\n",
      "Validation set: 420 - 10.0%\n",
      "Test set: 840 - 20.0%\n"
     ]
    },
    {
     "data": {
      "text/html": [
       "<div>\n",
       "<style scoped>\n",
       "    .dataframe tbody tr th:only-of-type {\n",
       "        vertical-align: middle;\n",
       "    }\n",
       "\n",
       "    .dataframe tbody tr th {\n",
       "        vertical-align: top;\n",
       "    }\n",
       "\n",
       "    .dataframe thead th {\n",
       "        text-align: right;\n",
       "    }\n",
       "</style>\n",
       "<table border=\"1\" class=\"dataframe\">\n",
       "  <thead>\n",
       "    <tr style=\"text-align: right;\">\n",
       "      <th></th>\n",
       "      <th>Drug_ID</th>\n",
       "      <th>Drug</th>\n",
       "      <th>Y</th>\n",
       "    </tr>\n",
       "  </thead>\n",
       "  <tbody>\n",
       "    <tr>\n",
       "      <th>0</th>\n",
       "      <td>CHEMBL596271</td>\n",
       "      <td>Cn1c(CN2CCN(c3ccc(Cl)cc3)CC2)nc2ccccc21</td>\n",
       "      <td>3.54</td>\n",
       "    </tr>\n",
       "    <tr>\n",
       "      <th>1</th>\n",
       "      <td>CHEMBL1951080</td>\n",
       "      <td>COc1cc(OC)c(S(=O)(=O)N2c3ccccc3CCC2C)cc1NC(=O)...</td>\n",
       "      <td>-1.18</td>\n",
       "    </tr>\n",
       "    <tr>\n",
       "      <th>2</th>\n",
       "      <td>CHEMBL1771</td>\n",
       "      <td>COC(=O)[C@H](c1ccccc1Cl)N1CCc2sccc2C1</td>\n",
       "      <td>3.69</td>\n",
       "    </tr>\n",
       "    <tr>\n",
       "      <th>3</th>\n",
       "      <td>CHEMBL317462</td>\n",
       "      <td>OC1(C#Cc2ccc(-c3ccccc3)cc2)CN2CCC1CC2</td>\n",
       "      <td>3.14</td>\n",
       "    </tr>\n",
       "    <tr>\n",
       "      <th>4</th>\n",
       "      <td>CHEMBL1940306</td>\n",
       "      <td>CS(=O)(=O)c1ccc(Oc2ccc(C#C[C@]3(O)CN4CCC3CC4)c...</td>\n",
       "      <td>1.51</td>\n",
       "    </tr>\n",
       "  </tbody>\n",
       "</table>\n",
       "</div>"
      ],
      "text/plain": [
       "         Drug_ID                                               Drug     Y\n",
       "0   CHEMBL596271            Cn1c(CN2CCN(c3ccc(Cl)cc3)CC2)nc2ccccc21  3.54\n",
       "1  CHEMBL1951080  COc1cc(OC)c(S(=O)(=O)N2c3ccccc3CCC2C)cc1NC(=O)... -1.18\n",
       "2     CHEMBL1771              COC(=O)[C@H](c1ccccc1Cl)N1CCc2sccc2C1  3.69\n",
       "3   CHEMBL317462              OC1(C#Cc2ccc(-c3ccccc3)cc2)CN2CCC1CC2  3.14\n",
       "4  CHEMBL1940306  CS(=O)(=O)c1ccc(Oc2ccc(C#C[C@]3(O)CN4CCC3CC4)c...  1.51"
      ]
     },
     "metadata": {},
     "output_type": "display_data"
    }
   ],
   "source": [
    "data_overview(df, split_LIPO)"
   ]
  },
  {
   "cell_type": "code",
   "execution_count": 6,
   "id": "bdbaddcb",
   "metadata": {},
   "outputs": [
    {
     "name": "stdout",
     "output_type": "stream",
     "text": [
      "Number of compounds modified: 1\n"
     ]
    }
   ],
   "source": [
    "# Remove fragments of compounds that may contain them\n",
    "frag_compounds = [comp for comp in df['Drug'] if len(comp.split('.')) > 1]\n",
    "for ind, c in enumerate(frag_compounds):\n",
    "    df.loc[df.Drug == frag_compounds[ind], 'Drug'] = frag_compounds[ind].split('.')[0]\n",
    "\n",
    "print('Number of compounds modified: {}'.format(len(frag_compounds)))"
   ]
  },
  {
   "cell_type": "code",
   "execution_count": 7,
   "id": "e3a23a65",
   "metadata": {},
   "outputs": [
    {
     "name": "stdout",
     "output_type": "stream",
     "text": [
      "Duplicated compounds and with less than 5 heavy atoms have been removed.\n",
      "New number of compounds: 4200 (0)\n"
     ]
    }
   ],
   "source": [
    "# Duplicates and compounds with less than 5 heavy atoms removal\n",
    "df = remove_ha_duplicates(df)"
   ]
  },
  {
   "cell_type": "markdown",
   "id": "38e5b92c",
   "metadata": {},
   "source": [
    "### Descriptors\n",
    "Contain numerical information regarding the molecule "
   ]
  },
  {
   "cell_type": "code",
   "execution_count": 8,
   "id": "5ee7a23b",
   "metadata": {},
   "outputs": [
    {
     "name": "stdout",
     "output_type": "stream",
     "text": [
      "Calculator initialized. Total number of descriptors: 208\n"
     ]
    }
   ],
   "source": [
    "descList = [i for i,j in Descriptors.descList]\n",
    "#Molecular descriptor calculator\n",
    "calculator = MolecularDescriptorCalculator(descList)\n",
    "print('Calculator initialized. Total number of descriptors:', len(descList))"
   ]
  },
  {
   "cell_type": "code",
   "execution_count": 9,
   "id": "634ed22d",
   "metadata": {},
   "outputs": [
    {
     "name": "stdout",
     "output_type": "stream",
     "text": [
      "Actual shape of the Dataframe: (4200, 211)\n"
     ]
    }
   ],
   "source": [
    "# Standardize the molecules \n",
    "df['Drug'] = [standardize_smiles(smi) for smi in df['Drug']]\n",
    "\n",
    "# Generate a list of lists where each row corresponds to a molecule and each column to a descriptor (transpose step required)\n",
    "c = [calculator.CalcDescriptors(Chem.MolFromSmiles(smi)) for smi in df['Drug']]\n",
    "\n",
    "# Convert it into a numpy array and transpose it so the columns represent the descriptors\n",
    "c = np.asarray(c).transpose()\n",
    "\n",
    "# Append all the descriptors to the DF\n",
    "for i, descriptor in enumerate(descList):\n",
    "    df[descriptor] = c[i]\n",
    "    \n",
    "#We move the target (lipophilicity value) to the end\n",
    "temp = df.pop('Y') # remove column b and store it in df1\n",
    "df['Y'] = temp\n",
    "\n",
    "print('Actual shape of the Dataframe:', df.shape)"
   ]
  },
  {
   "cell_type": "code",
   "execution_count": 10,
   "id": "ca07623e",
   "metadata": {
    "scrolled": true
   },
   "outputs": [
    {
     "data": {
      "text/html": [
       "<div>\n",
       "<style scoped>\n",
       "    .dataframe tbody tr th:only-of-type {\n",
       "        vertical-align: middle;\n",
       "    }\n",
       "\n",
       "    .dataframe tbody tr th {\n",
       "        vertical-align: top;\n",
       "    }\n",
       "\n",
       "    .dataframe thead th {\n",
       "        text-align: right;\n",
       "    }\n",
       "</style>\n",
       "<table border=\"1\" class=\"dataframe\">\n",
       "  <thead>\n",
       "    <tr style=\"text-align: right;\">\n",
       "      <th></th>\n",
       "      <th>Drug_ID</th>\n",
       "      <th>Drug</th>\n",
       "      <th>MaxEStateIndex</th>\n",
       "      <th>MinEStateIndex</th>\n",
       "      <th>MaxAbsEStateIndex</th>\n",
       "      <th>MinAbsEStateIndex</th>\n",
       "      <th>qed</th>\n",
       "      <th>MolWt</th>\n",
       "      <th>HeavyAtomMolWt</th>\n",
       "      <th>ExactMolWt</th>\n",
       "      <th>...</th>\n",
       "      <th>fr_sulfonamd</th>\n",
       "      <th>fr_sulfone</th>\n",
       "      <th>fr_term_acetylene</th>\n",
       "      <th>fr_tetrazole</th>\n",
       "      <th>fr_thiazole</th>\n",
       "      <th>fr_thiocyan</th>\n",
       "      <th>fr_thiophene</th>\n",
       "      <th>fr_unbrch_alkane</th>\n",
       "      <th>fr_urea</th>\n",
       "      <th>Y</th>\n",
       "    </tr>\n",
       "  </thead>\n",
       "  <tbody>\n",
       "    <tr>\n",
       "      <th>0</th>\n",
       "      <td>CHEMBL596271</td>\n",
       "      <td>Cn1c(CN2CCN(c3ccc(Cl)cc3)CC2)nc2ccccc21</td>\n",
       "      <td>5.976320</td>\n",
       "      <td>0.790958</td>\n",
       "      <td>5.976320</td>\n",
       "      <td>0.790958</td>\n",
       "      <td>0.728444</td>\n",
       "      <td>340.858</td>\n",
       "      <td>319.690</td>\n",
       "      <td>340.145474</td>\n",
       "      <td>...</td>\n",
       "      <td>0.0</td>\n",
       "      <td>0.0</td>\n",
       "      <td>0.0</td>\n",
       "      <td>0.0</td>\n",
       "      <td>0.0</td>\n",
       "      <td>0.0</td>\n",
       "      <td>0.0</td>\n",
       "      <td>0.0</td>\n",
       "      <td>0.0</td>\n",
       "      <td>3.54</td>\n",
       "    </tr>\n",
       "    <tr>\n",
       "      <th>1</th>\n",
       "      <td>CHEMBL1951080</td>\n",
       "      <td>COc1cc(OC)c(S(=O)(=O)N2c3ccccc3CCC2C)cc1NC(=O)...</td>\n",
       "      <td>13.847757</td>\n",
       "      <td>-4.060285</td>\n",
       "      <td>13.847757</td>\n",
       "      <td>0.083663</td>\n",
       "      <td>0.545587</td>\n",
       "      <td>494.591</td>\n",
       "      <td>468.383</td>\n",
       "      <td>494.118143</td>\n",
       "      <td>...</td>\n",
       "      <td>1.0</td>\n",
       "      <td>0.0</td>\n",
       "      <td>0.0</td>\n",
       "      <td>0.0</td>\n",
       "      <td>0.0</td>\n",
       "      <td>0.0</td>\n",
       "      <td>0.0</td>\n",
       "      <td>0.0</td>\n",
       "      <td>0.0</td>\n",
       "      <td>-1.18</td>\n",
       "    </tr>\n",
       "    <tr>\n",
       "      <th>2</th>\n",
       "      <td>CHEMBL1771</td>\n",
       "      <td>COC(=O)[C@H](c1ccccc1Cl)N1CCc2sccc2C1</td>\n",
       "      <td>12.294248</td>\n",
       "      <td>-0.447454</td>\n",
       "      <td>12.294248</td>\n",
       "      <td>0.262241</td>\n",
       "      <td>0.807761</td>\n",
       "      <td>321.829</td>\n",
       "      <td>305.701</td>\n",
       "      <td>321.059027</td>\n",
       "      <td>...</td>\n",
       "      <td>0.0</td>\n",
       "      <td>0.0</td>\n",
       "      <td>0.0</td>\n",
       "      <td>0.0</td>\n",
       "      <td>0.0</td>\n",
       "      <td>0.0</td>\n",
       "      <td>1.0</td>\n",
       "      <td>0.0</td>\n",
       "      <td>0.0</td>\n",
       "      <td>3.69</td>\n",
       "    </tr>\n",
       "    <tr>\n",
       "      <th>3</th>\n",
       "      <td>CHEMBL234951</td>\n",
       "      <td>O=C(NC1Cc2ccccc2N(C[C@@H](O)CO)C1=O)c1cc2cc(Cl...</td>\n",
       "      <td>12.966133</td>\n",
       "      <td>-1.063518</td>\n",
       "      <td>12.966133</td>\n",
       "      <td>0.046181</td>\n",
       "      <td>0.506650</td>\n",
       "      <td>419.890</td>\n",
       "      <td>401.746</td>\n",
       "      <td>419.070655</td>\n",
       "      <td>...</td>\n",
       "      <td>0.0</td>\n",
       "      <td>0.0</td>\n",
       "      <td>0.0</td>\n",
       "      <td>0.0</td>\n",
       "      <td>0.0</td>\n",
       "      <td>0.0</td>\n",
       "      <td>1.0</td>\n",
       "      <td>0.0</td>\n",
       "      <td>0.0</td>\n",
       "      <td>3.37</td>\n",
       "    </tr>\n",
       "    <tr>\n",
       "      <th>4</th>\n",
       "      <td>CHEMBL565079</td>\n",
       "      <td>Cc1cccc(C[C@H](NC(=O)c2cc(C(C)(C)C)nn2C)C(=O)N...</td>\n",
       "      <td>12.834652</td>\n",
       "      <td>-0.795707</td>\n",
       "      <td>12.834652</td>\n",
       "      <td>0.112199</td>\n",
       "      <td>0.747686</td>\n",
       "      <td>381.480</td>\n",
       "      <td>354.264</td>\n",
       "      <td>381.216475</td>\n",
       "      <td>...</td>\n",
       "      <td>0.0</td>\n",
       "      <td>0.0</td>\n",
       "      <td>0.0</td>\n",
       "      <td>0.0</td>\n",
       "      <td>0.0</td>\n",
       "      <td>0.0</td>\n",
       "      <td>0.0</td>\n",
       "      <td>0.0</td>\n",
       "      <td>0.0</td>\n",
       "      <td>3.10</td>\n",
       "    </tr>\n",
       "  </tbody>\n",
       "</table>\n",
       "<p>5 rows × 211 columns</p>\n",
       "</div>"
      ],
      "text/plain": [
       "         Drug_ID                                               Drug  \\\n",
       "0   CHEMBL596271            Cn1c(CN2CCN(c3ccc(Cl)cc3)CC2)nc2ccccc21   \n",
       "1  CHEMBL1951080  COc1cc(OC)c(S(=O)(=O)N2c3ccccc3CCC2C)cc1NC(=O)...   \n",
       "2     CHEMBL1771              COC(=O)[C@H](c1ccccc1Cl)N1CCc2sccc2C1   \n",
       "3   CHEMBL234951  O=C(NC1Cc2ccccc2N(C[C@@H](O)CO)C1=O)c1cc2cc(Cl...   \n",
       "4   CHEMBL565079  Cc1cccc(C[C@H](NC(=O)c2cc(C(C)(C)C)nn2C)C(=O)N...   \n",
       "\n",
       "   MaxEStateIndex  MinEStateIndex  MaxAbsEStateIndex  MinAbsEStateIndex  \\\n",
       "0        5.976320        0.790958           5.976320           0.790958   \n",
       "1       13.847757       -4.060285          13.847757           0.083663   \n",
       "2       12.294248       -0.447454          12.294248           0.262241   \n",
       "3       12.966133       -1.063518          12.966133           0.046181   \n",
       "4       12.834652       -0.795707          12.834652           0.112199   \n",
       "\n",
       "        qed    MolWt  HeavyAtomMolWt  ExactMolWt  ...  fr_sulfonamd  \\\n",
       "0  0.728444  340.858         319.690  340.145474  ...           0.0   \n",
       "1  0.545587  494.591         468.383  494.118143  ...           1.0   \n",
       "2  0.807761  321.829         305.701  321.059027  ...           0.0   \n",
       "3  0.506650  419.890         401.746  419.070655  ...           0.0   \n",
       "4  0.747686  381.480         354.264  381.216475  ...           0.0   \n",
       "\n",
       "   fr_sulfone  fr_term_acetylene  fr_tetrazole  fr_thiazole  fr_thiocyan  \\\n",
       "0         0.0                0.0           0.0          0.0          0.0   \n",
       "1         0.0                0.0           0.0          0.0          0.0   \n",
       "2         0.0                0.0           0.0          0.0          0.0   \n",
       "3         0.0                0.0           0.0          0.0          0.0   \n",
       "4         0.0                0.0           0.0          0.0          0.0   \n",
       "\n",
       "   fr_thiophene  fr_unbrch_alkane  fr_urea     Y  \n",
       "0           0.0               0.0      0.0  3.54  \n",
       "1           0.0               0.0      0.0 -1.18  \n",
       "2           1.0               0.0      0.0  3.69  \n",
       "3           1.0               0.0      0.0  3.37  \n",
       "4           0.0               0.0      0.0  3.10  \n",
       "\n",
       "[5 rows x 211 columns]"
      ]
     },
     "execution_count": 10,
     "metadata": {},
     "output_type": "execute_result"
    }
   ],
   "source": [
    "df.head()"
   ]
  },
  {
   "cell_type": "markdown",
   "id": "ce26f010",
   "metadata": {},
   "source": [
    "### Fingerprints\n",
    "Allows us to find patterns in molecule structures."
   ]
  },
  {
   "cell_type": "code",
   "execution_count": 11,
   "id": "cde5b26d",
   "metadata": {},
   "outputs": [],
   "source": [
    "# FP_data = (num_mols x numVectorBits)\n",
    "def generate_fingerprints(df):\n",
    "    fp_data = []\n",
    "    fp_arr = np.zeros((1,))\n",
    "\n",
    "    for mol in df['Drug']:\n",
    "        fp = AllChem.GetMorganFingerprintAsBitVect(Chem.MolFromSmiles(mol),2,1024)\n",
    "        DataStructs.ConvertToNumpyArray(fp, fp_arr)\n",
    "        fp_data.append(fp_arr)\n",
    "    \n",
    "    print('Current shape of the fingerprint dataset:',len(fp_data),'x',len(fp_data[0]))\n",
    "    \n",
    "    return fp_data"
   ]
  },
  {
   "cell_type": "code",
   "execution_count": 12,
   "id": "0b6219d2",
   "metadata": {},
   "outputs": [
    {
     "name": "stdout",
     "output_type": "stream",
     "text": [
      "Current shape of the fingerprint dataset: 4200 x 1024\n"
     ]
    }
   ],
   "source": [
    "# Generate fingerprints dataset and transform into a dataframe\n",
    "fingerprints = generate_fingerprints(df)\n",
    "fps = pd.DataFrame(fingerprints, columns = np.arange(1,1025))"
   ]
  },
  {
   "cell_type": "markdown",
   "id": "555e9816",
   "metadata": {},
   "source": [
    "### Generate splits, remove NaNs, and normalization\n",
    "Lorem impsum"
   ]
  },
  {
   "cell_type": "markdown",
   "id": "00d2158e",
   "metadata": {},
   "source": [
    "#### Train, validation, and test sets for both Descriptors and fingerprints"
   ]
  },
  {
   "cell_type": "code",
   "execution_count": 13,
   "id": "1c2bf60a",
   "metadata": {
    "scrolled": true
   },
   "outputs": [
    {
     "name": "stdout",
     "output_type": "stream",
     "text": [
      "Data has been split\n"
     ]
    }
   ],
   "source": [
    "X_train, X_train_fps, y_train, X_val, X_val_fps, y_val, X_test, X_test_fps, y_test = train_val_test_split(df, split_LIPO, fps)"
   ]
  },
  {
   "cell_type": "markdown",
   "id": "7c3270bd",
   "metadata": {},
   "source": [
    "#### Remove NaNs values"
   ]
  },
  {
   "cell_type": "code",
   "execution_count": 14,
   "id": "343155e3",
   "metadata": {},
   "outputs": [
    {
     "name": "stdout",
     "output_type": "stream",
     "text": [
      "Removed the following rows in the train set: Int64Index([1561], dtype='int64')\n"
     ]
    }
   ],
   "source": [
    "X_train, X_train_fps, y_train, X_val, X_val_fps, X_test, y_test = remove_nans(X_train, X_val, X_test, y_train, y_val, y_test, X_train_fps, X_val_fps)"
   ]
  },
  {
   "cell_type": "markdown",
   "id": "294be08d",
   "metadata": {},
   "source": [
    "#### Data normalization required in linear models"
   ]
  },
  {
   "cell_type": "code",
   "execution_count": 15,
   "id": "d1fb3dad",
   "metadata": {},
   "outputs": [
    {
     "name": "stdout",
     "output_type": "stream",
     "text": [
      "Data is now normalized.\n"
     ]
    }
   ],
   "source": [
    "X_train_norm, X_val_norm, X_test_norm = normalize_data(X_train, X_val, X_test)"
   ]
  },
  {
   "cell_type": "markdown",
   "id": "ad9e4c61",
   "metadata": {},
   "source": [
    "## Data visualization"
   ]
  },
  {
   "cell_type": "code",
   "execution_count": 16,
   "id": "59c8766f",
   "metadata": {},
   "outputs": [
    {
     "data": {
      "image/png": "[encoded data removed]",
      "text/plain": [
       "<Figure size 1440x720 with 1 Axes>"
      ]
     },
     "metadata": {
      "needs_background": "light"
     },
     "output_type": "display_data"
    }
   ],
   "source": [
    "#We now count the number of Zeros in each column\n",
    "\n",
    "threshold = 3500\n",
    "#Columns that contain zero values\n",
    "desc_name = df.columns[(df == 0).sum(axis=0) > 0]\n",
    "desc_count = (df[df.columns[(df == 0).sum(axis=0) > 0]] == 0).sum(axis=0)\n",
    "\n",
    "color = ['red' if i > threshold else 'black' for i in desc_count]\n",
    "size = [80 if i > threshold else 30 for i in desc_count]\n",
    "\n",
    "# Scatter plot\n",
    "fig, ax = plt.subplots();\n",
    "ax.scatter(np.arange(len(desc_name)), desc_count, c=color, s=size)\n",
    "plt.title('Number of zeros contained in the DF for each descriptor')\n",
    "plt.xlabel('Descriptor index')\n",
    "plt.ylabel('Zero values count')\n",
    "fig.set_size_inches(20, 10);\n",
    "\n",
    "for i in np.arange(len(desc_name)):\n",
    "    ax.annotate(i, (i, desc_count[i]), rotation=15)\n",
    "    \n",
    "plt.show()"
   ]
  },
  {
   "cell_type": "code",
   "execution_count": 17,
   "id": "e37a0ac9",
   "metadata": {},
   "outputs": [
    {
     "data": {
      "image/png": "[encoded data removed]",
      "text/plain": [
       "<Figure size 720x360 with 1 Axes>"
      ]
     },
     "metadata": {
      "needs_background": "light"
     },
     "output_type": "display_data"
    }
   ],
   "source": [
    "# Visualize data distribution in traning and validation datasets\n",
    "\n",
    "fig, ax = plt.subplots(figsize=(10,5))\n",
    "\n",
    "for ind, a in enumerate([y_train, y_val]):\n",
    "    if ind == 0:\n",
    "        sns.distplot(a, ax=ax, label = 'Training')\n",
    "    else:\n",
    "        sns.distplot(a, ax=ax, label = 'Validation')\n",
    "\n",
    "plt.xlabel('Y values')\n",
    "plt.title('Distribution of target values in training and validation sets') \n",
    "plt.legend(loc = 'best')\n",
    "plt.show()"
   ]
  },
  {
   "cell_type": "markdown",
   "id": "2d9027ca",
   "metadata": {},
   "source": [
    "## Building our baseline models\n",
    "\n",
    "In order to get some initial results, we will now construct a few baseline models where all the features are included without any preprocessing."
   ]
  },
  {
   "cell_type": "markdown",
   "id": "ad926d15",
   "metadata": {},
   "source": [
    "We now compare the metrics obtained for each of the following models:\n",
    "- Linear regression (**LR**)\n",
    "- Random forest regressor (**RFR**)\n",
    "- Decision tree regressor (**DTR**)\n",
    "- Support vector machine (**SVM**)\n",
    "- Multi-layer Perceptron regressor (**MLP**)\n",
    "- XG Boost regressor (**XGB) -- Added"
   ]
  },
  {
   "cell_type": "markdown",
   "id": "517c151b",
   "metadata": {},
   "source": [
    "#### Descriptors"
   ]
  },
  {
   "cell_type": "code",
   "execution_count": 18,
   "id": "98db1cc3",
   "metadata": {
    "scrolled": false
   },
   "outputs": [
    {
     "name": "stdout",
     "output_type": "stream",
     "text": [
      "RFR | R2: 0.646, MAE: 0.546, MSE: 0.527\n",
      "DTR | R2: 0.260, MAE: 0.775, MSE: 1.102\n",
      "SVR | R2: 0.689, MAE: 0.503, MSE: 0.463\n",
      "MLPR | R2: 0.652, MAE: 0.514, MSE: 0.517\n",
      "XGBR | R2: 0.643, MAE: 0.545, MSE: 0.531\n"
     ]
    },
    {
     "data": {
      "image/png": "[encoded data removed]",
      "text/plain": [
       "<Figure size 1425x570 with 1 Axes>"
      ]
     },
     "metadata": {},
     "output_type": "display_data"
    }
   ],
   "source": [
    "models, results = models_comparison(X_train, y_train, X_val, y_val, False, True, False, X_train_norm, X_val_norm)"
   ]
  },
  {
   "cell_type": "code",
   "execution_count": 19,
   "id": "c797c037",
   "metadata": {},
   "outputs": [],
   "source": [
    "#We add the best model to our benchmark for a later comparison\n",
    "benchmark = add_to_benchmark(benchmark, models, results)"
   ]
  },
  {
   "cell_type": "markdown",
   "id": "5a88b3b5",
   "metadata": {},
   "source": [
    "#### Fingerprints"
   ]
  },
  {
   "cell_type": "code",
   "execution_count": 20,
   "id": "c8bfedba",
   "metadata": {
    "scrolled": false
   },
   "outputs": [],
   "source": [
    "# models, results = models_comparison(X_train, y_train, X_val, y_val, False, True, True)"
   ]
  },
  {
   "cell_type": "markdown",
   "id": "6d307b12",
   "metadata": {},
   "source": [
    "## Improving the model "
   ]
  },
  {
   "cell_type": "markdown",
   "id": "ae678522",
   "metadata": {},
   "source": [
    "### Improving the model: Feature Selection - MRMR"
   ]
  },
  {
   "cell_type": "code",
   "execution_count": 21,
   "id": "ee240d8d",
   "metadata": {
    "scrolled": true
   },
   "outputs": [
    {
     "name": "stderr",
     "output_type": "stream",
     "text": [
      "100%|███████████████████████████████████████████████████████████████████████████████| 10/10 [00:00<00:00, 15.71it/s]\n"
     ]
    },
    {
     "name": "stdout",
     "output_type": "stream",
     "text": [
      "RFR | R2: -0.055, MAE: 0.956, MSE: 1.571\n",
      "DTR | R2: -0.387, MAE: 1.077, MSE: 2.064\n",
      "SVR | R2: -0.035, MAE: 0.994, MSE: 1.541\n",
      "MLPR | R2: -0.006, MAE: 0.994, MSE: 1.497\n",
      "XGBR | R2: 0.105, MAE: 0.916, MSE: 1.333\n"
     ]
    },
    {
     "name": "stderr",
     "output_type": "stream",
     "text": [
      "100%|███████████████████████████████████████████████████████████████████████████████| 15/15 [00:00<00:00, 16.02it/s]\n"
     ]
    },
    {
     "name": "stdout",
     "output_type": "stream",
     "text": [
      "RFR | R2: -0.049, MAE: 0.952, MSE: 1.562\n",
      "DTR | R2: -0.393, MAE: 1.081, MSE: 2.073\n",
      "SVR | R2: -0.032, MAE: 0.991, MSE: 1.536\n",
      "MLPR | R2: -0.009, MAE: 0.999, MSE: 1.502\n",
      "XGBR | R2: 0.080, MAE: 0.931, MSE: 1.370\n"
     ]
    },
    {
     "name": "stderr",
     "output_type": "stream",
     "text": [
      "100%|███████████████████████████████████████████████████████████████████████████████| 20/20 [00:01<00:00, 15.79it/s]\n"
     ]
    },
    {
     "name": "stdout",
     "output_type": "stream",
     "text": [
      "RFR | R2: 0.119, MAE: 0.867, MSE: 1.312\n",
      "DTR | R2: -0.184, MAE: 0.994, MSE: 1.762\n",
      "SVR | R2: 0.090, MAE: 0.930, MSE: 1.355\n",
      "MLPR | R2: 0.086, MAE: 0.946, MSE: 1.360\n",
      "XGBR | R2: 0.223, MAE: 0.844, MSE: 1.157\n"
     ]
    },
    {
     "name": "stderr",
     "output_type": "stream",
     "text": [
      "100%|███████████████████████████████████████████████████████████████████████████████| 25/25 [00:01<00:00, 15.49it/s]\n"
     ]
    },
    {
     "name": "stdout",
     "output_type": "stream",
     "text": [
      "RFR | R2: 0.133, MAE: 0.862, MSE: 1.290\n",
      "DTR | R2: -0.222, MAE: 0.995, MSE: 1.819\n",
      "SVR | R2: 0.090, MAE: 0.929, MSE: 1.355\n",
      "MLPR | R2: 0.104, MAE: 0.941, MSE: 1.333\n",
      "XGBR | R2: 0.246, MAE: 0.833, MSE: 1.123\n"
     ]
    },
    {
     "name": "stderr",
     "output_type": "stream",
     "text": [
      "100%|███████████████████████████████████████████████████████████████████████████████| 30/30 [00:01<00:00, 15.63it/s]\n"
     ]
    },
    {
     "name": "stdout",
     "output_type": "stream",
     "text": [
      "RFR | R2: 0.404, MAE: 0.722, MSE: 0.887\n",
      "DTR | R2: 0.030, MAE: 0.881, MSE: 1.444\n",
      "SVR | R2: 0.362, MAE: 0.765, MSE: 0.950\n",
      "MLPR | R2: 0.386, MAE: 0.754, MSE: 0.914\n",
      "XGBR | R2: 0.422, MAE: 0.727, MSE: 0.860\n"
     ]
    },
    {
     "name": "stderr",
     "output_type": "stream",
     "text": [
      "100%|███████████████████████████████████████████████████████████████████████████████| 35/35 [00:02<00:00, 15.47it/s]\n"
     ]
    },
    {
     "name": "stdout",
     "output_type": "stream",
     "text": [
      "RFR | R2: 0.466, MAE: 0.687, MSE: 0.794\n",
      "DTR | R2: 0.159, MAE: 0.808, MSE: 1.252\n",
      "SVR | R2: 0.381, MAE: 0.741, MSE: 0.922\n",
      "MLPR | R2: 0.400, MAE: 0.731, MSE: 0.892\n",
      "XGBR | R2: 0.446, MAE: 0.716, MSE: 0.825\n"
     ]
    },
    {
     "name": "stderr",
     "output_type": "stream",
     "text": [
      "100%|███████████████████████████████████████████████████████████████████████████████| 40/40 [00:02<00:00, 15.33it/s]\n"
     ]
    },
    {
     "name": "stdout",
     "output_type": "stream",
     "text": [
      "RFR | R2: 0.473, MAE: 0.687, MSE: 0.784\n",
      "DTR | R2: 0.114, MAE: 0.850, MSE: 1.319\n",
      "SVR | R2: 0.403, MAE: 0.731, MSE: 0.889\n",
      "MLPR | R2: 0.401, MAE: 0.729, MSE: 0.891\n",
      "XGBR | R2: 0.489, MAE: 0.679, MSE: 0.761\n"
     ]
    },
    {
     "name": "stderr",
     "output_type": "stream",
     "text": [
      "100%|███████████████████████████████████████████████████████████████████████████████| 45/45 [00:02<00:00, 15.62it/s]\n"
     ]
    },
    {
     "name": "stdout",
     "output_type": "stream",
     "text": [
      "RFR | R2: 0.485, MAE: 0.672, MSE: 0.766\n",
      "DTR | R2: 0.152, MAE: 0.838, MSE: 1.262\n",
      "SVR | R2: 0.421, MAE: 0.715, MSE: 0.862\n",
      "MLPR | R2: 0.444, MAE: 0.705, MSE: 0.828\n",
      "XGBR | R2: 0.472, MAE: 0.691, MSE: 0.786\n"
     ]
    },
    {
     "name": "stderr",
     "output_type": "stream",
     "text": [
      "100%|███████████████████████████████████████████████████████████████████████████████| 50/50 [00:03<00:00, 15.86it/s]\n"
     ]
    },
    {
     "name": "stdout",
     "output_type": "stream",
     "text": [
      "RFR | R2: 0.468, MAE: 0.677, MSE: 0.792\n",
      "DTR | R2: 0.013, MAE: 0.898, MSE: 1.469\n",
      "SVR | R2: 0.440, MAE: 0.697, MSE: 0.834\n",
      "MLPR | R2: 0.402, MAE: 0.711, MSE: 0.890\n",
      "XGBR | R2: 0.492, MAE: 0.674, MSE: 0.756\n"
     ]
    },
    {
     "name": "stderr",
     "output_type": "stream",
     "text": [
      "100%|███████████████████████████████████████████████████████████████████████████████| 55/55 [00:03<00:00, 16.01it/s]\n"
     ]
    },
    {
     "name": "stdout",
     "output_type": "stream",
     "text": [
      "RFR | R2: 0.521, MAE: 0.645, MSE: 0.713\n",
      "DTR | R2: 0.061, MAE: 0.879, MSE: 1.398\n",
      "SVR | R2: 0.456, MAE: 0.672, MSE: 0.810\n",
      "MLPR | R2: 0.372, MAE: 0.701, MSE: 0.935\n",
      "XGBR | R2: 0.520, MAE: 0.653, MSE: 0.715\n"
     ]
    },
    {
     "name": "stderr",
     "output_type": "stream",
     "text": [
      "100%|███████████████████████████████████████████████████████████████████████████████| 60/60 [00:03<00:00, 15.89it/s]\n"
     ]
    },
    {
     "name": "stdout",
     "output_type": "stream",
     "text": [
      "RFR | R2: 0.551, MAE: 0.623, MSE: 0.668\n",
      "DTR | R2: 0.129, MAE: 0.830, MSE: 1.296\n",
      "SVR | R2: 0.490, MAE: 0.645, MSE: 0.760\n",
      "MLPR | R2: 0.398, MAE: 0.698, MSE: 0.896\n",
      "XGBR | R2: 0.579, MAE: 0.602, MSE: 0.626\n"
     ]
    },
    {
     "name": "stderr",
     "output_type": "stream",
     "text": [
      "100%|███████████████████████████████████████████████████████████████████████████████| 65/65 [00:04<00:00, 16.05it/s]\n"
     ]
    },
    {
     "name": "stdout",
     "output_type": "stream",
     "text": [
      "RFR | R2: 0.559, MAE: 0.618, MSE: 0.656\n",
      "DTR | R2: 0.199, MAE: 0.799, MSE: 1.193\n",
      "SVR | R2: 0.509, MAE: 0.633, MSE: 0.731\n",
      "MLPR | R2: 0.438, MAE: 0.675, MSE: 0.837\n",
      "XGBR | R2: 0.596, MAE: 0.592, MSE: 0.601\n"
     ]
    },
    {
     "name": "stderr",
     "output_type": "stream",
     "text": [
      "100%|███████████████████████████████████████████████████████████████████████████████| 70/70 [00:04<00:00, 15.95it/s]\n"
     ]
    },
    {
     "name": "stdout",
     "output_type": "stream",
     "text": [
      "RFR | R2: 0.576, MAE: 0.606, MSE: 0.631\n",
      "DTR | R2: 0.232, MAE: 0.789, MSE: 1.144\n",
      "SVR | R2: 0.566, MAE: 0.600, MSE: 0.647\n",
      "MLPR | R2: 0.463, MAE: 0.642, MSE: 0.800\n",
      "XGBR | R2: 0.610, MAE: 0.573, MSE: 0.581\n"
     ]
    },
    {
     "name": "stderr",
     "output_type": "stream",
     "text": [
      "100%|███████████████████████████████████████████████████████████████████████████████| 75/75 [00:04<00:00, 16.30it/s]\n"
     ]
    },
    {
     "name": "stdout",
     "output_type": "stream",
     "text": [
      "RFR | R2: 0.601, MAE: 0.585, MSE: 0.594\n",
      "DTR | R2: 0.212, MAE: 0.799, MSE: 1.173\n",
      "SVR | R2: 0.585, MAE: 0.584, MSE: 0.618\n",
      "MLPR | R2: 0.580, MAE: 0.567, MSE: 0.625\n",
      "XGBR | R2: 0.635, MAE: 0.554, MSE: 0.543\n"
     ]
    },
    {
     "name": "stderr",
     "output_type": "stream",
     "text": [
      "100%|███████████████████████████████████████████████████████████████████████████████| 80/80 [00:04<00:00, 16.37it/s]\n"
     ]
    },
    {
     "name": "stdout",
     "output_type": "stream",
     "text": [
      "RFR | R2: 0.611, MAE: 0.578, MSE: 0.578\n",
      "DTR | R2: 0.286, MAE: 0.772, MSE: 1.063\n",
      "SVR | R2: 0.595, MAE: 0.578, MSE: 0.603\n",
      "MLPR | R2: 0.537, MAE: 0.601, MSE: 0.690\n",
      "XGBR | R2: 0.653, MAE: 0.544, MSE: 0.516\n"
     ]
    },
    {
     "name": "stderr",
     "output_type": "stream",
     "text": [
      "100%|███████████████████████████████████████████████████████████████████████████████| 85/85 [00:05<00:00, 16.47it/s]\n"
     ]
    },
    {
     "name": "stdout",
     "output_type": "stream",
     "text": [
      "RFR | R2: 0.614, MAE: 0.581, MSE: 0.574\n",
      "DTR | R2: 0.176, MAE: 0.814, MSE: 1.226\n",
      "SVR | R2: 0.611, MAE: 0.568, MSE: 0.579\n",
      "MLPR | R2: 0.555, MAE: 0.589, MSE: 0.662\n",
      "XGBR | R2: 0.642, MAE: 0.547, MSE: 0.534\n"
     ]
    },
    {
     "name": "stderr",
     "output_type": "stream",
     "text": [
      "100%|███████████████████████████████████████████████████████████████████████████████| 90/90 [00:05<00:00, 16.95it/s]\n"
     ]
    },
    {
     "name": "stdout",
     "output_type": "stream",
     "text": [
      "RFR | R2: 0.611, MAE: 0.576, MSE: 0.579\n",
      "DTR | R2: 0.343, MAE: 0.746, MSE: 0.977\n",
      "SVR | R2: 0.630, MAE: 0.555, MSE: 0.551\n",
      "MLPR | R2: 0.566, MAE: 0.591, MSE: 0.646\n",
      "XGBR | R2: 0.643, MAE: 0.549, MSE: 0.531\n"
     ]
    },
    {
     "name": "stderr",
     "output_type": "stream",
     "text": [
      "100%|███████████████████████████████████████████████████████████████████████████████| 95/95 [00:05<00:00, 16.90it/s]\n"
     ]
    },
    {
     "name": "stdout",
     "output_type": "stream",
     "text": [
      "RFR | R2: 0.620, MAE: 0.568, MSE: 0.565\n",
      "DTR | R2: 0.302, MAE: 0.764, MSE: 1.040\n",
      "SVR | R2: 0.639, MAE: 0.545, MSE: 0.537\n",
      "MLPR | R2: 0.624, MAE: 0.554, MSE: 0.559\n",
      "XGBR | R2: 0.640, MAE: 0.544, MSE: 0.536\n"
     ]
    },
    {
     "name": "stderr",
     "output_type": "stream",
     "text": [
      "100%|█████████████████████████████████████████████████████████████████████████████| 100/100 [00:05<00:00, 16.97it/s]\n"
     ]
    },
    {
     "name": "stdout",
     "output_type": "stream",
     "text": [
      "RFR | R2: 0.631, MAE: 0.555, MSE: 0.549\n",
      "DTR | R2: 0.258, MAE: 0.771, MSE: 1.104\n",
      "SVR | R2: 0.655, MAE: 0.529, MSE: 0.514\n",
      "MLPR | R2: 0.624, MAE: 0.539, MSE: 0.559\n",
      "XGBR | R2: 0.656, MAE: 0.520, MSE: 0.513\n"
     ]
    },
    {
     "name": "stderr",
     "output_type": "stream",
     "text": [
      "100%|█████████████████████████████████████████████████████████████████████████████| 105/105 [00:06<00:00, 17.15it/s]\n"
     ]
    },
    {
     "name": "stdout",
     "output_type": "stream",
     "text": [
      "RFR | R2: 0.629, MAE: 0.556, MSE: 0.552\n",
      "DTR | R2: 0.322, MAE: 0.752, MSE: 1.010\n",
      "SVR | R2: 0.663, MAE: 0.524, MSE: 0.501\n",
      "MLPR | R2: 0.619, MAE: 0.533, MSE: 0.567\n",
      "XGBR | R2: 0.667, MAE: 0.521, MSE: 0.496\n"
     ]
    },
    {
     "name": "stderr",
     "output_type": "stream",
     "text": [
      "100%|█████████████████████████████████████████████████████████████████████████████| 110/110 [00:06<00:00, 17.25it/s]\n"
     ]
    },
    {
     "name": "stdout",
     "output_type": "stream",
     "text": [
      "RFR | R2: 0.633, MAE: 0.553, MSE: 0.547\n",
      "DTR | R2: 0.159, MAE: 0.841, MSE: 1.251\n",
      "SVR | R2: 0.666, MAE: 0.521, MSE: 0.497\n",
      "MLPR | R2: 0.612, MAE: 0.535, MSE: 0.578\n",
      "XGBR | R2: 0.635, MAE: 0.542, MSE: 0.543\n"
     ]
    },
    {
     "name": "stderr",
     "output_type": "stream",
     "text": [
      "100%|█████████████████████████████████████████████████████████████████████████████| 115/115 [00:06<00:00, 17.38it/s]\n"
     ]
    },
    {
     "name": "stdout",
     "output_type": "stream",
     "text": [
      "RFR | R2: 0.635, MAE: 0.552, MSE: 0.543\n",
      "DTR | R2: 0.236, MAE: 0.791, MSE: 1.137\n",
      "SVR | R2: 0.672, MAE: 0.518, MSE: 0.488\n",
      "MLPR | R2: 0.547, MAE: 0.585, MSE: 0.674\n",
      "XGBR | R2: 0.692, MAE: 0.501, MSE: 0.458\n"
     ]
    },
    {
     "name": "stderr",
     "output_type": "stream",
     "text": [
      "100%|█████████████████████████████████████████████████████████████████████████████| 120/120 [00:06<00:00, 17.58it/s]\n"
     ]
    },
    {
     "name": "stdout",
     "output_type": "stream",
     "text": [
      "RFR | R2: 0.634, MAE: 0.549, MSE: 0.545\n",
      "DTR | R2: 0.222, MAE: 0.783, MSE: 1.157\n",
      "SVR | R2: 0.673, MAE: 0.517, MSE: 0.486\n",
      "MLPR | R2: 0.624, MAE: 0.538, MSE: 0.560\n",
      "XGBR | R2: 0.654, MAE: 0.534, MSE: 0.515\n"
     ]
    },
    {
     "name": "stderr",
     "output_type": "stream",
     "text": [
      "100%|█████████████████████████████████████████████████████████████████████████████| 125/125 [00:06<00:00, 17.88it/s]\n"
     ]
    },
    {
     "name": "stdout",
     "output_type": "stream",
     "text": [
      "RFR | R2: 0.635, MAE: 0.556, MSE: 0.544\n",
      "DTR | R2: 0.210, MAE: 0.805, MSE: 1.176\n",
      "SVR | R2: 0.670, MAE: 0.522, MSE: 0.492\n",
      "MLPR | R2: 0.614, MAE: 0.544, MSE: 0.574\n",
      "XGBR | R2: 0.659, MAE: 0.536, MSE: 0.508\n"
     ]
    },
    {
     "name": "stderr",
     "output_type": "stream",
     "text": [
      "100%|█████████████████████████████████████████████████████████████████████████████| 130/130 [00:07<00:00, 17.98it/s]\n"
     ]
    },
    {
     "name": "stdout",
     "output_type": "stream",
     "text": [
      "RFR | R2: 0.630, MAE: 0.558, MSE: 0.551\n",
      "DTR | R2: 0.210, MAE: 0.795, MSE: 1.176\n",
      "SVR | R2: 0.670, MAE: 0.522, MSE: 0.491\n",
      "MLPR | R2: 0.642, MAE: 0.538, MSE: 0.533\n",
      "XGBR | R2: 0.665, MAE: 0.526, MSE: 0.498\n"
     ]
    },
    {
     "name": "stderr",
     "output_type": "stream",
     "text": [
      "100%|█████████████████████████████████████████████████████████████████████████████| 135/135 [00:07<00:00, 18.19it/s]\n"
     ]
    },
    {
     "name": "stdout",
     "output_type": "stream",
     "text": [
      "RFR | R2: 0.643, MAE: 0.550, MSE: 0.532\n",
      "DTR | R2: 0.248, MAE: 0.781, MSE: 1.119\n",
      "SVR | R2: 0.678, MAE: 0.515, MSE: 0.480\n",
      "MLPR | R2: 0.654, MAE: 0.519, MSE: 0.514\n",
      "XGBR | R2: 0.670, MAE: 0.534, MSE: 0.491\n"
     ]
    },
    {
     "name": "stderr",
     "output_type": "stream",
     "text": [
      "100%|█████████████████████████████████████████████████████████████████████████████| 140/140 [00:07<00:00, 18.23it/s]\n"
     ]
    },
    {
     "name": "stdout",
     "output_type": "stream",
     "text": [
      "RFR | R2: 0.643, MAE: 0.549, MSE: 0.531\n",
      "DTR | R2: 0.223, MAE: 0.803, MSE: 1.156\n",
      "SVR | R2: 0.680, MAE: 0.511, MSE: 0.476\n",
      "MLPR | R2: 0.600, MAE: 0.554, MSE: 0.596\n",
      "XGBR | R2: 0.667, MAE: 0.518, MSE: 0.496\n"
     ]
    },
    {
     "name": "stderr",
     "output_type": "stream",
     "text": [
      "100%|█████████████████████████████████████████████████████████████████████████████| 145/145 [00:07<00:00, 18.54it/s]\n"
     ]
    },
    {
     "name": "stdout",
     "output_type": "stream",
     "text": [
      "RFR | R2: 0.639, MAE: 0.557, MSE: 0.537\n",
      "DTR | R2: 0.211, MAE: 0.798, MSE: 1.174\n",
      "SVR | R2: 0.681, MAE: 0.510, MSE: 0.475\n",
      "MLPR | R2: 0.641, MAE: 0.536, MSE: 0.534\n",
      "XGBR | R2: 0.667, MAE: 0.517, MSE: 0.496\n"
     ]
    },
    {
     "name": "stderr",
     "output_type": "stream",
     "text": [
      "100%|█████████████████████████████████████████████████████████████████████████████| 150/150 [00:08<00:00, 18.68it/s]\n"
     ]
    },
    {
     "name": "stdout",
     "output_type": "stream",
     "text": [
      "RFR | R2: 0.639, MAE: 0.554, MSE: 0.537\n",
      "DTR | R2: 0.214, MAE: 0.788, MSE: 1.170\n",
      "SVR | R2: 0.685, MAE: 0.506, MSE: 0.468\n",
      "MLPR | R2: 0.606, MAE: 0.551, MSE: 0.586\n",
      "XGBR | R2: 0.664, MAE: 0.526, MSE: 0.501\n"
     ]
    },
    {
     "name": "stderr",
     "output_type": "stream",
     "text": [
      "100%|█████████████████████████████████████████████████████████████████████████████| 155/155 [00:08<00:00, 18.86it/s]\n"
     ]
    },
    {
     "name": "stdout",
     "output_type": "stream",
     "text": [
      "RFR | R2: 0.637, MAE: 0.556, MSE: 0.541\n",
      "DTR | R2: 0.272, MAE: 0.743, MSE: 1.084\n",
      "SVR | R2: 0.687, MAE: 0.505, MSE: 0.466\n",
      "MLPR | R2: 0.594, MAE: 0.560, MSE: 0.604\n",
      "XGBR | R2: 0.672, MAE: 0.521, MSE: 0.488\n"
     ]
    },
    {
     "name": "stderr",
     "output_type": "stream",
     "text": [
      "100%|█████████████████████████████████████████████████████████████████████████████| 160/160 [00:08<00:00, 18.87it/s]\n"
     ]
    },
    {
     "name": "stdout",
     "output_type": "stream",
     "text": [
      "RFR | R2: 0.639, MAE: 0.554, MSE: 0.537\n",
      "DTR | R2: 0.267, MAE: 0.755, MSE: 1.091\n",
      "SVR | R2: 0.690, MAE: 0.502, MSE: 0.462\n",
      "MLPR | R2: 0.664, MAE: 0.507, MSE: 0.501\n",
      "XGBR | R2: 0.676, MAE: 0.516, MSE: 0.483\n"
     ]
    },
    {
     "name": "stderr",
     "output_type": "stream",
     "text": [
      "100%|█████████████████████████████████████████████████████████████████████████████| 165/165 [00:08<00:00, 18.98it/s]\n"
     ]
    },
    {
     "name": "stdout",
     "output_type": "stream",
     "text": [
      "RFR | R2: 0.640, MAE: 0.552, MSE: 0.536\n",
      "DTR | R2: 0.199, MAE: 0.799, MSE: 1.193\n",
      "SVR | R2: 0.694, MAE: 0.502, MSE: 0.456\n",
      "MLPR | R2: 0.616, MAE: 0.545, MSE: 0.571\n",
      "XGBR | R2: 0.662, MAE: 0.531, MSE: 0.503\n"
     ]
    },
    {
     "name": "stderr",
     "output_type": "stream",
     "text": [
      "100%|█████████████████████████████████████████████████████████████████████████████| 170/170 [00:08<00:00, 19.49it/s]\n"
     ]
    },
    {
     "name": "stdout",
     "output_type": "stream",
     "text": [
      "RFR | R2: 0.639, MAE: 0.551, MSE: 0.537\n",
      "DTR | R2: 0.232, MAE: 0.778, MSE: 1.143\n",
      "SVR | R2: 0.693, MAE: 0.501, MSE: 0.456\n",
      "MLPR | R2: 0.666, MAE: 0.506, MSE: 0.497\n",
      "XGBR | R2: 0.638, MAE: 0.540, MSE: 0.539\n"
     ]
    },
    {
     "name": "stderr",
     "output_type": "stream",
     "text": [
      "100%|█████████████████████████████████████████████████████████████████████████████| 175/175 [00:08<00:00, 19.63it/s]\n"
     ]
    },
    {
     "name": "stdout",
     "output_type": "stream",
     "text": [
      "RFR | R2: 0.640, MAE: 0.550, MSE: 0.535\n",
      "DTR | R2: 0.268, MAE: 0.768, MSE: 1.090\n",
      "SVR | R2: 0.693, MAE: 0.500, MSE: 0.457\n",
      "MLPR | R2: 0.638, MAE: 0.526, MSE: 0.539\n",
      "XGBR | R2: 0.662, MAE: 0.515, MSE: 0.504\n"
     ]
    },
    {
     "name": "stderr",
     "output_type": "stream",
     "text": [
      "100%|█████████████████████████████████████████████████████████████████████████████| 180/180 [00:09<00:00, 19.58it/s]\n"
     ]
    },
    {
     "name": "stdout",
     "output_type": "stream",
     "text": [
      "RFR | R2: 0.643, MAE: 0.548, MSE: 0.532\n",
      "DTR | R2: 0.320, MAE: 0.731, MSE: 1.012\n",
      "SVR | R2: 0.691, MAE: 0.502, MSE: 0.461\n",
      "MLPR | R2: 0.602, MAE: 0.555, MSE: 0.592\n",
      "XGBR | R2: 0.665, MAE: 0.526, MSE: 0.499\n"
     ]
    },
    {
     "name": "stderr",
     "output_type": "stream",
     "text": [
      "100%|█████████████████████████████████████████████████████████████████████████████| 185/185 [00:09<00:00, 20.01it/s]\n"
     ]
    },
    {
     "name": "stdout",
     "output_type": "stream",
     "text": [
      "RFR | R2: 0.642, MAE: 0.549, MSE: 0.533\n",
      "DTR | R2: 0.365, MAE: 0.709, MSE: 0.944\n",
      "SVR | R2: 0.690, MAE: 0.503, MSE: 0.462\n",
      "MLPR | R2: 0.673, MAE: 0.514, MSE: 0.487\n",
      "XGBR | R2: 0.668, MAE: 0.534, MSE: 0.494\n"
     ]
    },
    {
     "name": "stderr",
     "output_type": "stream",
     "text": [
      "100%|█████████████████████████████████████████████████████████████████████████████| 190/190 [00:09<00:00, 20.19it/s]\n"
     ]
    },
    {
     "name": "stdout",
     "output_type": "stream",
     "text": [
      "RFR | R2: 0.645, MAE: 0.548, MSE: 0.529\n",
      "DTR | R2: 0.340, MAE: 0.731, MSE: 0.983\n",
      "SVR | R2: 0.688, MAE: 0.504, MSE: 0.464\n",
      "MLPR | R2: 0.597, MAE: 0.555, MSE: 0.599\n",
      "XGBR | R2: 0.668, MAE: 0.523, MSE: 0.495\n"
     ]
    },
    {
     "name": "stderr",
     "output_type": "stream",
     "text": [
      "100%|█████████████████████████████████████████████████████████████████████████████| 195/195 [00:11<00:00, 17.42it/s]\n"
     ]
    },
    {
     "name": "stdout",
     "output_type": "stream",
     "text": [
      "RFR | R2: 0.642, MAE: 0.550, MSE: 0.533\n",
      "DTR | R2: 0.278, MAE: 0.771, MSE: 1.075\n",
      "SVR | R2: 0.688, MAE: 0.504, MSE: 0.465\n",
      "MLPR | R2: 0.634, MAE: 0.526, MSE: 0.544\n",
      "XGBR | R2: 0.645, MAE: 0.546, MSE: 0.529\n"
     ]
    },
    {
     "name": "stderr",
     "output_type": "stream",
     "text": [
      "100%|█████████████████████████████████████████████████████████████████████████████| 197/197 [00:12<00:00, 15.91it/s]\n"
     ]
    },
    {
     "name": "stdout",
     "output_type": "stream",
     "text": [
      "RFR | R2: 0.647, MAE: 0.547, MSE: 0.525\n",
      "DTR | R2: 0.316, MAE: 0.751, MSE: 1.018\n",
      "SVR | R2: 0.689, MAE: 0.503, MSE: 0.463\n",
      "MLPR | R2: 0.639, MAE: 0.525, MSE: 0.537\n",
      "XGBR | R2: 0.640, MAE: 0.545, MSE: 0.536\n"
     ]
    },
    {
     "name": "stderr",
     "output_type": "stream",
     "text": [
      "100%|█████████████████████████████████████████████████████████████████████████████| 197/197 [00:12<00:00, 15.73it/s]\n"
     ]
    },
    {
     "name": "stdout",
     "output_type": "stream",
     "text": [
      "RFR | R2: 0.647, MAE: 0.547, MSE: 0.525\n",
      "DTR | R2: 0.316, MAE: 0.751, MSE: 1.018\n",
      "SVR | R2: 0.689, MAE: 0.503, MSE: 0.463\n",
      "MLPR | R2: 0.639, MAE: 0.525, MSE: 0.537\n",
      "XGBR | R2: 0.640, MAE: 0.545, MSE: 0.536\n"
     ]
    }
   ],
   "source": [
    "models, results, num_sel_feat, features = fs_mrmr(X_train, y_train, X_val, y_val, X_train_norm, X_val_norm)"
   ]
  },
  {
   "cell_type": "markdown",
   "id": "a429518b",
   "metadata": {},
   "source": [
    "We now plot the metrics obtained for each iteration"
   ]
  },
  {
   "cell_type": "code",
   "execution_count": 22,
   "id": "7eaea66b",
   "metadata": {},
   "outputs": [
    {
     "data": {
      "image/png": "[encoded data removed]",
      "text/plain": [
       "<Figure size 950x380 with 1 Axes>"
      ]
     },
     "metadata": {},
     "output_type": "display_data"
    }
   ],
   "source": [
    "# Added .. made this into a function\n",
    "# Function to plot regression metrics\n",
    "\n",
    "def plot_regression_metrics(num_sel_feat, results, fs_name):\n",
    "    \n",
    "    mse, r2 = [], []\n",
    "    for iteration in results:\n",
    "        mse.append(min([mse[2] for mse in iteration]))\n",
    "        r2.append(max([r2[0] for r2 in iteration]))\n",
    "\n",
    "    num_sel_feat = np.arange(10, X_train.shape[1], 5)\n",
    "        \n",
    "    # Plot R2 and MSE \n",
    "    plt.figure(figsize=(10, 4), dpi = 95)\n",
    "    sns.set_theme(style=\"darkgrid\")\n",
    "\n",
    "    sns.lineplot(x = num_sel_feat, y = mse, marker='o', label = 'MSE')\n",
    "    sns.lineplot(x = num_sel_feat, y = r2, marker='o', label = 'R2')\n",
    "    \n",
    "    # Vertical line to indicate best performance\n",
    "    sns.lineplot([num_sel_feat[np.argmax(r2)], num_sel_feat[np.argmax(r2)]], [0, max(mse)], \n",
    "                 color = 'red',linewidth = 4, label = 'Best')\n",
    "    plt.legend()\n",
    "    plt.title('MSE and R2 scores vs number of best features selected')\n",
    "    plt.xlabel('Number of selected features by %s'%fs_name)\n",
    "    plt.ylabel('Metrics')\n",
    "    plt.show()\n",
    "    return mse, r2\n",
    "    \n",
    "mse, r2 = plot_regression_metrics(num_sel_feat, results, \"MRMR\")"
   ]
  },
  {
   "cell_type": "code",
   "execution_count": 23,
   "id": "301aca56",
   "metadata": {},
   "outputs": [],
   "source": [
    "# Take selected features by MRMR\n",
    "selected_features_mrmr = features[np.argmax(r2)]\n",
    "\n",
    "# features_20 = features[2]\n",
    "# print(features_20)"
   ]
  },
  {
   "cell_type": "markdown",
   "id": "6ec8316a",
   "metadata": {},
   "source": [
    "Best performance occurs when the number of selected features is **165**. Once again, model that better performs is **SVR**, with the following metrics: **R2: 0.693, MAE: 0.502, MSE: 0.456**. This means there is a **0.05** improvement in the R2 score while using **43** features less."
   ]
  },
  {
   "cell_type": "code",
   "execution_count": null,
   "id": "5d5ef45e",
   "metadata": {},
   "outputs": [],
   "source": []
  },
  {
   "cell_type": "markdown",
   "id": "1a5beb2d",
   "metadata": {},
   "source": [
    "### Perform Hyper parameter optimisation using randomizedSearchCV() with SVR as its the best performing baseline model"
   ]
  },
  {
   "cell_type": "code",
   "execution_count": 24,
   "id": "50b1722f",
   "metadata": {},
   "outputs": [],
   "source": [
    "def apply_randsearch(X_train, y_train, X_val, y_val, c,  X_train_norm = 0 , X_val_norm = 0):\n",
    "    np.random.seed(10)\n",
    "    \n",
    "    #RandomForestRegressor parameters\n",
    "    '''grid_param_rfr = {\n",
    "         'n_estimators': [200, 250, 300],\n",
    "         'max_depth': [10, 20, 30, 40, None],\n",
    "         'max_features': ['auto', 'sqrt', 'log2'],\n",
    "         'min_samples_split': [2, 5, 10, 15],\n",
    "         'min_samples_leaf': [1, 2, 5, 10],\n",
    "         'bootstrap': [True, False]\n",
    "     }'''\n",
    "\n",
    "    #SVR parameters\n",
    "    grid_param_svr = {'kernel' : ['linear', 'poly', 'rbf', 'sigmoid'],\n",
    "                      'C' : [1,5,10],\n",
    "                      'degree' : [3,8],\n",
    "                      'coef0' : [0.01,10,0.5],\n",
    "                      'gamma' : ('auto','scale')\n",
    "                     }\n",
    "    \n",
    "    #XGBRegressor parameters\n",
    "    '''grid_param_xgb = { 'max_depth': [3, 5, 6, 10, 15, 20],\n",
    "           'learning_rate': [0.01, 0.1, 0.2, 0.3],\n",
    "           'subsample': np.arange(0.5, 1.0, 0.1),\n",
    "           'min_child_weight': [3, 5, 8, 10],\n",
    "           'colsample_bytree': np.arange(0.4, 1.0, 0.1),\n",
    "           'colsample_bylevel': np.arange(0.4, 1.0, 0.1),\n",
    "           'n_estimators': [100, 200, 500, 700, 1000]}'''\n",
    "    \n",
    "    \n",
    "    # (grid_param_rfr, RandomForestRegressor()),\n",
    "    rnd_models = []\n",
    "    for grid in [(grid_param_svr, SVR())]:\n",
    "        random_model = RandomizedSearchCV(grid[1], param_distributions = grid[0], n_iter = 20, cv = 5, n_jobs = -1)\n",
    "        rnd_models.append(random_model)\n",
    "        \n",
    "    # Fit the model\n",
    "    for ind, m in enumerate(rnd_models):\n",
    "#         if ind == 0:\n",
    "#             rnd_models[ind] = m.fit(X_train, y_train)\n",
    "#         else:\n",
    "        rnd_models[ind] = m.fit(X_train_norm, y_train)\n",
    "    \n",
    "    # Once models are trained we compute the metrics \n",
    "    for i in range(len(rnd_models)):\n",
    "        print(rnd_models[i].best_params_)\n",
    "        temp_clf = rnd_models[i].best_estimator_\n",
    "    \n",
    "        #Predict values \n",
    "#         if i == 0:\n",
    "#             y_pred = temp_clf.predict(X_val)\n",
    "#         else:\n",
    "        y_pred = temp_clf.predict(X_val_norm)\n",
    "\n",
    "        #Compute metrics \n",
    "        r2 = metrics.r2_score(y_val, y_pred)\n",
    "        mae = metrics.mean_absolute_error(y_val, y_pred)\n",
    "        mse = metrics.mean_squared_error(y_val, y_pred)\n",
    "        print('r2: %f, mse: %f, mae: %f' %(r2, mse, mae))\n",
    "    \n",
    "    return rnd_models, (r2, mse, mae)"
   ]
  },
  {
   "cell_type": "markdown",
   "id": "e37030d6",
   "metadata": {},
   "source": [
    "### Apply hyper parameter optimisation on features retreived from MRMR"
   ]
  },
  {
   "cell_type": "code",
   "execution_count": 25,
   "id": "12807ca2",
   "metadata": {},
   "outputs": [
    {
     "name": "stdout",
     "output_type": "stream",
     "text": [
      "{'kernel': 'rbf', 'gamma': 'auto', 'degree': 8, 'coef0': 0.01, 'C': 5}\n",
      "r2: 0.748425, mse: 0.374455, mae: 0.447647\n"
     ]
    }
   ],
   "source": [
    "rnd_models_mrmr, metrics_rnd_mrmr = apply_randsearch(X_train[selected_features_mrmr]\n",
    "                                                        , y_train                                                       \n",
    "                                                        , X_val[selected_features_mrmr]\n",
    "                                                        , y_val\n",
    "                                                        , False\n",
    "                                                        , X_train_norm[selected_features_mrmr]\n",
    "                                                        , X_val_norm[selected_features_mrmr])"
   ]
  },
  {
   "cell_type": "markdown",
   "id": "71474170",
   "metadata": {},
   "source": [
    "### Improving the model: Feature Selection - Relieff "
   ]
  },
  {
   "cell_type": "code",
   "execution_count": 26,
   "id": "acd1e143",
   "metadata": {},
   "outputs": [],
   "source": [
    "# ADDED\n",
    "# Applying Relief feature selection\n",
    "\n",
    "def fs_relieff(X_train, y_train, X_val, y_val, X_train_norm, X_val_norm, n_neighbors, c = False):\n",
    "    \n",
    "    num_sel_feat = np.arange(10, X_train.shape[1], 5)\n",
    "    \n",
    "    m,r,f = [], [], []\n",
    "    \n",
    "    for k in list(num_sel_feat):\n",
    "        print(\"\\n=======================Selected features %0.0f/%0.0f =======================\"%(k,X_train.shape[1]))\n",
    "        # Applying relieff feature selection on train, validation and normalized datasets\n",
    "        fs = ReliefF(n_features_to_select=k, n_neighbors=n_neighbors)\n",
    "        \n",
    "        fs.fit_transform(X_train.to_numpy(), y_train.to_numpy())\n",
    "        pos = pd.DataFrame(fs.feature_importances_.reshape(-1,1)).sort_values(by=0, ascending=False).head(k).index.tolist()\n",
    "        selected_features = list(X_train.columns[pos])\n",
    "\n",
    "        f.append(selected_features) \n",
    "        \n",
    "        # Get metrics based on selected features\n",
    "        models, results = models_comparison(X_train[selected_features], y_train, X_val[selected_features], y_val,\n",
    "                            c, False, False, X_train_norm[selected_features], X_val_norm[selected_features])\n",
    "                \n",
    "        m.append(models)\n",
    "        r.append(results)\n",
    "        \n",
    "    return m,r,num_sel_feat,f  "
   ]
  },
  {
   "cell_type": "code",
   "execution_count": 27,
   "id": "0d2e15bb",
   "metadata": {
    "scrolled": true
   },
   "outputs": [
    {
     "name": "stdout",
     "output_type": "stream",
     "text": [
      "\n",
      "=======================Selected features 10/207 =======================\n",
      "RFR | R2: 0.531, MAE: 0.629, MSE: 0.698\n",
      "DTR | R2: 0.099, MAE: 0.841, MSE: 1.342\n",
      "SVR | R2: 0.508, MAE: 0.656, MSE: 0.732\n",
      "MLPR | R2: 0.476, MAE: 0.655, MSE: 0.781\n",
      "XGBR | R2: 0.496, MAE: 0.646, MSE: 0.750\n",
      "\n",
      "=======================Selected features 15/207 =======================\n",
      "RFR | R2: 0.573, MAE: 0.607, MSE: 0.636\n",
      "DTR | R2: 0.138, MAE: 0.832, MSE: 1.283\n",
      "SVR | R2: 0.562, MAE: 0.610, MSE: 0.652\n",
      "MLPR | R2: 0.482, MAE: 0.656, MSE: 0.771\n",
      "XGBR | R2: 0.564, MAE: 0.612, MSE: 0.649\n",
      "\n",
      "=======================Selected features 20/207 =======================\n",
      "RFR | R2: 0.591, MAE: 0.588, MSE: 0.609\n",
      "DTR | R2: 0.257, MAE: 0.784, MSE: 1.105\n",
      "SVR | R2: 0.595, MAE: 0.586, MSE: 0.602\n",
      "MLPR | R2: 0.501, MAE: 0.642, MSE: 0.743\n",
      "XGBR | R2: 0.588, MAE: 0.583, MSE: 0.614\n",
      "\n",
      "=======================Selected features 25/207 =======================\n",
      "RFR | R2: 0.594, MAE: 0.580, MSE: 0.604\n",
      "DTR | R2: 0.149, MAE: 0.825, MSE: 1.267\n",
      "SVR | R2: 0.609, MAE: 0.580, MSE: 0.582\n",
      "MLPR | R2: 0.531, MAE: 0.632, MSE: 0.698\n",
      "XGBR | R2: 0.541, MAE: 0.617, MSE: 0.683\n",
      "\n",
      "=======================Selected features 30/207 =======================\n",
      "RFR | R2: 0.596, MAE: 0.586, MSE: 0.601\n",
      "DTR | R2: 0.213, MAE: 0.806, MSE: 1.172\n",
      "SVR | R2: 0.621, MAE: 0.568, MSE: 0.564\n",
      "MLPR | R2: 0.566, MAE: 0.591, MSE: 0.645\n",
      "XGBR | R2: 0.567, MAE: 0.598, MSE: 0.644\n",
      "\n",
      "=======================Selected features 35/207 =======================\n",
      "RFR | R2: 0.597, MAE: 0.587, MSE: 0.600\n",
      "DTR | R2: 0.195, MAE: 0.801, MSE: 1.198\n",
      "SVR | R2: 0.621, MAE: 0.568, MSE: 0.564\n",
      "MLPR | R2: 0.564, MAE: 0.601, MSE: 0.649\n",
      "XGBR | R2: 0.594, MAE: 0.582, MSE: 0.605\n",
      "\n",
      "=======================Selected features 40/207 =======================\n",
      "RFR | R2: 0.596, MAE: 0.588, MSE: 0.602\n",
      "DTR | R2: 0.161, MAE: 0.807, MSE: 1.249\n",
      "SVR | R2: 0.631, MAE: 0.562, MSE: 0.550\n",
      "MLPR | R2: 0.641, MAE: 0.547, MSE: 0.535\n",
      "XGBR | R2: 0.610, MAE: 0.562, MSE: 0.581\n",
      "\n",
      "=======================Selected features 45/207 =======================\n",
      "RFR | R2: 0.610, MAE: 0.577, MSE: 0.581\n",
      "DTR | R2: 0.110, MAE: 0.832, MSE: 1.325\n",
      "SVR | R2: 0.637, MAE: 0.556, MSE: 0.540\n",
      "MLPR | R2: 0.577, MAE: 0.588, MSE: 0.630\n",
      "XGBR | R2: 0.598, MAE: 0.579, MSE: 0.599\n",
      "\n",
      "=======================Selected features 50/207 =======================\n",
      "RFR | R2: 0.609, MAE: 0.577, MSE: 0.581\n",
      "DTR | R2: 0.264, MAE: 0.785, MSE: 1.095\n",
      "SVR | R2: 0.643, MAE: 0.551, MSE: 0.531\n",
      "MLPR | R2: 0.566, MAE: 0.602, MSE: 0.646\n",
      "XGBR | R2: 0.602, MAE: 0.577, MSE: 0.592\n",
      "\n",
      "=======================Selected features 55/207 =======================\n",
      "RFR | R2: 0.617, MAE: 0.568, MSE: 0.571\n",
      "DTR | R2: 0.234, MAE: 0.808, MSE: 1.140\n",
      "SVR | R2: 0.644, MAE: 0.551, MSE: 0.529\n",
      "MLPR | R2: 0.616, MAE: 0.552, MSE: 0.572\n",
      "XGBR | R2: 0.604, MAE: 0.570, MSE: 0.589\n",
      "\n",
      "=======================Selected features 60/207 =======================\n",
      "RFR | R2: 0.621, MAE: 0.568, MSE: 0.564\n",
      "DTR | R2: 0.217, MAE: 0.800, MSE: 1.165\n",
      "SVR | R2: 0.644, MAE: 0.552, MSE: 0.530\n",
      "MLPR | R2: 0.600, MAE: 0.556, MSE: 0.596\n",
      "XGBR | R2: 0.619, MAE: 0.561, MSE: 0.568\n",
      "\n",
      "=======================Selected features 65/207 =======================\n",
      "RFR | R2: 0.621, MAE: 0.565, MSE: 0.564\n",
      "DTR | R2: 0.280, MAE: 0.777, MSE: 1.072\n",
      "SVR | R2: 0.645, MAE: 0.552, MSE: 0.528\n",
      "MLPR | R2: 0.577, MAE: 0.579, MSE: 0.629\n",
      "XGBR | R2: 0.624, MAE: 0.554, MSE: 0.559\n",
      "\n",
      "=======================Selected features 70/207 =======================\n",
      "RFR | R2: 0.625, MAE: 0.561, MSE: 0.559\n",
      "DTR | R2: 0.308, MAE: 0.757, MSE: 1.030\n",
      "SVR | R2: 0.647, MAE: 0.548, MSE: 0.525\n",
      "MLPR | R2: 0.597, MAE: 0.568, MSE: 0.601\n",
      "XGBR | R2: 0.630, MAE: 0.551, MSE: 0.551\n",
      "\n",
      "=======================Selected features 75/207 =======================\n",
      "RFR | R2: 0.636, MAE: 0.552, MSE: 0.542\n",
      "DTR | R2: 0.320, MAE: 0.749, MSE: 1.013\n",
      "SVR | R2: 0.661, MAE: 0.533, MSE: 0.505\n",
      "MLPR | R2: 0.634, MAE: 0.536, MSE: 0.545\n",
      "XGBR | R2: 0.668, MAE: 0.518, MSE: 0.494\n",
      "\n",
      "=======================Selected features 80/207 =======================\n",
      "RFR | R2: 0.628, MAE: 0.556, MSE: 0.553\n",
      "DTR | R2: 0.292, MAE: 0.750, MSE: 1.055\n",
      "SVR | R2: 0.659, MAE: 0.531, MSE: 0.508\n",
      "MLPR | R2: 0.525, MAE: 0.606, MSE: 0.707\n",
      "XGBR | R2: 0.653, MAE: 0.539, MSE: 0.516\n",
      "\n",
      "=======================Selected features 85/207 =======================\n",
      "RFR | R2: 0.638, MAE: 0.553, MSE: 0.538\n",
      "DTR | R2: 0.319, MAE: 0.741, MSE: 1.013\n",
      "SVR | R2: 0.666, MAE: 0.524, MSE: 0.498\n",
      "MLPR | R2: 0.557, MAE: 0.594, MSE: 0.660\n",
      "XGBR | R2: 0.643, MAE: 0.544, MSE: 0.531\n",
      "\n",
      "=======================Selected features 90/207 =======================\n",
      "RFR | R2: 0.637, MAE: 0.552, MSE: 0.540\n",
      "DTR | R2: 0.302, MAE: 0.758, MSE: 1.040\n",
      "SVR | R2: 0.668, MAE: 0.522, MSE: 0.494\n",
      "MLPR | R2: 0.596, MAE: 0.561, MSE: 0.601\n",
      "XGBR | R2: 0.660, MAE: 0.531, MSE: 0.506\n",
      "\n",
      "=======================Selected features 95/207 =======================\n",
      "RFR | R2: 0.638, MAE: 0.548, MSE: 0.538\n",
      "DTR | R2: 0.329, MAE: 0.729, MSE: 0.999\n",
      "SVR | R2: 0.673, MAE: 0.519, MSE: 0.487\n",
      "MLPR | R2: 0.589, MAE: 0.571, MSE: 0.611\n",
      "XGBR | R2: 0.665, MAE: 0.524, MSE: 0.498\n",
      "\n",
      "=======================Selected features 100/207 =======================\n",
      "RFR | R2: 0.646, MAE: 0.546, MSE: 0.527\n",
      "DTR | R2: 0.309, MAE: 0.739, MSE: 1.028\n",
      "SVR | R2: 0.679, MAE: 0.515, MSE: 0.478\n",
      "MLPR | R2: 0.614, MAE: 0.550, MSE: 0.574\n",
      "XGBR | R2: 0.664, MAE: 0.530, MSE: 0.500\n",
      "\n",
      "=======================Selected features 105/207 =======================\n",
      "RFR | R2: 0.639, MAE: 0.551, MSE: 0.538\n",
      "DTR | R2: 0.330, MAE: 0.743, MSE: 0.998\n",
      "SVR | R2: 0.682, MAE: 0.515, MSE: 0.474\n",
      "MLPR | R2: 0.623, MAE: 0.540, MSE: 0.562\n",
      "XGBR | R2: 0.659, MAE: 0.537, MSE: 0.507\n",
      "\n",
      "=======================Selected features 110/207 =======================\n",
      "RFR | R2: 0.640, MAE: 0.551, MSE: 0.536\n",
      "DTR | R2: 0.273, MAE: 0.754, MSE: 1.082\n",
      "SVR | R2: 0.681, MAE: 0.515, MSE: 0.475\n",
      "MLPR | R2: 0.606, MAE: 0.558, MSE: 0.586\n",
      "XGBR | R2: 0.640, MAE: 0.560, MSE: 0.536\n",
      "\n",
      "=======================Selected features 115/207 =======================\n",
      "RFR | R2: 0.643, MAE: 0.546, MSE: 0.531\n",
      "DTR | R2: 0.311, MAE: 0.729, MSE: 1.025\n",
      "SVR | R2: 0.681, MAE: 0.515, MSE: 0.475\n",
      "MLPR | R2: 0.631, MAE: 0.527, MSE: 0.549\n",
      "XGBR | R2: 0.648, MAE: 0.545, MSE: 0.525\n",
      "\n",
      "=======================Selected features 120/207 =======================\n",
      "RFR | R2: 0.638, MAE: 0.551, MSE: 0.539\n",
      "DTR | R2: 0.212, MAE: 0.759, MSE: 1.172\n",
      "SVR | R2: 0.683, MAE: 0.513, MSE: 0.472\n",
      "MLPR | R2: 0.619, MAE: 0.545, MSE: 0.568\n",
      "XGBR | R2: 0.637, MAE: 0.540, MSE: 0.541\n",
      "\n",
      "=======================Selected features 125/207 =======================\n",
      "RFR | R2: 0.640, MAE: 0.550, MSE: 0.536\n",
      "DTR | R2: 0.239, MAE: 0.754, MSE: 1.133\n",
      "SVR | R2: 0.686, MAE: 0.510, MSE: 0.468\n",
      "MLPR | R2: 0.665, MAE: 0.529, MSE: 0.499\n",
      "XGBR | R2: 0.657, MAE: 0.541, MSE: 0.510\n",
      "\n",
      "=======================Selected features 130/207 =======================\n",
      "RFR | R2: 0.640, MAE: 0.551, MSE: 0.536\n",
      "DTR | R2: 0.215, MAE: 0.781, MSE: 1.168\n",
      "SVR | R2: 0.687, MAE: 0.509, MSE: 0.466\n",
      "MLPR | R2: 0.639, MAE: 0.539, MSE: 0.538\n",
      "XGBR | R2: 0.682, MAE: 0.519, MSE: 0.473\n",
      "\n",
      "=======================Selected features 135/207 =======================\n",
      "RFR | R2: 0.638, MAE: 0.553, MSE: 0.538\n",
      "DTR | R2: 0.226, MAE: 0.771, MSE: 1.152\n",
      "SVR | R2: 0.694, MAE: 0.503, MSE: 0.456\n",
      "MLPR | R2: 0.661, MAE: 0.529, MSE: 0.504\n",
      "XGBR | R2: 0.684, MAE: 0.519, MSE: 0.471\n",
      "\n",
      "=======================Selected features 140/207 =======================\n",
      "RFR | R2: 0.641, MAE: 0.551, MSE: 0.534\n",
      "DTR | R2: 0.226, MAE: 0.776, MSE: 1.152\n",
      "SVR | R2: 0.690, MAE: 0.506, MSE: 0.461\n",
      "MLPR | R2: 0.663, MAE: 0.526, MSE: 0.501\n",
      "XGBR | R2: 0.678, MAE: 0.525, MSE: 0.480\n",
      "\n",
      "=======================Selected features 145/207 =======================\n",
      "RFR | R2: 0.644, MAE: 0.550, MSE: 0.529\n",
      "DTR | R2: 0.218, MAE: 0.782, MSE: 1.163\n",
      "SVR | R2: 0.693, MAE: 0.503, MSE: 0.457\n",
      "MLPR | R2: 0.651, MAE: 0.541, MSE: 0.519\n",
      "XGBR | R2: 0.679, MAE: 0.519, MSE: 0.477\n",
      "\n",
      "=======================Selected features 150/207 =======================\n",
      "RFR | R2: 0.641, MAE: 0.555, MSE: 0.534\n",
      "DTR | R2: 0.220, MAE: 0.784, MSE: 1.162\n",
      "SVR | R2: 0.697, MAE: 0.499, MSE: 0.451\n",
      "MLPR | R2: 0.625, MAE: 0.554, MSE: 0.558\n",
      "XGBR | R2: 0.693, MAE: 0.513, MSE: 0.457\n",
      "\n",
      "=======================Selected features 155/207 =======================\n",
      "RFR | R2: 0.646, MAE: 0.549, MSE: 0.527\n",
      "DTR | R2: 0.168, MAE: 0.803, MSE: 1.239\n",
      "SVR | R2: 0.699, MAE: 0.495, MSE: 0.448\n",
      "MLPR | R2: 0.678, MAE: 0.507, MSE: 0.479\n",
      "XGBR | R2: 0.693, MAE: 0.511, MSE: 0.458\n",
      "\n",
      "=======================Selected features 160/207 =======================\n",
      "RFR | R2: 0.647, MAE: 0.548, MSE: 0.526\n",
      "DTR | R2: 0.204, MAE: 0.800, MSE: 1.185\n",
      "SVR | R2: 0.701, MAE: 0.492, MSE: 0.445\n",
      "MLPR | R2: 0.679, MAE: 0.517, MSE: 0.478\n",
      "XGBR | R2: 0.670, MAE: 0.521, MSE: 0.491\n",
      "\n",
      "=======================Selected features 165/207 =======================\n",
      "RFR | R2: 0.644, MAE: 0.550, MSE: 0.529\n",
      "DTR | R2: 0.313, MAE: 0.760, MSE: 1.023\n",
      "SVR | R2: 0.697, MAE: 0.497, MSE: 0.451\n",
      "MLPR | R2: 0.667, MAE: 0.518, MSE: 0.496\n",
      "XGBR | R2: 0.667, MAE: 0.526, MSE: 0.495\n",
      "\n",
      "=======================Selected features 170/207 =======================\n",
      "RFR | R2: 0.644, MAE: 0.548, MSE: 0.530\n",
      "DTR | R2: 0.279, MAE: 0.773, MSE: 1.073\n",
      "SVR | R2: 0.694, MAE: 0.498, MSE: 0.455\n",
      "MLPR | R2: 0.628, MAE: 0.542, MSE: 0.554\n",
      "XGBR | R2: 0.652, MAE: 0.532, MSE: 0.518\n",
      "\n",
      "=======================Selected features 175/207 =======================\n",
      "RFR | R2: 0.649, MAE: 0.546, MSE: 0.523\n",
      "DTR | R2: 0.287, MAE: 0.769, MSE: 1.061\n",
      "SVR | R2: 0.691, MAE: 0.500, MSE: 0.460\n",
      "MLPR | R2: 0.664, MAE: 0.522, MSE: 0.500\n",
      "XGBR | R2: 0.646, MAE: 0.536, MSE: 0.528\n",
      "\n",
      "=======================Selected features 180/207 =======================\n",
      "RFR | R2: 0.645, MAE: 0.549, MSE: 0.529\n",
      "DTR | R2: 0.331, MAE: 0.729, MSE: 0.996\n",
      "SVR | R2: 0.692, MAE: 0.498, MSE: 0.458\n",
      "MLPR | R2: 0.685, MAE: 0.497, MSE: 0.468\n",
      "XGBR | R2: 0.646, MAE: 0.537, MSE: 0.526\n",
      "\n",
      "=======================Selected features 185/207 =======================\n",
      "RFR | R2: 0.647, MAE: 0.546, MSE: 0.525\n",
      "DTR | R2: 0.296, MAE: 0.758, MSE: 1.049\n",
      "SVR | R2: 0.691, MAE: 0.500, MSE: 0.460\n",
      "MLPR | R2: 0.663, MAE: 0.522, MSE: 0.501\n",
      "XGBR | R2: 0.641, MAE: 0.535, MSE: 0.535\n",
      "\n",
      "=======================Selected features 190/207 =======================\n",
      "RFR | R2: 0.644, MAE: 0.550, MSE: 0.530\n",
      "DTR | R2: 0.342, MAE: 0.739, MSE: 0.979\n",
      "SVR | R2: 0.691, MAE: 0.500, MSE: 0.460\n",
      "MLPR | R2: 0.651, MAE: 0.537, MSE: 0.520\n",
      "XGBR | R2: 0.641, MAE: 0.535, MSE: 0.535\n",
      "\n",
      "=======================Selected features 195/207 =======================\n",
      "RFR | R2: 0.647, MAE: 0.547, MSE: 0.526\n",
      "DTR | R2: 0.274, MAE: 0.773, MSE: 1.080\n",
      "SVR | R2: 0.691, MAE: 0.501, MSE: 0.460\n",
      "MLPR | R2: 0.661, MAE: 0.506, MSE: 0.505\n",
      "XGBR | R2: 0.641, MAE: 0.535, MSE: 0.535\n",
      "\n",
      "=======================Selected features 200/207 =======================\n",
      "RFR | R2: 0.649, MAE: 0.545, MSE: 0.523\n",
      "DTR | R2: 0.307, MAE: 0.738, MSE: 1.031\n",
      "SVR | R2: 0.688, MAE: 0.503, MSE: 0.465\n",
      "MLPR | R2: 0.642, MAE: 0.546, MSE: 0.534\n",
      "XGBR | R2: 0.641, MAE: 0.535, MSE: 0.535\n",
      "\n",
      "=======================Selected features 205/207 =======================\n",
      "RFR | R2: 0.646, MAE: 0.548, MSE: 0.527\n",
      "DTR | R2: 0.296, MAE: 0.765, MSE: 1.048\n",
      "SVR | R2: 0.689, MAE: 0.504, MSE: 0.462\n",
      "MLPR | R2: 0.595, MAE: 0.554, MSE: 0.602\n",
      "XGBR | R2: 0.661, MAE: 0.529, MSE: 0.504\n"
     ]
    }
   ],
   "source": [
    "# ADDED\n",
    "n_neighbors = 100\n",
    "\n",
    "models_relief, results_relief, num_sel_feat_relief, features_relief = fs_relieff(X_train, y_train, X_val, y_val, X_train_norm, X_val_norm, n_neighbors)"
   ]
  },
  {
   "cell_type": "code",
   "execution_count": 28,
   "id": "8808325c",
   "metadata": {},
   "outputs": [
    {
     "data": {
      "image/png": "[encoded data removed]",
      "text/plain": [
       "<Figure size 950x380 with 1 Axes>"
      ]
     },
     "metadata": {},
     "output_type": "display_data"
    }
   ],
   "source": [
    "# Added\n",
    "mse_relieff, r2_relieff = plot_regression_metrics(num_sel_feat_relief, results_relief, \"RelieFf\")"
   ]
  },
  {
   "cell_type": "code",
   "execution_count": 29,
   "id": "84710670",
   "metadata": {},
   "outputs": [],
   "source": [
    "# Added\n",
    "# Take selected features by Relieff\n",
    "selected_features_relieff = features_relief[np.argmax(r2_relieff)]"
   ]
  },
  {
   "cell_type": "code",
   "execution_count": 30,
   "id": "bfb23e46",
   "metadata": {},
   "outputs": [
    {
     "name": "stdout",
     "output_type": "stream",
     "text": [
      "{'kernel': 'rbf', 'gamma': 'auto', 'degree': 8, 'coef0': 0.01, 'C': 5}\n",
      "r2: 0.753213, mse: 0.367328, mae: 0.446254\n"
     ]
    }
   ],
   "source": [
    "# Added\n",
    "rnd_models_relieff, metrics_rnd_relieff = apply_randsearch(X_train[selected_features_relieff]\n",
    "                                                        , y_train                                                       \n",
    "                                                        , X_val[selected_features_relieff]\n",
    "                                                        , y_val\n",
    "                                                        , False\n",
    "                                                        , X_train_norm[selected_features_relieff]\n",
    "                                                        , X_val_norm[selected_features_relieff])"
   ]
  },
  {
   "cell_type": "markdown",
   "id": "baa776a6",
   "metadata": {},
   "source": [
    "### Improving the model: Feature Selection - Mutual_info_regression\n",
    "\n",
    "#### This method utilizes the mutual information. It calculates mutual information value for each of independent variables with respect to dependent variable, and selects the ones which has most information gain. In other words, it basically measures the dependency of features with the target value. The higher score means more dependent variables."
   ]
  },
  {
   "cell_type": "code",
   "execution_count": 31,
   "id": "a2e1dbb3",
   "metadata": {},
   "outputs": [],
   "source": [
    "# ADDED\n",
    "# Applying various feature selection algorithm supplied by the score_func\n",
    "def fs_score_fn(X_train, y_train, X_val, y_val, X_train_norm, X_val_norm, score_fn, c = False):\n",
    "    \n",
    "    num_sel_feat = np.arange(10, X_train.shape[1], 5)\n",
    "    \n",
    "    m,r,f = [], [], []\n",
    "    \n",
    "    for k in list(num_sel_feat):\n",
    "        print(\"\\n=======================Selected features %0.0f/%0.0f =======================\"%(k,X_train.shape[1]))\n",
    "        \n",
    "        # Applying feature selection algorithm supplied by the score_func on train, validation and normalized datasets\n",
    "        fs = SelectKBest(score_func=score_fn, k=k)         \n",
    "        fs.fit(X_train, y_train)\n",
    "                \n",
    "        # Retreive selected feature names\n",
    "        selected_features=X_train.columns[fs.get_support()]\n",
    "        \n",
    "        f.append(selected_features) \n",
    "        \n",
    "        # Get metrics based on selected features\n",
    "        models, results = models_comparison(X_train[selected_features], y_train, X_val[selected_features], y_val,\n",
    "                            c, False, False, X_train_norm[selected_features], X_val_norm[selected_features])\n",
    "        \n",
    "        m.append(models)\n",
    "        r.append(results)\n",
    "         \n",
    "    return m,r,num_sel_feat,f \n"
   ]
  },
  {
   "cell_type": "code",
   "execution_count": 32,
   "id": "77a36179",
   "metadata": {},
   "outputs": [
    {
     "name": "stdout",
     "output_type": "stream",
     "text": [
      "\n",
      "=======================Selected features 10/207 =======================\n",
      "RFR | R2: 0.582, MAE: 0.593, MSE: 0.622\n",
      "DTR | R2: 0.274, MAE: 0.770, MSE: 1.080\n",
      "SVR | R2: 0.436, MAE: 0.710, MSE: 0.839\n",
      "MLPR | R2: 0.354, MAE: 0.721, MSE: 0.961\n",
      "XGBR | R2: 0.560, MAE: 0.602, MSE: 0.654\n",
      "\n",
      "=======================Selected features 15/207 =======================\n",
      "RFR | R2: 0.589, MAE: 0.586, MSE: 0.612\n",
      "DTR | R2: 0.228, MAE: 0.799, MSE: 1.149\n",
      "SVR | R2: 0.501, MAE: 0.667, MSE: 0.742\n",
      "MLPR | R2: 0.320, MAE: 0.732, MSE: 1.013\n",
      "XGBR | R2: 0.569, MAE: 0.601, MSE: 0.642\n",
      "\n",
      "=======================Selected features 20/207 =======================\n",
      "RFR | R2: 0.604, MAE: 0.582, MSE: 0.589\n",
      "DTR | R2: 0.265, MAE: 0.776, MSE: 1.094\n",
      "SVR | R2: 0.589, MAE: 0.595, MSE: 0.612\n",
      "MLPR | R2: 0.487, MAE: 0.634, MSE: 0.763\n",
      "XGBR | R2: 0.629, MAE: 0.555, MSE: 0.552\n",
      "\n",
      "=======================Selected features 25/207 =======================\n",
      "RFR | R2: 0.623, MAE: 0.565, MSE: 0.561\n",
      "DTR | R2: 0.301, MAE: 0.746, MSE: 1.041\n",
      "SVR | R2: 0.618, MAE: 0.572, MSE: 0.569\n",
      "MLPR | R2: 0.536, MAE: 0.621, MSE: 0.691\n",
      "XGBR | R2: 0.616, MAE: 0.577, MSE: 0.571\n",
      "\n",
      "=======================Selected features 30/207 =======================\n",
      "RFR | R2: 0.628, MAE: 0.561, MSE: 0.554\n",
      "DTR | R2: 0.335, MAE: 0.739, MSE: 0.990\n",
      "SVR | R2: 0.642, MAE: 0.551, MSE: 0.533\n",
      "MLPR | R2: 0.533, MAE: 0.619, MSE: 0.695\n",
      "XGBR | R2: 0.654, MAE: 0.546, MSE: 0.515\n",
      "\n",
      "=======================Selected features 35/207 =======================\n",
      "RFR | R2: 0.614, MAE: 0.573, MSE: 0.575\n",
      "DTR | R2: 0.122, MAE: 0.837, MSE: 1.306\n",
      "SVR | R2: 0.636, MAE: 0.550, MSE: 0.541\n",
      "MLPR | R2: 0.600, MAE: 0.581, MSE: 0.595\n",
      "XGBR | R2: 0.623, MAE: 0.563, MSE: 0.561\n",
      "\n",
      "=======================Selected features 40/207 =======================\n",
      "RFR | R2: 0.622, MAE: 0.566, MSE: 0.563\n",
      "DTR | R2: 0.192, MAE: 0.823, MSE: 1.202\n",
      "SVR | R2: 0.644, MAE: 0.541, MSE: 0.531\n",
      "MLPR | R2: 0.600, MAE: 0.566, MSE: 0.595\n",
      "XGBR | R2: 0.636, MAE: 0.549, MSE: 0.543\n",
      "\n",
      "=======================Selected features 45/207 =======================\n",
      "RFR | R2: 0.625, MAE: 0.568, MSE: 0.559\n",
      "DTR | R2: 0.197, MAE: 0.840, MSE: 1.195\n",
      "SVR | R2: 0.637, MAE: 0.545, MSE: 0.541\n",
      "MLPR | R2: 0.554, MAE: 0.586, MSE: 0.664\n",
      "XGBR | R2: 0.661, MAE: 0.532, MSE: 0.504\n",
      "\n",
      "=======================Selected features 50/207 =======================\n",
      "RFR | R2: 0.624, MAE: 0.565, MSE: 0.560\n",
      "DTR | R2: 0.276, MAE: 0.769, MSE: 1.077\n",
      "SVR | R2: 0.655, MAE: 0.532, MSE: 0.514\n",
      "MLPR | R2: 0.625, MAE: 0.570, MSE: 0.558\n",
      "XGBR | R2: 0.615, MAE: 0.563, MSE: 0.573\n",
      "\n",
      "=======================Selected features 55/207 =======================\n",
      "RFR | R2: 0.626, MAE: 0.563, MSE: 0.557\n",
      "DTR | R2: 0.312, MAE: 0.765, MSE: 1.024\n",
      "SVR | R2: 0.654, MAE: 0.537, MSE: 0.515\n",
      "MLPR | R2: 0.649, MAE: 0.535, MSE: 0.523\n",
      "XGBR | R2: 0.693, MAE: 0.518, MSE: 0.457\n",
      "\n",
      "=======================Selected features 60/207 =======================\n",
      "RFR | R2: 0.636, MAE: 0.556, MSE: 0.541\n",
      "DTR | R2: 0.277, MAE: 0.781, MSE: 1.076\n",
      "SVR | R2: 0.661, MAE: 0.528, MSE: 0.505\n",
      "MLPR | R2: 0.641, MAE: 0.545, MSE: 0.535\n",
      "XGBR | R2: 0.655, MAE: 0.533, MSE: 0.514\n",
      "\n",
      "=======================Selected features 65/207 =======================\n",
      "RFR | R2: 0.628, MAE: 0.558, MSE: 0.554\n",
      "DTR | R2: 0.335, MAE: 0.723, MSE: 0.990\n",
      "SVR | R2: 0.662, MAE: 0.530, MSE: 0.502\n",
      "MLPR | R2: 0.555, MAE: 0.607, MSE: 0.662\n",
      "XGBR | R2: 0.638, MAE: 0.543, MSE: 0.539\n",
      "\n",
      "=======================Selected features 70/207 =======================\n",
      "RFR | R2: 0.631, MAE: 0.556, MSE: 0.550\n",
      "DTR | R2: 0.309, MAE: 0.734, MSE: 1.028\n",
      "SVR | R2: 0.666, MAE: 0.529, MSE: 0.498\n",
      "MLPR | R2: 0.641, MAE: 0.542, MSE: 0.535\n",
      "XGBR | R2: 0.664, MAE: 0.538, MSE: 0.501\n",
      "\n",
      "=======================Selected features 75/207 =======================\n",
      "RFR | R2: 0.635, MAE: 0.552, MSE: 0.543\n",
      "DTR | R2: 0.327, MAE: 0.740, MSE: 1.002\n",
      "SVR | R2: 0.677, MAE: 0.516, MSE: 0.480\n",
      "MLPR | R2: 0.629, MAE: 0.553, MSE: 0.552\n",
      "XGBR | R2: 0.647, MAE: 0.540, MSE: 0.526\n",
      "\n",
      "=======================Selected features 80/207 =======================\n",
      "RFR | R2: 0.632, MAE: 0.554, MSE: 0.547\n",
      "DTR | R2: 0.264, MAE: 0.753, MSE: 1.096\n",
      "SVR | R2: 0.669, MAE: 0.526, MSE: 0.492\n",
      "MLPR | R2: 0.616, MAE: 0.547, MSE: 0.571\n",
      "XGBR | R2: 0.614, MAE: 0.571, MSE: 0.575\n",
      "\n",
      "=======================Selected features 85/207 =======================\n",
      "RFR | R2: 0.635, MAE: 0.555, MSE: 0.544\n",
      "DTR | R2: 0.289, MAE: 0.735, MSE: 1.058\n",
      "SVR | R2: 0.674, MAE: 0.523, MSE: 0.485\n",
      "MLPR | R2: 0.663, MAE: 0.528, MSE: 0.501\n",
      "XGBR | R2: 0.674, MAE: 0.523, MSE: 0.485\n",
      "\n",
      "=======================Selected features 90/207 =======================\n",
      "RFR | R2: 0.642, MAE: 0.546, MSE: 0.532\n",
      "DTR | R2: 0.303, MAE: 0.743, MSE: 1.037\n",
      "SVR | R2: 0.678, MAE: 0.517, MSE: 0.480\n",
      "MLPR | R2: 0.647, MAE: 0.541, MSE: 0.526\n",
      "XGBR | R2: 0.662, MAE: 0.535, MSE: 0.503\n",
      "\n",
      "=======================Selected features 95/207 =======================\n",
      "RFR | R2: 0.635, MAE: 0.553, MSE: 0.544\n",
      "DTR | R2: 0.313, MAE: 0.740, MSE: 1.023\n",
      "SVR | R2: 0.676, MAE: 0.523, MSE: 0.483\n",
      "MLPR | R2: 0.662, MAE: 0.532, MSE: 0.503\n",
      "XGBR | R2: 0.636, MAE: 0.553, MSE: 0.542\n",
      "\n",
      "=======================Selected features 100/207 =======================\n",
      "RFR | R2: 0.643, MAE: 0.546, MSE: 0.532\n",
      "DTR | R2: 0.243, MAE: 0.755, MSE: 1.127\n",
      "SVR | R2: 0.690, MAE: 0.508, MSE: 0.462\n",
      "MLPR | R2: 0.639, MAE: 0.547, MSE: 0.537\n",
      "XGBR | R2: 0.650, MAE: 0.544, MSE: 0.521\n",
      "\n",
      "=======================Selected features 105/207 =======================\n",
      "RFR | R2: 0.643, MAE: 0.548, MSE: 0.531\n",
      "DTR | R2: 0.265, MAE: 0.749, MSE: 1.094\n",
      "SVR | R2: 0.680, MAE: 0.517, MSE: 0.476\n",
      "MLPR | R2: 0.582, MAE: 0.567, MSE: 0.623\n",
      "XGBR | R2: 0.647, MAE: 0.537, MSE: 0.526\n",
      "\n",
      "=======================Selected features 110/207 =======================\n",
      "RFR | R2: 0.641, MAE: 0.546, MSE: 0.534\n",
      "DTR | R2: 0.292, MAE: 0.761, MSE: 1.054\n",
      "SVR | R2: 0.689, MAE: 0.512, MSE: 0.464\n",
      "MLPR | R2: 0.666, MAE: 0.534, MSE: 0.498\n",
      "XGBR | R2: 0.652, MAE: 0.537, MSE: 0.519\n",
      "\n",
      "=======================Selected features 115/207 =======================\n",
      "RFR | R2: 0.640, MAE: 0.551, MSE: 0.536\n",
      "DTR | R2: 0.291, MAE: 0.739, MSE: 1.056\n",
      "SVR | R2: 0.672, MAE: 0.521, MSE: 0.488\n",
      "MLPR | R2: 0.639, MAE: 0.526, MSE: 0.538\n",
      "XGBR | R2: 0.639, MAE: 0.547, MSE: 0.537\n",
      "\n",
      "=======================Selected features 120/207 =======================\n",
      "RFR | R2: 0.639, MAE: 0.553, MSE: 0.538\n",
      "DTR | R2: 0.299, MAE: 0.728, MSE: 1.043\n",
      "SVR | R2: 0.681, MAE: 0.512, MSE: 0.475\n",
      "MLPR | R2: 0.598, MAE: 0.566, MSE: 0.599\n",
      "XGBR | R2: 0.673, MAE: 0.528, MSE: 0.486\n",
      "\n",
      "=======================Selected features 125/207 =======================\n",
      "RFR | R2: 0.644, MAE: 0.547, MSE: 0.530\n",
      "DTR | R2: 0.267, MAE: 0.763, MSE: 1.091\n",
      "SVR | R2: 0.684, MAE: 0.510, MSE: 0.471\n",
      "MLPR | R2: 0.703, MAE: 0.499, MSE: 0.443\n",
      "XGBR | R2: 0.665, MAE: 0.536, MSE: 0.499\n",
      "\n",
      "=======================Selected features 130/207 =======================\n",
      "RFR | R2: 0.644, MAE: 0.548, MSE: 0.530\n",
      "DTR | R2: 0.302, MAE: 0.755, MSE: 1.039\n",
      "SVR | R2: 0.678, MAE: 0.514, MSE: 0.480\n",
      "MLPR | R2: 0.606, MAE: 0.567, MSE: 0.586\n",
      "XGBR | R2: 0.671, MAE: 0.528, MSE: 0.490\n",
      "\n",
      "=======================Selected features 135/207 =======================\n",
      "RFR | R2: 0.641, MAE: 0.550, MSE: 0.535\n",
      "DTR | R2: 0.258, MAE: 0.755, MSE: 1.105\n",
      "SVR | R2: 0.678, MAE: 0.520, MSE: 0.479\n",
      "MLPR | R2: 0.668, MAE: 0.518, MSE: 0.494\n",
      "XGBR | R2: 0.677, MAE: 0.517, MSE: 0.480\n",
      "\n",
      "=======================Selected features 140/207 =======================\n",
      "RFR | R2: 0.636, MAE: 0.555, MSE: 0.542\n",
      "DTR | R2: 0.293, MAE: 0.752, MSE: 1.052\n",
      "SVR | R2: 0.683, MAE: 0.516, MSE: 0.472\n",
      "MLPR | R2: 0.640, MAE: 0.536, MSE: 0.536\n",
      "XGBR | R2: 0.649, MAE: 0.543, MSE: 0.522\n",
      "\n",
      "=======================Selected features 145/207 =======================\n",
      "RFR | R2: 0.644, MAE: 0.548, MSE: 0.530\n",
      "DTR | R2: 0.260, MAE: 0.761, MSE: 1.101\n",
      "SVR | R2: 0.687, MAE: 0.511, MSE: 0.465\n",
      "MLPR | R2: 0.636, MAE: 0.534, MSE: 0.542\n",
      "XGBR | R2: 0.676, MAE: 0.530, MSE: 0.482\n",
      "\n",
      "=======================Selected features 150/207 =======================\n",
      "RFR | R2: 0.638, MAE: 0.554, MSE: 0.538\n",
      "DTR | R2: 0.287, MAE: 0.744, MSE: 1.061\n",
      "SVR | R2: 0.679, MAE: 0.514, MSE: 0.478\n",
      "MLPR | R2: 0.631, MAE: 0.525, MSE: 0.549\n",
      "XGBR | R2: 0.657, MAE: 0.535, MSE: 0.510\n",
      "\n",
      "=======================Selected features 155/207 =======================\n",
      "RFR | R2: 0.644, MAE: 0.549, MSE: 0.530\n",
      "DTR | R2: 0.229, MAE: 0.798, MSE: 1.148\n",
      "SVR | R2: 0.690, MAE: 0.504, MSE: 0.461\n",
      "MLPR | R2: 0.620, MAE: 0.547, MSE: 0.565\n",
      "XGBR | R2: 0.663, MAE: 0.522, MSE: 0.502\n",
      "\n",
      "=======================Selected features 160/207 =======================\n",
      "RFR | R2: 0.649, MAE: 0.544, MSE: 0.523\n",
      "DTR | R2: 0.306, MAE: 0.757, MSE: 1.033\n",
      "SVR | R2: 0.686, MAE: 0.508, MSE: 0.468\n",
      "MLPR | R2: 0.579, MAE: 0.578, MSE: 0.627\n",
      "XGBR | R2: 0.659, MAE: 0.525, MSE: 0.508\n",
      "\n",
      "=======================Selected features 165/207 =======================\n",
      "RFR | R2: 0.643, MAE: 0.548, MSE: 0.531\n",
      "DTR | R2: 0.282, MAE: 0.772, MSE: 1.069\n",
      "SVR | R2: 0.682, MAE: 0.506, MSE: 0.473\n",
      "MLPR | R2: 0.628, MAE: 0.536, MSE: 0.553\n",
      "XGBR | R2: 0.649, MAE: 0.542, MSE: 0.522\n",
      "\n",
      "=======================Selected features 170/207 =======================\n",
      "RFR | R2: 0.645, MAE: 0.547, MSE: 0.528\n",
      "DTR | R2: 0.327, MAE: 0.740, MSE: 1.002\n",
      "SVR | R2: 0.679, MAE: 0.515, MSE: 0.477\n",
      "MLPR | R2: 0.646, MAE: 0.545, MSE: 0.527\n",
      "XGBR | R2: 0.648, MAE: 0.541, MSE: 0.525\n",
      "\n",
      "=======================Selected features 175/207 =======================\n",
      "RFR | R2: 0.646, MAE: 0.548, MSE: 0.527\n",
      "DTR | R2: 0.309, MAE: 0.751, MSE: 1.029\n",
      "SVR | R2: 0.690, MAE: 0.506, MSE: 0.462\n",
      "MLPR | R2: 0.634, MAE: 0.538, MSE: 0.545\n",
      "XGBR | R2: 0.655, MAE: 0.534, MSE: 0.513\n",
      "\n",
      "=======================Selected features 180/207 =======================\n",
      "RFR | R2: 0.646, MAE: 0.549, MSE: 0.527\n",
      "DTR | R2: 0.278, MAE: 0.774, MSE: 1.075\n",
      "SVR | R2: 0.688, MAE: 0.505, MSE: 0.465\n",
      "MLPR | R2: 0.648, MAE: 0.504, MSE: 0.524\n",
      "XGBR | R2: 0.666, MAE: 0.521, MSE: 0.498\n",
      "\n",
      "=======================Selected features 185/207 =======================\n",
      "RFR | R2: 0.649, MAE: 0.543, MSE: 0.522\n",
      "DTR | R2: 0.286, MAE: 0.761, MSE: 1.062\n",
      "SVR | R2: 0.690, MAE: 0.501, MSE: 0.462\n",
      "MLPR | R2: 0.635, MAE: 0.538, MSE: 0.544\n",
      "XGBR | R2: 0.660, MAE: 0.523, MSE: 0.506\n",
      "\n",
      "=======================Selected features 190/207 =======================\n",
      "RFR | R2: 0.642, MAE: 0.549, MSE: 0.534\n",
      "DTR | R2: 0.295, MAE: 0.754, MSE: 1.050\n",
      "SVR | R2: 0.678, MAE: 0.517, MSE: 0.479\n",
      "MLPR | R2: 0.700, MAE: 0.482, MSE: 0.447\n",
      "XGBR | R2: 0.663, MAE: 0.528, MSE: 0.501\n",
      "\n",
      "=======================Selected features 195/207 =======================\n",
      "RFR | R2: 0.644, MAE: 0.548, MSE: 0.531\n",
      "DTR | R2: 0.288, MAE: 0.765, MSE: 1.059\n",
      "SVR | R2: 0.687, MAE: 0.505, MSE: 0.466\n",
      "MLPR | R2: 0.611, MAE: 0.549, MSE: 0.579\n",
      "XGBR | R2: 0.662, MAE: 0.532, MSE: 0.503\n",
      "\n",
      "=======================Selected features 200/207 =======================\n",
      "RFR | R2: 0.645, MAE: 0.549, MSE: 0.529\n",
      "DTR | R2: 0.334, MAE: 0.741, MSE: 0.992\n",
      "SVR | R2: 0.687, MAE: 0.505, MSE: 0.466\n",
      "MLPR | R2: 0.630, MAE: 0.518, MSE: 0.551\n",
      "XGBR | R2: 0.659, MAE: 0.531, MSE: 0.507\n",
      "\n",
      "=======================Selected features 205/207 =======================\n",
      "RFR | R2: 0.643, MAE: 0.550, MSE: 0.531\n",
      "DTR | R2: 0.311, MAE: 0.759, MSE: 1.026\n",
      "SVR | R2: 0.689, MAE: 0.503, MSE: 0.462\n",
      "MLPR | R2: 0.619, MAE: 0.538, MSE: 0.568\n",
      "XGBR | R2: 0.651, MAE: 0.535, MSE: 0.520\n"
     ]
    }
   ],
   "source": [
    "#Added\n",
    "# Applying feature selection using mutual_info_regression\n",
    "models_mir, results_mir, num_sel_feat_mir,features_mir = fs_score_fn(X_train, y_train, X_val, y_val, X_train_norm, X_val_norm, mutual_info_regression)"
   ]
  },
  {
   "cell_type": "code",
   "execution_count": 33,
   "id": "90dc8956",
   "metadata": {},
   "outputs": [
    {
     "data": {
      "image/png": "[encoded data removed]",
      "text/plain": [
       "<Figure size 950x380 with 1 Axes>"
      ]
     },
     "metadata": {},
     "output_type": "display_data"
    }
   ],
   "source": [
    "# Added\n",
    "mse_mir, r2_mir = plot_regression_metrics(num_sel_feat_mir, results_mir, \"Mutual Info Regression\")"
   ]
  },
  {
   "cell_type": "code",
   "execution_count": 34,
   "id": "777faa62",
   "metadata": {},
   "outputs": [],
   "source": [
    "# Added\n",
    "# Take selected features by mutual_info_regression\n",
    "selected_features_mir = features_mir[np.argmax(r2_mir)]"
   ]
  },
  {
   "cell_type": "code",
   "execution_count": 35,
   "id": "9ee6ff6b",
   "metadata": {},
   "outputs": [
    {
     "name": "stdout",
     "output_type": "stream",
     "text": [
      "{'kernel': 'rbf', 'gamma': 'auto', 'degree': 8, 'coef0': 0.01, 'C': 5}\n",
      "r2: 0.736764, mse: 0.391812, mae: 0.461887\n"
     ]
    }
   ],
   "source": [
    "# Added\n",
    "rnd_models_mir, metrics_rnd_mir = apply_randsearch(X_train[selected_features_mir]\n",
    "                                                        , y_train                                                       \n",
    "                                                        , X_val[selected_features_mir]\n",
    "                                                        , y_val\n",
    "                                                        , False\n",
    "                                                        , X_train_norm[selected_features_mir]\n",
    "                                                        , X_val_norm[selected_features_mir])"
   ]
  },
  {
   "cell_type": "markdown",
   "id": "09615396",
   "metadata": {},
   "source": [
    "### Improving the model: Manual data cleaning"
   ]
  },
  {
   "cell_type": "markdown",
   "id": "a4c807d5",
   "metadata": {},
   "source": [
    "#### Pipeline\n",
    "- Remove **MolLogP** and **BCUT2D** features. \n",
    "- Remove **zero variance features**. \n",
    "- Remove **high correlated** features."
   ]
  },
  {
   "cell_type": "markdown",
   "id": "36a7ae77",
   "metadata": {},
   "source": [
    "#### 1 - Remove MolLogP, BCUT2D, and zero variance features. "
   ]
  },
  {
   "cell_type": "code",
   "execution_count": 36,
   "id": "e879694c",
   "metadata": {},
   "outputs": [
    {
     "name": "stdout",
     "output_type": "stream",
     "text": [
      "There are 10 columns with zero variance\n",
      "Total number of features dropped: 19\n"
     ]
    }
   ],
   "source": [
    "#Remove MolLogP, BCUT2D, and features with zero variance\n",
    "from sklearn.feature_selection import VarianceThreshold\n",
    "\n",
    "selector = VarianceThreshold()\n",
    "selector.fit(X_train)\n",
    "\n",
    "# Selector.get_support() returns a [,num_descriptors] boolean mask. False represents zero variance columns.\n",
    "zero_var_cols = [column for column in X_train.columns\n",
    "                    if column not in X_train.columns[selector.get_support()]]\n",
    "\n",
    "print('There are {} columns with zero variance'.format(len(zero_var_cols)))\n",
    "\n",
    "# As BCUT features and MolLogP may have counterproductive effects, we proceed to delete them\n",
    "zero_var_cols.extend([col for col in df.columns if 'BCUT2D' in col or 'MolLogP' in col])\n",
    "\n",
    "# We drop this first set of 11 columns in each set. \n",
    "# for i in [X_train, X_train_norm, X_val, X_val_norm]:\n",
    "#     i.drop(zero_var_cols, axis = 1, inplace = True)\n",
    "\n",
    "print('Total number of features dropped:', len(zero_var_cols))"
   ]
  },
  {
   "cell_type": "markdown",
   "id": "267946aa",
   "metadata": {},
   "source": [
    "#### 2 - Remove high correlated features"
   ]
  },
  {
   "cell_type": "code",
   "execution_count": 37,
   "id": "1e34c14e",
   "metadata": {},
   "outputs": [
    {
     "name": "stdout",
     "output_type": "stream",
     "text": [
      "Number of correlated features deleted: 29\n"
     ]
    }
   ],
   "source": [
    "# We drop the features with a high correlation\n",
    "\n",
    "corr = X_train.corr().abs()\n",
    "\n",
    "# Select upper triangle of correlation matrix\n",
    "upper = corr.where(np.triu(np.ones(corr.shape), k=1).astype(np.bool))\n",
    "\n",
    "# Find features with correlation greater than X\n",
    "correlated_features = [col for col in upper.columns if any(upper[col] > 0.95)]\n",
    "\n",
    "print('Number of correlated features deleted: {}'.format(len(correlated_features)))"
   ]
  },
  {
   "cell_type": "code",
   "execution_count": 38,
   "id": "7040bf2d",
   "metadata": {},
   "outputs": [
    {
     "name": "stdout",
     "output_type": "stream",
     "text": [
      "Total number of remaining descriptors after the data cleaning: 159\n"
     ]
    }
   ],
   "source": [
    "# We group all the dropped features\n",
    "mc_cols = list(set(X_train.columns) - set(correlated_features + zero_var_cols))\n",
    "\n",
    "print('Total number of remaining descriptors after the data cleaning: {}'.format(len(mc_cols)))"
   ]
  },
  {
   "cell_type": "markdown",
   "id": "2dda34a6",
   "metadata": {},
   "source": [
    "### Models comparison after data cleaning"
   ]
  },
  {
   "cell_type": "code",
   "execution_count": 39,
   "id": "8f2ee452",
   "metadata": {
    "scrolled": false
   },
   "outputs": [
    {
     "name": "stdout",
     "output_type": "stream",
     "text": [
      "RFR | R2: 0.603, MAE: 0.580, MSE: 0.591\n",
      "DTR | R2: 0.159, MAE: 0.828, MSE: 1.252\n",
      "SVR | R2: 0.690, MAE: 0.502, MSE: 0.462\n",
      "MLPR | R2: 0.602, MAE: 0.556, MSE: 0.592\n",
      "XGBR | R2: 0.636, MAE: 0.538, MSE: 0.542\n"
     ]
    },
    {
     "data": {
      "image/png": "[encoded data removed]",
      "text/plain": [
       "<Figure size 1425x570 with 1 Axes>"
      ]
     },
     "metadata": {},
     "output_type": "display_data"
    }
   ],
   "source": [
    "models, results = models_comparison(X_train[mc_cols]\n",
    "                                    , y_train\n",
    "                                    , X_val[mc_cols]\n",
    "                                    , y_val\n",
    "                                    , False\n",
    "                                    , True\n",
    "                                    , False\n",
    "                                    , X_train_norm[mc_cols]\n",
    "                                    , X_val_norm[mc_cols])"
   ]
  },
  {
   "cell_type": "code",
   "execution_count": 40,
   "id": "f97e720c",
   "metadata": {},
   "outputs": [],
   "source": [
    "#We add the best model to our benchmark for a later comparison\n",
    "benchmark = add_to_benchmark(benchmark, models, results)"
   ]
  },
  {
   "cell_type": "code",
   "execution_count": 41,
   "id": "b54a747b",
   "metadata": {},
   "outputs": [
    {
     "name": "stdout",
     "output_type": "stream",
     "text": [
      "{'kernel': 'rbf', 'gamma': 'auto', 'degree': 8, 'coef0': 0.01, 'C': 5}\n",
      "r2: 0.743075, mse: 0.382419, mae: 0.447705\n"
     ]
    }
   ],
   "source": [
    "rnd_models_mc, metrics_rnd_mc = apply_randsearch(X_train[mc_cols]\n",
    "                                                        , y_train                                                       \n",
    "                                                        , X_val[mc_cols]\n",
    "                                                        , y_val\n",
    "                                                        , False\n",
    "                                                        , X_train_norm[mc_cols]\n",
    "                                                        , X_val_norm[mc_cols])"
   ]
  },
  {
   "cell_type": "markdown",
   "id": "9694bed5",
   "metadata": {},
   "source": [
    "### Exploring alternatives: RandomizedSearchCV() in potential candidates\n",
    "\n",
    "By making use of RandomizedSearchCV() we could perhaps obtain better metrics in our potential model candidates  SVR and RFR. Function combines randomly the given hyperparameters to adjust the tuning. "
   ]
  },
  {
   "cell_type": "code",
   "execution_count": 42,
   "id": "16fbcd13",
   "metadata": {},
   "outputs": [],
   "source": [
    "#rnd_models, metrics = apply_randsearch(X_train, X_train_norm, y_train, X_val, False, X_val_norm, y_val)"
   ]
  },
  {
   "cell_type": "code",
   "execution_count": 51,
   "id": "65af002a",
   "metadata": {},
   "outputs": [],
   "source": [
    "#Added\n",
    "def fs_relieff_selected_features(X_train, y_train, X_val, y_val, X_train_norm, X_val_norm, n_neighbors, c = False):\n",
    "    \n",
    "    #num_sel_feat = np.arange(10, X_train.shape[1], 5)\n",
    "    \n",
    "    # Use selected feature sets only\n",
    "    num_sel_feat = np.arange(30, X_train.shape[1], 30)\n",
    "        \n",
    "    m,r,f = [], [], []\n",
    "    \n",
    "    for k in num_sel_feat:\n",
    "        print(\"\\n=======================Selected features %0.0f/%0.0f =======================\"%(k,X_train.shape[1]))\n",
    "        # Applying relieff feature selection on train, validation and normalized datasets\n",
    "        fs = ReliefF(n_features_to_select=k, n_neighbors=n_neighbors)\n",
    "        \n",
    "        fs.fit_transform(X_train.to_numpy(), y_train.to_numpy())\n",
    "        pos = pd.DataFrame(fs.feature_importances_.reshape(-1,1)).sort_values(by=0, ascending=False).head(k).index.tolist()\n",
    "        selected_features = list(X_train.columns[pos])\n",
    "\n",
    "        f.append(selected_features) \n",
    "        \n",
    "        # Get metrics based on selected features\n",
    "        models, results = models_comparison(X_train[selected_features], y_train, X_val[selected_features], y_val,\n",
    "                            c, False, False, X_train_norm[selected_features], X_val_norm[selected_features])\n",
    "                \n",
    "        m.append(models)\n",
    "        r.append(results)\n",
    "        \n",
    "    return m,r,num_sel_feat,f "
   ]
  },
  {
   "cell_type": "code",
   "execution_count": 52,
   "id": "9b0741c4",
   "metadata": {},
   "outputs": [
    {
     "name": "stdout",
     "output_type": "stream",
     "text": [
      "\n",
      "=======================Selected features 30/159 =======================\n",
      "RFR | R2: 0.582, MAE: 0.597, MSE: 0.623\n",
      "DTR | R2: 0.107, MAE: 0.839, MSE: 1.330\n",
      "SVR | R2: 0.617, MAE: 0.566, MSE: 0.571\n",
      "MLPR | R2: 0.481, MAE: 0.644, MSE: 0.773\n",
      "XGBR | R2: 0.547, MAE: 0.606, MSE: 0.674\n",
      "\n",
      "=======================Selected features 60/159 =======================\n",
      "RFR | R2: 0.595, MAE: 0.581, MSE: 0.603\n",
      "DTR | R2: 0.113, MAE: 0.822, MSE: 1.320\n",
      "SVR | R2: 0.661, MAE: 0.524, MSE: 0.505\n",
      "MLPR | R2: 0.587, MAE: 0.581, MSE: 0.615\n",
      "XGBR | R2: 0.612, MAE: 0.570, MSE: 0.578\n",
      "\n",
      "=======================Selected features 90/159 =======================\n",
      "RFR | R2: 0.599, MAE: 0.583, MSE: 0.598\n",
      "DTR | R2: 0.213, MAE: 0.797, MSE: 1.171\n",
      "SVR | R2: 0.677, MAE: 0.510, MSE: 0.480\n",
      "MLPR | R2: 0.614, MAE: 0.554, MSE: 0.574\n",
      "XGBR | R2: 0.590, MAE: 0.586, MSE: 0.611\n",
      "\n",
      "=======================Selected features 120/159 =======================\n",
      "RFR | R2: 0.600, MAE: 0.582, MSE: 0.596\n",
      "DTR | R2: 0.158, MAE: 0.824, MSE: 1.253\n",
      "SVR | R2: 0.703, MAE: 0.488, MSE: 0.443\n",
      "MLPR | R2: 0.645, MAE: 0.530, MSE: 0.529\n",
      "XGBR | R2: 0.614, MAE: 0.564, MSE: 0.575\n",
      "\n",
      "=======================Selected features 150/159 =======================\n",
      "RFR | R2: 0.597, MAE: 0.584, MSE: 0.599\n",
      "DTR | R2: 0.175, MAE: 0.829, MSE: 1.228\n",
      "SVR | R2: 0.694, MAE: 0.495, MSE: 0.456\n",
      "MLPR | R2: 0.599, MAE: 0.537, MSE: 0.596\n",
      "XGBR | R2: 0.614, MAE: 0.557, MSE: 0.575\n"
     ]
    }
   ],
   "source": [
    "# Added \n",
    "# Once hyper parameter tuning is done apply Relief FS algo on pre-processed/cleaned dataset\n",
    "\n",
    "models_sel, results_sel, num_sel_feat_sel, features_sel = fs_relieff_selected_features(X_train[mc_cols], y_train, X_val[mc_cols], y_val, X_train_norm[mc_cols], X_val_norm[mc_cols], n_neighbors)\n"
   ]
  },
  {
   "cell_type": "code",
   "execution_count": 55,
   "id": "f93a50d1",
   "metadata": {},
   "outputs": [],
   "source": [
    "# Added new function else old one can be modified to accept start_interval_range and step_size.. Will update in next run\n",
    "# Function to plot regression metrics\n",
    "def plot_regression_metrics_reduced_features(X_train, num_sel_feat, results, fs_name):\n",
    "    \n",
    "    mse, r2 = [], []\n",
    "    for iteration in results:\n",
    "        mse.append(min([mse[2] for mse in iteration]))\n",
    "        r2.append(max([r2[0] for r2 in iteration]))\n",
    "    \n",
    "    # DO LATER:: modify original plotting function to accept start_interval_range and step_size, 30,30 in this case\n",
    "    num_sel_feat = np.arange(30, X_train.shape[1], 30) \n",
    "\n",
    "    # Plot R2 and MSE \n",
    "    plt.figure(figsize=(10, 4), dpi = 95)\n",
    "    sns.set_theme(style=\"darkgrid\")\n",
    "\n",
    "    sns.lineplot(x = num_sel_feat, y = mse, marker='o', label = 'MSE')\n",
    "    sns.lineplot(x = num_sel_feat, y = r2, marker='o', label = 'R2')\n",
    "    \n",
    "    # Vertical line to indicate best performance\n",
    "    sns.lineplot([num_sel_feat[np.argmax(r2)], num_sel_feat[np.argmax(r2)]], [0, max(mse)], \n",
    "                 color = 'red',linewidth = 4, label = 'Best')\n",
    "    plt.legend()\n",
    "    plt.title('MSE and R2 scores vs number of best features selected')\n",
    "    plt.xlabel('Number of selected features by %s'%fs_name)\n",
    "    plt.ylabel('Metrics')\n",
    "    plt.show()\n",
    "    return mse, r2"
   ]
  },
  {
   "cell_type": "code",
   "execution_count": 57,
   "id": "c0f97941",
   "metadata": {},
   "outputs": [
    {
     "data": {
      "image/png": "[encoded data removed]",
      "text/plain": [
       "<Figure size 950x380 with 1 Axes>"
      ]
     },
     "metadata": {},
     "output_type": "display_data"
    }
   ],
   "source": [
    "# Added\n",
    "\n",
    "mse_sel, r2_sel = plot_regression_metrics_reduced_features(X_train[mc_cols], num_sel_feat_sel, results_sel, \"Relief with SVR on pre-processed data\")\n",
    "\n"
   ]
  },
  {
   "cell_type": "code",
   "execution_count": 77,
   "id": "e0abc157",
   "metadata": {},
   "outputs": [],
   "source": [
    "# Save the model \n",
    "joblib.dump(rnd_models_mrmr[0], 'optimised_svr_mrmr.pkl')\n",
    "joblib.dump(rnd_models_relieff[0], 'optimised_svr_relieff.pkl')\n",
    "joblib.dump(rnd_models_mir[0], 'optimised_svr_mir.pkl')\n",
    "joblib.dump(rnd_models_mc[0], 'clean.pkl')\n",
    "joblib.dump(models_sel[0], 'clean_optimised_svr_relief.pkl')\n",
    "\n",
    "\n",
    "# Loading model\n",
    "opt_svr_mrmr = joblib.load('optimised_svr_mrmr.pkl')\n",
    "opt_svr_relieff = joblib.load('optimised_svr_relieff.pkl')\n",
    "opt_svr_mir = joblib.load('optimised_svr_mir.pkl')\n",
    "clean = joblib.load('clean.pkl')\n",
    "clean_opt_svr_relief = joblib.load('clean_optimised_svr_relief.pkl')"
   ]
  },
  {
   "cell_type": "markdown",
   "id": "bc6f50a8",
   "metadata": {},
   "source": [
    "# Ames mutagenicity \n",
    "Mutagenicity means the ability of a drug to induce genetic alterations. Drugs that can cause damage to the DNA can result in cell death or other severe adverse effects"
   ]
  },
  {
   "cell_type": "code",
   "execution_count": null,
   "id": "a14f8653",
   "metadata": {},
   "outputs": [],
   "source": [
    "data = Tox(name = 'AMES')\n",
    "#DF contains the whole dataset stored in a Pandas dataframe format \n",
    "df = data.get_data()\n",
    "#Get_split divides the dataset into 3 different sets (Train, validation, test)\n",
    "split_AMES = data.get_split()"
   ]
  },
  {
   "cell_type": "code",
   "execution_count": null,
   "id": "53b52877",
   "metadata": {
    "scrolled": true
   },
   "outputs": [],
   "source": [
    "data_overview(df, split_AMES)"
   ]
  },
  {
   "cell_type": "code",
   "execution_count": null,
   "id": "147ba596",
   "metadata": {},
   "outputs": [],
   "source": [
    "# Remove fragments of compounds that may contain them\n",
    "frag_compounds = [comp for comp in df['Drug'] if len(comp.split('.')) > 1]\n",
    "for ind, c in enumerate(frag_compounds):\n",
    "    df.loc[df.Drug == frag_compounds[ind], 'Drug'] = frag_compounds[ind].split('.')[0]\n",
    "\n",
    "print('Number of compounds modified:{}'.format(len(frag_compounds)))"
   ]
  },
  {
   "cell_type": "code",
   "execution_count": null,
   "id": "48f69366",
   "metadata": {},
   "outputs": [],
   "source": [
    "# Duplicates and compounds with less than 5 heavy atoms removal\n",
    "df = remove_ha_duplicates(df)"
   ]
  },
  {
   "cell_type": "code",
   "execution_count": null,
   "id": "9ec2a15d",
   "metadata": {},
   "outputs": [],
   "source": [
    "# Standardize the molecules \n",
    "df['Drug'] = [standardize_smiles(smi) for smi in df['Drug']]\n",
    "\n",
    "# Generate a list of lists where each row corresponds to a molecule and each column to a descriptor (transpose step required)\n",
    "c = [calculator.CalcDescriptors(Chem.MolFromSmiles(smi)) for smi in df['Drug']]\n",
    "\n",
    "# Convert it into a numpy array and transpose it so the columns represent the descriptors\n",
    "c = np.asarray(c).transpose()\n",
    "\n",
    "# Append all the descriptors to the DF\n",
    "for i, descriptor in enumerate(descList):\n",
    "    df[descriptor] = c[i]\n",
    "    \n",
    "#We move the target (Ames) to the end\n",
    "temp = df.pop('Y') # remove column b and store it in df1\n",
    "df['Y'] = temp\n",
    "\n",
    "print('Actual shape of the Dataframe:', df.shape)"
   ]
  },
  {
   "cell_type": "code",
   "execution_count": null,
   "id": "efc903c6",
   "metadata": {},
   "outputs": [],
   "source": [
    "df.head()"
   ]
  },
  {
   "cell_type": "code",
   "execution_count": null,
   "id": "799470f4",
   "metadata": {},
   "outputs": [],
   "source": [
    "# Generate fingerprints dataset and transform into a dataframe\n",
    "fingerprints = generate_fingerprints(df)\n",
    "fps = pd.DataFrame(fingerprints, columns = np.arange(1,1025))"
   ]
  },
  {
   "cell_type": "code",
   "execution_count": null,
   "id": "3cfb3ca6",
   "metadata": {},
   "outputs": [],
   "source": [
    "X_train, X_train_fps, y_train, X_val, X_val_fps, y_val, X_test, X_test_fps, y_test = train_val_test_split(df, split_AMES, fps)"
   ]
  },
  {
   "cell_type": "code",
   "execution_count": null,
   "id": "d1934fa1",
   "metadata": {},
   "outputs": [],
   "source": [
    "X_train, X_train_fps, y_train, X_val, X_val_fps, X_test, y_test = remove_nans(X_train, X_val, X_test, y_train, y_val, y_test, X_train_fps, X_val_fps)"
   ]
  },
  {
   "cell_type": "code",
   "execution_count": null,
   "id": "d2675288",
   "metadata": {},
   "outputs": [],
   "source": [
    "X_train_norm, X_val_norm, X_test_norm = normalize_data(X_train, X_val, X_test)"
   ]
  },
  {
   "cell_type": "markdown",
   "id": "f36190d9",
   "metadata": {},
   "source": [
    "### Check balance of dataset/split"
   ]
  },
  {
   "cell_type": "code",
   "execution_count": null,
   "id": "5ededa5b",
   "metadata": {
    "scrolled": false
   },
   "outputs": [],
   "source": [
    "sns.set_theme(style=\"darkgrid\")\n",
    "\n",
    "fig, axes = plt.subplots(2, 2, figsize=(18, 10))\n",
    "fig.suptitle('Counts of 0s and 1s in each split')\n",
    "\n",
    "sns.countplot(x=\"Y\",ax=axes[0, 0], data = df, label = 'Complete dataset')\n",
    "axes[0, 0].set_title('Full dataset')\n",
    "sns.barplot(ax=axes[0, 1], x= y_train.value_counts().index, y= y_train.value_counts(), label= 'Training')\n",
    "axes[0, 1].set_title('Training')\n",
    "sns.barplot(ax=axes[1, 0], x= y_val.value_counts().index, y= y_val.value_counts(), label = 'Validation')\n",
    "axes[1, 0].set_title('Validation')\n",
    "sns.barplot(ax=axes[1, 1], x= y_val.value_counts().index, y= y_val.value_counts(), label = 'Test')\n",
    "axes[1, 1].set_title('Test')\n",
    "plt.show()"
   ]
  },
  {
   "cell_type": "markdown",
   "id": "615416be",
   "metadata": {},
   "source": [
    "## Building our baseline models"
   ]
  },
  {
   "cell_type": "code",
   "execution_count": null,
   "id": "7c246ff9",
   "metadata": {
    "scrolled": false
   },
   "outputs": [],
   "source": [
    "models, results = models_comparison(X_train, y_train, X_val, y_val, True,True, False, X_train_norm, X_val_norm)"
   ]
  },
  {
   "cell_type": "code",
   "execution_count": null,
   "id": "2fd2fa38",
   "metadata": {
    "scrolled": true
   },
   "outputs": [],
   "source": [
    "models, results, num_sel_feat, features = fs_mrmr(X_train, y_train, X_val, y_val, X_train_norm, X_val_norm, True)"
   ]
  },
  {
   "cell_type": "code",
   "execution_count": null,
   "id": "0b7e8046",
   "metadata": {},
   "outputs": [],
   "source": [
    "mcc, auc = [], []\n",
    "for iteration in results:\n",
    "    mcc.append(min([mcc[0] for mcc in iteration]))\n",
    "    auc.append(max([auc[1] for auc in iteration]))\n",
    "\n",
    "num_sel_feat = np.arange(10, X_train.shape[1], 5)\n",
    "\n",
    "# Plot R2 and MSE \n",
    "plt.figure(figsize=(10, 4), dpi = 95)\n",
    "sns.set_theme(style=\"darkgrid\")\n",
    "\n",
    "sns.lineplot(x = num_sel_feat, y = mcc, marker='o', label = 'MCC')\n",
    "sns.lineplot(x = num_sel_feat, y = auc, marker='o', label = 'AUC')\n",
    "# Vertical line to indicate best performance\n",
    "sns.lineplot([num_sel_feat[np.argmax(mcc)], num_sel_feat[np.argmax(mcc)]], [0, max(auc)], \n",
    "             color = 'red',linewidth = 4, label = 'Best')\n",
    "# Legend, title, and labels\n",
    "plt.legend(loc= 'best')\n",
    "plt.title('MCC and AUC scores vs number of best features selected')\n",
    "plt.xlabel('Number of selected features by MRMR')\n",
    "plt.ylabel('Metrics')\n",
    "plt.show()"
   ]
  },
  {
   "cell_type": "markdown",
   "id": "35237858",
   "metadata": {},
   "source": [
    "Best performance occurs when the number of selected features is **65**. In this case, the model that better performs is **RFC**, with the following metrics: **MCC: 0.648, AUC: 0.824, Accuracy: 0.813, Precision: 0.831, Recall: 0.824**. This means there is a **0.16** improvement in the MCC score while using **143** less features."
   ]
  },
  {
   "cell_type": "code",
   "execution_count": null,
   "id": "d4c3b5a2",
   "metadata": {},
   "outputs": [],
   "source": [
    "# Take selected features by MRMR\n",
    "selected_features_mrmr = features[np.argmax(mcc)]"
   ]
  },
  {
   "cell_type": "code",
   "execution_count": null,
   "id": "6cab2c7f",
   "metadata": {},
   "outputs": [],
   "source": []
  }
 ],
 "metadata": {
  "kernelspec": {
   "display_name": "Python 3 (ipykernel)",
   "language": "python",
   "name": "python3"
  },
  "language_info": {
   "codemirror_mode": {
    "name": "ipython",
    "version": 3
   },
   "file_extension": ".py",
   "mimetype": "text/x-python",
   "name": "python",
   "nbconvert_exporter": "python",
   "pygments_lexer": "ipython3",
   "version": "3.9.6"
  }
 },
 "nbformat": 4,
 "nbformat_minor": 5
}
