{
 "cells": [
  {
   "cell_type": "markdown",
   "id": "816443d7",
   "metadata": {},
   "source": [
    "# Benchmarking feature selection algorithms in the molecular property prediction space\n",
    "\n",
    "*Alejandro Corrochano's contribution to the final project.* "
   ]
  },
  {
   "cell_type": "code",
   "execution_count": 1,
   "id": "7373a1ff",
   "metadata": {},
   "outputs": [],
   "source": [
    "# Datasets\n",
    "from tdc.single_pred import ADME, Tox\n",
    "\n",
    "# Additional functions in a separate ipynb file\n",
    "from ipynb.fs.full.AZ_additional_functions import *\n",
    "\n",
    "# General use \n",
    "import pandas as pd\n",
    "import numpy as np\n",
    "import seaborn as sns\n",
    "import matplotlib.pyplot as plt \n",
    "\n",
    "#import shap\n",
    "import joblib\n",
    "\n",
    "import scipy\n",
    "import sklearn.metrics as metrics\n",
    "from sklearn.preprocessing import StandardScaler\n",
    "from sklearn.model_selection import RandomizedSearchCV\n",
    "\n",
    "# RDkit\n",
    "from rdkit import Chem\n",
    "from rdkit import RDLogger\n",
    "from rdkit import DataStructs\n",
    "from rdkit.Chem import AllChem\n",
    "from rdkit.Chem import Descriptors\n",
    "from rdkit.ML.Descriptors.MoleculeDescriptors import MolecularDescriptorCalculator\n",
    "\n",
    "# Standardizing\n",
    "from molvs import standardize_smiles"
   ]
  },
  {
   "cell_type": "markdown",
   "id": "43bbf59c",
   "metadata": {},
   "source": [
    "## Lipophilicity\n",
    "\n",
    "Lipophilicity measures the ability of a drug to dissolve in a lipid (e.g. fats, oils) environment. High lipophilicity often leads to high rate of metabolism, poor solubility, high turn-over, and low absorption"
   ]
  },
  {
   "cell_type": "code",
   "execution_count": 2,
   "id": "ab9d917b",
   "metadata": {},
   "outputs": [
    {
     "name": "stderr",
     "output_type": "stream",
     "text": [
      "Found local copy...\n",
      "Loading...\n",
      "Done!\n"
     ]
    }
   ],
   "source": [
    "data = ADME(name = 'Lipophilicity_AstraZeneca')\n",
    "#DF contains the whole dataset stored in a Pandas dataframe format \n",
    "df = data.get_data()\n",
    "#Get_split divides the dataset into 3 different sets (Train, validation, test)\n",
    "split_LIPO = data.get_split()"
   ]
  },
  {
   "cell_type": "code",
   "execution_count": 3,
   "id": "37c7e3c9",
   "metadata": {
    "scrolled": false
   },
   "outputs": [
    {
     "name": "stdout",
     "output_type": "stream",
     "text": [
      "Total number of molecules: 4200\n",
      "Train set: 2940 - 70.0%\n",
      "Validation set: 420 - 10.0%\n",
      "Test set: 840 - 20.0%\n"
     ]
    },
    {
     "data": {
      "text/html": [
       "<div>\n",
       "<style scoped>\n",
       "    .dataframe tbody tr th:only-of-type {\n",
       "        vertical-align: middle;\n",
       "    }\n",
       "\n",
       "    .dataframe tbody tr th {\n",
       "        vertical-align: top;\n",
       "    }\n",
       "\n",
       "    .dataframe thead th {\n",
       "        text-align: right;\n",
       "    }\n",
       "</style>\n",
       "<table border=\"1\" class=\"dataframe\">\n",
       "  <thead>\n",
       "    <tr style=\"text-align: right;\">\n",
       "      <th></th>\n",
       "      <th>Drug_ID</th>\n",
       "      <th>Drug</th>\n",
       "      <th>Y</th>\n",
       "    </tr>\n",
       "  </thead>\n",
       "  <tbody>\n",
       "    <tr>\n",
       "      <th>0</th>\n",
       "      <td>CHEMBL596271</td>\n",
       "      <td>Cn1c(CN2CCN(c3ccc(Cl)cc3)CC2)nc2ccccc21</td>\n",
       "      <td>3.54</td>\n",
       "    </tr>\n",
       "    <tr>\n",
       "      <th>1</th>\n",
       "      <td>CHEMBL1951080</td>\n",
       "      <td>COc1cc(OC)c(S(=O)(=O)N2c3ccccc3CCC2C)cc1NC(=O)...</td>\n",
       "      <td>-1.18</td>\n",
       "    </tr>\n",
       "    <tr>\n",
       "      <th>2</th>\n",
       "      <td>CHEMBL1771</td>\n",
       "      <td>COC(=O)[C@H](c1ccccc1Cl)N1CCc2sccc2C1</td>\n",
       "      <td>3.69</td>\n",
       "    </tr>\n",
       "    <tr>\n",
       "      <th>3</th>\n",
       "      <td>CHEMBL317462</td>\n",
       "      <td>OC1(C#Cc2ccc(-c3ccccc3)cc2)CN2CCC1CC2</td>\n",
       "      <td>3.14</td>\n",
       "    </tr>\n",
       "    <tr>\n",
       "      <th>4</th>\n",
       "      <td>CHEMBL1940306</td>\n",
       "      <td>CS(=O)(=O)c1ccc(Oc2ccc(C#C[C@]3(O)CN4CCC3CC4)c...</td>\n",
       "      <td>1.51</td>\n",
       "    </tr>\n",
       "  </tbody>\n",
       "</table>\n",
       "</div>"
      ],
      "text/plain": [
       "         Drug_ID                                               Drug     Y\n",
       "0   CHEMBL596271            Cn1c(CN2CCN(c3ccc(Cl)cc3)CC2)nc2ccccc21  3.54\n",
       "1  CHEMBL1951080  COc1cc(OC)c(S(=O)(=O)N2c3ccccc3CCC2C)cc1NC(=O)... -1.18\n",
       "2     CHEMBL1771              COC(=O)[C@H](c1ccccc1Cl)N1CCc2sccc2C1  3.69\n",
       "3   CHEMBL317462              OC1(C#Cc2ccc(-c3ccccc3)cc2)CN2CCC1CC2  3.14\n",
       "4  CHEMBL1940306  CS(=O)(=O)c1ccc(Oc2ccc(C#C[C@]3(O)CN4CCC3CC4)c...  1.51"
      ]
     },
     "metadata": {},
     "output_type": "display_data"
    }
   ],
   "source": [
    "data_overview(df, split_LIPO)"
   ]
  },
  {
   "cell_type": "code",
   "execution_count": 4,
   "id": "5387e4c6",
   "metadata": {},
   "outputs": [
    {
     "name": "stdout",
     "output_type": "stream",
     "text": [
      "Number of compounds modified: 1\n"
     ]
    }
   ],
   "source": [
    "# Remove fragments of compounds that may contain them\n",
    "frag_compounds = [comp for comp in df['Drug'] if len(comp.split('.')) > 1]\n",
    "for ind, c in enumerate(frag_compounds):\n",
    "    df.loc[df.Drug == frag_compounds[ind], 'Drug'] = frag_compounds[ind].split('.')[0]\n",
    "\n",
    "print('Number of compounds modified: {}'.format(len(frag_compounds)))"
   ]
  },
  {
   "cell_type": "code",
   "execution_count": 5,
   "id": "3966062d",
   "metadata": {},
   "outputs": [
    {
     "name": "stdout",
     "output_type": "stream",
     "text": [
      "Duplicated compounds and with less than 5 heavy atoms have been removed.\n",
      "New number of compounds: 4200 (0)\n"
     ]
    }
   ],
   "source": [
    "# Duplicates and compounds with less than 5 heavy atoms removal\n",
    "df = remove_ha_duplicates(df)"
   ]
  },
  {
   "cell_type": "markdown",
   "id": "d436e8f5",
   "metadata": {},
   "source": [
    "### Descriptors\n",
    "Contain numerical information regarding the molecule "
   ]
  },
  {
   "cell_type": "code",
   "execution_count": 6,
   "id": "4ea8432e",
   "metadata": {},
   "outputs": [
    {
     "name": "stdout",
     "output_type": "stream",
     "text": [
      "Calculator initialized. Total number of descriptors: 208\n"
     ]
    }
   ],
   "source": [
    "descList = [i for i,j in Descriptors.descList]\n",
    "#Molecular descriptor calculator\n",
    "calculator = MolecularDescriptorCalculator(descList)\n",
    "print('Calculator initialized. Total number of descriptors:', len(descList))"
   ]
  },
  {
   "cell_type": "code",
   "execution_count": 7,
   "id": "f42033cf",
   "metadata": {},
   "outputs": [
    {
     "name": "stdout",
     "output_type": "stream",
     "text": [
      "Actual shape of the Dataframe: (4200, 211)\n"
     ]
    }
   ],
   "source": [
    "# Standardize the molecules \n",
    "df['Drug'] = [standardize_smiles(smi) for smi in df['Drug']]\n",
    "\n",
    "# Generate a list of lists where each row corresponds to a molecule and each column to a descriptor (transpose step required)\n",
    "c = [calculator.CalcDescriptors(Chem.MolFromSmiles(smi)) for smi in df['Drug']]\n",
    "\n",
    "# Convert it into a numpy array and transpose it so the columns represent the descriptors\n",
    "c = np.asarray(c).transpose()\n",
    "\n",
    "# Append all the descriptors to the DF\n",
    "for i, descriptor in enumerate(descList):\n",
    "    df[descriptor] = c[i]\n",
    "    \n",
    "#We move the target (lipophilicity value) to the end\n",
    "temp = df.pop('Y') # remove column b and store it in df1\n",
    "df['Y'] = temp\n",
    "\n",
    "print('Actual shape of the Dataframe:', df.shape)"
   ]
  },
  {
   "cell_type": "code",
   "execution_count": 8,
   "id": "6d9e1c9f",
   "metadata": {
    "scrolled": true
   },
   "outputs": [
    {
     "data": {
      "text/html": [
       "<div>\n",
       "<style scoped>\n",
       "    .dataframe tbody tr th:only-of-type {\n",
       "        vertical-align: middle;\n",
       "    }\n",
       "\n",
       "    .dataframe tbody tr th {\n",
       "        vertical-align: top;\n",
       "    }\n",
       "\n",
       "    .dataframe thead th {\n",
       "        text-align: right;\n",
       "    }\n",
       "</style>\n",
       "<table border=\"1\" class=\"dataframe\">\n",
       "  <thead>\n",
       "    <tr style=\"text-align: right;\">\n",
       "      <th></th>\n",
       "      <th>Drug_ID</th>\n",
       "      <th>Drug</th>\n",
       "      <th>MaxEStateIndex</th>\n",
       "      <th>MinEStateIndex</th>\n",
       "      <th>MaxAbsEStateIndex</th>\n",
       "      <th>MinAbsEStateIndex</th>\n",
       "      <th>qed</th>\n",
       "      <th>MolWt</th>\n",
       "      <th>HeavyAtomMolWt</th>\n",
       "      <th>ExactMolWt</th>\n",
       "      <th>...</th>\n",
       "      <th>fr_sulfonamd</th>\n",
       "      <th>fr_sulfone</th>\n",
       "      <th>fr_term_acetylene</th>\n",
       "      <th>fr_tetrazole</th>\n",
       "      <th>fr_thiazole</th>\n",
       "      <th>fr_thiocyan</th>\n",
       "      <th>fr_thiophene</th>\n",
       "      <th>fr_unbrch_alkane</th>\n",
       "      <th>fr_urea</th>\n",
       "      <th>Y</th>\n",
       "    </tr>\n",
       "  </thead>\n",
       "  <tbody>\n",
       "    <tr>\n",
       "      <th>0</th>\n",
       "      <td>CHEMBL596271</td>\n",
       "      <td>Cn1c(CN2CCN(c3ccc(Cl)cc3)CC2)nc2ccccc21</td>\n",
       "      <td>5.976320</td>\n",
       "      <td>0.790958</td>\n",
       "      <td>5.976320</td>\n",
       "      <td>0.790958</td>\n",
       "      <td>0.728444</td>\n",
       "      <td>340.858</td>\n",
       "      <td>319.690</td>\n",
       "      <td>340.145474</td>\n",
       "      <td>...</td>\n",
       "      <td>0.0</td>\n",
       "      <td>0.0</td>\n",
       "      <td>0.0</td>\n",
       "      <td>0.0</td>\n",
       "      <td>0.0</td>\n",
       "      <td>0.0</td>\n",
       "      <td>0.0</td>\n",
       "      <td>0.0</td>\n",
       "      <td>0.0</td>\n",
       "      <td>3.54</td>\n",
       "    </tr>\n",
       "    <tr>\n",
       "      <th>1</th>\n",
       "      <td>CHEMBL1951080</td>\n",
       "      <td>COc1cc(OC)c(S(=O)(=O)N2c3ccccc3CCC2C)cc1NC(=O)...</td>\n",
       "      <td>13.847757</td>\n",
       "      <td>-4.060285</td>\n",
       "      <td>13.847757</td>\n",
       "      <td>0.083663</td>\n",
       "      <td>0.545587</td>\n",
       "      <td>494.591</td>\n",
       "      <td>468.383</td>\n",
       "      <td>494.118143</td>\n",
       "      <td>...</td>\n",
       "      <td>1.0</td>\n",
       "      <td>0.0</td>\n",
       "      <td>0.0</td>\n",
       "      <td>0.0</td>\n",
       "      <td>0.0</td>\n",
       "      <td>0.0</td>\n",
       "      <td>0.0</td>\n",
       "      <td>0.0</td>\n",
       "      <td>0.0</td>\n",
       "      <td>-1.18</td>\n",
       "    </tr>\n",
       "    <tr>\n",
       "      <th>2</th>\n",
       "      <td>CHEMBL1771</td>\n",
       "      <td>COC(=O)[C@H](c1ccccc1Cl)N1CCc2sccc2C1</td>\n",
       "      <td>12.294248</td>\n",
       "      <td>-0.447454</td>\n",
       "      <td>12.294248</td>\n",
       "      <td>0.262241</td>\n",
       "      <td>0.807761</td>\n",
       "      <td>321.829</td>\n",
       "      <td>305.701</td>\n",
       "      <td>321.059027</td>\n",
       "      <td>...</td>\n",
       "      <td>0.0</td>\n",
       "      <td>0.0</td>\n",
       "      <td>0.0</td>\n",
       "      <td>0.0</td>\n",
       "      <td>0.0</td>\n",
       "      <td>0.0</td>\n",
       "      <td>1.0</td>\n",
       "      <td>0.0</td>\n",
       "      <td>0.0</td>\n",
       "      <td>3.69</td>\n",
       "    </tr>\n",
       "    <tr>\n",
       "      <th>3</th>\n",
       "      <td>CHEMBL234951</td>\n",
       "      <td>O=C(NC1Cc2ccccc2N(C[C@@H](O)CO)C1=O)c1cc2cc(Cl...</td>\n",
       "      <td>12.966133</td>\n",
       "      <td>-1.063518</td>\n",
       "      <td>12.966133</td>\n",
       "      <td>0.046181</td>\n",
       "      <td>0.506650</td>\n",
       "      <td>419.890</td>\n",
       "      <td>401.746</td>\n",
       "      <td>419.070655</td>\n",
       "      <td>...</td>\n",
       "      <td>0.0</td>\n",
       "      <td>0.0</td>\n",
       "      <td>0.0</td>\n",
       "      <td>0.0</td>\n",
       "      <td>0.0</td>\n",
       "      <td>0.0</td>\n",
       "      <td>1.0</td>\n",
       "      <td>0.0</td>\n",
       "      <td>0.0</td>\n",
       "      <td>3.37</td>\n",
       "    </tr>\n",
       "    <tr>\n",
       "      <th>4</th>\n",
       "      <td>CHEMBL565079</td>\n",
       "      <td>Cc1cccc(C[C@H](NC(=O)c2cc(C(C)(C)C)nn2C)C(=O)N...</td>\n",
       "      <td>12.834652</td>\n",
       "      <td>-0.795707</td>\n",
       "      <td>12.834652</td>\n",
       "      <td>0.112199</td>\n",
       "      <td>0.747686</td>\n",
       "      <td>381.480</td>\n",
       "      <td>354.264</td>\n",
       "      <td>381.216475</td>\n",
       "      <td>...</td>\n",
       "      <td>0.0</td>\n",
       "      <td>0.0</td>\n",
       "      <td>0.0</td>\n",
       "      <td>0.0</td>\n",
       "      <td>0.0</td>\n",
       "      <td>0.0</td>\n",
       "      <td>0.0</td>\n",
       "      <td>0.0</td>\n",
       "      <td>0.0</td>\n",
       "      <td>3.10</td>\n",
       "    </tr>\n",
       "  </tbody>\n",
       "</table>\n",
       "<p>5 rows × 211 columns</p>\n",
       "</div>"
      ],
      "text/plain": [
       "         Drug_ID                                               Drug  \\\n",
       "0   CHEMBL596271            Cn1c(CN2CCN(c3ccc(Cl)cc3)CC2)nc2ccccc21   \n",
       "1  CHEMBL1951080  COc1cc(OC)c(S(=O)(=O)N2c3ccccc3CCC2C)cc1NC(=O)...   \n",
       "2     CHEMBL1771              COC(=O)[C@H](c1ccccc1Cl)N1CCc2sccc2C1   \n",
       "3   CHEMBL234951  O=C(NC1Cc2ccccc2N(C[C@@H](O)CO)C1=O)c1cc2cc(Cl...   \n",
       "4   CHEMBL565079  Cc1cccc(C[C@H](NC(=O)c2cc(C(C)(C)C)nn2C)C(=O)N...   \n",
       "\n",
       "   MaxEStateIndex  MinEStateIndex  MaxAbsEStateIndex  MinAbsEStateIndex  \\\n",
       "0        5.976320        0.790958           5.976320           0.790958   \n",
       "1       13.847757       -4.060285          13.847757           0.083663   \n",
       "2       12.294248       -0.447454          12.294248           0.262241   \n",
       "3       12.966133       -1.063518          12.966133           0.046181   \n",
       "4       12.834652       -0.795707          12.834652           0.112199   \n",
       "\n",
       "        qed    MolWt  HeavyAtomMolWt  ExactMolWt  ...  fr_sulfonamd  \\\n",
       "0  0.728444  340.858         319.690  340.145474  ...           0.0   \n",
       "1  0.545587  494.591         468.383  494.118143  ...           1.0   \n",
       "2  0.807761  321.829         305.701  321.059027  ...           0.0   \n",
       "3  0.506650  419.890         401.746  419.070655  ...           0.0   \n",
       "4  0.747686  381.480         354.264  381.216475  ...           0.0   \n",
       "\n",
       "   fr_sulfone  fr_term_acetylene  fr_tetrazole  fr_thiazole  fr_thiocyan  \\\n",
       "0         0.0                0.0           0.0          0.0          0.0   \n",
       "1         0.0                0.0           0.0          0.0          0.0   \n",
       "2         0.0                0.0           0.0          0.0          0.0   \n",
       "3         0.0                0.0           0.0          0.0          0.0   \n",
       "4         0.0                0.0           0.0          0.0          0.0   \n",
       "\n",
       "   fr_thiophene  fr_unbrch_alkane  fr_urea     Y  \n",
       "0           0.0               0.0      0.0  3.54  \n",
       "1           0.0               0.0      0.0 -1.18  \n",
       "2           1.0               0.0      0.0  3.69  \n",
       "3           1.0               0.0      0.0  3.37  \n",
       "4           0.0               0.0      0.0  3.10  \n",
       "\n",
       "[5 rows x 211 columns]"
      ]
     },
     "execution_count": 8,
     "metadata": {},
     "output_type": "execute_result"
    }
   ],
   "source": [
    "df.head()"
   ]
  },
  {
   "cell_type": "markdown",
   "id": "87a87083",
   "metadata": {},
   "source": [
    "### Generate splits, remove NaNs, and normalization\n"
   ]
  },
  {
   "cell_type": "markdown",
   "id": "10c38ba8",
   "metadata": {},
   "source": [
    "#### Train, validation, and test sets for both Descriptors and fingerprints"
   ]
  },
  {
   "cell_type": "code",
   "execution_count": 9,
   "id": "678450cf",
   "metadata": {
    "scrolled": true
   },
   "outputs": [
    {
     "name": "stdout",
     "output_type": "stream",
     "text": [
      "Data has been split\n"
     ]
    }
   ],
   "source": [
    "X_train, y_train, X_val, y_val, X_test, y_test = train_val_test_split(df, split_LIPO)"
   ]
  },
  {
   "cell_type": "markdown",
   "id": "73e1ff83",
   "metadata": {},
   "source": [
    "#### Remove NaNs values"
   ]
  },
  {
   "cell_type": "code",
   "execution_count": 10,
   "id": "353e7965",
   "metadata": {},
   "outputs": [
    {
     "name": "stdout",
     "output_type": "stream",
     "text": [
      "Removed the following rows in the train set: Int64Index([1561], dtype='int64')\n"
     ]
    }
   ],
   "source": [
    "X_train, y_train, X_val, y_val, X_test, y_test = remove_nans(X_train, X_val, X_test, y_train, y_val, y_test)"
   ]
  },
  {
   "cell_type": "markdown",
   "id": "be40fe2c",
   "metadata": {},
   "source": [
    "#### Data normalization required in linear models"
   ]
  },
  {
   "cell_type": "code",
   "execution_count": 11,
   "id": "5c6a0c5d",
   "metadata": {},
   "outputs": [
    {
     "name": "stdout",
     "output_type": "stream",
     "text": [
      "Data is now normalized.\n"
     ]
    }
   ],
   "source": [
    "X_train_norm, X_val_norm, X_test_norm = normalize_data(X_train, X_val, X_test)"
   ]
  },
  {
   "cell_type": "markdown",
   "id": "36118f81",
   "metadata": {},
   "source": [
    "## Building our baseline models\n",
    "\n",
    "In order to get some initial results, we will now construct a few baseline models where all the features are included without any preprocessing."
   ]
  },
  {
   "cell_type": "markdown",
   "id": "b2ffd7fc",
   "metadata": {},
   "source": [
    "We now compare the metrics obtained for each of the following models:\n",
    "- Linear regression (**LR**)\n",
    "- Random forest regressor (**RFR**)\n",
    "- Decision tree regressor (**DTR**)\n",
    "- Support vector machine (**SVM**)\n",
    "- Multi-layer Perceptron regressor (**MLP**)\n",
    "- XG Boost regressor (**XGB**)"
   ]
  },
  {
   "cell_type": "markdown",
   "id": "60cdad20",
   "metadata": {},
   "source": [
    "#### Descriptors"
   ]
  },
  {
   "cell_type": "code",
   "execution_count": 12,
   "id": "15716834",
   "metadata": {
    "scrolled": false
   },
   "outputs": [
    {
     "name": "stdout",
     "output_type": "stream",
     "text": [
      "LR | R2: 0.599, MAE: 0.594, MSE: 0.597 | Training time: 0.4\n",
      "RFR | R2: 0.645, MAE: 0.547, MSE: 0.529 | Training time: 18.9\n",
      "DTR | R2: 0.262, MAE: 0.776, MSE: 1.099 | Training time: 0.3\n",
      "SVR | R2: 0.689, MAE: 0.503, MSE: 0.463 | Training time: 1.1\n",
      "MLPR | R2: 0.652, MAE: 0.514, MSE: 0.517 | Training time: 4.0\n",
      "XGBR | R2: 0.643, MAE: 0.545, MSE: 0.531 | Training time: 2.0\n"
     ]
    },
    {
     "data": {
      "image/png": "[encoded data removed]",
      "text/plain": [
       "<Figure size 1425x570 with 1 Axes>"
      ]
     },
     "metadata": {},
     "output_type": "display_data"
    }
   ],
   "source": [
    "models, results = models_comparison(X_train, y_train, X_val, y_val, False, True, False, X_train_norm, X_val_norm)"
   ]
  },
  {
   "cell_type": "markdown",
   "id": "c5d4fea4",
   "metadata": {},
   "source": [
    "## 1 - Improving the model: Feature Selection - MRMR\n",
    "\n",
    "Short description about mrmr "
   ]
  },
  {
   "cell_type": "code",
   "execution_count": 13,
   "id": "42538b13",
   "metadata": {
    "scrolled": true
   },
   "outputs": [
    {
     "name": "stderr",
     "output_type": "stream",
     "text": [
      "100%|██████████████████████████████████████████████████████████████████████████████████| 10/10 [00:00<00:00, 14.94it/s]\n"
     ]
    },
    {
     "name": "stdout",
     "output_type": "stream",
     "text": [
      "LR | R2: -0.006, MAE: 0.997, MSE: 1.497 | Training time: 0.0\n",
      "RFR | R2: -0.055, MAE: 0.956, MSE: 1.571 | Training time: 0.5\n",
      "DTR | R2: -0.387, MAE: 1.077, MSE: 2.064 | Training time: 0.0\n",
      "SVR | R2: -0.035, MAE: 0.994, MSE: 1.541 | Training time: 0.3\n",
      "MLPR | R2: -0.006, MAE: 0.994, MSE: 1.497 | Training time: 0.7\n",
      "XGBR | R2: 0.105, MAE: 0.916, MSE: 1.333 | Training time: 0.3\n"
     ]
    },
    {
     "name": "stderr",
     "output_type": "stream",
     "text": [
      "100%|██████████████████████████████████████████████████████████████████████████████████| 15/15 [00:00<00:00, 17.12it/s]\n"
     ]
    },
    {
     "name": "stdout",
     "output_type": "stream",
     "text": [
      "LR | R2: -0.005, MAE: 0.996, MSE: 1.496 | Training time: 0.0\n",
      "RFR | R2: -0.049, MAE: 0.952, MSE: 1.562 | Training time: 0.6\n",
      "DTR | R2: -0.393, MAE: 1.081, MSE: 2.073 | Training time: 0.0\n",
      "SVR | R2: -0.032, MAE: 0.991, MSE: 1.536 | Training time: 0.4\n",
      "MLPR | R2: -0.009, MAE: 0.999, MSE: 1.502 | Training time: 0.4\n",
      "XGBR | R2: 0.080, MAE: 0.931, MSE: 1.370 | Training time: 0.3\n"
     ]
    },
    {
     "name": "stderr",
     "output_type": "stream",
     "text": [
      "100%|██████████████████████████████████████████████████████████████████████████████████| 20/20 [00:01<00:00, 16.35it/s]\n"
     ]
    },
    {
     "name": "stdout",
     "output_type": "stream",
     "text": [
      "LR | R2: 0.114, MAE: 0.937, MSE: 1.319 | Training time: 0.0\n",
      "RFR | R2: 0.119, MAE: 0.867, MSE: 1.312 | Training time: 0.6\n",
      "DTR | R2: -0.184, MAE: 0.994, MSE: 1.762 | Training time: 0.0\n",
      "SVR | R2: 0.090, MAE: 0.930, MSE: 1.355 | Training time: 0.4\n",
      "MLPR | R2: 0.086, MAE: 0.946, MSE: 1.360 | Training time: 1.1\n",
      "XGBR | R2: 0.223, MAE: 0.844, MSE: 1.157 | Training time: 0.3\n"
     ]
    },
    {
     "name": "stderr",
     "output_type": "stream",
     "text": [
      "100%|██████████████████████████████████████████████████████████████████████████████████| 25/25 [00:01<00:00, 16.39it/s]\n"
     ]
    },
    {
     "name": "stdout",
     "output_type": "stream",
     "text": [
      "LR | R2: 0.120, MAE: 0.931, MSE: 1.310 | Training time: 0.0\n",
      "RFR | R2: 0.133, MAE: 0.862, MSE: 1.291 | Training time: 0.8\n",
      "DTR | R2: -0.222, MAE: 0.995, MSE: 1.819 | Training time: 0.0\n",
      "SVR | R2: 0.090, MAE: 0.929, MSE: 1.355 | Training time: 0.5\n",
      "MLPR | R2: 0.104, MAE: 0.941, MSE: 1.333 | Training time: 1.3\n",
      "XGBR | R2: 0.246, MAE: 0.833, MSE: 1.123 | Training time: 0.3\n"
     ]
    },
    {
     "name": "stderr",
     "output_type": "stream",
     "text": [
      "100%|██████████████████████████████████████████████████████████████████████████████████| 30/30 [00:02<00:00, 14.84it/s]\n"
     ]
    },
    {
     "name": "stdout",
     "output_type": "stream",
     "text": [
      "LR | R2: 0.359, MAE: 0.790, MSE: 0.955 | Training time: 0.0\n",
      "RFR | R2: 0.403, MAE: 0.723, MSE: 0.888 | Training time: 1.1\n",
      "DTR | R2: 0.030, MAE: 0.881, MSE: 1.444 | Training time: 0.0\n",
      "SVR | R2: 0.362, MAE: 0.765, MSE: 0.950 | Training time: 0.6\n",
      "MLPR | R2: 0.386, MAE: 0.754, MSE: 0.914 | Training time: 2.9\n",
      "XGBR | R2: 0.422, MAE: 0.727, MSE: 0.860 | Training time: 0.4\n"
     ]
    },
    {
     "name": "stderr",
     "output_type": "stream",
     "text": [
      "100%|██████████████████████████████████████████████████████████████████████████████████| 35/35 [00:02<00:00, 16.58it/s]\n"
     ]
    },
    {
     "name": "stdout",
     "output_type": "stream",
     "text": [
      "LR | R2: 0.384, MAE: 0.767, MSE: 0.917 | Training time: 0.0\n",
      "RFR | R2: 0.466, MAE: 0.688, MSE: 0.795 | Training time: 1.1\n",
      "DTR | R2: 0.132, MAE: 0.824, MSE: 1.292 | Training time: 0.0\n",
      "SVR | R2: 0.381, MAE: 0.741, MSE: 0.922 | Training time: 0.5\n",
      "MLPR | R2: 0.400, MAE: 0.731, MSE: 0.892 | Training time: 2.6\n",
      "XGBR | R2: 0.446, MAE: 0.716, MSE: 0.825 | Training time: 0.4\n"
     ]
    },
    {
     "name": "stderr",
     "output_type": "stream",
     "text": [
      "100%|██████████████████████████████████████████████████████████████████████████████████| 40/40 [00:02<00:00, 17.03it/s]\n"
     ]
    },
    {
     "name": "stdout",
     "output_type": "stream",
     "text": [
      "LR | R2: 0.389, MAE: 0.767, MSE: 0.910 | Training time: 0.0\n",
      "RFR | R2: 0.474, MAE: 0.687, MSE: 0.783 | Training time: 1.2\n",
      "DTR | R2: 0.089, MAE: 0.863, MSE: 1.357 | Training time: 0.0\n",
      "SVR | R2: 0.403, MAE: 0.731, MSE: 0.889 | Training time: 0.5\n",
      "MLPR | R2: 0.401, MAE: 0.729, MSE: 0.891 | Training time: 4.2\n",
      "XGBR | R2: 0.489, MAE: 0.679, MSE: 0.761 | Training time: 0.4\n"
     ]
    },
    {
     "name": "stderr",
     "output_type": "stream",
     "text": [
      "100%|██████████████████████████████████████████████████████████████████████████████████| 45/45 [00:02<00:00, 17.40it/s]\n"
     ]
    },
    {
     "name": "stdout",
     "output_type": "stream",
     "text": [
      "LR | R2: 0.399, MAE: 0.759, MSE: 0.895 | Training time: 0.0\n",
      "RFR | R2: 0.485, MAE: 0.673, MSE: 0.767 | Training time: 1.4\n",
      "DTR | R2: 0.158, MAE: 0.831, MSE: 1.254 | Training time: 0.0\n",
      "SVR | R2: 0.421, MAE: 0.715, MSE: 0.862 | Training time: 0.6\n",
      "MLPR | R2: 0.444, MAE: 0.705, MSE: 0.828 | Training time: 2.1\n",
      "XGBR | R2: 0.472, MAE: 0.691, MSE: 0.786 | Training time: 0.4\n"
     ]
    },
    {
     "name": "stderr",
     "output_type": "stream",
     "text": [
      "100%|██████████████████████████████████████████████████████████████████████████████████| 50/50 [00:02<00:00, 17.23it/s]\n"
     ]
    },
    {
     "name": "stdout",
     "output_type": "stream",
     "text": [
      "LR | R2: 0.408, MAE: 0.754, MSE: 0.881 | Training time: 0.0\n",
      "RFR | R2: 0.468, MAE: 0.678, MSE: 0.792 | Training time: 1.6\n",
      "DTR | R2: 0.046, MAE: 0.882, MSE: 1.420 | Training time: 0.0\n",
      "SVR | R2: 0.440, MAE: 0.697, MSE: 0.834 | Training time: 0.5\n",
      "MLPR | R2: 0.402, MAE: 0.711, MSE: 0.890 | Training time: 5.5\n",
      "XGBR | R2: 0.492, MAE: 0.674, MSE: 0.756 | Training time: 0.4\n"
     ]
    },
    {
     "name": "stderr",
     "output_type": "stream",
     "text": [
      "100%|██████████████████████████████████████████████████████████████████████████████████| 55/55 [00:03<00:00, 17.97it/s]\n"
     ]
    },
    {
     "name": "stdout",
     "output_type": "stream",
     "text": [
      "LR | R2: 0.410, MAE: 0.747, MSE: 0.879 | Training time: 0.0\n",
      "RFR | R2: 0.522, MAE: 0.646, MSE: 0.712 | Training time: 1.8\n",
      "DTR | R2: 0.081, MAE: 0.875, MSE: 1.368 | Training time: 0.0\n",
      "SVR | R2: 0.456, MAE: 0.672, MSE: 0.810 | Training time: 0.6\n",
      "MLPR | R2: 0.372, MAE: 0.701, MSE: 0.935 | Training time: 4.0\n",
      "XGBR | R2: 0.520, MAE: 0.653, MSE: 0.715 | Training time: 0.4\n"
     ]
    },
    {
     "name": "stderr",
     "output_type": "stream",
     "text": [
      "100%|██████████████████████████████████████████████████████████████████████████████████| 60/60 [00:03<00:00, 18.39it/s]\n"
     ]
    },
    {
     "name": "stdout",
     "output_type": "stream",
     "text": [
      "LR | R2: 0.429, MAE: 0.732, MSE: 0.850 | Training time: 0.0\n",
      "RFR | R2: 0.552, MAE: 0.624, MSE: 0.667 | Training time: 2.2\n",
      "DTR | R2: 0.105, MAE: 0.854, MSE: 1.331 | Training time: 0.0\n",
      "SVR | R2: 0.490, MAE: 0.645, MSE: 0.760 | Training time: 0.6\n",
      "MLPR | R2: 0.398, MAE: 0.698, MSE: 0.896 | Training time: 7.0\n",
      "XGBR | R2: 0.579, MAE: 0.602, MSE: 0.626 | Training time: 0.4\n"
     ]
    },
    {
     "name": "stderr",
     "output_type": "stream",
     "text": [
      "100%|██████████████████████████████████████████████████████████████████████████████████| 65/65 [00:03<00:00, 18.57it/s]\n"
     ]
    },
    {
     "name": "stdout",
     "output_type": "stream",
     "text": [
      "LR | R2: 0.444, MAE: 0.724, MSE: 0.828 | Training time: 0.0\n",
      "RFR | R2: 0.560, MAE: 0.618, MSE: 0.655 | Training time: 2.3\n",
      "DTR | R2: 0.223, MAE: 0.787, MSE: 1.156 | Training time: 0.0\n",
      "SVR | R2: 0.509, MAE: 0.633, MSE: 0.731 | Training time: 0.5\n",
      "MLPR | R2: 0.438, MAE: 0.675, MSE: 0.837 | Training time: 5.7\n",
      "XGBR | R2: 0.596, MAE: 0.592, MSE: 0.601 | Training time: 0.4\n"
     ]
    },
    {
     "name": "stderr",
     "output_type": "stream",
     "text": [
      "100%|██████████████████████████████████████████████████████████████████████████████████| 70/70 [00:04<00:00, 16.90it/s]\n"
     ]
    },
    {
     "name": "stdout",
     "output_type": "stream",
     "text": [
      "LR | R2: 0.472, MAE: 0.703, MSE: 0.786 | Training time: 0.0\n",
      "RFR | R2: 0.574, MAE: 0.608, MSE: 0.634 | Training time: 2.9\n",
      "DTR | R2: 0.248, MAE: 0.781, MSE: 1.119 | Training time: 0.0\n",
      "SVR | R2: 0.566, MAE: 0.600, MSE: 0.647 | Training time: 0.6\n",
      "MLPR | R2: 0.463, MAE: 0.642, MSE: 0.800 | Training time: 6.1\n",
      "XGBR | R2: 0.610, MAE: 0.573, MSE: 0.581 | Training time: 0.5\n"
     ]
    },
    {
     "name": "stderr",
     "output_type": "stream",
     "text": [
      "100%|██████████████████████████████████████████████████████████████████████████████████| 75/75 [00:04<00:00, 18.04it/s]\n"
     ]
    },
    {
     "name": "stdout",
     "output_type": "stream",
     "text": [
      "LR | R2: 0.481, MAE: 0.691, MSE: 0.773 | Training time: 0.0\n",
      "RFR | R2: 0.600, MAE: 0.585, MSE: 0.596 | Training time: 3.3\n",
      "DTR | R2: 0.192, MAE: 0.812, MSE: 1.203 | Training time: 0.1\n",
      "SVR | R2: 0.585, MAE: 0.584, MSE: 0.618 | Training time: 0.6\n",
      "MLPR | R2: 0.580, MAE: 0.567, MSE: 0.625 | Training time: 4.1\n",
      "XGBR | R2: 0.635, MAE: 0.554, MSE: 0.543 | Training time: 0.6\n"
     ]
    },
    {
     "name": "stderr",
     "output_type": "stream",
     "text": [
      "100%|██████████████████████████████████████████████████████████████████████████████████| 80/80 [00:04<00:00, 18.19it/s]\n"
     ]
    },
    {
     "name": "stdout",
     "output_type": "stream",
     "text": [
      "LR | R2: 0.488, MAE: 0.689, MSE: 0.761 | Training time: 0.0\n",
      "RFR | R2: 0.613, MAE: 0.578, MSE: 0.576 | Training time: 3.6\n",
      "DTR | R2: 0.264, MAE: 0.789, MSE: 1.095 | Training time: 0.1\n",
      "SVR | R2: 0.595, MAE: 0.578, MSE: 0.603 | Training time: 0.6\n",
      "MLPR | R2: 0.537, MAE: 0.601, MSE: 0.690 | Training time: 3.6\n",
      "XGBR | R2: 0.653, MAE: 0.544, MSE: 0.516 | Training time: 0.6\n"
     ]
    },
    {
     "name": "stderr",
     "output_type": "stream",
     "text": [
      "100%|██████████████████████████████████████████████████████████████████████████████████| 85/85 [00:04<00:00, 18.15it/s]\n"
     ]
    },
    {
     "name": "stdout",
     "output_type": "stream",
     "text": [
      "LR | R2: 0.498, MAE: 0.682, MSE: 0.748 | Training time: 0.0\n",
      "RFR | R2: 0.615, MAE: 0.580, MSE: 0.573 | Training time: 4.4\n",
      "DTR | R2: 0.176, MAE: 0.814, MSE: 1.226 | Training time: 0.1\n",
      "SVR | R2: 0.611, MAE: 0.568, MSE: 0.579 | Training time: 0.8\n",
      "MLPR | R2: 0.555, MAE: 0.589, MSE: 0.662 | Training time: 5.1\n",
      "XGBR | R2: 0.642, MAE: 0.547, MSE: 0.534 | Training time: 0.6\n"
     ]
    },
    {
     "name": "stderr",
     "output_type": "stream",
     "text": [
      "100%|██████████████████████████████████████████████████████████████████████████████████| 90/90 [00:04<00:00, 18.96it/s]\n"
     ]
    },
    {
     "name": "stdout",
     "output_type": "stream",
     "text": [
      "LR | R2: 0.512, MAE: 0.673, MSE: 0.727 | Training time: 0.0\n",
      "RFR | R2: 0.612, MAE: 0.577, MSE: 0.578 | Training time: 4.3\n",
      "DTR | R2: 0.311, MAE: 0.747, MSE: 1.026 | Training time: 0.1\n",
      "SVR | R2: 0.630, MAE: 0.555, MSE: 0.551 | Training time: 0.7\n",
      "MLPR | R2: 0.566, MAE: 0.591, MSE: 0.646 | Training time: 3.5\n",
      "XGBR | R2: 0.643, MAE: 0.549, MSE: 0.531 | Training time: 0.6\n"
     ]
    },
    {
     "name": "stderr",
     "output_type": "stream",
     "text": [
      "100%|██████████████████████████████████████████████████████████████████████████████████| 95/95 [00:05<00:00, 17.42it/s]\n"
     ]
    },
    {
     "name": "stdout",
     "output_type": "stream",
     "text": [
      "LR | R2: 0.523, MAE: 0.662, MSE: 0.709 | Training time: 0.0\n",
      "RFR | R2: 0.623, MAE: 0.565, MSE: 0.561 | Training time: 5.4\n",
      "DTR | R2: 0.290, MAE: 0.776, MSE: 1.057 | Training time: 0.1\n",
      "SVR | R2: 0.639, MAE: 0.545, MSE: 0.537 | Training time: 0.7\n",
      "MLPR | R2: 0.624, MAE: 0.554, MSE: 0.559 | Training time: 4.6\n",
      "XGBR | R2: 0.640, MAE: 0.544, MSE: 0.536 | Training time: 0.7\n"
     ]
    },
    {
     "name": "stderr",
     "output_type": "stream",
     "text": [
      "100%|████████████████████████████████████████████████████████████████████████████████| 100/100 [00:06<00:00, 16.07it/s]\n"
     ]
    },
    {
     "name": "stdout",
     "output_type": "stream",
     "text": [
      "LR | R2: 0.543, MAE: 0.641, MSE: 0.680 | Training time: 0.0\n",
      "RFR | R2: 0.634, MAE: 0.554, MSE: 0.545 | Training time: 5.8\n",
      "DTR | R2: 0.294, MAE: 0.754, MSE: 1.051 | Training time: 0.1\n",
      "SVR | R2: 0.655, MAE: 0.529, MSE: 0.514 | Training time: 0.7\n",
      "MLPR | R2: 0.624, MAE: 0.539, MSE: 0.559 | Training time: 5.0\n",
      "XGBR | R2: 0.656, MAE: 0.520, MSE: 0.513 | Training time: 0.9\n"
     ]
    },
    {
     "name": "stderr",
     "output_type": "stream",
     "text": [
      "100%|████████████████████████████████████████████████████████████████████████████████| 105/105 [00:05<00:00, 19.70it/s]\n"
     ]
    },
    {
     "name": "stdout",
     "output_type": "stream",
     "text": [
      "LR | R2: 0.564, MAE: 0.629, MSE: 0.649 | Training time: 0.0\n",
      "RFR | R2: 0.629, MAE: 0.555, MSE: 0.553 | Training time: 6.1\n",
      "DTR | R2: 0.311, MAE: 0.753, MSE: 1.026 | Training time: 0.2\n",
      "SVR | R2: 0.663, MAE: 0.524, MSE: 0.501 | Training time: 0.8\n",
      "MLPR | R2: 0.619, MAE: 0.533, MSE: 0.567 | Training time: 3.7\n",
      "XGBR | R2: 0.667, MAE: 0.521, MSE: 0.496 | Training time: 0.9\n"
     ]
    },
    {
     "name": "stderr",
     "output_type": "stream",
     "text": [
      "100%|████████████████████████████████████████████████████████████████████████████████| 110/110 [00:06<00:00, 16.91it/s]\n"
     ]
    },
    {
     "name": "stdout",
     "output_type": "stream",
     "text": [
      "LR | R2: 0.566, MAE: 0.625, MSE: 0.646 | Training time: 0.0\n",
      "RFR | R2: 0.633, MAE: 0.551, MSE: 0.546 | Training time: 6.9\n",
      "DTR | R2: 0.180, MAE: 0.827, MSE: 1.221 | Training time: 0.1\n",
      "SVR | R2: 0.666, MAE: 0.521, MSE: 0.497 | Training time: 0.7\n",
      "MLPR | R2: 0.612, MAE: 0.535, MSE: 0.578 | Training time: 5.0\n",
      "XGBR | R2: 0.635, MAE: 0.542, MSE: 0.543 | Training time: 0.8\n"
     ]
    },
    {
     "name": "stderr",
     "output_type": "stream",
     "text": [
      "100%|████████████████████████████████████████████████████████████████████████████████| 115/115 [00:05<00:00, 20.67it/s]\n"
     ]
    },
    {
     "name": "stdout",
     "output_type": "stream",
     "text": [
      "LR | R2: 0.571, MAE: 0.620, MSE: 0.639 | Training time: 0.0\n",
      "RFR | R2: 0.636, MAE: 0.551, MSE: 0.542 | Training time: 7.1\n",
      "DTR | R2: 0.236, MAE: 0.791, MSE: 1.137 | Training time: 0.1\n",
      "SVR | R2: 0.672, MAE: 0.518, MSE: 0.488 | Training time: 0.6\n",
      "MLPR | R2: 0.547, MAE: 0.585, MSE: 0.674 | Training time: 3.0\n",
      "XGBR | R2: 0.692, MAE: 0.501, MSE: 0.458 | Training time: 0.8\n"
     ]
    },
    {
     "name": "stderr",
     "output_type": "stream",
     "text": [
      "100%|████████████████████████████████████████████████████████████████████████████████| 120/120 [00:05<00:00, 20.76it/s]\n"
     ]
    },
    {
     "name": "stdout",
     "output_type": "stream",
     "text": [
      "LR | R2: 0.566, MAE: 0.625, MSE: 0.646 | Training time: 0.0\n",
      "RFR | R2: 0.633, MAE: 0.550, MSE: 0.546 | Training time: 7.8\n",
      "DTR | R2: 0.222, MAE: 0.783, MSE: 1.157 | Training time: 0.1\n",
      "SVR | R2: 0.673, MAE: 0.517, MSE: 0.486 | Training time: 0.7\n",
      "MLPR | R2: 0.624, MAE: 0.538, MSE: 0.560 | Training time: 3.8\n",
      "XGBR | R2: 0.654, MAE: 0.534, MSE: 0.515 | Training time: 0.8\n"
     ]
    },
    {
     "name": "stderr",
     "output_type": "stream",
     "text": [
      "100%|████████████████████████████████████████████████████████████████████████████████| 125/125 [00:05<00:00, 21.06it/s]\n"
     ]
    },
    {
     "name": "stdout",
     "output_type": "stream",
     "text": [
      "LR | R2: 0.562, MAE: 0.628, MSE: 0.652 | Training time: 0.1\n",
      "RFR | R2: 0.637, MAE: 0.554, MSE: 0.541 | Training time: 8.4\n",
      "DTR | R2: 0.195, MAE: 0.809, MSE: 1.198 | Training time: 0.1\n",
      "SVR | R2: 0.670, MAE: 0.522, MSE: 0.492 | Training time: 0.8\n",
      "MLPR | R2: 0.614, MAE: 0.544, MSE: 0.574 | Training time: 4.4\n",
      "XGBR | R2: 0.659, MAE: 0.536, MSE: 0.508 | Training time: 0.9\n"
     ]
    },
    {
     "name": "stderr",
     "output_type": "stream",
     "text": [
      "100%|████████████████████████████████████████████████████████████████████████████████| 130/130 [00:06<00:00, 21.01it/s]\n"
     ]
    },
    {
     "name": "stdout",
     "output_type": "stream",
     "text": [
      "LR | R2: 0.570, MAE: 0.622, MSE: 0.641 | Training time: 0.0\n",
      "RFR | R2: 0.630, MAE: 0.557, MSE: 0.550 | Training time: 9.0\n",
      "DTR | R2: 0.240, MAE: 0.780, MSE: 1.131 | Training time: 0.1\n",
      "SVR | R2: 0.670, MAE: 0.522, MSE: 0.491 | Training time: 0.7\n",
      "MLPR | R2: 0.642, MAE: 0.538, MSE: 0.533 | Training time: 4.1\n",
      "XGBR | R2: 0.665, MAE: 0.526, MSE: 0.498 | Training time: 0.9\n"
     ]
    },
    {
     "name": "stderr",
     "output_type": "stream",
     "text": [
      "100%|████████████████████████████████████████████████████████████████████████████████| 135/135 [00:06<00:00, 21.54it/s]\n"
     ]
    },
    {
     "name": "stdout",
     "output_type": "stream",
     "text": [
      "LR | R2: 0.572, MAE: 0.613, MSE: 0.637 | Training time: 0.1\n",
      "RFR | R2: 0.643, MAE: 0.550, MSE: 0.532 | Training time: 9.5\n",
      "DTR | R2: 0.217, MAE: 0.788, MSE: 1.166 | Training time: 0.2\n",
      "SVR | R2: 0.678, MAE: 0.515, MSE: 0.480 | Training time: 0.7\n",
      "MLPR | R2: 0.654, MAE: 0.519, MSE: 0.514 | Training time: 4.3\n",
      "XGBR | R2: 0.670, MAE: 0.534, MSE: 0.491 | Training time: 0.9\n"
     ]
    },
    {
     "name": "stderr",
     "output_type": "stream",
     "text": [
      "100%|████████████████████████████████████████████████████████████████████████████████| 140/140 [00:06<00:00, 21.65it/s]\n"
     ]
    },
    {
     "name": "stdout",
     "output_type": "stream",
     "text": [
      "LR | R2: 0.583, MAE: 0.608, MSE: 0.620 | Training time: 0.1\n",
      "RFR | R2: 0.645, MAE: 0.548, MSE: 0.529 | Training time: 9.9\n",
      "DTR | R2: 0.227, MAE: 0.798, MSE: 1.151 | Training time: 0.2\n",
      "SVR | R2: 0.680, MAE: 0.511, MSE: 0.476 | Training time: 0.8\n",
      "MLPR | R2: 0.600, MAE: 0.554, MSE: 0.596 | Training time: 3.6\n",
      "XGBR | R2: 0.667, MAE: 0.518, MSE: 0.496 | Training time: 1.0\n"
     ]
    },
    {
     "name": "stderr",
     "output_type": "stream",
     "text": [
      "100%|████████████████████████████████████████████████████████████████████████████████| 145/145 [00:06<00:00, 22.19it/s]\n"
     ]
    },
    {
     "name": "stdout",
     "output_type": "stream",
     "text": [
      "LR | R2: 0.579, MAE: 0.611, MSE: 0.627 | Training time: 0.1\n",
      "RFR | R2: 0.639, MAE: 0.553, MSE: 0.537 | Training time: 10.5\n",
      "DTR | R2: 0.177, MAE: 0.810, MSE: 1.225 | Training time: 0.2\n",
      "SVR | R2: 0.681, MAE: 0.510, MSE: 0.475 | Training time: 0.7\n",
      "MLPR | R2: 0.641, MAE: 0.536, MSE: 0.534 | Training time: 3.9\n",
      "XGBR | R2: 0.667, MAE: 0.517, MSE: 0.496 | Training time: 1.0\n"
     ]
    },
    {
     "name": "stderr",
     "output_type": "stream",
     "text": [
      "100%|████████████████████████████████████████████████████████████████████████████████| 150/150 [00:07<00:00, 20.57it/s]\n"
     ]
    },
    {
     "name": "stdout",
     "output_type": "stream",
     "text": [
      "LR | R2: 0.590, MAE: 0.604, MSE: 0.610 | Training time: 0.1\n",
      "RFR | R2: 0.638, MAE: 0.554, MSE: 0.538 | Training time: 11.7\n",
      "DTR | R2: 0.198, MAE: 0.805, MSE: 1.193 | Training time: 0.2\n",
      "SVR | R2: 0.685, MAE: 0.506, MSE: 0.468 | Training time: 0.7\n",
      "MLPR | R2: 0.606, MAE: 0.551, MSE: 0.586 | Training time: 3.6\n",
      "XGBR | R2: 0.664, MAE: 0.526, MSE: 0.501 | Training time: 1.1\n"
     ]
    },
    {
     "name": "stderr",
     "output_type": "stream",
     "text": [
      "100%|████████████████████████████████████████████████████████████████████████████████| 155/155 [00:07<00:00, 21.82it/s]\n"
     ]
    },
    {
     "name": "stdout",
     "output_type": "stream",
     "text": [
      "LR | R2: 0.595, MAE: 0.600, MSE: 0.602 | Training time: 0.1\n",
      "RFR | R2: 0.635, MAE: 0.557, MSE: 0.543 | Training time: 11.5\n",
      "DTR | R2: 0.261, MAE: 0.766, MSE: 1.100 | Training time: 0.2\n",
      "SVR | R2: 0.687, MAE: 0.505, MSE: 0.466 | Training time: 0.8\n",
      "MLPR | R2: 0.594, MAE: 0.560, MSE: 0.604 | Training time: 3.5\n",
      "XGBR | R2: 0.672, MAE: 0.521, MSE: 0.488 | Training time: 1.1\n"
     ]
    },
    {
     "name": "stderr",
     "output_type": "stream",
     "text": [
      "100%|████████████████████████████████████████████████████████████████████████████████| 160/160 [00:07<00:00, 22.00it/s]\n"
     ]
    },
    {
     "name": "stdout",
     "output_type": "stream",
     "text": [
      "LR | R2: 0.593, MAE: 0.604, MSE: 0.606 | Training time: 0.1\n",
      "RFR | R2: 0.640, MAE: 0.554, MSE: 0.536 | Training time: 12.4\n",
      "DTR | R2: 0.262, MAE: 0.759, MSE: 1.098 | Training time: 0.2\n",
      "SVR | R2: 0.690, MAE: 0.502, MSE: 0.462 | Training time: 0.7\n",
      "MLPR | R2: 0.664, MAE: 0.507, MSE: 0.501 | Training time: 4.5\n",
      "XGBR | R2: 0.676, MAE: 0.516, MSE: 0.483 | Training time: 1.2\n"
     ]
    },
    {
     "name": "stderr",
     "output_type": "stream",
     "text": [
      "100%|████████████████████████████████████████████████████████████████████████████████| 165/165 [00:07<00:00, 22.50it/s]\n"
     ]
    },
    {
     "name": "stdout",
     "output_type": "stream",
     "text": [
      "LR | R2: 0.592, MAE: 0.602, MSE: 0.607 | Training time: 0.1\n",
      "RFR | R2: 0.639, MAE: 0.552, MSE: 0.538 | Training time: 13.3\n",
      "DTR | R2: 0.168, MAE: 0.804, MSE: 1.238 | Training time: 0.2\n",
      "SVR | R2: 0.694, MAE: 0.502, MSE: 0.456 | Training time: 0.8\n",
      "MLPR | R2: 0.616, MAE: 0.545, MSE: 0.571 | Training time: 3.7\n",
      "XGBR | R2: 0.662, MAE: 0.531, MSE: 0.503 | Training time: 1.2\n"
     ]
    },
    {
     "name": "stderr",
     "output_type": "stream",
     "text": [
      "100%|████████████████████████████████████████████████████████████████████████████████| 170/170 [00:07<00:00, 22.75it/s]\n"
     ]
    },
    {
     "name": "stdout",
     "output_type": "stream",
     "text": [
      "LR | R2: 0.593, MAE: 0.597, MSE: 0.606 | Training time: 0.1\n",
      "RFR | R2: 0.642, MAE: 0.550, MSE: 0.533 | Training time: 14.0\n",
      "DTR | R2: 0.279, MAE: 0.757, MSE: 1.073 | Training time: 0.2\n",
      "SVR | R2: 0.693, MAE: 0.501, MSE: 0.456 | Training time: 0.9\n",
      "MLPR | R2: 0.666, MAE: 0.506, MSE: 0.497 | Training time: 2.7\n",
      "XGBR | R2: 0.638, MAE: 0.540, MSE: 0.539 | Training time: 1.2\n"
     ]
    },
    {
     "name": "stderr",
     "output_type": "stream",
     "text": [
      "100%|████████████████████████████████████████████████████████████████████████████████| 175/175 [00:07<00:00, 22.70it/s]\n"
     ]
    },
    {
     "name": "stdout",
     "output_type": "stream",
     "text": [
      "LR | R2: 0.575, MAE: 0.604, MSE: 0.633 | Training time: 0.1\n",
      "RFR | R2: 0.640, MAE: 0.551, MSE: 0.535 | Training time: 15.6\n",
      "DTR | R2: 0.233, MAE: 0.786, MSE: 1.142 | Training time: 0.2\n",
      "SVR | R2: 0.693, MAE: 0.500, MSE: 0.457 | Training time: 0.9\n",
      "MLPR | R2: 0.638, MAE: 0.526, MSE: 0.539 | Training time: 3.3\n",
      "XGBR | R2: 0.662, MAE: 0.515, MSE: 0.504 | Training time: 1.3\n"
     ]
    },
    {
     "name": "stderr",
     "output_type": "stream",
     "text": [
      "100%|████████████████████████████████████████████████████████████████████████████████| 180/180 [00:07<00:00, 23.21it/s]\n"
     ]
    },
    {
     "name": "stdout",
     "output_type": "stream",
     "text": [
      "LR | R2: 0.574, MAE: 0.605, MSE: 0.634 | Training time: 0.1\n",
      "RFR | R2: 0.644, MAE: 0.549, MSE: 0.530 | Training time: 15.5\n",
      "DTR | R2: 0.286, MAE: 0.739, MSE: 1.062 | Training time: 0.3\n",
      "SVR | R2: 0.691, MAE: 0.502, MSE: 0.461 | Training time: 0.8\n",
      "MLPR | R2: 0.602, MAE: 0.555, MSE: 0.592 | Training time: 3.3\n",
      "XGBR | R2: 0.665, MAE: 0.526, MSE: 0.499 | Training time: 1.4\n"
     ]
    },
    {
     "name": "stderr",
     "output_type": "stream",
     "text": [
      "100%|████████████████████████████████████████████████████████████████████████████████| 185/185 [00:07<00:00, 23.36it/s]\n"
     ]
    },
    {
     "name": "stdout",
     "output_type": "stream",
     "text": [
      "LR | R2: 0.578, MAE: 0.605, MSE: 0.628 | Training time: 0.1\n",
      "RFR | R2: 0.642, MAE: 0.550, MSE: 0.533 | Training time: 16.3\n",
      "DTR | R2: 0.365, MAE: 0.708, MSE: 0.945 | Training time: 0.3\n",
      "SVR | R2: 0.690, MAE: 0.503, MSE: 0.462 | Training time: 0.9\n",
      "MLPR | R2: 0.673, MAE: 0.514, MSE: 0.487 | Training time: 3.8\n",
      "XGBR | R2: 0.668, MAE: 0.534, MSE: 0.494 | Training time: 1.4\n"
     ]
    },
    {
     "name": "stderr",
     "output_type": "stream",
     "text": [
      "100%|████████████████████████████████████████████████████████████████████████████████| 190/190 [00:07<00:00, 23.85it/s]\n"
     ]
    },
    {
     "name": "stdout",
     "output_type": "stream",
     "text": [
      "LR | R2: 0.591, MAE: 0.596, MSE: 0.609 | Training time: 0.1\n",
      "RFR | R2: 0.646, MAE: 0.548, MSE: 0.528 | Training time: 17.0\n",
      "DTR | R2: 0.372, MAE: 0.720, MSE: 0.934 | Training time: 0.3\n",
      "SVR | R2: 0.688, MAE: 0.504, MSE: 0.464 | Training time: 0.9\n",
      "MLPR | R2: 0.597, MAE: 0.555, MSE: 0.599 | Training time: 4.1\n",
      "XGBR | R2: 0.668, MAE: 0.523, MSE: 0.495 | Training time: 1.5\n"
     ]
    },
    {
     "name": "stderr",
     "output_type": "stream",
     "text": [
      "100%|████████████████████████████████████████████████████████████████████████████████| 195/195 [00:22<00:00,  8.83it/s]\n"
     ]
    },
    {
     "name": "stdout",
     "output_type": "stream",
     "text": [
      "LR | R2: 0.598, MAE: 0.594, MSE: 0.598 | Training time: 0.1\n",
      "RFR | R2: 0.644, MAE: 0.550, MSE: 0.530 | Training time: 18.0\n",
      "DTR | R2: 0.276, MAE: 0.747, MSE: 1.077 | Training time: 0.4\n",
      "SVR | R2: 0.688, MAE: 0.504, MSE: 0.465 | Training time: 0.9\n",
      "MLPR | R2: 0.634, MAE: 0.526, MSE: 0.544 | Training time: 4.0\n",
      "XGBR | R2: 0.645, MAE: 0.546, MSE: 0.529 | Training time: 1.6\n"
     ]
    },
    {
     "name": "stderr",
     "output_type": "stream",
     "text": [
      "100%|████████████████████████████████████████████████████████████████████████████████| 197/197 [00:13<00:00, 14.89it/s]\n"
     ]
    },
    {
     "name": "stdout",
     "output_type": "stream",
     "text": [
      "LR | R2: 0.600, MAE: 0.592, MSE: 0.595 | Training time: 0.1\n",
      "RFR | R2: 0.645, MAE: 0.549, MSE: 0.529 | Training time: 18.3\n",
      "DTR | R2: 0.332, MAE: 0.751, MSE: 0.995 | Training time: 0.3\n",
      "SVR | R2: 0.689, MAE: 0.503, MSE: 0.463 | Training time: 0.9\n",
      "MLPR | R2: 0.639, MAE: 0.525, MSE: 0.537 | Training time: 4.3\n",
      "XGBR | R2: 0.640, MAE: 0.545, MSE: 0.536 | Training time: 1.6\n"
     ]
    },
    {
     "name": "stderr",
     "output_type": "stream",
     "text": [
      "100%|████████████████████████████████████████████████████████████████████████████████| 197/197 [00:13<00:00, 14.79it/s]\n"
     ]
    },
    {
     "name": "stdout",
     "output_type": "stream",
     "text": [
      "LR | R2: 0.600, MAE: 0.592, MSE: 0.595 | Training time: 0.1\n",
      "RFR | R2: 0.645, MAE: 0.549, MSE: 0.529 | Training time: 18.5\n",
      "DTR | R2: 0.332, MAE: 0.751, MSE: 0.995 | Training time: 0.3\n",
      "SVR | R2: 0.689, MAE: 0.503, MSE: 0.463 | Training time: 0.9\n",
      "MLPR | R2: 0.639, MAE: 0.525, MSE: 0.537 | Training time: 4.5\n",
      "XGBR | R2: 0.640, MAE: 0.545, MSE: 0.536 | Training time: 1.8\n"
     ]
    }
   ],
   "source": [
    "models, results, num_sel_feat, features = fs_mrmr(X_train, y_train, X_val, y_val, X_train_norm, X_val_norm)"
   ]
  },
  {
   "cell_type": "markdown",
   "id": "ad86dfc4",
   "metadata": {},
   "source": [
    "We now plot the metrics obtained for each iteration"
   ]
  },
  {
   "cell_type": "code",
   "execution_count": 14,
   "id": "87670a35",
   "metadata": {},
   "outputs": [
    {
     "data": {
      "image/png": "[encoded data removed]",
      "text/plain": [
       "<Figure size 950x380 with 1 Axes>"
      ]
     },
     "metadata": {},
     "output_type": "display_data"
    }
   ],
   "source": [
    "mse, r2 = plot_reg_fs_metrics(num_sel_feat, results, \"MRMR\")"
   ]
  },
  {
   "cell_type": "code",
   "execution_count": 15,
   "id": "1b72cb34",
   "metadata": {},
   "outputs": [],
   "source": [
    "# Take selected features by MRMR\n",
    "selected_features_mrmr = features[np.argmax(r2)]"
   ]
  },
  {
   "cell_type": "markdown",
   "id": "92334c79",
   "metadata": {},
   "source": [
    "Best performance occurs when the number of selected features is **165**. Once again, model that better performs is **SVR**, with the following metrics: **R2: 0.693, MAE: 0.502, MSE: 0.456**. This means there is a **0.05** improvement in the R2 score while using **43** features less."
   ]
  },
  {
   "cell_type": "markdown",
   "id": "0fcea653",
   "metadata": {},
   "source": [
    "#### Perform Hyper parameter optimisation using randomizedSearchCV() with SVR as its the best performing baseline model"
   ]
  },
  {
   "cell_type": "code",
   "execution_count": 17,
   "id": "86bbc87f",
   "metadata": {},
   "outputs": [
    {
     "ename": "NameError",
     "evalue": "name 'RandomizedSearchCV' is not defined",
     "output_type": "error",
     "traceback": [
      "\u001b[1;31m---------------------------------------------------------------------------\u001b[0m",
      "\u001b[1;31mNameError\u001b[0m                                 Traceback (most recent call last)",
      "\u001b[1;32mC:\\Users\\ALEJAN~1\\AppData\\Local\\Temp/ipykernel_16428/4111663565.py\u001b[0m in \u001b[0;36m<module>\u001b[1;34m\u001b[0m\n\u001b[1;32m----> 1\u001b[1;33m rnd_models_mrmr, metrics_rnd_mrmr = apply_randsearch(X_train[selected_features_mrmr]\n\u001b[0m\u001b[0;32m      2\u001b[0m                                                         \u001b[1;33m,\u001b[0m \u001b[0my_train\u001b[0m\u001b[1;33m\u001b[0m\u001b[1;33m\u001b[0m\u001b[0m\n\u001b[0;32m      3\u001b[0m                                                         \u001b[1;33m,\u001b[0m \u001b[0mX_val\u001b[0m\u001b[1;33m[\u001b[0m\u001b[0mselected_features_mrmr\u001b[0m\u001b[1;33m]\u001b[0m\u001b[1;33m\u001b[0m\u001b[1;33m\u001b[0m\u001b[0m\n\u001b[0;32m      4\u001b[0m                                                         \u001b[1;33m,\u001b[0m \u001b[0my_val\u001b[0m\u001b[1;33m\u001b[0m\u001b[1;33m\u001b[0m\u001b[0m\n\u001b[0;32m      5\u001b[0m                                                         \u001b[1;33m,\u001b[0m \u001b[1;32mFalse\u001b[0m\u001b[1;33m\u001b[0m\u001b[1;33m\u001b[0m\u001b[0m\n",
      "\u001b[1;32m~\\Documents\\GitHub\\Drugdiscovery\\AZ_additional_functions.ipynb\u001b[0m in \u001b[0;36mapply_randsearch\u001b[1;34m(X_train, y_train, X_val, y_val, c, X_train_norm, X_val_norm)\u001b[0m\n\u001b[0;32m    451\u001b[0m     \u001b[1;34m\"    np.random.seed(10)\\n\"\u001b[0m\u001b[1;33m,\u001b[0m\u001b[1;33m\u001b[0m\u001b[1;33m\u001b[0m\u001b[0m\n\u001b[0;32m    452\u001b[0m     \u001b[1;34m\"    n_models = ['LR', 'RFR', 'DTR', 'SVR', 'MLPR', 'XGBR', 'MLPC', 'SVC', 'RFC', 'DTC', 'XGBC']\\n\"\u001b[0m\u001b[1;33m,\u001b[0m\u001b[1;33m\u001b[0m\u001b[1;33m\u001b[0m\u001b[0m\n\u001b[1;32m--> 453\u001b[1;33m     \u001b[1;34m\"    models = {'Regression': \\n\"\u001b[0m\u001b[1;33m,\u001b[0m\u001b[1;33m\u001b[0m\u001b[1;33m\u001b[0m\u001b[0m\n\u001b[0m\u001b[0;32m    454\u001b[0m     \u001b[1;34m\"              {'Linear': {'LR': LinearRegression(), 'SVR': SVR(), \\n\"\u001b[0m\u001b[1;33m,\u001b[0m\u001b[1;33m\u001b[0m\u001b[1;33m\u001b[0m\u001b[0m\n\u001b[0;32m    455\u001b[0m     \u001b[1;34m\"                          'MLPR': MLPRegressor(hidden_layer_sizes=(128,64,32), max_iter=500)},\\n\"\u001b[0m\u001b[1;33m,\u001b[0m\u001b[1;33m\u001b[0m\u001b[1;33m\u001b[0m\u001b[0m\n",
      "\u001b[1;31mNameError\u001b[0m: name 'RandomizedSearchCV' is not defined"
     ]
    }
   ],
   "source": [
    "rnd_models_mrmr, metrics_rnd_mrmr = apply_randsearch(X_train[selected_features_mrmr]\n",
    "                                                        , y_train                                                       \n",
    "                                                        , X_val[selected_features_mrmr]\n",
    "                                                        , y_val\n",
    "                                                        , False\n",
    "                                                        , X_train_norm[selected_features_mrmr]\n",
    "                                                        , X_val_norm[selected_features_mrmr])"
   ]
  },
  {
   "cell_type": "markdown",
   "id": "74ab5b9c",
   "metadata": {},
   "source": [
    "## 2 - Improving the model: Feature Selection - Relieff \n",
    "Short description about relieff "
   ]
  },
  {
   "cell_type": "code",
   "execution_count": 27,
   "id": "caf1f341",
   "metadata": {
    "scrolled": true
   },
   "outputs": [
    {
     "name": "stdout",
     "output_type": "stream",
     "text": [
      "\n",
      "=======================Selected features 10/207 =======================\n",
      "RFR | R2: 0.531, MAE: 0.629, MSE: 0.698\n",
      "DTR | R2: 0.099, MAE: 0.841, MSE: 1.342\n",
      "SVR | R2: 0.508, MAE: 0.656, MSE: 0.732\n",
      "MLPR | R2: 0.476, MAE: 0.655, MSE: 0.781\n",
      "XGBR | R2: 0.496, MAE: 0.646, MSE: 0.750\n",
      "\n",
      "=======================Selected features 15/207 =======================\n",
      "RFR | R2: 0.573, MAE: 0.607, MSE: 0.636\n",
      "DTR | R2: 0.138, MAE: 0.832, MSE: 1.283\n",
      "SVR | R2: 0.562, MAE: 0.610, MSE: 0.652\n",
      "MLPR | R2: 0.482, MAE: 0.656, MSE: 0.771\n",
      "XGBR | R2: 0.564, MAE: 0.612, MSE: 0.649\n",
      "\n",
      "=======================Selected features 20/207 =======================\n",
      "RFR | R2: 0.591, MAE: 0.588, MSE: 0.609\n",
      "DTR | R2: 0.257, MAE: 0.784, MSE: 1.105\n",
      "SVR | R2: 0.595, MAE: 0.586, MSE: 0.602\n",
      "MLPR | R2: 0.501, MAE: 0.642, MSE: 0.743\n",
      "XGBR | R2: 0.588, MAE: 0.583, MSE: 0.614\n",
      "\n",
      "=======================Selected features 25/207 =======================\n",
      "RFR | R2: 0.594, MAE: 0.580, MSE: 0.604\n",
      "DTR | R2: 0.149, MAE: 0.825, MSE: 1.267\n",
      "SVR | R2: 0.609, MAE: 0.580, MSE: 0.582\n",
      "MLPR | R2: 0.531, MAE: 0.632, MSE: 0.698\n",
      "XGBR | R2: 0.541, MAE: 0.617, MSE: 0.683\n",
      "\n",
      "=======================Selected features 30/207 =======================\n",
      "RFR | R2: 0.596, MAE: 0.586, MSE: 0.601\n",
      "DTR | R2: 0.213, MAE: 0.806, MSE: 1.172\n",
      "SVR | R2: 0.621, MAE: 0.568, MSE: 0.564\n",
      "MLPR | R2: 0.566, MAE: 0.591, MSE: 0.645\n",
      "XGBR | R2: 0.567, MAE: 0.598, MSE: 0.644\n",
      "\n",
      "=======================Selected features 35/207 =======================\n",
      "RFR | R2: 0.597, MAE: 0.587, MSE: 0.600\n",
      "DTR | R2: 0.195, MAE: 0.801, MSE: 1.198\n",
      "SVR | R2: 0.621, MAE: 0.568, MSE: 0.564\n",
      "MLPR | R2: 0.564, MAE: 0.601, MSE: 0.649\n",
      "XGBR | R2: 0.594, MAE: 0.582, MSE: 0.605\n",
      "\n",
      "=======================Selected features 40/207 =======================\n",
      "RFR | R2: 0.596, MAE: 0.588, MSE: 0.602\n",
      "DTR | R2: 0.161, MAE: 0.807, MSE: 1.249\n",
      "SVR | R2: 0.631, MAE: 0.562, MSE: 0.550\n",
      "MLPR | R2: 0.641, MAE: 0.547, MSE: 0.535\n",
      "XGBR | R2: 0.610, MAE: 0.562, MSE: 0.581\n",
      "\n",
      "=======================Selected features 45/207 =======================\n",
      "RFR | R2: 0.610, MAE: 0.577, MSE: 0.581\n",
      "DTR | R2: 0.110, MAE: 0.832, MSE: 1.325\n",
      "SVR | R2: 0.637, MAE: 0.556, MSE: 0.540\n",
      "MLPR | R2: 0.577, MAE: 0.588, MSE: 0.630\n",
      "XGBR | R2: 0.598, MAE: 0.579, MSE: 0.599\n",
      "\n",
      "=======================Selected features 50/207 =======================\n",
      "RFR | R2: 0.609, MAE: 0.577, MSE: 0.581\n",
      "DTR | R2: 0.264, MAE: 0.785, MSE: 1.095\n",
      "SVR | R2: 0.643, MAE: 0.551, MSE: 0.531\n",
      "MLPR | R2: 0.566, MAE: 0.602, MSE: 0.646\n",
      "XGBR | R2: 0.602, MAE: 0.577, MSE: 0.592\n",
      "\n",
      "=======================Selected features 55/207 =======================\n",
      "RFR | R2: 0.617, MAE: 0.568, MSE: 0.571\n",
      "DTR | R2: 0.234, MAE: 0.808, MSE: 1.140\n",
      "SVR | R2: 0.644, MAE: 0.551, MSE: 0.529\n",
      "MLPR | R2: 0.616, MAE: 0.552, MSE: 0.572\n",
      "XGBR | R2: 0.604, MAE: 0.570, MSE: 0.589\n",
      "\n",
      "=======================Selected features 60/207 =======================\n",
      "RFR | R2: 0.621, MAE: 0.568, MSE: 0.564\n",
      "DTR | R2: 0.217, MAE: 0.800, MSE: 1.165\n",
      "SVR | R2: 0.644, MAE: 0.552, MSE: 0.530\n",
      "MLPR | R2: 0.600, MAE: 0.556, MSE: 0.596\n",
      "XGBR | R2: 0.619, MAE: 0.561, MSE: 0.568\n",
      "\n",
      "=======================Selected features 65/207 =======================\n",
      "RFR | R2: 0.621, MAE: 0.565, MSE: 0.564\n",
      "DTR | R2: 0.280, MAE: 0.777, MSE: 1.072\n",
      "SVR | R2: 0.645, MAE: 0.552, MSE: 0.528\n",
      "MLPR | R2: 0.577, MAE: 0.579, MSE: 0.629\n",
      "XGBR | R2: 0.624, MAE: 0.554, MSE: 0.559\n",
      "\n",
      "=======================Selected features 70/207 =======================\n",
      "RFR | R2: 0.625, MAE: 0.561, MSE: 0.559\n",
      "DTR | R2: 0.308, MAE: 0.757, MSE: 1.030\n",
      "SVR | R2: 0.647, MAE: 0.548, MSE: 0.525\n",
      "MLPR | R2: 0.597, MAE: 0.568, MSE: 0.601\n",
      "XGBR | R2: 0.630, MAE: 0.551, MSE: 0.551\n",
      "\n",
      "=======================Selected features 75/207 =======================\n",
      "RFR | R2: 0.636, MAE: 0.552, MSE: 0.542\n",
      "DTR | R2: 0.320, MAE: 0.749, MSE: 1.013\n",
      "SVR | R2: 0.661, MAE: 0.533, MSE: 0.505\n",
      "MLPR | R2: 0.634, MAE: 0.536, MSE: 0.545\n",
      "XGBR | R2: 0.668, MAE: 0.518, MSE: 0.494\n",
      "\n",
      "=======================Selected features 80/207 =======================\n",
      "RFR | R2: 0.628, MAE: 0.556, MSE: 0.553\n",
      "DTR | R2: 0.292, MAE: 0.750, MSE: 1.055\n",
      "SVR | R2: 0.659, MAE: 0.531, MSE: 0.508\n",
      "MLPR | R2: 0.525, MAE: 0.606, MSE: 0.707\n",
      "XGBR | R2: 0.653, MAE: 0.539, MSE: 0.516\n",
      "\n",
      "=======================Selected features 85/207 =======================\n",
      "RFR | R2: 0.638, MAE: 0.553, MSE: 0.538\n",
      "DTR | R2: 0.319, MAE: 0.741, MSE: 1.013\n",
      "SVR | R2: 0.666, MAE: 0.524, MSE: 0.498\n",
      "MLPR | R2: 0.557, MAE: 0.594, MSE: 0.660\n",
      "XGBR | R2: 0.643, MAE: 0.544, MSE: 0.531\n",
      "\n",
      "=======================Selected features 90/207 =======================\n",
      "RFR | R2: 0.637, MAE: 0.552, MSE: 0.540\n",
      "DTR | R2: 0.302, MAE: 0.758, MSE: 1.040\n",
      "SVR | R2: 0.668, MAE: 0.522, MSE: 0.494\n",
      "MLPR | R2: 0.596, MAE: 0.561, MSE: 0.601\n",
      "XGBR | R2: 0.660, MAE: 0.531, MSE: 0.506\n",
      "\n",
      "=======================Selected features 95/207 =======================\n",
      "RFR | R2: 0.638, MAE: 0.548, MSE: 0.538\n",
      "DTR | R2: 0.329, MAE: 0.729, MSE: 0.999\n",
      "SVR | R2: 0.673, MAE: 0.519, MSE: 0.487\n",
      "MLPR | R2: 0.589, MAE: 0.571, MSE: 0.611\n",
      "XGBR | R2: 0.665, MAE: 0.524, MSE: 0.498\n",
      "\n",
      "=======================Selected features 100/207 =======================\n",
      "RFR | R2: 0.646, MAE: 0.546, MSE: 0.527\n",
      "DTR | R2: 0.309, MAE: 0.739, MSE: 1.028\n",
      "SVR | R2: 0.679, MAE: 0.515, MSE: 0.478\n",
      "MLPR | R2: 0.614, MAE: 0.550, MSE: 0.574\n",
      "XGBR | R2: 0.664, MAE: 0.530, MSE: 0.500\n",
      "\n",
      "=======================Selected features 105/207 =======================\n",
      "RFR | R2: 0.639, MAE: 0.551, MSE: 0.538\n",
      "DTR | R2: 0.330, MAE: 0.743, MSE: 0.998\n",
      "SVR | R2: 0.682, MAE: 0.515, MSE: 0.474\n",
      "MLPR | R2: 0.623, MAE: 0.540, MSE: 0.562\n",
      "XGBR | R2: 0.659, MAE: 0.537, MSE: 0.507\n",
      "\n",
      "=======================Selected features 110/207 =======================\n",
      "RFR | R2: 0.640, MAE: 0.551, MSE: 0.536\n",
      "DTR | R2: 0.273, MAE: 0.754, MSE: 1.082\n",
      "SVR | R2: 0.681, MAE: 0.515, MSE: 0.475\n",
      "MLPR | R2: 0.606, MAE: 0.558, MSE: 0.586\n",
      "XGBR | R2: 0.640, MAE: 0.560, MSE: 0.536\n",
      "\n",
      "=======================Selected features 115/207 =======================\n",
      "RFR | R2: 0.643, MAE: 0.546, MSE: 0.531\n",
      "DTR | R2: 0.311, MAE: 0.729, MSE: 1.025\n",
      "SVR | R2: 0.681, MAE: 0.515, MSE: 0.475\n",
      "MLPR | R2: 0.631, MAE: 0.527, MSE: 0.549\n",
      "XGBR | R2: 0.648, MAE: 0.545, MSE: 0.525\n",
      "\n",
      "=======================Selected features 120/207 =======================\n",
      "RFR | R2: 0.638, MAE: 0.551, MSE: 0.539\n",
      "DTR | R2: 0.212, MAE: 0.759, MSE: 1.172\n",
      "SVR | R2: 0.683, MAE: 0.513, MSE: 0.472\n",
      "MLPR | R2: 0.619, MAE: 0.545, MSE: 0.568\n",
      "XGBR | R2: 0.637, MAE: 0.540, MSE: 0.541\n",
      "\n",
      "=======================Selected features 125/207 =======================\n",
      "RFR | R2: 0.640, MAE: 0.550, MSE: 0.536\n",
      "DTR | R2: 0.239, MAE: 0.754, MSE: 1.133\n",
      "SVR | R2: 0.686, MAE: 0.510, MSE: 0.468\n",
      "MLPR | R2: 0.665, MAE: 0.529, MSE: 0.499\n",
      "XGBR | R2: 0.657, MAE: 0.541, MSE: 0.510\n",
      "\n",
      "=======================Selected features 130/207 =======================\n",
      "RFR | R2: 0.640, MAE: 0.551, MSE: 0.536\n",
      "DTR | R2: 0.215, MAE: 0.781, MSE: 1.168\n",
      "SVR | R2: 0.687, MAE: 0.509, MSE: 0.466\n",
      "MLPR | R2: 0.639, MAE: 0.539, MSE: 0.538\n",
      "XGBR | R2: 0.682, MAE: 0.519, MSE: 0.473\n",
      "\n",
      "=======================Selected features 135/207 =======================\n",
      "RFR | R2: 0.638, MAE: 0.553, MSE: 0.538\n",
      "DTR | R2: 0.226, MAE: 0.771, MSE: 1.152\n",
      "SVR | R2: 0.694, MAE: 0.503, MSE: 0.456\n",
      "MLPR | R2: 0.661, MAE: 0.529, MSE: 0.504\n",
      "XGBR | R2: 0.684, MAE: 0.519, MSE: 0.471\n",
      "\n",
      "=======================Selected features 140/207 =======================\n",
      "RFR | R2: 0.641, MAE: 0.551, MSE: 0.534\n",
      "DTR | R2: 0.226, MAE: 0.776, MSE: 1.152\n",
      "SVR | R2: 0.690, MAE: 0.506, MSE: 0.461\n",
      "MLPR | R2: 0.663, MAE: 0.526, MSE: 0.501\n",
      "XGBR | R2: 0.678, MAE: 0.525, MSE: 0.480\n",
      "\n",
      "=======================Selected features 145/207 =======================\n",
      "RFR | R2: 0.644, MAE: 0.550, MSE: 0.529\n",
      "DTR | R2: 0.218, MAE: 0.782, MSE: 1.163\n",
      "SVR | R2: 0.693, MAE: 0.503, MSE: 0.457\n",
      "MLPR | R2: 0.651, MAE: 0.541, MSE: 0.519\n",
      "XGBR | R2: 0.679, MAE: 0.519, MSE: 0.477\n",
      "\n",
      "=======================Selected features 150/207 =======================\n",
      "RFR | R2: 0.641, MAE: 0.555, MSE: 0.534\n",
      "DTR | R2: 0.220, MAE: 0.784, MSE: 1.162\n",
      "SVR | R2: 0.697, MAE: 0.499, MSE: 0.451\n",
      "MLPR | R2: 0.625, MAE: 0.554, MSE: 0.558\n",
      "XGBR | R2: 0.693, MAE: 0.513, MSE: 0.457\n",
      "\n",
      "=======================Selected features 155/207 =======================\n",
      "RFR | R2: 0.646, MAE: 0.549, MSE: 0.527\n",
      "DTR | R2: 0.168, MAE: 0.803, MSE: 1.239\n",
      "SVR | R2: 0.699, MAE: 0.495, MSE: 0.448\n",
      "MLPR | R2: 0.678, MAE: 0.507, MSE: 0.479\n",
      "XGBR | R2: 0.693, MAE: 0.511, MSE: 0.458\n",
      "\n",
      "=======================Selected features 160/207 =======================\n",
      "RFR | R2: 0.647, MAE: 0.548, MSE: 0.526\n",
      "DTR | R2: 0.204, MAE: 0.800, MSE: 1.185\n",
      "SVR | R2: 0.701, MAE: 0.492, MSE: 0.445\n",
      "MLPR | R2: 0.679, MAE: 0.517, MSE: 0.478\n",
      "XGBR | R2: 0.670, MAE: 0.521, MSE: 0.491\n",
      "\n",
      "=======================Selected features 165/207 =======================\n",
      "RFR | R2: 0.644, MAE: 0.550, MSE: 0.529\n",
      "DTR | R2: 0.313, MAE: 0.760, MSE: 1.023\n",
      "SVR | R2: 0.697, MAE: 0.497, MSE: 0.451\n",
      "MLPR | R2: 0.667, MAE: 0.518, MSE: 0.496\n",
      "XGBR | R2: 0.667, MAE: 0.526, MSE: 0.495\n",
      "\n",
      "=======================Selected features 170/207 =======================\n",
      "RFR | R2: 0.644, MAE: 0.548, MSE: 0.530\n",
      "DTR | R2: 0.279, MAE: 0.773, MSE: 1.073\n",
      "SVR | R2: 0.694, MAE: 0.498, MSE: 0.455\n",
      "MLPR | R2: 0.628, MAE: 0.542, MSE: 0.554\n",
      "XGBR | R2: 0.652, MAE: 0.532, MSE: 0.518\n",
      "\n",
      "=======================Selected features 175/207 =======================\n",
      "RFR | R2: 0.649, MAE: 0.546, MSE: 0.523\n",
      "DTR | R2: 0.287, MAE: 0.769, MSE: 1.061\n",
      "SVR | R2: 0.691, MAE: 0.500, MSE: 0.460\n",
      "MLPR | R2: 0.664, MAE: 0.522, MSE: 0.500\n",
      "XGBR | R2: 0.646, MAE: 0.536, MSE: 0.528\n",
      "\n",
      "=======================Selected features 180/207 =======================\n",
      "RFR | R2: 0.645, MAE: 0.549, MSE: 0.529\n",
      "DTR | R2: 0.331, MAE: 0.729, MSE: 0.996\n",
      "SVR | R2: 0.692, MAE: 0.498, MSE: 0.458\n",
      "MLPR | R2: 0.685, MAE: 0.497, MSE: 0.468\n",
      "XGBR | R2: 0.646, MAE: 0.537, MSE: 0.526\n",
      "\n",
      "=======================Selected features 185/207 =======================\n",
      "RFR | R2: 0.647, MAE: 0.546, MSE: 0.525\n",
      "DTR | R2: 0.296, MAE: 0.758, MSE: 1.049\n",
      "SVR | R2: 0.691, MAE: 0.500, MSE: 0.460\n",
      "MLPR | R2: 0.663, MAE: 0.522, MSE: 0.501\n",
      "XGBR | R2: 0.641, MAE: 0.535, MSE: 0.535\n",
      "\n",
      "=======================Selected features 190/207 =======================\n",
      "RFR | R2: 0.644, MAE: 0.550, MSE: 0.530\n",
      "DTR | R2: 0.342, MAE: 0.739, MSE: 0.979\n",
      "SVR | R2: 0.691, MAE: 0.500, MSE: 0.460\n",
      "MLPR | R2: 0.651, MAE: 0.537, MSE: 0.520\n",
      "XGBR | R2: 0.641, MAE: 0.535, MSE: 0.535\n",
      "\n",
      "=======================Selected features 195/207 =======================\n",
      "RFR | R2: 0.647, MAE: 0.547, MSE: 0.526\n",
      "DTR | R2: 0.274, MAE: 0.773, MSE: 1.080\n",
      "SVR | R2: 0.691, MAE: 0.501, MSE: 0.460\n",
      "MLPR | R2: 0.661, MAE: 0.506, MSE: 0.505\n",
      "XGBR | R2: 0.641, MAE: 0.535, MSE: 0.535\n",
      "\n",
      "=======================Selected features 200/207 =======================\n",
      "RFR | R2: 0.649, MAE: 0.545, MSE: 0.523\n",
      "DTR | R2: 0.307, MAE: 0.738, MSE: 1.031\n",
      "SVR | R2: 0.688, MAE: 0.503, MSE: 0.465\n",
      "MLPR | R2: 0.642, MAE: 0.546, MSE: 0.534\n",
      "XGBR | R2: 0.641, MAE: 0.535, MSE: 0.535\n",
      "\n",
      "=======================Selected features 205/207 =======================\n",
      "RFR | R2: 0.646, MAE: 0.548, MSE: 0.527\n",
      "DTR | R2: 0.296, MAE: 0.765, MSE: 1.048\n",
      "SVR | R2: 0.689, MAE: 0.504, MSE: 0.462\n",
      "MLPR | R2: 0.595, MAE: 0.554, MSE: 0.602\n",
      "XGBR | R2: 0.661, MAE: 0.529, MSE: 0.504\n"
     ]
    }
   ],
   "source": [
    "n_neighbors = 100\n",
    "models_relief, results_relief, num_sel_feat_relief, features_relief = fs_relieff(X_train, y_train, X_val, y_val, X_train_norm, X_val_norm, False, n_neighbors)"
   ]
  },
  {
   "cell_type": "code",
   "execution_count": 28,
   "id": "bb42ddd9",
   "metadata": {},
   "outputs": [
    {
     "data": {
      "image/png": "[encoded data removed]",
      "text/plain": [
       "<Figure size 950x380 with 1 Axes>"
      ]
     },
     "metadata": {},
     "output_type": "display_data"
    }
   ],
   "source": [
    "mse_relieff, r2_relieff = plot_reg_fs_metrics(num_sel_feat_relief, results_relief, \"RelieFf\")"
   ]
  },
  {
   "cell_type": "code",
   "execution_count": 29,
   "id": "692fed4e",
   "metadata": {},
   "outputs": [],
   "source": [
    "# Selected features by RelieFf algorithm\n",
    "selected_features_relieff = features_relief[np.argmax(r2_relieff)]"
   ]
  },
  {
   "cell_type": "code",
   "execution_count": 30,
   "id": "d4621043",
   "metadata": {},
   "outputs": [
    {
     "name": "stdout",
     "output_type": "stream",
     "text": [
      "{'kernel': 'rbf', 'gamma': 'auto', 'degree': 8, 'coef0': 0.01, 'C': 5}\n",
      "r2: 0.753213, mse: 0.367328, mae: 0.446254\n"
     ]
    }
   ],
   "source": [
    "# Apply randsearch to the potential model candidates with the selected features\n",
    "rnd_models_relieff, metrics_rnd_relieff = apply_randsearch(X_train[selected_features_relieff]\n",
    "                                                        , y_train                                                       \n",
    "                                                        , X_val[selected_features_relieff]\n",
    "                                                        , y_val\n",
    "                                                        , False\n",
    "                                                        , X_train_norm[selected_features_relieff]\n",
    "                                                        , X_val_norm[selected_features_relieff])"
   ]
  },
  {
   "cell_type": "markdown",
   "id": "c39df920",
   "metadata": {},
   "source": [
    "## 3 - Improving the model: Feature Selection - Mutual_info_regression\n",
    "\n",
    "This method utilizes the mutual information. It calculates mutual information value for each of independent variables with respect to dependent variable, and selects the ones which has most information gain. In other words, it basically measures the dependency of features with the target value. The higher score means more dependent variables."
   ]
  },
  {
   "cell_type": "code",
   "execution_count": 32,
   "id": "c786f60c",
   "metadata": {},
   "outputs": [
    {
     "name": "stdout",
     "output_type": "stream",
     "text": [
      "\n",
      "=======================Selected features 10/207 =======================\n",
      "RFR | R2: 0.582, MAE: 0.593, MSE: 0.622\n",
      "DTR | R2: 0.274, MAE: 0.770, MSE: 1.080\n",
      "SVR | R2: 0.436, MAE: 0.710, MSE: 0.839\n",
      "MLPR | R2: 0.354, MAE: 0.721, MSE: 0.961\n",
      "XGBR | R2: 0.560, MAE: 0.602, MSE: 0.654\n",
      "\n",
      "=======================Selected features 15/207 =======================\n",
      "RFR | R2: 0.589, MAE: 0.586, MSE: 0.612\n",
      "DTR | R2: 0.228, MAE: 0.799, MSE: 1.149\n",
      "SVR | R2: 0.501, MAE: 0.667, MSE: 0.742\n",
      "MLPR | R2: 0.320, MAE: 0.732, MSE: 1.013\n",
      "XGBR | R2: 0.569, MAE: 0.601, MSE: 0.642\n",
      "\n",
      "=======================Selected features 20/207 =======================\n",
      "RFR | R2: 0.604, MAE: 0.582, MSE: 0.589\n",
      "DTR | R2: 0.265, MAE: 0.776, MSE: 1.094\n",
      "SVR | R2: 0.589, MAE: 0.595, MSE: 0.612\n",
      "MLPR | R2: 0.487, MAE: 0.634, MSE: 0.763\n",
      "XGBR | R2: 0.629, MAE: 0.555, MSE: 0.552\n",
      "\n",
      "=======================Selected features 25/207 =======================\n",
      "RFR | R2: 0.623, MAE: 0.565, MSE: 0.561\n",
      "DTR | R2: 0.301, MAE: 0.746, MSE: 1.041\n",
      "SVR | R2: 0.618, MAE: 0.572, MSE: 0.569\n",
      "MLPR | R2: 0.536, MAE: 0.621, MSE: 0.691\n",
      "XGBR | R2: 0.616, MAE: 0.577, MSE: 0.571\n",
      "\n",
      "=======================Selected features 30/207 =======================\n",
      "RFR | R2: 0.628, MAE: 0.561, MSE: 0.554\n",
      "DTR | R2: 0.335, MAE: 0.739, MSE: 0.990\n",
      "SVR | R2: 0.642, MAE: 0.551, MSE: 0.533\n",
      "MLPR | R2: 0.533, MAE: 0.619, MSE: 0.695\n",
      "XGBR | R2: 0.654, MAE: 0.546, MSE: 0.515\n",
      "\n",
      "=======================Selected features 35/207 =======================\n",
      "RFR | R2: 0.614, MAE: 0.573, MSE: 0.575\n",
      "DTR | R2: 0.122, MAE: 0.837, MSE: 1.306\n",
      "SVR | R2: 0.636, MAE: 0.550, MSE: 0.541\n",
      "MLPR | R2: 0.600, MAE: 0.581, MSE: 0.595\n",
      "XGBR | R2: 0.623, MAE: 0.563, MSE: 0.561\n",
      "\n",
      "=======================Selected features 40/207 =======================\n",
      "RFR | R2: 0.622, MAE: 0.566, MSE: 0.563\n",
      "DTR | R2: 0.192, MAE: 0.823, MSE: 1.202\n",
      "SVR | R2: 0.644, MAE: 0.541, MSE: 0.531\n",
      "MLPR | R2: 0.600, MAE: 0.566, MSE: 0.595\n",
      "XGBR | R2: 0.636, MAE: 0.549, MSE: 0.543\n",
      "\n",
      "=======================Selected features 45/207 =======================\n",
      "RFR | R2: 0.625, MAE: 0.568, MSE: 0.559\n",
      "DTR | R2: 0.197, MAE: 0.840, MSE: 1.195\n",
      "SVR | R2: 0.637, MAE: 0.545, MSE: 0.541\n",
      "MLPR | R2: 0.554, MAE: 0.586, MSE: 0.664\n",
      "XGBR | R2: 0.661, MAE: 0.532, MSE: 0.504\n",
      "\n",
      "=======================Selected features 50/207 =======================\n",
      "RFR | R2: 0.624, MAE: 0.565, MSE: 0.560\n",
      "DTR | R2: 0.276, MAE: 0.769, MSE: 1.077\n",
      "SVR | R2: 0.655, MAE: 0.532, MSE: 0.514\n",
      "MLPR | R2: 0.625, MAE: 0.570, MSE: 0.558\n",
      "XGBR | R2: 0.615, MAE: 0.563, MSE: 0.573\n",
      "\n",
      "=======================Selected features 55/207 =======================\n",
      "RFR | R2: 0.626, MAE: 0.563, MSE: 0.557\n",
      "DTR | R2: 0.312, MAE: 0.765, MSE: 1.024\n",
      "SVR | R2: 0.654, MAE: 0.537, MSE: 0.515\n",
      "MLPR | R2: 0.649, MAE: 0.535, MSE: 0.523\n",
      "XGBR | R2: 0.693, MAE: 0.518, MSE: 0.457\n",
      "\n",
      "=======================Selected features 60/207 =======================\n",
      "RFR | R2: 0.636, MAE: 0.556, MSE: 0.541\n",
      "DTR | R2: 0.277, MAE: 0.781, MSE: 1.076\n",
      "SVR | R2: 0.661, MAE: 0.528, MSE: 0.505\n",
      "MLPR | R2: 0.641, MAE: 0.545, MSE: 0.535\n",
      "XGBR | R2: 0.655, MAE: 0.533, MSE: 0.514\n",
      "\n",
      "=======================Selected features 65/207 =======================\n",
      "RFR | R2: 0.628, MAE: 0.558, MSE: 0.554\n",
      "DTR | R2: 0.335, MAE: 0.723, MSE: 0.990\n",
      "SVR | R2: 0.662, MAE: 0.530, MSE: 0.502\n",
      "MLPR | R2: 0.555, MAE: 0.607, MSE: 0.662\n",
      "XGBR | R2: 0.638, MAE: 0.543, MSE: 0.539\n",
      "\n",
      "=======================Selected features 70/207 =======================\n",
      "RFR | R2: 0.631, MAE: 0.556, MSE: 0.550\n",
      "DTR | R2: 0.309, MAE: 0.734, MSE: 1.028\n",
      "SVR | R2: 0.666, MAE: 0.529, MSE: 0.498\n",
      "MLPR | R2: 0.641, MAE: 0.542, MSE: 0.535\n",
      "XGBR | R2: 0.664, MAE: 0.538, MSE: 0.501\n",
      "\n",
      "=======================Selected features 75/207 =======================\n",
      "RFR | R2: 0.635, MAE: 0.552, MSE: 0.543\n",
      "DTR | R2: 0.327, MAE: 0.740, MSE: 1.002\n",
      "SVR | R2: 0.677, MAE: 0.516, MSE: 0.480\n",
      "MLPR | R2: 0.629, MAE: 0.553, MSE: 0.552\n",
      "XGBR | R2: 0.647, MAE: 0.540, MSE: 0.526\n",
      "\n",
      "=======================Selected features 80/207 =======================\n",
      "RFR | R2: 0.632, MAE: 0.554, MSE: 0.547\n",
      "DTR | R2: 0.264, MAE: 0.753, MSE: 1.096\n",
      "SVR | R2: 0.669, MAE: 0.526, MSE: 0.492\n",
      "MLPR | R2: 0.616, MAE: 0.547, MSE: 0.571\n",
      "XGBR | R2: 0.614, MAE: 0.571, MSE: 0.575\n",
      "\n",
      "=======================Selected features 85/207 =======================\n",
      "RFR | R2: 0.635, MAE: 0.555, MSE: 0.544\n",
      "DTR | R2: 0.289, MAE: 0.735, MSE: 1.058\n",
      "SVR | R2: 0.674, MAE: 0.523, MSE: 0.485\n",
      "MLPR | R2: 0.663, MAE: 0.528, MSE: 0.501\n",
      "XGBR | R2: 0.674, MAE: 0.523, MSE: 0.485\n",
      "\n",
      "=======================Selected features 90/207 =======================\n",
      "RFR | R2: 0.642, MAE: 0.546, MSE: 0.532\n",
      "DTR | R2: 0.303, MAE: 0.743, MSE: 1.037\n",
      "SVR | R2: 0.678, MAE: 0.517, MSE: 0.480\n",
      "MLPR | R2: 0.647, MAE: 0.541, MSE: 0.526\n",
      "XGBR | R2: 0.662, MAE: 0.535, MSE: 0.503\n",
      "\n",
      "=======================Selected features 95/207 =======================\n",
      "RFR | R2: 0.635, MAE: 0.553, MSE: 0.544\n",
      "DTR | R2: 0.313, MAE: 0.740, MSE: 1.023\n",
      "SVR | R2: 0.676, MAE: 0.523, MSE: 0.483\n",
      "MLPR | R2: 0.662, MAE: 0.532, MSE: 0.503\n",
      "XGBR | R2: 0.636, MAE: 0.553, MSE: 0.542\n",
      "\n",
      "=======================Selected features 100/207 =======================\n",
      "RFR | R2: 0.643, MAE: 0.546, MSE: 0.532\n",
      "DTR | R2: 0.243, MAE: 0.755, MSE: 1.127\n",
      "SVR | R2: 0.690, MAE: 0.508, MSE: 0.462\n",
      "MLPR | R2: 0.639, MAE: 0.547, MSE: 0.537\n",
      "XGBR | R2: 0.650, MAE: 0.544, MSE: 0.521\n",
      "\n",
      "=======================Selected features 105/207 =======================\n",
      "RFR | R2: 0.643, MAE: 0.548, MSE: 0.531\n",
      "DTR | R2: 0.265, MAE: 0.749, MSE: 1.094\n",
      "SVR | R2: 0.680, MAE: 0.517, MSE: 0.476\n",
      "MLPR | R2: 0.582, MAE: 0.567, MSE: 0.623\n",
      "XGBR | R2: 0.647, MAE: 0.537, MSE: 0.526\n",
      "\n",
      "=======================Selected features 110/207 =======================\n",
      "RFR | R2: 0.641, MAE: 0.546, MSE: 0.534\n",
      "DTR | R2: 0.292, MAE: 0.761, MSE: 1.054\n",
      "SVR | R2: 0.689, MAE: 0.512, MSE: 0.464\n",
      "MLPR | R2: 0.666, MAE: 0.534, MSE: 0.498\n",
      "XGBR | R2: 0.652, MAE: 0.537, MSE: 0.519\n",
      "\n",
      "=======================Selected features 115/207 =======================\n",
      "RFR | R2: 0.640, MAE: 0.551, MSE: 0.536\n",
      "DTR | R2: 0.291, MAE: 0.739, MSE: 1.056\n",
      "SVR | R2: 0.672, MAE: 0.521, MSE: 0.488\n",
      "MLPR | R2: 0.639, MAE: 0.526, MSE: 0.538\n",
      "XGBR | R2: 0.639, MAE: 0.547, MSE: 0.537\n",
      "\n",
      "=======================Selected features 120/207 =======================\n",
      "RFR | R2: 0.639, MAE: 0.553, MSE: 0.538\n",
      "DTR | R2: 0.299, MAE: 0.728, MSE: 1.043\n",
      "SVR | R2: 0.681, MAE: 0.512, MSE: 0.475\n",
      "MLPR | R2: 0.598, MAE: 0.566, MSE: 0.599\n",
      "XGBR | R2: 0.673, MAE: 0.528, MSE: 0.486\n",
      "\n",
      "=======================Selected features 125/207 =======================\n",
      "RFR | R2: 0.644, MAE: 0.547, MSE: 0.530\n",
      "DTR | R2: 0.267, MAE: 0.763, MSE: 1.091\n",
      "SVR | R2: 0.684, MAE: 0.510, MSE: 0.471\n",
      "MLPR | R2: 0.703, MAE: 0.499, MSE: 0.443\n",
      "XGBR | R2: 0.665, MAE: 0.536, MSE: 0.499\n",
      "\n",
      "=======================Selected features 130/207 =======================\n",
      "RFR | R2: 0.644, MAE: 0.548, MSE: 0.530\n",
      "DTR | R2: 0.302, MAE: 0.755, MSE: 1.039\n",
      "SVR | R2: 0.678, MAE: 0.514, MSE: 0.480\n",
      "MLPR | R2: 0.606, MAE: 0.567, MSE: 0.586\n",
      "XGBR | R2: 0.671, MAE: 0.528, MSE: 0.490\n",
      "\n",
      "=======================Selected features 135/207 =======================\n",
      "RFR | R2: 0.641, MAE: 0.550, MSE: 0.535\n",
      "DTR | R2: 0.258, MAE: 0.755, MSE: 1.105\n",
      "SVR | R2: 0.678, MAE: 0.520, MSE: 0.479\n",
      "MLPR | R2: 0.668, MAE: 0.518, MSE: 0.494\n",
      "XGBR | R2: 0.677, MAE: 0.517, MSE: 0.480\n",
      "\n",
      "=======================Selected features 140/207 =======================\n",
      "RFR | R2: 0.636, MAE: 0.555, MSE: 0.542\n",
      "DTR | R2: 0.293, MAE: 0.752, MSE: 1.052\n",
      "SVR | R2: 0.683, MAE: 0.516, MSE: 0.472\n",
      "MLPR | R2: 0.640, MAE: 0.536, MSE: 0.536\n",
      "XGBR | R2: 0.649, MAE: 0.543, MSE: 0.522\n",
      "\n",
      "=======================Selected features 145/207 =======================\n",
      "RFR | R2: 0.644, MAE: 0.548, MSE: 0.530\n",
      "DTR | R2: 0.260, MAE: 0.761, MSE: 1.101\n",
      "SVR | R2: 0.687, MAE: 0.511, MSE: 0.465\n",
      "MLPR | R2: 0.636, MAE: 0.534, MSE: 0.542\n",
      "XGBR | R2: 0.676, MAE: 0.530, MSE: 0.482\n",
      "\n",
      "=======================Selected features 150/207 =======================\n",
      "RFR | R2: 0.638, MAE: 0.554, MSE: 0.538\n",
      "DTR | R2: 0.287, MAE: 0.744, MSE: 1.061\n",
      "SVR | R2: 0.679, MAE: 0.514, MSE: 0.478\n",
      "MLPR | R2: 0.631, MAE: 0.525, MSE: 0.549\n",
      "XGBR | R2: 0.657, MAE: 0.535, MSE: 0.510\n",
      "\n",
      "=======================Selected features 155/207 =======================\n",
      "RFR | R2: 0.644, MAE: 0.549, MSE: 0.530\n",
      "DTR | R2: 0.229, MAE: 0.798, MSE: 1.148\n",
      "SVR | R2: 0.690, MAE: 0.504, MSE: 0.461\n",
      "MLPR | R2: 0.620, MAE: 0.547, MSE: 0.565\n",
      "XGBR | R2: 0.663, MAE: 0.522, MSE: 0.502\n",
      "\n",
      "=======================Selected features 160/207 =======================\n",
      "RFR | R2: 0.649, MAE: 0.544, MSE: 0.523\n",
      "DTR | R2: 0.306, MAE: 0.757, MSE: 1.033\n",
      "SVR | R2: 0.686, MAE: 0.508, MSE: 0.468\n",
      "MLPR | R2: 0.579, MAE: 0.578, MSE: 0.627\n",
      "XGBR | R2: 0.659, MAE: 0.525, MSE: 0.508\n",
      "\n",
      "=======================Selected features 165/207 =======================\n",
      "RFR | R2: 0.643, MAE: 0.548, MSE: 0.531\n",
      "DTR | R2: 0.282, MAE: 0.772, MSE: 1.069\n",
      "SVR | R2: 0.682, MAE: 0.506, MSE: 0.473\n",
      "MLPR | R2: 0.628, MAE: 0.536, MSE: 0.553\n",
      "XGBR | R2: 0.649, MAE: 0.542, MSE: 0.522\n",
      "\n",
      "=======================Selected features 170/207 =======================\n",
      "RFR | R2: 0.645, MAE: 0.547, MSE: 0.528\n",
      "DTR | R2: 0.327, MAE: 0.740, MSE: 1.002\n",
      "SVR | R2: 0.679, MAE: 0.515, MSE: 0.477\n",
      "MLPR | R2: 0.646, MAE: 0.545, MSE: 0.527\n",
      "XGBR | R2: 0.648, MAE: 0.541, MSE: 0.525\n",
      "\n",
      "=======================Selected features 175/207 =======================\n",
      "RFR | R2: 0.646, MAE: 0.548, MSE: 0.527\n",
      "DTR | R2: 0.309, MAE: 0.751, MSE: 1.029\n",
      "SVR | R2: 0.690, MAE: 0.506, MSE: 0.462\n",
      "MLPR | R2: 0.634, MAE: 0.538, MSE: 0.545\n",
      "XGBR | R2: 0.655, MAE: 0.534, MSE: 0.513\n",
      "\n",
      "=======================Selected features 180/207 =======================\n",
      "RFR | R2: 0.646, MAE: 0.549, MSE: 0.527\n",
      "DTR | R2: 0.278, MAE: 0.774, MSE: 1.075\n",
      "SVR | R2: 0.688, MAE: 0.505, MSE: 0.465\n",
      "MLPR | R2: 0.648, MAE: 0.504, MSE: 0.524\n",
      "XGBR | R2: 0.666, MAE: 0.521, MSE: 0.498\n",
      "\n",
      "=======================Selected features 185/207 =======================\n",
      "RFR | R2: 0.649, MAE: 0.543, MSE: 0.522\n",
      "DTR | R2: 0.286, MAE: 0.761, MSE: 1.062\n",
      "SVR | R2: 0.690, MAE: 0.501, MSE: 0.462\n",
      "MLPR | R2: 0.635, MAE: 0.538, MSE: 0.544\n",
      "XGBR | R2: 0.660, MAE: 0.523, MSE: 0.506\n",
      "\n",
      "=======================Selected features 190/207 =======================\n",
      "RFR | R2: 0.642, MAE: 0.549, MSE: 0.534\n",
      "DTR | R2: 0.295, MAE: 0.754, MSE: 1.050\n",
      "SVR | R2: 0.678, MAE: 0.517, MSE: 0.479\n",
      "MLPR | R2: 0.700, MAE: 0.482, MSE: 0.447\n",
      "XGBR | R2: 0.663, MAE: 0.528, MSE: 0.501\n",
      "\n",
      "=======================Selected features 195/207 =======================\n",
      "RFR | R2: 0.644, MAE: 0.548, MSE: 0.531\n",
      "DTR | R2: 0.288, MAE: 0.765, MSE: 1.059\n",
      "SVR | R2: 0.687, MAE: 0.505, MSE: 0.466\n",
      "MLPR | R2: 0.611, MAE: 0.549, MSE: 0.579\n",
      "XGBR | R2: 0.662, MAE: 0.532, MSE: 0.503\n",
      "\n",
      "=======================Selected features 200/207 =======================\n",
      "RFR | R2: 0.645, MAE: 0.549, MSE: 0.529\n",
      "DTR | R2: 0.334, MAE: 0.741, MSE: 0.992\n",
      "SVR | R2: 0.687, MAE: 0.505, MSE: 0.466\n",
      "MLPR | R2: 0.630, MAE: 0.518, MSE: 0.551\n",
      "XGBR | R2: 0.659, MAE: 0.531, MSE: 0.507\n",
      "\n",
      "=======================Selected features 205/207 =======================\n",
      "RFR | R2: 0.643, MAE: 0.550, MSE: 0.531\n",
      "DTR | R2: 0.311, MAE: 0.759, MSE: 1.026\n",
      "SVR | R2: 0.689, MAE: 0.503, MSE: 0.462\n",
      "MLPR | R2: 0.619, MAE: 0.538, MSE: 0.568\n",
      "XGBR | R2: 0.651, MAE: 0.535, MSE: 0.520\n"
     ]
    }
   ],
   "source": [
    "# Apply feature selection using mutual_info_regression\n",
    "models_mir, results_mir, num_sel_feat_mir,features_mir = fs_score_fn(X_train, y_train, X_val, y_val, X_train_norm, X_val_norm, False, mutual_info_regression)"
   ]
  },
  {
   "cell_type": "code",
   "execution_count": 33,
   "id": "31bf81ef",
   "metadata": {},
   "outputs": [
    {
     "data": {
      "image/png": "[encoded data removed]",
      "text/plain": [
       "<Figure size 950x380 with 1 Axes>"
      ]
     },
     "metadata": {},
     "output_type": "display_data"
    }
   ],
   "source": [
    "# Plot scores obtained\n",
    "mse_mir, r2_mir = plot_reg_fs_metrics(num_sel_feat_mir, results_mir, \"Mutual Info Regression\")"
   ]
  },
  {
   "cell_type": "code",
   "execution_count": 34,
   "id": "ffe01e86",
   "metadata": {},
   "outputs": [],
   "source": [
    "# Selected features by MIR algorithm\n",
    "selected_features_mir = features_mir[np.argmax(r2_mir)]"
   ]
  },
  {
   "cell_type": "code",
   "execution_count": 35,
   "id": "44a0ec4f",
   "metadata": {},
   "outputs": [
    {
     "name": "stdout",
     "output_type": "stream",
     "text": [
      "{'kernel': 'rbf', 'gamma': 'auto', 'degree': 8, 'coef0': 0.01, 'C': 5}\n",
      "r2: 0.736764, mse: 0.391812, mae: 0.461887\n"
     ]
    }
   ],
   "source": [
    "# Apply randsearch to the potential model candidates with the selected features\n",
    "rnd_models_mir, metrics_rnd_mir = apply_randsearch(X_train[selected_features_mir]\n",
    "                                                        , y_train                                                       \n",
    "                                                        , X_val[selected_features_mir]\n",
    "                                                        , y_val\n",
    "                                                        , False\n",
    "                                                        , X_train_norm[selected_features_mir]\n",
    "                                                        , X_val_norm[selected_features_mir])"
   ]
  },
  {
   "cell_type": "markdown",
   "id": "e46ab445",
   "metadata": {},
   "source": [
    "## 4 - Improving the model: Manual data cleaning"
   ]
  },
  {
   "cell_type": "markdown",
   "id": "12146dd3",
   "metadata": {},
   "source": [
    "#### Pipeline\n",
    "- Remove **MolLogP** and **BCUT2D** features. \n",
    "- Remove **zero variance features**. \n",
    "- Remove **high correlated** features."
   ]
  },
  {
   "cell_type": "markdown",
   "id": "ff8b165d",
   "metadata": {},
   "source": [
    "#### 1 - Remove MolLogP, BCUT2D, and zero variance features. "
   ]
  },
  {
   "cell_type": "code",
   "execution_count": 36,
   "id": "2b6590f9",
   "metadata": {},
   "outputs": [
    {
     "name": "stdout",
     "output_type": "stream",
     "text": [
      "There are 10 columns with zero variance\n",
      "Total number of features dropped: 19\n"
     ]
    }
   ],
   "source": [
    "#Remove MolLogP, BCUT2D, and features with zero variance\n",
    "from sklearn.feature_selection import VarianceThreshold\n",
    "\n",
    "selector = VarianceThreshold()\n",
    "selector.fit(X_train)\n",
    "\n",
    "# Selector.get_support() returns a [,num_descriptors] boolean mask. False represents zero variance columns.\n",
    "zero_var_cols = [column for column in X_train.columns\n",
    "                    if column not in X_train.columns[selector.get_support()]]\n",
    "\n",
    "print('There are {} columns with zero variance'.format(len(zero_var_cols)))\n",
    "\n",
    "# As BCUT features and MolLogP may have counterproductive effects, we proceed to delete them\n",
    "zero_var_cols.extend([col for col in df.columns if 'BCUT2D' in col or 'MolLogP' in col])\n",
    "\n",
    "print('Total number of features dropped:', len(zero_var_cols))"
   ]
  },
  {
   "cell_type": "markdown",
   "id": "493f99a9",
   "metadata": {},
   "source": [
    "#### 2 - Remove high correlated features"
   ]
  },
  {
   "cell_type": "code",
   "execution_count": 37,
   "id": "cb42a5ff",
   "metadata": {},
   "outputs": [
    {
     "name": "stdout",
     "output_type": "stream",
     "text": [
      "Number of correlated features deleted: 29\n"
     ]
    }
   ],
   "source": [
    "# We drop the features with a high correlation\n",
    "\n",
    "corr = X_train.corr().abs()\n",
    "\n",
    "# Select upper triangle of correlation matrix\n",
    "upper = corr.where(np.triu(np.ones(corr.shape), k=1).astype(np.bool))\n",
    "\n",
    "# Find features with correlation greater than X\n",
    "correlated_features = [col for col in upper.columns if any(upper[col] > 0.95)]\n",
    "\n",
    "print('Number of correlated features deleted: {}'.format(len(correlated_features)))"
   ]
  },
  {
   "cell_type": "code",
   "execution_count": 38,
   "id": "807c56dc",
   "metadata": {},
   "outputs": [
    {
     "name": "stdout",
     "output_type": "stream",
     "text": [
      "Total number of remaining descriptors after the data cleaning: 159\n"
     ]
    }
   ],
   "source": [
    "# We group all the dropped features\n",
    "mc_cols = list(set(X_train.columns) - set(correlated_features + zero_var_cols))\n",
    "\n",
    "print('Total number of remaining descriptors after the data cleaning: {}'.format(len(mc_cols)))"
   ]
  },
  {
   "cell_type": "markdown",
   "id": "7f2c9f3f",
   "metadata": {},
   "source": [
    "### Models comparison after data cleaning"
   ]
  },
  {
   "cell_type": "code",
   "execution_count": 39,
   "id": "cb97ede6",
   "metadata": {
    "scrolled": false
   },
   "outputs": [
    {
     "name": "stdout",
     "output_type": "stream",
     "text": [
      "RFR | R2: 0.603, MAE: 0.580, MSE: 0.591\n",
      "DTR | R2: 0.159, MAE: 0.828, MSE: 1.252\n",
      "SVR | R2: 0.690, MAE: 0.502, MSE: 0.462\n",
      "MLPR | R2: 0.602, MAE: 0.556, MSE: 0.592\n",
      "XGBR | R2: 0.636, MAE: 0.538, MSE: 0.542\n"
     ]
    },
    {
     "data": {
      "image/png": "[encoded data removed]",
      "text/plain": [
       "<Figure size 1425x570 with 1 Axes>"
      ]
     },
     "metadata": {},
     "output_type": "display_data"
    }
   ],
   "source": [
    "models, results = models_comparison(X_train[mc_cols]\n",
    "                                    , y_train\n",
    "                                    , X_val[mc_cols]\n",
    "                                    , y_val\n",
    "                                    , False\n",
    "                                    , True\n",
    "                                    , False\n",
    "                                    , X_train_norm[mc_cols]\n",
    "                                    , X_val_norm[mc_cols])"
   ]
  },
  {
   "cell_type": "code",
   "execution_count": 41,
   "id": "ba3b8685",
   "metadata": {
    "scrolled": true
   },
   "outputs": [
    {
     "name": "stdout",
     "output_type": "stream",
     "text": [
      "{'kernel': 'rbf', 'gamma': 'auto', 'degree': 8, 'coef0': 0.01, 'C': 5}\n",
      "r2: 0.743075, mse: 0.382419, mae: 0.447705\n"
     ]
    }
   ],
   "source": [
    "rnd_models_mc, metrics_rnd_mc = apply_randsearch(X_train[mc_cols]\n",
    "                                                        , y_train                                                       \n",
    "                                                        , X_val[mc_cols]\n",
    "                                                        , y_val\n",
    "                                                        , False\n",
    "                                                        , X_train_norm[mc_cols]\n",
    "                                                        , X_val_norm[mc_cols])"
   ]
  },
  {
   "cell_type": "markdown",
   "id": "f804bb80",
   "metadata": {},
   "source": [
    "## Performance against the test set \n",
    "\n",
    "We will now see how our best model works with the unseen test set"
   ]
  },
  {
   "cell_type": "code",
   "execution_count": 77,
   "id": "0dd9c153",
   "metadata": {},
   "outputs": [],
   "source": [
    "# Save the model that better performs  \n",
    "joblib.dump(rnd_models_relieff[0], 'svr_relieff.pkl')\n",
    "\n",
    "# In case loading the model \n",
    "svr_relieff = joblib.load('svr_relieff.pkl')"
   ]
  },
  {
   "cell_type": "code",
   "execution_count": null,
   "id": "91c649f5",
   "metadata": {},
   "outputs": [],
   "source": [
    "# Predict the labels \n",
    "y_preds = svr_relieff.predict(X_test_norm[selected_features_relieff])\n",
    "\n",
    "# Plot the metrics \n",
    "get_metrics(y_preds, y_test)"
   ]
  },
  {
   "cell_type": "markdown",
   "id": "e3cad41f",
   "metadata": {},
   "source": [
    "# Ames mutagenicity \n",
    "Mutagenicity means the ability of a drug to induce genetic alterations. Drugs that can cause damage to the DNA can result in cell death or other severe adverse effects"
   ]
  },
  {
   "cell_type": "code",
   "execution_count": 109,
   "id": "7993c937",
   "metadata": {},
   "outputs": [
    {
     "name": "stderr",
     "output_type": "stream",
     "text": [
      "Found local copy...\n",
      "Loading...\n",
      "Done!\n"
     ]
    }
   ],
   "source": [
    "data = Tox(name = 'AMES')\n",
    "#DF contains the whole dataset stored in a Pandas dataframe format \n",
    "df = data.get_data()\n",
    "#Get_split divides the dataset into 3 different sets (Train, validation, test)\n",
    "split_AMES = data.get_split()"
   ]
  },
  {
   "cell_type": "code",
   "execution_count": 110,
   "id": "a15c518f",
   "metadata": {
    "scrolled": true
   },
   "outputs": [
    {
     "name": "stdout",
     "output_type": "stream",
     "text": [
      "Total number of molecules: 7278\n",
      "Train set: 5094 - 70.0%\n",
      "Validation set: 728 - 10.0%\n",
      "Test set: 1456 - 20.0%\n"
     ]
    },
    {
     "data": {
      "text/html": [
       "<div>\n",
       "<style scoped>\n",
       "    .dataframe tbody tr th:only-of-type {\n",
       "        vertical-align: middle;\n",
       "    }\n",
       "\n",
       "    .dataframe tbody tr th {\n",
       "        vertical-align: top;\n",
       "    }\n",
       "\n",
       "    .dataframe thead th {\n",
       "        text-align: right;\n",
       "    }\n",
       "</style>\n",
       "<table border=\"1\" class=\"dataframe\">\n",
       "  <thead>\n",
       "    <tr style=\"text-align: right;\">\n",
       "      <th></th>\n",
       "      <th>Drug_ID</th>\n",
       "      <th>Drug</th>\n",
       "      <th>Y</th>\n",
       "    </tr>\n",
       "  </thead>\n",
       "  <tbody>\n",
       "    <tr>\n",
       "      <th>0</th>\n",
       "      <td>Drug 1</td>\n",
       "      <td>O=[N+]([O-])c1c2c(c3ccc4cccc5ccc1c3c45)CCCC2</td>\n",
       "      <td>1</td>\n",
       "    </tr>\n",
       "    <tr>\n",
       "      <th>1</th>\n",
       "      <td>Drug 2</td>\n",
       "      <td>O=c1c2ccccc2c(=O)c2c1ccc1c2[nH]c2c3c(=O)c4cccc...</td>\n",
       "      <td>0</td>\n",
       "    </tr>\n",
       "    <tr>\n",
       "      <th>2</th>\n",
       "      <td>Drug 3</td>\n",
       "      <td>[N-]=[N+]=CC(=O)NCC(=O)NN</td>\n",
       "      <td>1</td>\n",
       "    </tr>\n",
       "    <tr>\n",
       "      <th>3</th>\n",
       "      <td>Drug 4</td>\n",
       "      <td>[N-]=[N+]=C1C=NC(=O)NC1=O</td>\n",
       "      <td>1</td>\n",
       "    </tr>\n",
       "    <tr>\n",
       "      <th>4</th>\n",
       "      <td>Drug 6</td>\n",
       "      <td>CCCCN(CC(O)C1=CC(=[N+]=[N-])C(=O)C=C1)N=O</td>\n",
       "      <td>1</td>\n",
       "    </tr>\n",
       "  </tbody>\n",
       "</table>\n",
       "</div>"
      ],
      "text/plain": [
       "  Drug_ID                                               Drug  Y\n",
       "0  Drug 1       O=[N+]([O-])c1c2c(c3ccc4cccc5ccc1c3c45)CCCC2  1\n",
       "1  Drug 2  O=c1c2ccccc2c(=O)c2c1ccc1c2[nH]c2c3c(=O)c4cccc...  0\n",
       "2  Drug 3                          [N-]=[N+]=CC(=O)NCC(=O)NN  1\n",
       "3  Drug 4                          [N-]=[N+]=C1C=NC(=O)NC1=O  1\n",
       "4  Drug 6          CCCCN(CC(O)C1=CC(=[N+]=[N-])C(=O)C=C1)N=O  1"
      ]
     },
     "metadata": {},
     "output_type": "display_data"
    }
   ],
   "source": [
    "data_overview(df, split_AMES)"
   ]
  },
  {
   "cell_type": "code",
   "execution_count": 6,
   "id": "6331fe08",
   "metadata": {},
   "outputs": [],
   "source": [
    "# Remove fragments of compounds that may contain them\n",
    "#frag_compounds = [comp for comp in df['Drug'] if len(comp.split('.')) > 1]\n",
    "#for ind, c in enumerate(frag_compounds):\n",
    "#    df.loc[df.Drug == frag_compounds[ind], 'Drug'] = frag_compounds[ind].split('.')[0]\n",
    "\n",
    "#print('Number of compounds modified:{}'.format(len(frag_compounds)))"
   ]
  },
  {
   "cell_type": "code",
   "execution_count": 111,
   "id": "a55c8a07",
   "metadata": {},
   "outputs": [
    {
     "name": "stdout",
     "output_type": "stream",
     "text": [
      "Duplicated compounds and with less than 5 heavy atoms have been removed.\n",
      "New number of compounds: 7140 (-138)\n"
     ]
    }
   ],
   "source": [
    "# Duplicates and compounds with less than 5 heavy atoms removal\n",
    "df = remove_ha_duplicates(df)"
   ]
  },
  {
   "cell_type": "code",
   "execution_count": 112,
   "id": "486033d5",
   "metadata": {},
   "outputs": [
    {
     "name": "stdout",
     "output_type": "stream",
     "text": [
      "Actual shape of the Dataframe: (7140, 211)\n"
     ]
    }
   ],
   "source": [
    "# Standardize the molecules \n",
    "df['Drug'] = [standardize_smiles(smi) for smi in df['Drug']]\n",
    "\n",
    "# Generate a list of lists where each row corresponds to a molecule and each column to a descriptor (transpose step required)\n",
    "c = [calculator.CalcDescriptors(Chem.MolFromSmiles(smi)) for smi in df['Drug']]\n",
    "\n",
    "# Convert it into a numpy array and transpose it so the columns represent the descriptors\n",
    "c = np.asarray(c).transpose()\n",
    "\n",
    "# Append all the descriptors to the DF\n",
    "for i, descriptor in enumerate(descList):\n",
    "    df[descriptor] = c[i]\n",
    "    \n",
    "#We move the target (Ames) to the end\n",
    "temp = df.pop('Y') # remove column b and store it in df1\n",
    "df['Y'] = temp\n",
    "\n",
    "print('Actual shape of the Dataframe:', df.shape)"
   ]
  },
  {
   "cell_type": "code",
   "execution_count": 113,
   "id": "2bb4693a",
   "metadata": {},
   "outputs": [
    {
     "data": {
      "text/html": [
       "<div>\n",
       "<style scoped>\n",
       "    .dataframe tbody tr th:only-of-type {\n",
       "        vertical-align: middle;\n",
       "    }\n",
       "\n",
       "    .dataframe tbody tr th {\n",
       "        vertical-align: top;\n",
       "    }\n",
       "\n",
       "    .dataframe thead th {\n",
       "        text-align: right;\n",
       "    }\n",
       "</style>\n",
       "<table border=\"1\" class=\"dataframe\">\n",
       "  <thead>\n",
       "    <tr style=\"text-align: right;\">\n",
       "      <th></th>\n",
       "      <th>Drug_ID</th>\n",
       "      <th>Drug</th>\n",
       "      <th>MaxEStateIndex</th>\n",
       "      <th>MinEStateIndex</th>\n",
       "      <th>MaxAbsEStateIndex</th>\n",
       "      <th>MinAbsEStateIndex</th>\n",
       "      <th>qed</th>\n",
       "      <th>MolWt</th>\n",
       "      <th>HeavyAtomMolWt</th>\n",
       "      <th>ExactMolWt</th>\n",
       "      <th>NumValenceElectrons</th>\n",
       "      <th>NumRadicalElectrons</th>\n",
       "      <th>MaxPartialCharge</th>\n",
       "      <th>MinPartialCharge</th>\n",
       "      <th>MaxAbsPartialCharge</th>\n",
       "      <th>MinAbsPartialCharge</th>\n",
       "      <th>FpDensityMorgan1</th>\n",
       "      <th>FpDensityMorgan2</th>\n",
       "      <th>FpDensityMorgan3</th>\n",
       "      <th>BCUT2D_MWHI</th>\n",
       "      <th>BCUT2D_MWLOW</th>\n",
       "      <th>BCUT2D_CHGHI</th>\n",
       "      <th>BCUT2D_CHGLO</th>\n",
       "      <th>BCUT2D_LOGPHI</th>\n",
       "      <th>BCUT2D_LOGPLOW</th>\n",
       "      <th>BCUT2D_MRHI</th>\n",
       "      <th>BCUT2D_MRLOW</th>\n",
       "      <th>BalabanJ</th>\n",
       "      <th>BertzCT</th>\n",
       "      <th>Chi0</th>\n",
       "      <th>Chi0n</th>\n",
       "      <th>Chi0v</th>\n",
       "      <th>Chi1</th>\n",
       "      <th>Chi1n</th>\n",
       "      <th>Chi1v</th>\n",
       "      <th>Chi2n</th>\n",
       "      <th>Chi2v</th>\n",
       "      <th>Chi3n</th>\n",
       "      <th>Chi3v</th>\n",
       "      <th>Chi4n</th>\n",
       "      <th>Chi4v</th>\n",
       "      <th>HallKierAlpha</th>\n",
       "      <th>Ipc</th>\n",
       "      <th>Kappa1</th>\n",
       "      <th>Kappa2</th>\n",
       "      <th>Kappa3</th>\n",
       "      <th>LabuteASA</th>\n",
       "      <th>PEOE_VSA1</th>\n",
       "      <th>PEOE_VSA10</th>\n",
       "      <th>PEOE_VSA11</th>\n",
       "      <th>PEOE_VSA12</th>\n",
       "      <th>PEOE_VSA13</th>\n",
       "      <th>PEOE_VSA14</th>\n",
       "      <th>PEOE_VSA2</th>\n",
       "      <th>PEOE_VSA3</th>\n",
       "      <th>PEOE_VSA4</th>\n",
       "      <th>PEOE_VSA5</th>\n",
       "      <th>PEOE_VSA6</th>\n",
       "      <th>PEOE_VSA7</th>\n",
       "      <th>PEOE_VSA8</th>\n",
       "      <th>PEOE_VSA9</th>\n",
       "      <th>SMR_VSA1</th>\n",
       "      <th>SMR_VSA10</th>\n",
       "      <th>SMR_VSA2</th>\n",
       "      <th>SMR_VSA3</th>\n",
       "      <th>SMR_VSA4</th>\n",
       "      <th>SMR_VSA5</th>\n",
       "      <th>SMR_VSA6</th>\n",
       "      <th>SMR_VSA7</th>\n",
       "      <th>SMR_VSA8</th>\n",
       "      <th>SMR_VSA9</th>\n",
       "      <th>SlogP_VSA1</th>\n",
       "      <th>SlogP_VSA10</th>\n",
       "      <th>SlogP_VSA11</th>\n",
       "      <th>SlogP_VSA12</th>\n",
       "      <th>SlogP_VSA2</th>\n",
       "      <th>SlogP_VSA3</th>\n",
       "      <th>SlogP_VSA4</th>\n",
       "      <th>SlogP_VSA5</th>\n",
       "      <th>SlogP_VSA6</th>\n",
       "      <th>SlogP_VSA7</th>\n",
       "      <th>SlogP_VSA8</th>\n",
       "      <th>SlogP_VSA9</th>\n",
       "      <th>TPSA</th>\n",
       "      <th>EState_VSA1</th>\n",
       "      <th>EState_VSA10</th>\n",
       "      <th>EState_VSA11</th>\n",
       "      <th>EState_VSA2</th>\n",
       "      <th>EState_VSA3</th>\n",
       "      <th>EState_VSA4</th>\n",
       "      <th>EState_VSA5</th>\n",
       "      <th>EState_VSA6</th>\n",
       "      <th>EState_VSA7</th>\n",
       "      <th>EState_VSA8</th>\n",
       "      <th>EState_VSA9</th>\n",
       "      <th>VSA_EState1</th>\n",
       "      <th>VSA_EState10</th>\n",
       "      <th>VSA_EState2</th>\n",
       "      <th>VSA_EState3</th>\n",
       "      <th>VSA_EState4</th>\n",
       "      <th>VSA_EState5</th>\n",
       "      <th>VSA_EState6</th>\n",
       "      <th>VSA_EState7</th>\n",
       "      <th>VSA_EState8</th>\n",
       "      <th>VSA_EState9</th>\n",
       "      <th>FractionCSP3</th>\n",
       "      <th>HeavyAtomCount</th>\n",
       "      <th>NHOHCount</th>\n",
       "      <th>NOCount</th>\n",
       "      <th>NumAliphaticCarbocycles</th>\n",
       "      <th>NumAliphaticHeterocycles</th>\n",
       "      <th>NumAliphaticRings</th>\n",
       "      <th>NumAromaticCarbocycles</th>\n",
       "      <th>NumAromaticHeterocycles</th>\n",
       "      <th>NumAromaticRings</th>\n",
       "      <th>NumHAcceptors</th>\n",
       "      <th>NumHDonors</th>\n",
       "      <th>NumHeteroatoms</th>\n",
       "      <th>NumRotatableBonds</th>\n",
       "      <th>NumSaturatedCarbocycles</th>\n",
       "      <th>NumSaturatedHeterocycles</th>\n",
       "      <th>NumSaturatedRings</th>\n",
       "      <th>RingCount</th>\n",
       "      <th>MolLogP</th>\n",
       "      <th>MolMR</th>\n",
       "      <th>fr_Al_COO</th>\n",
       "      <th>fr_Al_OH</th>\n",
       "      <th>fr_Al_OH_noTert</th>\n",
       "      <th>fr_ArN</th>\n",
       "      <th>fr_Ar_COO</th>\n",
       "      <th>fr_Ar_N</th>\n",
       "      <th>fr_Ar_NH</th>\n",
       "      <th>fr_Ar_OH</th>\n",
       "      <th>fr_COO</th>\n",
       "      <th>fr_COO2</th>\n",
       "      <th>fr_C_O</th>\n",
       "      <th>fr_C_O_noCOO</th>\n",
       "      <th>fr_C_S</th>\n",
       "      <th>fr_HOCCN</th>\n",
       "      <th>fr_Imine</th>\n",
       "      <th>fr_NH0</th>\n",
       "      <th>fr_NH1</th>\n",
       "      <th>fr_NH2</th>\n",
       "      <th>fr_N_O</th>\n",
       "      <th>fr_Ndealkylation1</th>\n",
       "      <th>fr_Ndealkylation2</th>\n",
       "      <th>fr_Nhpyrrole</th>\n",
       "      <th>fr_SH</th>\n",
       "      <th>fr_aldehyde</th>\n",
       "      <th>fr_alkyl_carbamate</th>\n",
       "      <th>fr_alkyl_halide</th>\n",
       "      <th>fr_allylic_oxid</th>\n",
       "      <th>fr_amide</th>\n",
       "      <th>fr_amidine</th>\n",
       "      <th>fr_aniline</th>\n",
       "      <th>fr_aryl_methyl</th>\n",
       "      <th>fr_azide</th>\n",
       "      <th>fr_azo</th>\n",
       "      <th>fr_barbitur</th>\n",
       "      <th>fr_benzene</th>\n",
       "      <th>fr_benzodiazepine</th>\n",
       "      <th>fr_bicyclic</th>\n",
       "      <th>fr_diazo</th>\n",
       "      <th>fr_dihydropyridine</th>\n",
       "      <th>fr_epoxide</th>\n",
       "      <th>fr_ester</th>\n",
       "      <th>fr_ether</th>\n",
       "      <th>fr_furan</th>\n",
       "      <th>fr_guanido</th>\n",
       "      <th>fr_halogen</th>\n",
       "      <th>fr_hdrzine</th>\n",
       "      <th>fr_hdrzone</th>\n",
       "      <th>fr_imidazole</th>\n",
       "      <th>fr_imide</th>\n",
       "      <th>fr_isocyan</th>\n",
       "      <th>fr_isothiocyan</th>\n",
       "      <th>fr_ketone</th>\n",
       "      <th>fr_ketone_Topliss</th>\n",
       "      <th>fr_lactam</th>\n",
       "      <th>fr_lactone</th>\n",
       "      <th>fr_methoxy</th>\n",
       "      <th>fr_morpholine</th>\n",
       "      <th>fr_nitrile</th>\n",
       "      <th>fr_nitro</th>\n",
       "      <th>fr_nitro_arom</th>\n",
       "      <th>fr_nitro_arom_nonortho</th>\n",
       "      <th>fr_nitroso</th>\n",
       "      <th>fr_oxazole</th>\n",
       "      <th>fr_oxime</th>\n",
       "      <th>fr_para_hydroxylation</th>\n",
       "      <th>fr_phenol</th>\n",
       "      <th>fr_phenol_noOrthoHbond</th>\n",
       "      <th>fr_phos_acid</th>\n",
       "      <th>fr_phos_ester</th>\n",
       "      <th>fr_piperdine</th>\n",
       "      <th>fr_piperzine</th>\n",
       "      <th>fr_priamide</th>\n",
       "      <th>fr_prisulfonamd</th>\n",
       "      <th>fr_pyridine</th>\n",
       "      <th>fr_quatN</th>\n",
       "      <th>fr_sulfide</th>\n",
       "      <th>fr_sulfonamd</th>\n",
       "      <th>fr_sulfone</th>\n",
       "      <th>fr_term_acetylene</th>\n",
       "      <th>fr_tetrazole</th>\n",
       "      <th>fr_thiazole</th>\n",
       "      <th>fr_thiocyan</th>\n",
       "      <th>fr_thiophene</th>\n",
       "      <th>fr_unbrch_alkane</th>\n",
       "      <th>fr_urea</th>\n",
       "      <th>Y</th>\n",
       "    </tr>\n",
       "  </thead>\n",
       "  <tbody>\n",
       "    <tr>\n",
       "      <th>0</th>\n",
       "      <td>Drug 0</td>\n",
       "      <td>O=[N+]([O-])c1ccc2ccc3ccc([N+](=O)[O-])c4c5ccc...</td>\n",
       "      <td>11.663401</td>\n",
       "      <td>-0.396099</td>\n",
       "      <td>11.663401</td>\n",
       "      <td>0.008895</td>\n",
       "      <td>0.181963</td>\n",
       "      <td>342.310</td>\n",
       "      <td>332.230</td>\n",
       "      <td>342.064057</td>\n",
       "      <td>124.0</td>\n",
       "      <td>0.0</td>\n",
       "      <td>0.277383</td>\n",
       "      <td>-0.258290</td>\n",
       "      <td>0.277383</td>\n",
       "      <td>0.258290</td>\n",
       "      <td>0.538462</td>\n",
       "      <td>0.923077</td>\n",
       "      <td>1.307692</td>\n",
       "      <td>16.631769</td>\n",
       "      <td>9.878024</td>\n",
       "      <td>2.243219</td>\n",
       "      <td>-2.142638</td>\n",
       "      <td>2.460575</td>\n",
       "      <td>-1.957799</td>\n",
       "      <td>6.364064</td>\n",
       "      <td>-0.382738</td>\n",
       "      <td>2.267149</td>\n",
       "      <td>1284.790209</td>\n",
       "      <td>17.999271</td>\n",
       "      <td>13.300923</td>\n",
       "      <td>13.300923</td>\n",
       "      <td>12.575387</td>\n",
       "      <td>7.986911</td>\n",
       "      <td>7.986911</td>\n",
       "      <td>6.240968</td>\n",
       "      <td>6.240968</td>\n",
       "      <td>4.982737</td>\n",
       "      <td>4.982737</td>\n",
       "      <td>3.980293</td>\n",
       "      <td>3.980293</td>\n",
       "      <td>-3.80</td>\n",
       "      <td>1.358228e+06</td>\n",
       "      <td>14.535237</td>\n",
       "      <td>4.857510</td>\n",
       "      <td>1.699174</td>\n",
       "      <td>145.443038</td>\n",
       "      <td>0.000000</td>\n",
       "      <td>0.000000</td>\n",
       "      <td>0.000000</td>\n",
       "      <td>0.0</td>\n",
       "      <td>11.374773</td>\n",
       "      <td>0.000000</td>\n",
       "      <td>20.228637</td>\n",
       "      <td>0.000000</td>\n",
       "      <td>0.000000</td>\n",
       "      <td>0.0</td>\n",
       "      <td>36.398202</td>\n",
       "      <td>33.677631</td>\n",
       "      <td>22.905183</td>\n",
       "      <td>20.619071</td>\n",
       "      <td>9.846622</td>\n",
       "      <td>54.464566</td>\n",
       "      <td>0.0</td>\n",
       "      <td>0.000000</td>\n",
       "      <td>0.000000</td>\n",
       "      <td>0.000000</td>\n",
       "      <td>0.000000</td>\n",
       "      <td>80.892307</td>\n",
       "      <td>0.0</td>\n",
       "      <td>0.0</td>\n",
       "      <td>0.000000</td>\n",
       "      <td>11.374773</td>\n",
       "      <td>0.0</td>\n",
       "      <td>0.0</td>\n",
       "      <td>9.846622</td>\n",
       "      <td>0.000000</td>\n",
       "      <td>20.228637</td>\n",
       "      <td>0.000000</td>\n",
       "      <td>60.663671</td>\n",
       "      <td>0.0</td>\n",
       "      <td>43.089794</td>\n",
       "      <td>0.0</td>\n",
       "      <td>86.28</td>\n",
       "      <td>9.846622</td>\n",
       "      <td>20.228637</td>\n",
       "      <td>0.0</td>\n",
       "      <td>11.374773</td>\n",
       "      <td>32.317345</td>\n",
       "      <td>10.772448</td>\n",
       "      <td>12.132734</td>\n",
       "      <td>36.398202</td>\n",
       "      <td>12.132734</td>\n",
       "      <td>0.000000</td>\n",
       "      <td>0.000000</td>\n",
       "      <td>0.0</td>\n",
       "      <td>0.0</td>\n",
       "      <td>22.534604</td>\n",
       "      <td>28.751336</td>\n",
       "      <td>0.017789</td>\n",
       "      <td>0.000000</td>\n",
       "      <td>17.362937</td>\n",
       "      <td>0.000000</td>\n",
       "      <td>0.000000</td>\n",
       "      <td>0.0</td>\n",
       "      <td>0.00</td>\n",
       "      <td>26.0</td>\n",
       "      <td>0.0</td>\n",
       "      <td>6.0</td>\n",
       "      <td>0.0</td>\n",
       "      <td>0.0</td>\n",
       "      <td>0.0</td>\n",
       "      <td>5.0</td>\n",
       "      <td>0.0</td>\n",
       "      <td>5.0</td>\n",
       "      <td>4.0</td>\n",
       "      <td>0.0</td>\n",
       "      <td>6.0</td>\n",
       "      <td>2.0</td>\n",
       "      <td>0.0</td>\n",
       "      <td>0.0</td>\n",
       "      <td>0.0</td>\n",
       "      <td>5.0</td>\n",
       "      <td>5.5536</td>\n",
       "      <td>100.9608</td>\n",
       "      <td>0.0</td>\n",
       "      <td>0.0</td>\n",
       "      <td>0.0</td>\n",
       "      <td>0.0</td>\n",
       "      <td>0.0</td>\n",
       "      <td>0.0</td>\n",
       "      <td>0.0</td>\n",
       "      <td>0.0</td>\n",
       "      <td>0.0</td>\n",
       "      <td>0.0</td>\n",
       "      <td>0.0</td>\n",
       "      <td>0.0</td>\n",
       "      <td>0.0</td>\n",
       "      <td>0.0</td>\n",
       "      <td>0.0</td>\n",
       "      <td>2.0</td>\n",
       "      <td>0.0</td>\n",
       "      <td>0.0</td>\n",
       "      <td>0.0</td>\n",
       "      <td>0.0</td>\n",
       "      <td>0.0</td>\n",
       "      <td>0.0</td>\n",
       "      <td>0.0</td>\n",
       "      <td>0.0</td>\n",
       "      <td>0.0</td>\n",
       "      <td>0.0</td>\n",
       "      <td>0.0</td>\n",
       "      <td>0.0</td>\n",
       "      <td>0.0</td>\n",
       "      <td>0.0</td>\n",
       "      <td>0.0</td>\n",
       "      <td>0.0</td>\n",
       "      <td>0.0</td>\n",
       "      <td>0.0</td>\n",
       "      <td>5.0</td>\n",
       "      <td>0.0</td>\n",
       "      <td>3.0</td>\n",
       "      <td>0.0</td>\n",
       "      <td>0.0</td>\n",
       "      <td>0.0</td>\n",
       "      <td>0.0</td>\n",
       "      <td>0.0</td>\n",
       "      <td>0.0</td>\n",
       "      <td>0.0</td>\n",
       "      <td>0.0</td>\n",
       "      <td>0.0</td>\n",
       "      <td>0.0</td>\n",
       "      <td>0.0</td>\n",
       "      <td>0.0</td>\n",
       "      <td>0.0</td>\n",
       "      <td>0.0</td>\n",
       "      <td>0.0</td>\n",
       "      <td>0.0</td>\n",
       "      <td>0.0</td>\n",
       "      <td>0.0</td>\n",
       "      <td>0.0</td>\n",
       "      <td>0.0</td>\n",
       "      <td>0.0</td>\n",
       "      <td>2.0</td>\n",
       "      <td>2.0</td>\n",
       "      <td>2.0</td>\n",
       "      <td>0.0</td>\n",
       "      <td>0.0</td>\n",
       "      <td>0.0</td>\n",
       "      <td>0.0</td>\n",
       "      <td>0.0</td>\n",
       "      <td>0.0</td>\n",
       "      <td>0.0</td>\n",
       "      <td>0.0</td>\n",
       "      <td>0.0</td>\n",
       "      <td>0.0</td>\n",
       "      <td>0.0</td>\n",
       "      <td>0.0</td>\n",
       "      <td>0.0</td>\n",
       "      <td>0.0</td>\n",
       "      <td>0.0</td>\n",
       "      <td>0.0</td>\n",
       "      <td>0.0</td>\n",
       "      <td>0.0</td>\n",
       "      <td>0.0</td>\n",
       "      <td>0.0</td>\n",
       "      <td>0.0</td>\n",
       "      <td>0.0</td>\n",
       "      <td>0.0</td>\n",
       "      <td>0.0</td>\n",
       "      <td>1</td>\n",
       "    </tr>\n",
       "    <tr>\n",
       "      <th>1</th>\n",
       "      <td>Drug 1</td>\n",
       "      <td>O=[N+]([O-])c1c2c(c3ccc4cccc5ccc1c3c45)CCCC2</td>\n",
       "      <td>11.824743</td>\n",
       "      <td>-0.170602</td>\n",
       "      <td>11.824743</td>\n",
       "      <td>0.170602</td>\n",
       "      <td>0.269289</td>\n",
       "      <td>301.345</td>\n",
       "      <td>286.225</td>\n",
       "      <td>301.110279</td>\n",
       "      <td>112.0</td>\n",
       "      <td>0.0</td>\n",
       "      <td>0.280182</td>\n",
       "      <td>-0.258281</td>\n",
       "      <td>0.280182</td>\n",
       "      <td>0.258281</td>\n",
       "      <td>0.782609</td>\n",
       "      <td>1.434783</td>\n",
       "      <td>2.130435</td>\n",
       "      <td>16.628431</td>\n",
       "      <td>9.821377</td>\n",
       "      <td>2.272279</td>\n",
       "      <td>-2.209454</td>\n",
       "      <td>2.443384</td>\n",
       "      <td>-2.080122</td>\n",
       "      <td>6.253369</td>\n",
       "      <td>-0.383375</td>\n",
       "      <td>2.126255</td>\n",
       "      <td>1081.625979</td>\n",
       "      <td>15.551677</td>\n",
       "      <td>12.633589</td>\n",
       "      <td>12.633589</td>\n",
       "      <td>11.254020</td>\n",
       "      <td>8.111246</td>\n",
       "      <td>8.111246</td>\n",
       "      <td>6.450414</td>\n",
       "      <td>6.450414</td>\n",
       "      <td>5.293200</td>\n",
       "      <td>5.293200</td>\n",
       "      <td>4.366351</td>\n",
       "      <td>4.366351</td>\n",
       "      <td>-2.68</td>\n",
       "      <td>3.795956e+05</td>\n",
       "      <td>12.823625</td>\n",
       "      <td>4.415776</td>\n",
       "      <td>1.592870</td>\n",
       "      <td>132.562335</td>\n",
       "      <td>0.000000</td>\n",
       "      <td>0.000000</td>\n",
       "      <td>0.000000</td>\n",
       "      <td>0.0</td>\n",
       "      <td>5.687386</td>\n",
       "      <td>0.000000</td>\n",
       "      <td>10.114318</td>\n",
       "      <td>0.000000</td>\n",
       "      <td>0.000000</td>\n",
       "      <td>0.0</td>\n",
       "      <td>36.398202</td>\n",
       "      <td>58.858002</td>\n",
       "      <td>10.949676</td>\n",
       "      <td>10.309535</td>\n",
       "      <td>4.923311</td>\n",
       "      <td>38.004732</td>\n",
       "      <td>0.0</td>\n",
       "      <td>0.000000</td>\n",
       "      <td>0.000000</td>\n",
       "      <td>25.683286</td>\n",
       "      <td>0.000000</td>\n",
       "      <td>63.705791</td>\n",
       "      <td>0.0</td>\n",
       "      <td>0.0</td>\n",
       "      <td>0.000000</td>\n",
       "      <td>5.687386</td>\n",
       "      <td>0.0</td>\n",
       "      <td>0.0</td>\n",
       "      <td>4.923311</td>\n",
       "      <td>12.841643</td>\n",
       "      <td>10.114318</td>\n",
       "      <td>23.968546</td>\n",
       "      <td>42.464569</td>\n",
       "      <td>0.0</td>\n",
       "      <td>32.317345</td>\n",
       "      <td>0.0</td>\n",
       "      <td>43.14</td>\n",
       "      <td>0.000000</td>\n",
       "      <td>10.114318</td>\n",
       "      <td>0.0</td>\n",
       "      <td>4.923311</td>\n",
       "      <td>5.687386</td>\n",
       "      <td>52.791635</td>\n",
       "      <td>16.335900</td>\n",
       "      <td>0.000000</td>\n",
       "      <td>18.199101</td>\n",
       "      <td>24.265468</td>\n",
       "      <td>0.000000</td>\n",
       "      <td>0.0</td>\n",
       "      <td>0.0</td>\n",
       "      <td>11.654141</td>\n",
       "      <td>18.396769</td>\n",
       "      <td>2.505822</td>\n",
       "      <td>0.000000</td>\n",
       "      <td>14.510820</td>\n",
       "      <td>3.932449</td>\n",
       "      <td>0.000000</td>\n",
       "      <td>0.0</td>\n",
       "      <td>0.20</td>\n",
       "      <td>23.0</td>\n",
       "      <td>0.0</td>\n",
       "      <td>3.0</td>\n",
       "      <td>1.0</td>\n",
       "      <td>0.0</td>\n",
       "      <td>1.0</td>\n",
       "      <td>4.0</td>\n",
       "      <td>0.0</td>\n",
       "      <td>4.0</td>\n",
       "      <td>2.0</td>\n",
       "      <td>0.0</td>\n",
       "      <td>3.0</td>\n",
       "      <td>1.0</td>\n",
       "      <td>0.0</td>\n",
       "      <td>0.0</td>\n",
       "      <td>0.0</td>\n",
       "      <td>5.0</td>\n",
       "      <td>5.3710</td>\n",
       "      <td>93.4424</td>\n",
       "      <td>0.0</td>\n",
       "      <td>0.0</td>\n",
       "      <td>0.0</td>\n",
       "      <td>0.0</td>\n",
       "      <td>0.0</td>\n",
       "      <td>0.0</td>\n",
       "      <td>0.0</td>\n",
       "      <td>0.0</td>\n",
       "      <td>0.0</td>\n",
       "      <td>0.0</td>\n",
       "      <td>0.0</td>\n",
       "      <td>0.0</td>\n",
       "      <td>0.0</td>\n",
       "      <td>0.0</td>\n",
       "      <td>0.0</td>\n",
       "      <td>1.0</td>\n",
       "      <td>0.0</td>\n",
       "      <td>0.0</td>\n",
       "      <td>0.0</td>\n",
       "      <td>0.0</td>\n",
       "      <td>0.0</td>\n",
       "      <td>0.0</td>\n",
       "      <td>0.0</td>\n",
       "      <td>0.0</td>\n",
       "      <td>0.0</td>\n",
       "      <td>0.0</td>\n",
       "      <td>0.0</td>\n",
       "      <td>0.0</td>\n",
       "      <td>0.0</td>\n",
       "      <td>0.0</td>\n",
       "      <td>1.0</td>\n",
       "      <td>0.0</td>\n",
       "      <td>0.0</td>\n",
       "      <td>0.0</td>\n",
       "      <td>4.0</td>\n",
       "      <td>0.0</td>\n",
       "      <td>2.0</td>\n",
       "      <td>0.0</td>\n",
       "      <td>0.0</td>\n",
       "      <td>0.0</td>\n",
       "      <td>0.0</td>\n",
       "      <td>0.0</td>\n",
       "      <td>0.0</td>\n",
       "      <td>0.0</td>\n",
       "      <td>0.0</td>\n",
       "      <td>0.0</td>\n",
       "      <td>0.0</td>\n",
       "      <td>0.0</td>\n",
       "      <td>0.0</td>\n",
       "      <td>0.0</td>\n",
       "      <td>0.0</td>\n",
       "      <td>0.0</td>\n",
       "      <td>0.0</td>\n",
       "      <td>0.0</td>\n",
       "      <td>0.0</td>\n",
       "      <td>0.0</td>\n",
       "      <td>0.0</td>\n",
       "      <td>0.0</td>\n",
       "      <td>1.0</td>\n",
       "      <td>1.0</td>\n",
       "      <td>0.0</td>\n",
       "      <td>0.0</td>\n",
       "      <td>0.0</td>\n",
       "      <td>0.0</td>\n",
       "      <td>0.0</td>\n",
       "      <td>0.0</td>\n",
       "      <td>0.0</td>\n",
       "      <td>0.0</td>\n",
       "      <td>0.0</td>\n",
       "      <td>0.0</td>\n",
       "      <td>0.0</td>\n",
       "      <td>0.0</td>\n",
       "      <td>0.0</td>\n",
       "      <td>0.0</td>\n",
       "      <td>0.0</td>\n",
       "      <td>0.0</td>\n",
       "      <td>0.0</td>\n",
       "      <td>0.0</td>\n",
       "      <td>0.0</td>\n",
       "      <td>0.0</td>\n",
       "      <td>0.0</td>\n",
       "      <td>0.0</td>\n",
       "      <td>0.0</td>\n",
       "      <td>0.0</td>\n",
       "      <td>0.0</td>\n",
       "      <td>1</td>\n",
       "    </tr>\n",
       "    <tr>\n",
       "      <th>2</th>\n",
       "      <td>Drug 2</td>\n",
       "      <td>O=c1c2ccccc2c(=O)c2c1ccc1c2[nH]c2c3c(=O)c4cccc...</td>\n",
       "      <td>14.431073</td>\n",
       "      <td>-0.378575</td>\n",
       "      <td>14.431073</td>\n",
       "      <td>0.128988</td>\n",
       "      <td>0.184582</td>\n",
       "      <td>646.614</td>\n",
       "      <td>628.470</td>\n",
       "      <td>646.116486</td>\n",
       "      <td>232.0</td>\n",
       "      <td>0.0</td>\n",
       "      <td>0.196213</td>\n",
       "      <td>-0.353239</td>\n",
       "      <td>0.353239</td>\n",
       "      <td>0.196213</td>\n",
       "      <td>0.240000</td>\n",
       "      <td>0.520000</td>\n",
       "      <td>0.860000</td>\n",
       "      <td>16.143132</td>\n",
       "      <td>9.940471</td>\n",
       "      <td>2.259153</td>\n",
       "      <td>-2.054884</td>\n",
       "      <td>2.426829</td>\n",
       "      <td>-2.135155</td>\n",
       "      <td>6.392340</td>\n",
       "      <td>1.549090</td>\n",
       "      <td>1.489526</td>\n",
       "      <td>3545.358079</td>\n",
       "      <td>33.739029</td>\n",
       "      <td>25.687094</td>\n",
       "      <td>25.687094</td>\n",
       "      <td>24.346244</td>\n",
       "      <td>16.028163</td>\n",
       "      <td>16.028163</td>\n",
       "      <td>12.932863</td>\n",
       "      <td>12.932863</td>\n",
       "      <td>10.595806</td>\n",
       "      <td>10.595806</td>\n",
       "      <td>8.440806</td>\n",
       "      <td>8.440806</td>\n",
       "      <td>-7.06</td>\n",
       "      <td>7.842002e+11</td>\n",
       "      <td>26.949519</td>\n",
       "      <td>8.886482</td>\n",
       "      <td>2.983958</td>\n",
       "      <td>275.635502</td>\n",
       "      <td>9.967957</td>\n",
       "      <td>0.000000</td>\n",
       "      <td>32.572742</td>\n",
       "      <td>0.0</td>\n",
       "      <td>0.000000</td>\n",
       "      <td>0.000000</td>\n",
       "      <td>28.767223</td>\n",
       "      <td>0.000000</td>\n",
       "      <td>0.000000</td>\n",
       "      <td>0.0</td>\n",
       "      <td>84.929139</td>\n",
       "      <td>12.132734</td>\n",
       "      <td>64.634691</td>\n",
       "      <td>43.611700</td>\n",
       "      <td>0.000000</td>\n",
       "      <td>108.246390</td>\n",
       "      <td>0.0</td>\n",
       "      <td>9.967957</td>\n",
       "      <td>0.000000</td>\n",
       "      <td>0.000000</td>\n",
       "      <td>0.000000</td>\n",
       "      <td>158.401839</td>\n",
       "      <td>0.0</td>\n",
       "      <td>0.0</td>\n",
       "      <td>32.572742</td>\n",
       "      <td>0.000000</td>\n",
       "      <td>0.0</td>\n",
       "      <td>0.0</td>\n",
       "      <td>9.967957</td>\n",
       "      <td>0.000000</td>\n",
       "      <td>0.000000</td>\n",
       "      <td>0.000000</td>\n",
       "      <td>125.829096</td>\n",
       "      <td>0.0</td>\n",
       "      <td>108.246390</td>\n",
       "      <td>0.0</td>\n",
       "      <td>134.00</td>\n",
       "      <td>0.000000</td>\n",
       "      <td>28.767223</td>\n",
       "      <td>0.0</td>\n",
       "      <td>86.434984</td>\n",
       "      <td>54.384148</td>\n",
       "      <td>0.000000</td>\n",
       "      <td>0.000000</td>\n",
       "      <td>97.061873</td>\n",
       "      <td>0.000000</td>\n",
       "      <td>9.967957</td>\n",
       "      <td>0.000000</td>\n",
       "      <td>0.0</td>\n",
       "      <td>0.0</td>\n",
       "      <td>91.118497</td>\n",
       "      <td>5.050742</td>\n",
       "      <td>-0.577214</td>\n",
       "      <td>0.000000</td>\n",
       "      <td>26.741309</td>\n",
       "      <td>0.000000</td>\n",
       "      <td>0.000000</td>\n",
       "      <td>0.0</td>\n",
       "      <td>0.00</td>\n",
       "      <td>50.0</td>\n",
       "      <td>2.0</td>\n",
       "      <td>8.0</td>\n",
       "      <td>0.0</td>\n",
       "      <td>0.0</td>\n",
       "      <td>0.0</td>\n",
       "      <td>9.0</td>\n",
       "      <td>2.0</td>\n",
       "      <td>11.0</td>\n",
       "      <td>6.0</td>\n",
       "      <td>2.0</td>\n",
       "      <td>8.0</td>\n",
       "      <td>0.0</td>\n",
       "      <td>0.0</td>\n",
       "      <td>0.0</td>\n",
       "      <td>0.0</td>\n",
       "      <td>11.0</td>\n",
       "      <td>6.3494</td>\n",
       "      <td>201.3814</td>\n",
       "      <td>0.0</td>\n",
       "      <td>0.0</td>\n",
       "      <td>0.0</td>\n",
       "      <td>0.0</td>\n",
       "      <td>0.0</td>\n",
       "      <td>2.0</td>\n",
       "      <td>2.0</td>\n",
       "      <td>0.0</td>\n",
       "      <td>0.0</td>\n",
       "      <td>0.0</td>\n",
       "      <td>0.0</td>\n",
       "      <td>0.0</td>\n",
       "      <td>0.0</td>\n",
       "      <td>0.0</td>\n",
       "      <td>0.0</td>\n",
       "      <td>0.0</td>\n",
       "      <td>2.0</td>\n",
       "      <td>0.0</td>\n",
       "      <td>0.0</td>\n",
       "      <td>0.0</td>\n",
       "      <td>0.0</td>\n",
       "      <td>2.0</td>\n",
       "      <td>0.0</td>\n",
       "      <td>0.0</td>\n",
       "      <td>0.0</td>\n",
       "      <td>0.0</td>\n",
       "      <td>0.0</td>\n",
       "      <td>0.0</td>\n",
       "      <td>0.0</td>\n",
       "      <td>0.0</td>\n",
       "      <td>0.0</td>\n",
       "      <td>0.0</td>\n",
       "      <td>0.0</td>\n",
       "      <td>0.0</td>\n",
       "      <td>9.0</td>\n",
       "      <td>0.0</td>\n",
       "      <td>17.0</td>\n",
       "      <td>0.0</td>\n",
       "      <td>0.0</td>\n",
       "      <td>0.0</td>\n",
       "      <td>0.0</td>\n",
       "      <td>0.0</td>\n",
       "      <td>0.0</td>\n",
       "      <td>0.0</td>\n",
       "      <td>0.0</td>\n",
       "      <td>0.0</td>\n",
       "      <td>0.0</td>\n",
       "      <td>0.0</td>\n",
       "      <td>0.0</td>\n",
       "      <td>0.0</td>\n",
       "      <td>0.0</td>\n",
       "      <td>0.0</td>\n",
       "      <td>0.0</td>\n",
       "      <td>0.0</td>\n",
       "      <td>0.0</td>\n",
       "      <td>0.0</td>\n",
       "      <td>0.0</td>\n",
       "      <td>0.0</td>\n",
       "      <td>0.0</td>\n",
       "      <td>0.0</td>\n",
       "      <td>0.0</td>\n",
       "      <td>0.0</td>\n",
       "      <td>0.0</td>\n",
       "      <td>0.0</td>\n",
       "      <td>0.0</td>\n",
       "      <td>0.0</td>\n",
       "      <td>0.0</td>\n",
       "      <td>0.0</td>\n",
       "      <td>0.0</td>\n",
       "      <td>0.0</td>\n",
       "      <td>0.0</td>\n",
       "      <td>0.0</td>\n",
       "      <td>0.0</td>\n",
       "      <td>0.0</td>\n",
       "      <td>0.0</td>\n",
       "      <td>0.0</td>\n",
       "      <td>0.0</td>\n",
       "      <td>0.0</td>\n",
       "      <td>0.0</td>\n",
       "      <td>0.0</td>\n",
       "      <td>0.0</td>\n",
       "      <td>0.0</td>\n",
       "      <td>0.0</td>\n",
       "      <td>0.0</td>\n",
       "      <td>0.0</td>\n",
       "      <td>0</td>\n",
       "    </tr>\n",
       "    <tr>\n",
       "      <th>3</th>\n",
       "      <td>Drug 3</td>\n",
       "      <td>[N-]=[N+]=CC(=O)NCC(=O)NN</td>\n",
       "      <td>10.422197</td>\n",
       "      <td>-0.670278</td>\n",
       "      <td>10.422197</td>\n",
       "      <td>0.248657</td>\n",
       "      <td>0.103849</td>\n",
       "      <td>157.133</td>\n",
       "      <td>150.077</td>\n",
       "      <td>157.059974</td>\n",
       "      <td>60.0</td>\n",
       "      <td>0.0</td>\n",
       "      <td>0.344124</td>\n",
       "      <td>-0.361291</td>\n",
       "      <td>0.361291</td>\n",
       "      <td>0.344124</td>\n",
       "      <td>1.636364</td>\n",
       "      <td>2.272727</td>\n",
       "      <td>2.727273</td>\n",
       "      <td>16.158337</td>\n",
       "      <td>10.539093</td>\n",
       "      <td>2.026025</td>\n",
       "      <td>-1.959499</td>\n",
       "      <td>1.587213</td>\n",
       "      <td>-2.400163</td>\n",
       "      <td>6.237935</td>\n",
       "      <td>-0.123895</td>\n",
       "      <td>3.620019</td>\n",
       "      <td>206.527957</td>\n",
       "      <td>8.690234</td>\n",
       "      <td>5.572731</td>\n",
       "      <td>5.572731</td>\n",
       "      <td>5.201907</td>\n",
       "      <td>2.650904</td>\n",
       "      <td>2.650904</td>\n",
       "      <td>1.529888</td>\n",
       "      <td>1.529888</td>\n",
       "      <td>0.759153</td>\n",
       "      <td>0.759153</td>\n",
       "      <td>0.316506</td>\n",
       "      <td>0.316506</td>\n",
       "      <td>-1.72</td>\n",
       "      <td>2.347590e+02</td>\n",
       "      <td>9.280000</td>\n",
       "      <td>5.095621</td>\n",
       "      <td>4.763092</td>\n",
       "      <td>62.149139</td>\n",
       "      <td>10.847918</td>\n",
       "      <td>0.000000</td>\n",
       "      <td>0.000000</td>\n",
       "      <td>0.0</td>\n",
       "      <td>5.907180</td>\n",
       "      <td>12.121780</td>\n",
       "      <td>15.014866</td>\n",
       "      <td>5.842670</td>\n",
       "      <td>4.789866</td>\n",
       "      <td>0.0</td>\n",
       "      <td>0.000000</td>\n",
       "      <td>0.000000</td>\n",
       "      <td>0.000000</td>\n",
       "      <td>6.544756</td>\n",
       "      <td>14.378941</td>\n",
       "      <td>18.028960</td>\n",
       "      <td>0.0</td>\n",
       "      <td>10.742580</td>\n",
       "      <td>5.842670</td>\n",
       "      <td>0.000000</td>\n",
       "      <td>6.544756</td>\n",
       "      <td>5.531129</td>\n",
       "      <td>0.0</td>\n",
       "      <td>0.0</td>\n",
       "      <td>16.585250</td>\n",
       "      <td>0.000000</td>\n",
       "      <td>0.0</td>\n",
       "      <td>0.0</td>\n",
       "      <td>29.363583</td>\n",
       "      <td>9.589074</td>\n",
       "      <td>0.000000</td>\n",
       "      <td>0.000000</td>\n",
       "      <td>0.000000</td>\n",
       "      <td>0.0</td>\n",
       "      <td>5.531129</td>\n",
       "      <td>0.0</td>\n",
       "      <td>120.62</td>\n",
       "      <td>11.814359</td>\n",
       "      <td>9.589074</td>\n",
       "      <td>0.0</td>\n",
       "      <td>6.544756</td>\n",
       "      <td>6.214601</td>\n",
       "      <td>0.000000</td>\n",
       "      <td>0.000000</td>\n",
       "      <td>5.425791</td>\n",
       "      <td>0.000000</td>\n",
       "      <td>10.106655</td>\n",
       "      <td>11.373799</td>\n",
       "      <td>0.0</td>\n",
       "      <td>0.0</td>\n",
       "      <td>23.224253</td>\n",
       "      <td>2.093981</td>\n",
       "      <td>9.644242</td>\n",
       "      <td>3.490748</td>\n",
       "      <td>0.000000</td>\n",
       "      <td>0.628767</td>\n",
       "      <td>-0.248657</td>\n",
       "      <td>0.0</td>\n",
       "      <td>0.25</td>\n",
       "      <td>11.0</td>\n",
       "      <td>4.0</td>\n",
       "      <td>7.0</td>\n",
       "      <td>0.0</td>\n",
       "      <td>0.0</td>\n",
       "      <td>0.0</td>\n",
       "      <td>0.0</td>\n",
       "      <td>0.0</td>\n",
       "      <td>0.0</td>\n",
       "      <td>3.0</td>\n",
       "      <td>3.0</td>\n",
       "      <td>7.0</td>\n",
       "      <td>3.0</td>\n",
       "      <td>0.0</td>\n",
       "      <td>0.0</td>\n",
       "      <td>0.0</td>\n",
       "      <td>0.0</td>\n",
       "      <td>-2.6069</td>\n",
       "      <td>35.0232</td>\n",
       "      <td>0.0</td>\n",
       "      <td>0.0</td>\n",
       "      <td>0.0</td>\n",
       "      <td>0.0</td>\n",
       "      <td>0.0</td>\n",
       "      <td>0.0</td>\n",
       "      <td>0.0</td>\n",
       "      <td>0.0</td>\n",
       "      <td>0.0</td>\n",
       "      <td>0.0</td>\n",
       "      <td>2.0</td>\n",
       "      <td>2.0</td>\n",
       "      <td>0.0</td>\n",
       "      <td>0.0</td>\n",
       "      <td>0.0</td>\n",
       "      <td>2.0</td>\n",
       "      <td>2.0</td>\n",
       "      <td>1.0</td>\n",
       "      <td>0.0</td>\n",
       "      <td>0.0</td>\n",
       "      <td>0.0</td>\n",
       "      <td>0.0</td>\n",
       "      <td>0.0</td>\n",
       "      <td>0.0</td>\n",
       "      <td>0.0</td>\n",
       "      <td>0.0</td>\n",
       "      <td>0.0</td>\n",
       "      <td>2.0</td>\n",
       "      <td>0.0</td>\n",
       "      <td>0.0</td>\n",
       "      <td>0.0</td>\n",
       "      <td>0.0</td>\n",
       "      <td>0.0</td>\n",
       "      <td>0.0</td>\n",
       "      <td>0.0</td>\n",
       "      <td>0.0</td>\n",
       "      <td>0.0</td>\n",
       "      <td>0.0</td>\n",
       "      <td>0.0</td>\n",
       "      <td>0.0</td>\n",
       "      <td>0.0</td>\n",
       "      <td>0.0</td>\n",
       "      <td>0.0</td>\n",
       "      <td>0.0</td>\n",
       "      <td>0.0</td>\n",
       "      <td>1.0</td>\n",
       "      <td>0.0</td>\n",
       "      <td>0.0</td>\n",
       "      <td>0.0</td>\n",
       "      <td>0.0</td>\n",
       "      <td>0.0</td>\n",
       "      <td>0.0</td>\n",
       "      <td>0.0</td>\n",
       "      <td>0.0</td>\n",
       "      <td>0.0</td>\n",
       "      <td>0.0</td>\n",
       "      <td>0.0</td>\n",
       "      <td>0.0</td>\n",
       "      <td>0.0</td>\n",
       "      <td>0.0</td>\n",
       "      <td>0.0</td>\n",
       "      <td>0.0</td>\n",
       "      <td>0.0</td>\n",
       "      <td>0.0</td>\n",
       "      <td>0.0</td>\n",
       "      <td>0.0</td>\n",
       "      <td>0.0</td>\n",
       "      <td>0.0</td>\n",
       "      <td>0.0</td>\n",
       "      <td>0.0</td>\n",
       "      <td>0.0</td>\n",
       "      <td>0.0</td>\n",
       "      <td>0.0</td>\n",
       "      <td>0.0</td>\n",
       "      <td>0.0</td>\n",
       "      <td>0.0</td>\n",
       "      <td>0.0</td>\n",
       "      <td>0.0</td>\n",
       "      <td>0.0</td>\n",
       "      <td>0.0</td>\n",
       "      <td>0.0</td>\n",
       "      <td>0.0</td>\n",
       "      <td>0.0</td>\n",
       "      <td>0.0</td>\n",
       "      <td>0.0</td>\n",
       "      <td>1</td>\n",
       "    </tr>\n",
       "    <tr>\n",
       "      <th>4</th>\n",
       "      <td>Drug 4</td>\n",
       "      <td>[N-]=[N+]=C1C=NC(=O)NC1=O</td>\n",
       "      <td>10.521759</td>\n",
       "      <td>-0.752407</td>\n",
       "      <td>10.521759</td>\n",
       "      <td>0.278148</td>\n",
       "      <td>0.342148</td>\n",
       "      <td>138.086</td>\n",
       "      <td>136.070</td>\n",
       "      <td>138.017775</td>\n",
       "      <td>50.0</td>\n",
       "      <td>0.0</td>\n",
       "      <td>0.397445</td>\n",
       "      <td>-0.360476</td>\n",
       "      <td>0.397445</td>\n",
       "      <td>0.360476</td>\n",
       "      <td>1.600000</td>\n",
       "      <td>2.300000</td>\n",
       "      <td>2.800000</td>\n",
       "      <td>16.178377</td>\n",
       "      <td>10.340143</td>\n",
       "      <td>2.237556</td>\n",
       "      <td>-1.960002</td>\n",
       "      <td>1.815823</td>\n",
       "      <td>-2.392107</td>\n",
       "      <td>6.613325</td>\n",
       "      <td>-0.117193</td>\n",
       "      <td>3.037024</td>\n",
       "      <td>272.982179</td>\n",
       "      <td>7.560478</td>\n",
       "      <td>4.735488</td>\n",
       "      <td>4.735488</td>\n",
       "      <td>4.736382</td>\n",
       "      <td>2.352336</td>\n",
       "      <td>2.352336</td>\n",
       "      <td>1.502716</td>\n",
       "      <td>1.502716</td>\n",
       "      <td>0.864927</td>\n",
       "      <td>0.864927</td>\n",
       "      <td>0.443061</td>\n",
       "      <td>0.443061</td>\n",
       "      <td>-1.81</td>\n",
       "      <td>1.822382e+02</td>\n",
       "      <td>6.312100</td>\n",
       "      <td>2.200138</td>\n",
       "      <td>0.958376</td>\n",
       "      <td>55.178742</td>\n",
       "      <td>5.531129</td>\n",
       "      <td>6.214601</td>\n",
       "      <td>0.000000</td>\n",
       "      <td>0.0</td>\n",
       "      <td>0.000000</td>\n",
       "      <td>17.649979</td>\n",
       "      <td>10.111326</td>\n",
       "      <td>4.794537</td>\n",
       "      <td>9.782271</td>\n",
       "      <td>0.0</td>\n",
       "      <td>0.000000</td>\n",
       "      <td>0.000000</td>\n",
       "      <td>0.000000</td>\n",
       "      <td>0.000000</td>\n",
       "      <td>14.378941</td>\n",
       "      <td>23.864580</td>\n",
       "      <td>0.0</td>\n",
       "      <td>5.316789</td>\n",
       "      <td>4.992405</td>\n",
       "      <td>0.000000</td>\n",
       "      <td>0.000000</td>\n",
       "      <td>5.531129</td>\n",
       "      <td>0.0</td>\n",
       "      <td>0.0</td>\n",
       "      <td>5.316789</td>\n",
       "      <td>4.794537</td>\n",
       "      <td>0.0</td>\n",
       "      <td>0.0</td>\n",
       "      <td>28.654446</td>\n",
       "      <td>4.794537</td>\n",
       "      <td>0.000000</td>\n",
       "      <td>0.000000</td>\n",
       "      <td>4.992405</td>\n",
       "      <td>0.0</td>\n",
       "      <td>5.531129</td>\n",
       "      <td>0.0</td>\n",
       "      <td>94.93</td>\n",
       "      <td>11.938294</td>\n",
       "      <td>9.589074</td>\n",
       "      <td>0.0</td>\n",
       "      <td>5.711685</td>\n",
       "      <td>0.000000</td>\n",
       "      <td>6.214601</td>\n",
       "      <td>0.000000</td>\n",
       "      <td>0.000000</td>\n",
       "      <td>5.316789</td>\n",
       "      <td>9.782271</td>\n",
       "      <td>5.531129</td>\n",
       "      <td>0.0</td>\n",
       "      <td>0.0</td>\n",
       "      <td>26.502214</td>\n",
       "      <td>1.813704</td>\n",
       "      <td>7.794129</td>\n",
       "      <td>-0.747685</td>\n",
       "      <td>-0.752407</td>\n",
       "      <td>0.890046</td>\n",
       "      <td>0.000000</td>\n",
       "      <td>0.0</td>\n",
       "      <td>0.00</td>\n",
       "      <td>10.0</td>\n",
       "      <td>1.0</td>\n",
       "      <td>6.0</td>\n",
       "      <td>0.0</td>\n",
       "      <td>1.0</td>\n",
       "      <td>1.0</td>\n",
       "      <td>0.0</td>\n",
       "      <td>0.0</td>\n",
       "      <td>0.0</td>\n",
       "      <td>2.0</td>\n",
       "      <td>1.0</td>\n",
       "      <td>6.0</td>\n",
       "      <td>0.0</td>\n",
       "      <td>0.0</td>\n",
       "      <td>0.0</td>\n",
       "      <td>0.0</td>\n",
       "      <td>1.0</td>\n",
       "      <td>-1.0222</td>\n",
       "      <td>30.6571</td>\n",
       "      <td>0.0</td>\n",
       "      <td>0.0</td>\n",
       "      <td>0.0</td>\n",
       "      <td>0.0</td>\n",
       "      <td>0.0</td>\n",
       "      <td>0.0</td>\n",
       "      <td>0.0</td>\n",
       "      <td>0.0</td>\n",
       "      <td>0.0</td>\n",
       "      <td>0.0</td>\n",
       "      <td>2.0</td>\n",
       "      <td>2.0</td>\n",
       "      <td>0.0</td>\n",
       "      <td>0.0</td>\n",
       "      <td>1.0</td>\n",
       "      <td>3.0</td>\n",
       "      <td>1.0</td>\n",
       "      <td>0.0</td>\n",
       "      <td>0.0</td>\n",
       "      <td>0.0</td>\n",
       "      <td>0.0</td>\n",
       "      <td>0.0</td>\n",
       "      <td>0.0</td>\n",
       "      <td>0.0</td>\n",
       "      <td>0.0</td>\n",
       "      <td>0.0</td>\n",
       "      <td>0.0</td>\n",
       "      <td>3.0</td>\n",
       "      <td>0.0</td>\n",
       "      <td>0.0</td>\n",
       "      <td>0.0</td>\n",
       "      <td>0.0</td>\n",
       "      <td>0.0</td>\n",
       "      <td>0.0</td>\n",
       "      <td>0.0</td>\n",
       "      <td>0.0</td>\n",
       "      <td>0.0</td>\n",
       "      <td>0.0</td>\n",
       "      <td>0.0</td>\n",
       "      <td>0.0</td>\n",
       "      <td>0.0</td>\n",
       "      <td>0.0</td>\n",
       "      <td>0.0</td>\n",
       "      <td>0.0</td>\n",
       "      <td>0.0</td>\n",
       "      <td>0.0</td>\n",
       "      <td>0.0</td>\n",
       "      <td>0.0</td>\n",
       "      <td>1.0</td>\n",
       "      <td>0.0</td>\n",
       "      <td>0.0</td>\n",
       "      <td>0.0</td>\n",
       "      <td>0.0</td>\n",
       "      <td>0.0</td>\n",
       "      <td>0.0</td>\n",
       "      <td>0.0</td>\n",
       "      <td>0.0</td>\n",
       "      <td>0.0</td>\n",
       "      <td>0.0</td>\n",
       "      <td>0.0</td>\n",
       "      <td>0.0</td>\n",
       "      <td>0.0</td>\n",
       "      <td>0.0</td>\n",
       "      <td>0.0</td>\n",
       "      <td>0.0</td>\n",
       "      <td>0.0</td>\n",
       "      <td>0.0</td>\n",
       "      <td>0.0</td>\n",
       "      <td>0.0</td>\n",
       "      <td>0.0</td>\n",
       "      <td>0.0</td>\n",
       "      <td>0.0</td>\n",
       "      <td>0.0</td>\n",
       "      <td>0.0</td>\n",
       "      <td>0.0</td>\n",
       "      <td>0.0</td>\n",
       "      <td>0.0</td>\n",
       "      <td>0.0</td>\n",
       "      <td>0.0</td>\n",
       "      <td>0.0</td>\n",
       "      <td>0.0</td>\n",
       "      <td>0.0</td>\n",
       "      <td>0.0</td>\n",
       "      <td>0.0</td>\n",
       "      <td>1.0</td>\n",
       "      <td>1</td>\n",
       "    </tr>\n",
       "  </tbody>\n",
       "</table>\n",
       "</div>"
      ],
      "text/plain": [
       "  Drug_ID                                               Drug  MaxEStateIndex  \\\n",
       "0  Drug 0  O=[N+]([O-])c1ccc2ccc3ccc([N+](=O)[O-])c4c5ccc...       11.663401   \n",
       "1  Drug 1       O=[N+]([O-])c1c2c(c3ccc4cccc5ccc1c3c45)CCCC2       11.824743   \n",
       "2  Drug 2  O=c1c2ccccc2c(=O)c2c1ccc1c2[nH]c2c3c(=O)c4cccc...       14.431073   \n",
       "3  Drug 3                          [N-]=[N+]=CC(=O)NCC(=O)NN       10.422197   \n",
       "4  Drug 4                          [N-]=[N+]=C1C=NC(=O)NC1=O       10.521759   \n",
       "\n",
       "   MinEStateIndex  MaxAbsEStateIndex  MinAbsEStateIndex       qed    MolWt  \\\n",
       "0       -0.396099          11.663401           0.008895  0.181963  342.310   \n",
       "1       -0.170602          11.824743           0.170602  0.269289  301.345   \n",
       "2       -0.378575          14.431073           0.128988  0.184582  646.614   \n",
       "3       -0.670278          10.422197           0.248657  0.103849  157.133   \n",
       "4       -0.752407          10.521759           0.278148  0.342148  138.086   \n",
       "\n",
       "   HeavyAtomMolWt  ExactMolWt  NumValenceElectrons  NumRadicalElectrons  \\\n",
       "0         332.230  342.064057                124.0                  0.0   \n",
       "1         286.225  301.110279                112.0                  0.0   \n",
       "2         628.470  646.116486                232.0                  0.0   \n",
       "3         150.077  157.059974                 60.0                  0.0   \n",
       "4         136.070  138.017775                 50.0                  0.0   \n",
       "\n",
       "   MaxPartialCharge  MinPartialCharge  MaxAbsPartialCharge  \\\n",
       "0          0.277383         -0.258290             0.277383   \n",
       "1          0.280182         -0.258281             0.280182   \n",
       "2          0.196213         -0.353239             0.353239   \n",
       "3          0.344124         -0.361291             0.361291   \n",
       "4          0.397445         -0.360476             0.397445   \n",
       "\n",
       "   MinAbsPartialCharge  FpDensityMorgan1  FpDensityMorgan2  FpDensityMorgan3  \\\n",
       "0             0.258290          0.538462          0.923077          1.307692   \n",
       "1             0.258281          0.782609          1.434783          2.130435   \n",
       "2             0.196213          0.240000          0.520000          0.860000   \n",
       "3             0.344124          1.636364          2.272727          2.727273   \n",
       "4             0.360476          1.600000          2.300000          2.800000   \n",
       "\n",
       "   BCUT2D_MWHI  BCUT2D_MWLOW  BCUT2D_CHGHI  BCUT2D_CHGLO  BCUT2D_LOGPHI  \\\n",
       "0    16.631769      9.878024      2.243219     -2.142638       2.460575   \n",
       "1    16.628431      9.821377      2.272279     -2.209454       2.443384   \n",
       "2    16.143132      9.940471      2.259153     -2.054884       2.426829   \n",
       "3    16.158337     10.539093      2.026025     -1.959499       1.587213   \n",
       "4    16.178377     10.340143      2.237556     -1.960002       1.815823   \n",
       "\n",
       "   BCUT2D_LOGPLOW  BCUT2D_MRHI  BCUT2D_MRLOW  BalabanJ      BertzCT  \\\n",
       "0       -1.957799     6.364064     -0.382738  2.267149  1284.790209   \n",
       "1       -2.080122     6.253369     -0.383375  2.126255  1081.625979   \n",
       "2       -2.135155     6.392340      1.549090  1.489526  3545.358079   \n",
       "3       -2.400163     6.237935     -0.123895  3.620019   206.527957   \n",
       "4       -2.392107     6.613325     -0.117193  3.037024   272.982179   \n",
       "\n",
       "        Chi0      Chi0n      Chi0v       Chi1      Chi1n      Chi1v  \\\n",
       "0  17.999271  13.300923  13.300923  12.575387   7.986911   7.986911   \n",
       "1  15.551677  12.633589  12.633589  11.254020   8.111246   8.111246   \n",
       "2  33.739029  25.687094  25.687094  24.346244  16.028163  16.028163   \n",
       "3   8.690234   5.572731   5.572731   5.201907   2.650904   2.650904   \n",
       "4   7.560478   4.735488   4.735488   4.736382   2.352336   2.352336   \n",
       "\n",
       "       Chi2n      Chi2v      Chi3n      Chi3v     Chi4n     Chi4v  \\\n",
       "0   6.240968   6.240968   4.982737   4.982737  3.980293  3.980293   \n",
       "1   6.450414   6.450414   5.293200   5.293200  4.366351  4.366351   \n",
       "2  12.932863  12.932863  10.595806  10.595806  8.440806  8.440806   \n",
       "3   1.529888   1.529888   0.759153   0.759153  0.316506  0.316506   \n",
       "4   1.502716   1.502716   0.864927   0.864927  0.443061  0.443061   \n",
       "\n",
       "   HallKierAlpha           Ipc     Kappa1    Kappa2    Kappa3   LabuteASA  \\\n",
       "0          -3.80  1.358228e+06  14.535237  4.857510  1.699174  145.443038   \n",
       "1          -2.68  3.795956e+05  12.823625  4.415776  1.592870  132.562335   \n",
       "2          -7.06  7.842002e+11  26.949519  8.886482  2.983958  275.635502   \n",
       "3          -1.72  2.347590e+02   9.280000  5.095621  4.763092   62.149139   \n",
       "4          -1.81  1.822382e+02   6.312100  2.200138  0.958376   55.178742   \n",
       "\n",
       "   PEOE_VSA1  PEOE_VSA10  PEOE_VSA11  PEOE_VSA12  PEOE_VSA13  PEOE_VSA14  \\\n",
       "0   0.000000    0.000000    0.000000         0.0   11.374773    0.000000   \n",
       "1   0.000000    0.000000    0.000000         0.0    5.687386    0.000000   \n",
       "2   9.967957    0.000000   32.572742         0.0    0.000000    0.000000   \n",
       "3  10.847918    0.000000    0.000000         0.0    5.907180   12.121780   \n",
       "4   5.531129    6.214601    0.000000         0.0    0.000000   17.649979   \n",
       "\n",
       "   PEOE_VSA2  PEOE_VSA3  PEOE_VSA4  PEOE_VSA5  PEOE_VSA6  PEOE_VSA7  \\\n",
       "0  20.228637   0.000000   0.000000        0.0  36.398202  33.677631   \n",
       "1  10.114318   0.000000   0.000000        0.0  36.398202  58.858002   \n",
       "2  28.767223   0.000000   0.000000        0.0  84.929139  12.132734   \n",
       "3  15.014866   5.842670   4.789866        0.0   0.000000   0.000000   \n",
       "4  10.111326   4.794537   9.782271        0.0   0.000000   0.000000   \n",
       "\n",
       "   PEOE_VSA8  PEOE_VSA9   SMR_VSA1   SMR_VSA10  SMR_VSA2   SMR_VSA3  SMR_VSA4  \\\n",
       "0  22.905183  20.619071   9.846622   54.464566       0.0   0.000000  0.000000   \n",
       "1  10.949676  10.309535   4.923311   38.004732       0.0   0.000000  0.000000   \n",
       "2  64.634691  43.611700   0.000000  108.246390       0.0   9.967957  0.000000   \n",
       "3   0.000000   6.544756  14.378941   18.028960       0.0  10.742580  5.842670   \n",
       "4   0.000000   0.000000  14.378941   23.864580       0.0   5.316789  4.992405   \n",
       "\n",
       "    SMR_VSA5  SMR_VSA6    SMR_VSA7  SMR_VSA8  SMR_VSA9  SlogP_VSA1  \\\n",
       "0   0.000000  0.000000   80.892307       0.0       0.0    0.000000   \n",
       "1  25.683286  0.000000   63.705791       0.0       0.0    0.000000   \n",
       "2   0.000000  0.000000  158.401839       0.0       0.0   32.572742   \n",
       "3   0.000000  6.544756    5.531129       0.0       0.0   16.585250   \n",
       "4   0.000000  0.000000    5.531129       0.0       0.0    5.316789   \n",
       "\n",
       "   SlogP_VSA10  SlogP_VSA11  SlogP_VSA12  SlogP_VSA2  SlogP_VSA3  SlogP_VSA4  \\\n",
       "0    11.374773          0.0          0.0    9.846622    0.000000   20.228637   \n",
       "1     5.687386          0.0          0.0    4.923311   12.841643   10.114318   \n",
       "2     0.000000          0.0          0.0    9.967957    0.000000    0.000000   \n",
       "3     0.000000          0.0          0.0   29.363583    9.589074    0.000000   \n",
       "4     4.794537          0.0          0.0   28.654446    4.794537    0.000000   \n",
       "\n",
       "   SlogP_VSA5  SlogP_VSA6  SlogP_VSA7  SlogP_VSA8  SlogP_VSA9    TPSA  \\\n",
       "0    0.000000   60.663671         0.0   43.089794         0.0   86.28   \n",
       "1   23.968546   42.464569         0.0   32.317345         0.0   43.14   \n",
       "2    0.000000  125.829096         0.0  108.246390         0.0  134.00   \n",
       "3    0.000000    0.000000         0.0    5.531129         0.0  120.62   \n",
       "4    0.000000    4.992405         0.0    5.531129         0.0   94.93   \n",
       "\n",
       "   EState_VSA1  EState_VSA10  EState_VSA11  EState_VSA2  EState_VSA3  \\\n",
       "0     9.846622     20.228637           0.0    11.374773    32.317345   \n",
       "1     0.000000     10.114318           0.0     4.923311     5.687386   \n",
       "2     0.000000     28.767223           0.0    86.434984    54.384148   \n",
       "3    11.814359      9.589074           0.0     6.544756     6.214601   \n",
       "4    11.938294      9.589074           0.0     5.711685     0.000000   \n",
       "\n",
       "   EState_VSA4  EState_VSA5  EState_VSA6  EState_VSA7  EState_VSA8  \\\n",
       "0    10.772448    12.132734    36.398202    12.132734     0.000000   \n",
       "1    52.791635    16.335900     0.000000    18.199101    24.265468   \n",
       "2     0.000000     0.000000    97.061873     0.000000     9.967957   \n",
       "3     0.000000     0.000000     5.425791     0.000000    10.106655   \n",
       "4     6.214601     0.000000     0.000000     5.316789     9.782271   \n",
       "\n",
       "   EState_VSA9  VSA_EState1  VSA_EState10  VSA_EState2  VSA_EState3  \\\n",
       "0     0.000000          0.0           0.0    22.534604    28.751336   \n",
       "1     0.000000          0.0           0.0    11.654141    18.396769   \n",
       "2     0.000000          0.0           0.0    91.118497     5.050742   \n",
       "3    11.373799          0.0           0.0    23.224253     2.093981   \n",
       "4     5.531129          0.0           0.0    26.502214     1.813704   \n",
       "\n",
       "   VSA_EState4  VSA_EState5  VSA_EState6  VSA_EState7  VSA_EState8  \\\n",
       "0     0.017789     0.000000    17.362937     0.000000     0.000000   \n",
       "1     2.505822     0.000000    14.510820     3.932449     0.000000   \n",
       "2    -0.577214     0.000000    26.741309     0.000000     0.000000   \n",
       "3     9.644242     3.490748     0.000000     0.628767    -0.248657   \n",
       "4     7.794129    -0.747685    -0.752407     0.890046     0.000000   \n",
       "\n",
       "   VSA_EState9  FractionCSP3  HeavyAtomCount  NHOHCount  NOCount  \\\n",
       "0          0.0          0.00            26.0        0.0      6.0   \n",
       "1          0.0          0.20            23.0        0.0      3.0   \n",
       "2          0.0          0.00            50.0        2.0      8.0   \n",
       "3          0.0          0.25            11.0        4.0      7.0   \n",
       "4          0.0          0.00            10.0        1.0      6.0   \n",
       "\n",
       "   NumAliphaticCarbocycles  NumAliphaticHeterocycles  NumAliphaticRings  \\\n",
       "0                      0.0                       0.0                0.0   \n",
       "1                      1.0                       0.0                1.0   \n",
       "2                      0.0                       0.0                0.0   \n",
       "3                      0.0                       0.0                0.0   \n",
       "4                      0.0                       1.0                1.0   \n",
       "\n",
       "   NumAromaticCarbocycles  NumAromaticHeterocycles  NumAromaticRings  \\\n",
       "0                     5.0                      0.0               5.0   \n",
       "1                     4.0                      0.0               4.0   \n",
       "2                     9.0                      2.0              11.0   \n",
       "3                     0.0                      0.0               0.0   \n",
       "4                     0.0                      0.0               0.0   \n",
       "\n",
       "   NumHAcceptors  NumHDonors  NumHeteroatoms  NumRotatableBonds  \\\n",
       "0            4.0         0.0             6.0                2.0   \n",
       "1            2.0         0.0             3.0                1.0   \n",
       "2            6.0         2.0             8.0                0.0   \n",
       "3            3.0         3.0             7.0                3.0   \n",
       "4            2.0         1.0             6.0                0.0   \n",
       "\n",
       "   NumSaturatedCarbocycles  NumSaturatedHeterocycles  NumSaturatedRings  \\\n",
       "0                      0.0                       0.0                0.0   \n",
       "1                      0.0                       0.0                0.0   \n",
       "2                      0.0                       0.0                0.0   \n",
       "3                      0.0                       0.0                0.0   \n",
       "4                      0.0                       0.0                0.0   \n",
       "\n",
       "   RingCount  MolLogP     MolMR  fr_Al_COO  fr_Al_OH  fr_Al_OH_noTert  fr_ArN  \\\n",
       "0        5.0   5.5536  100.9608        0.0       0.0              0.0     0.0   \n",
       "1        5.0   5.3710   93.4424        0.0       0.0              0.0     0.0   \n",
       "2       11.0   6.3494  201.3814        0.0       0.0              0.0     0.0   \n",
       "3        0.0  -2.6069   35.0232        0.0       0.0              0.0     0.0   \n",
       "4        1.0  -1.0222   30.6571        0.0       0.0              0.0     0.0   \n",
       "\n",
       "   fr_Ar_COO  fr_Ar_N  fr_Ar_NH  fr_Ar_OH  fr_COO  fr_COO2  fr_C_O  \\\n",
       "0        0.0      0.0       0.0       0.0     0.0      0.0     0.0   \n",
       "1        0.0      0.0       0.0       0.0     0.0      0.0     0.0   \n",
       "2        0.0      2.0       2.0       0.0     0.0      0.0     0.0   \n",
       "3        0.0      0.0       0.0       0.0     0.0      0.0     2.0   \n",
       "4        0.0      0.0       0.0       0.0     0.0      0.0     2.0   \n",
       "\n",
       "   fr_C_O_noCOO  fr_C_S  fr_HOCCN  fr_Imine  fr_NH0  fr_NH1  fr_NH2  fr_N_O  \\\n",
       "0           0.0     0.0       0.0       0.0     2.0     0.0     0.0     0.0   \n",
       "1           0.0     0.0       0.0       0.0     1.0     0.0     0.0     0.0   \n",
       "2           0.0     0.0       0.0       0.0     0.0     2.0     0.0     0.0   \n",
       "3           2.0     0.0       0.0       0.0     2.0     2.0     1.0     0.0   \n",
       "4           2.0     0.0       0.0       1.0     3.0     1.0     0.0     0.0   \n",
       "\n",
       "   fr_Ndealkylation1  fr_Ndealkylation2  fr_Nhpyrrole  fr_SH  fr_aldehyde  \\\n",
       "0                0.0                0.0           0.0    0.0          0.0   \n",
       "1                0.0                0.0           0.0    0.0          0.0   \n",
       "2                0.0                0.0           2.0    0.0          0.0   \n",
       "3                0.0                0.0           0.0    0.0          0.0   \n",
       "4                0.0                0.0           0.0    0.0          0.0   \n",
       "\n",
       "   fr_alkyl_carbamate  fr_alkyl_halide  fr_allylic_oxid  fr_amide  fr_amidine  \\\n",
       "0                 0.0              0.0              0.0       0.0         0.0   \n",
       "1                 0.0              0.0              0.0       0.0         0.0   \n",
       "2                 0.0              0.0              0.0       0.0         0.0   \n",
       "3                 0.0              0.0              0.0       2.0         0.0   \n",
       "4                 0.0              0.0              0.0       3.0         0.0   \n",
       "\n",
       "   fr_aniline  fr_aryl_methyl  fr_azide  fr_azo  fr_barbitur  fr_benzene  \\\n",
       "0         0.0             0.0       0.0     0.0          0.0         5.0   \n",
       "1         0.0             1.0       0.0     0.0          0.0         4.0   \n",
       "2         0.0             0.0       0.0     0.0          0.0         9.0   \n",
       "3         0.0             0.0       0.0     0.0          0.0         0.0   \n",
       "4         0.0             0.0       0.0     0.0          0.0         0.0   \n",
       "\n",
       "   fr_benzodiazepine  fr_bicyclic  fr_diazo  fr_dihydropyridine  fr_epoxide  \\\n",
       "0                0.0          3.0       0.0                 0.0         0.0   \n",
       "1                0.0          2.0       0.0                 0.0         0.0   \n",
       "2                0.0         17.0       0.0                 0.0         0.0   \n",
       "3                0.0          0.0       0.0                 0.0         0.0   \n",
       "4                0.0          0.0       0.0                 0.0         0.0   \n",
       "\n",
       "   fr_ester  fr_ether  fr_furan  fr_guanido  fr_halogen  fr_hdrzine  \\\n",
       "0       0.0       0.0       0.0         0.0         0.0         0.0   \n",
       "1       0.0       0.0       0.0         0.0         0.0         0.0   \n",
       "2       0.0       0.0       0.0         0.0         0.0         0.0   \n",
       "3       0.0       0.0       0.0         0.0         0.0         1.0   \n",
       "4       0.0       0.0       0.0         0.0         0.0         0.0   \n",
       "\n",
       "   fr_hdrzone  fr_imidazole  fr_imide  fr_isocyan  fr_isothiocyan  fr_ketone  \\\n",
       "0         0.0           0.0       0.0         0.0             0.0        0.0   \n",
       "1         0.0           0.0       0.0         0.0             0.0        0.0   \n",
       "2         0.0           0.0       0.0         0.0             0.0        0.0   \n",
       "3         0.0           0.0       0.0         0.0             0.0        0.0   \n",
       "4         0.0           0.0       1.0         0.0             0.0        0.0   \n",
       "\n",
       "   fr_ketone_Topliss  fr_lactam  fr_lactone  fr_methoxy  fr_morpholine  \\\n",
       "0                0.0        0.0         0.0         0.0            0.0   \n",
       "1                0.0        0.0         0.0         0.0            0.0   \n",
       "2                0.0        0.0         0.0         0.0            0.0   \n",
       "3                0.0        0.0         0.0         0.0            0.0   \n",
       "4                0.0        0.0         0.0         0.0            0.0   \n",
       "\n",
       "   fr_nitrile  fr_nitro  fr_nitro_arom  fr_nitro_arom_nonortho  fr_nitroso  \\\n",
       "0         0.0       2.0            2.0                     2.0         0.0   \n",
       "1         0.0       1.0            1.0                     0.0         0.0   \n",
       "2         0.0       0.0            0.0                     0.0         0.0   \n",
       "3         0.0       0.0            0.0                     0.0         0.0   \n",
       "4         0.0       0.0            0.0                     0.0         0.0   \n",
       "\n",
       "   fr_oxazole  fr_oxime  fr_para_hydroxylation  fr_phenol  \\\n",
       "0         0.0       0.0                    0.0        0.0   \n",
       "1         0.0       0.0                    0.0        0.0   \n",
       "2         0.0       0.0                    0.0        0.0   \n",
       "3         0.0       0.0                    0.0        0.0   \n",
       "4         0.0       0.0                    0.0        0.0   \n",
       "\n",
       "   fr_phenol_noOrthoHbond  fr_phos_acid  fr_phos_ester  fr_piperdine  \\\n",
       "0                     0.0           0.0            0.0           0.0   \n",
       "1                     0.0           0.0            0.0           0.0   \n",
       "2                     0.0           0.0            0.0           0.0   \n",
       "3                     0.0           0.0            0.0           0.0   \n",
       "4                     0.0           0.0            0.0           0.0   \n",
       "\n",
       "   fr_piperzine  fr_priamide  fr_prisulfonamd  fr_pyridine  fr_quatN  \\\n",
       "0           0.0          0.0              0.0          0.0       0.0   \n",
       "1           0.0          0.0              0.0          0.0       0.0   \n",
       "2           0.0          0.0              0.0          0.0       0.0   \n",
       "3           0.0          0.0              0.0          0.0       0.0   \n",
       "4           0.0          0.0              0.0          0.0       0.0   \n",
       "\n",
       "   fr_sulfide  fr_sulfonamd  fr_sulfone  fr_term_acetylene  fr_tetrazole  \\\n",
       "0         0.0           0.0         0.0                0.0           0.0   \n",
       "1         0.0           0.0         0.0                0.0           0.0   \n",
       "2         0.0           0.0         0.0                0.0           0.0   \n",
       "3         0.0           0.0         0.0                0.0           0.0   \n",
       "4         0.0           0.0         0.0                0.0           0.0   \n",
       "\n",
       "   fr_thiazole  fr_thiocyan  fr_thiophene  fr_unbrch_alkane  fr_urea  Y  \n",
       "0          0.0          0.0           0.0               0.0      0.0  1  \n",
       "1          0.0          0.0           0.0               0.0      0.0  1  \n",
       "2          0.0          0.0           0.0               0.0      0.0  0  \n",
       "3          0.0          0.0           0.0               0.0      0.0  1  \n",
       "4          0.0          0.0           0.0               0.0      1.0  1  "
      ]
     },
     "execution_count": 113,
     "metadata": {},
     "output_type": "execute_result"
    }
   ],
   "source": [
    "df.head()"
   ]
  },
  {
   "cell_type": "code",
   "execution_count": 114,
   "id": "a833067b",
   "metadata": {},
   "outputs": [
    {
     "name": "stdout",
     "output_type": "stream",
     "text": [
      "Current shape of the fingerprint dataset: 7140 x 1024\n"
     ]
    }
   ],
   "source": [
    "# Generate fingerprints dataset and transform into a dataframe\n",
    "fingerprints = generate_fingerprints(df)\n",
    "fps = pd.DataFrame(fingerprints, columns = np.arange(1,1025))"
   ]
  },
  {
   "cell_type": "code",
   "execution_count": 115,
   "id": "4c3e248d",
   "metadata": {},
   "outputs": [
    {
     "name": "stdout",
     "output_type": "stream",
     "text": [
      "Data has been split\n"
     ]
    }
   ],
   "source": [
    "X_train, X_train_fps, y_train, X_val, X_val_fps, y_val, X_test, X_test_fps, y_test = train_val_test_split(df, split_AMES, fps)"
   ]
  },
  {
   "cell_type": "code",
   "execution_count": 116,
   "id": "6bdc7add",
   "metadata": {},
   "outputs": [
    {
     "name": "stdout",
     "output_type": "stream",
     "text": [
      "Removed the following rows in the train set: Int64Index([231, 3258, 3693], dtype='int64')\n",
      "Removed the following rows in the val set: Int64Index([5482], dtype='int64')\n",
      "Removed the following rows in the test set: Int64Index([6439], dtype='int64')\n"
     ]
    }
   ],
   "source": [
    "X_train, X_train_fps, y_train, X_val, X_val_fps, X_test, y_test = remove_nans(X_train, X_val, X_test, y_train, y_val, y_test, X_train_fps, X_val_fps)"
   ]
  },
  {
   "cell_type": "code",
   "execution_count": 117,
   "id": "5eb327c5",
   "metadata": {},
   "outputs": [
    {
     "name": "stdout",
     "output_type": "stream",
     "text": [
      "Data is now normalized.\n"
     ]
    }
   ],
   "source": [
    "X_train_norm, X_val_norm, X_test_norm = normalize_data(X_train, X_val, X_test)"
   ]
  },
  {
   "cell_type": "markdown",
   "id": "edf9c5b4",
   "metadata": {},
   "source": [
    "### Check balance of dataset/split"
   ]
  },
  {
   "cell_type": "markdown",
   "id": "b786804b",
   "metadata": {},
   "source": [
    "## Building our baseline models"
   ]
  },
  {
   "cell_type": "code",
   "execution_count": 119,
   "id": "84f1e84f",
   "metadata": {
    "scrolled": false
   },
   "outputs": [
    {
     "name": "stdout",
     "output_type": "stream",
     "text": [
      "MLPC | MCC: 0.524, AUC: 0.762, Accuracy: 0.749, Precision: 0.772, Recall: 0.762\n",
      "SVC | MCC: 0.583, AUC: 0.791, Accuracy: 0.771, Precision: 0.814, Recall: 0.791\n",
      "RFC | MCC: 0.632, AUC: 0.816, Accuracy: 0.799, Precision: 0.831, Recall: 0.816\n",
      "DTC | MCC: 0.495, AUC: 0.747, Accuracy: 0.728, Precision: 0.769, Recall: 0.747\n",
      "[22:14:23] WARNING: C:/Users/Administrator/workspace/xgboost-win64_release_1.4.0/src/learner.cc:1095: Starting in XGBoost 1.3.0, the default evaluation metric used with the objective 'binary:logistic' was changed from 'error' to 'logloss'. Explicitly set eval_metric if you'd like to restore the old behavior.\n",
      "XGBC | MCC: 0.582, AUC: 0.791, Accuracy: 0.777, Precision: 0.803, Recall: 0.791\n"
     ]
    },
    {
     "data": {
      "image/png": "[encoded data removed]",
      "text/plain": [
       "<Figure size 1425x570 with 1 Axes>"
      ]
     },
     "metadata": {},
     "output_type": "display_data"
    }
   ],
   "source": [
    "models, results = models_comparison(X_train, y_train, X_val, y_val, True,True, False, X_train_norm, X_val_norm)"
   ]
  },
  {
   "cell_type": "code",
   "execution_count": 122,
   "id": "7e9e814f",
   "metadata": {
    "scrolled": true
   },
   "outputs": [
    {
     "name": "stderr",
     "output_type": "stream",
     "text": [
      "100%|██████████████████████████████████████████████████████████████████████████████████| 10/10 [00:03<00:00,  3.29it/s]\n"
     ]
    },
    {
     "name": "stdout",
     "output_type": "stream",
     "text": [
      "MLPC | MCC: 0.425, AUC: 0.712, Accuracy: 0.711, Precision: 0.693, Recall: 0.713\n",
      "SVC | MCC: 0.428, AUC: 0.714, Accuracy: 0.705, Precision: 0.713, Recall: 0.714\n",
      "RFC | MCC: 0.409, AUC: 0.705, Accuracy: 0.689, Precision: 0.718, Recall: 0.704\n",
      "DTC | MCC: 0.327, AUC: 0.664, Accuracy: 0.646, Precision: 0.687, Recall: 0.663\n",
      "[22:19:09] WARNING: C:/Users/Administrator/workspace/xgboost-win64_release_1.4.0/src/learner.cc:1095: Starting in XGBoost 1.3.0, the default evaluation metric used with the objective 'binary:logistic' was changed from 'error' to 'logloss'. Explicitly set eval_metric if you'd like to restore the old behavior.\n",
      "XGBC | MCC: 0.451, AUC: 0.725, Accuracy: 0.708, Precision: 0.744, Recall: 0.725\n"
     ]
    },
    {
     "name": "stderr",
     "output_type": "stream",
     "text": [
      "100%|██████████████████████████████████████████████████████████████████████████████████| 15/15 [00:04<00:00,  3.43it/s]\n"
     ]
    },
    {
     "name": "stdout",
     "output_type": "stream",
     "text": [
      "MLPC | MCC: 0.464, AUC: 0.732, Accuracy: 0.716, Precision: 0.746, Recall: 0.732\n",
      "SVC | MCC: 0.461, AUC: 0.730, Accuracy: 0.721, Precision: 0.730, Recall: 0.730\n",
      "RFC | MCC: 0.489, AUC: 0.744, Accuracy: 0.730, Precision: 0.755, Recall: 0.744\n",
      "DTC | MCC: 0.339, AUC: 0.669, Accuracy: 0.640, Precision: 0.730, Recall: 0.667\n",
      "[22:19:33] WARNING: C:/Users/Administrator/workspace/xgboost-win64_release_1.4.0/src/learner.cc:1095: Starting in XGBoost 1.3.0, the default evaluation metric used with the objective 'binary:logistic' was changed from 'error' to 'logloss'. Explicitly set eval_metric if you'd like to restore the old behavior.\n",
      "XGBC | MCC: 0.468, AUC: 0.734, Accuracy: 0.714, Precision: 0.758, Recall: 0.733\n"
     ]
    },
    {
     "name": "stderr",
     "output_type": "stream",
     "text": [
      "100%|██████████████████████████████████████████████████████████████████████████████████| 20/20 [00:06<00:00,  3.20it/s]\n"
     ]
    },
    {
     "name": "stdout",
     "output_type": "stream",
     "text": [
      "MLPC | MCC: 0.500, AUC: 0.750, Accuracy: 0.736, Precision: 0.761, Recall: 0.750\n",
      "SVC | MCC: 0.467, AUC: 0.733, Accuracy: 0.719, Precision: 0.744, Recall: 0.733\n",
      "RFC | MCC: 0.550, AUC: 0.775, Accuracy: 0.753, Precision: 0.800, Recall: 0.774\n",
      "DTC | MCC: 0.411, AUC: 0.705, Accuracy: 0.682, Precision: 0.738, Recall: 0.704\n",
      "[22:20:00] WARNING: C:/Users/Administrator/workspace/xgboost-win64_release_1.4.0/src/learner.cc:1095: Starting in XGBoost 1.3.0, the default evaluation metric used with the objective 'binary:logistic' was changed from 'error' to 'logloss'. Explicitly set eval_metric if you'd like to restore the old behavior.\n",
      "XGBC | MCC: 0.523, AUC: 0.761, Accuracy: 0.740, Precision: 0.786, Recall: 0.761\n"
     ]
    },
    {
     "name": "stderr",
     "output_type": "stream",
     "text": [
      "100%|██████████████████████████████████████████████████████████████████████████████████| 25/25 [00:07<00:00,  3.16it/s]\n"
     ]
    },
    {
     "name": "stdout",
     "output_type": "stream",
     "text": [
      "MLPC | MCC: 0.517, AUC: 0.758, Accuracy: 0.725, Precision: 0.808, Recall: 0.757\n",
      "SVC | MCC: 0.505, AUC: 0.752, Accuracy: 0.725, Precision: 0.789, Recall: 0.751\n",
      "RFC | MCC: 0.576, AUC: 0.788, Accuracy: 0.780, Precision: 0.789, Recall: 0.788\n",
      "DTC | MCC: 0.388, AUC: 0.694, Accuracy: 0.673, Precision: 0.724, Recall: 0.693\n",
      "[22:20:29] WARNING: C:/Users/Administrator/workspace/xgboost-win64_release_1.4.0/src/learner.cc:1095: Starting in XGBoost 1.3.0, the default evaluation metric used with the objective 'binary:logistic' was changed from 'error' to 'logloss'. Explicitly set eval_metric if you'd like to restore the old behavior.\n",
      "XGBC | MCC: 0.533, AUC: 0.767, Accuracy: 0.747, Precision: 0.789, Recall: 0.766\n"
     ]
    },
    {
     "name": "stderr",
     "output_type": "stream",
     "text": [
      "100%|██████████████████████████████████████████████████████████████████████████████████| 30/30 [00:09<00:00,  3.28it/s]\n"
     ]
    },
    {
     "name": "stdout",
     "output_type": "stream",
     "text": [
      "MLPC | MCC: 0.501, AUC: 0.750, Accuracy: 0.727, Precision: 0.780, Recall: 0.750\n",
      "SVC | MCC: 0.536, AUC: 0.768, Accuracy: 0.747, Precision: 0.792, Recall: 0.768\n",
      "RFC | MCC: 0.587, AUC: 0.794, Accuracy: 0.786, Precision: 0.794, Recall: 0.794\n",
      "DTC | MCC: 0.407, AUC: 0.703, Accuracy: 0.683, Precision: 0.730, Recall: 0.703\n",
      "[22:20:57] WARNING: C:/Users/Administrator/workspace/xgboost-win64_release_1.4.0/src/learner.cc:1095: Starting in XGBoost 1.3.0, the default evaluation metric used with the objective 'binary:logistic' was changed from 'error' to 'logloss'. Explicitly set eval_metric if you'd like to restore the old behavior.\n",
      "XGBC | MCC: 0.546, AUC: 0.773, Accuracy: 0.745, Precision: 0.808, Recall: 0.772\n"
     ]
    },
    {
     "name": "stderr",
     "output_type": "stream",
     "text": [
      "100%|██████████████████████████████████████████████████████████████████████████████████| 35/35 [00:09<00:00,  3.53it/s]\n"
     ]
    },
    {
     "name": "stdout",
     "output_type": "stream",
     "text": [
      "MLPC | MCC: 0.536, AUC: 0.766, Accuracy: 0.727, Precision: 0.831, Recall: 0.765\n",
      "SVC | MCC: 0.534, AUC: 0.767, Accuracy: 0.745, Precision: 0.792, Recall: 0.766\n",
      "RFC | MCC: 0.604, AUC: 0.802, Accuracy: 0.787, Precision: 0.814, Recall: 0.802\n",
      "DTC | MCC: 0.400, AUC: 0.700, Accuracy: 0.674, Precision: 0.741, Recall: 0.699\n",
      "[22:21:29] WARNING: C:/Users/Administrator/workspace/xgboost-win64_release_1.4.0/src/learner.cc:1095: Starting in XGBoost 1.3.0, the default evaluation metric used with the objective 'binary:logistic' was changed from 'error' to 'logloss'. Explicitly set eval_metric if you'd like to restore the old behavior.\n",
      "XGBC | MCC: 0.576, AUC: 0.788, Accuracy: 0.762, Precision: 0.820, Recall: 0.787\n"
     ]
    },
    {
     "name": "stderr",
     "output_type": "stream",
     "text": [
      "100%|██████████████████████████████████████████████████████████████████████████████████| 40/40 [00:12<00:00,  3.30it/s]\n"
     ]
    },
    {
     "name": "stdout",
     "output_type": "stream",
     "text": [
      "MLPC | MCC: 0.489, AUC: 0.744, Accuracy: 0.729, Precision: 0.758, Recall: 0.744\n",
      "SVC | MCC: 0.529, AUC: 0.764, Accuracy: 0.738, Precision: 0.800, Recall: 0.763\n",
      "RFC | MCC: 0.593, AUC: 0.797, Accuracy: 0.785, Precision: 0.803, Recall: 0.796\n",
      "DTC | MCC: 0.498, AUC: 0.749, Accuracy: 0.728, Precision: 0.775, Recall: 0.748\n",
      "[22:22:00] WARNING: C:/Users/Administrator/workspace/xgboost-win64_release_1.4.0/src/learner.cc:1095: Starting in XGBoost 1.3.0, the default evaluation metric used with the objective 'binary:logistic' was changed from 'error' to 'logloss'. Explicitly set eval_metric if you'd like to restore the old behavior.\n",
      "XGBC | MCC: 0.531, AUC: 0.765, Accuracy: 0.732, Precision: 0.814, Recall: 0.763\n"
     ]
    },
    {
     "name": "stderr",
     "output_type": "stream",
     "text": [
      "100%|██████████████████████████████████████████████████████████████████████████████████| 45/45 [00:13<00:00,  3.32it/s]\n"
     ]
    },
    {
     "name": "stdout",
     "output_type": "stream",
     "text": [
      "MLPC | MCC: 0.537, AUC: 0.768, Accuracy: 0.742, Precision: 0.803, Recall: 0.768\n",
      "SVC | MCC: 0.534, AUC: 0.767, Accuracy: 0.743, Precision: 0.797, Recall: 0.766\n",
      "RFC | MCC: 0.593, AUC: 0.796, Accuracy: 0.790, Precision: 0.794, Recall: 0.796\n",
      "DTC | MCC: 0.478, AUC: 0.739, Accuracy: 0.721, Precision: 0.758, Recall: 0.739\n",
      "[22:22:29] WARNING: C:/Users/Administrator/workspace/xgboost-win64_release_1.4.0/src/learner.cc:1095: Starting in XGBoost 1.3.0, the default evaluation metric used with the objective 'binary:logistic' was changed from 'error' to 'logloss'. Explicitly set eval_metric if you'd like to restore the old behavior.\n",
      "XGBC | MCC: 0.558, AUC: 0.779, Accuracy: 0.758, Precision: 0.803, Recall: 0.779\n"
     ]
    },
    {
     "name": "stderr",
     "output_type": "stream",
     "text": [
      "100%|██████████████████████████████████████████████████████████████████████████████████| 50/50 [00:13<00:00,  3.62it/s]\n"
     ]
    },
    {
     "name": "stdout",
     "output_type": "stream",
     "text": [
      "MLPC | MCC: 0.546, AUC: 0.773, Accuracy: 0.743, Precision: 0.814, Recall: 0.772\n",
      "SVC | MCC: 0.534, AUC: 0.767, Accuracy: 0.742, Precision: 0.800, Recall: 0.766\n",
      "RFC | MCC: 0.612, AUC: 0.806, Accuracy: 0.792, Precision: 0.817, Recall: 0.806\n",
      "DTC | MCC: 0.460, AUC: 0.730, Accuracy: 0.706, Precision: 0.763, Recall: 0.729\n",
      "[22:22:59] WARNING: C:/Users/Administrator/workspace/xgboost-win64_release_1.4.0/src/learner.cc:1095: Starting in XGBoost 1.3.0, the default evaluation metric used with the objective 'binary:logistic' was changed from 'error' to 'logloss'. Explicitly set eval_metric if you'd like to restore the old behavior.\n",
      "XGBC | MCC: 0.563, AUC: 0.781, Accuracy: 0.751, Precision: 0.823, Recall: 0.780\n"
     ]
    },
    {
     "name": "stderr",
     "output_type": "stream",
     "text": [
      "100%|██████████████████████████████████████████████████████████████████████████████████| 55/55 [00:15<00:00,  3.44it/s]\n"
     ]
    },
    {
     "name": "stdout",
     "output_type": "stream",
     "text": [
      "MLPC | MCC: 0.558, AUC: 0.779, Accuracy: 0.764, Precision: 0.792, Recall: 0.779\n",
      "SVC | MCC: 0.524, AUC: 0.762, Accuracy: 0.734, Precision: 0.800, Recall: 0.761\n",
      "RFC | MCC: 0.638, AUC: 0.819, Accuracy: 0.801, Precision: 0.837, Recall: 0.818\n",
      "DTC | MCC: 0.448, AUC: 0.724, Accuracy: 0.706, Precision: 0.744, Recall: 0.724\n",
      "[22:23:30] WARNING: C:/Users/Administrator/workspace/xgboost-win64_release_1.4.0/src/learner.cc:1095: Starting in XGBoost 1.3.0, the default evaluation metric used with the objective 'binary:logistic' was changed from 'error' to 'logloss'. Explicitly set eval_metric if you'd like to restore the old behavior.\n",
      "XGBC | MCC: 0.570, AUC: 0.785, Accuracy: 0.758, Precision: 0.820, Recall: 0.784\n"
     ]
    },
    {
     "name": "stderr",
     "output_type": "stream",
     "text": [
      "100%|██████████████████████████████████████████████████████████████████████████████████| 60/60 [00:19<00:00,  3.03it/s]\n"
     ]
    },
    {
     "name": "stdout",
     "output_type": "stream",
     "text": [
      "MLPC | MCC: 0.540, AUC: 0.770, Accuracy: 0.744, Precision: 0.803, Recall: 0.769\n",
      "SVC | MCC: 0.530, AUC: 0.764, Accuracy: 0.735, Precision: 0.806, Recall: 0.763\n",
      "RFC | MCC: 0.596, AUC: 0.798, Accuracy: 0.784, Precision: 0.808, Recall: 0.798\n",
      "DTC | MCC: 0.474, AUC: 0.737, Accuracy: 0.712, Precision: 0.772, Recall: 0.736\n",
      "[22:24:06] WARNING: C:/Users/Administrator/workspace/xgboost-win64_release_1.4.0/src/learner.cc:1095: Starting in XGBoost 1.3.0, the default evaluation metric used with the objective 'binary:logistic' was changed from 'error' to 'logloss'. Explicitly set eval_metric if you'd like to restore the old behavior.\n",
      "XGBC | MCC: 0.578, AUC: 0.789, Accuracy: 0.764, Precision: 0.820, Recall: 0.788\n"
     ]
    },
    {
     "name": "stderr",
     "output_type": "stream",
     "text": [
      "100%|██████████████████████████████████████████████████████████████████████████████████| 65/65 [00:20<00:00,  3.24it/s]\n"
     ]
    },
    {
     "name": "stdout",
     "output_type": "stream",
     "text": [
      "MLPC | MCC: 0.537, AUC: 0.769, Accuracy: 0.769, Precision: 0.752, Recall: 0.769\n",
      "SVC | MCC: 0.522, AUC: 0.760, Accuracy: 0.730, Precision: 0.806, Recall: 0.759\n",
      "RFC | MCC: 0.648, AUC: 0.824, Accuracy: 0.813, Precision: 0.831, Recall: 0.824\n",
      "DTC | MCC: 0.527, AUC: 0.763, Accuracy: 0.753, Precision: 0.766, Recall: 0.763\n",
      "[22:24:43] WARNING: C:/Users/Administrator/workspace/xgboost-win64_release_1.4.0/src/learner.cc:1095: Starting in XGBoost 1.3.0, the default evaluation metric used with the objective 'binary:logistic' was changed from 'error' to 'logloss'. Explicitly set eval_metric if you'd like to restore the old behavior.\n",
      "XGBC | MCC: 0.594, AUC: 0.797, Accuracy: 0.779, Precision: 0.814, Recall: 0.796\n"
     ]
    },
    {
     "name": "stderr",
     "output_type": "stream",
     "text": [
      "100%|██████████████████████████████████████████████████████████████████████████████████| 70/70 [00:20<00:00,  3.47it/s]\n"
     ]
    },
    {
     "name": "stdout",
     "output_type": "stream",
     "text": [
      "MLPC | MCC: 0.548, AUC: 0.774, Accuracy: 0.749, Precision: 0.806, Recall: 0.773\n",
      "SVC | MCC: 0.538, AUC: 0.768, Accuracy: 0.740, Precision: 0.808, Recall: 0.768\n",
      "RFC | MCC: 0.635, AUC: 0.817, Accuracy: 0.800, Precision: 0.834, Recall: 0.817\n",
      "DTC | MCC: 0.453, AUC: 0.727, Accuracy: 0.711, Precision: 0.741, Recall: 0.726\n",
      "[22:25:22] WARNING: C:/Users/Administrator/workspace/xgboost-win64_release_1.4.0/src/learner.cc:1095: Starting in XGBoost 1.3.0, the default evaluation metric used with the objective 'binary:logistic' was changed from 'error' to 'logloss'. Explicitly set eval_metric if you'd like to restore the old behavior.\n",
      "XGBC | MCC: 0.584, AUC: 0.792, Accuracy: 0.764, Precision: 0.828, Recall: 0.791\n"
     ]
    },
    {
     "name": "stderr",
     "output_type": "stream",
     "text": [
      "100%|██████████████████████████████████████████████████████████████████████████████████| 75/75 [00:23<00:00,  3.24it/s]\n"
     ]
    },
    {
     "name": "stdout",
     "output_type": "stream",
     "text": [
      "MLPC | MCC: 0.587, AUC: 0.794, Accuracy: 0.784, Precision: 0.797, Recall: 0.794\n",
      "SVC | MCC: 0.551, AUC: 0.775, Accuracy: 0.748, Precision: 0.811, Recall: 0.774\n",
      "RFC | MCC: 0.621, AUC: 0.810, Accuracy: 0.796, Precision: 0.823, Recall: 0.810\n",
      "DTC | MCC: 0.441, AUC: 0.721, Accuracy: 0.713, Precision: 0.715, Recall: 0.721\n",
      "[22:26:05] WARNING: C:/Users/Administrator/workspace/xgboost-win64_release_1.4.0/src/learner.cc:1095: Starting in XGBoost 1.3.0, the default evaluation metric used with the objective 'binary:logistic' was changed from 'error' to 'logloss'. Explicitly set eval_metric if you'd like to restore the old behavior.\n",
      "XGBC | MCC: 0.602, AUC: 0.801, Accuracy: 0.781, Precision: 0.823, Recall: 0.801\n"
     ]
    },
    {
     "name": "stderr",
     "output_type": "stream",
     "text": [
      "100%|██████████████████████████████████████████████████████████████████████████████████| 80/80 [00:23<00:00,  3.45it/s]\n"
     ]
    },
    {
     "name": "stdout",
     "output_type": "stream",
     "text": [
      "MLPC | MCC: 0.552, AUC: 0.774, Accuracy: 0.735, Precision: 0.837, Recall: 0.773\n",
      "SVC | MCC: 0.549, AUC: 0.774, Accuracy: 0.744, Precision: 0.817, Recall: 0.773\n",
      "RFC | MCC: 0.635, AUC: 0.817, Accuracy: 0.802, Precision: 0.831, Recall: 0.817\n",
      "DTC | MCC: 0.450, AUC: 0.725, Accuracy: 0.715, Precision: 0.727, Recall: 0.725\n",
      "[22:26:44] WARNING: C:/Users/Administrator/workspace/xgboost-win64_release_1.4.0/src/learner.cc:1095: Starting in XGBoost 1.3.0, the default evaluation metric used with the objective 'binary:logistic' was changed from 'error' to 'logloss'. Explicitly set eval_metric if you'd like to restore the old behavior.\n",
      "XGBC | MCC: 0.593, AUC: 0.797, Accuracy: 0.784, Precision: 0.806, Recall: 0.796\n"
     ]
    },
    {
     "name": "stderr",
     "output_type": "stream",
     "text": [
      "100%|██████████████████████████████████████████████████████████████████████████████████| 85/85 [00:25<00:00,  3.38it/s]\n"
     ]
    },
    {
     "name": "stdout",
     "output_type": "stream",
     "text": [
      "MLPC | MCC: 0.574, AUC: 0.786, Accuracy: 0.745, Precision: 0.848, Recall: 0.784\n",
      "SVC | MCC: 0.549, AUC: 0.774, Accuracy: 0.744, Precision: 0.817, Recall: 0.773\n",
      "RFC | MCC: 0.618, AUC: 0.809, Accuracy: 0.798, Precision: 0.814, Recall: 0.809\n",
      "DTC | MCC: 0.453, AUC: 0.726, Accuracy: 0.714, Precision: 0.732, Recall: 0.726\n",
      "[22:27:28] WARNING: C:/Users/Administrator/workspace/xgboost-win64_release_1.4.0/src/learner.cc:1095: Starting in XGBoost 1.3.0, the default evaluation metric used with the objective 'binary:logistic' was changed from 'error' to 'logloss'. Explicitly set eval_metric if you'd like to restore the old behavior.\n",
      "XGBC | MCC: 0.607, AUC: 0.804, Accuracy: 0.788, Precision: 0.817, Recall: 0.803\n"
     ]
    },
    {
     "name": "stderr",
     "output_type": "stream",
     "text": [
      "100%|██████████████████████████████████████████████████████████████████████████████████| 90/90 [00:26<00:00,  3.37it/s]\n"
     ]
    },
    {
     "name": "stdout",
     "output_type": "stream",
     "text": [
      "MLPC | MCC: 0.610, AUC: 0.805, Accuracy: 0.792, Precision: 0.814, Recall: 0.805\n",
      "SVC | MCC: 0.545, AUC: 0.771, Accuracy: 0.739, Precision: 0.820, Recall: 0.770\n",
      "RFC | MCC: 0.623, AUC: 0.812, Accuracy: 0.798, Precision: 0.823, Recall: 0.812\n",
      "DTC | MCC: 0.462, AUC: 0.731, Accuracy: 0.714, Precision: 0.746, Recall: 0.730\n",
      "[22:28:11] WARNING: C:/Users/Administrator/workspace/xgboost-win64_release_1.4.0/src/learner.cc:1095: Starting in XGBoost 1.3.0, the default evaluation metric used with the objective 'binary:logistic' was changed from 'error' to 'logloss'. Explicitly set eval_metric if you'd like to restore the old behavior.\n",
      "XGBC | MCC: 0.602, AUC: 0.801, Accuracy: 0.782, Precision: 0.820, Recall: 0.801\n"
     ]
    },
    {
     "name": "stderr",
     "output_type": "stream",
     "text": [
      "100%|██████████████████████████████████████████████████████████████████████████████████| 95/95 [00:27<00:00,  3.50it/s]\n"
     ]
    },
    {
     "name": "stdout",
     "output_type": "stream",
     "text": [
      "MLPC | MCC: 0.574, AUC: 0.787, Accuracy: 0.769, Precision: 0.806, Recall: 0.787\n",
      "SVC | MCC: 0.547, AUC: 0.773, Accuracy: 0.740, Precision: 0.820, Recall: 0.772\n",
      "RFC | MCC: 0.624, AUC: 0.812, Accuracy: 0.793, Precision: 0.831, Recall: 0.812\n",
      "DTC | MCC: 0.447, AUC: 0.724, Accuracy: 0.710, Precision: 0.732, Recall: 0.724\n",
      "[22:28:54] WARNING: C:/Users/Administrator/workspace/xgboost-win64_release_1.4.0/src/learner.cc:1095: Starting in XGBoost 1.3.0, the default evaluation metric used with the objective 'binary:logistic' was changed from 'error' to 'logloss'. Explicitly set eval_metric if you'd like to restore the old behavior.\n",
      "XGBC | MCC: 0.597, AUC: 0.798, Accuracy: 0.775, Precision: 0.825, Recall: 0.798\n"
     ]
    },
    {
     "name": "stderr",
     "output_type": "stream",
     "text": [
      "100%|████████████████████████████████████████████████████████████████████████████████| 100/100 [00:29<00:00,  3.43it/s]\n"
     ]
    },
    {
     "name": "stdout",
     "output_type": "stream",
     "text": [
      "MLPC | MCC: 0.602, AUC: 0.801, Accuracy: 0.782, Precision: 0.820, Recall: 0.801\n",
      "SVC | MCC: 0.539, AUC: 0.769, Accuracy: 0.736, Precision: 0.817, Recall: 0.768\n",
      "RFC | MCC: 0.621, AUC: 0.811, Accuracy: 0.791, Precision: 0.831, Recall: 0.810\n",
      "DTC | MCC: 0.476, AUC: 0.738, Accuracy: 0.715, Precision: 0.769, Recall: 0.737\n",
      "[22:29:42] WARNING: C:/Users/Administrator/workspace/xgboost-win64_release_1.4.0/src/learner.cc:1095: Starting in XGBoost 1.3.0, the default evaluation metric used with the objective 'binary:logistic' was changed from 'error' to 'logloss'. Explicitly set eval_metric if you'd like to restore the old behavior.\n",
      "XGBC | MCC: 0.578, AUC: 0.789, Accuracy: 0.768, Precision: 0.811, Recall: 0.788\n"
     ]
    },
    {
     "name": "stderr",
     "output_type": "stream",
     "text": [
      "100%|████████████████████████████████████████████████████████████████████████████████| 105/105 [00:30<00:00,  3.49it/s]\n"
     ]
    },
    {
     "name": "stdout",
     "output_type": "stream",
     "text": [
      "MLPC | MCC: 0.574, AUC: 0.787, Accuracy: 0.775, Precision: 0.794, Recall: 0.787\n",
      "SVC | MCC: 0.563, AUC: 0.781, Accuracy: 0.752, Precision: 0.820, Recall: 0.780\n",
      "RFC | MCC: 0.643, AUC: 0.822, Accuracy: 0.803, Precision: 0.839, Recall: 0.821\n",
      "DTC | MCC: 0.507, AUC: 0.753, Accuracy: 0.727, Precision: 0.789, Recall: 0.752\n",
      "[22:30:32] WARNING: C:/Users/Administrator/workspace/xgboost-win64_release_1.4.0/src/learner.cc:1095: Starting in XGBoost 1.3.0, the default evaluation metric used with the objective 'binary:logistic' was changed from 'error' to 'logloss'. Explicitly set eval_metric if you'd like to restore the old behavior.\n",
      "XGBC | MCC: 0.613, AUC: 0.806, Accuracy: 0.774, Precision: 0.848, Recall: 0.805\n"
     ]
    },
    {
     "name": "stderr",
     "output_type": "stream",
     "text": [
      "100%|████████████████████████████████████████████████████████████████████████████████| 110/110 [00:30<00:00,  3.61it/s]\n"
     ]
    },
    {
     "name": "stdout",
     "output_type": "stream",
     "text": [
      "MLPC | MCC: 0.557, AUC: 0.778, Accuracy: 0.787, Precision: 0.749, Recall: 0.779\n",
      "SVC | MCC: 0.554, AUC: 0.777, Accuracy: 0.750, Precision: 0.811, Recall: 0.776\n",
      "RFC | MCC: 0.647, AUC: 0.823, Accuracy: 0.797, Precision: 0.854, Recall: 0.823\n",
      "DTC | MCC: 0.479, AUC: 0.739, Accuracy: 0.715, Precision: 0.772, Recall: 0.739\n",
      "[22:31:23] WARNING: C:/Users/Administrator/workspace/xgboost-win64_release_1.4.0/src/learner.cc:1095: Starting in XGBoost 1.3.0, the default evaluation metric used with the objective 'binary:logistic' was changed from 'error' to 'logloss'. Explicitly set eval_metric if you'd like to restore the old behavior.\n",
      "XGBC | MCC: 0.592, AUC: 0.796, Accuracy: 0.770, Precision: 0.828, Recall: 0.795\n"
     ]
    },
    {
     "name": "stderr",
     "output_type": "stream",
     "text": [
      "100%|████████████████████████████████████████████████████████████████████████████████| 115/115 [00:30<00:00,  3.74it/s]\n"
     ]
    },
    {
     "name": "stdout",
     "output_type": "stream",
     "text": [
      "MLPC | MCC: 0.593, AUC: 0.796, Accuracy: 0.788, Precision: 0.797, Recall: 0.796\n",
      "SVC | MCC: 0.567, AUC: 0.783, Accuracy: 0.759, Precision: 0.814, Recall: 0.783\n",
      "RFC | MCC: 0.632, AUC: 0.816, Accuracy: 0.804, Precision: 0.823, Recall: 0.816\n",
      "DTC | MCC: 0.495, AUC: 0.747, Accuracy: 0.727, Precision: 0.772, Recall: 0.747\n",
      "[22:32:14] WARNING: C:/Users/Administrator/workspace/xgboost-win64_release_1.4.0/src/learner.cc:1095: Starting in XGBoost 1.3.0, the default evaluation metric used with the objective 'binary:logistic' was changed from 'error' to 'logloss'. Explicitly set eval_metric if you'd like to restore the old behavior.\n",
      "XGBC | MCC: 0.569, AUC: 0.784, Accuracy: 0.766, Precision: 0.803, Recall: 0.784\n"
     ]
    },
    {
     "name": "stderr",
     "output_type": "stream",
     "text": [
      "100%|████████████████████████████████████████████████████████████████████████████████| 120/120 [00:30<00:00,  3.89it/s]\n"
     ]
    },
    {
     "name": "stdout",
     "output_type": "stream",
     "text": [
      "MLPC | MCC: 0.559, AUC: 0.778, Accuracy: 0.744, Precision: 0.828, Recall: 0.777\n",
      "SVC | MCC: 0.564, AUC: 0.782, Accuracy: 0.758, Precision: 0.811, Recall: 0.781\n",
      "RFC | MCC: 0.641, AUC: 0.820, Accuracy: 0.801, Precision: 0.839, Recall: 0.820\n",
      "DTC | MCC: 0.495, AUC: 0.747, Accuracy: 0.727, Precision: 0.772, Recall: 0.747\n",
      "[22:33:05] WARNING: C:/Users/Administrator/workspace/xgboost-win64_release_1.4.0/src/learner.cc:1095: Starting in XGBoost 1.3.0, the default evaluation metric used with the objective 'binary:logistic' was changed from 'error' to 'logloss'. Explicitly set eval_metric if you'd like to restore the old behavior.\n",
      "XGBC | MCC: 0.603, AUC: 0.801, Accuracy: 0.776, Precision: 0.831, Recall: 0.801\n"
     ]
    },
    {
     "name": "stderr",
     "output_type": "stream",
     "text": [
      "100%|████████████████████████████████████████████████████████████████████████████████| 125/125 [00:30<00:00,  4.09it/s]\n"
     ]
    },
    {
     "name": "stdout",
     "output_type": "stream",
     "text": [
      "MLPC | MCC: 0.535, AUC: 0.767, Accuracy: 0.763, Precision: 0.761, Recall: 0.768\n",
      "SVC | MCC: 0.573, AUC: 0.786, Accuracy: 0.763, Precision: 0.814, Recall: 0.785\n",
      "RFC | MCC: 0.612, AUC: 0.806, Accuracy: 0.794, Precision: 0.814, Recall: 0.806\n",
      "DTC | MCC: 0.477, AUC: 0.738, Accuracy: 0.714, Precision: 0.772, Recall: 0.737\n",
      "[22:33:56] WARNING: C:/Users/Administrator/workspace/xgboost-win64_release_1.4.0/src/learner.cc:1095: Starting in XGBoost 1.3.0, the default evaluation metric used with the objective 'binary:logistic' was changed from 'error' to 'logloss'. Explicitly set eval_metric if you'd like to restore the old behavior.\n",
      "XGBC | MCC: 0.608, AUC: 0.804, Accuracy: 0.779, Precision: 0.834, Recall: 0.803\n"
     ]
    },
    {
     "name": "stderr",
     "output_type": "stream",
     "text": [
      "100%|████████████████████████████████████████████████████████████████████████████████| 130/130 [00:31<00:00,  4.14it/s]\n"
     ]
    },
    {
     "name": "stdout",
     "output_type": "stream",
     "text": [
      "MLPC | MCC: 0.538, AUC: 0.768, Accuracy: 0.740, Precision: 0.808, Recall: 0.768\n",
      "SVC | MCC: 0.564, AUC: 0.782, Accuracy: 0.758, Precision: 0.811, Recall: 0.781\n",
      "RFC | MCC: 0.616, AUC: 0.808, Accuracy: 0.787, Precision: 0.831, Recall: 0.807\n",
      "DTC | MCC: 0.480, AUC: 0.740, Accuracy: 0.712, Precision: 0.780, Recall: 0.739\n",
      "[22:34:46] WARNING: C:/Users/Administrator/workspace/xgboost-win64_release_1.4.0/src/learner.cc:1095: Starting in XGBoost 1.3.0, the default evaluation metric used with the objective 'binary:logistic' was changed from 'error' to 'logloss'. Explicitly set eval_metric if you'd like to restore the old behavior.\n",
      "XGBC | MCC: 0.612, AUC: 0.806, Accuracy: 0.792, Precision: 0.817, Recall: 0.806\n"
     ]
    },
    {
     "name": "stderr",
     "output_type": "stream",
     "text": [
      "100%|████████████████████████████████████████████████████████████████████████████████| 135/135 [00:31<00:00,  4.33it/s]\n"
     ]
    },
    {
     "name": "stdout",
     "output_type": "stream",
     "text": [
      "MLPC | MCC: 0.545, AUC: 0.772, Accuracy: 0.751, Precision: 0.797, Recall: 0.772\n",
      "SVC | MCC: 0.564, AUC: 0.782, Accuracy: 0.758, Precision: 0.811, Recall: 0.781\n",
      "RFC | MCC: 0.610, AUC: 0.805, Accuracy: 0.792, Precision: 0.814, Recall: 0.805\n",
      "DTC | MCC: 0.478, AUC: 0.739, Accuracy: 0.721, Precision: 0.758, Recall: 0.739\n",
      "[22:35:38] WARNING: C:/Users/Administrator/workspace/xgboost-win64_release_1.4.0/src/learner.cc:1095: Starting in XGBoost 1.3.0, the default evaluation metric used with the objective 'binary:logistic' was changed from 'error' to 'logloss'. Explicitly set eval_metric if you'd like to restore the old behavior.\n",
      "XGBC | MCC: 0.593, AUC: 0.797, Accuracy: 0.780, Precision: 0.811, Recall: 0.796\n"
     ]
    },
    {
     "name": "stderr",
     "output_type": "stream",
     "text": [
      "100%|████████████████████████████████████████████████████████████████████████████████| 140/140 [00:32<00:00,  4.33it/s]\n"
     ]
    },
    {
     "name": "stdout",
     "output_type": "stream",
     "text": [
      "MLPC | MCC: 0.562, AUC: 0.781, Accuracy: 0.755, Precision: 0.814, Recall: 0.780\n",
      "SVC | MCC: 0.572, AUC: 0.786, Accuracy: 0.764, Precision: 0.811, Recall: 0.785\n",
      "RFC | MCC: 0.621, AUC: 0.810, Accuracy: 0.797, Precision: 0.820, Recall: 0.810\n",
      "DTC | MCC: 0.453, AUC: 0.726, Accuracy: 0.713, Precision: 0.735, Recall: 0.726\n",
      "[22:36:32] WARNING: C:/Users/Administrator/workspace/xgboost-win64_release_1.4.0/src/learner.cc:1095: Starting in XGBoost 1.3.0, the default evaluation metric used with the objective 'binary:logistic' was changed from 'error' to 'logloss'. Explicitly set eval_metric if you'd like to restore the old behavior.\n",
      "XGBC | MCC: 0.594, AUC: 0.797, Accuracy: 0.775, Precision: 0.823, Recall: 0.796\n"
     ]
    },
    {
     "name": "stderr",
     "output_type": "stream",
     "text": [
      "100%|████████████████████████████████████████████████████████████████████████████████| 145/145 [00:32<00:00,  4.43it/s]\n"
     ]
    },
    {
     "name": "stdout",
     "output_type": "stream",
     "text": [
      "MLPC | MCC: 0.569, AUC: 0.784, Accuracy: 0.766, Precision: 0.803, Recall: 0.784\n",
      "SVC | MCC: 0.581, AUC: 0.790, Accuracy: 0.767, Precision: 0.817, Recall: 0.790\n",
      "RFC | MCC: 0.641, AUC: 0.820, Accuracy: 0.798, Precision: 0.845, Recall: 0.820\n",
      "DTC | MCC: 0.407, AUC: 0.704, Accuracy: 0.682, Precision: 0.732, Recall: 0.703\n",
      "[22:37:24] WARNING: C:/Users/Administrator/workspace/xgboost-win64_release_1.4.0/src/learner.cc:1095: Starting in XGBoost 1.3.0, the default evaluation metric used with the objective 'binary:logistic' was changed from 'error' to 'logloss'. Explicitly set eval_metric if you'd like to restore the old behavior.\n",
      "XGBC | MCC: 0.562, AUC: 0.781, Accuracy: 0.755, Precision: 0.814, Recall: 0.780\n"
     ]
    },
    {
     "name": "stderr",
     "output_type": "stream",
     "text": [
      "100%|████████████████████████████████████████████████████████████████████████████████| 150/150 [00:32<00:00,  4.64it/s]\n"
     ]
    },
    {
     "name": "stdout",
     "output_type": "stream",
     "text": [
      "MLPC | MCC: 0.569, AUC: 0.785, Accuracy: 0.765, Precision: 0.806, Recall: 0.784\n",
      "SVC | MCC: 0.586, AUC: 0.793, Accuracy: 0.771, Precision: 0.817, Recall: 0.792\n",
      "RFC | MCC: 0.634, AUC: 0.817, Accuracy: 0.812, Precision: 0.814, Recall: 0.817\n",
      "DTC | MCC: 0.448, AUC: 0.724, Accuracy: 0.704, Precision: 0.749, Recall: 0.724\n",
      "[22:38:16] WARNING: C:/Users/Administrator/workspace/xgboost-win64_release_1.4.0/src/learner.cc:1095: Starting in XGBoost 1.3.0, the default evaluation metric used with the objective 'binary:logistic' was changed from 'error' to 'logloss'. Explicitly set eval_metric if you'd like to restore the old behavior.\n",
      "XGBC | MCC: 0.596, AUC: 0.798, Accuracy: 0.780, Precision: 0.817, Recall: 0.798\n"
     ]
    },
    {
     "name": "stderr",
     "output_type": "stream",
     "text": [
      "100%|████████████████████████████████████████████████████████████████████████████████| 155/155 [00:33<00:00,  4.66it/s]\n"
     ]
    },
    {
     "name": "stdout",
     "output_type": "stream",
     "text": [
      "MLPC | MCC: 0.615, AUC: 0.808, Accuracy: 0.791, Precision: 0.823, Recall: 0.807\n",
      "SVC | MCC: 0.580, AUC: 0.790, Accuracy: 0.769, Precision: 0.814, Recall: 0.790\n",
      "RFC | MCC: 0.629, AUC: 0.815, Accuracy: 0.799, Precision: 0.828, Recall: 0.814\n",
      "DTC | MCC: 0.447, AUC: 0.724, Accuracy: 0.710, Precision: 0.732, Recall: 0.724\n",
      "[22:39:11] WARNING: C:/Users/Administrator/workspace/xgboost-win64_release_1.4.0/src/learner.cc:1095: Starting in XGBoost 1.3.0, the default evaluation metric used with the objective 'binary:logistic' was changed from 'error' to 'logloss'. Explicitly set eval_metric if you'd like to restore the old behavior.\n",
      "XGBC | MCC: 0.595, AUC: 0.797, Accuracy: 0.769, Precision: 0.834, Recall: 0.796\n"
     ]
    },
    {
     "name": "stderr",
     "output_type": "stream",
     "text": [
      "100%|████████████████████████████████████████████████████████████████████████████████| 160/160 [00:33<00:00,  4.75it/s]\n"
     ]
    },
    {
     "name": "stdout",
     "output_type": "stream",
     "text": [
      "MLPC | MCC: 0.571, AUC: 0.786, Accuracy: 0.773, Precision: 0.794, Recall: 0.785\n",
      "SVC | MCC: 0.572, AUC: 0.786, Accuracy: 0.764, Precision: 0.811, Recall: 0.785\n",
      "RFC | MCC: 0.635, AUC: 0.817, Accuracy: 0.802, Precision: 0.831, Recall: 0.817\n",
      "DTC | MCC: 0.467, AUC: 0.733, Accuracy: 0.718, Precision: 0.746, Recall: 0.733\n",
      "[22:40:03] WARNING: C:/Users/Administrator/workspace/xgboost-win64_release_1.4.0/src/learner.cc:1095: Starting in XGBoost 1.3.0, the default evaluation metric used with the objective 'binary:logistic' was changed from 'error' to 'logloss'. Explicitly set eval_metric if you'd like to restore the old behavior.\n",
      "XGBC | MCC: 0.599, AUC: 0.799, Accuracy: 0.785, Precision: 0.811, Recall: 0.799\n"
     ]
    },
    {
     "name": "stderr",
     "output_type": "stream",
     "text": [
      "100%|████████████████████████████████████████████████████████████████████████████████| 165/165 [00:33<00:00,  4.92it/s]\n"
     ]
    },
    {
     "name": "stdout",
     "output_type": "stream",
     "text": [
      "MLPC | MCC: 0.593, AUC: 0.796, Accuracy: 0.768, Precision: 0.831, Recall: 0.795\n",
      "SVC | MCC: 0.575, AUC: 0.787, Accuracy: 0.765, Precision: 0.814, Recall: 0.787\n",
      "RFC | MCC: 0.646, AUC: 0.823, Accuracy: 0.804, Precision: 0.842, Recall: 0.823\n",
      "DTC | MCC: 0.414, AUC: 0.707, Accuracy: 0.693, Precision: 0.718, Recall: 0.707\n",
      "[22:41:01] WARNING: C:/Users/Administrator/workspace/xgboost-win64_release_1.4.0/src/learner.cc:1095: Starting in XGBoost 1.3.0, the default evaluation metric used with the objective 'binary:logistic' was changed from 'error' to 'logloss'. Explicitly set eval_metric if you'd like to restore the old behavior.\n",
      "XGBC | MCC: 0.599, AUC: 0.799, Accuracy: 0.786, Precision: 0.808, Recall: 0.799\n"
     ]
    },
    {
     "name": "stderr",
     "output_type": "stream",
     "text": [
      "100%|████████████████████████████████████████████████████████████████████████████████| 170/170 [00:34<00:00,  4.89it/s]\n"
     ]
    },
    {
     "name": "stdout",
     "output_type": "stream",
     "text": [
      "MLPC | MCC: 0.569, AUC: 0.785, Accuracy: 0.765, Precision: 0.806, Recall: 0.784\n",
      "SVC | MCC: 0.570, AUC: 0.785, Accuracy: 0.761, Precision: 0.814, Recall: 0.784\n",
      "RFC | MCC: 0.638, AUC: 0.819, Accuracy: 0.797, Precision: 0.842, Recall: 0.818\n",
      "DTC | MCC: 0.457, AUC: 0.728, Accuracy: 0.707, Precision: 0.755, Recall: 0.728\n",
      "[22:41:58] WARNING: C:/Users/Administrator/workspace/xgboost-win64_release_1.4.0/src/learner.cc:1095: Starting in XGBoost 1.3.0, the default evaluation metric used with the objective 'binary:logistic' was changed from 'error' to 'logloss'. Explicitly set eval_metric if you'd like to restore the old behavior.\n",
      "XGBC | MCC: 0.599, AUC: 0.800, Accuracy: 0.783, Precision: 0.814, Recall: 0.799\n"
     ]
    },
    {
     "name": "stderr",
     "output_type": "stream",
     "text": [
      "100%|████████████████████████████████████████████████████████████████████████████████| 175/175 [00:34<00:00,  5.10it/s]\n"
     ]
    },
    {
     "name": "stdout",
     "output_type": "stream",
     "text": [
      "MLPC | MCC: 0.580, AUC: 0.790, Accuracy: 0.772, Precision: 0.808, Recall: 0.790\n",
      "SVC | MCC: 0.573, AUC: 0.786, Accuracy: 0.763, Precision: 0.814, Recall: 0.785\n",
      "RFC | MCC: 0.649, AUC: 0.824, Accuracy: 0.806, Precision: 0.842, Recall: 0.824\n",
      "DTC | MCC: 0.470, AUC: 0.735, Accuracy: 0.720, Precision: 0.746, Recall: 0.735\n",
      "[22:42:55] WARNING: C:/Users/Administrator/workspace/xgboost-win64_release_1.4.0/src/learner.cc:1095: Starting in XGBoost 1.3.0, the default evaluation metric used with the objective 'binary:logistic' was changed from 'error' to 'logloss'. Explicitly set eval_metric if you'd like to restore the old behavior.\n",
      "XGBC | MCC: 0.604, AUC: 0.802, Accuracy: 0.787, Precision: 0.814, Recall: 0.802\n"
     ]
    },
    {
     "name": "stderr",
     "output_type": "stream",
     "text": [
      "100%|████████████████████████████████████████████████████████████████████████████████| 180/180 [00:34<00:00,  5.16it/s]\n"
     ]
    },
    {
     "name": "stdout",
     "output_type": "stream",
     "text": [
      "MLPC | MCC: 0.571, AUC: 0.785, Accuracy: 0.779, Precision: 0.783, Recall: 0.785\n",
      "SVC | MCC: 0.567, AUC: 0.783, Accuracy: 0.761, Precision: 0.808, Recall: 0.783\n",
      "RFC | MCC: 0.632, AUC: 0.816, Accuracy: 0.803, Precision: 0.825, Recall: 0.816\n",
      "DTC | MCC: 0.451, AUC: 0.725, Accuracy: 0.708, Precision: 0.744, Recall: 0.725\n",
      "[22:43:52] WARNING: C:/Users/Administrator/workspace/xgboost-win64_release_1.4.0/src/learner.cc:1095: Starting in XGBoost 1.3.0, the default evaluation metric used with the objective 'binary:logistic' was changed from 'error' to 'logloss'. Explicitly set eval_metric if you'd like to restore the old behavior.\n",
      "XGBC | MCC: 0.612, AUC: 0.806, Accuracy: 0.792, Precision: 0.817, Recall: 0.806\n"
     ]
    },
    {
     "name": "stderr",
     "output_type": "stream",
     "text": [
      "100%|████████████████████████████████████████████████████████████████████████████████| 185/185 [00:33<00:00,  5.46it/s]\n"
     ]
    },
    {
     "name": "stdout",
     "output_type": "stream",
     "text": [
      "MLPC | MCC: 0.579, AUC: 0.789, Accuracy: 0.761, Precision: 0.825, Recall: 0.788\n",
      "SVC | MCC: 0.575, AUC: 0.787, Accuracy: 0.765, Precision: 0.814, Recall: 0.787\n",
      "RFC | MCC: 0.634, AUC: 0.817, Accuracy: 0.803, Precision: 0.828, Recall: 0.817\n",
      "DTC | MCC: 0.461, AUC: 0.730, Accuracy: 0.721, Precision: 0.730, Recall: 0.730\n",
      "[22:44:49] WARNING: C:/Users/Administrator/workspace/xgboost-win64_release_1.4.0/src/learner.cc:1095: Starting in XGBoost 1.3.0, the default evaluation metric used with the objective 'binary:logistic' was changed from 'error' to 'logloss'. Explicitly set eval_metric if you'd like to restore the old behavior.\n",
      "XGBC | MCC: 0.608, AUC: 0.804, Accuracy: 0.782, Precision: 0.828, Recall: 0.803\n"
     ]
    },
    {
     "name": "stderr",
     "output_type": "stream",
     "text": [
      "100%|████████████████████████████████████████████████████████████████████████████████| 190/190 [00:34<00:00,  5.56it/s]\n"
     ]
    },
    {
     "name": "stdout",
     "output_type": "stream",
     "text": [
      "MLPC | MCC: 0.571, AUC: 0.786, Accuracy: 0.770, Precision: 0.800, Recall: 0.785\n",
      "SVC | MCC: 0.581, AUC: 0.790, Accuracy: 0.767, Precision: 0.817, Recall: 0.790\n",
      "RFC | MCC: 0.624, AUC: 0.812, Accuracy: 0.793, Precision: 0.831, Recall: 0.812\n",
      "DTC | MCC: 0.475, AUC: 0.737, Accuracy: 0.724, Precision: 0.746, Recall: 0.737\n",
      "[22:45:51] WARNING: C:/Users/Administrator/workspace/xgboost-win64_release_1.4.0/src/learner.cc:1095: Starting in XGBoost 1.3.0, the default evaluation metric used with the objective 'binary:logistic' was changed from 'error' to 'logloss'. Explicitly set eval_metric if you'd like to restore the old behavior.\n",
      "XGBC | MCC: 0.616, AUC: 0.808, Accuracy: 0.785, Precision: 0.834, Recall: 0.807\n"
     ]
    },
    {
     "name": "stderr",
     "output_type": "stream",
     "text": [
      "100%|████████████████████████████████████████████████████████████████████████████████| 195/195 [00:34<00:00,  5.64it/s]\n"
     ]
    },
    {
     "name": "stdout",
     "output_type": "stream",
     "text": [
      "MLPC | MCC: 0.570, AUC: 0.785, Accuracy: 0.758, Precision: 0.820, Recall: 0.784\n",
      "SVC | MCC: 0.583, AUC: 0.792, Accuracy: 0.769, Precision: 0.817, Recall: 0.791\n",
      "RFC | MCC: 0.640, AUC: 0.820, Accuracy: 0.806, Precision: 0.831, Recall: 0.820\n",
      "DTC | MCC: 0.451, AUC: 0.725, Accuracy: 0.706, Precision: 0.749, Recall: 0.725\n",
      "[22:46:48] WARNING: C:/Users/Administrator/workspace/xgboost-win64_release_1.4.0/src/learner.cc:1095: Starting in XGBoost 1.3.0, the default evaluation metric used with the objective 'binary:logistic' was changed from 'error' to 'logloss'. Explicitly set eval_metric if you'd like to restore the old behavior.\n",
      "XGBC | MCC: 0.632, AUC: 0.816, Accuracy: 0.799, Precision: 0.831, Recall: 0.816\n"
     ]
    },
    {
     "name": "stderr",
     "output_type": "stream",
     "text": [
      "100%|████████████████████████████████████████████████████████████████████████████████| 200/200 [00:35<00:00,  5.60it/s]\n"
     ]
    },
    {
     "name": "stdout",
     "output_type": "stream",
     "text": [
      "MLPC | MCC: 0.588, AUC: 0.794, Accuracy: 0.776, Precision: 0.811, Recall: 0.794\n",
      "SVC | MCC: 0.575, AUC: 0.787, Accuracy: 0.767, Precision: 0.808, Recall: 0.787\n",
      "RFC | MCC: 0.618, AUC: 0.809, Accuracy: 0.795, Precision: 0.820, Recall: 0.809\n",
      "DTC | MCC: 0.497, AUC: 0.748, Accuracy: 0.718, Precision: 0.794, Recall: 0.747\n",
      "[22:47:49] WARNING: C:/Users/Administrator/workspace/xgboost-win64_release_1.4.0/src/learner.cc:1095: Starting in XGBoost 1.3.0, the default evaluation metric used with the objective 'binary:logistic' was changed from 'error' to 'logloss'. Explicitly set eval_metric if you'd like to restore the old behavior.\n",
      "XGBC | MCC: 0.618, AUC: 0.809, Accuracy: 0.795, Precision: 0.820, Recall: 0.809\n"
     ]
    },
    {
     "name": "stderr",
     "output_type": "stream",
     "text": [
      "100%|████████████████████████████████████████████████████████████████████████████████| 202/202 [00:40<00:00,  4.97it/s]\n"
     ]
    },
    {
     "name": "stdout",
     "output_type": "stream",
     "text": [
      "MLPC | MCC: 0.598, AUC: 0.799, Accuracy: 0.798, Precision: 0.789, Recall: 0.799\n",
      "SVC | MCC: 0.583, AUC: 0.791, Accuracy: 0.771, Precision: 0.814, Recall: 0.791\n",
      "RFC | MCC: 0.652, AUC: 0.826, Accuracy: 0.805, Precision: 0.848, Recall: 0.825\n",
      "DTC | MCC: 0.453, AUC: 0.726, Accuracy: 0.698, Precision: 0.769, Recall: 0.725\n",
      "[22:48:54] WARNING: C:/Users/Administrator/workspace/xgboost-win64_release_1.4.0/src/learner.cc:1095: Starting in XGBoost 1.3.0, the default evaluation metric used with the objective 'binary:logistic' was changed from 'error' to 'logloss'. Explicitly set eval_metric if you'd like to restore the old behavior.\n",
      "XGBC | MCC: 0.618, AUC: 0.809, Accuracy: 0.790, Precision: 0.828, Recall: 0.809\n"
     ]
    }
   ],
   "source": [
    "models, results, num_sel_feat, features = fs_mrmr(X_train, y_train, X_val, y_val, X_train_norm, X_val_norm, True)"
   ]
  },
  {
   "cell_type": "code",
   "execution_count": 138,
   "id": "95e1e72c",
   "metadata": {},
   "outputs": [
    {
     "data": {
      "image/png": "[encoded data removed]",
      "text/plain": [
       "<Figure size 950x380 with 1 Axes>"
      ]
     },
     "metadata": {},
     "output_type": "display_data"
    }
   ],
   "source": [
    "mcc, auc = plot_classification_metrics(results, X_train)"
   ]
  },
  {
   "cell_type": "markdown",
   "id": "249510c9",
   "metadata": {},
   "source": [
    "Best performance occurs when the number of selected features is **65**. In this case, the model that better performs is **RFC**, with the following metrics: **MCC: 0.648, AUC: 0.824, Accuracy: 0.813, Precision: 0.831, Recall: 0.824**. This means there is a **0.16** improvement in the MCC score while using **143** less features."
   ]
  },
  {
   "cell_type": "code",
   "execution_count": 125,
   "id": "d22fc3a6",
   "metadata": {},
   "outputs": [],
   "source": [
    "# Take selected features by MRMR\n",
    "selected_features_mrmr = features[np.argmax(mcc)]"
   ]
  },
  {
   "cell_type": "code",
   "execution_count": null,
   "id": "cf488bfd",
   "metadata": {},
   "outputs": [],
   "source": []
  },
  {
   "cell_type": "markdown",
   "id": "ce365849",
   "metadata": {},
   "source": [
    "### Added: Classification for Ames dataset"
   ]
  },
  {
   "cell_type": "markdown",
   "id": "0e3454e6",
   "metadata": {},
   "source": [
    "### Train, validation, and test sets for both Descriptors \n"
   ]
  },
  {
   "cell_type": "code",
   "execution_count": 127,
   "id": "2b5830fa",
   "metadata": {},
   "outputs": [],
   "source": [
    "df_ames=df"
   ]
  },
  {
   "cell_type": "code",
   "execution_count": 128,
   "id": "d299ae02",
   "metadata": {},
   "outputs": [
    {
     "name": "stdout",
     "output_type": "stream",
     "text": [
      "Data has been split\n"
     ]
    }
   ],
   "source": [
    "X_train, X_train_desc, y_train, X_val, X_val_desc, y_val, X_test, X_test_desc, y_test = train_val_test_split(df_ames, split_AMES, df)"
   ]
  },
  {
   "cell_type": "markdown",
   "id": "8d87e531",
   "metadata": {},
   "source": [
    "### Remove NaNs"
   ]
  },
  {
   "cell_type": "code",
   "execution_count": 129,
   "id": "8f2181fe",
   "metadata": {},
   "outputs": [
    {
     "name": "stdout",
     "output_type": "stream",
     "text": [
      "Removed the following rows in the train set: Int64Index([231, 3258, 3693], dtype='int64')\n",
      "Removed the following rows in the val set: Int64Index([5482], dtype='int64')\n",
      "Removed the following rows in the test set: Int64Index([6439], dtype='int64')\n"
     ]
    }
   ],
   "source": [
    "X_train, X_train_desc, y_train, X_val, X_val_desc, X_test, y_test = remove_nans(X_train, X_val, X_test, y_train, y_val, y_test, X_train_desc, X_val_desc)"
   ]
  },
  {
   "cell_type": "markdown",
   "id": "f6dda48c",
   "metadata": {},
   "source": [
    "### Data normalization is required in linear models"
   ]
  },
  {
   "cell_type": "code",
   "execution_count": 130,
   "id": "5e704964",
   "metadata": {},
   "outputs": [
    {
     "name": "stdout",
     "output_type": "stream",
     "text": [
      "Data is now normalized.\n"
     ]
    }
   ],
   "source": [
    "X_train_norm, X_val_norm, X_test_norm = normalize_data(X_train, X_val, X_test)"
   ]
  },
  {
   "cell_type": "markdown",
   "id": "a4cbcf2d",
   "metadata": {},
   "source": [
    "### Check data balance across both the labels"
   ]
  },
  {
   "cell_type": "code",
   "execution_count": 131,
   "id": "252b5e89",
   "metadata": {},
   "outputs": [
    {
     "data": {
      "image/png": "[encoded data removed]",
      "text/plain": [
       "<Figure size 720x720 with 4 Axes>"
      ]
     },
     "metadata": {},
     "output_type": "display_data"
    }
   ],
   "source": [
    "#check_data_balance(df_ames, y_train, y_val, y_test)"
   ]
  },
  {
   "cell_type": "markdown",
   "id": "60b5b442",
   "metadata": {},
   "source": [
    "### Building Baseline models for descriptors"
   ]
  },
  {
   "cell_type": "code",
   "execution_count": 132,
   "id": "3e010480",
   "metadata": {},
   "outputs": [
    {
     "name": "stdout",
     "output_type": "stream",
     "text": [
      "MLPC | MCC: 0.524, AUC: 0.762, Accuracy: 0.749, Precision: 0.772, Recall: 0.762\n",
      "SVC | MCC: 0.583, AUC: 0.791, Accuracy: 0.771, Precision: 0.814, Recall: 0.791\n",
      "RFC | MCC: 0.632, AUC: 0.816, Accuracy: 0.799, Precision: 0.831, Recall: 0.816\n",
      "DTC | MCC: 0.495, AUC: 0.747, Accuracy: 0.728, Precision: 0.769, Recall: 0.747\n",
      "[22:52:01] WARNING: C:/Users/Administrator/workspace/xgboost-win64_release_1.4.0/src/learner.cc:1095: Starting in XGBoost 1.3.0, the default evaluation metric used with the objective 'binary:logistic' was changed from 'error' to 'logloss'. Explicitly set eval_metric if you'd like to restore the old behavior.\n",
      "XGBC | MCC: 0.582, AUC: 0.791, Accuracy: 0.777, Precision: 0.803, Recall: 0.791\n"
     ]
    },
    {
     "data": {
      "image/png": "[encoded data removed]",
      "text/plain": [
       "<Figure size 1425x570 with 1 Axes>"
      ]
     },
     "metadata": {},
     "output_type": "display_data"
    }
   ],
   "source": [
    "models_desc, results_desc = models_comparison(X_train, y_train, X_val, y_val, True,True, False, X_train_norm, X_val_norm)"
   ]
  },
  {
   "cell_type": "code",
   "execution_count": 133,
   "id": "e6bc0606",
   "metadata": {},
   "outputs": [
    {
     "name": "stderr",
     "output_type": "stream",
     "text": [
      "100%|██████████████████████████████████████████████████████████████████████████████████| 10/10 [00:02<00:00,  3.66it/s]\n"
     ]
    },
    {
     "name": "stdout",
     "output_type": "stream",
     "text": [
      "MLPC | MCC: 0.425, AUC: 0.712, Accuracy: 0.711, Precision: 0.693, Recall: 0.713\n",
      "SVC | MCC: 0.428, AUC: 0.714, Accuracy: 0.705, Precision: 0.713, Recall: 0.714\n",
      "RFC | MCC: 0.409, AUC: 0.705, Accuracy: 0.689, Precision: 0.718, Recall: 0.704\n",
      "DTC | MCC: 0.327, AUC: 0.664, Accuracy: 0.646, Precision: 0.687, Recall: 0.663\n",
      "[22:52:34] WARNING: C:/Users/Administrator/workspace/xgboost-win64_release_1.4.0/src/learner.cc:1095: Starting in XGBoost 1.3.0, the default evaluation metric used with the objective 'binary:logistic' was changed from 'error' to 'logloss'. Explicitly set eval_metric if you'd like to restore the old behavior.\n",
      "XGBC | MCC: 0.451, AUC: 0.725, Accuracy: 0.708, Precision: 0.744, Recall: 0.725\n"
     ]
    },
    {
     "name": "stderr",
     "output_type": "stream",
     "text": [
      "100%|██████████████████████████████████████████████████████████████████████████████████| 15/15 [00:03<00:00,  3.95it/s]\n"
     ]
    },
    {
     "name": "stdout",
     "output_type": "stream",
     "text": [
      "MLPC | MCC: 0.464, AUC: 0.732, Accuracy: 0.716, Precision: 0.746, Recall: 0.732\n",
      "SVC | MCC: 0.461, AUC: 0.730, Accuracy: 0.721, Precision: 0.730, Recall: 0.730\n",
      "RFC | MCC: 0.489, AUC: 0.744, Accuracy: 0.730, Precision: 0.755, Recall: 0.744\n",
      "DTC | MCC: 0.339, AUC: 0.669, Accuracy: 0.640, Precision: 0.730, Recall: 0.667\n",
      "[22:52:59] WARNING: C:/Users/Administrator/workspace/xgboost-win64_release_1.4.0/src/learner.cc:1095: Starting in XGBoost 1.3.0, the default evaluation metric used with the objective 'binary:logistic' was changed from 'error' to 'logloss'. Explicitly set eval_metric if you'd like to restore the old behavior.\n",
      "XGBC | MCC: 0.468, AUC: 0.734, Accuracy: 0.714, Precision: 0.758, Recall: 0.733\n"
     ]
    },
    {
     "name": "stderr",
     "output_type": "stream",
     "text": [
      "100%|██████████████████████████████████████████████████████████████████████████████████| 20/20 [00:05<00:00,  3.96it/s]\n"
     ]
    },
    {
     "name": "stdout",
     "output_type": "stream",
     "text": [
      "MLPC | MCC: 0.500, AUC: 0.750, Accuracy: 0.736, Precision: 0.761, Recall: 0.750\n",
      "SVC | MCC: 0.467, AUC: 0.733, Accuracy: 0.719, Precision: 0.744, Recall: 0.733\n",
      "RFC | MCC: 0.550, AUC: 0.775, Accuracy: 0.753, Precision: 0.800, Recall: 0.774\n",
      "DTC | MCC: 0.411, AUC: 0.705, Accuracy: 0.682, Precision: 0.738, Recall: 0.704\n",
      "[22:53:26] WARNING: C:/Users/Administrator/workspace/xgboost-win64_release_1.4.0/src/learner.cc:1095: Starting in XGBoost 1.3.0, the default evaluation metric used with the objective 'binary:logistic' was changed from 'error' to 'logloss'. Explicitly set eval_metric if you'd like to restore the old behavior.\n",
      "XGBC | MCC: 0.523, AUC: 0.761, Accuracy: 0.740, Precision: 0.786, Recall: 0.761\n"
     ]
    },
    {
     "name": "stderr",
     "output_type": "stream",
     "text": [
      "100%|██████████████████████████████████████████████████████████████████████████████████| 25/25 [00:06<00:00,  3.90it/s]\n"
     ]
    },
    {
     "name": "stdout",
     "output_type": "stream",
     "text": [
      "MLPC | MCC: 0.517, AUC: 0.758, Accuracy: 0.725, Precision: 0.808, Recall: 0.757\n",
      "SVC | MCC: 0.505, AUC: 0.752, Accuracy: 0.725, Precision: 0.789, Recall: 0.751\n",
      "RFC | MCC: 0.576, AUC: 0.788, Accuracy: 0.780, Precision: 0.789, Recall: 0.788\n",
      "DTC | MCC: 0.388, AUC: 0.694, Accuracy: 0.673, Precision: 0.724, Recall: 0.693\n",
      "[22:53:55] WARNING: C:/Users/Administrator/workspace/xgboost-win64_release_1.4.0/src/learner.cc:1095: Starting in XGBoost 1.3.0, the default evaluation metric used with the objective 'binary:logistic' was changed from 'error' to 'logloss'. Explicitly set eval_metric if you'd like to restore the old behavior.\n",
      "XGBC | MCC: 0.533, AUC: 0.767, Accuracy: 0.747, Precision: 0.789, Recall: 0.766\n"
     ]
    },
    {
     "name": "stderr",
     "output_type": "stream",
     "text": [
      "100%|██████████████████████████████████████████████████████████████████████████████████| 30/30 [00:08<00:00,  3.51it/s]\n"
     ]
    },
    {
     "name": "stdout",
     "output_type": "stream",
     "text": [
      "MLPC | MCC: 0.501, AUC: 0.750, Accuracy: 0.727, Precision: 0.780, Recall: 0.750\n",
      "SVC | MCC: 0.536, AUC: 0.768, Accuracy: 0.747, Precision: 0.792, Recall: 0.768\n",
      "RFC | MCC: 0.587, AUC: 0.794, Accuracy: 0.786, Precision: 0.794, Recall: 0.794\n",
      "DTC | MCC: 0.407, AUC: 0.703, Accuracy: 0.683, Precision: 0.730, Recall: 0.703\n",
      "[22:54:25] WARNING: C:/Users/Administrator/workspace/xgboost-win64_release_1.4.0/src/learner.cc:1095: Starting in XGBoost 1.3.0, the default evaluation metric used with the objective 'binary:logistic' was changed from 'error' to 'logloss'. Explicitly set eval_metric if you'd like to restore the old behavior.\n",
      "XGBC | MCC: 0.546, AUC: 0.773, Accuracy: 0.745, Precision: 0.808, Recall: 0.772\n"
     ]
    },
    {
     "name": "stderr",
     "output_type": "stream",
     "text": [
      "100%|██████████████████████████████████████████████████████████████████████████████████| 35/35 [00:11<00:00,  3.14it/s]\n"
     ]
    },
    {
     "name": "stdout",
     "output_type": "stream",
     "text": [
      "MLPC | MCC: 0.536, AUC: 0.766, Accuracy: 0.727, Precision: 0.831, Recall: 0.765\n",
      "SVC | MCC: 0.534, AUC: 0.767, Accuracy: 0.745, Precision: 0.792, Recall: 0.766\n",
      "RFC | MCC: 0.604, AUC: 0.802, Accuracy: 0.787, Precision: 0.814, Recall: 0.802\n",
      "DTC | MCC: 0.400, AUC: 0.700, Accuracy: 0.674, Precision: 0.741, Recall: 0.699\n",
      "[22:55:00] WARNING: C:/Users/Administrator/workspace/xgboost-win64_release_1.4.0/src/learner.cc:1095: Starting in XGBoost 1.3.0, the default evaluation metric used with the objective 'binary:logistic' was changed from 'error' to 'logloss'. Explicitly set eval_metric if you'd like to restore the old behavior.\n",
      "XGBC | MCC: 0.576, AUC: 0.788, Accuracy: 0.762, Precision: 0.820, Recall: 0.787\n"
     ]
    },
    {
     "name": "stderr",
     "output_type": "stream",
     "text": [
      "100%|██████████████████████████████████████████████████████████████████████████████████| 40/40 [00:11<00:00,  3.38it/s]\n"
     ]
    },
    {
     "name": "stdout",
     "output_type": "stream",
     "text": [
      "MLPC | MCC: 0.489, AUC: 0.744, Accuracy: 0.729, Precision: 0.758, Recall: 0.744\n",
      "SVC | MCC: 0.529, AUC: 0.764, Accuracy: 0.738, Precision: 0.800, Recall: 0.763\n",
      "RFC | MCC: 0.593, AUC: 0.797, Accuracy: 0.785, Precision: 0.803, Recall: 0.796\n",
      "DTC | MCC: 0.498, AUC: 0.749, Accuracy: 0.728, Precision: 0.775, Recall: 0.748\n",
      "[22:55:28] WARNING: C:/Users/Administrator/workspace/xgboost-win64_release_1.4.0/src/learner.cc:1095: Starting in XGBoost 1.3.0, the default evaluation metric used with the objective 'binary:logistic' was changed from 'error' to 'logloss'. Explicitly set eval_metric if you'd like to restore the old behavior.\n",
      "XGBC | MCC: 0.531, AUC: 0.765, Accuracy: 0.732, Precision: 0.814, Recall: 0.763\n"
     ]
    },
    {
     "name": "stderr",
     "output_type": "stream",
     "text": [
      "100%|██████████████████████████████████████████████████████████████████████████████████| 45/45 [00:13<00:00,  3.40it/s]\n"
     ]
    },
    {
     "name": "stdout",
     "output_type": "stream",
     "text": [
      "MLPC | MCC: 0.537, AUC: 0.768, Accuracy: 0.742, Precision: 0.803, Recall: 0.768\n",
      "SVC | MCC: 0.534, AUC: 0.767, Accuracy: 0.743, Precision: 0.797, Recall: 0.766\n",
      "RFC | MCC: 0.593, AUC: 0.796, Accuracy: 0.790, Precision: 0.794, Recall: 0.796\n",
      "DTC | MCC: 0.478, AUC: 0.739, Accuracy: 0.721, Precision: 0.758, Recall: 0.739\n",
      "[22:55:56] WARNING: C:/Users/Administrator/workspace/xgboost-win64_release_1.4.0/src/learner.cc:1095: Starting in XGBoost 1.3.0, the default evaluation metric used with the objective 'binary:logistic' was changed from 'error' to 'logloss'. Explicitly set eval_metric if you'd like to restore the old behavior.\n",
      "XGBC | MCC: 0.558, AUC: 0.779, Accuracy: 0.758, Precision: 0.803, Recall: 0.779\n"
     ]
    },
    {
     "name": "stderr",
     "output_type": "stream",
     "text": [
      "100%|██████████████████████████████████████████████████████████████████████████████████| 50/50 [00:14<00:00,  3.45it/s]\n"
     ]
    },
    {
     "name": "stdout",
     "output_type": "stream",
     "text": [
      "MLPC | MCC: 0.546, AUC: 0.773, Accuracy: 0.743, Precision: 0.814, Recall: 0.772\n",
      "SVC | MCC: 0.534, AUC: 0.767, Accuracy: 0.742, Precision: 0.800, Recall: 0.766\n",
      "RFC | MCC: 0.612, AUC: 0.806, Accuracy: 0.792, Precision: 0.817, Recall: 0.806\n",
      "DTC | MCC: 0.460, AUC: 0.730, Accuracy: 0.706, Precision: 0.763, Recall: 0.729\n",
      "[22:56:28] WARNING: C:/Users/Administrator/workspace/xgboost-win64_release_1.4.0/src/learner.cc:1095: Starting in XGBoost 1.3.0, the default evaluation metric used with the objective 'binary:logistic' was changed from 'error' to 'logloss'. Explicitly set eval_metric if you'd like to restore the old behavior.\n",
      "XGBC | MCC: 0.563, AUC: 0.781, Accuracy: 0.751, Precision: 0.823, Recall: 0.780\n"
     ]
    },
    {
     "name": "stderr",
     "output_type": "stream",
     "text": [
      "100%|██████████████████████████████████████████████████████████████████████████████████| 55/55 [00:18<00:00,  3.03it/s]\n"
     ]
    },
    {
     "name": "stdout",
     "output_type": "stream",
     "text": [
      "MLPC | MCC: 0.558, AUC: 0.779, Accuracy: 0.764, Precision: 0.792, Recall: 0.779\n",
      "SVC | MCC: 0.524, AUC: 0.762, Accuracy: 0.734, Precision: 0.800, Recall: 0.761\n",
      "RFC | MCC: 0.638, AUC: 0.819, Accuracy: 0.801, Precision: 0.837, Recall: 0.818\n",
      "DTC | MCC: 0.448, AUC: 0.724, Accuracy: 0.706, Precision: 0.744, Recall: 0.724\n",
      "[22:57:03] WARNING: C:/Users/Administrator/workspace/xgboost-win64_release_1.4.0/src/learner.cc:1095: Starting in XGBoost 1.3.0, the default evaluation metric used with the objective 'binary:logistic' was changed from 'error' to 'logloss'. Explicitly set eval_metric if you'd like to restore the old behavior.\n",
      "XGBC | MCC: 0.570, AUC: 0.785, Accuracy: 0.758, Precision: 0.820, Recall: 0.784\n"
     ]
    },
    {
     "name": "stderr",
     "output_type": "stream",
     "text": [
      "100%|██████████████████████████████████████████████████████████████████████████████████| 60/60 [00:18<00:00,  3.33it/s]\n"
     ]
    },
    {
     "name": "stdout",
     "output_type": "stream",
     "text": [
      "MLPC | MCC: 0.540, AUC: 0.770, Accuracy: 0.744, Precision: 0.803, Recall: 0.769\n",
      "SVC | MCC: 0.530, AUC: 0.764, Accuracy: 0.735, Precision: 0.806, Recall: 0.763\n",
      "RFC | MCC: 0.596, AUC: 0.798, Accuracy: 0.784, Precision: 0.808, Recall: 0.798\n",
      "DTC | MCC: 0.474, AUC: 0.737, Accuracy: 0.712, Precision: 0.772, Recall: 0.736\n",
      "[22:57:38] WARNING: C:/Users/Administrator/workspace/xgboost-win64_release_1.4.0/src/learner.cc:1095: Starting in XGBoost 1.3.0, the default evaluation metric used with the objective 'binary:logistic' was changed from 'error' to 'logloss'. Explicitly set eval_metric if you'd like to restore the old behavior.\n",
      "XGBC | MCC: 0.578, AUC: 0.789, Accuracy: 0.764, Precision: 0.820, Recall: 0.788\n"
     ]
    },
    {
     "name": "stderr",
     "output_type": "stream",
     "text": [
      "100%|██████████████████████████████████████████████████████████████████████████████████| 65/65 [00:20<00:00,  3.21it/s]\n"
     ]
    },
    {
     "name": "stdout",
     "output_type": "stream",
     "text": [
      "MLPC | MCC: 0.537, AUC: 0.769, Accuracy: 0.769, Precision: 0.752, Recall: 0.769\n",
      "SVC | MCC: 0.522, AUC: 0.760, Accuracy: 0.730, Precision: 0.806, Recall: 0.759\n",
      "RFC | MCC: 0.648, AUC: 0.824, Accuracy: 0.813, Precision: 0.831, Recall: 0.824\n",
      "DTC | MCC: 0.527, AUC: 0.763, Accuracy: 0.753, Precision: 0.766, Recall: 0.763\n",
      "[22:58:14] WARNING: C:/Users/Administrator/workspace/xgboost-win64_release_1.4.0/src/learner.cc:1095: Starting in XGBoost 1.3.0, the default evaluation metric used with the objective 'binary:logistic' was changed from 'error' to 'logloss'. Explicitly set eval_metric if you'd like to restore the old behavior.\n",
      "XGBC | MCC: 0.594, AUC: 0.797, Accuracy: 0.779, Precision: 0.814, Recall: 0.796\n"
     ]
    },
    {
     "name": "stderr",
     "output_type": "stream",
     "text": [
      "100%|██████████████████████████████████████████████████████████████████████████████████| 70/70 [00:20<00:00,  3.37it/s]\n"
     ]
    },
    {
     "name": "stdout",
     "output_type": "stream",
     "text": [
      "MLPC | MCC: 0.548, AUC: 0.774, Accuracy: 0.749, Precision: 0.806, Recall: 0.773\n",
      "SVC | MCC: 0.538, AUC: 0.768, Accuracy: 0.740, Precision: 0.808, Recall: 0.768\n",
      "RFC | MCC: 0.635, AUC: 0.817, Accuracy: 0.800, Precision: 0.834, Recall: 0.817\n",
      "DTC | MCC: 0.453, AUC: 0.727, Accuracy: 0.711, Precision: 0.741, Recall: 0.726\n",
      "[22:58:54] WARNING: C:/Users/Administrator/workspace/xgboost-win64_release_1.4.0/src/learner.cc:1095: Starting in XGBoost 1.3.0, the default evaluation metric used with the objective 'binary:logistic' was changed from 'error' to 'logloss'. Explicitly set eval_metric if you'd like to restore the old behavior.\n",
      "XGBC | MCC: 0.584, AUC: 0.792, Accuracy: 0.764, Precision: 0.828, Recall: 0.791\n"
     ]
    },
    {
     "name": "stderr",
     "output_type": "stream",
     "text": [
      "100%|██████████████████████████████████████████████████████████████████████████████████| 75/75 [00:22<00:00,  3.32it/s]\n"
     ]
    },
    {
     "name": "stdout",
     "output_type": "stream",
     "text": [
      "MLPC | MCC: 0.587, AUC: 0.794, Accuracy: 0.784, Precision: 0.797, Recall: 0.794\n",
      "SVC | MCC: 0.551, AUC: 0.775, Accuracy: 0.748, Precision: 0.811, Recall: 0.774\n",
      "RFC | MCC: 0.621, AUC: 0.810, Accuracy: 0.796, Precision: 0.823, Recall: 0.810\n",
      "DTC | MCC: 0.441, AUC: 0.721, Accuracy: 0.713, Precision: 0.715, Recall: 0.721\n",
      "[22:59:35] WARNING: C:/Users/Administrator/workspace/xgboost-win64_release_1.4.0/src/learner.cc:1095: Starting in XGBoost 1.3.0, the default evaluation metric used with the objective 'binary:logistic' was changed from 'error' to 'logloss'. Explicitly set eval_metric if you'd like to restore the old behavior.\n",
      "XGBC | MCC: 0.602, AUC: 0.801, Accuracy: 0.781, Precision: 0.823, Recall: 0.801\n"
     ]
    },
    {
     "name": "stderr",
     "output_type": "stream",
     "text": [
      "100%|██████████████████████████████████████████████████████████████████████████████████| 80/80 [00:23<00:00,  3.43it/s]\n"
     ]
    },
    {
     "name": "stdout",
     "output_type": "stream",
     "text": [
      "MLPC | MCC: 0.552, AUC: 0.774, Accuracy: 0.735, Precision: 0.837, Recall: 0.773\n",
      "SVC | MCC: 0.549, AUC: 0.774, Accuracy: 0.744, Precision: 0.817, Recall: 0.773\n",
      "RFC | MCC: 0.635, AUC: 0.817, Accuracy: 0.802, Precision: 0.831, Recall: 0.817\n",
      "DTC | MCC: 0.450, AUC: 0.725, Accuracy: 0.715, Precision: 0.727, Recall: 0.725\n",
      "[23:00:14] WARNING: C:/Users/Administrator/workspace/xgboost-win64_release_1.4.0/src/learner.cc:1095: Starting in XGBoost 1.3.0, the default evaluation metric used with the objective 'binary:logistic' was changed from 'error' to 'logloss'. Explicitly set eval_metric if you'd like to restore the old behavior.\n",
      "XGBC | MCC: 0.593, AUC: 0.797, Accuracy: 0.784, Precision: 0.806, Recall: 0.796\n"
     ]
    },
    {
     "name": "stderr",
     "output_type": "stream",
     "text": [
      "100%|██████████████████████████████████████████████████████████████████████████████████| 85/85 [00:26<00:00,  3.19it/s]\n"
     ]
    },
    {
     "name": "stdout",
     "output_type": "stream",
     "text": [
      "MLPC | MCC: 0.574, AUC: 0.786, Accuracy: 0.745, Precision: 0.848, Recall: 0.784\n",
      "SVC | MCC: 0.549, AUC: 0.774, Accuracy: 0.744, Precision: 0.817, Recall: 0.773\n",
      "RFC | MCC: 0.618, AUC: 0.809, Accuracy: 0.798, Precision: 0.814, Recall: 0.809\n",
      "DTC | MCC: 0.453, AUC: 0.726, Accuracy: 0.714, Precision: 0.732, Recall: 0.726\n",
      "[23:01:00] WARNING: C:/Users/Administrator/workspace/xgboost-win64_release_1.4.0/src/learner.cc:1095: Starting in XGBoost 1.3.0, the default evaluation metric used with the objective 'binary:logistic' was changed from 'error' to 'logloss'. Explicitly set eval_metric if you'd like to restore the old behavior.\n",
      "XGBC | MCC: 0.607, AUC: 0.804, Accuracy: 0.788, Precision: 0.817, Recall: 0.803\n"
     ]
    },
    {
     "name": "stderr",
     "output_type": "stream",
     "text": [
      "100%|██████████████████████████████████████████████████████████████████████████████████| 90/90 [00:25<00:00,  3.53it/s]\n"
     ]
    },
    {
     "name": "stdout",
     "output_type": "stream",
     "text": [
      "MLPC | MCC: 0.610, AUC: 0.805, Accuracy: 0.792, Precision: 0.814, Recall: 0.805\n",
      "SVC | MCC: 0.545, AUC: 0.771, Accuracy: 0.739, Precision: 0.820, Recall: 0.770\n",
      "RFC | MCC: 0.623, AUC: 0.812, Accuracy: 0.798, Precision: 0.823, Recall: 0.812\n",
      "DTC | MCC: 0.462, AUC: 0.731, Accuracy: 0.714, Precision: 0.746, Recall: 0.730\n",
      "[23:01:42] WARNING: C:/Users/Administrator/workspace/xgboost-win64_release_1.4.0/src/learner.cc:1095: Starting in XGBoost 1.3.0, the default evaluation metric used with the objective 'binary:logistic' was changed from 'error' to 'logloss'. Explicitly set eval_metric if you'd like to restore the old behavior.\n",
      "XGBC | MCC: 0.602, AUC: 0.801, Accuracy: 0.782, Precision: 0.820, Recall: 0.801\n"
     ]
    },
    {
     "name": "stderr",
     "output_type": "stream",
     "text": [
      "100%|██████████████████████████████████████████████████████████████████████████████████| 95/95 [00:27<00:00,  3.44it/s]\n"
     ]
    },
    {
     "name": "stdout",
     "output_type": "stream",
     "text": [
      "MLPC | MCC: 0.574, AUC: 0.787, Accuracy: 0.769, Precision: 0.806, Recall: 0.787\n",
      "SVC | MCC: 0.547, AUC: 0.773, Accuracy: 0.740, Precision: 0.820, Recall: 0.772\n",
      "RFC | MCC: 0.624, AUC: 0.812, Accuracy: 0.793, Precision: 0.831, Recall: 0.812\n",
      "DTC | MCC: 0.447, AUC: 0.724, Accuracy: 0.710, Precision: 0.732, Recall: 0.724\n",
      "[23:02:26] WARNING: C:/Users/Administrator/workspace/xgboost-win64_release_1.4.0/src/learner.cc:1095: Starting in XGBoost 1.3.0, the default evaluation metric used with the objective 'binary:logistic' was changed from 'error' to 'logloss'. Explicitly set eval_metric if you'd like to restore the old behavior.\n",
      "XGBC | MCC: 0.597, AUC: 0.798, Accuracy: 0.775, Precision: 0.825, Recall: 0.798\n"
     ]
    },
    {
     "name": "stderr",
     "output_type": "stream",
     "text": [
      "100%|████████████████████████████████████████████████████████████████████████████████| 100/100 [00:28<00:00,  3.53it/s]\n"
     ]
    },
    {
     "name": "stdout",
     "output_type": "stream",
     "text": [
      "MLPC | MCC: 0.602, AUC: 0.801, Accuracy: 0.782, Precision: 0.820, Recall: 0.801\n",
      "SVC | MCC: 0.539, AUC: 0.769, Accuracy: 0.736, Precision: 0.817, Recall: 0.768\n",
      "RFC | MCC: 0.621, AUC: 0.811, Accuracy: 0.791, Precision: 0.831, Recall: 0.810\n",
      "DTC | MCC: 0.476, AUC: 0.738, Accuracy: 0.715, Precision: 0.769, Recall: 0.737\n",
      "[23:03:13] WARNING: C:/Users/Administrator/workspace/xgboost-win64_release_1.4.0/src/learner.cc:1095: Starting in XGBoost 1.3.0, the default evaluation metric used with the objective 'binary:logistic' was changed from 'error' to 'logloss'. Explicitly set eval_metric if you'd like to restore the old behavior.\n",
      "XGBC | MCC: 0.578, AUC: 0.789, Accuracy: 0.768, Precision: 0.811, Recall: 0.788\n"
     ]
    },
    {
     "name": "stderr",
     "output_type": "stream",
     "text": [
      "100%|████████████████████████████████████████████████████████████████████████████████| 105/105 [00:32<00:00,  3.24it/s]\n"
     ]
    },
    {
     "name": "stdout",
     "output_type": "stream",
     "text": [
      "MLPC | MCC: 0.574, AUC: 0.787, Accuracy: 0.775, Precision: 0.794, Recall: 0.787\n",
      "SVC | MCC: 0.563, AUC: 0.781, Accuracy: 0.752, Precision: 0.820, Recall: 0.780\n",
      "RFC | MCC: 0.643, AUC: 0.822, Accuracy: 0.803, Precision: 0.839, Recall: 0.821\n",
      "DTC | MCC: 0.507, AUC: 0.753, Accuracy: 0.727, Precision: 0.789, Recall: 0.752\n",
      "[23:04:07] WARNING: C:/Users/Administrator/workspace/xgboost-win64_release_1.4.0/src/learner.cc:1095: Starting in XGBoost 1.3.0, the default evaluation metric used with the objective 'binary:logistic' was changed from 'error' to 'logloss'. Explicitly set eval_metric if you'd like to restore the old behavior.\n",
      "XGBC | MCC: 0.613, AUC: 0.806, Accuracy: 0.774, Precision: 0.848, Recall: 0.805\n"
     ]
    },
    {
     "name": "stderr",
     "output_type": "stream",
     "text": [
      "100%|████████████████████████████████████████████████████████████████████████████████| 110/110 [00:33<00:00,  3.33it/s]\n"
     ]
    },
    {
     "name": "stdout",
     "output_type": "stream",
     "text": [
      "MLPC | MCC: 0.557, AUC: 0.778, Accuracy: 0.787, Precision: 0.749, Recall: 0.779\n",
      "SVC | MCC: 0.554, AUC: 0.777, Accuracy: 0.750, Precision: 0.811, Recall: 0.776\n",
      "RFC | MCC: 0.647, AUC: 0.823, Accuracy: 0.797, Precision: 0.854, Recall: 0.823\n",
      "DTC | MCC: 0.479, AUC: 0.739, Accuracy: 0.715, Precision: 0.772, Recall: 0.739\n",
      "[23:05:02] WARNING: C:/Users/Administrator/workspace/xgboost-win64_release_1.4.0/src/learner.cc:1095: Starting in XGBoost 1.3.0, the default evaluation metric used with the objective 'binary:logistic' was changed from 'error' to 'logloss'. Explicitly set eval_metric if you'd like to restore the old behavior.\n",
      "XGBC | MCC: 0.592, AUC: 0.796, Accuracy: 0.770, Precision: 0.828, Recall: 0.795\n"
     ]
    },
    {
     "name": "stderr",
     "output_type": "stream",
     "text": [
      "100%|████████████████████████████████████████████████████████████████████████████████| 115/115 [00:30<00:00,  3.75it/s]\n"
     ]
    },
    {
     "name": "stdout",
     "output_type": "stream",
     "text": [
      "MLPC | MCC: 0.593, AUC: 0.796, Accuracy: 0.788, Precision: 0.797, Recall: 0.796\n",
      "SVC | MCC: 0.567, AUC: 0.783, Accuracy: 0.759, Precision: 0.814, Recall: 0.783\n",
      "RFC | MCC: 0.632, AUC: 0.816, Accuracy: 0.804, Precision: 0.823, Recall: 0.816\n",
      "DTC | MCC: 0.495, AUC: 0.747, Accuracy: 0.727, Precision: 0.772, Recall: 0.747\n",
      "[23:05:54] WARNING: C:/Users/Administrator/workspace/xgboost-win64_release_1.4.0/src/learner.cc:1095: Starting in XGBoost 1.3.0, the default evaluation metric used with the objective 'binary:logistic' was changed from 'error' to 'logloss'. Explicitly set eval_metric if you'd like to restore the old behavior.\n",
      "XGBC | MCC: 0.569, AUC: 0.784, Accuracy: 0.766, Precision: 0.803, Recall: 0.784\n"
     ]
    },
    {
     "name": "stderr",
     "output_type": "stream",
     "text": [
      "100%|████████████████████████████████████████████████████████████████████████████████| 120/120 [00:32<00:00,  3.68it/s]\n"
     ]
    },
    {
     "name": "stdout",
     "output_type": "stream",
     "text": [
      "MLPC | MCC: 0.559, AUC: 0.778, Accuracy: 0.744, Precision: 0.828, Recall: 0.777\n",
      "SVC | MCC: 0.564, AUC: 0.782, Accuracy: 0.758, Precision: 0.811, Recall: 0.781\n",
      "RFC | MCC: 0.641, AUC: 0.820, Accuracy: 0.801, Precision: 0.839, Recall: 0.820\n",
      "DTC | MCC: 0.495, AUC: 0.747, Accuracy: 0.727, Precision: 0.772, Recall: 0.747\n",
      "[23:06:48] WARNING: C:/Users/Administrator/workspace/xgboost-win64_release_1.4.0/src/learner.cc:1095: Starting in XGBoost 1.3.0, the default evaluation metric used with the objective 'binary:logistic' was changed from 'error' to 'logloss'. Explicitly set eval_metric if you'd like to restore the old behavior.\n",
      "XGBC | MCC: 0.603, AUC: 0.801, Accuracy: 0.776, Precision: 0.831, Recall: 0.801\n"
     ]
    },
    {
     "name": "stderr",
     "output_type": "stream",
     "text": [
      "100%|████████████████████████████████████████████████████████████████████████████████| 125/125 [00:33<00:00,  3.79it/s]\n"
     ]
    },
    {
     "name": "stdout",
     "output_type": "stream",
     "text": [
      "MLPC | MCC: 0.535, AUC: 0.767, Accuracy: 0.763, Precision: 0.761, Recall: 0.768\n",
      "SVC | MCC: 0.573, AUC: 0.786, Accuracy: 0.763, Precision: 0.814, Recall: 0.785\n",
      "RFC | MCC: 0.612, AUC: 0.806, Accuracy: 0.794, Precision: 0.814, Recall: 0.806\n",
      "DTC | MCC: 0.477, AUC: 0.738, Accuracy: 0.714, Precision: 0.772, Recall: 0.737\n",
      "[23:07:44] WARNING: C:/Users/Administrator/workspace/xgboost-win64_release_1.4.0/src/learner.cc:1095: Starting in XGBoost 1.3.0, the default evaluation metric used with the objective 'binary:logistic' was changed from 'error' to 'logloss'. Explicitly set eval_metric if you'd like to restore the old behavior.\n",
      "XGBC | MCC: 0.608, AUC: 0.804, Accuracy: 0.779, Precision: 0.834, Recall: 0.803\n"
     ]
    },
    {
     "name": "stderr",
     "output_type": "stream",
     "text": [
      "100%|████████████████████████████████████████████████████████████████████████████████| 130/130 [00:34<00:00,  3.74it/s]\n"
     ]
    },
    {
     "name": "stdout",
     "output_type": "stream",
     "text": [
      "MLPC | MCC: 0.538, AUC: 0.768, Accuracy: 0.740, Precision: 0.808, Recall: 0.768\n",
      "SVC | MCC: 0.564, AUC: 0.782, Accuracy: 0.758, Precision: 0.811, Recall: 0.781\n",
      "RFC | MCC: 0.616, AUC: 0.808, Accuracy: 0.787, Precision: 0.831, Recall: 0.807\n",
      "DTC | MCC: 0.480, AUC: 0.740, Accuracy: 0.712, Precision: 0.780, Recall: 0.739\n",
      "[23:08:40] WARNING: C:/Users/Administrator/workspace/xgboost-win64_release_1.4.0/src/learner.cc:1095: Starting in XGBoost 1.3.0, the default evaluation metric used with the objective 'binary:logistic' was changed from 'error' to 'logloss'. Explicitly set eval_metric if you'd like to restore the old behavior.\n",
      "XGBC | MCC: 0.612, AUC: 0.806, Accuracy: 0.792, Precision: 0.817, Recall: 0.806\n"
     ]
    },
    {
     "name": "stderr",
     "output_type": "stream",
     "text": [
      "100%|████████████████████████████████████████████████████████████████████████████████| 135/135 [00:32<00:00,  4.11it/s]\n"
     ]
    },
    {
     "name": "stdout",
     "output_type": "stream",
     "text": [
      "MLPC | MCC: 0.545, AUC: 0.772, Accuracy: 0.751, Precision: 0.797, Recall: 0.772\n",
      "SVC | MCC: 0.564, AUC: 0.782, Accuracy: 0.758, Precision: 0.811, Recall: 0.781\n",
      "RFC | MCC: 0.610, AUC: 0.805, Accuracy: 0.792, Precision: 0.814, Recall: 0.805\n",
      "DTC | MCC: 0.478, AUC: 0.739, Accuracy: 0.721, Precision: 0.758, Recall: 0.739\n",
      "[23:09:33] WARNING: C:/Users/Administrator/workspace/xgboost-win64_release_1.4.0/src/learner.cc:1095: Starting in XGBoost 1.3.0, the default evaluation metric used with the objective 'binary:logistic' was changed from 'error' to 'logloss'. Explicitly set eval_metric if you'd like to restore the old behavior.\n",
      "XGBC | MCC: 0.593, AUC: 0.797, Accuracy: 0.780, Precision: 0.811, Recall: 0.796\n"
     ]
    },
    {
     "name": "stderr",
     "output_type": "stream",
     "text": [
      "100%|████████████████████████████████████████████████████████████████████████████████| 140/140 [00:34<00:00,  4.03it/s]\n"
     ]
    },
    {
     "name": "stdout",
     "output_type": "stream",
     "text": [
      "MLPC | MCC: 0.562, AUC: 0.781, Accuracy: 0.755, Precision: 0.814, Recall: 0.780\n",
      "SVC | MCC: 0.572, AUC: 0.786, Accuracy: 0.764, Precision: 0.811, Recall: 0.785\n",
      "RFC | MCC: 0.621, AUC: 0.810, Accuracy: 0.797, Precision: 0.820, Recall: 0.810\n",
      "DTC | MCC: 0.453, AUC: 0.726, Accuracy: 0.713, Precision: 0.735, Recall: 0.726\n",
      "[23:10:31] WARNING: C:/Users/Administrator/workspace/xgboost-win64_release_1.4.0/src/learner.cc:1095: Starting in XGBoost 1.3.0, the default evaluation metric used with the objective 'binary:logistic' was changed from 'error' to 'logloss'. Explicitly set eval_metric if you'd like to restore the old behavior.\n",
      "XGBC | MCC: 0.594, AUC: 0.797, Accuracy: 0.775, Precision: 0.823, Recall: 0.796\n"
     ]
    },
    {
     "name": "stderr",
     "output_type": "stream",
     "text": [
      "100%|████████████████████████████████████████████████████████████████████████████████| 145/145 [00:31<00:00,  4.60it/s]\n"
     ]
    },
    {
     "name": "stdout",
     "output_type": "stream",
     "text": [
      "MLPC | MCC: 0.569, AUC: 0.784, Accuracy: 0.766, Precision: 0.803, Recall: 0.784\n",
      "SVC | MCC: 0.581, AUC: 0.790, Accuracy: 0.767, Precision: 0.817, Recall: 0.790\n",
      "RFC | MCC: 0.641, AUC: 0.820, Accuracy: 0.798, Precision: 0.845, Recall: 0.820\n",
      "DTC | MCC: 0.407, AUC: 0.704, Accuracy: 0.682, Precision: 0.732, Recall: 0.703\n",
      "[23:11:23] WARNING: C:/Users/Administrator/workspace/xgboost-win64_release_1.4.0/src/learner.cc:1095: Starting in XGBoost 1.3.0, the default evaluation metric used with the objective 'binary:logistic' was changed from 'error' to 'logloss'. Explicitly set eval_metric if you'd like to restore the old behavior.\n",
      "XGBC | MCC: 0.562, AUC: 0.781, Accuracy: 0.755, Precision: 0.814, Recall: 0.780\n"
     ]
    },
    {
     "name": "stderr",
     "output_type": "stream",
     "text": [
      "100%|████████████████████████████████████████████████████████████████████████████████| 150/150 [00:32<00:00,  4.62it/s]\n"
     ]
    },
    {
     "name": "stdout",
     "output_type": "stream",
     "text": [
      "MLPC | MCC: 0.569, AUC: 0.785, Accuracy: 0.765, Precision: 0.806, Recall: 0.784\n",
      "SVC | MCC: 0.586, AUC: 0.793, Accuracy: 0.771, Precision: 0.817, Recall: 0.792\n",
      "RFC | MCC: 0.634, AUC: 0.817, Accuracy: 0.812, Precision: 0.814, Recall: 0.817\n",
      "DTC | MCC: 0.448, AUC: 0.724, Accuracy: 0.704, Precision: 0.749, Recall: 0.724\n",
      "[23:12:15] WARNING: C:/Users/Administrator/workspace/xgboost-win64_release_1.4.0/src/learner.cc:1095: Starting in XGBoost 1.3.0, the default evaluation metric used with the objective 'binary:logistic' was changed from 'error' to 'logloss'. Explicitly set eval_metric if you'd like to restore the old behavior.\n",
      "XGBC | MCC: 0.596, AUC: 0.798, Accuracy: 0.780, Precision: 0.817, Recall: 0.798\n"
     ]
    },
    {
     "name": "stderr",
     "output_type": "stream",
     "text": [
      "100%|████████████████████████████████████████████████████████████████████████████████| 155/155 [00:34<00:00,  4.46it/s]\n"
     ]
    },
    {
     "name": "stdout",
     "output_type": "stream",
     "text": [
      "MLPC | MCC: 0.615, AUC: 0.808, Accuracy: 0.791, Precision: 0.823, Recall: 0.807\n",
      "SVC | MCC: 0.580, AUC: 0.790, Accuracy: 0.769, Precision: 0.814, Recall: 0.790\n",
      "RFC | MCC: 0.629, AUC: 0.815, Accuracy: 0.799, Precision: 0.828, Recall: 0.814\n",
      "DTC | MCC: 0.447, AUC: 0.724, Accuracy: 0.710, Precision: 0.732, Recall: 0.724\n",
      "[23:13:11] WARNING: C:/Users/Administrator/workspace/xgboost-win64_release_1.4.0/src/learner.cc:1095: Starting in XGBoost 1.3.0, the default evaluation metric used with the objective 'binary:logistic' was changed from 'error' to 'logloss'. Explicitly set eval_metric if you'd like to restore the old behavior.\n",
      "XGBC | MCC: 0.595, AUC: 0.797, Accuracy: 0.769, Precision: 0.834, Recall: 0.796\n"
     ]
    },
    {
     "name": "stderr",
     "output_type": "stream",
     "text": [
      "100%|████████████████████████████████████████████████████████████████████████████████| 160/160 [00:33<00:00,  4.80it/s]\n"
     ]
    },
    {
     "name": "stdout",
     "output_type": "stream",
     "text": [
      "MLPC | MCC: 0.571, AUC: 0.786, Accuracy: 0.773, Precision: 0.794, Recall: 0.785\n",
      "SVC | MCC: 0.572, AUC: 0.786, Accuracy: 0.764, Precision: 0.811, Recall: 0.785\n",
      "RFC | MCC: 0.635, AUC: 0.817, Accuracy: 0.802, Precision: 0.831, Recall: 0.817\n",
      "DTC | MCC: 0.467, AUC: 0.733, Accuracy: 0.718, Precision: 0.746, Recall: 0.733\n",
      "[23:14:02] WARNING: C:/Users/Administrator/workspace/xgboost-win64_release_1.4.0/src/learner.cc:1095: Starting in XGBoost 1.3.0, the default evaluation metric used with the objective 'binary:logistic' was changed from 'error' to 'logloss'. Explicitly set eval_metric if you'd like to restore the old behavior.\n",
      "XGBC | MCC: 0.599, AUC: 0.799, Accuracy: 0.785, Precision: 0.811, Recall: 0.799\n"
     ]
    },
    {
     "name": "stderr",
     "output_type": "stream",
     "text": [
      "100%|████████████████████████████████████████████████████████████████████████████████| 165/165 [00:34<00:00,  4.76it/s]\n"
     ]
    },
    {
     "name": "stdout",
     "output_type": "stream",
     "text": [
      "MLPC | MCC: 0.593, AUC: 0.796, Accuracy: 0.768, Precision: 0.831, Recall: 0.795\n",
      "SVC | MCC: 0.575, AUC: 0.787, Accuracy: 0.765, Precision: 0.814, Recall: 0.787\n",
      "RFC | MCC: 0.646, AUC: 0.823, Accuracy: 0.804, Precision: 0.842, Recall: 0.823\n",
      "DTC | MCC: 0.414, AUC: 0.707, Accuracy: 0.693, Precision: 0.718, Recall: 0.707\n",
      "[23:15:02] WARNING: C:/Users/Administrator/workspace/xgboost-win64_release_1.4.0/src/learner.cc:1095: Starting in XGBoost 1.3.0, the default evaluation metric used with the objective 'binary:logistic' was changed from 'error' to 'logloss'. Explicitly set eval_metric if you'd like to restore the old behavior.\n",
      "XGBC | MCC: 0.599, AUC: 0.799, Accuracy: 0.786, Precision: 0.808, Recall: 0.799\n"
     ]
    },
    {
     "name": "stderr",
     "output_type": "stream",
     "text": [
      "100%|████████████████████████████████████████████████████████████████████████████████| 170/170 [00:34<00:00,  4.94it/s]\n"
     ]
    },
    {
     "name": "stdout",
     "output_type": "stream",
     "text": [
      "MLPC | MCC: 0.569, AUC: 0.785, Accuracy: 0.765, Precision: 0.806, Recall: 0.784\n",
      "SVC | MCC: 0.570, AUC: 0.785, Accuracy: 0.761, Precision: 0.814, Recall: 0.784\n",
      "RFC | MCC: 0.638, AUC: 0.819, Accuracy: 0.797, Precision: 0.842, Recall: 0.818\n",
      "DTC | MCC: 0.457, AUC: 0.728, Accuracy: 0.707, Precision: 0.755, Recall: 0.728\n",
      "[23:15:58] WARNING: C:/Users/Administrator/workspace/xgboost-win64_release_1.4.0/src/learner.cc:1095: Starting in XGBoost 1.3.0, the default evaluation metric used with the objective 'binary:logistic' was changed from 'error' to 'logloss'. Explicitly set eval_metric if you'd like to restore the old behavior.\n",
      "XGBC | MCC: 0.599, AUC: 0.800, Accuracy: 0.783, Precision: 0.814, Recall: 0.799\n"
     ]
    },
    {
     "name": "stderr",
     "output_type": "stream",
     "text": [
      "100%|████████████████████████████████████████████████████████████████████████████████| 175/175 [00:35<00:00,  4.87it/s]\n"
     ]
    },
    {
     "name": "stdout",
     "output_type": "stream",
     "text": [
      "MLPC | MCC: 0.580, AUC: 0.790, Accuracy: 0.772, Precision: 0.808, Recall: 0.790\n",
      "SVC | MCC: 0.573, AUC: 0.786, Accuracy: 0.763, Precision: 0.814, Recall: 0.785\n",
      "RFC | MCC: 0.649, AUC: 0.824, Accuracy: 0.806, Precision: 0.842, Recall: 0.824\n",
      "DTC | MCC: 0.470, AUC: 0.735, Accuracy: 0.720, Precision: 0.746, Recall: 0.735\n",
      "[23:16:56] WARNING: C:/Users/Administrator/workspace/xgboost-win64_release_1.4.0/src/learner.cc:1095: Starting in XGBoost 1.3.0, the default evaluation metric used with the objective 'binary:logistic' was changed from 'error' to 'logloss'. Explicitly set eval_metric if you'd like to restore the old behavior.\n",
      "XGBC | MCC: 0.604, AUC: 0.802, Accuracy: 0.787, Precision: 0.814, Recall: 0.802\n"
     ]
    },
    {
     "name": "stderr",
     "output_type": "stream",
     "text": [
      "100%|████████████████████████████████████████████████████████████████████████████████| 180/180 [00:34<00:00,  5.17it/s]\n"
     ]
    },
    {
     "name": "stdout",
     "output_type": "stream",
     "text": [
      "MLPC | MCC: 0.571, AUC: 0.785, Accuracy: 0.779, Precision: 0.783, Recall: 0.785\n",
      "SVC | MCC: 0.567, AUC: 0.783, Accuracy: 0.761, Precision: 0.808, Recall: 0.783\n",
      "RFC | MCC: 0.632, AUC: 0.816, Accuracy: 0.803, Precision: 0.825, Recall: 0.816\n",
      "DTC | MCC: 0.451, AUC: 0.725, Accuracy: 0.708, Precision: 0.744, Recall: 0.725\n",
      "[23:17:56] WARNING: C:/Users/Administrator/workspace/xgboost-win64_release_1.4.0/src/learner.cc:1095: Starting in XGBoost 1.3.0, the default evaluation metric used with the objective 'binary:logistic' was changed from 'error' to 'logloss'. Explicitly set eval_metric if you'd like to restore the old behavior.\n",
      "XGBC | MCC: 0.612, AUC: 0.806, Accuracy: 0.792, Precision: 0.817, Recall: 0.806\n"
     ]
    },
    {
     "name": "stderr",
     "output_type": "stream",
     "text": [
      "100%|████████████████████████████████████████████████████████████████████████████████| 185/185 [00:39<00:00,  4.63it/s]\n"
     ]
    },
    {
     "name": "stdout",
     "output_type": "stream",
     "text": [
      "MLPC | MCC: 0.579, AUC: 0.789, Accuracy: 0.761, Precision: 0.825, Recall: 0.788\n",
      "SVC | MCC: 0.575, AUC: 0.787, Accuracy: 0.765, Precision: 0.814, Recall: 0.787\n",
      "RFC | MCC: 0.634, AUC: 0.817, Accuracy: 0.803, Precision: 0.828, Recall: 0.817\n",
      "DTC | MCC: 0.461, AUC: 0.730, Accuracy: 0.721, Precision: 0.730, Recall: 0.730\n",
      "[23:19:04] WARNING: C:/Users/Administrator/workspace/xgboost-win64_release_1.4.0/src/learner.cc:1095: Starting in XGBoost 1.3.0, the default evaluation metric used with the objective 'binary:logistic' was changed from 'error' to 'logloss'. Explicitly set eval_metric if you'd like to restore the old behavior.\n",
      "XGBC | MCC: 0.608, AUC: 0.804, Accuracy: 0.782, Precision: 0.828, Recall: 0.803\n"
     ]
    },
    {
     "name": "stderr",
     "output_type": "stream",
     "text": [
      "100%|████████████████████████████████████████████████████████████████████████████████| 190/190 [00:33<00:00,  5.61it/s]\n"
     ]
    },
    {
     "name": "stdout",
     "output_type": "stream",
     "text": [
      "MLPC | MCC: 0.571, AUC: 0.786, Accuracy: 0.770, Precision: 0.800, Recall: 0.785\n",
      "SVC | MCC: 0.581, AUC: 0.790, Accuracy: 0.767, Precision: 0.817, Recall: 0.790\n",
      "RFC | MCC: 0.624, AUC: 0.812, Accuracy: 0.793, Precision: 0.831, Recall: 0.812\n",
      "DTC | MCC: 0.475, AUC: 0.737, Accuracy: 0.724, Precision: 0.746, Recall: 0.737\n",
      "[23:20:07] WARNING: C:/Users/Administrator/workspace/xgboost-win64_release_1.4.0/src/learner.cc:1095: Starting in XGBoost 1.3.0, the default evaluation metric used with the objective 'binary:logistic' was changed from 'error' to 'logloss'. Explicitly set eval_metric if you'd like to restore the old behavior.\n",
      "XGBC | MCC: 0.616, AUC: 0.808, Accuracy: 0.785, Precision: 0.834, Recall: 0.807\n"
     ]
    },
    {
     "name": "stderr",
     "output_type": "stream",
     "text": [
      "100%|████████████████████████████████████████████████████████████████████████████████| 195/195 [00:33<00:00,  5.74it/s]\n"
     ]
    },
    {
     "name": "stdout",
     "output_type": "stream",
     "text": [
      "MLPC | MCC: 0.570, AUC: 0.785, Accuracy: 0.758, Precision: 0.820, Recall: 0.784\n",
      "SVC | MCC: 0.583, AUC: 0.792, Accuracy: 0.769, Precision: 0.817, Recall: 0.791\n",
      "RFC | MCC: 0.640, AUC: 0.820, Accuracy: 0.806, Precision: 0.831, Recall: 0.820\n",
      "DTC | MCC: 0.451, AUC: 0.725, Accuracy: 0.706, Precision: 0.749, Recall: 0.725\n",
      "[23:21:03] WARNING: C:/Users/Administrator/workspace/xgboost-win64_release_1.4.0/src/learner.cc:1095: Starting in XGBoost 1.3.0, the default evaluation metric used with the objective 'binary:logistic' was changed from 'error' to 'logloss'. Explicitly set eval_metric if you'd like to restore the old behavior.\n",
      "XGBC | MCC: 0.632, AUC: 0.816, Accuracy: 0.799, Precision: 0.831, Recall: 0.816\n"
     ]
    },
    {
     "name": "stderr",
     "output_type": "stream",
     "text": [
      "100%|████████████████████████████████████████████████████████████████████████████████| 200/200 [00:36<00:00,  5.49it/s]\n"
     ]
    },
    {
     "name": "stdout",
     "output_type": "stream",
     "text": [
      "MLPC | MCC: 0.588, AUC: 0.794, Accuracy: 0.776, Precision: 0.811, Recall: 0.794\n",
      "SVC | MCC: 0.575, AUC: 0.787, Accuracy: 0.767, Precision: 0.808, Recall: 0.787\n",
      "RFC | MCC: 0.618, AUC: 0.809, Accuracy: 0.795, Precision: 0.820, Recall: 0.809\n",
      "DTC | MCC: 0.497, AUC: 0.748, Accuracy: 0.718, Precision: 0.794, Recall: 0.747\n",
      "[23:22:08] WARNING: C:/Users/Administrator/workspace/xgboost-win64_release_1.4.0/src/learner.cc:1095: Starting in XGBoost 1.3.0, the default evaluation metric used with the objective 'binary:logistic' was changed from 'error' to 'logloss'. Explicitly set eval_metric if you'd like to restore the old behavior.\n",
      "XGBC | MCC: 0.618, AUC: 0.809, Accuracy: 0.795, Precision: 0.820, Recall: 0.809\n"
     ]
    },
    {
     "name": "stderr",
     "output_type": "stream",
     "text": [
      "100%|████████████████████████████████████████████████████████████████████████████████| 202/202 [00:41<00:00,  4.87it/s]\n"
     ]
    },
    {
     "name": "stdout",
     "output_type": "stream",
     "text": [
      "MLPC | MCC: 0.598, AUC: 0.799, Accuracy: 0.798, Precision: 0.789, Recall: 0.799\n",
      "SVC | MCC: 0.583, AUC: 0.791, Accuracy: 0.771, Precision: 0.814, Recall: 0.791\n",
      "RFC | MCC: 0.652, AUC: 0.826, Accuracy: 0.805, Precision: 0.848, Recall: 0.825\n",
      "DTC | MCC: 0.453, AUC: 0.726, Accuracy: 0.698, Precision: 0.769, Recall: 0.725\n",
      "[23:23:13] WARNING: C:/Users/Administrator/workspace/xgboost-win64_release_1.4.0/src/learner.cc:1095: Starting in XGBoost 1.3.0, the default evaluation metric used with the objective 'binary:logistic' was changed from 'error' to 'logloss'. Explicitly set eval_metric if you'd like to restore the old behavior.\n",
      "XGBC | MCC: 0.618, AUC: 0.809, Accuracy: 0.790, Precision: 0.828, Recall: 0.809\n"
     ]
    }
   ],
   "source": [
    "models_mrmr, results_mrmr, num_sel_feat_mrmr, features_mrmr = fs_mrmr(X_train, y_train, X_val, y_val, X_train_norm, X_val_norm, True)"
   ]
  },
  {
   "cell_type": "code",
   "execution_count": 137,
   "id": "6ddafb3e",
   "metadata": {
    "scrolled": true
   },
   "outputs": [
    {
     "data": {
      "image/png": "[encoded data removed]",
      "text/plain": [
       "<Figure size 950x380 with 1 Axes>"
      ]
     },
     "metadata": {},
     "output_type": "display_data"
    }
   ],
   "source": [
    "mcc_mrmr, auc_mrmr = plot_classification_metrics(results_mrmr, X_train)"
   ]
  },
  {
   "cell_type": "code",
   "execution_count": 175,
   "id": "450e5f92",
   "metadata": {},
   "outputs": [],
   "source": [
    "# Added\n",
    "# Take selected features by MRMR\n",
    "selected_features_mr = features_mrmr[np.argmax(mcc_mrmr)]\n"
   ]
  },
  {
   "cell_type": "code",
   "execution_count": null,
   "id": "8f5fe7e1",
   "metadata": {},
   "outputs": [],
   "source": [
    "# Added\n",
    "rnd_models_mr, metrics_rnd_mr = apply_randsearch(X_train[selected_features_mr]\n",
    "                                                        , y_train                                                       \n",
    "                                                        , X_val[selected_features_mr]\n",
    "                                                        , y_val\n",
    "                                                        , False\n",
    "                                                        , X_train_norm[selected_features_mr]\n",
    "                                                        , X_val_norm[selected_features_mr])"
   ]
  },
  {
   "cell_type": "markdown",
   "id": "e1ed6aed",
   "metadata": {},
   "source": [
    "### Applying Relief feature selection"
   ]
  },
  {
   "cell_type": "code",
   "execution_count": 148,
   "id": "ae005489",
   "metadata": {},
   "outputs": [],
   "source": [
    "# ADDED\n",
    "# Applying Relief feature selection\n",
    "\n"
   ]
  },
  {
   "cell_type": "code",
   "execution_count": 149,
   "id": "c71099af",
   "metadata": {},
   "outputs": [
    {
     "name": "stdout",
     "output_type": "stream",
     "text": [
      "\n",
      "=======================Selected features 10/207 =======================\n",
      "MLPC | MCC: 0.474, AUC: 0.736, Accuracy: 0.703, Precision: 0.792, Recall: 0.735\n",
      "SVC | MCC: 0.416, AUC: 0.706, Accuracy: 0.669, Precision: 0.780, Recall: 0.704\n",
      "RFC | MCC: 0.585, AUC: 0.793, Accuracy: 0.776, Precision: 0.808, Recall: 0.792\n",
      "DTC | MCC: 0.439, AUC: 0.719, Accuracy: 0.692, Precision: 0.761, Recall: 0.718\n",
      "[00:03:03] WARNING: C:/Users/Administrator/workspace/xgboost-win64_release_1.4.0/src/learner.cc:1095: Starting in XGBoost 1.3.0, the default evaluation metric used with the objective 'binary:logistic' was changed from 'error' to 'logloss'. Explicitly set eval_metric if you'd like to restore the old behavior.\n",
      "XGBC | MCC: 0.579, AUC: 0.789, Accuracy: 0.760, Precision: 0.828, Recall: 0.788\n",
      "\n",
      "=======================Selected features 15/207 =======================\n",
      "MLPC | MCC: 0.487, AUC: 0.743, Accuracy: 0.721, Precision: 0.772, Recall: 0.743\n",
      "SVC | MCC: 0.455, AUC: 0.726, Accuracy: 0.693, Precision: 0.783, Recall: 0.725\n",
      "RFC | MCC: 0.591, AUC: 0.795, Accuracy: 0.778, Precision: 0.811, Recall: 0.795\n",
      "DTC | MCC: 0.507, AUC: 0.753, Accuracy: 0.728, Precision: 0.786, Recall: 0.752\n",
      "[00:12:45] WARNING: C:/Users/Administrator/workspace/xgboost-win64_release_1.4.0/src/learner.cc:1095: Starting in XGBoost 1.3.0, the default evaluation metric used with the objective 'binary:logistic' was changed from 'error' to 'logloss'. Explicitly set eval_metric if you'd like to restore the old behavior.\n",
      "XGBC | MCC: 0.568, AUC: 0.783, Accuracy: 0.757, Precision: 0.817, Recall: 0.783\n",
      "\n",
      "=======================Selected features 20/207 =======================\n",
      "MLPC | MCC: 0.503, AUC: 0.751, Accuracy: 0.734, Precision: 0.769, Recall: 0.751\n",
      "SVC | MCC: 0.480, AUC: 0.739, Accuracy: 0.704, Precision: 0.797, Recall: 0.737\n",
      "RFC | MCC: 0.599, AUC: 0.800, Accuracy: 0.783, Precision: 0.814, Recall: 0.799\n",
      "DTC | MCC: 0.474, AUC: 0.737, Accuracy: 0.713, Precision: 0.769, Recall: 0.736\n",
      "[00:22:14] WARNING: C:/Users/Administrator/workspace/xgboost-win64_release_1.4.0/src/learner.cc:1095: Starting in XGBoost 1.3.0, the default evaluation metric used with the objective 'binary:logistic' was changed from 'error' to 'logloss'. Explicitly set eval_metric if you'd like to restore the old behavior.\n",
      "XGBC | MCC: 0.575, AUC: 0.787, Accuracy: 0.766, Precision: 0.811, Recall: 0.787\n",
      "\n",
      "=======================Selected features 25/207 =======================\n",
      "MLPC | MCC: 0.536, AUC: 0.768, Accuracy: 0.750, Precision: 0.786, Recall: 0.768\n",
      "SVC | MCC: 0.524, AUC: 0.762, Accuracy: 0.734, Precision: 0.800, Recall: 0.761\n",
      "RFC | MCC: 0.619, AUC: 0.809, Accuracy: 0.787, Precision: 0.834, Recall: 0.809\n",
      "DTC | MCC: 0.448, AUC: 0.723, Accuracy: 0.695, Precision: 0.769, Recall: 0.722\n",
      "[00:31:39] WARNING: C:/Users/Administrator/workspace/xgboost-win64_release_1.4.0/src/learner.cc:1095: Starting in XGBoost 1.3.0, the default evaluation metric used with the objective 'binary:logistic' was changed from 'error' to 'logloss'. Explicitly set eval_metric if you'd like to restore the old behavior.\n",
      "XGBC | MCC: 0.595, AUC: 0.797, Accuracy: 0.769, Precision: 0.834, Recall: 0.796\n",
      "\n",
      "=======================Selected features 30/207 =======================\n",
      "MLPC | MCC: 0.592, AUC: 0.796, Accuracy: 0.771, Precision: 0.825, Recall: 0.795\n",
      "SVC | MCC: 0.517, AUC: 0.758, Accuracy: 0.740, Precision: 0.777, Recall: 0.758\n",
      "RFC | MCC: 0.613, AUC: 0.806, Accuracy: 0.788, Precision: 0.825, Recall: 0.806\n",
      "DTC | MCC: 0.417, AUC: 0.709, Accuracy: 0.695, Precision: 0.718, Recall: 0.708\n",
      "[00:41:06] WARNING: C:/Users/Administrator/workspace/xgboost-win64_release_1.4.0/src/learner.cc:1095: Starting in XGBoost 1.3.0, the default evaluation metric used with the objective 'binary:logistic' was changed from 'error' to 'logloss'. Explicitly set eval_metric if you'd like to restore the old behavior.\n",
      "XGBC | MCC: 0.578, AUC: 0.789, Accuracy: 0.768, Precision: 0.811, Recall: 0.788\n",
      "\n",
      "=======================Selected features 35/207 =======================\n",
      "MLPC | MCC: 0.535, AUC: 0.767, Accuracy: 0.761, Precision: 0.763, Recall: 0.768\n",
      "SVC | MCC: 0.537, AUC: 0.768, Accuracy: 0.743, Precision: 0.800, Recall: 0.768\n",
      "RFC | MCC: 0.607, AUC: 0.804, Accuracy: 0.786, Precision: 0.820, Recall: 0.803\n",
      "DTC | MCC: 0.423, AUC: 0.712, Accuracy: 0.694, Precision: 0.730, Recall: 0.711\n",
      "[00:50:21] WARNING: C:/Users/Administrator/workspace/xgboost-win64_release_1.4.0/src/learner.cc:1095: Starting in XGBoost 1.3.0, the default evaluation metric used with the objective 'binary:logistic' was changed from 'error' to 'logloss'. Explicitly set eval_metric if you'd like to restore the old behavior.\n",
      "XGBC | MCC: 0.568, AUC: 0.784, Accuracy: 0.773, Precision: 0.789, Recall: 0.784\n",
      "\n",
      "=======================Selected features 40/207 =======================\n",
      "MLPC | MCC: 0.565, AUC: 0.782, Accuracy: 0.755, Precision: 0.817, Recall: 0.781\n",
      "SVC | MCC: 0.550, AUC: 0.775, Accuracy: 0.755, Precision: 0.797, Recall: 0.774\n",
      "RFC | MCC: 0.635, AUC: 0.817, Accuracy: 0.800, Precision: 0.834, Recall: 0.817\n",
      "DTC | MCC: 0.416, AUC: 0.708, Accuracy: 0.684, Precision: 0.744, Recall: 0.707\n",
      "[00:59:38] WARNING: C:/Users/Administrator/workspace/xgboost-win64_release_1.4.0/src/learner.cc:1095: Starting in XGBoost 1.3.0, the default evaluation metric used with the objective 'binary:logistic' was changed from 'error' to 'logloss'. Explicitly set eval_metric if you'd like to restore the old behavior.\n",
      "XGBC | MCC: 0.605, AUC: 0.803, Accuracy: 0.780, Precision: 0.828, Recall: 0.802\n",
      "\n",
      "=======================Selected features 45/207 =======================\n",
      "MLPC | MCC: 0.534, AUC: 0.766, Accuracy: 0.734, Precision: 0.814, Recall: 0.765\n",
      "SVC | MCC: 0.551, AUC: 0.775, Accuracy: 0.751, Precision: 0.806, Recall: 0.774\n",
      "RFC | MCC: 0.611, AUC: 0.805, Accuracy: 0.784, Precision: 0.828, Recall: 0.805\n",
      "DTC | MCC: 0.412, AUC: 0.706, Accuracy: 0.689, Precision: 0.724, Recall: 0.706\n",
      "[01:08:55] WARNING: C:/Users/Administrator/workspace/xgboost-win64_release_1.4.0/src/learner.cc:1095: Starting in XGBoost 1.3.0, the default evaluation metric used with the objective 'binary:logistic' was changed from 'error' to 'logloss'. Explicitly set eval_metric if you'd like to restore the old behavior.\n",
      "XGBC | MCC: 0.576, AUC: 0.788, Accuracy: 0.762, Precision: 0.820, Recall: 0.787\n",
      "\n",
      "=======================Selected features 50/207 =======================\n",
      "MLPC | MCC: 0.550, AUC: 0.775, Accuracy: 0.752, Precision: 0.803, Recall: 0.774\n",
      "SVC | MCC: 0.547, AUC: 0.774, Accuracy: 0.753, Precision: 0.797, Recall: 0.773\n",
      "RFC | MCC: 0.629, AUC: 0.815, Accuracy: 0.797, Precision: 0.831, Recall: 0.814\n",
      "DTC | MCC: 0.354, AUC: 0.677, Accuracy: 0.666, Precision: 0.679, Recall: 0.677\n",
      "[01:18:13] WARNING: C:/Users/Administrator/workspace/xgboost-win64_release_1.4.0/src/learner.cc:1095: Starting in XGBoost 1.3.0, the default evaluation metric used with the objective 'binary:logistic' was changed from 'error' to 'logloss'. Explicitly set eval_metric if you'd like to restore the old behavior.\n",
      "XGBC | MCC: 0.573, AUC: 0.786, Accuracy: 0.758, Precision: 0.823, Recall: 0.785\n",
      "\n",
      "=======================Selected features 55/207 =======================\n",
      "MLPC | MCC: 0.540, AUC: 0.770, Accuracy: 0.766, Precision: 0.763, Recall: 0.770\n",
      "SVC | MCC: 0.559, AUC: 0.779, Accuracy: 0.753, Precision: 0.814, Recall: 0.779\n",
      "RFC | MCC: 0.626, AUC: 0.813, Accuracy: 0.798, Precision: 0.825, Recall: 0.813\n",
      "DTC | MCC: 0.436, AUC: 0.718, Accuracy: 0.709, Precision: 0.715, Recall: 0.718\n",
      "[01:27:37] WARNING: C:/Users/Administrator/workspace/xgboost-win64_release_1.4.0/src/learner.cc:1095: Starting in XGBoost 1.3.0, the default evaluation metric used with the objective 'binary:logistic' was changed from 'error' to 'logloss'. Explicitly set eval_metric if you'd like to restore the old behavior.\n",
      "XGBC | MCC: 0.594, AUC: 0.797, Accuracy: 0.777, Precision: 0.817, Recall: 0.796\n",
      "\n",
      "=======================Selected features 60/207 =======================\n",
      "MLPC | MCC: 0.540, AUC: 0.770, Accuracy: 0.745, Precision: 0.800, Recall: 0.769\n",
      "SVC | MCC: 0.557, AUC: 0.778, Accuracy: 0.751, Precision: 0.814, Recall: 0.777\n",
      "RFC | MCC: 0.605, AUC: 0.802, Accuracy: 0.784, Precision: 0.820, Recall: 0.802\n",
      "DTC | MCC: 0.448, AUC: 0.724, Accuracy: 0.708, Precision: 0.738, Recall: 0.724\n",
      "[01:36:56] WARNING: C:/Users/Administrator/workspace/xgboost-win64_release_1.4.0/src/learner.cc:1095: Starting in XGBoost 1.3.0, the default evaluation metric used with the objective 'binary:logistic' was changed from 'error' to 'logloss'. Explicitly set eval_metric if you'd like to restore the old behavior.\n"
     ]
    },
    {
     "name": "stdout",
     "output_type": "stream",
     "text": [
      "XGBC | MCC: 0.600, AUC: 0.800, Accuracy: 0.779, Precision: 0.823, Recall: 0.799\n",
      "\n",
      "=======================Selected features 65/207 =======================\n",
      "MLPC | MCC: 0.601, AUC: 0.801, Accuracy: 0.790, Precision: 0.806, Recall: 0.801\n",
      "SVC | MCC: 0.570, AUC: 0.785, Accuracy: 0.759, Precision: 0.817, Recall: 0.784\n",
      "RFC | MCC: 0.624, AUC: 0.812, Accuracy: 0.795, Precision: 0.828, Recall: 0.812\n",
      "DTC | MCC: 0.472, AUC: 0.736, Accuracy: 0.722, Precision: 0.746, Recall: 0.736\n",
      "[01:46:15] WARNING: C:/Users/Administrator/workspace/xgboost-win64_release_1.4.0/src/learner.cc:1095: Starting in XGBoost 1.3.0, the default evaluation metric used with the objective 'binary:logistic' was changed from 'error' to 'logloss'. Explicitly set eval_metric if you'd like to restore the old behavior.\n",
      "XGBC | MCC: 0.591, AUC: 0.795, Accuracy: 0.777, Precision: 0.814, Recall: 0.795\n",
      "\n",
      "=======================Selected features 70/207 =======================\n",
      "MLPC | MCC: 0.543, AUC: 0.771, Accuracy: 0.745, Precision: 0.806, Recall: 0.770\n",
      "SVC | MCC: 0.567, AUC: 0.783, Accuracy: 0.759, Precision: 0.814, Recall: 0.783\n",
      "RFC | MCC: 0.629, AUC: 0.815, Accuracy: 0.799, Precision: 0.828, Recall: 0.814\n",
      "DTC | MCC: 0.455, AUC: 0.727, Accuracy: 0.703, Precision: 0.761, Recall: 0.726\n",
      "[01:55:32] WARNING: C:/Users/Administrator/workspace/xgboost-win64_release_1.4.0/src/learner.cc:1095: Starting in XGBoost 1.3.0, the default evaluation metric used with the objective 'binary:logistic' was changed from 'error' to 'logloss'. Explicitly set eval_metric if you'd like to restore the old behavior.\n",
      "XGBC | MCC: 0.624, AUC: 0.812, Accuracy: 0.790, Precision: 0.837, Recall: 0.812\n",
      "\n",
      "=======================Selected features 75/207 =======================\n",
      "MLPC | MCC: 0.560, AUC: 0.780, Accuracy: 0.770, Precision: 0.783, Recall: 0.780\n",
      "SVC | MCC: 0.559, AUC: 0.779, Accuracy: 0.755, Precision: 0.808, Recall: 0.779\n",
      "RFC | MCC: 0.654, AUC: 0.827, Accuracy: 0.810, Precision: 0.842, Recall: 0.827\n",
      "DTC | MCC: 0.445, AUC: 0.722, Accuracy: 0.693, Precision: 0.769, Recall: 0.721\n",
      "[02:04:53] WARNING: C:/Users/Administrator/workspace/xgboost-win64_release_1.4.0/src/learner.cc:1095: Starting in XGBoost 1.3.0, the default evaluation metric used with the objective 'binary:logistic' was changed from 'error' to 'logloss'. Explicitly set eval_metric if you'd like to restore the old behavior.\n",
      "XGBC | MCC: 0.635, AUC: 0.817, Accuracy: 0.784, Precision: 0.859, Recall: 0.816\n",
      "\n",
      "=======================Selected features 80/207 =======================\n",
      "MLPC | MCC: 0.552, AUC: 0.776, Accuracy: 0.765, Precision: 0.780, Recall: 0.776\n",
      "SVC | MCC: 0.559, AUC: 0.779, Accuracy: 0.753, Precision: 0.814, Recall: 0.779\n",
      "RFC | MCC: 0.646, AUC: 0.823, Accuracy: 0.805, Precision: 0.839, Recall: 0.823\n",
      "DTC | MCC: 0.444, AUC: 0.722, Accuracy: 0.697, Precision: 0.758, Recall: 0.721\n",
      "[02:14:11] WARNING: C:/Users/Administrator/workspace/xgboost-win64_release_1.4.0/src/learner.cc:1095: Starting in XGBoost 1.3.0, the default evaluation metric used with the objective 'binary:logistic' was changed from 'error' to 'logloss'. Explicitly set eval_metric if you'd like to restore the old behavior.\n",
      "XGBC | MCC: 0.594, AUC: 0.797, Accuracy: 0.775, Precision: 0.823, Recall: 0.796\n",
      "\n",
      "=======================Selected features 85/207 =======================\n",
      "MLPC | MCC: 0.560, AUC: 0.779, Accuracy: 0.751, Precision: 0.817, Recall: 0.779\n",
      "SVC | MCC: 0.562, AUC: 0.781, Accuracy: 0.755, Precision: 0.814, Recall: 0.780\n",
      "RFC | MCC: 0.638, AUC: 0.819, Accuracy: 0.797, Precision: 0.842, Recall: 0.818\n",
      "DTC | MCC: 0.467, AUC: 0.733, Accuracy: 0.704, Precision: 0.777, Recall: 0.732\n",
      "[02:23:31] WARNING: C:/Users/Administrator/workspace/xgboost-win64_release_1.4.0/src/learner.cc:1095: Starting in XGBoost 1.3.0, the default evaluation metric used with the objective 'binary:logistic' was changed from 'error' to 'logloss'. Explicitly set eval_metric if you'd like to restore the old behavior.\n",
      "XGBC | MCC: 0.630, AUC: 0.815, Accuracy: 0.796, Precision: 0.834, Recall: 0.814\n",
      "\n",
      "=======================Selected features 90/207 =======================\n",
      "MLPC | MCC: 0.508, AUC: 0.753, Accuracy: 0.725, Precision: 0.794, Recall: 0.752\n",
      "SVC | MCC: 0.547, AUC: 0.773, Accuracy: 0.757, Precision: 0.789, Recall: 0.773\n",
      "RFC | MCC: 0.624, AUC: 0.812, Accuracy: 0.795, Precision: 0.828, Recall: 0.812\n",
      "DTC | MCC: 0.479, AUC: 0.739, Accuracy: 0.719, Precision: 0.763, Recall: 0.739\n",
      "[02:32:50] WARNING: C:/Users/Administrator/workspace/xgboost-win64_release_1.4.0/src/learner.cc:1095: Starting in XGBoost 1.3.0, the default evaluation metric used with the objective 'binary:logistic' was changed from 'error' to 'logloss'. Explicitly set eval_metric if you'd like to restore the old behavior.\n",
      "XGBC | MCC: 0.602, AUC: 0.801, Accuracy: 0.779, Precision: 0.825, Recall: 0.801\n",
      "\n",
      "=======================Selected features 95/207 =======================\n",
      "MLPC | MCC: 0.580, AUC: 0.790, Accuracy: 0.770, Precision: 0.811, Recall: 0.790\n",
      "SVC | MCC: 0.561, AUC: 0.780, Accuracy: 0.761, Precision: 0.800, Recall: 0.780\n",
      "RFC | MCC: 0.648, AUC: 0.824, Accuracy: 0.809, Precision: 0.837, Recall: 0.824\n",
      "DTC | MCC: 0.459, AUC: 0.729, Accuracy: 0.711, Precision: 0.749, Recall: 0.729\n",
      "[02:42:11] WARNING: C:/Users/Administrator/workspace/xgboost-win64_release_1.4.0/src/learner.cc:1095: Starting in XGBoost 1.3.0, the default evaluation metric used with the objective 'binary:logistic' was changed from 'error' to 'logloss'. Explicitly set eval_metric if you'd like to restore the old behavior.\n",
      "XGBC | MCC: 0.591, AUC: 0.796, Accuracy: 0.774, Precision: 0.820, Recall: 0.795\n",
      "\n",
      "=======================Selected features 100/207 =======================\n",
      "MLPC | MCC: 0.557, AUC: 0.777, Accuracy: 0.740, Precision: 0.834, Recall: 0.776\n",
      "SVC | MCC: 0.550, AUC: 0.775, Accuracy: 0.753, Precision: 0.800, Recall: 0.774\n",
      "RFC | MCC: 0.649, AUC: 0.824, Accuracy: 0.804, Precision: 0.845, Recall: 0.824\n",
      "DTC | MCC: 0.451, AUC: 0.725, Accuracy: 0.708, Precision: 0.744, Recall: 0.725\n",
      "[02:51:31] WARNING: C:/Users/Administrator/workspace/xgboost-win64_release_1.4.0/src/learner.cc:1095: Starting in XGBoost 1.3.0, the default evaluation metric used with the objective 'binary:logistic' was changed from 'error' to 'logloss'. Explicitly set eval_metric if you'd like to restore the old behavior.\n",
      "XGBC | MCC: 0.598, AUC: 0.799, Accuracy: 0.771, Precision: 0.834, Recall: 0.798\n",
      "\n",
      "=======================Selected features 105/207 =======================\n",
      "MLPC | MCC: 0.543, AUC: 0.771, Accuracy: 0.780, Precision: 0.741, Recall: 0.772\n",
      "SVC | MCC: 0.561, AUC: 0.781, Accuracy: 0.757, Precision: 0.808, Recall: 0.780\n",
      "RFC | MCC: 0.627, AUC: 0.813, Accuracy: 0.794, Precision: 0.834, Recall: 0.813\n",
      "DTC | MCC: 0.492, AUC: 0.746, Accuracy: 0.728, Precision: 0.763, Recall: 0.746\n",
      "[03:01:02] WARNING: C:/Users/Administrator/workspace/xgboost-win64_release_1.4.0/src/learner.cc:1095: Starting in XGBoost 1.3.0, the default evaluation metric used with the objective 'binary:logistic' was changed from 'error' to 'logloss'. Explicitly set eval_metric if you'd like to restore the old behavior.\n",
      "XGBC | MCC: 0.611, AUC: 0.805, Accuracy: 0.781, Precision: 0.834, Recall: 0.805\n",
      "\n",
      "=======================Selected features 110/207 =======================\n",
      "MLPC | MCC: 0.535, AUC: 0.768, Accuracy: 0.760, Precision: 0.766, Recall: 0.768\n",
      "SVC | MCC: 0.570, AUC: 0.785, Accuracy: 0.759, Precision: 0.817, Recall: 0.784\n",
      "RFC | MCC: 0.609, AUC: 0.805, Accuracy: 0.793, Precision: 0.811, Recall: 0.805\n",
      "DTC | MCC: 0.500, AUC: 0.750, Accuracy: 0.734, Precision: 0.763, Recall: 0.750\n",
      "[03:10:21] WARNING: C:/Users/Administrator/workspace/xgboost-win64_release_1.4.0/src/learner.cc:1095: Starting in XGBoost 1.3.0, the default evaluation metric used with the objective 'binary:logistic' was changed from 'error' to 'logloss'. Explicitly set eval_metric if you'd like to restore the old behavior.\n",
      "XGBC | MCC: 0.611, AUC: 0.805, Accuracy: 0.784, Precision: 0.828, Recall: 0.805\n",
      "\n",
      "=======================Selected features 115/207 =======================\n",
      "MLPC | MCC: 0.554, AUC: 0.777, Accuracy: 0.770, Precision: 0.775, Recall: 0.777\n",
      "SVC | MCC: 0.567, AUC: 0.783, Accuracy: 0.763, Precision: 0.806, Recall: 0.783\n",
      "RFC | MCC: 0.634, AUC: 0.817, Accuracy: 0.805, Precision: 0.825, Recall: 0.817\n"
     ]
    },
    {
     "name": "stdout",
     "output_type": "stream",
     "text": [
      "DTC | MCC: 0.518, AUC: 0.759, Accuracy: 0.732, Precision: 0.794, Recall: 0.758\n",
      "[03:19:43] WARNING: C:/Users/Administrator/workspace/xgboost-win64_release_1.4.0/src/learner.cc:1095: Starting in XGBoost 1.3.0, the default evaluation metric used with the objective 'binary:logistic' was changed from 'error' to 'logloss'. Explicitly set eval_metric if you'd like to restore the old behavior.\n",
      "XGBC | MCC: 0.630, AUC: 0.815, Accuracy: 0.796, Precision: 0.834, Recall: 0.814\n",
      "\n",
      "=======================Selected features 120/207 =======================\n",
      "MLPC | MCC: 0.604, AUC: 0.801, Accuracy: 0.811, Precision: 0.775, Recall: 0.802\n",
      "SVC | MCC: 0.566, AUC: 0.783, Accuracy: 0.764, Precision: 0.803, Recall: 0.783\n",
      "RFC | MCC: 0.624, AUC: 0.812, Accuracy: 0.790, Precision: 0.837, Recall: 0.812\n",
      "DTC | MCC: 0.478, AUC: 0.738, Accuracy: 0.710, Precision: 0.780, Recall: 0.737\n",
      "[03:29:24] WARNING: C:/Users/Administrator/workspace/xgboost-win64_release_1.4.0/src/learner.cc:1095: Starting in XGBoost 1.3.0, the default evaluation metric used with the objective 'binary:logistic' was changed from 'error' to 'logloss'. Explicitly set eval_metric if you'd like to restore the old behavior.\n",
      "XGBC | MCC: 0.623, AUC: 0.812, Accuracy: 0.798, Precision: 0.823, Recall: 0.812\n",
      "\n",
      "=======================Selected features 125/207 =======================\n",
      "MLPC | MCC: 0.590, AUC: 0.795, Accuracy: 0.785, Precision: 0.800, Recall: 0.795\n",
      "SVC | MCC: 0.569, AUC: 0.784, Accuracy: 0.766, Precision: 0.803, Recall: 0.784\n",
      "RFC | MCC: 0.643, AUC: 0.821, Accuracy: 0.807, Precision: 0.834, Recall: 0.821\n",
      "DTC | MCC: 0.466, AUC: 0.733, Accuracy: 0.708, Precision: 0.766, Recall: 0.732\n",
      "[03:39:01] WARNING: C:/Users/Administrator/workspace/xgboost-win64_release_1.4.0/src/learner.cc:1095: Starting in XGBoost 1.3.0, the default evaluation metric used with the objective 'binary:logistic' was changed from 'error' to 'logloss'. Explicitly set eval_metric if you'd like to restore the old behavior.\n",
      "XGBC | MCC: 0.596, AUC: 0.797, Accuracy: 0.766, Precision: 0.839, Recall: 0.796\n",
      "\n",
      "=======================Selected features 130/207 =======================\n",
      "MLPC | MCC: 0.601, AUC: 0.800, Accuracy: 0.771, Precision: 0.837, Recall: 0.799\n",
      "SVC | MCC: 0.569, AUC: 0.784, Accuracy: 0.766, Precision: 0.803, Recall: 0.784\n",
      "RFC | MCC: 0.640, AUC: 0.820, Accuracy: 0.806, Precision: 0.831, Recall: 0.820\n",
      "DTC | MCC: 0.518, AUC: 0.759, Accuracy: 0.734, Precision: 0.792, Recall: 0.758\n",
      "[03:48:25] WARNING: C:/Users/Administrator/workspace/xgboost-win64_release_1.4.0/src/learner.cc:1095: Starting in XGBoost 1.3.0, the default evaluation metric used with the objective 'binary:logistic' was changed from 'error' to 'logloss'. Explicitly set eval_metric if you'd like to restore the old behavior.\n",
      "XGBC | MCC: 0.624, AUC: 0.812, Accuracy: 0.790, Precision: 0.837, Recall: 0.812\n",
      "\n",
      "=======================Selected features 135/207 =======================\n",
      "MLPC | MCC: 0.543, AUC: 0.770, Accuracy: 0.734, Precision: 0.825, Recall: 0.769\n",
      "SVC | MCC: 0.583, AUC: 0.791, Accuracy: 0.771, Precision: 0.814, Recall: 0.791\n",
      "RFC | MCC: 0.620, AUC: 0.810, Accuracy: 0.801, Precision: 0.814, Recall: 0.810\n",
      "DTC | MCC: 0.523, AUC: 0.761, Accuracy: 0.736, Precision: 0.794, Recall: 0.761\n",
      "[03:57:49] WARNING: C:/Users/Administrator/workspace/xgboost-win64_release_1.4.0/src/learner.cc:1095: Starting in XGBoost 1.3.0, the default evaluation metric used with the objective 'binary:logistic' was changed from 'error' to 'logloss'. Explicitly set eval_metric if you'd like to restore the old behavior.\n",
      "XGBC | MCC: 0.629, AUC: 0.815, Accuracy: 0.797, Precision: 0.831, Recall: 0.814\n",
      "\n",
      "=======================Selected features 140/207 =======================\n",
      "MLPC | MCC: 0.591, AUC: 0.795, Accuracy: 0.780, Precision: 0.808, Recall: 0.795\n",
      "SVC | MCC: 0.579, AUC: 0.789, Accuracy: 0.760, Precision: 0.828, Recall: 0.788\n",
      "RFC | MCC: 0.632, AUC: 0.816, Accuracy: 0.798, Precision: 0.834, Recall: 0.816\n",
      "DTC | MCC: 0.504, AUC: 0.752, Accuracy: 0.729, Precision: 0.780, Recall: 0.751\n",
      "[04:07:19] WARNING: C:/Users/Administrator/workspace/xgboost-win64_release_1.4.0/src/learner.cc:1095: Starting in XGBoost 1.3.0, the default evaluation metric used with the objective 'binary:logistic' was changed from 'error' to 'logloss'. Explicitly set eval_metric if you'd like to restore the old behavior.\n",
      "XGBC | MCC: 0.638, AUC: 0.819, Accuracy: 0.797, Precision: 0.842, Recall: 0.818\n",
      "\n",
      "=======================Selected features 145/207 =======================\n",
      "MLPC | MCC: 0.537, AUC: 0.768, Accuracy: 0.746, Precision: 0.794, Recall: 0.768\n",
      "SVC | MCC: 0.575, AUC: 0.787, Accuracy: 0.763, Precision: 0.817, Recall: 0.787\n",
      "RFC | MCC: 0.627, AUC: 0.813, Accuracy: 0.792, Precision: 0.837, Recall: 0.813\n",
      "DTC | MCC: 0.490, AUC: 0.745, Accuracy: 0.723, Precision: 0.772, Recall: 0.744\n",
      "[04:17:07] WARNING: C:/Users/Administrator/workspace/xgboost-win64_release_1.4.0/src/learner.cc:1095: Starting in XGBoost 1.3.0, the default evaluation metric used with the objective 'binary:logistic' was changed from 'error' to 'logloss'. Explicitly set eval_metric if you'd like to restore the old behavior.\n",
      "XGBC | MCC: 0.637, AUC: 0.819, Accuracy: 0.802, Precision: 0.834, Recall: 0.818\n",
      "\n",
      "=======================Selected features 150/207 =======================\n",
      "MLPC | MCC: 0.562, AUC: 0.781, Accuracy: 0.756, Precision: 0.811, Recall: 0.780\n",
      "SVC | MCC: 0.589, AUC: 0.794, Accuracy: 0.769, Precision: 0.825, Recall: 0.794\n",
      "RFC | MCC: 0.635, AUC: 0.817, Accuracy: 0.802, Precision: 0.831, Recall: 0.817\n",
      "DTC | MCC: 0.489, AUC: 0.745, Accuracy: 0.725, Precision: 0.766, Recall: 0.744\n",
      "[04:26:53] WARNING: C:/Users/Administrator/workspace/xgboost-win64_release_1.4.0/src/learner.cc:1095: Starting in XGBoost 1.3.0, the default evaluation metric used with the objective 'binary:logistic' was changed from 'error' to 'logloss'. Explicitly set eval_metric if you'd like to restore the old behavior.\n",
      "XGBC | MCC: 0.613, AUC: 0.807, Accuracy: 0.785, Precision: 0.831, Recall: 0.806\n",
      "\n",
      "=======================Selected features 155/207 =======================\n",
      "MLPC | MCC: 0.586, AUC: 0.793, Accuracy: 0.770, Precision: 0.820, Recall: 0.792\n",
      "SVC | MCC: 0.584, AUC: 0.792, Accuracy: 0.766, Precision: 0.823, Recall: 0.791\n",
      "RFC | MCC: 0.626, AUC: 0.813, Accuracy: 0.800, Precision: 0.823, Recall: 0.813\n",
      "DTC | MCC: 0.482, AUC: 0.741, Accuracy: 0.717, Precision: 0.772, Recall: 0.740\n",
      "[04:36:24] WARNING: C:/Users/Administrator/workspace/xgboost-win64_release_1.4.0/src/learner.cc:1095: Starting in XGBoost 1.3.0, the default evaluation metric used with the objective 'binary:logistic' was changed from 'error' to 'logloss'. Explicitly set eval_metric if you'd like to restore the old behavior.\n",
      "XGBC | MCC: 0.610, AUC: 0.805, Accuracy: 0.786, Precision: 0.825, Recall: 0.805\n",
      "\n",
      "=======================Selected features 160/207 =======================\n",
      "MLPC | MCC: 0.593, AUC: 0.796, Accuracy: 0.765, Precision: 0.837, Recall: 0.795\n",
      "SVC | MCC: 0.575, AUC: 0.787, Accuracy: 0.765, Precision: 0.814, Recall: 0.787\n",
      "RFC | MCC: 0.635, AUC: 0.817, Accuracy: 0.802, Precision: 0.831, Recall: 0.817\n",
      "DTC | MCC: 0.484, AUC: 0.742, Accuracy: 0.721, Precision: 0.766, Recall: 0.741\n",
      "[04:45:55] WARNING: C:/Users/Administrator/workspace/xgboost-win64_release_1.4.0/src/learner.cc:1095: Starting in XGBoost 1.3.0, the default evaluation metric used with the objective 'binary:logistic' was changed from 'error' to 'logloss'. Explicitly set eval_metric if you'd like to restore the old behavior.\n",
      "XGBC | MCC: 0.607, AUC: 0.804, Accuracy: 0.785, Precision: 0.823, Recall: 0.803\n",
      "\n",
      "=======================Selected features 165/207 =======================\n",
      "MLPC | MCC: 0.593, AUC: 0.797, Accuracy: 0.784, Precision: 0.806, Recall: 0.796\n",
      "SVC | MCC: 0.569, AUC: 0.785, Accuracy: 0.763, Precision: 0.808, Recall: 0.784\n",
      "RFC | MCC: 0.665, AUC: 0.833, Accuracy: 0.812, Precision: 0.854, Recall: 0.832\n",
      "DTC | MCC: 0.480, AUC: 0.740, Accuracy: 0.712, Precision: 0.780, Recall: 0.739\n",
      "[04:55:26] WARNING: C:/Users/Administrator/workspace/xgboost-win64_release_1.4.0/src/learner.cc:1095: Starting in XGBoost 1.3.0, the default evaluation metric used with the objective 'binary:logistic' was changed from 'error' to 'logloss'. Explicitly set eval_metric if you'd like to restore the old behavior.\n"
     ]
    },
    {
     "name": "stdout",
     "output_type": "stream",
     "text": [
      "XGBC | MCC: 0.632, AUC: 0.816, Accuracy: 0.799, Precision: 0.831, Recall: 0.816\n",
      "\n",
      "=======================Selected features 170/207 =======================\n",
      "MLPC | MCC: 0.545, AUC: 0.772, Accuracy: 0.748, Precision: 0.803, Recall: 0.772\n",
      "SVC | MCC: 0.564, AUC: 0.782, Accuracy: 0.759, Precision: 0.808, Recall: 0.781\n",
      "RFC | MCC: 0.645, AUC: 0.823, Accuracy: 0.809, Precision: 0.834, Recall: 0.823\n",
      "DTC | MCC: 0.469, AUC: 0.734, Accuracy: 0.708, Precision: 0.772, Recall: 0.733\n",
      "[05:05:15] WARNING: C:/Users/Administrator/workspace/xgboost-win64_release_1.4.0/src/learner.cc:1095: Starting in XGBoost 1.3.0, the default evaluation metric used with the objective 'binary:logistic' was changed from 'error' to 'logloss'. Explicitly set eval_metric if you'd like to restore the old behavior.\n",
      "XGBC | MCC: 0.632, AUC: 0.816, Accuracy: 0.799, Precision: 0.831, Recall: 0.816\n",
      "\n",
      "=======================Selected features 175/207 =======================\n",
      "MLPC | MCC: 0.576, AUC: 0.788, Accuracy: 0.759, Precision: 0.825, Recall: 0.787\n",
      "SVC | MCC: 0.570, AUC: 0.785, Accuracy: 0.762, Precision: 0.811, Recall: 0.784\n",
      "RFC | MCC: 0.637, AUC: 0.819, Accuracy: 0.802, Precision: 0.834, Recall: 0.818\n",
      "DTC | MCC: 0.511, AUC: 0.755, Accuracy: 0.724, Precision: 0.800, Recall: 0.754\n",
      "[05:14:43] WARNING: C:/Users/Administrator/workspace/xgboost-win64_release_1.4.0/src/learner.cc:1095: Starting in XGBoost 1.3.0, the default evaluation metric used with the objective 'binary:logistic' was changed from 'error' to 'logloss'. Explicitly set eval_metric if you'd like to restore the old behavior.\n",
      "XGBC | MCC: 0.632, AUC: 0.816, Accuracy: 0.799, Precision: 0.831, Recall: 0.816\n",
      "\n",
      "=======================Selected features 180/207 =======================\n",
      "MLPC | MCC: 0.573, AUC: 0.786, Accuracy: 0.789, Precision: 0.769, Recall: 0.787\n",
      "SVC | MCC: 0.575, AUC: 0.787, Accuracy: 0.767, Precision: 0.808, Recall: 0.787\n",
      "RFC | MCC: 0.613, AUC: 0.806, Accuracy: 0.791, Precision: 0.820, Recall: 0.806\n",
      "DTC | MCC: 0.468, AUC: 0.734, Accuracy: 0.711, Precision: 0.763, Recall: 0.733\n",
      "[05:24:08] WARNING: C:/Users/Administrator/workspace/xgboost-win64_release_1.4.0/src/learner.cc:1095: Starting in XGBoost 1.3.0, the default evaluation metric used with the objective 'binary:logistic' was changed from 'error' to 'logloss'. Explicitly set eval_metric if you'd like to restore the old behavior.\n",
      "XGBC | MCC: 0.632, AUC: 0.816, Accuracy: 0.799, Precision: 0.831, Recall: 0.816\n",
      "\n",
      "=======================Selected features 185/207 =======================\n",
      "MLPC | MCC: 0.594, AUC: 0.797, Accuracy: 0.779, Precision: 0.814, Recall: 0.796\n",
      "SVC | MCC: 0.575, AUC: 0.787, Accuracy: 0.767, Precision: 0.808, Recall: 0.787\n",
      "RFC | MCC: 0.618, AUC: 0.809, Accuracy: 0.792, Precision: 0.825, Recall: 0.809\n",
      "DTC | MCC: 0.472, AUC: 0.735, Accuracy: 0.709, Precision: 0.775, Recall: 0.735\n",
      "[05:33:32] WARNING: C:/Users/Administrator/workspace/xgboost-win64_release_1.4.0/src/learner.cc:1095: Starting in XGBoost 1.3.0, the default evaluation metric used with the objective 'binary:logistic' was changed from 'error' to 'logloss'. Explicitly set eval_metric if you'd like to restore the old behavior.\n",
      "XGBC | MCC: 0.623, AUC: 0.811, Accuracy: 0.783, Precision: 0.845, Recall: 0.810\n",
      "\n",
      "=======================Selected features 190/207 =======================\n",
      "MLPC | MCC: 0.544, AUC: 0.771, Accuracy: 0.740, Precision: 0.817, Recall: 0.770\n",
      "SVC | MCC: 0.577, AUC: 0.789, Accuracy: 0.769, Precision: 0.808, Recall: 0.788\n",
      "RFC | MCC: 0.637, AUC: 0.819, Accuracy: 0.802, Precision: 0.834, Recall: 0.818\n",
      "DTC | MCC: 0.468, AUC: 0.734, Accuracy: 0.712, Precision: 0.761, Recall: 0.733\n",
      "[05:42:53] WARNING: C:/Users/Administrator/workspace/xgboost-win64_release_1.4.0/src/learner.cc:1095: Starting in XGBoost 1.3.0, the default evaluation metric used with the objective 'binary:logistic' was changed from 'error' to 'logloss'. Explicitly set eval_metric if you'd like to restore the old behavior.\n",
      "XGBC | MCC: 0.632, AUC: 0.816, Accuracy: 0.799, Precision: 0.831, Recall: 0.816\n",
      "\n",
      "=======================Selected features 195/207 =======================\n",
      "MLPC | MCC: 0.593, AUC: 0.796, Accuracy: 0.788, Precision: 0.797, Recall: 0.796\n",
      "SVC | MCC: 0.577, AUC: 0.789, Accuracy: 0.769, Precision: 0.808, Recall: 0.788\n",
      "RFC | MCC: 0.621, AUC: 0.811, Accuracy: 0.794, Precision: 0.825, Recall: 0.810\n",
      "DTC | MCC: 0.488, AUC: 0.744, Accuracy: 0.718, Precision: 0.780, Recall: 0.743\n",
      "[13:30:33] WARNING: C:/Users/Administrator/workspace/xgboost-win64_release_1.4.0/src/learner.cc:1095: Starting in XGBoost 1.3.0, the default evaluation metric used with the objective 'binary:logistic' was changed from 'error' to 'logloss'. Explicitly set eval_metric if you'd like to restore the old behavior.\n",
      "XGBC | MCC: 0.632, AUC: 0.816, Accuracy: 0.799, Precision: 0.831, Recall: 0.816\n",
      "\n",
      "=======================Selected features 200/207 =======================\n",
      "MLPC | MCC: 0.551, AUC: 0.775, Accuracy: 0.751, Precision: 0.806, Recall: 0.774\n",
      "SVC | MCC: 0.578, AUC: 0.789, Accuracy: 0.768, Precision: 0.811, Recall: 0.788\n",
      "RFC | MCC: 0.663, AUC: 0.831, Accuracy: 0.809, Precision: 0.856, Recall: 0.831\n",
      "DTC | MCC: 0.459, AUC: 0.729, Accuracy: 0.714, Precision: 0.744, Recall: 0.729\n",
      "[13:40:46] WARNING: C:/Users/Administrator/workspace/xgboost-win64_release_1.4.0/src/learner.cc:1095: Starting in XGBoost 1.3.0, the default evaluation metric used with the objective 'binary:logistic' was changed from 'error' to 'logloss'. Explicitly set eval_metric if you'd like to restore the old behavior.\n",
      "XGBC | MCC: 0.629, AUC: 0.814, Accuracy: 0.802, Precision: 0.823, Recall: 0.814\n",
      "\n",
      "=======================Selected features 205/207 =======================\n",
      "MLPC | MCC: 0.592, AUC: 0.796, Accuracy: 0.772, Precision: 0.823, Recall: 0.795\n",
      "SVC | MCC: 0.577, AUC: 0.789, Accuracy: 0.769, Precision: 0.808, Recall: 0.788\n",
      "RFC | MCC: 0.637, AUC: 0.819, Accuracy: 0.804, Precision: 0.831, Recall: 0.818\n",
      "DTC | MCC: 0.474, AUC: 0.737, Accuracy: 0.714, Precision: 0.766, Recall: 0.736\n",
      "[13:50:57] WARNING: C:/Users/Administrator/workspace/xgboost-win64_release_1.4.0/src/learner.cc:1095: Starting in XGBoost 1.3.0, the default evaluation metric used with the objective 'binary:logistic' was changed from 'error' to 'logloss'. Explicitly set eval_metric if you'd like to restore the old behavior.\n",
      "XGBC | MCC: 0.624, AUC: 0.812, Accuracy: 0.790, Precision: 0.837, Recall: 0.812\n"
     ]
    }
   ],
   "source": [
    "# Added\n",
    "n_neighbors = 100\n",
    "models_rf, results_rf, num_sel_feat_rf, features_rf = fs_relieff(X_train, y_train, X_val, y_val, X_train_norm, X_val_norm, True, n_neighbors)\n"
   ]
  },
  {
   "cell_type": "code",
   "execution_count": 174,
   "id": "c35da528",
   "metadata": {},
   "outputs": [
    {
     "data": {
      "image/png": "[encoded data removed]",
      "text/plain": [
       "<Figure size 950x380 with 1 Axes>"
      ]
     },
     "metadata": {},
     "output_type": "display_data"
    }
   ],
   "source": [
    "# Added\n",
    "mcc_rf, auc_rf = plot_classification_metrics(results_rf, X_train, \"RelieFf\")"
   ]
  },
  {
   "cell_type": "code",
   "execution_count": 159,
   "id": "24c870fc",
   "metadata": {},
   "outputs": [],
   "source": [
    "# ADDED\n",
    "# Applying various feature selection algorithm supplied by the score_func\n"
   ]
  },
  {
   "cell_type": "code",
   "execution_count": 162,
   "id": "d4de3b70",
   "metadata": {},
   "outputs": [
    {
     "name": "stdout",
     "output_type": "stream",
     "text": [
      "\n",
      "=======================Selected features 10/207 =======================\n",
      "MLPC | MCC: 0.532, AUC: 0.766, Accuracy: 0.738, Precision: 0.803, Recall: 0.765\n",
      "SVC | MCC: 0.419, AUC: 0.709, Accuracy: 0.686, Precision: 0.744, Recall: 0.708\n",
      "RFC | MCC: 0.566, AUC: 0.783, Accuracy: 0.768, Precision: 0.794, Recall: 0.783\n",
      "DTC | MCC: 0.487, AUC: 0.743, Accuracy: 0.723, Precision: 0.766, Recall: 0.743\n",
      "[14:02:02] WARNING: C:/Users/Administrator/workspace/xgboost-win64_release_1.4.0/src/learner.cc:1095: Starting in XGBoost 1.3.0, the default evaluation metric used with the objective 'binary:logistic' was changed from 'error' to 'logloss'. Explicitly set eval_metric if you'd like to restore the old behavior.\n",
      "XGBC | MCC: 0.592, AUC: 0.796, Accuracy: 0.771, Precision: 0.825, Recall: 0.795\n",
      "\n",
      "=======================Selected features 15/207 =======================\n",
      "MLPC | MCC: 0.489, AUC: 0.742, Accuracy: 0.700, Precision: 0.820, Recall: 0.740\n",
      "SVC | MCC: 0.463, AUC: 0.730, Accuracy: 0.697, Precision: 0.789, Recall: 0.729\n",
      "RFC | MCC: 0.623, AUC: 0.812, Accuracy: 0.804, Precision: 0.811, Recall: 0.812\n",
      "DTC | MCC: 0.427, AUC: 0.713, Accuracy: 0.692, Precision: 0.741, Recall: 0.713\n",
      "[14:02:34] WARNING: C:/Users/Administrator/workspace/xgboost-win64_release_1.4.0/src/learner.cc:1095: Starting in XGBoost 1.3.0, the default evaluation metric used with the objective 'binary:logistic' was changed from 'error' to 'logloss'. Explicitly set eval_metric if you'd like to restore the old behavior.\n",
      "XGBC | MCC: 0.553, AUC: 0.776, Accuracy: 0.757, Precision: 0.797, Recall: 0.776\n",
      "\n",
      "=======================Selected features 20/207 =======================\n",
      "MLPC | MCC: 0.507, AUC: 0.753, Accuracy: 0.730, Precision: 0.783, Recall: 0.752\n",
      "SVC | MCC: 0.496, AUC: 0.747, Accuracy: 0.713, Precision: 0.803, Recall: 0.746\n",
      "RFC | MCC: 0.604, AUC: 0.802, Accuracy: 0.786, Precision: 0.817, Recall: 0.802\n",
      "DTC | MCC: 0.473, AUC: 0.736, Accuracy: 0.720, Precision: 0.752, Recall: 0.736\n",
      "[14:03:06] WARNING: C:/Users/Administrator/workspace/xgboost-win64_release_1.4.0/src/learner.cc:1095: Starting in XGBoost 1.3.0, the default evaluation metric used with the objective 'binary:logistic' was changed from 'error' to 'logloss'. Explicitly set eval_metric if you'd like to restore the old behavior.\n",
      "XGBC | MCC: 0.593, AUC: 0.797, Accuracy: 0.784, Precision: 0.806, Recall: 0.796\n",
      "\n",
      "=======================Selected features 25/207 =======================\n",
      "MLPC | MCC: 0.538, AUC: 0.768, Accuracy: 0.740, Precision: 0.808, Recall: 0.768\n",
      "SVC | MCC: 0.512, AUC: 0.755, Accuracy: 0.721, Precision: 0.808, Recall: 0.754\n",
      "RFC | MCC: 0.596, AUC: 0.798, Accuracy: 0.784, Precision: 0.808, Recall: 0.798\n",
      "DTC | MCC: 0.476, AUC: 0.738, Accuracy: 0.717, Precision: 0.763, Recall: 0.737\n",
      "[14:03:41] WARNING: C:/Users/Administrator/workspace/xgboost-win64_release_1.4.0/src/learner.cc:1095: Starting in XGBoost 1.3.0, the default evaluation metric used with the objective 'binary:logistic' was changed from 'error' to 'logloss'. Explicitly set eval_metric if you'd like to restore the old behavior.\n",
      "XGBC | MCC: 0.573, AUC: 0.786, Accuracy: 0.758, Precision: 0.823, Recall: 0.785\n",
      "\n",
      "=======================Selected features 30/207 =======================\n",
      "MLPC | MCC: 0.523, AUC: 0.760, Accuracy: 0.728, Precision: 0.808, Recall: 0.759\n",
      "SVC | MCC: 0.515, AUC: 0.756, Accuracy: 0.722, Precision: 0.811, Recall: 0.755\n",
      "RFC | MCC: 0.602, AUC: 0.801, Accuracy: 0.782, Precision: 0.820, Recall: 0.801\n",
      "DTC | MCC: 0.450, AUC: 0.725, Accuracy: 0.713, Precision: 0.730, Recall: 0.725\n",
      "[14:04:12] WARNING: C:/Users/Administrator/workspace/xgboost-win64_release_1.4.0/src/learner.cc:1095: Starting in XGBoost 1.3.0, the default evaluation metric used with the objective 'binary:logistic' was changed from 'error' to 'logloss'. Explicitly set eval_metric if you'd like to restore the old behavior.\n",
      "XGBC | MCC: 0.584, AUC: 0.792, Accuracy: 0.765, Precision: 0.825, Recall: 0.791\n",
      "\n",
      "=======================Selected features 35/207 =======================\n",
      "MLPC | MCC: 0.536, AUC: 0.768, Accuracy: 0.749, Precision: 0.789, Recall: 0.768\n",
      "SVC | MCC: 0.536, AUC: 0.767, Accuracy: 0.737, Precision: 0.811, Recall: 0.766\n",
      "RFC | MCC: 0.593, AUC: 0.797, Accuracy: 0.780, Precision: 0.811, Recall: 0.796\n",
      "DTC | MCC: 0.505, AUC: 0.752, Accuracy: 0.725, Precision: 0.789, Recall: 0.751\n",
      "[14:04:46] WARNING: C:/Users/Administrator/workspace/xgboost-win64_release_1.4.0/src/learner.cc:1095: Starting in XGBoost 1.3.0, the default evaluation metric used with the objective 'binary:logistic' was changed from 'error' to 'logloss'. Explicitly set eval_metric if you'd like to restore the old behavior.\n",
      "XGBC | MCC: 0.592, AUC: 0.795, Accuracy: 0.759, Precision: 0.845, Recall: 0.794\n",
      "\n",
      "=======================Selected features 40/207 =======================\n",
      "MLPC | MCC: 0.527, AUC: 0.761, Accuracy: 0.718, Precision: 0.834, Recall: 0.759\n",
      "SVC | MCC: 0.519, AUC: 0.759, Accuracy: 0.730, Precision: 0.800, Recall: 0.758\n",
      "RFC | MCC: 0.602, AUC: 0.801, Accuracy: 0.784, Precision: 0.817, Recall: 0.801\n",
      "DTC | MCC: 0.467, AUC: 0.733, Accuracy: 0.718, Precision: 0.746, Recall: 0.733\n",
      "[14:05:17] WARNING: C:/Users/Administrator/workspace/xgboost-win64_release_1.4.0/src/learner.cc:1095: Starting in XGBoost 1.3.0, the default evaluation metric used with the objective 'binary:logistic' was changed from 'error' to 'logloss'. Explicitly set eval_metric if you'd like to restore the old behavior.\n",
      "XGBC | MCC: 0.598, AUC: 0.799, Accuracy: 0.772, Precision: 0.831, Recall: 0.798\n",
      "\n",
      "=======================Selected features 45/207 =======================\n",
      "MLPC | MCC: 0.486, AUC: 0.742, Accuracy: 0.712, Precision: 0.789, Recall: 0.741\n",
      "SVC | MCC: 0.526, AUC: 0.762, Accuracy: 0.728, Precision: 0.814, Recall: 0.761\n",
      "RFC | MCC: 0.611, AUC: 0.805, Accuracy: 0.781, Precision: 0.834, Recall: 0.805\n",
      "DTC | MCC: 0.464, AUC: 0.732, Accuracy: 0.716, Precision: 0.746, Recall: 0.732\n",
      "[14:05:50] WARNING: C:/Users/Administrator/workspace/xgboost-win64_release_1.4.0/src/learner.cc:1095: Starting in XGBoost 1.3.0, the default evaluation metric used with the objective 'binary:logistic' was changed from 'error' to 'logloss'. Explicitly set eval_metric if you'd like to restore the old behavior.\n",
      "XGBC | MCC: 0.559, AUC: 0.779, Accuracy: 0.753, Precision: 0.814, Recall: 0.779\n",
      "\n",
      "=======================Selected features 50/207 =======================\n",
      "MLPC | MCC: 0.537, AUC: 0.768, Accuracy: 0.745, Precision: 0.797, Recall: 0.768\n",
      "SVC | MCC: 0.534, AUC: 0.766, Accuracy: 0.731, Precision: 0.820, Recall: 0.765\n",
      "RFC | MCC: 0.608, AUC: 0.804, Accuracy: 0.782, Precision: 0.828, Recall: 0.803\n",
      "DTC | MCC: 0.445, AUC: 0.722, Accuracy: 0.710, Precision: 0.730, Recall: 0.722\n",
      "[14:06:26] WARNING: C:/Users/Administrator/workspace/xgboost-win64_release_1.4.0/src/learner.cc:1095: Starting in XGBoost 1.3.0, the default evaluation metric used with the objective 'binary:logistic' was changed from 'error' to 'logloss'. Explicitly set eval_metric if you'd like to restore the old behavior.\n",
      "XGBC | MCC: 0.584, AUC: 0.792, Accuracy: 0.765, Precision: 0.825, Recall: 0.791\n",
      "\n",
      "=======================Selected features 55/207 =======================\n",
      "MLPC | MCC: 0.507, AUC: 0.751, Accuracy: 0.709, Precision: 0.825, Recall: 0.750\n",
      "SVC | MCC: 0.548, AUC: 0.773, Accuracy: 0.738, Precision: 0.825, Recall: 0.772\n",
      "RFC | MCC: 0.611, AUC: 0.805, Accuracy: 0.782, Precision: 0.831, Recall: 0.805\n",
      "DTC | MCC: 0.437, AUC: 0.718, Accuracy: 0.701, Precision: 0.738, Recall: 0.718\n",
      "[14:06:58] WARNING: C:/Users/Administrator/workspace/xgboost-win64_release_1.4.0/src/learner.cc:1095: Starting in XGBoost 1.3.0, the default evaluation metric used with the objective 'binary:logistic' was changed from 'error' to 'logloss'. Explicitly set eval_metric if you'd like to restore the old behavior.\n",
      "XGBC | MCC: 0.595, AUC: 0.797, Accuracy: 0.773, Precision: 0.825, Recall: 0.796\n",
      "\n",
      "=======================Selected features 60/207 =======================\n",
      "MLPC | MCC: 0.501, AUC: 0.750, Accuracy: 0.726, Precision: 0.783, Recall: 0.750\n",
      "SVC | MCC: 0.563, AUC: 0.781, Accuracy: 0.752, Precision: 0.820, Recall: 0.780\n",
      "RFC | MCC: 0.632, AUC: 0.816, Accuracy: 0.799, Precision: 0.831, Recall: 0.816\n",
      "DTC | MCC: 0.500, AUC: 0.750, Accuracy: 0.732, Precision: 0.769, Recall: 0.750\n",
      "[14:07:33] WARNING: C:/Users/Administrator/workspace/xgboost-win64_release_1.4.0/src/learner.cc:1095: Starting in XGBoost 1.3.0, the default evaluation metric used with the objective 'binary:logistic' was changed from 'error' to 'logloss'. Explicitly set eval_metric if you'd like to restore the old behavior.\n"
     ]
    },
    {
     "name": "stdout",
     "output_type": "stream",
     "text": [
      "XGBC | MCC: 0.600, AUC: 0.800, Accuracy: 0.776, Precision: 0.828, Recall: 0.799\n",
      "\n",
      "=======================Selected features 65/207 =======================\n",
      "MLPC | MCC: 0.535, AUC: 0.768, Accuracy: 0.758, Precision: 0.769, Recall: 0.768\n",
      "SVC | MCC: 0.538, AUC: 0.769, Accuracy: 0.738, Precision: 0.811, Recall: 0.768\n",
      "RFC | MCC: 0.617, AUC: 0.808, Accuracy: 0.782, Precision: 0.839, Recall: 0.807\n",
      "DTC | MCC: 0.481, AUC: 0.740, Accuracy: 0.724, Precision: 0.755, Recall: 0.740\n",
      "[14:08:05] WARNING: C:/Users/Administrator/workspace/xgboost-win64_release_1.4.0/src/learner.cc:1095: Starting in XGBoost 1.3.0, the default evaluation metric used with the objective 'binary:logistic' was changed from 'error' to 'logloss'. Explicitly set eval_metric if you'd like to restore the old behavior.\n",
      "XGBC | MCC: 0.595, AUC: 0.797, Accuracy: 0.773, Precision: 0.825, Recall: 0.796\n",
      "\n",
      "=======================Selected features 70/207 =======================\n",
      "MLPC | MCC: 0.531, AUC: 0.763, Accuracy: 0.716, Precision: 0.845, Recall: 0.761\n",
      "SVC | MCC: 0.562, AUC: 0.780, Accuracy: 0.744, Precision: 0.834, Recall: 0.779\n",
      "RFC | MCC: 0.630, AUC: 0.815, Accuracy: 0.793, Precision: 0.839, Recall: 0.814\n",
      "DTC | MCC: 0.458, AUC: 0.729, Accuracy: 0.703, Precision: 0.766, Recall: 0.728\n",
      "[14:08:48] WARNING: C:/Users/Administrator/workspace/xgboost-win64_release_1.4.0/src/learner.cc:1095: Starting in XGBoost 1.3.0, the default evaluation metric used with the objective 'binary:logistic' was changed from 'error' to 'logloss'. Explicitly set eval_metric if you'd like to restore the old behavior.\n",
      "XGBC | MCC: 0.605, AUC: 0.802, Accuracy: 0.781, Precision: 0.825, Recall: 0.802\n",
      "\n",
      "=======================Selected features 75/207 =======================\n",
      "MLPC | MCC: 0.547, AUC: 0.772, Accuracy: 0.733, Precision: 0.834, Recall: 0.770\n",
      "SVC | MCC: 0.568, AUC: 0.784, Accuracy: 0.756, Precision: 0.820, Recall: 0.783\n",
      "RFC | MCC: 0.624, AUC: 0.812, Accuracy: 0.795, Precision: 0.828, Recall: 0.812\n",
      "DTC | MCC: 0.446, AUC: 0.723, Accuracy: 0.703, Precision: 0.746, Recall: 0.722\n",
      "[14:09:23] WARNING: C:/Users/Administrator/workspace/xgboost-win64_release_1.4.0/src/learner.cc:1095: Starting in XGBoost 1.3.0, the default evaluation metric used with the objective 'binary:logistic' was changed from 'error' to 'logloss'. Explicitly set eval_metric if you'd like to restore the old behavior.\n",
      "XGBC | MCC: 0.612, AUC: 0.806, Accuracy: 0.777, Precision: 0.842, Recall: 0.805\n",
      "\n",
      "=======================Selected features 80/207 =======================\n",
      "MLPC | MCC: 0.535, AUC: 0.768, Accuracy: 0.760, Precision: 0.766, Recall: 0.768\n",
      "SVC | MCC: 0.548, AUC: 0.773, Accuracy: 0.738, Precision: 0.825, Recall: 0.772\n",
      "RFC | MCC: 0.643, AUC: 0.822, Accuracy: 0.802, Precision: 0.842, Recall: 0.821\n",
      "DTC | MCC: 0.438, AUC: 0.719, Accuracy: 0.696, Precision: 0.749, Recall: 0.718\n",
      "[14:09:56] WARNING: C:/Users/Administrator/workspace/xgboost-win64_release_1.4.0/src/learner.cc:1095: Starting in XGBoost 1.3.0, the default evaluation metric used with the objective 'binary:logistic' was changed from 'error' to 'logloss'. Explicitly set eval_metric if you'd like to restore the old behavior.\n",
      "XGBC | MCC: 0.584, AUC: 0.792, Accuracy: 0.768, Precision: 0.820, Recall: 0.791\n",
      "\n",
      "=======================Selected features 85/207 =======================\n",
      "MLPC | MCC: 0.578, AUC: 0.789, Accuracy: 0.767, Precision: 0.814, Recall: 0.788\n",
      "SVC | MCC: 0.546, AUC: 0.773, Accuracy: 0.743, Precision: 0.814, Recall: 0.772\n",
      "RFC | MCC: 0.618, AUC: 0.809, Accuracy: 0.795, Precision: 0.820, Recall: 0.809\n",
      "DTC | MCC: 0.424, AUC: 0.712, Accuracy: 0.692, Precision: 0.735, Recall: 0.711\n",
      "[14:10:35] WARNING: C:/Users/Administrator/workspace/xgboost-win64_release_1.4.0/src/learner.cc:1095: Starting in XGBoost 1.3.0, the default evaluation metric used with the objective 'binary:logistic' was changed from 'error' to 'logloss'. Explicitly set eval_metric if you'd like to restore the old behavior.\n",
      "XGBC | MCC: 0.595, AUC: 0.797, Accuracy: 0.770, Precision: 0.831, Recall: 0.796\n",
      "\n",
      "=======================Selected features 90/207 =======================\n",
      "MLPC | MCC: 0.608, AUC: 0.804, Accuracy: 0.783, Precision: 0.825, Recall: 0.803\n",
      "SVC | MCC: 0.544, AUC: 0.771, Accuracy: 0.742, Precision: 0.811, Recall: 0.770\n",
      "RFC | MCC: 0.624, AUC: 0.812, Accuracy: 0.791, Precision: 0.834, Recall: 0.812\n",
      "DTC | MCC: 0.452, AUC: 0.726, Accuracy: 0.702, Precision: 0.758, Recall: 0.725\n",
      "[14:11:05] WARNING: C:/Users/Administrator/workspace/xgboost-win64_release_1.4.0/src/learner.cc:1095: Starting in XGBoost 1.3.0, the default evaluation metric used with the objective 'binary:logistic' was changed from 'error' to 'logloss'. Explicitly set eval_metric if you'd like to restore the old behavior.\n",
      "XGBC | MCC: 0.603, AUC: 0.801, Accuracy: 0.778, Precision: 0.828, Recall: 0.801\n",
      "\n",
      "=======================Selected features 95/207 =======================\n",
      "MLPC | MCC: 0.535, AUC: 0.767, Accuracy: 0.769, Precision: 0.749, Recall: 0.768\n",
      "SVC | MCC: 0.545, AUC: 0.772, Accuracy: 0.748, Precision: 0.803, Recall: 0.772\n",
      "RFC | MCC: 0.643, AUC: 0.822, Accuracy: 0.805, Precision: 0.837, Recall: 0.821\n",
      "DTC | MCC: 0.495, AUC: 0.747, Accuracy: 0.729, Precision: 0.766, Recall: 0.747\n",
      "[14:11:41] WARNING: C:/Users/Administrator/workspace/xgboost-win64_release_1.4.0/src/learner.cc:1095: Starting in XGBoost 1.3.0, the default evaluation metric used with the objective 'binary:logistic' was changed from 'error' to 'logloss'. Explicitly set eval_metric if you'd like to restore the old behavior.\n",
      "XGBC | MCC: 0.608, AUC: 0.804, Accuracy: 0.782, Precision: 0.828, Recall: 0.803\n",
      "\n",
      "=======================Selected features 100/207 =======================\n",
      "MLPC | MCC: 0.533, AUC: 0.765, Accuracy: 0.726, Precision: 0.828, Recall: 0.763\n",
      "SVC | MCC: 0.545, AUC: 0.771, Accuracy: 0.739, Precision: 0.820, Recall: 0.770\n",
      "RFC | MCC: 0.651, AUC: 0.826, Accuracy: 0.808, Precision: 0.842, Recall: 0.825\n",
      "DTC | MCC: 0.462, AUC: 0.731, Accuracy: 0.713, Precision: 0.749, Recall: 0.730\n",
      "[14:12:15] WARNING: C:/Users/Administrator/workspace/xgboost-win64_release_1.4.0/src/learner.cc:1095: Starting in XGBoost 1.3.0, the default evaluation metric used with the objective 'binary:logistic' was changed from 'error' to 'logloss'. Explicitly set eval_metric if you'd like to restore the old behavior.\n",
      "XGBC | MCC: 0.624, AUC: 0.812, Accuracy: 0.795, Precision: 0.828, Recall: 0.812\n",
      "\n",
      "=======================Selected features 105/207 =======================\n",
      "MLPC | MCC: 0.532, AUC: 0.766, Accuracy: 0.741, Precision: 0.797, Recall: 0.765\n",
      "SVC | MCC: 0.558, AUC: 0.778, Accuracy: 0.747, Precision: 0.823, Recall: 0.777\n",
      "RFC | MCC: 0.635, AUC: 0.818, Accuracy: 0.797, Precision: 0.839, Recall: 0.817\n",
      "DTC | MCC: 0.477, AUC: 0.738, Accuracy: 0.712, Precision: 0.775, Recall: 0.737\n",
      "[14:12:48] WARNING: C:/Users/Administrator/workspace/xgboost-win64_release_1.4.0/src/learner.cc:1095: Starting in XGBoost 1.3.0, the default evaluation metric used with the objective 'binary:logistic' was changed from 'error' to 'logloss'. Explicitly set eval_metric if you'd like to restore the old behavior.\n",
      "XGBC | MCC: 0.630, AUC: 0.815, Accuracy: 0.794, Precision: 0.837, Recall: 0.814\n",
      "\n",
      "=======================Selected features 110/207 =======================\n",
      "MLPC | MCC: 0.555, AUC: 0.777, Accuracy: 0.747, Precision: 0.817, Recall: 0.776\n",
      "SVC | MCC: 0.548, AUC: 0.774, Accuracy: 0.747, Precision: 0.808, Recall: 0.773\n",
      "RFC | MCC: 0.616, AUC: 0.808, Accuracy: 0.790, Precision: 0.825, Recall: 0.807\n",
      "DTC | MCC: 0.470, AUC: 0.735, Accuracy: 0.717, Precision: 0.755, Recall: 0.735\n",
      "[14:13:27] WARNING: C:/Users/Administrator/workspace/xgboost-win64_release_1.4.0/src/learner.cc:1095: Starting in XGBoost 1.3.0, the default evaluation metric used with the objective 'binary:logistic' was changed from 'error' to 'logloss'. Explicitly set eval_metric if you'd like to restore the old behavior.\n",
      "XGBC | MCC: 0.619, AUC: 0.810, Accuracy: 0.784, Precision: 0.839, Recall: 0.809\n",
      "\n",
      "=======================Selected features 115/207 =======================\n",
      "MLPC | MCC: 0.576, AUC: 0.788, Accuracy: 0.760, Precision: 0.823, Recall: 0.787\n",
      "SVC | MCC: 0.560, AUC: 0.779, Accuracy: 0.751, Precision: 0.817, Recall: 0.779\n",
      "RFC | MCC: 0.648, AUC: 0.824, Accuracy: 0.813, Precision: 0.831, Recall: 0.824\n"
     ]
    },
    {
     "name": "stdout",
     "output_type": "stream",
     "text": [
      "DTC | MCC: 0.473, AUC: 0.736, Accuracy: 0.718, Precision: 0.755, Recall: 0.736\n",
      "[14:13:58] WARNING: C:/Users/Administrator/workspace/xgboost-win64_release_1.4.0/src/learner.cc:1095: Starting in XGBoost 1.3.0, the default evaluation metric used with the objective 'binary:logistic' was changed from 'error' to 'logloss'. Explicitly set eval_metric if you'd like to restore the old behavior.\n",
      "XGBC | MCC: 0.607, AUC: 0.803, Accuracy: 0.791, Precision: 0.811, Recall: 0.803\n",
      "\n",
      "=======================Selected features 120/207 =======================\n",
      "MLPC | MCC: 0.538, AUC: 0.769, Accuracy: 0.758, Precision: 0.775, Recall: 0.769\n",
      "SVC | MCC: 0.546, AUC: 0.772, Accuracy: 0.747, Precision: 0.806, Recall: 0.772\n",
      "RFC | MCC: 0.656, AUC: 0.828, Accuracy: 0.818, Precision: 0.834, Recall: 0.828\n",
      "DTC | MCC: 0.483, AUC: 0.741, Accuracy: 0.715, Precision: 0.777, Recall: 0.740\n",
      "[14:14:32] WARNING: C:/Users/Administrator/workspace/xgboost-win64_release_1.4.0/src/learner.cc:1095: Starting in XGBoost 1.3.0, the default evaluation metric used with the objective 'binary:logistic' was changed from 'error' to 'logloss'. Explicitly set eval_metric if you'd like to restore the old behavior.\n",
      "XGBC | MCC: 0.609, AUC: 0.804, Accuracy: 0.777, Precision: 0.837, Recall: 0.803\n",
      "\n",
      "=======================Selected features 125/207 =======================\n",
      "MLPC | MCC: 0.573, AUC: 0.786, Accuracy: 0.760, Precision: 0.820, Recall: 0.785\n",
      "SVC | MCC: 0.563, AUC: 0.781, Accuracy: 0.752, Precision: 0.820, Recall: 0.780\n",
      "RFC | MCC: 0.612, AUC: 0.806, Accuracy: 0.796, Precision: 0.811, Recall: 0.806\n",
      "DTC | MCC: 0.459, AUC: 0.729, Accuracy: 0.714, Precision: 0.744, Recall: 0.729\n",
      "[14:15:05] WARNING: C:/Users/Administrator/workspace/xgboost-win64_release_1.4.0/src/learner.cc:1095: Starting in XGBoost 1.3.0, the default evaluation metric used with the objective 'binary:logistic' was changed from 'error' to 'logloss'. Explicitly set eval_metric if you'd like to restore the old behavior.\n",
      "XGBC | MCC: 0.629, AUC: 0.814, Accuracy: 0.784, Precision: 0.851, Recall: 0.813\n",
      "\n",
      "=======================Selected features 130/207 =======================\n",
      "MLPC | MCC: 0.540, AUC: 0.770, Accuracy: 0.766, Precision: 0.763, Recall: 0.770\n",
      "SVC | MCC: 0.551, AUC: 0.775, Accuracy: 0.748, Precision: 0.811, Recall: 0.774\n",
      "RFC | MCC: 0.607, AUC: 0.804, Accuracy: 0.790, Precision: 0.814, Recall: 0.803\n",
      "DTC | MCC: 0.442, AUC: 0.721, Accuracy: 0.707, Precision: 0.732, Recall: 0.721\n",
      "[14:15:38] WARNING: C:/Users/Administrator/workspace/xgboost-win64_release_1.4.0/src/learner.cc:1095: Starting in XGBoost 1.3.0, the default evaluation metric used with the objective 'binary:logistic' was changed from 'error' to 'logloss'. Explicitly set eval_metric if you'd like to restore the old behavior.\n",
      "XGBC | MCC: 0.611, AUC: 0.805, Accuracy: 0.784, Precision: 0.828, Recall: 0.805\n",
      "\n",
      "=======================Selected features 135/207 =======================\n",
      "MLPC | MCC: 0.567, AUC: 0.783, Accuracy: 0.763, Precision: 0.806, Recall: 0.783\n",
      "SVC | MCC: 0.563, AUC: 0.781, Accuracy: 0.749, Precision: 0.825, Recall: 0.780\n",
      "RFC | MCC: 0.621, AUC: 0.810, Accuracy: 0.797, Precision: 0.820, Recall: 0.810\n",
      "DTC | MCC: 0.438, AUC: 0.719, Accuracy: 0.694, Precision: 0.755, Recall: 0.718\n",
      "[14:16:13] WARNING: C:/Users/Administrator/workspace/xgboost-win64_release_1.4.0/src/learner.cc:1095: Starting in XGBoost 1.3.0, the default evaluation metric used with the objective 'binary:logistic' was changed from 'error' to 'logloss'. Explicitly set eval_metric if you'd like to restore the old behavior.\n",
      "XGBC | MCC: 0.635, AUC: 0.818, Accuracy: 0.798, Precision: 0.837, Recall: 0.817\n",
      "\n",
      "=======================Selected features 140/207 =======================\n",
      "MLPC | MCC: 0.565, AUC: 0.782, Accuracy: 0.786, Precision: 0.763, Recall: 0.783\n",
      "SVC | MCC: 0.568, AUC: 0.784, Accuracy: 0.756, Precision: 0.820, Recall: 0.783\n",
      "RFC | MCC: 0.656, AUC: 0.828, Accuracy: 0.816, Precision: 0.837, Recall: 0.828\n",
      "DTC | MCC: 0.500, AUC: 0.749, Accuracy: 0.719, Precision: 0.794, Recall: 0.748\n",
      "[14:16:49] WARNING: C:/Users/Administrator/workspace/xgboost-win64_release_1.4.0/src/learner.cc:1095: Starting in XGBoost 1.3.0, the default evaluation metric used with the objective 'binary:logistic' was changed from 'error' to 'logloss'. Explicitly set eval_metric if you'd like to restore the old behavior.\n",
      "XGBC | MCC: 0.589, AUC: 0.794, Accuracy: 0.770, Precision: 0.823, Recall: 0.794\n",
      "\n",
      "=======================Selected features 145/207 =======================\n",
      "MLPC | MCC: 0.584, AUC: 0.792, Accuracy: 0.798, Precision: 0.769, Recall: 0.792\n",
      "SVC | MCC: 0.576, AUC: 0.788, Accuracy: 0.759, Precision: 0.825, Recall: 0.787\n",
      "RFC | MCC: 0.652, AUC: 0.826, Accuracy: 0.803, Precision: 0.851, Recall: 0.825\n",
      "DTC | MCC: 0.511, AUC: 0.756, Accuracy: 0.737, Precision: 0.775, Recall: 0.755\n",
      "[14:17:26] WARNING: C:/Users/Administrator/workspace/xgboost-win64_release_1.4.0/src/learner.cc:1095: Starting in XGBoost 1.3.0, the default evaluation metric used with the objective 'binary:logistic' was changed from 'error' to 'logloss'. Explicitly set eval_metric if you'd like to restore the old behavior.\n",
      "XGBC | MCC: 0.594, AUC: 0.797, Accuracy: 0.776, Precision: 0.820, Recall: 0.796\n",
      "\n",
      "=======================Selected features 150/207 =======================\n",
      "MLPC | MCC: 0.537, AUC: 0.768, Accuracy: 0.746, Precision: 0.794, Recall: 0.768\n",
      "SVC | MCC: 0.581, AUC: 0.790, Accuracy: 0.767, Precision: 0.817, Recall: 0.790\n",
      "RFC | MCC: 0.613, AUC: 0.806, Accuracy: 0.788, Precision: 0.825, Recall: 0.806\n",
      "DTC | MCC: 0.436, AUC: 0.717, Accuracy: 0.694, Precision: 0.752, Recall: 0.717\n",
      "[14:18:02] WARNING: C:/Users/Administrator/workspace/xgboost-win64_release_1.4.0/src/learner.cc:1095: Starting in XGBoost 1.3.0, the default evaluation metric used with the objective 'binary:logistic' was changed from 'error' to 'logloss'. Explicitly set eval_metric if you'd like to restore the old behavior.\n",
      "XGBC | MCC: 0.597, AUC: 0.798, Accuracy: 0.774, Precision: 0.828, Recall: 0.798\n",
      "\n",
      "=======================Selected features 155/207 =======================\n",
      "MLPC | MCC: 0.543, AUC: 0.770, Accuracy: 0.733, Precision: 0.828, Recall: 0.769\n",
      "SVC | MCC: 0.573, AUC: 0.786, Accuracy: 0.761, Precision: 0.817, Recall: 0.785\n",
      "RFC | MCC: 0.624, AUC: 0.812, Accuracy: 0.796, Precision: 0.825, Recall: 0.812\n",
      "DTC | MCC: 0.497, AUC: 0.749, Accuracy: 0.731, Precision: 0.766, Recall: 0.748\n",
      "[14:18:44] WARNING: C:/Users/Administrator/workspace/xgboost-win64_release_1.4.0/src/learner.cc:1095: Starting in XGBoost 1.3.0, the default evaluation metric used with the objective 'binary:logistic' was changed from 'error' to 'logloss'. Explicitly set eval_metric if you'd like to restore the old behavior.\n",
      "XGBC | MCC: 0.637, AUC: 0.819, Accuracy: 0.802, Precision: 0.834, Recall: 0.818\n",
      "\n",
      "=======================Selected features 160/207 =======================\n",
      "MLPC | MCC: 0.588, AUC: 0.793, Accuracy: 0.808, Precision: 0.758, Recall: 0.794\n",
      "SVC | MCC: 0.567, AUC: 0.783, Accuracy: 0.761, Precision: 0.808, Recall: 0.783\n",
      "RFC | MCC: 0.637, AUC: 0.819, Accuracy: 0.804, Precision: 0.831, Recall: 0.818\n",
      "DTC | MCC: 0.461, AUC: 0.730, Accuracy: 0.705, Precision: 0.766, Recall: 0.729\n",
      "[14:19:18] WARNING: C:/Users/Administrator/workspace/xgboost-win64_release_1.4.0/src/learner.cc:1095: Starting in XGBoost 1.3.0, the default evaluation metric used with the objective 'binary:logistic' was changed from 'error' to 'logloss'. Explicitly set eval_metric if you'd like to restore the old behavior.\n",
      "XGBC | MCC: 0.615, AUC: 0.808, Accuracy: 0.796, Precision: 0.814, Recall: 0.807\n",
      "\n",
      "=======================Selected features 165/207 =======================\n",
      "MLPC | MCC: 0.579, AUC: 0.788, Accuracy: 0.751, Precision: 0.842, Recall: 0.787\n",
      "SVC | MCC: 0.584, AUC: 0.792, Accuracy: 0.766, Precision: 0.823, Recall: 0.791\n",
      "RFC | MCC: 0.656, AUC: 0.828, Accuracy: 0.814, Precision: 0.839, Recall: 0.828\n",
      "DTC | MCC: 0.466, AUC: 0.733, Accuracy: 0.722, Precision: 0.738, Recall: 0.733\n",
      "[14:19:56] WARNING: C:/Users/Administrator/workspace/xgboost-win64_release_1.4.0/src/learner.cc:1095: Starting in XGBoost 1.3.0, the default evaluation metric used with the objective 'binary:logistic' was changed from 'error' to 'logloss'. Explicitly set eval_metric if you'd like to restore the old behavior.\n"
     ]
    },
    {
     "name": "stdout",
     "output_type": "stream",
     "text": [
      "XGBC | MCC: 0.604, AUC: 0.802, Accuracy: 0.789, Precision: 0.811, Recall: 0.802\n",
      "\n",
      "=======================Selected features 170/207 =======================\n",
      "MLPC | MCC: 0.565, AUC: 0.783, Accuracy: 0.771, Precision: 0.789, Recall: 0.783\n",
      "SVC | MCC: 0.575, AUC: 0.787, Accuracy: 0.767, Precision: 0.808, Recall: 0.787\n",
      "RFC | MCC: 0.641, AUC: 0.820, Accuracy: 0.799, Precision: 0.842, Recall: 0.820\n",
      "DTC | MCC: 0.473, AUC: 0.736, Accuracy: 0.716, Precision: 0.761, Recall: 0.736\n",
      "[14:20:34] WARNING: C:/Users/Administrator/workspace/xgboost-win64_release_1.4.0/src/learner.cc:1095: Starting in XGBoost 1.3.0, the default evaluation metric used with the objective 'binary:logistic' was changed from 'error' to 'logloss'. Explicitly set eval_metric if you'd like to restore the old behavior.\n",
      "XGBC | MCC: 0.622, AUC: 0.811, Accuracy: 0.788, Precision: 0.837, Recall: 0.810\n",
      "\n",
      "=======================Selected features 175/207 =======================\n",
      "MLPC | MCC: 0.591, AUC: 0.795, Accuracy: 0.780, Precision: 0.808, Recall: 0.795\n",
      "SVC | MCC: 0.565, AUC: 0.782, Accuracy: 0.757, Precision: 0.814, Recall: 0.781\n",
      "RFC | MCC: 0.626, AUC: 0.813, Accuracy: 0.797, Precision: 0.828, Recall: 0.813\n",
      "DTC | MCC: 0.489, AUC: 0.744, Accuracy: 0.715, Precision: 0.786, Recall: 0.743\n",
      "[14:21:20] WARNING: C:/Users/Administrator/workspace/xgboost-win64_release_1.4.0/src/learner.cc:1095: Starting in XGBoost 1.3.0, the default evaluation metric used with the objective 'binary:logistic' was changed from 'error' to 'logloss'. Explicitly set eval_metric if you'd like to restore the old behavior.\n",
      "XGBC | MCC: 0.607, AUC: 0.804, Accuracy: 0.786, Precision: 0.820, Recall: 0.803\n",
      "\n",
      "=======================Selected features 180/207 =======================\n",
      "MLPC | MCC: 0.631, AUC: 0.816, Accuracy: 0.813, Precision: 0.808, Recall: 0.816\n",
      "SVC | MCC: 0.572, AUC: 0.786, Accuracy: 0.767, Precision: 0.806, Recall: 0.785\n",
      "RFC | MCC: 0.632, AUC: 0.816, Accuracy: 0.796, Precision: 0.837, Recall: 0.816\n",
      "DTC | MCC: 0.500, AUC: 0.750, Accuracy: 0.737, Precision: 0.758, Recall: 0.750\n",
      "[14:21:56] WARNING: C:/Users/Administrator/workspace/xgboost-win64_release_1.4.0/src/learner.cc:1095: Starting in XGBoost 1.3.0, the default evaluation metric used with the objective 'binary:logistic' was changed from 'error' to 'logloss'. Explicitly set eval_metric if you'd like to restore the old behavior.\n",
      "XGBC | MCC: 0.600, AUC: 0.800, Accuracy: 0.776, Precision: 0.828, Recall: 0.799\n",
      "\n",
      "=======================Selected features 185/207 =======================\n",
      "MLPC | MCC: 0.546, AUC: 0.773, Accuracy: 0.743, Precision: 0.814, Recall: 0.772\n",
      "SVC | MCC: 0.580, AUC: 0.790, Accuracy: 0.769, Precision: 0.814, Recall: 0.790\n",
      "RFC | MCC: 0.632, AUC: 0.816, Accuracy: 0.796, Precision: 0.837, Recall: 0.816\n",
      "DTC | MCC: 0.458, AUC: 0.729, Accuracy: 0.702, Precision: 0.769, Recall: 0.728\n",
      "[14:22:33] WARNING: C:/Users/Administrator/workspace/xgboost-win64_release_1.4.0/src/learner.cc:1095: Starting in XGBoost 1.3.0, the default evaluation metric used with the objective 'binary:logistic' was changed from 'error' to 'logloss'. Explicitly set eval_metric if you'd like to restore the old behavior.\n",
      "XGBC | MCC: 0.617, AUC: 0.808, Accuracy: 0.784, Precision: 0.837, Recall: 0.807\n",
      "\n",
      "=======================Selected features 190/207 =======================\n",
      "MLPC | MCC: 0.555, AUC: 0.778, Accuracy: 0.760, Precision: 0.794, Recall: 0.777\n",
      "SVC | MCC: 0.567, AUC: 0.783, Accuracy: 0.760, Precision: 0.811, Recall: 0.783\n",
      "RFC | MCC: 0.632, AUC: 0.816, Accuracy: 0.799, Precision: 0.831, Recall: 0.816\n",
      "DTC | MCC: 0.458, AUC: 0.729, Accuracy: 0.718, Precision: 0.732, Recall: 0.729\n",
      "[14:23:12] WARNING: C:/Users/Administrator/workspace/xgboost-win64_release_1.4.0/src/learner.cc:1095: Starting in XGBoost 1.3.0, the default evaluation metric used with the objective 'binary:logistic' was changed from 'error' to 'logloss'. Explicitly set eval_metric if you'd like to restore the old behavior.\n",
      "XGBC | MCC: 0.635, AUC: 0.818, Accuracy: 0.797, Precision: 0.839, Recall: 0.817\n",
      "\n",
      "=======================Selected features 195/207 =======================\n",
      "MLPC | MCC: 0.580, AUC: 0.790, Accuracy: 0.772, Precision: 0.808, Recall: 0.790\n",
      "SVC | MCC: 0.584, AUC: 0.792, Accuracy: 0.768, Precision: 0.820, Recall: 0.791\n",
      "RFC | MCC: 0.630, AUC: 0.815, Accuracy: 0.793, Precision: 0.839, Recall: 0.814\n",
      "DTC | MCC: 0.460, AUC: 0.730, Accuracy: 0.707, Precision: 0.761, Recall: 0.729\n",
      "[14:23:49] WARNING: C:/Users/Administrator/workspace/xgboost-win64_release_1.4.0/src/learner.cc:1095: Starting in XGBoost 1.3.0, the default evaluation metric used with the objective 'binary:logistic' was changed from 'error' to 'logloss'. Explicitly set eval_metric if you'd like to restore the old behavior.\n",
      "XGBC | MCC: 0.616, AUC: 0.808, Accuracy: 0.790, Precision: 0.825, Recall: 0.807\n",
      "\n",
      "=======================Selected features 200/207 =======================\n",
      "MLPC | MCC: 0.602, AUC: 0.800, Accuracy: 0.767, Precision: 0.845, Recall: 0.799\n",
      "SVC | MCC: 0.580, AUC: 0.790, Accuracy: 0.769, Precision: 0.814, Recall: 0.790\n",
      "RFC | MCC: 0.621, AUC: 0.810, Accuracy: 0.797, Precision: 0.820, Recall: 0.810\n",
      "DTC | MCC: 0.487, AUC: 0.743, Accuracy: 0.723, Precision: 0.766, Recall: 0.743\n",
      "[14:24:27] WARNING: C:/Users/Administrator/workspace/xgboost-win64_release_1.4.0/src/learner.cc:1095: Starting in XGBoost 1.3.0, the default evaluation metric used with the objective 'binary:logistic' was changed from 'error' to 'logloss'. Explicitly set eval_metric if you'd like to restore the old behavior.\n",
      "XGBC | MCC: 0.610, AUC: 0.805, Accuracy: 0.786, Precision: 0.825, Recall: 0.805\n",
      "\n",
      "=======================Selected features 205/207 =======================\n",
      "MLPC | MCC: 0.568, AUC: 0.784, Accuracy: 0.783, Precision: 0.772, Recall: 0.784\n",
      "SVC | MCC: 0.583, AUC: 0.791, Accuracy: 0.771, Precision: 0.814, Recall: 0.791\n",
      "RFC | MCC: 0.628, AUC: 0.814, Accuracy: 0.786, Precision: 0.848, Recall: 0.813\n",
      "DTC | MCC: 0.500, AUC: 0.749, Accuracy: 0.721, Precision: 0.792, Recall: 0.748\n",
      "[14:25:00] WARNING: C:/Users/Administrator/workspace/xgboost-win64_release_1.4.0/src/learner.cc:1095: Starting in XGBoost 1.3.0, the default evaluation metric used with the objective 'binary:logistic' was changed from 'error' to 'logloss'. Explicitly set eval_metric if you'd like to restore the old behavior.\n",
      "XGBC | MCC: 0.582, AUC: 0.791, Accuracy: 0.777, Precision: 0.803, Recall: 0.791\n"
     ]
    }
   ],
   "source": [
    "#Added\n",
    "# Applying feature selection using scoring function as mutual_info_classification\n",
    "models_mic, results_mic, num_sel_feat_mic, features_mic = fs_score_fn(X_train, y_train, X_val, y_val, X_train_norm, X_val_norm, True, mutual_info_classif)"
   ]
  },
  {
   "cell_type": "code",
   "execution_count": 173,
   "id": "92c2a716",
   "metadata": {},
   "outputs": [
    {
     "data": {
      "image/png": "[encoded data removed]",
      "text/plain": [
       "<Figure size 950x380 with 1 Axes>"
      ]
     },
     "metadata": {},
     "output_type": "display_data"
    }
   ],
   "source": [
    "# Added\n",
    "mcc_mic, auc_mic = plot_classification_metrics(results_mic, X_train, \"Mutual Info Classif\")"
   ]
  },
  {
   "cell_type": "code",
   "execution_count": null,
   "id": "14ffcaf9",
   "metadata": {},
   "outputs": [],
   "source": []
  }
 ],
 "metadata": {
  "kernelspec": {
   "display_name": "Python 3 (ipykernel)",
   "language": "python",
   "name": "python3"
  },
  "language_info": {
   "codemirror_mode": {
    "name": "ipython",
    "version": 3
   },
   "file_extension": ".py",
   "mimetype": "text/x-python",
   "name": "python",
   "nbconvert_exporter": "python",
   "pygments_lexer": "ipython3",
   "version": "3.9.7"
  }
 },
 "nbformat": 4,
 "nbformat_minor": 5
}
