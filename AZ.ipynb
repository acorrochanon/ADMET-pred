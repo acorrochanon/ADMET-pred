{
 "cells": [
  {
   "cell_type": "markdown",
   "id": "53347800",
   "metadata": {},
   "source": [
    "# Benchmarking feature selection algorithms in the molecular property prediction space"
   ]
  },
  {
   "cell_type": "code",
   "execution_count": 1,
   "id": "2d6f835c",
   "metadata": {},
   "outputs": [],
   "source": [
    "import warnings\n",
    "\n",
    "warnings.simplefilter('ignore')"
   ]
  },
  {
   "cell_type": "markdown",
   "id": "834b5299",
   "metadata": {},
   "source": [
    "## Lipophilicity\n",
    "\n",
    "Lipophilicity measures the ability of a drug to dissolve in a lipid (e.g. fats, oils) environment. High lipophilicity often leads to high rate of metabolism, poor solubility, high turn-over, and low absorption"
   ]
  },
  {
   "cell_type": "code",
   "execution_count": 2,
   "id": "20f68759",
   "metadata": {},
   "outputs": [
    {
     "name": "stderr",
     "output_type": "stream",
     "text": [
      "Found local copy...\n",
      "Loading...\n",
      "Done!\n"
     ]
    }
   ],
   "source": [
    "#LIPOPHILICITY (REGRESSION)\n",
    "\n",
    "from tdc.single_pred import ADME\n",
    "data = ADME(name = 'Lipophilicity_AstraZeneca')\n",
    "#DF contains the whole dataset stored in a Pandas dataframe format \n",
    "df = data.get_data()\n",
    "#Get_split divides the dataset into 3 different sets (Train, validation, test)\n",
    "split_LIPO = data.get_split()"
   ]
  },
  {
   "cell_type": "code",
   "execution_count": 85,
   "id": "3e35f52e",
   "metadata": {},
   "outputs": [
    {
     "data": {
      "text/html": [
       "<div>\n",
       "<style scoped>\n",
       "    .dataframe tbody tr th:only-of-type {\n",
       "        vertical-align: middle;\n",
       "    }\n",
       "\n",
       "    .dataframe tbody tr th {\n",
       "        vertical-align: top;\n",
       "    }\n",
       "\n",
       "    .dataframe thead th {\n",
       "        text-align: right;\n",
       "    }\n",
       "</style>\n",
       "<table border=\"1\" class=\"dataframe\">\n",
       "  <thead>\n",
       "    <tr style=\"text-align: right;\">\n",
       "      <th></th>\n",
       "      <th>Drug_ID</th>\n",
       "      <th>Drug</th>\n",
       "      <th>Y</th>\n",
       "    </tr>\n",
       "  </thead>\n",
       "  <tbody>\n",
       "    <tr>\n",
       "      <th>0</th>\n",
       "      <td>CHEMBL596271</td>\n",
       "      <td>Cn1c(CN2CCN(c3ccc(Cl)cc3)CC2)nc2ccccc21</td>\n",
       "      <td>3.54</td>\n",
       "    </tr>\n",
       "    <tr>\n",
       "      <th>1</th>\n",
       "      <td>CHEMBL1951080</td>\n",
       "      <td>COc1cc(OC)c(S(=O)(=O)N2c3ccccc3CCC2C)cc1NC(=O)...</td>\n",
       "      <td>-1.18</td>\n",
       "    </tr>\n",
       "    <tr>\n",
       "      <th>2</th>\n",
       "      <td>CHEMBL1771</td>\n",
       "      <td>COC(=O)[C@H](c1ccccc1Cl)N1CCc2sccc2C1</td>\n",
       "      <td>3.69</td>\n",
       "    </tr>\n",
       "    <tr>\n",
       "      <th>3</th>\n",
       "      <td>CHEMBL317462</td>\n",
       "      <td>OC1(C#Cc2ccc(-c3ccccc3)cc2)CN2CCC1CC2</td>\n",
       "      <td>3.14</td>\n",
       "    </tr>\n",
       "    <tr>\n",
       "      <th>4</th>\n",
       "      <td>CHEMBL1940306</td>\n",
       "      <td>CS(=O)(=O)c1ccc(Oc2ccc(C#C[C@]3(O)CN4CCC3CC4)c...</td>\n",
       "      <td>1.51</td>\n",
       "    </tr>\n",
       "  </tbody>\n",
       "</table>\n",
       "</div>"
      ],
      "text/plain": [
       "         Drug_ID                                               Drug     Y\n",
       "0   CHEMBL596271            Cn1c(CN2CCN(c3ccc(Cl)cc3)CC2)nc2ccccc21  3.54\n",
       "1  CHEMBL1951080  COc1cc(OC)c(S(=O)(=O)N2c3ccccc3CCC2C)cc1NC(=O)... -1.18\n",
       "2     CHEMBL1771              COC(=O)[C@H](c1ccccc1Cl)N1CCc2sccc2C1  3.69\n",
       "3   CHEMBL317462              OC1(C#Cc2ccc(-c3ccccc3)cc2)CN2CCC1CC2  3.14\n",
       "4  CHEMBL1940306  CS(=O)(=O)c1ccc(Oc2ccc(C#C[C@]3(O)CN4CCC3CC4)c...  1.51"
      ]
     },
     "execution_count": 85,
     "metadata": {},
     "output_type": "execute_result"
    }
   ],
   "source": [
    "split_LIPO['train'].head()"
   ]
  },
  {
   "cell_type": "code",
   "execution_count": 3,
   "id": "5ee7a23b",
   "metadata": {},
   "outputs": [
    {
     "data": {
      "image/png": "[encoded data removed]",
      "text/plain": [
       "<rdkit.Chem.rdchem.Mol at 0x1508f3880>"
      ]
     },
     "execution_count": 3,
     "metadata": {},
     "output_type": "execute_result"
    }
   ],
   "source": [
    "#This would be the way of displaying the drug's chemical representation\n",
    "from rdkit import Chem\n",
    "\n",
    "mol = Chem.MolFromSmiles(split_LIPO['train']['Drug'][2])\n",
    "mol"
   ]
  },
  {
   "cell_type": "code",
   "execution_count": 9,
   "id": "26239f3d",
   "metadata": {},
   "outputs": [
    {
     "name": "stdout",
     "output_type": "stream",
     "text": [
      "['AUTOCORR2D_1', 'AUTOCORR2D_10', 'AUTOCORR2D_100', 'AUTOCORR2D_101', 'AUTOCORR2D_102', 'AUTOCORR2D_103', 'AUTOCORR2D_104', 'AUTOCORR2D_105', 'AUTOCORR2D_106', 'AUTOCORR2D_107', 'AUTOCORR2D_108', 'AUTOCORR2D_109', 'AUTOCORR2D_11', 'AUTOCORR2D_110', 'AUTOCORR2D_111', 'AUTOCORR2D_112', 'AUTOCORR2D_113', 'AUTOCORR2D_114', 'AUTOCORR2D_115', 'AUTOCORR2D_116', 'AUTOCORR2D_117', 'AUTOCORR2D_118', 'AUTOCORR2D_119', 'AUTOCORR2D_12', 'AUTOCORR2D_120', 'AUTOCORR2D_121', 'AUTOCORR2D_122', 'AUTOCORR2D_123', 'AUTOCORR2D_124', 'AUTOCORR2D_125', 'AUTOCORR2D_126', 'AUTOCORR2D_127', 'AUTOCORR2D_128', 'AUTOCORR2D_129', 'AUTOCORR2D_13', 'AUTOCORR2D_130', 'AUTOCORR2D_131', 'AUTOCORR2D_132', 'AUTOCORR2D_133', 'AUTOCORR2D_134', 'AUTOCORR2D_135', 'AUTOCORR2D_136', 'AUTOCORR2D_137', 'AUTOCORR2D_138', 'AUTOCORR2D_139', 'AUTOCORR2D_14', 'AUTOCORR2D_140', 'AUTOCORR2D_141', 'AUTOCORR2D_142', 'AUTOCORR2D_143', 'AUTOCORR2D_144', 'AUTOCORR2D_145', 'AUTOCORR2D_146', 'AUTOCORR2D_147', 'AUTOCORR2D_148', 'AUTOCORR2D_149', 'AUTOCORR2D_15', 'AUTOCORR2D_150', 'AUTOCORR2D_151', 'AUTOCORR2D_152', 'AUTOCORR2D_153', 'AUTOCORR2D_154', 'AUTOCORR2D_155', 'AUTOCORR2D_156', 'AUTOCORR2D_157', 'AUTOCORR2D_158', 'AUTOCORR2D_159', 'AUTOCORR2D_16', 'AUTOCORR2D_160', 'AUTOCORR2D_161', 'AUTOCORR2D_162', 'AUTOCORR2D_163', 'AUTOCORR2D_164', 'AUTOCORR2D_165', 'AUTOCORR2D_166', 'AUTOCORR2D_167', 'AUTOCORR2D_168', 'AUTOCORR2D_169', 'AUTOCORR2D_17', 'AUTOCORR2D_170', 'AUTOCORR2D_171', 'AUTOCORR2D_172', 'AUTOCORR2D_173', 'AUTOCORR2D_174', 'AUTOCORR2D_175', 'AUTOCORR2D_176', 'AUTOCORR2D_177', 'AUTOCORR2D_178', 'AUTOCORR2D_179', 'AUTOCORR2D_18', 'AUTOCORR2D_180', 'AUTOCORR2D_181', 'AUTOCORR2D_182', 'AUTOCORR2D_183', 'AUTOCORR2D_184', 'AUTOCORR2D_185', 'AUTOCORR2D_186', 'AUTOCORR2D_187', 'AUTOCORR2D_188', 'AUTOCORR2D_189', 'AUTOCORR2D_19', 'AUTOCORR2D_190', 'AUTOCORR2D_191', 'AUTOCORR2D_192', 'AUTOCORR2D_2', 'AUTOCORR2D_20', 'AUTOCORR2D_21', 'AUTOCORR2D_22', 'AUTOCORR2D_23', 'AUTOCORR2D_24', 'AUTOCORR2D_25', 'AUTOCORR2D_26', 'AUTOCORR2D_27', 'AUTOCORR2D_28', 'AUTOCORR2D_29', 'AUTOCORR2D_3', 'AUTOCORR2D_30', 'AUTOCORR2D_31', 'AUTOCORR2D_32', 'AUTOCORR2D_33', 'AUTOCORR2D_34', 'AUTOCORR2D_35', 'AUTOCORR2D_36', 'AUTOCORR2D_37', 'AUTOCORR2D_38', 'AUTOCORR2D_39', 'AUTOCORR2D_4', 'AUTOCORR2D_40', 'AUTOCORR2D_41', 'AUTOCORR2D_42', 'AUTOCORR2D_43', 'AUTOCORR2D_44', 'AUTOCORR2D_45', 'AUTOCORR2D_46', 'AUTOCORR2D_47', 'AUTOCORR2D_48', 'AUTOCORR2D_49', 'AUTOCORR2D_5', 'AUTOCORR2D_50', 'AUTOCORR2D_51', 'AUTOCORR2D_52', 'AUTOCORR2D_53', 'AUTOCORR2D_54', 'AUTOCORR2D_55', 'AUTOCORR2D_56', 'AUTOCORR2D_57', 'AUTOCORR2D_58', 'AUTOCORR2D_59', 'AUTOCORR2D_6', 'AUTOCORR2D_60', 'AUTOCORR2D_61', 'AUTOCORR2D_62', 'AUTOCORR2D_63', 'AUTOCORR2D_64', 'AUTOCORR2D_65', 'AUTOCORR2D_66', 'AUTOCORR2D_67', 'AUTOCORR2D_68', 'AUTOCORR2D_69', 'AUTOCORR2D_7', 'AUTOCORR2D_70', 'AUTOCORR2D_71', 'AUTOCORR2D_72', 'AUTOCORR2D_73', 'AUTOCORR2D_74', 'AUTOCORR2D_75', 'AUTOCORR2D_76', 'AUTOCORR2D_77', 'AUTOCORR2D_78', 'AUTOCORR2D_79', 'AUTOCORR2D_8', 'AUTOCORR2D_80', 'AUTOCORR2D_81', 'AUTOCORR2D_82', 'AUTOCORR2D_83', 'AUTOCORR2D_84', 'AUTOCORR2D_85', 'AUTOCORR2D_86', 'AUTOCORR2D_87', 'AUTOCORR2D_88', 'AUTOCORR2D_89', 'AUTOCORR2D_9', 'AUTOCORR2D_90', 'AUTOCORR2D_91', 'AUTOCORR2D_92', 'AUTOCORR2D_93', 'AUTOCORR2D_94', 'AUTOCORR2D_95', 'AUTOCORR2D_96', 'AUTOCORR2D_97', 'AUTOCORR2D_98', 'AUTOCORR2D_99', 'BCUT2D_CHGHI', 'BCUT2D_CHGLO', 'BCUT2D_LOGPHI', 'BCUT2D_LOGPLOW', 'BCUT2D_MRHI', 'BCUT2D_MRLOW', 'BCUT2D_MWHI', 'BCUT2D_MWLOW', 'BalabanJ', 'BertzCT', 'Chem', 'Chi0', 'Chi0n', 'Chi0v', 'Chi1', 'Chi1n', 'Chi1v', 'Chi2n', 'Chi2v', 'Chi3n', 'Chi3v', 'Chi4n', 'Chi4v', 'EState_VSA1', 'EState_VSA10', 'EState_VSA11', 'EState_VSA2', 'EState_VSA3', 'EState_VSA4', 'EState_VSA5', 'EState_VSA6', 'EState_VSA7', 'EState_VSA8', 'EState_VSA9', 'ExactMolWt', 'FpDensityMorgan1', 'FpDensityMorgan2', 'FpDensityMorgan3', 'FractionCSP3', 'HallKierAlpha', 'HeavyAtomCount', 'HeavyAtomMolWt', 'Ipc', 'Kappa1', 'Kappa2', 'Kappa3', 'LabuteASA', 'MaxAbsEStateIndex', 'MaxAbsPartialCharge', 'MaxEStateIndex', 'MaxPartialCharge', 'MinAbsEStateIndex', 'MinAbsPartialCharge', 'MinEStateIndex', 'MinPartialCharge', 'MolLogP', 'MolMR', 'MolWt', 'NHOHCount', 'NOCount', 'NumAliphaticCarbocycles', 'NumAliphaticHeterocycles', 'NumAliphaticRings', 'NumAromaticCarbocycles', 'NumAromaticHeterocycles', 'NumAromaticRings', 'NumHAcceptors', 'NumHDonors', 'NumHeteroatoms', 'NumRadicalElectrons', 'NumRotatableBonds', 'NumSaturatedCarbocycles', 'NumSaturatedHeterocycles', 'NumSaturatedRings', 'NumValenceElectrons', 'PEOE_VSA1', 'PEOE_VSA10', 'PEOE_VSA11', 'PEOE_VSA12', 'PEOE_VSA13', 'PEOE_VSA14', 'PEOE_VSA2', 'PEOE_VSA3', 'PEOE_VSA4', 'PEOE_VSA5', 'PEOE_VSA6', 'PEOE_VSA7', 'PEOE_VSA8', 'PEOE_VSA9', 'PropertyFunctor', 'RingCount', 'SMR_VSA1', 'SMR_VSA10', 'SMR_VSA2', 'SMR_VSA3', 'SMR_VSA4', 'SMR_VSA5', 'SMR_VSA6', 'SMR_VSA7', 'SMR_VSA8', 'SMR_VSA9', 'SlogP_VSA1', 'SlogP_VSA10', 'SlogP_VSA11', 'SlogP_VSA12', 'SlogP_VSA2', 'SlogP_VSA3', 'SlogP_VSA4', 'SlogP_VSA5', 'SlogP_VSA6', 'SlogP_VSA7', 'SlogP_VSA8', 'SlogP_VSA9', 'TPSA', 'VSA_EState1', 'VSA_EState10', 'VSA_EState2', 'VSA_EState3', 'VSA_EState4', 'VSA_EState5', 'VSA_EState6', 'VSA_EState7', 'VSA_EState8', 'VSA_EState9', '_ChargeDescriptors', '_FingerprintDensity', '__builtins__', '__cached__', '__doc__', '__file__', '__loader__', '__name__', '__package__', '__spec__', '_descList', '_du', '_isCallable', '_rdMolDescriptors', '_runDoctests', '_setupDescriptors', 'abc', 'autocorr', 'descList', 'fr_Al_COO', 'fr_Al_OH', 'fr_Al_OH_noTert', 'fr_ArN', 'fr_Ar_COO', 'fr_Ar_N', 'fr_Ar_NH', 'fr_Ar_OH', 'fr_COO', 'fr_COO2', 'fr_C_O', 'fr_C_O_noCOO', 'fr_C_S', 'fr_HOCCN', 'fr_Imine', 'fr_NH0', 'fr_NH1', 'fr_NH2', 'fr_N_O', 'fr_Ndealkylation1', 'fr_Ndealkylation2', 'fr_Nhpyrrole', 'fr_SH', 'fr_aldehyde', 'fr_alkyl_carbamate', 'fr_alkyl_halide', 'fr_allylic_oxid', 'fr_amide', 'fr_amidine', 'fr_aniline', 'fr_aryl_methyl', 'fr_azide', 'fr_azo', 'fr_barbitur', 'fr_benzene', 'fr_benzodiazepine', 'fr_bicyclic', 'fr_diazo', 'fr_dihydropyridine', 'fr_epoxide', 'fr_ester', 'fr_ether', 'fr_furan', 'fr_guanido', 'fr_halogen', 'fr_hdrzine', 'fr_hdrzone', 'fr_imidazole', 'fr_imide', 'fr_isocyan', 'fr_isothiocyan', 'fr_ketone', 'fr_ketone_Topliss', 'fr_lactam', 'fr_lactone', 'fr_methoxy', 'fr_morpholine', 'fr_nitrile', 'fr_nitro', 'fr_nitro_arom', 'fr_nitro_arom_nonortho', 'fr_nitroso', 'fr_oxazole', 'fr_oxime', 'fr_para_hydroxylation', 'fr_phenol', 'fr_phenol_noOrthoHbond', 'fr_phos_acid', 'fr_phos_ester', 'fr_piperdine', 'fr_piperzine', 'fr_priamide', 'fr_prisulfonamd', 'fr_pyridine', 'fr_quatN', 'fr_sulfide', 'fr_sulfonamd', 'fr_sulfone', 'fr_term_acetylene', 'fr_tetrazole', 'fr_thiazole', 'fr_thiocyan', 'fr_thiophene', 'fr_unbrch_alkane', 'fr_urea', 'names', 'qed', 'rdMolDescriptors', 'rdPartialCharges', 'setupAUTOCorrDescriptors']\n"
     ]
    }
   ],
   "source": [
    "print(dir(Descriptors))"
   ]
  },
  {
   "cell_type": "code",
   "execution_count": 6,
   "id": "962a638a",
   "metadata": {},
   "outputs": [
    {
     "name": "stdout",
     "output_type": "stream",
     "text": [
      "425\n"
     ]
    }
   ],
   "source": [
    "print(len(dir(Descriptors)))"
   ]
  },
  {
   "cell_type": "code",
   "execution_count": 87,
   "id": "11df2abb",
   "metadata": {
    "scrolled": true
   },
   "outputs": [
    {
     "name": "stdout",
     "output_type": "stream",
     "text": [
      "['HeavyAtomCount', 'HeavyAtomMolWt', 'Ipc', 'Kappa1', 'Kappa2', 'Kappa3', 'LabuteASA', 'MaxAbsEStateIndex', 'MaxAbsPartialCharge', 'MaxEStateIndex', 'MaxPartialCharge', 'MinAbsEStateIndex', 'MinAbsPartialCharge', 'MinEStateIndex', 'MinPartialCharge', 'MolLogP', 'MolMR', 'MolWt', 'NHOHCount', 'NOCount', 'NumAliphaticCarbocycles', 'NumAliphaticHeterocycles', 'NumAliphaticRings', 'NumAromaticCarbocycles', 'NumAromaticHeterocycles', 'NumAromaticRings', 'NumHAcceptors', 'NumHDonors', 'NumHeteroatoms', 'NumRadicalElectrons', 'NumRotatableBonds', 'NumSaturatedCarbocycles', 'NumSaturatedHeterocycles', 'NumSaturatedRings', 'NumValenceElectrons']\n"
     ]
    }
   ],
   "source": [
    "#We will consider the following descriptors \n",
    "print(dir(Descriptors)[232:267])"
   ]
  },
  {
   "cell_type": "code",
   "execution_count": 5,
   "id": "ba52d96e",
   "metadata": {},
   "outputs": [],
   "source": [
    "from rdkit.Chem import Descriptors\n",
    "\n",
    "#We iterate through the list of Descriptor's function names \n",
    "for i, desc_name in enumerate(dir(Descriptors)[232:267]):\n",
    "    #we create a new column in the DF that will contain the Descriptor's desired value for every molecule\n",
    "    df[desc_name] = [getattr(Descriptors, dir(Descriptors)[i])(Chem.MolFromSmiles(j)) for j in df['Drug']]\n",
    "\n",
    "#If we had only wanted to obtain de LogP of every molecule contained in the dataset we would do the following\n",
    "#[Descriptors.MolLogP(Chem.MolFromSmiles(i)) for i in df['Drug']]"
   ]
  },
  {
   "cell_type": "code",
   "execution_count": 7,
   "id": "e65a265a",
   "metadata": {},
   "outputs": [],
   "source": [
    "#We move the target (lipophilicity value) to the end\n",
    "temp = df.pop('Y') # remove column b and store it in df1\n",
    "df['Y'] = temp"
   ]
  },
  {
   "cell_type": "code",
   "execution_count": 90,
   "id": "7e082341",
   "metadata": {},
   "outputs": [
    {
     "data": {
      "text/plain": [
       "(4200, 38)"
      ]
     },
     "execution_count": 90,
     "metadata": {},
     "output_type": "execute_result"
    }
   ],
   "source": [
    "#Actual shape of the dataframe\n",
    "df.shape"
   ]
  },
  {
   "cell_type": "code",
   "execution_count": 8,
   "id": "5b72c515",
   "metadata": {},
   "outputs": [
    {
     "name": "stdout",
     "output_type": "stream",
     "text": [
      "<class 'pandas.core.frame.DataFrame'>\n",
      "RangeIndex: 4200 entries, 0 to 4199\n",
      "Data columns (total 38 columns):\n",
      " #   Column                    Non-Null Count  Dtype  \n",
      "---  ------                    --------------  -----  \n",
      " 0   Drug_ID                   4200 non-null   object \n",
      " 1   Drug                      4200 non-null   object \n",
      " 2   HeavyAtomCount            4200 non-null   float64\n",
      " 3   HeavyAtomMolWt            4200 non-null   float64\n",
      " 4   Ipc                       4200 non-null   float64\n",
      " 5   Kappa1                    4200 non-null   float64\n",
      " 6   Kappa2                    4200 non-null   float64\n",
      " 7   Kappa3                    4200 non-null   float64\n",
      " 8   LabuteASA                 4200 non-null   float64\n",
      " 9   MaxAbsEStateIndex         4200 non-null   float64\n",
      " 10  MaxAbsPartialCharge       4200 non-null   float64\n",
      " 11  MaxEStateIndex            4200 non-null   float64\n",
      " 12  MaxPartialCharge          4200 non-null   float64\n",
      " 13  MinAbsEStateIndex         4200 non-null   float64\n",
      " 14  MinAbsPartialCharge       4200 non-null   float64\n",
      " 15  MinEStateIndex            4200 non-null   float64\n",
      " 16  MinPartialCharge          4200 non-null   float64\n",
      " 17  MolLogP                   4200 non-null   float64\n",
      " 18  MolMR                     4200 non-null   float64\n",
      " 19  MolWt                     4200 non-null   float64\n",
      " 20  NHOHCount                 4200 non-null   float64\n",
      " 21  NOCount                   4200 non-null   float64\n",
      " 22  NumAliphaticCarbocycles   4200 non-null   float64\n",
      " 23  NumAliphaticHeterocycles  4200 non-null   float64\n",
      " 24  NumAliphaticRings         4200 non-null   float64\n",
      " 25  NumAromaticCarbocycles    4200 non-null   float64\n",
      " 26  NumAromaticHeterocycles   4200 non-null   float64\n",
      " 27  NumAromaticRings          4200 non-null   float64\n",
      " 28  NumHAcceptors             4200 non-null   float64\n",
      " 29  NumHDonors                4200 non-null   float64\n",
      " 30  NumHeteroatoms            4200 non-null   float64\n",
      " 31  NumRadicalElectrons       4200 non-null   float64\n",
      " 32  NumRotatableBonds         4200 non-null   float64\n",
      " 33  NumSaturatedCarbocycles   4200 non-null   float64\n",
      " 34  NumSaturatedHeterocycles  4200 non-null   float64\n",
      " 35  NumSaturatedRings         4200 non-null   float64\n",
      " 36  NumValenceElectrons       4200 non-null   float64\n",
      " 37  Y                         4200 non-null   float64\n",
      "dtypes: float64(36), object(2)\n",
      "memory usage: 1.2+ MB\n"
     ]
    }
   ],
   "source": [
    "df.info()"
   ]
  },
  {
   "cell_type": "code",
   "execution_count": 91,
   "id": "7016ed3f",
   "metadata": {},
   "outputs": [
    {
     "data": {
      "text/html": [
       "<div>\n",
       "<style scoped>\n",
       "    .dataframe tbody tr th:only-of-type {\n",
       "        vertical-align: middle;\n",
       "    }\n",
       "\n",
       "    .dataframe tbody tr th {\n",
       "        vertical-align: top;\n",
       "    }\n",
       "\n",
       "    .dataframe thead th {\n",
       "        text-align: right;\n",
       "    }\n",
       "</style>\n",
       "<table border=\"1\" class=\"dataframe\">\n",
       "  <thead>\n",
       "    <tr style=\"text-align: right;\">\n",
       "      <th></th>\n",
       "      <th>Drug_ID</th>\n",
       "      <th>Drug</th>\n",
       "      <th>HeavyAtomCount</th>\n",
       "      <th>HeavyAtomMolWt</th>\n",
       "      <th>Ipc</th>\n",
       "      <th>Kappa1</th>\n",
       "      <th>Kappa2</th>\n",
       "      <th>Kappa3</th>\n",
       "      <th>LabuteASA</th>\n",
       "      <th>MaxAbsEStateIndex</th>\n",
       "      <th>...</th>\n",
       "      <th>NumHAcceptors</th>\n",
       "      <th>NumHDonors</th>\n",
       "      <th>NumHeteroatoms</th>\n",
       "      <th>NumRadicalElectrons</th>\n",
       "      <th>NumRotatableBonds</th>\n",
       "      <th>NumSaturatedCarbocycles</th>\n",
       "      <th>NumSaturatedHeterocycles</th>\n",
       "      <th>NumSaturatedRings</th>\n",
       "      <th>NumValenceElectrons</th>\n",
       "      <th>Y</th>\n",
       "    </tr>\n",
       "  </thead>\n",
       "  <tbody>\n",
       "    <tr>\n",
       "      <th>0</th>\n",
       "      <td>CHEMBL596271</td>\n",
       "      <td>Cn1c(CN2CCN(c3ccc(Cl)cc3)CC2)nc2ccccc21</td>\n",
       "      <td>3.459</td>\n",
       "      <td>3.573</td>\n",
       "      <td>-0.020</td>\n",
       "      <td>0.061</td>\n",
       "      <td>-0.069</td>\n",
       "      <td>-0.098</td>\n",
       "      <td>0.073</td>\n",
       "      <td>-0.245</td>\n",
       "      <td>...</td>\n",
       "      <td>-0.029</td>\n",
       "      <td>0.344</td>\n",
       "      <td>-0.215</td>\n",
       "      <td>-0.337</td>\n",
       "      <td>0.400</td>\n",
       "      <td>-0.082</td>\n",
       "      <td>-0.429</td>\n",
       "      <td>-0.315</td>\n",
       "      <td>3.205</td>\n",
       "      <td>3.54</td>\n",
       "    </tr>\n",
       "    <tr>\n",
       "      <th>1</th>\n",
       "      <td>CHEMBL1951080</td>\n",
       "      <td>COc1cc(OC)c(S(=O)(=O)N2c3ccccc3CCC2C)cc1NC(=O)...</td>\n",
       "      <td>3.936</td>\n",
       "      <td>3.813</td>\n",
       "      <td>-0.134</td>\n",
       "      <td>-0.055</td>\n",
       "      <td>0.002</td>\n",
       "      <td>0.274</td>\n",
       "      <td>0.107</td>\n",
       "      <td>-0.271</td>\n",
       "      <td>...</td>\n",
       "      <td>0.186</td>\n",
       "      <td>-0.300</td>\n",
       "      <td>0.027</td>\n",
       "      <td>-0.020</td>\n",
       "      <td>0.097</td>\n",
       "      <td>0.214</td>\n",
       "      <td>-0.432</td>\n",
       "      <td>-0.262</td>\n",
       "      <td>3.949</td>\n",
       "      <td>-1.18</td>\n",
       "    </tr>\n",
       "    <tr>\n",
       "      <th>2</th>\n",
       "      <td>CHEMBL1771</td>\n",
       "      <td>COC(=O)[C@H](c1ccccc1Cl)N1CCc2sccc2C1</td>\n",
       "      <td>3.427</td>\n",
       "      <td>3.457</td>\n",
       "      <td>-0.037</td>\n",
       "      <td>-0.002</td>\n",
       "      <td>-0.153</td>\n",
       "      <td>-0.105</td>\n",
       "      <td>0.521</td>\n",
       "      <td>-0.049</td>\n",
       "      <td>...</td>\n",
       "      <td>0.158</td>\n",
       "      <td>0.187</td>\n",
       "      <td>-0.248</td>\n",
       "      <td>-0.193</td>\n",
       "      <td>-0.009</td>\n",
       "      <td>-0.617</td>\n",
       "      <td>0.433</td>\n",
       "      <td>-0.125</td>\n",
       "      <td>3.415</td>\n",
       "      <td>3.69</td>\n",
       "    </tr>\n",
       "    <tr>\n",
       "      <th>3</th>\n",
       "      <td>CHEMBL234951</td>\n",
       "      <td>O=C(NC1Cc2ccccc2N(C[C@@H](O)CO)C1=O)c1cc2cc(Cl...</td>\n",
       "      <td>3.684</td>\n",
       "      <td>3.735</td>\n",
       "      <td>-0.021</td>\n",
       "      <td>0.031</td>\n",
       "      <td>-0.036</td>\n",
       "      <td>-0.013</td>\n",
       "      <td>-0.009</td>\n",
       "      <td>-0.069</td>\n",
       "      <td>...</td>\n",
       "      <td>0.057</td>\n",
       "      <td>0.224</td>\n",
       "      <td>-0.118</td>\n",
       "      <td>-0.157</td>\n",
       "      <td>0.065</td>\n",
       "      <td>-0.176</td>\n",
       "      <td>-0.247</td>\n",
       "      <td>-0.149</td>\n",
       "      <td>3.599</td>\n",
       "      <td>3.37</td>\n",
       "    </tr>\n",
       "    <tr>\n",
       "      <th>4</th>\n",
       "      <td>CHEMBL565079</td>\n",
       "      <td>Cc1cccc(C[C@H](NC(=O)c2cc(C(C)(C)C)nn2C)C(=O)N...</td>\n",
       "      <td>3.477</td>\n",
       "      <td>3.621</td>\n",
       "      <td>-0.208</td>\n",
       "      <td>0.146</td>\n",
       "      <td>-0.247</td>\n",
       "      <td>-0.175</td>\n",
       "      <td>-0.030</td>\n",
       "      <td>-0.040</td>\n",
       "      <td>...</td>\n",
       "      <td>0.029</td>\n",
       "      <td>0.212</td>\n",
       "      <td>-0.201</td>\n",
       "      <td>0.079</td>\n",
       "      <td>-0.213</td>\n",
       "      <td>-0.155</td>\n",
       "      <td>-0.047</td>\n",
       "      <td>-0.021</td>\n",
       "      <td>3.541</td>\n",
       "      <td>3.10</td>\n",
       "    </tr>\n",
       "  </tbody>\n",
       "</table>\n",
       "<p>5 rows × 38 columns</p>\n",
       "</div>"
      ],
      "text/plain": [
       "         Drug_ID                                               Drug  \\\n",
       "0   CHEMBL596271            Cn1c(CN2CCN(c3ccc(Cl)cc3)CC2)nc2ccccc21   \n",
       "1  CHEMBL1951080  COc1cc(OC)c(S(=O)(=O)N2c3ccccc3CCC2C)cc1NC(=O)...   \n",
       "2     CHEMBL1771              COC(=O)[C@H](c1ccccc1Cl)N1CCc2sccc2C1   \n",
       "3   CHEMBL234951  O=C(NC1Cc2ccccc2N(C[C@@H](O)CO)C1=O)c1cc2cc(Cl...   \n",
       "4   CHEMBL565079  Cc1cccc(C[C@H](NC(=O)c2cc(C(C)(C)C)nn2C)C(=O)N...   \n",
       "\n",
       "   HeavyAtomCount  HeavyAtomMolWt    Ipc  Kappa1  Kappa2  Kappa3  LabuteASA  \\\n",
       "0           3.459           3.573 -0.020   0.061  -0.069  -0.098      0.073   \n",
       "1           3.936           3.813 -0.134  -0.055   0.002   0.274      0.107   \n",
       "2           3.427           3.457 -0.037  -0.002  -0.153  -0.105      0.521   \n",
       "3           3.684           3.735 -0.021   0.031  -0.036  -0.013     -0.009   \n",
       "4           3.477           3.621 -0.208   0.146  -0.247  -0.175     -0.030   \n",
       "\n",
       "   MaxAbsEStateIndex  ...  NumHAcceptors  NumHDonors  NumHeteroatoms  \\\n",
       "0             -0.245  ...         -0.029       0.344          -0.215   \n",
       "1             -0.271  ...          0.186      -0.300           0.027   \n",
       "2             -0.049  ...          0.158       0.187          -0.248   \n",
       "3             -0.069  ...          0.057       0.224          -0.118   \n",
       "4             -0.040  ...          0.029       0.212          -0.201   \n",
       "\n",
       "   NumRadicalElectrons  NumRotatableBonds  NumSaturatedCarbocycles  \\\n",
       "0               -0.337              0.400                   -0.082   \n",
       "1               -0.020              0.097                    0.214   \n",
       "2               -0.193             -0.009                   -0.617   \n",
       "3               -0.157              0.065                   -0.176   \n",
       "4                0.079             -0.213                   -0.155   \n",
       "\n",
       "   NumSaturatedHeterocycles  NumSaturatedRings  NumValenceElectrons     Y  \n",
       "0                    -0.429             -0.315                3.205  3.54  \n",
       "1                    -0.432             -0.262                3.949 -1.18  \n",
       "2                     0.433             -0.125                3.415  3.69  \n",
       "3                    -0.247             -0.149                3.599  3.37  \n",
       "4                    -0.047             -0.021                3.541  3.10  \n",
       "\n",
       "[5 rows x 38 columns]"
      ]
     },
     "execution_count": 91,
     "metadata": {},
     "output_type": "execute_result"
    }
   ],
   "source": [
    "df.head()"
   ]
  },
  {
   "cell_type": "markdown",
   "id": "a8038a1e",
   "metadata": {},
   "source": [
    "## Solubility \n",
    "\n",
    "Aqeuous solubility measures a drug's ability to dissolve in water. Poor water solubility could lead to slow drug absorptions, inadequate bioavailablity and even induce toxicity. More than 40% of new chemical entities are not soluble."
   ]
  },
  {
   "cell_type": "code",
   "execution_count": 13,
   "id": "f8a703b5",
   "metadata": {},
   "outputs": [
    {
     "name": "stderr",
     "output_type": "stream",
     "text": [
      "Found local copy...\n",
      "Loading...\n",
      "Done!\n"
     ]
    }
   ],
   "source": [
    "#SOLUBILITY (REGRESSION)\n",
    "\n",
    "from tdc.single_pred import ADME\n",
    "data = ADME(name = 'Solubility_AqSolDB')\n",
    "split_SOLU = data.get_split()"
   ]
  },
  {
   "cell_type": "code",
   "execution_count": 14,
   "id": "7423dd34",
   "metadata": {},
   "outputs": [
    {
     "data": {
      "text/html": [
       "<div>\n",
       "<style scoped>\n",
       "    .dataframe tbody tr th:only-of-type {\n",
       "        vertical-align: middle;\n",
       "    }\n",
       "\n",
       "    .dataframe tbody tr th {\n",
       "        vertical-align: top;\n",
       "    }\n",
       "\n",
       "    .dataframe thead th {\n",
       "        text-align: right;\n",
       "    }\n",
       "</style>\n",
       "<table border=\"1\" class=\"dataframe\">\n",
       "  <thead>\n",
       "    <tr style=\"text-align: right;\">\n",
       "      <th></th>\n",
       "      <th>Drug_ID</th>\n",
       "      <th>Drug</th>\n",
       "      <th>Y</th>\n",
       "    </tr>\n",
       "  </thead>\n",
       "  <tbody>\n",
       "    <tr>\n",
       "      <th>0</th>\n",
       "      <td>Benzo[cd]indol-2(1H)-one</td>\n",
       "      <td>O=C1Nc2cccc3cccc1c23</td>\n",
       "      <td>-3.254767</td>\n",
       "    </tr>\n",
       "    <tr>\n",
       "      <th>1</th>\n",
       "      <td>4-chlorobenzaldehyde</td>\n",
       "      <td>O=Cc1ccc(Cl)cc1</td>\n",
       "      <td>-2.177078</td>\n",
       "    </tr>\n",
       "    <tr>\n",
       "      <th>2</th>\n",
       "      <td>4-({4-[bis(oxiran-2-ylmethyl)amino]phenyl}meth...</td>\n",
       "      <td>c1cc(N(CC2CO2)CC2CO2)ccc1Cc1ccc(N(CC2CO2)CC2CO...</td>\n",
       "      <td>-4.662065</td>\n",
       "    </tr>\n",
       "    <tr>\n",
       "      <th>3</th>\n",
       "      <td>vinyltoluene</td>\n",
       "      <td>C=Cc1cccc(C)c1</td>\n",
       "      <td>-3.123150</td>\n",
       "    </tr>\n",
       "    <tr>\n",
       "      <th>4</th>\n",
       "      <td>3-(3-ethylcyclopentyl)propanoic acid</td>\n",
       "      <td>CCC1CCC(CCC(=O)O)C1</td>\n",
       "      <td>-3.286116</td>\n",
       "    </tr>\n",
       "    <tr>\n",
       "      <th>...</th>\n",
       "      <td>...</td>\n",
       "      <td>...</td>\n",
       "      <td>...</td>\n",
       "    </tr>\n",
       "    <tr>\n",
       "      <th>6983</th>\n",
       "      <td>sarafloxacin</td>\n",
       "      <td>O=C(O)c1cn(-c2ccc(F)cc2)c2cc(N3CCNCC3)c(F)cc2c1=O</td>\n",
       "      <td>-3.130000</td>\n",
       "    </tr>\n",
       "    <tr>\n",
       "      <th>6984</th>\n",
       "      <td>sparfloxacin</td>\n",
       "      <td>C[C@H]1CN(c2c(F)c(N)c3c(=O)c(C(=O)O)cn(C4CC4)c...</td>\n",
       "      <td>-3.370000</td>\n",
       "    </tr>\n",
       "    <tr>\n",
       "      <th>6985</th>\n",
       "      <td>sulindac_form_II</td>\n",
       "      <td>CC1=C(CC(=O)O)c2cc(F)ccc2/C1=C/c1ccc(S(C)=O)cc1</td>\n",
       "      <td>-4.500000</td>\n",
       "    </tr>\n",
       "    <tr>\n",
       "      <th>6986</th>\n",
       "      <td>tetracaine</td>\n",
       "      <td>CCCCNc1ccc(C(=O)OCCN(C)C)cc1</td>\n",
       "      <td>-3.010000</td>\n",
       "    </tr>\n",
       "    <tr>\n",
       "      <th>6987</th>\n",
       "      <td>thymol</td>\n",
       "      <td>Cc1ccc(C(C)C)c(O)c1</td>\n",
       "      <td>-2.190000</td>\n",
       "    </tr>\n",
       "  </tbody>\n",
       "</table>\n",
       "<p>6988 rows × 3 columns</p>\n",
       "</div>"
      ],
      "text/plain": [
       "                                                Drug_ID  \\\n",
       "0                              Benzo[cd]indol-2(1H)-one   \n",
       "1                                  4-chlorobenzaldehyde   \n",
       "2     4-({4-[bis(oxiran-2-ylmethyl)amino]phenyl}meth...   \n",
       "3                                          vinyltoluene   \n",
       "4                  3-(3-ethylcyclopentyl)propanoic acid   \n",
       "...                                                 ...   \n",
       "6983                                       sarafloxacin   \n",
       "6984                                       sparfloxacin   \n",
       "6985                                   sulindac_form_II   \n",
       "6986                                         tetracaine   \n",
       "6987                                             thymol   \n",
       "\n",
       "                                                   Drug         Y  \n",
       "0                                  O=C1Nc2cccc3cccc1c23 -3.254767  \n",
       "1                                       O=Cc1ccc(Cl)cc1 -2.177078  \n",
       "2     c1cc(N(CC2CO2)CC2CO2)ccc1Cc1ccc(N(CC2CO2)CC2CO... -4.662065  \n",
       "3                                        C=Cc1cccc(C)c1 -3.123150  \n",
       "4                                   CCC1CCC(CCC(=O)O)C1 -3.286116  \n",
       "...                                                 ...       ...  \n",
       "6983  O=C(O)c1cn(-c2ccc(F)cc2)c2cc(N3CCNCC3)c(F)cc2c1=O -3.130000  \n",
       "6984  C[C@H]1CN(c2c(F)c(N)c3c(=O)c(C(=O)O)cn(C4CC4)c... -3.370000  \n",
       "6985    CC1=C(CC(=O)O)c2cc(F)ccc2/C1=C/c1ccc(S(C)=O)cc1 -4.500000  \n",
       "6986                       CCCCNc1ccc(C(=O)OCCN(C)C)cc1 -3.010000  \n",
       "6987                                Cc1ccc(C(C)C)c(O)c1 -2.190000  \n",
       "\n",
       "[6988 rows x 3 columns]"
      ]
     },
     "execution_count": 14,
     "metadata": {},
     "output_type": "execute_result"
    }
   ],
   "source": [
    "split_SOLU['train']"
   ]
  },
  {
   "cell_type": "markdown",
   "id": "84524dca",
   "metadata": {},
   "source": [
    "## hERG blockers\n",
    "\n",
    "Human ether-à-go-go related gene (hERG) is crucial for the coordination of the heart's beating. Thus, if a drug blocks the hERG, it could lead to severe adverse effects"
   ]
  },
  {
   "cell_type": "code",
   "execution_count": 15,
   "id": "ce375084",
   "metadata": {},
   "outputs": [
    {
     "name": "stderr",
     "output_type": "stream",
     "text": [
      "Found local copy...\n",
      "Loading...\n",
      "Done!\n"
     ]
    }
   ],
   "source": [
    "#hERG BLOCKERS (BINARY)\n",
    "\n",
    "from tdc.single_pred import Tox\n",
    "data = Tox(name = 'hERG')\n",
    "split_HERG = data.get_split()"
   ]
  },
  {
   "cell_type": "code",
   "execution_count": 16,
   "id": "1a8e7d95",
   "metadata": {},
   "outputs": [
    {
     "data": {
      "text/html": [
       "<div>\n",
       "<style scoped>\n",
       "    .dataframe tbody tr th:only-of-type {\n",
       "        vertical-align: middle;\n",
       "    }\n",
       "\n",
       "    .dataframe tbody tr th {\n",
       "        vertical-align: top;\n",
       "    }\n",
       "\n",
       "    .dataframe thead th {\n",
       "        text-align: right;\n",
       "    }\n",
       "</style>\n",
       "<table border=\"1\" class=\"dataframe\">\n",
       "  <thead>\n",
       "    <tr style=\"text-align: right;\">\n",
       "      <th></th>\n",
       "      <th>Drug_ID</th>\n",
       "      <th>Drug</th>\n",
       "      <th>Y</th>\n",
       "    </tr>\n",
       "  </thead>\n",
       "  <tbody>\n",
       "    <tr>\n",
       "      <th>0</th>\n",
       "      <td>DEMETHYLASTEMIZOLE</td>\n",
       "      <td>Oc1ccc(CCN2CCC(Nc3nc4ccccc4n3Cc3ccc(F)cc3)CC2)cc1</td>\n",
       "      <td>1.0</td>\n",
       "    </tr>\n",
       "    <tr>\n",
       "      <th>1</th>\n",
       "      <td>GBR-12909</td>\n",
       "      <td>Fc1ccc(C(OCC[NH+]2CC[NH+](CCCc3ccccc3)CC2)c2cc...</td>\n",
       "      <td>1.0</td>\n",
       "    </tr>\n",
       "    <tr>\n",
       "      <th>2</th>\n",
       "      <td>CLOFILIUM PHOSPHATE</td>\n",
       "      <td>CCCCCCC[N+](CC)(CC)CCCCc1ccc(Cl)cc1.CCCCCCC[N+...</td>\n",
       "      <td>1.0</td>\n",
       "    </tr>\n",
       "    <tr>\n",
       "      <th>3</th>\n",
       "      <td>FLUSPIRILENE</td>\n",
       "      <td>O=C1NCN(c2ccccc2)C12CC[NH+](CCCC(c1ccc(F)cc1)c...</td>\n",
       "      <td>1.0</td>\n",
       "    </tr>\n",
       "    <tr>\n",
       "      <th>4</th>\n",
       "      <td>VANOXERINE HYDROCHLORIDE</td>\n",
       "      <td>Fc1ccc(C(OCCN2CCN(CCCc3ccccc3)CC2)c2ccc(F)cc2)cc1</td>\n",
       "      <td>1.0</td>\n",
       "    </tr>\n",
       "    <tr>\n",
       "      <th>...</th>\n",
       "      <td>...</td>\n",
       "      <td>...</td>\n",
       "      <td>...</td>\n",
       "    </tr>\n",
       "    <tr>\n",
       "      <th>453</th>\n",
       "      <td>TESTOLACTONE</td>\n",
       "      <td>CC12CCC3C(CCC4=CC(=O)C=CC43C)C1CCC(=O)O2</td>\n",
       "      <td>0.0</td>\n",
       "    </tr>\n",
       "    <tr>\n",
       "      <th>454</th>\n",
       "      <td>THALIDOMIDE</td>\n",
       "      <td>O=C1CCC(N2C(=O)c3ccccc3C2=O)C(=O)N1</td>\n",
       "      <td>0.0</td>\n",
       "    </tr>\n",
       "    <tr>\n",
       "      <th>455</th>\n",
       "      <td>TILUDRONIC_ACID</td>\n",
       "      <td>O=P([O-])([O-])C(Sc1ccc(Cl)cc1)P(=O)([O-])[O-]</td>\n",
       "      <td>0.0</td>\n",
       "    </tr>\n",
       "    <tr>\n",
       "      <th>456</th>\n",
       "      <td>TIZANIDINE</td>\n",
       "      <td>Clc1ccc2nsnc2c1NC1=[NH+]CCN1</td>\n",
       "      <td>0.0</td>\n",
       "    </tr>\n",
       "    <tr>\n",
       "      <th>457</th>\n",
       "      <td>TOLCAPONE</td>\n",
       "      <td>Cc1ccc(C(=O)c2cc(O)c([O-])c([N+](=O)[O-])c2)cc1</td>\n",
       "      <td>0.0</td>\n",
       "    </tr>\n",
       "  </tbody>\n",
       "</table>\n",
       "<p>458 rows × 3 columns</p>\n",
       "</div>"
      ],
      "text/plain": [
       "                      Drug_ID  \\\n",
       "0          DEMETHYLASTEMIZOLE   \n",
       "1                   GBR-12909   \n",
       "2         CLOFILIUM PHOSPHATE   \n",
       "3                FLUSPIRILENE   \n",
       "4    VANOXERINE HYDROCHLORIDE   \n",
       "..                        ...   \n",
       "453              TESTOLACTONE   \n",
       "454               THALIDOMIDE   \n",
       "455           TILUDRONIC_ACID   \n",
       "456                TIZANIDINE   \n",
       "457                 TOLCAPONE   \n",
       "\n",
       "                                                  Drug    Y  \n",
       "0    Oc1ccc(CCN2CCC(Nc3nc4ccccc4n3Cc3ccc(F)cc3)CC2)cc1  1.0  \n",
       "1    Fc1ccc(C(OCC[NH+]2CC[NH+](CCCc3ccccc3)CC2)c2cc...  1.0  \n",
       "2    CCCCCCC[N+](CC)(CC)CCCCc1ccc(Cl)cc1.CCCCCCC[N+...  1.0  \n",
       "3    O=C1NCN(c2ccccc2)C12CC[NH+](CCCC(c1ccc(F)cc1)c...  1.0  \n",
       "4    Fc1ccc(C(OCCN2CCN(CCCc3ccccc3)CC2)c2ccc(F)cc2)cc1  1.0  \n",
       "..                                                 ...  ...  \n",
       "453           CC12CCC3C(CCC4=CC(=O)C=CC43C)C1CCC(=O)O2  0.0  \n",
       "454                O=C1CCC(N2C(=O)c3ccccc3C2=O)C(=O)N1  0.0  \n",
       "455     O=P([O-])([O-])C(Sc1ccc(Cl)cc1)P(=O)([O-])[O-]  0.0  \n",
       "456                       Clc1ccc2nsnc2c1NC1=[NH+]CCN1  0.0  \n",
       "457    Cc1ccc(C(=O)c2cc(O)c([O-])c([N+](=O)[O-])c2)cc1  0.0  \n",
       "\n",
       "[458 rows x 3 columns]"
      ]
     },
     "execution_count": 16,
     "metadata": {},
     "output_type": "execute_result"
    }
   ],
   "source": [
    "split_HERG['train']"
   ]
  },
  {
   "cell_type": "markdown",
   "id": "bc6f50a8",
   "metadata": {},
   "source": [
    "## Ames mutagenicity \n",
    "Mutagenicity means the ability of a drug to induce genetic alterations. Drugs that can cause damage to the DNA can result in cell death or other severe adverse effects"
   ]
  },
  {
   "cell_type": "code",
   "execution_count": 17,
   "id": "a14f8653",
   "metadata": {},
   "outputs": [
    {
     "name": "stderr",
     "output_type": "stream",
     "text": [
      "Found local copy...\n",
      "Loading...\n",
      "Done!\n"
     ]
    }
   ],
   "source": [
    "from tdc.single_pred import Tox\n",
    "data = Tox(name = 'AMES')\n",
    "split_AMES = data.get_split()"
   ]
  },
  {
   "cell_type": "code",
   "execution_count": 18,
   "id": "53b52877",
   "metadata": {},
   "outputs": [
    {
     "data": {
      "text/html": [
       "<div>\n",
       "<style scoped>\n",
       "    .dataframe tbody tr th:only-of-type {\n",
       "        vertical-align: middle;\n",
       "    }\n",
       "\n",
       "    .dataframe tbody tr th {\n",
       "        vertical-align: top;\n",
       "    }\n",
       "\n",
       "    .dataframe thead th {\n",
       "        text-align: right;\n",
       "    }\n",
       "</style>\n",
       "<table border=\"1\" class=\"dataframe\">\n",
       "  <thead>\n",
       "    <tr style=\"text-align: right;\">\n",
       "      <th></th>\n",
       "      <th>Drug_ID</th>\n",
       "      <th>Drug</th>\n",
       "      <th>Y</th>\n",
       "    </tr>\n",
       "  </thead>\n",
       "  <tbody>\n",
       "    <tr>\n",
       "      <th>0</th>\n",
       "      <td>Drug 1</td>\n",
       "      <td>O=[N+]([O-])c1c2c(c3ccc4cccc5ccc1c3c45)CCCC2</td>\n",
       "      <td>1</td>\n",
       "    </tr>\n",
       "    <tr>\n",
       "      <th>1</th>\n",
       "      <td>Drug 2</td>\n",
       "      <td>O=c1c2ccccc2c(=O)c2c1ccc1c2[nH]c2c3c(=O)c4cccc...</td>\n",
       "      <td>0</td>\n",
       "    </tr>\n",
       "    <tr>\n",
       "      <th>2</th>\n",
       "      <td>Drug 3</td>\n",
       "      <td>[N-]=[N+]=CC(=O)NCC(=O)NN</td>\n",
       "      <td>1</td>\n",
       "    </tr>\n",
       "    <tr>\n",
       "      <th>3</th>\n",
       "      <td>Drug 4</td>\n",
       "      <td>[N-]=[N+]=C1C=NC(=O)NC1=O</td>\n",
       "      <td>1</td>\n",
       "    </tr>\n",
       "    <tr>\n",
       "      <th>4</th>\n",
       "      <td>Drug 6</td>\n",
       "      <td>CCCCN(CC(O)C1=CC(=[N+]=[N-])C(=O)C=C1)N=O</td>\n",
       "      <td>1</td>\n",
       "    </tr>\n",
       "    <tr>\n",
       "      <th>...</th>\n",
       "      <td>...</td>\n",
       "      <td>...</td>\n",
       "      <td>...</td>\n",
       "    </tr>\n",
       "    <tr>\n",
       "      <th>5089</th>\n",
       "      <td>Drug 7568</td>\n",
       "      <td>CCC(CCC(C)C1CCC2C3CC=C4CC(O)CCC4(C)C3CCC12C)C(C)C</td>\n",
       "      <td>0</td>\n",
       "    </tr>\n",
       "    <tr>\n",
       "      <th>5090</th>\n",
       "      <td>Drug 7587</td>\n",
       "      <td>CCCCCCCCCCCCOCCO</td>\n",
       "      <td>0</td>\n",
       "    </tr>\n",
       "    <tr>\n",
       "      <th>5091</th>\n",
       "      <td>Drug 7593</td>\n",
       "      <td>CCOP(=S)(CC)Sc1ccccc1</td>\n",
       "      <td>0</td>\n",
       "    </tr>\n",
       "    <tr>\n",
       "      <th>5092</th>\n",
       "      <td>Drug 7598</td>\n",
       "      <td>C=C(C)C1CC=C(C)C(OC(C)=O)C1</td>\n",
       "      <td>0</td>\n",
       "    </tr>\n",
       "    <tr>\n",
       "      <th>5093</th>\n",
       "      <td>Drug 7602</td>\n",
       "      <td>CC/N=c1\\cc2oc3cc(NCC)c(C)cc3c(-c3ccccc3C(=O)OC...</td>\n",
       "      <td>0</td>\n",
       "    </tr>\n",
       "  </tbody>\n",
       "</table>\n",
       "<p>5094 rows × 3 columns</p>\n",
       "</div>"
      ],
      "text/plain": [
       "        Drug_ID                                               Drug  Y\n",
       "0        Drug 1       O=[N+]([O-])c1c2c(c3ccc4cccc5ccc1c3c45)CCCC2  1\n",
       "1        Drug 2  O=c1c2ccccc2c(=O)c2c1ccc1c2[nH]c2c3c(=O)c4cccc...  0\n",
       "2        Drug 3                          [N-]=[N+]=CC(=O)NCC(=O)NN  1\n",
       "3        Drug 4                          [N-]=[N+]=C1C=NC(=O)NC1=O  1\n",
       "4        Drug 6          CCCCN(CC(O)C1=CC(=[N+]=[N-])C(=O)C=C1)N=O  1\n",
       "...         ...                                                ... ..\n",
       "5089  Drug 7568  CCC(CCC(C)C1CCC2C3CC=C4CC(O)CCC4(C)C3CCC12C)C(C)C  0\n",
       "5090  Drug 7587                                   CCCCCCCCCCCCOCCO  0\n",
       "5091  Drug 7593                              CCOP(=S)(CC)Sc1ccccc1  0\n",
       "5092  Drug 7598                        C=C(C)C1CC=C(C)C(OC(C)=O)C1  0\n",
       "5093  Drug 7602  CC/N=c1\\cc2oc3cc(NCC)c(C)cc3c(-c3ccccc3C(=O)OC...  0\n",
       "\n",
       "[5094 rows x 3 columns]"
      ]
     },
     "execution_count": 18,
     "metadata": {},
     "output_type": "execute_result"
    }
   ],
   "source": [
    "split_AMES['train']"
   ]
  }
 ],
 "metadata": {
  "kernelspec": {
   "display_name": "Python 3 (ipykernel)",
   "language": "python",
   "name": "python3"
  },
  "language_info": {
   "codemirror_mode": {
    "name": "ipython",
    "version": 3
   },
   "file_extension": ".py",
   "mimetype": "text/x-python",
   "name": "python",
   "nbconvert_exporter": "python",
   "pygments_lexer": "ipython3",
   "version": "3.9.6"
  }
 },
 "nbformat": 4,
 "nbformat_minor": 5
}
