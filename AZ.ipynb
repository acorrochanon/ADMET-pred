{
 "cells": [
  {
   "cell_type": "markdown",
   "id": "53347800",
   "metadata": {},
   "source": [
    "# Benchmarking feature selection algorithms in the molecular property prediction space\n",
    "\n",
    "*Alejandro Corrochano's contribution to AstraZeneca's supervised project 'Benchmarking feature selection algorithms in the molecular prediction space'*"
   ]
  },
  {
   "cell_type": "code",
   "execution_count": 1,
   "id": "2d6f835c",
   "metadata": {},
   "outputs": [],
   "source": [
    "# Datasets\n",
    "from tdc.single_pred import ADME, Tox\n",
    "\n",
    "# Additional functions in a separate ipynb file\n",
    "from ipynb.fs.full.AZ_additional_functions import *\n",
    "\n",
    "# General use \n",
    "import pandas as pd\n",
    "import numpy as np\n",
    "import seaborn as sns\n",
    "import matplotlib.pyplot as plt \n",
    "\n",
    "import shap\n",
    "import joblib\n",
    "\n",
    "import scipy\n",
    "import sklearn.metrics as metrics\n",
    "from sklearn.preprocessing import StandardScaler\n",
    "from sklearn.model_selection import RandomizedSearchCV\n",
    "\n",
    "# Models\n",
    "from sklearn.ensemble import RandomForestRegressor\n",
    "from sklearn.svm import SVR\n",
    "\n",
    "# RDkit\n",
    "from rdkit import Chem\n",
    "from rdkit import RDLogger\n",
    "from rdkit import DataStructs\n",
    "from rdkit.Chem import AllChem\n",
    "from rdkit.Chem import Descriptors\n",
    "from rdkit.ML.Descriptors.MoleculeDescriptors import MolecularDescriptorCalculator\n",
    "\n",
    "# Standardizing\n",
    "from molvs import standardize_smiles"
   ]
  },
  {
   "cell_type": "code",
   "execution_count": 22,
   "id": "f0ee888e",
   "metadata": {},
   "outputs": [],
   "source": [
    "benchmark = []"
   ]
  },
  {
   "cell_type": "markdown",
   "id": "834b5299",
   "metadata": {},
   "source": [
    "## Lipophilicity\n",
    "\n",
    "Lipophilicity measures the ability of a drug to dissolve in a lipid (e.g. fats, oils) environment. High lipophilicity often leads to high rate of metabolism, poor solubility, high turn-over, and low absorption"
   ]
  },
  {
   "cell_type": "code",
   "execution_count": 2,
   "id": "20f68759",
   "metadata": {},
   "outputs": [
    {
     "name": "stderr",
     "output_type": "stream",
     "text": [
      "Found local copy...\n",
      "Loading...\n",
      "Done!\n"
     ]
    }
   ],
   "source": [
    "data = ADME(name = 'Lipophilicity_AstraZeneca')\n",
    "#DF contains the whole dataset stored in a Pandas dataframe format \n",
    "df = data.get_data()\n",
    "#Get_split divides the dataset into 3 different sets (Train, validation, test)\n",
    "split_LIPO = data.get_split()"
   ]
  },
  {
   "cell_type": "code",
   "execution_count": 3,
   "id": "3e35f52e",
   "metadata": {
    "scrolled": false
   },
   "outputs": [
    {
     "name": "stdout",
     "output_type": "stream",
     "text": [
      "Total number of molecules: 4200\n",
      "Train set: 2940 - 70.0%\n",
      "Validation set: 420 - 10.0%\n",
      "Test set: 840 - 20.0%\n"
     ]
    },
    {
     "data": {
      "text/html": [
       "<div>\n",
       "<style scoped>\n",
       "    .dataframe tbody tr th:only-of-type {\n",
       "        vertical-align: middle;\n",
       "    }\n",
       "\n",
       "    .dataframe tbody tr th {\n",
       "        vertical-align: top;\n",
       "    }\n",
       "\n",
       "    .dataframe thead th {\n",
       "        text-align: right;\n",
       "    }\n",
       "</style>\n",
       "<table border=\"1\" class=\"dataframe\">\n",
       "  <thead>\n",
       "    <tr style=\"text-align: right;\">\n",
       "      <th></th>\n",
       "      <th>Drug_ID</th>\n",
       "      <th>Drug</th>\n",
       "      <th>Y</th>\n",
       "    </tr>\n",
       "  </thead>\n",
       "  <tbody>\n",
       "    <tr>\n",
       "      <th>0</th>\n",
       "      <td>CHEMBL596271</td>\n",
       "      <td>Cn1c(CN2CCN(c3ccc(Cl)cc3)CC2)nc2ccccc21</td>\n",
       "      <td>3.54</td>\n",
       "    </tr>\n",
       "    <tr>\n",
       "      <th>1</th>\n",
       "      <td>CHEMBL1951080</td>\n",
       "      <td>COc1cc(OC)c(S(=O)(=O)N2c3ccccc3CCC2C)cc1NC(=O)...</td>\n",
       "      <td>-1.18</td>\n",
       "    </tr>\n",
       "    <tr>\n",
       "      <th>2</th>\n",
       "      <td>CHEMBL1771</td>\n",
       "      <td>COC(=O)[C@H](c1ccccc1Cl)N1CCc2sccc2C1</td>\n",
       "      <td>3.69</td>\n",
       "    </tr>\n",
       "    <tr>\n",
       "      <th>3</th>\n",
       "      <td>CHEMBL317462</td>\n",
       "      <td>OC1(C#Cc2ccc(-c3ccccc3)cc2)CN2CCC1CC2</td>\n",
       "      <td>3.14</td>\n",
       "    </tr>\n",
       "    <tr>\n",
       "      <th>4</th>\n",
       "      <td>CHEMBL1940306</td>\n",
       "      <td>CS(=O)(=O)c1ccc(Oc2ccc(C#C[C@]3(O)CN4CCC3CC4)c...</td>\n",
       "      <td>1.51</td>\n",
       "    </tr>\n",
       "  </tbody>\n",
       "</table>\n",
       "</div>"
      ],
      "text/plain": [
       "         Drug_ID                                               Drug     Y\n",
       "0   CHEMBL596271            Cn1c(CN2CCN(c3ccc(Cl)cc3)CC2)nc2ccccc21  3.54\n",
       "1  CHEMBL1951080  COc1cc(OC)c(S(=O)(=O)N2c3ccccc3CCC2C)cc1NC(=O)... -1.18\n",
       "2     CHEMBL1771              COC(=O)[C@H](c1ccccc1Cl)N1CCc2sccc2C1  3.69\n",
       "3   CHEMBL317462              OC1(C#Cc2ccc(-c3ccccc3)cc2)CN2CCC1CC2  3.14\n",
       "4  CHEMBL1940306  CS(=O)(=O)c1ccc(Oc2ccc(C#C[C@]3(O)CN4CCC3CC4)c...  1.51"
      ]
     },
     "metadata": {},
     "output_type": "display_data"
    }
   ],
   "source": [
    "data_overview(df, split_LIPO)"
   ]
  },
  {
   "cell_type": "code",
   "execution_count": 4,
   "id": "bdbaddcb",
   "metadata": {},
   "outputs": [
    {
     "name": "stdout",
     "output_type": "stream",
     "text": [
      "Number of compounds modified: 1\n"
     ]
    }
   ],
   "source": [
    "# Remove fragments of compounds that may contain them\n",
    "frag_compounds = [comp for comp in df['Drug'] if len(comp.split('.')) > 1]\n",
    "for ind, c in enumerate(frag_compounds):\n",
    "    df.loc[df.Drug == frag_compounds[ind], 'Drug'] = frag_compounds[ind].split('.')[0]\n",
    "\n",
    "print('Number of compounds modified: {}'.format(len(frag_compounds)))"
   ]
  },
  {
   "cell_type": "code",
   "execution_count": 5,
   "id": "e3a23a65",
   "metadata": {},
   "outputs": [
    {
     "name": "stdout",
     "output_type": "stream",
     "text": [
      "Duplicated compounds and with less than 5 heavy atoms have been removed.\n",
      "Shape: (4200, 3)\n"
     ]
    }
   ],
   "source": [
    "# Duplicates and compounds with less than 5 heavy atoms removal\n",
    "df = remove_ha_duplicates(df)"
   ]
  },
  {
   "cell_type": "markdown",
   "id": "38e5b92c",
   "metadata": {},
   "source": [
    "### Descriptors\n",
    "Contain numerical information regarding the molecule "
   ]
  },
  {
   "cell_type": "code",
   "execution_count": 6,
   "id": "5ee7a23b",
   "metadata": {},
   "outputs": [
    {
     "name": "stdout",
     "output_type": "stream",
     "text": [
      "Total number of descriptors: 208\n"
     ]
    }
   ],
   "source": [
    "descList = [i for i,j in Descriptors.descList]\n",
    "#Molecular descriptor calculator\n",
    "calculator = MolecularDescriptorCalculator(descList)\n",
    "print('Total number of descriptors:', len(descList))"
   ]
  },
  {
   "cell_type": "code",
   "execution_count": 7,
   "id": "634ed22d",
   "metadata": {},
   "outputs": [
    {
     "name": "stdout",
     "output_type": "stream",
     "text": [
      "Actual shape of the Dataframe: (4200, 211)\n"
     ]
    }
   ],
   "source": [
    "# Standardize the molecules \n",
    "df['Drug'] = [standardize_smiles(smi) for smi in df['Drug']]\n",
    "\n",
    "# Generate a list of lists where each row corresponds to a molecule and each column to a descriptor (transpose step required)\n",
    "c = [calculator.CalcDescriptors(Chem.MolFromSmiles(smi)) for smi in df['Drug']]\n",
    "\n",
    "# Convert it into a numpy array and transpose it so the columns represent the descriptors\n",
    "c = np.asarray(c).transpose()\n",
    "\n",
    "# Append all the descriptors to the DF\n",
    "for i, descriptor in enumerate(descList):\n",
    "    df[descriptor] = c[i]\n",
    "    \n",
    "#We move the target (lipophilicity value) to the end\n",
    "temp = df.pop('Y') # remove column b and store it in df1\n",
    "df['Y'] = temp\n",
    "\n",
    "print('Actual shape of the Dataframe:', df.shape)"
   ]
  },
  {
   "cell_type": "code",
   "execution_count": 8,
   "id": "ca07623e",
   "metadata": {
    "scrolled": true
   },
   "outputs": [
    {
     "data": {
      "text/html": [
       "<div>\n",
       "<style scoped>\n",
       "    .dataframe tbody tr th:only-of-type {\n",
       "        vertical-align: middle;\n",
       "    }\n",
       "\n",
       "    .dataframe tbody tr th {\n",
       "        vertical-align: top;\n",
       "    }\n",
       "\n",
       "    .dataframe thead th {\n",
       "        text-align: right;\n",
       "    }\n",
       "</style>\n",
       "<table border=\"1\" class=\"dataframe\">\n",
       "  <thead>\n",
       "    <tr style=\"text-align: right;\">\n",
       "      <th></th>\n",
       "      <th>Drug_ID</th>\n",
       "      <th>Drug</th>\n",
       "      <th>MaxEStateIndex</th>\n",
       "      <th>MinEStateIndex</th>\n",
       "      <th>MaxAbsEStateIndex</th>\n",
       "      <th>MinAbsEStateIndex</th>\n",
       "      <th>qed</th>\n",
       "      <th>MolWt</th>\n",
       "      <th>HeavyAtomMolWt</th>\n",
       "      <th>ExactMolWt</th>\n",
       "      <th>...</th>\n",
       "      <th>fr_sulfonamd</th>\n",
       "      <th>fr_sulfone</th>\n",
       "      <th>fr_term_acetylene</th>\n",
       "      <th>fr_tetrazole</th>\n",
       "      <th>fr_thiazole</th>\n",
       "      <th>fr_thiocyan</th>\n",
       "      <th>fr_thiophene</th>\n",
       "      <th>fr_unbrch_alkane</th>\n",
       "      <th>fr_urea</th>\n",
       "      <th>Y</th>\n",
       "    </tr>\n",
       "  </thead>\n",
       "  <tbody>\n",
       "    <tr>\n",
       "      <th>0</th>\n",
       "      <td>CHEMBL596271</td>\n",
       "      <td>Cn1c(CN2CCN(c3ccc(Cl)cc3)CC2)nc2ccccc21</td>\n",
       "      <td>5.976320</td>\n",
       "      <td>0.790958</td>\n",
       "      <td>5.976320</td>\n",
       "      <td>0.790958</td>\n",
       "      <td>0.728444</td>\n",
       "      <td>340.858</td>\n",
       "      <td>319.690</td>\n",
       "      <td>340.145474</td>\n",
       "      <td>...</td>\n",
       "      <td>0.0</td>\n",
       "      <td>0.0</td>\n",
       "      <td>0.0</td>\n",
       "      <td>0.0</td>\n",
       "      <td>0.0</td>\n",
       "      <td>0.0</td>\n",
       "      <td>0.0</td>\n",
       "      <td>0.0</td>\n",
       "      <td>0.0</td>\n",
       "      <td>3.54</td>\n",
       "    </tr>\n",
       "    <tr>\n",
       "      <th>1</th>\n",
       "      <td>CHEMBL1951080</td>\n",
       "      <td>COc1cc(OC)c(S(=O)(=O)N2c3ccccc3CCC2C)cc1NC(=O)...</td>\n",
       "      <td>13.847757</td>\n",
       "      <td>-4.060285</td>\n",
       "      <td>13.847757</td>\n",
       "      <td>0.083663</td>\n",
       "      <td>0.545587</td>\n",
       "      <td>494.591</td>\n",
       "      <td>468.383</td>\n",
       "      <td>494.118143</td>\n",
       "      <td>...</td>\n",
       "      <td>1.0</td>\n",
       "      <td>0.0</td>\n",
       "      <td>0.0</td>\n",
       "      <td>0.0</td>\n",
       "      <td>0.0</td>\n",
       "      <td>0.0</td>\n",
       "      <td>0.0</td>\n",
       "      <td>0.0</td>\n",
       "      <td>0.0</td>\n",
       "      <td>-1.18</td>\n",
       "    </tr>\n",
       "    <tr>\n",
       "      <th>2</th>\n",
       "      <td>CHEMBL1771</td>\n",
       "      <td>COC(=O)[C@H](c1ccccc1Cl)N1CCc2sccc2C1</td>\n",
       "      <td>12.294248</td>\n",
       "      <td>-0.447454</td>\n",
       "      <td>12.294248</td>\n",
       "      <td>0.262241</td>\n",
       "      <td>0.807761</td>\n",
       "      <td>321.829</td>\n",
       "      <td>305.701</td>\n",
       "      <td>321.059027</td>\n",
       "      <td>...</td>\n",
       "      <td>0.0</td>\n",
       "      <td>0.0</td>\n",
       "      <td>0.0</td>\n",
       "      <td>0.0</td>\n",
       "      <td>0.0</td>\n",
       "      <td>0.0</td>\n",
       "      <td>1.0</td>\n",
       "      <td>0.0</td>\n",
       "      <td>0.0</td>\n",
       "      <td>3.69</td>\n",
       "    </tr>\n",
       "    <tr>\n",
       "      <th>3</th>\n",
       "      <td>CHEMBL234951</td>\n",
       "      <td>O=C(NC1Cc2ccccc2N(C[C@@H](O)CO)C1=O)c1cc2cc(Cl...</td>\n",
       "      <td>12.966133</td>\n",
       "      <td>-1.063518</td>\n",
       "      <td>12.966133</td>\n",
       "      <td>0.046181</td>\n",
       "      <td>0.506650</td>\n",
       "      <td>419.890</td>\n",
       "      <td>401.746</td>\n",
       "      <td>419.070655</td>\n",
       "      <td>...</td>\n",
       "      <td>0.0</td>\n",
       "      <td>0.0</td>\n",
       "      <td>0.0</td>\n",
       "      <td>0.0</td>\n",
       "      <td>0.0</td>\n",
       "      <td>0.0</td>\n",
       "      <td>1.0</td>\n",
       "      <td>0.0</td>\n",
       "      <td>0.0</td>\n",
       "      <td>3.37</td>\n",
       "    </tr>\n",
       "    <tr>\n",
       "      <th>4</th>\n",
       "      <td>CHEMBL565079</td>\n",
       "      <td>Cc1cccc(C[C@H](NC(=O)c2cc(C(C)(C)C)nn2C)C(=O)N...</td>\n",
       "      <td>12.834652</td>\n",
       "      <td>-0.795707</td>\n",
       "      <td>12.834652</td>\n",
       "      <td>0.112199</td>\n",
       "      <td>0.747686</td>\n",
       "      <td>381.480</td>\n",
       "      <td>354.264</td>\n",
       "      <td>381.216475</td>\n",
       "      <td>...</td>\n",
       "      <td>0.0</td>\n",
       "      <td>0.0</td>\n",
       "      <td>0.0</td>\n",
       "      <td>0.0</td>\n",
       "      <td>0.0</td>\n",
       "      <td>0.0</td>\n",
       "      <td>0.0</td>\n",
       "      <td>0.0</td>\n",
       "      <td>0.0</td>\n",
       "      <td>3.10</td>\n",
       "    </tr>\n",
       "  </tbody>\n",
       "</table>\n",
       "<p>5 rows × 211 columns</p>\n",
       "</div>"
      ],
      "text/plain": [
       "         Drug_ID                                               Drug  \\\n",
       "0   CHEMBL596271            Cn1c(CN2CCN(c3ccc(Cl)cc3)CC2)nc2ccccc21   \n",
       "1  CHEMBL1951080  COc1cc(OC)c(S(=O)(=O)N2c3ccccc3CCC2C)cc1NC(=O)...   \n",
       "2     CHEMBL1771              COC(=O)[C@H](c1ccccc1Cl)N1CCc2sccc2C1   \n",
       "3   CHEMBL234951  O=C(NC1Cc2ccccc2N(C[C@@H](O)CO)C1=O)c1cc2cc(Cl...   \n",
       "4   CHEMBL565079  Cc1cccc(C[C@H](NC(=O)c2cc(C(C)(C)C)nn2C)C(=O)N...   \n",
       "\n",
       "   MaxEStateIndex  MinEStateIndex  MaxAbsEStateIndex  MinAbsEStateIndex  \\\n",
       "0        5.976320        0.790958           5.976320           0.790958   \n",
       "1       13.847757       -4.060285          13.847757           0.083663   \n",
       "2       12.294248       -0.447454          12.294248           0.262241   \n",
       "3       12.966133       -1.063518          12.966133           0.046181   \n",
       "4       12.834652       -0.795707          12.834652           0.112199   \n",
       "\n",
       "        qed    MolWt  HeavyAtomMolWt  ExactMolWt  ...  fr_sulfonamd  \\\n",
       "0  0.728444  340.858         319.690  340.145474  ...           0.0   \n",
       "1  0.545587  494.591         468.383  494.118143  ...           1.0   \n",
       "2  0.807761  321.829         305.701  321.059027  ...           0.0   \n",
       "3  0.506650  419.890         401.746  419.070655  ...           0.0   \n",
       "4  0.747686  381.480         354.264  381.216475  ...           0.0   \n",
       "\n",
       "   fr_sulfone  fr_term_acetylene  fr_tetrazole  fr_thiazole  fr_thiocyan  \\\n",
       "0         0.0                0.0           0.0          0.0          0.0   \n",
       "1         0.0                0.0           0.0          0.0          0.0   \n",
       "2         0.0                0.0           0.0          0.0          0.0   \n",
       "3         0.0                0.0           0.0          0.0          0.0   \n",
       "4         0.0                0.0           0.0          0.0          0.0   \n",
       "\n",
       "   fr_thiophene  fr_unbrch_alkane  fr_urea     Y  \n",
       "0           0.0               0.0      0.0  3.54  \n",
       "1           0.0               0.0      0.0 -1.18  \n",
       "2           1.0               0.0      0.0  3.69  \n",
       "3           1.0               0.0      0.0  3.37  \n",
       "4           0.0               0.0      0.0  3.10  \n",
       "\n",
       "[5 rows x 211 columns]"
      ]
     },
     "execution_count": 8,
     "metadata": {},
     "output_type": "execute_result"
    }
   ],
   "source": [
    "df.head()"
   ]
  },
  {
   "cell_type": "markdown",
   "id": "ce26f010",
   "metadata": {},
   "source": [
    "### Fingerprints\n",
    "Allows us to find patterns in molecule structures."
   ]
  },
  {
   "cell_type": "code",
   "execution_count": 9,
   "id": "cde5b26d",
   "metadata": {},
   "outputs": [],
   "source": [
    "# FP_data = (num_mols x numVectorBits)\n",
    "def generate_fingerprints(df):\n",
    "    fp_data = []\n",
    "    fp_arr = np.zeros((1,))\n",
    "\n",
    "    for mol in df['Drug']:\n",
    "        fp = AllChem.GetMorganFingerprintAsBitVect(Chem.MolFromSmiles(mol),2,1024)\n",
    "        DataStructs.ConvertToNumpyArray(fp, fp_arr)\n",
    "        fp_data.append(fp_arr)\n",
    "    \n",
    "    print('Current shape of the fingerprint dataset:',len(fp_data),'x',len(fp_data[0]))\n",
    "    \n",
    "    return fp_data"
   ]
  },
  {
   "cell_type": "code",
   "execution_count": 10,
   "id": "0b6219d2",
   "metadata": {},
   "outputs": [
    {
     "name": "stdout",
     "output_type": "stream",
     "text": [
      "Current shape of the fingerprint dataset: 4200 x 1024\n"
     ]
    }
   ],
   "source": [
    "# Generate fingerprints dataset and transform into a dataframe\n",
    "fingerprints = generate_fingerprints(df)\n",
    "fps = pd.DataFrame(fingerprints, columns = np.arange(1,1025))"
   ]
  },
  {
   "cell_type": "markdown",
   "id": "555e9816",
   "metadata": {},
   "source": [
    "### Generate splits, remove NaNs, and normalization\n",
    "Lorem impsum"
   ]
  },
  {
   "cell_type": "markdown",
   "id": "00d2158e",
   "metadata": {},
   "source": [
    "#### Train, validation, and test sets for both Descriptors and fingerprints"
   ]
  },
  {
   "cell_type": "code",
   "execution_count": 11,
   "id": "1c2bf60a",
   "metadata": {
    "scrolled": true
   },
   "outputs": [
    {
     "name": "stdout",
     "output_type": "stream",
     "text": [
      "Data has been split\n"
     ]
    }
   ],
   "source": [
    "X_train, X_train_fps, y_train, X_val, X_val_fps, y_val, X_test, X_test_fps, y_test = train_val_test_split(df, split_LIPO, fps)"
   ]
  },
  {
   "cell_type": "markdown",
   "id": "7c3270bd",
   "metadata": {},
   "source": [
    "#### Remove NaNs values"
   ]
  },
  {
   "cell_type": "code",
   "execution_count": 12,
   "id": "343155e3",
   "metadata": {},
   "outputs": [
    {
     "name": "stdout",
     "output_type": "stream",
     "text": [
      "Removed the following rows in the train set: 1561\n"
     ]
    }
   ],
   "source": [
    "X_train, X_train_fps, y_train, X_val, X_val_fps, X_test, y_test = remove_nans(X_train, X_val, X_test, y_train, y_val, y_test, X_train_fps, X_val_fps)"
   ]
  },
  {
   "cell_type": "markdown",
   "id": "294be08d",
   "metadata": {},
   "source": [
    "#### Data normalization required in linear models"
   ]
  },
  {
   "cell_type": "code",
   "execution_count": 13,
   "id": "d1fb3dad",
   "metadata": {},
   "outputs": [
    {
     "name": "stdout",
     "output_type": "stream",
     "text": [
      "Data is now normalized.\n"
     ]
    }
   ],
   "source": [
    "X_train_norm, X_val_norm, X_test_norm = normalize_data(X_train, X_val, X_test)"
   ]
  },
  {
   "cell_type": "markdown",
   "id": "ad9e4c61",
   "metadata": {},
   "source": [
    "## Data visualization"
   ]
  },
  {
   "cell_type": "code",
   "execution_count": null,
   "id": "59c8766f",
   "metadata": {},
   "outputs": [],
   "source": [
    "#We now count the number of Zeros in each column\n",
    "\n",
    "threshold = 3500\n",
    "#Columns that contain zero values\n",
    "desc_name = df.columns[(df == 0).sum(axis=0) > 0]\n",
    "desc_count = (df[df.columns[(df == 0).sum(axis=0) > 0]] == 0).sum(axis=0)\n",
    "\n",
    "color = ['red' if i > threshold else 'black' for i in desc_count]\n",
    "size = [80 if i > threshold else 30 for i in desc_count]\n",
    "\n",
    "# Scatter plot\n",
    "fig, ax = plt.subplots();\n",
    "ax.scatter(np.arange(len(desc_name)), desc_count, c=color, s=size)\n",
    "plt.title('Number of zeros contained in the DF for each descriptor')\n",
    "plt.xlabel('Descriptor index')\n",
    "plt.ylabel('Zero values count')\n",
    "fig.set_size_inches(20, 10);\n",
    "\n",
    "for i in np.arange(len(desc_name)):\n",
    "    ax.annotate(i, (i, desc_count[i]), rotation=15)\n",
    "    \n",
    "plt.show()"
   ]
  },
  {
   "cell_type": "code",
   "execution_count": null,
   "id": "e37a0ac9",
   "metadata": {},
   "outputs": [],
   "source": [
    "# Visualize data distribution in traning and validation datasets\n",
    "\n",
    "fig, ax = plt.subplots(figsize=(10,5))\n",
    "\n",
    "for ind, a in enumerate([y_train, y_val]):\n",
    "    if ind == 0:\n",
    "        sns.distplot(a, ax=ax, label = 'Training')\n",
    "    else:\n",
    "        sns.distplot(a, ax=ax, label = 'Validation')\n",
    "\n",
    "plt.xlabel('Y values')\n",
    "plt.title('Distribution of target values in training and validation sets') \n",
    "plt.legend(loc = 'best')\n",
    "plt.show()"
   ]
  },
  {
   "cell_type": "markdown",
   "id": "2d9027ca",
   "metadata": {},
   "source": [
    "## Building our baseline models\n",
    "\n",
    "In order to get some initial results, we will now construct a few baseline models where all the features are included without any preprocessing."
   ]
  },
  {
   "cell_type": "markdown",
   "id": "ad926d15",
   "metadata": {},
   "source": [
    "We now compare the metrics obtained for each of the following models:\n",
    "- Linear regression (**LR**)\n",
    "- Random forest regressor (**RFR**)\n",
    "- Decision tree regressor (**DTR**)\n",
    "- Support vector machine (**SVM**)\n",
    "- Multi-layer Perceptron regressor (**MLP**)"
   ]
  },
  {
   "cell_type": "markdown",
   "id": "517c151b",
   "metadata": {},
   "source": [
    "#### Descriptors"
   ]
  },
  {
   "cell_type": "code",
   "execution_count": 20,
   "id": "98db1cc3",
   "metadata": {
    "scrolled": false
   },
   "outputs": [
    {
     "name": "stdout",
     "output_type": "stream",
     "text": [
      "LR | R2: 0.599, MAE: 0.594, MSE: 0.597\n",
      "RFR | R2: 0.646, MAE: 0.546, MSE: 0.527\n",
      "DTR | R2: 0.260, MAE: 0.775, MSE: 1.102\n",
      "SVR | R2: 0.689, MAE: 0.503, MSE: 0.463\n",
      "MLPR | R2: 0.652, MAE: 0.514, MSE: 0.517\n"
     ]
    },
    {
     "data": {
      "image/png": "[encoded data removed]",
      "text/plain": [
       "<Figure size 1425x570 with 1 Axes>"
      ]
     },
     "metadata": {},
     "output_type": "display_data"
    }
   ],
   "source": [
    "models, results = models_comparison(X_train, y_train, X_val, y_val, False, True, False, X_train_norm, X_val_norm)"
   ]
  },
  {
   "cell_type": "code",
   "execution_count": 23,
   "id": "c797c037",
   "metadata": {},
   "outputs": [],
   "source": [
    "#We add the best model to our benchmark for a later comparison\n",
    "benchmark = add_to_benchmark(benchmark, models, results)"
   ]
  },
  {
   "cell_type": "markdown",
   "id": "5a88b3b5",
   "metadata": {},
   "source": [
    "#### Fingerprints"
   ]
  },
  {
   "cell_type": "code",
   "execution_count": null,
   "id": "c8bfedba",
   "metadata": {
    "scrolled": false
   },
   "outputs": [],
   "source": [
    "# models, results = models_comparison(X_train, y_train, X_val, y_val, False, True, True)"
   ]
  },
  {
   "cell_type": "markdown",
   "id": "6d307b12",
   "metadata": {},
   "source": [
    "## Improving the model "
   ]
  },
  {
   "cell_type": "markdown",
   "id": "ae678522",
   "metadata": {},
   "source": [
    "### Improving the model: Feature Selection - MRMR"
   ]
  },
  {
   "cell_type": "code",
   "execution_count": 24,
   "id": "ee240d8d",
   "metadata": {
    "scrolled": true
   },
   "outputs": [
    {
     "name": "stderr",
     "output_type": "stream",
     "text": [
      "100%|███████████████████████████████████████████| 10/10 [00:00<00:00, 22.43it/s]\n"
     ]
    },
    {
     "name": "stdout",
     "output_type": "stream",
     "text": [
      "LR | R2: -0.006, MAE: 0.997, MSE: 1.497\n",
      "RFR | R2: -0.055, MAE: 0.956, MSE: 1.571\n",
      "DTR | R2: -0.387, MAE: 1.077, MSE: 2.064\n",
      "SVR | R2: -0.035, MAE: 0.994, MSE: 1.541\n",
      "MLPR | R2: -0.006, MAE: 0.994, MSE: 1.497\n"
     ]
    },
    {
     "name": "stderr",
     "output_type": "stream",
     "text": [
      "100%|███████████████████████████████████████████| 15/15 [00:00<00:00, 33.94it/s]\n"
     ]
    },
    {
     "name": "stdout",
     "output_type": "stream",
     "text": [
      "LR | R2: -0.005, MAE: 0.996, MSE: 1.496\n",
      "RFR | R2: -0.049, MAE: 0.952, MSE: 1.562\n",
      "DTR | R2: -0.393, MAE: 1.081, MSE: 2.073\n",
      "SVR | R2: -0.032, MAE: 0.991, MSE: 1.536\n",
      "MLPR | R2: -0.009, MAE: 0.999, MSE: 1.502\n"
     ]
    },
    {
     "name": "stderr",
     "output_type": "stream",
     "text": [
      "100%|███████████████████████████████████████████| 20/20 [00:00<00:00, 35.02it/s]\n"
     ]
    },
    {
     "name": "stdout",
     "output_type": "stream",
     "text": [
      "LR | R2: 0.114, MAE: 0.937, MSE: 1.319\n",
      "RFR | R2: 0.119, MAE: 0.867, MSE: 1.312\n",
      "DTR | R2: -0.184, MAE: 0.994, MSE: 1.762\n",
      "SVR | R2: 0.090, MAE: 0.930, MSE: 1.355\n",
      "MLPR | R2: 0.086, MAE: 0.946, MSE: 1.360\n"
     ]
    },
    {
     "name": "stderr",
     "output_type": "stream",
     "text": [
      "100%|███████████████████████████████████████████| 25/25 [00:00<00:00, 36.82it/s]\n"
     ]
    },
    {
     "name": "stdout",
     "output_type": "stream",
     "text": [
      "LR | R2: 0.120, MAE: 0.931, MSE: 1.310\n",
      "RFR | R2: 0.133, MAE: 0.862, MSE: 1.290\n",
      "DTR | R2: -0.222, MAE: 0.995, MSE: 1.819\n",
      "SVR | R2: 0.090, MAE: 0.929, MSE: 1.355\n",
      "MLPR | R2: 0.104, MAE: 0.941, MSE: 1.333\n"
     ]
    },
    {
     "name": "stderr",
     "output_type": "stream",
     "text": [
      "100%|███████████████████████████████████████████| 30/30 [00:00<00:00, 37.30it/s]\n"
     ]
    },
    {
     "name": "stdout",
     "output_type": "stream",
     "text": [
      "LR | R2: 0.359, MAE: 0.790, MSE: 0.955\n",
      "RFR | R2: 0.404, MAE: 0.722, MSE: 0.887\n",
      "DTR | R2: 0.030, MAE: 0.881, MSE: 1.444\n",
      "SVR | R2: 0.362, MAE: 0.765, MSE: 0.950\n",
      "MLPR | R2: 0.386, MAE: 0.754, MSE: 0.914\n"
     ]
    },
    {
     "name": "stderr",
     "output_type": "stream",
     "text": [
      "100%|███████████████████████████████████████████| 35/35 [00:01<00:00, 34.14it/s]\n"
     ]
    },
    {
     "name": "stdout",
     "output_type": "stream",
     "text": [
      "LR | R2: 0.384, MAE: 0.767, MSE: 0.917\n",
      "RFR | R2: 0.466, MAE: 0.687, MSE: 0.794\n",
      "DTR | R2: 0.159, MAE: 0.808, MSE: 1.252\n",
      "SVR | R2: 0.381, MAE: 0.741, MSE: 0.922\n",
      "MLPR | R2: 0.400, MAE: 0.731, MSE: 0.892\n"
     ]
    },
    {
     "name": "stderr",
     "output_type": "stream",
     "text": [
      "100%|███████████████████████████████████████████| 40/40 [00:01<00:00, 36.84it/s]\n"
     ]
    },
    {
     "name": "stdout",
     "output_type": "stream",
     "text": [
      "LR | R2: 0.389, MAE: 0.766, MSE: 0.910\n",
      "RFR | R2: 0.473, MAE: 0.687, MSE: 0.784\n",
      "DTR | R2: 0.114, MAE: 0.850, MSE: 1.319\n",
      "SVR | R2: 0.403, MAE: 0.731, MSE: 0.889\n",
      "MLPR | R2: 0.401, MAE: 0.729, MSE: 0.891\n"
     ]
    },
    {
     "name": "stderr",
     "output_type": "stream",
     "text": [
      "100%|███████████████████████████████████████████| 45/45 [00:01<00:00, 36.33it/s]\n"
     ]
    },
    {
     "name": "stdout",
     "output_type": "stream",
     "text": [
      "LR | R2: 0.400, MAE: 0.758, MSE: 0.893\n",
      "RFR | R2: 0.485, MAE: 0.672, MSE: 0.766\n",
      "DTR | R2: 0.152, MAE: 0.838, MSE: 1.262\n",
      "SVR | R2: 0.421, MAE: 0.715, MSE: 0.862\n",
      "MLPR | R2: 0.444, MAE: 0.705, MSE: 0.828\n"
     ]
    },
    {
     "name": "stderr",
     "output_type": "stream",
     "text": [
      "100%|███████████████████████████████████████████| 50/50 [00:01<00:00, 38.06it/s]\n"
     ]
    },
    {
     "name": "stdout",
     "output_type": "stream",
     "text": [
      "LR | R2: 0.409, MAE: 0.753, MSE: 0.880\n",
      "RFR | R2: 0.468, MAE: 0.677, MSE: 0.792\n",
      "DTR | R2: 0.013, MAE: 0.898, MSE: 1.469\n",
      "SVR | R2: 0.440, MAE: 0.697, MSE: 0.834\n",
      "MLPR | R2: 0.402, MAE: 0.711, MSE: 0.890\n"
     ]
    },
    {
     "name": "stderr",
     "output_type": "stream",
     "text": [
      "100%|███████████████████████████████████████████| 55/55 [00:01<00:00, 36.84it/s]\n"
     ]
    },
    {
     "name": "stdout",
     "output_type": "stream",
     "text": [
      "LR | R2: 0.409, MAE: 0.746, MSE: 0.879\n",
      "RFR | R2: 0.521, MAE: 0.645, MSE: 0.713\n",
      "DTR | R2: 0.061, MAE: 0.879, MSE: 1.398\n",
      "SVR | R2: 0.456, MAE: 0.672, MSE: 0.810\n",
      "MLPR | R2: 0.372, MAE: 0.701, MSE: 0.935\n"
     ]
    },
    {
     "name": "stderr",
     "output_type": "stream",
     "text": [
      "100%|███████████████████████████████████████████| 60/60 [00:01<00:00, 38.62it/s]\n"
     ]
    },
    {
     "name": "stdout",
     "output_type": "stream",
     "text": [
      "LR | R2: 0.429, MAE: 0.732, MSE: 0.849\n",
      "RFR | R2: 0.551, MAE: 0.623, MSE: 0.668\n",
      "DTR | R2: 0.129, MAE: 0.830, MSE: 1.296\n",
      "SVR | R2: 0.490, MAE: 0.645, MSE: 0.760\n",
      "MLPR | R2: 0.394, MAE: 0.701, MSE: 0.901\n"
     ]
    },
    {
     "name": "stderr",
     "output_type": "stream",
     "text": [
      "100%|███████████████████████████████████████████| 65/65 [00:01<00:00, 36.57it/s]\n"
     ]
    },
    {
     "name": "stdout",
     "output_type": "stream",
     "text": [
      "LR | R2: 0.448, MAE: 0.721, MSE: 0.821\n",
      "RFR | R2: 0.559, MAE: 0.618, MSE: 0.656\n",
      "DTR | R2: 0.199, MAE: 0.799, MSE: 1.193\n",
      "SVR | R2: 0.509, MAE: 0.633, MSE: 0.731\n",
      "MLPR | R2: 0.438, MAE: 0.675, MSE: 0.837\n"
     ]
    },
    {
     "name": "stderr",
     "output_type": "stream",
     "text": [
      "100%|███████████████████████████████████████████| 70/70 [00:01<00:00, 39.22it/s]\n"
     ]
    },
    {
     "name": "stdout",
     "output_type": "stream",
     "text": [
      "LR | R2: 0.471, MAE: 0.703, MSE: 0.787\n",
      "RFR | R2: 0.576, MAE: 0.606, MSE: 0.631\n",
      "DTR | R2: 0.232, MAE: 0.789, MSE: 1.144\n",
      "SVR | R2: 0.566, MAE: 0.600, MSE: 0.647\n",
      "MLPR | R2: 0.463, MAE: 0.642, MSE: 0.800\n"
     ]
    },
    {
     "name": "stderr",
     "output_type": "stream",
     "text": [
      "100%|███████████████████████████████████████████| 75/75 [00:02<00:00, 37.11it/s]\n"
     ]
    },
    {
     "name": "stdout",
     "output_type": "stream",
     "text": [
      "LR | R2: 0.481, MAE: 0.692, MSE: 0.772\n",
      "RFR | R2: 0.601, MAE: 0.585, MSE: 0.594\n",
      "DTR | R2: 0.212, MAE: 0.799, MSE: 1.173\n",
      "SVR | R2: 0.585, MAE: 0.584, MSE: 0.618\n",
      "MLPR | R2: 0.580, MAE: 0.567, MSE: 0.625\n"
     ]
    },
    {
     "name": "stderr",
     "output_type": "stream",
     "text": [
      "100%|███████████████████████████████████████████| 80/80 [00:02<00:00, 34.34it/s]\n"
     ]
    },
    {
     "name": "stdout",
     "output_type": "stream",
     "text": [
      "LR | R2: 0.488, MAE: 0.690, MSE: 0.762\n",
      "RFR | R2: 0.611, MAE: 0.578, MSE: 0.578\n",
      "DTR | R2: 0.286, MAE: 0.772, MSE: 1.063\n",
      "SVR | R2: 0.595, MAE: 0.578, MSE: 0.603\n",
      "MLPR | R2: 0.537, MAE: 0.601, MSE: 0.690\n"
     ]
    },
    {
     "name": "stderr",
     "output_type": "stream",
     "text": [
      "100%|███████████████████████████████████████████| 85/85 [00:02<00:00, 34.65it/s]\n"
     ]
    },
    {
     "name": "stdout",
     "output_type": "stream",
     "text": [
      "LR | R2: 0.496, MAE: 0.685, MSE: 0.750\n",
      "RFR | R2: 0.614, MAE: 0.581, MSE: 0.574\n",
      "DTR | R2: 0.176, MAE: 0.814, MSE: 1.226\n",
      "SVR | R2: 0.611, MAE: 0.568, MSE: 0.579\n",
      "MLPR | R2: 0.555, MAE: 0.589, MSE: 0.662\n"
     ]
    },
    {
     "name": "stderr",
     "output_type": "stream",
     "text": [
      "100%|███████████████████████████████████████████| 90/90 [00:02<00:00, 38.27it/s]\n"
     ]
    },
    {
     "name": "stdout",
     "output_type": "stream",
     "text": [
      "LR | R2: 0.510, MAE: 0.674, MSE: 0.729\n",
      "RFR | R2: 0.611, MAE: 0.576, MSE: 0.579\n",
      "DTR | R2: 0.343, MAE: 0.746, MSE: 0.977\n",
      "SVR | R2: 0.630, MAE: 0.555, MSE: 0.551\n",
      "MLPR | R2: 0.566, MAE: 0.591, MSE: 0.646\n"
     ]
    },
    {
     "name": "stderr",
     "output_type": "stream",
     "text": [
      "100%|███████████████████████████████████████████| 95/95 [00:02<00:00, 41.29it/s]\n"
     ]
    },
    {
     "name": "stdout",
     "output_type": "stream",
     "text": [
      "LR | R2: 0.521, MAE: 0.665, MSE: 0.713\n",
      "RFR | R2: 0.620, MAE: 0.568, MSE: 0.565\n",
      "DTR | R2: 0.302, MAE: 0.764, MSE: 1.040\n",
      "SVR | R2: 0.639, MAE: 0.545, MSE: 0.537\n",
      "MLPR | R2: 0.624, MAE: 0.554, MSE: 0.559\n"
     ]
    },
    {
     "name": "stderr",
     "output_type": "stream",
     "text": [
      "100%|█████████████████████████████████████████| 100/100 [00:02<00:00, 41.58it/s]\n"
     ]
    },
    {
     "name": "stdout",
     "output_type": "stream",
     "text": [
      "LR | R2: 0.543, MAE: 0.640, MSE: 0.680\n",
      "RFR | R2: 0.631, MAE: 0.555, MSE: 0.549\n",
      "DTR | R2: 0.258, MAE: 0.771, MSE: 1.104\n",
      "SVR | R2: 0.655, MAE: 0.529, MSE: 0.514\n",
      "MLPR | R2: 0.624, MAE: 0.539, MSE: 0.559\n"
     ]
    },
    {
     "name": "stderr",
     "output_type": "stream",
     "text": [
      "100%|█████████████████████████████████████████| 105/105 [00:02<00:00, 40.92it/s]\n"
     ]
    },
    {
     "name": "stdout",
     "output_type": "stream",
     "text": [
      "LR | R2: 0.563, MAE: 0.628, MSE: 0.650\n",
      "RFR | R2: 0.629, MAE: 0.556, MSE: 0.552\n",
      "DTR | R2: 0.322, MAE: 0.752, MSE: 1.010\n",
      "SVR | R2: 0.663, MAE: 0.524, MSE: 0.501\n",
      "MLPR | R2: 0.619, MAE: 0.533, MSE: 0.567\n"
     ]
    },
    {
     "name": "stderr",
     "output_type": "stream",
     "text": [
      "100%|█████████████████████████████████████████| 110/110 [00:02<00:00, 42.27it/s]\n"
     ]
    },
    {
     "name": "stdout",
     "output_type": "stream",
     "text": [
      "LR | R2: 0.567, MAE: 0.625, MSE: 0.645\n",
      "RFR | R2: 0.633, MAE: 0.553, MSE: 0.547\n",
      "DTR | R2: 0.159, MAE: 0.841, MSE: 1.251\n",
      "SVR | R2: 0.666, MAE: 0.521, MSE: 0.497\n",
      "MLPR | R2: 0.612, MAE: 0.535, MSE: 0.578\n"
     ]
    },
    {
     "name": "stderr",
     "output_type": "stream",
     "text": [
      "100%|█████████████████████████████████████████| 115/115 [00:02<00:00, 42.88it/s]\n"
     ]
    },
    {
     "name": "stdout",
     "output_type": "stream",
     "text": [
      "LR | R2: 0.570, MAE: 0.623, MSE: 0.641\n",
      "RFR | R2: 0.635, MAE: 0.552, MSE: 0.543\n",
      "DTR | R2: 0.236, MAE: 0.791, MSE: 1.137\n",
      "SVR | R2: 0.672, MAE: 0.518, MSE: 0.488\n",
      "MLPR | R2: 0.547, MAE: 0.585, MSE: 0.674\n"
     ]
    },
    {
     "name": "stderr",
     "output_type": "stream",
     "text": [
      "100%|█████████████████████████████████████████| 120/120 [00:02<00:00, 41.65it/s]\n"
     ]
    },
    {
     "name": "stdout",
     "output_type": "stream",
     "text": [
      "LR | R2: 0.563, MAE: 0.628, MSE: 0.651\n",
      "RFR | R2: 0.634, MAE: 0.549, MSE: 0.545\n",
      "DTR | R2: 0.222, MAE: 0.783, MSE: 1.157\n",
      "SVR | R2: 0.673, MAE: 0.517, MSE: 0.486\n",
      "MLPR | R2: 0.624, MAE: 0.538, MSE: 0.560\n"
     ]
    },
    {
     "name": "stderr",
     "output_type": "stream",
     "text": [
      "100%|█████████████████████████████████████████| 125/125 [00:03<00:00, 41.37it/s]\n"
     ]
    },
    {
     "name": "stdout",
     "output_type": "stream",
     "text": [
      "LR | R2: 0.566, MAE: 0.626, MSE: 0.647\n",
      "RFR | R2: 0.635, MAE: 0.556, MSE: 0.544\n",
      "DTR | R2: 0.210, MAE: 0.805, MSE: 1.176\n",
      "SVR | R2: 0.670, MAE: 0.522, MSE: 0.492\n",
      "MLPR | R2: 0.614, MAE: 0.544, MSE: 0.574\n"
     ]
    },
    {
     "name": "stderr",
     "output_type": "stream",
     "text": [
      "100%|█████████████████████████████████████████| 130/130 [00:03<00:00, 43.10it/s]\n"
     ]
    },
    {
     "name": "stdout",
     "output_type": "stream",
     "text": [
      "LR | R2: 0.569, MAE: 0.624, MSE: 0.642\n",
      "RFR | R2: 0.630, MAE: 0.558, MSE: 0.551\n",
      "DTR | R2: 0.210, MAE: 0.795, MSE: 1.176\n",
      "SVR | R2: 0.670, MAE: 0.522, MSE: 0.491\n",
      "MLPR | R2: 0.642, MAE: 0.538, MSE: 0.533\n"
     ]
    },
    {
     "name": "stderr",
     "output_type": "stream",
     "text": [
      "100%|█████████████████████████████████████████| 135/135 [00:03<00:00, 40.44it/s]\n"
     ]
    },
    {
     "name": "stdout",
     "output_type": "stream",
     "text": [
      "LR | R2: 0.572, MAE: 0.614, MSE: 0.637\n",
      "RFR | R2: 0.643, MAE: 0.550, MSE: 0.532\n",
      "DTR | R2: 0.248, MAE: 0.781, MSE: 1.119\n",
      "SVR | R2: 0.678, MAE: 0.515, MSE: 0.480\n",
      "MLPR | R2: 0.654, MAE: 0.519, MSE: 0.514\n"
     ]
    },
    {
     "name": "stderr",
     "output_type": "stream",
     "text": [
      "100%|█████████████████████████████████████████| 140/140 [00:03<00:00, 43.37it/s]\n"
     ]
    },
    {
     "name": "stdout",
     "output_type": "stream",
     "text": [
      "LR | R2: 0.584, MAE: 0.608, MSE: 0.620\n",
      "RFR | R2: 0.643, MAE: 0.549, MSE: 0.531\n",
      "DTR | R2: 0.223, MAE: 0.803, MSE: 1.156\n",
      "SVR | R2: 0.680, MAE: 0.511, MSE: 0.476\n",
      "MLPR | R2: 0.600, MAE: 0.554, MSE: 0.596\n"
     ]
    },
    {
     "name": "stderr",
     "output_type": "stream",
     "text": [
      "100%|█████████████████████████████████████████| 145/145 [00:03<00:00, 40.64it/s]\n"
     ]
    },
    {
     "name": "stdout",
     "output_type": "stream",
     "text": [
      "LR | R2: 0.577, MAE: 0.614, MSE: 0.630\n",
      "RFR | R2: 0.639, MAE: 0.557, MSE: 0.537\n",
      "DTR | R2: 0.211, MAE: 0.798, MSE: 1.174\n",
      "SVR | R2: 0.681, MAE: 0.510, MSE: 0.475\n",
      "MLPR | R2: 0.641, MAE: 0.536, MSE: 0.534\n"
     ]
    },
    {
     "name": "stderr",
     "output_type": "stream",
     "text": [
      "100%|█████████████████████████████████████████| 150/150 [00:03<00:00, 44.34it/s]\n"
     ]
    },
    {
     "name": "stdout",
     "output_type": "stream",
     "text": [
      "LR | R2: 0.590, MAE: 0.605, MSE: 0.610\n",
      "RFR | R2: 0.639, MAE: 0.554, MSE: 0.537\n",
      "DTR | R2: 0.214, MAE: 0.788, MSE: 1.170\n",
      "SVR | R2: 0.685, MAE: 0.506, MSE: 0.468\n",
      "MLPR | R2: 0.606, MAE: 0.551, MSE: 0.586\n"
     ]
    },
    {
     "name": "stderr",
     "output_type": "stream",
     "text": [
      "100%|█████████████████████████████████████████| 155/155 [00:03<00:00, 43.74it/s]\n"
     ]
    },
    {
     "name": "stdout",
     "output_type": "stream",
     "text": [
      "LR | R2: 0.596, MAE: 0.600, MSE: 0.602\n",
      "RFR | R2: 0.637, MAE: 0.556, MSE: 0.541\n",
      "DTR | R2: 0.272, MAE: 0.743, MSE: 1.084\n",
      "SVR | R2: 0.687, MAE: 0.505, MSE: 0.466\n",
      "MLPR | R2: 0.594, MAE: 0.560, MSE: 0.604\n"
     ]
    },
    {
     "name": "stderr",
     "output_type": "stream",
     "text": [
      "100%|█████████████████████████████████████████| 160/160 [00:03<00:00, 42.35it/s]\n"
     ]
    },
    {
     "name": "stdout",
     "output_type": "stream",
     "text": [
      "LR | R2: 0.594, MAE: 0.603, MSE: 0.604\n",
      "RFR | R2: 0.639, MAE: 0.554, MSE: 0.537\n",
      "DTR | R2: 0.267, MAE: 0.755, MSE: 1.091\n",
      "SVR | R2: 0.690, MAE: 0.502, MSE: 0.462\n",
      "MLPR | R2: 0.664, MAE: 0.507, MSE: 0.501\n"
     ]
    },
    {
     "name": "stderr",
     "output_type": "stream",
     "text": [
      "100%|█████████████████████████████████████████| 165/165 [00:03<00:00, 43.94it/s]\n"
     ]
    },
    {
     "name": "stdout",
     "output_type": "stream",
     "text": [
      "LR | R2: 0.594, MAE: 0.602, MSE: 0.605\n",
      "RFR | R2: 0.640, MAE: 0.552, MSE: 0.536\n",
      "DTR | R2: 0.199, MAE: 0.799, MSE: 1.193\n",
      "SVR | R2: 0.694, MAE: 0.502, MSE: 0.456\n",
      "MLPR | R2: 0.616, MAE: 0.545, MSE: 0.571\n"
     ]
    },
    {
     "name": "stderr",
     "output_type": "stream",
     "text": [
      "100%|█████████████████████████████████████████| 170/170 [00:03<00:00, 43.99it/s]\n"
     ]
    },
    {
     "name": "stdout",
     "output_type": "stream",
     "text": [
      "LR | R2: 0.589, MAE: 0.601, MSE: 0.612\n",
      "RFR | R2: 0.639, MAE: 0.551, MSE: 0.537\n",
      "DTR | R2: 0.232, MAE: 0.778, MSE: 1.143\n",
      "SVR | R2: 0.693, MAE: 0.501, MSE: 0.456\n",
      "MLPR | R2: 0.666, MAE: 0.506, MSE: 0.497\n"
     ]
    },
    {
     "name": "stderr",
     "output_type": "stream",
     "text": [
      "100%|█████████████████████████████████████████| 175/175 [00:03<00:00, 45.43it/s]\n"
     ]
    },
    {
     "name": "stdout",
     "output_type": "stream",
     "text": [
      "LR | R2: 0.573, MAE: 0.605, MSE: 0.635\n",
      "RFR | R2: 0.640, MAE: 0.550, MSE: 0.535\n",
      "DTR | R2: 0.268, MAE: 0.768, MSE: 1.090\n",
      "SVR | R2: 0.693, MAE: 0.500, MSE: 0.457\n",
      "MLPR | R2: 0.638, MAE: 0.526, MSE: 0.539\n"
     ]
    },
    {
     "name": "stderr",
     "output_type": "stream",
     "text": [
      "100%|█████████████████████████████████████████| 180/180 [00:03<00:00, 46.33it/s]\n"
     ]
    },
    {
     "name": "stdout",
     "output_type": "stream",
     "text": [
      "LR | R2: 0.572, MAE: 0.606, MSE: 0.638\n",
      "RFR | R2: 0.643, MAE: 0.548, MSE: 0.532\n",
      "DTR | R2: 0.320, MAE: 0.731, MSE: 1.012\n",
      "SVR | R2: 0.691, MAE: 0.502, MSE: 0.461\n",
      "MLPR | R2: 0.602, MAE: 0.555, MSE: 0.592\n"
     ]
    },
    {
     "name": "stderr",
     "output_type": "stream",
     "text": [
      "100%|█████████████████████████████████████████| 185/185 [00:03<00:00, 48.51it/s]\n"
     ]
    },
    {
     "name": "stdout",
     "output_type": "stream",
     "text": [
      "LR | R2: 0.578, MAE: 0.605, MSE: 0.628\n",
      "RFR | R2: 0.642, MAE: 0.549, MSE: 0.533\n",
      "DTR | R2: 0.365, MAE: 0.709, MSE: 0.944\n",
      "SVR | R2: 0.690, MAE: 0.503, MSE: 0.462\n",
      "MLPR | R2: 0.673, MAE: 0.514, MSE: 0.487\n"
     ]
    },
    {
     "name": "stderr",
     "output_type": "stream",
     "text": [
      "100%|█████████████████████████████████████████| 190/190 [00:04<00:00, 47.34it/s]\n"
     ]
    },
    {
     "name": "stdout",
     "output_type": "stream",
     "text": [
      "LR | R2: 0.590, MAE: 0.596, MSE: 0.610\n",
      "RFR | R2: 0.645, MAE: 0.548, MSE: 0.529\n",
      "DTR | R2: 0.340, MAE: 0.731, MSE: 0.983\n",
      "SVR | R2: 0.688, MAE: 0.504, MSE: 0.464\n",
      "MLPR | R2: 0.597, MAE: 0.555, MSE: 0.599\n"
     ]
    },
    {
     "name": "stderr",
     "output_type": "stream",
     "text": [
      "100%|█████████████████████████████████████████| 195/195 [00:05<00:00, 34.85it/s]\n"
     ]
    },
    {
     "name": "stdout",
     "output_type": "stream",
     "text": [
      "LR | R2: 0.598, MAE: 0.593, MSE: 0.598\n",
      "RFR | R2: 0.642, MAE: 0.550, MSE: 0.533\n",
      "DTR | R2: 0.278, MAE: 0.771, MSE: 1.075\n",
      "SVR | R2: 0.688, MAE: 0.504, MSE: 0.465\n",
      "MLPR | R2: 0.634, MAE: 0.526, MSE: 0.544\n"
     ]
    },
    {
     "name": "stderr",
     "output_type": "stream",
     "text": [
      "100%|█████████████████████████████████████████| 197/197 [00:06<00:00, 29.66it/s]\n"
     ]
    },
    {
     "name": "stdout",
     "output_type": "stream",
     "text": [
      "LR | R2: 0.590, MAE: 0.603, MSE: 0.610\n",
      "RFR | R2: 0.647, MAE: 0.547, MSE: 0.525\n",
      "DTR | R2: 0.316, MAE: 0.751, MSE: 1.018\n",
      "SVR | R2: 0.689, MAE: 0.503, MSE: 0.463\n",
      "MLPR | R2: 0.639, MAE: 0.525, MSE: 0.537\n"
     ]
    },
    {
     "name": "stderr",
     "output_type": "stream",
     "text": [
      "100%|█████████████████████████████████████████| 197/197 [00:06<00:00, 30.86it/s]\n"
     ]
    },
    {
     "name": "stdout",
     "output_type": "stream",
     "text": [
      "LR | R2: 0.590, MAE: 0.603, MSE: 0.610\n",
      "RFR | R2: 0.647, MAE: 0.547, MSE: 0.525\n",
      "DTR | R2: 0.316, MAE: 0.751, MSE: 1.018\n",
      "SVR | R2: 0.689, MAE: 0.503, MSE: 0.463\n",
      "MLPR | R2: 0.639, MAE: 0.525, MSE: 0.537\n"
     ]
    }
   ],
   "source": [
    "models, results, num_sel_feat, features = fs_mrmr(X_train, y_train, X_val, y_val, X_train_norm, X_val_norm)"
   ]
  },
  {
   "cell_type": "markdown",
   "id": "a429518b",
   "metadata": {},
   "source": [
    "We now plot the metrics obtained for each iteration"
   ]
  },
  {
   "cell_type": "code",
   "execution_count": 25,
   "id": "7eaea66b",
   "metadata": {},
   "outputs": [
    {
     "data": {
      "image/png": "[encoded data removed]",
      "text/plain": [
       "<Figure size 950x380 with 1 Axes>"
      ]
     },
     "metadata": {},
     "output_type": "display_data"
    }
   ],
   "source": [
    "mse, r2 = [], []\n",
    "for iteration in results:\n",
    "    mse.append(min([mse[2] for mse in iteration]))\n",
    "    r2.append(max([r2[0] for r2 in iteration]))\n",
    "\n",
    "num_sel_feat = num_sel_feat = np.arange(10, X_train.shape[1], 5)\n",
    "\n",
    "# Plot R2 and MSE \n",
    "plt.figure(figsize=(10, 4), dpi = 95)\n",
    "sns.set_theme(style=\"darkgrid\")\n",
    "\n",
    "sns.lineplot(x = num_sel_feat, y = mse, marker='o', label = 'MSE')\n",
    "sns.lineplot(x = num_sel_feat, y = r2, marker='o', label = 'R2')\n",
    "# Vertical line to indicate best performance\n",
    "sns.lineplot([num_sel_feat[np.argmax(r2)], num_sel_feat[np.argmax(r2)]], [0, max(mse)], \n",
    "             color = 'red',linewidth = 4, label = 'Best')\n",
    "plt.legend()\n",
    "plt.title('MSE and R2 scores vs number of best features selected')\n",
    "plt.xlabel('Number of selected features by MRMR')\n",
    "plt.ylabel('Metrics')\n",
    "plt.show()"
   ]
  },
  {
   "cell_type": "markdown",
   "id": "6ec8316a",
   "metadata": {},
   "source": [
    "Best performance occurs when the number of selected features is **165**. Once again, model that better performs is **SVR**, with the following metrics: **R2: 0.693, MAE: 0.502, MSE: 0.456**. This means there is a **0.05** improvement in the R2 score while using **43** features less."
   ]
  },
  {
   "cell_type": "code",
   "execution_count": 26,
   "id": "5d5ef45e",
   "metadata": {},
   "outputs": [],
   "source": [
    "# Take selected features by MRMR\n",
    "selected_features_mrmr = features[np.argmax(r2)]\n",
    "\n",
    "# features_20 = features[2]\n",
    "# print(features_20)"
   ]
  },
  {
   "cell_type": "markdown",
   "id": "1a5beb2d",
   "metadata": {},
   "source": [
    "Apply randomizedSearchCV()"
   ]
  },
  {
   "cell_type": "code",
   "execution_count": 34,
   "id": "12807ca2",
   "metadata": {},
   "outputs": [
    {
     "name": "stdout",
     "output_type": "stream",
     "text": [
      "{'kernel': 'rbf', 'gamma': 'auto', 'degree': 3, 'coef0': 0.01, 'C': 5}\n",
      "r2: 0.748425, mse: 0.374455, mae: 0.447647\n"
     ]
    }
   ],
   "source": [
    "rnd_models_mrmr, metrics_rnd_mrmr = apply_randsearch(X_train[selected_features_mrmr]\n",
    "                                                        , y_train                                                       \n",
    "                                                        , X_val[selected_features_mrmr]\n",
    "                                                        , y_val\n",
    "                                                        , False\n",
    "                                                        , X_train_norm[selected_features_mrmr]\n",
    "                                                        , X_val_norm[selected_features_mrmr])"
   ]
  },
  {
   "cell_type": "markdown",
   "id": "09615396",
   "metadata": {},
   "source": [
    "### Improving the model: Manual data cleaning"
   ]
  },
  {
   "cell_type": "markdown",
   "id": "a4c807d5",
   "metadata": {},
   "source": [
    "#### Pipeline\n",
    "- Remove **MolLogP** and **BCUT2D** features. \n",
    "- Remove **zero variance features**. \n",
    "- Remove **high correlated** features."
   ]
  },
  {
   "cell_type": "markdown",
   "id": "36a7ae77",
   "metadata": {},
   "source": [
    "#### 1 - Remove MolLogP, BCUT2D, and zero variance features. "
   ]
  },
  {
   "cell_type": "code",
   "execution_count": 35,
   "id": "e879694c",
   "metadata": {},
   "outputs": [
    {
     "name": "stdout",
     "output_type": "stream",
     "text": [
      "There are 10 columns with zero variance\n",
      "Total number of features dropped: 19\n"
     ]
    }
   ],
   "source": [
    "#Remove MolLogP, BCUT2D, and features with zero variance\n",
    "from sklearn.feature_selection import VarianceThreshold\n",
    "\n",
    "selector = VarianceThreshold()\n",
    "selector.fit(X_train)\n",
    "\n",
    "# Selector.get_support() returns a [,num_descriptors] boolean mask. False represents zero variance columns.\n",
    "zero_var_cols = [column for column in X_train.columns\n",
    "                    if column not in X_train.columns[selector.get_support()]]\n",
    "\n",
    "print('There are {} columns with zero variance'.format(len(zero_var_cols)))\n",
    "\n",
    "# As BCUT features and MolLogP may have counterproductive effects, we proceed to delete them\n",
    "zero_var_cols.extend([col for col in df.columns if 'BCUT2D' in col or 'MolLogP' in col])\n",
    "\n",
    "# We drop this first set of 11 columns in each set. \n",
    "# for i in [X_train, X_train_norm, X_val, X_val_norm]:\n",
    "#     i.drop(zero_var_cols, axis = 1, inplace = True)\n",
    "\n",
    "print('Total number of features dropped:', len(zero_var_cols))"
   ]
  },
  {
   "cell_type": "markdown",
   "id": "267946aa",
   "metadata": {},
   "source": [
    "#### 2 - Remove high correlated features"
   ]
  },
  {
   "cell_type": "code",
   "execution_count": 36,
   "id": "1e34c14e",
   "metadata": {},
   "outputs": [
    {
     "name": "stdout",
     "output_type": "stream",
     "text": [
      "Number of correlated features deleted: 29\n"
     ]
    }
   ],
   "source": [
    "# We drop the features with a high correlation\n",
    "\n",
    "corr = X_train.corr().abs()\n",
    "\n",
    "# Select upper triangle of correlation matrix\n",
    "upper = corr.where(np.triu(np.ones(corr.shape), k=1).astype(np.bool))\n",
    "\n",
    "# Find features with correlation greater than X\n",
    "correlated_features = [col for col in upper.columns if any(upper[col] > 0.95)]\n",
    "\n",
    "print('Number of correlated features deleted: {}'.format(len(correlated_features)))"
   ]
  },
  {
   "cell_type": "code",
   "execution_count": 44,
   "id": "7040bf2d",
   "metadata": {},
   "outputs": [
    {
     "name": "stdout",
     "output_type": "stream",
     "text": [
      "Total number of remaining descriptors after the data cleaning: 159\n"
     ]
    }
   ],
   "source": [
    "# We group all the dropped features\n",
    "mc_cols = list(set(X_train.columns) - set(correlated_features + zero_var_cols))\n",
    "\n",
    "print('Total number of remaining descriptors after the data cleaning: {}'.format(len(mc_cols)))"
   ]
  },
  {
   "cell_type": "markdown",
   "id": "2dda34a6",
   "metadata": {},
   "source": [
    "### Models comparison after data cleaning"
   ]
  },
  {
   "cell_type": "code",
   "execution_count": 45,
   "id": "8f2ee452",
   "metadata": {
    "scrolled": false
   },
   "outputs": [
    {
     "name": "stdout",
     "output_type": "stream",
     "text": [
      "LR | R2: 0.561, MAE: 0.613, MSE: 0.653\n",
      "RFR | R2: 0.603, MAE: 0.578, MSE: 0.591\n",
      "DTR | R2: 0.209, MAE: 0.808, MSE: 1.178\n",
      "SVR | R2: 0.690, MAE: 0.502, MSE: 0.462\n",
      "MLPR | R2: 0.600, MAE: 0.558, MSE: 0.596\n"
     ]
    },
    {
     "data": {
      "image/png": "[encoded data removed]",
      "text/plain": [
       "<Figure size 1425x570 with 1 Axes>"
      ]
     },
     "metadata": {},
     "output_type": "display_data"
    }
   ],
   "source": [
    "models, results = models_comparison(X_train[mc_cols]\n",
    "                                    , y_train\n",
    "                                    , X_val[mc_cols]\n",
    "                                    , y_val\n",
    "                                    , False\n",
    "                                    , True\n",
    "                                    , False\n",
    "                                    , X_train_norm[mc_cols]\n",
    "                                    , X_val_norm[mc_cols])"
   ]
  },
  {
   "cell_type": "code",
   "execution_count": null,
   "id": "f97e720c",
   "metadata": {},
   "outputs": [],
   "source": [
    "#We add the best model to our benchmark for a later comparison\n",
    "benchmark = add_to_benchmark(benchmark, models, results)"
   ]
  },
  {
   "cell_type": "code",
   "execution_count": null,
   "id": "b54a747b",
   "metadata": {},
   "outputs": [],
   "source": [
    "rnd_models_mc, metrics_rnd_mc = apply_randsearch(X_train[mc_cols]\n",
    "                                                        , y_train                                                       \n",
    "                                                        , X_val[mc_cols]\n",
    "                                                        , y_val\n",
    "                                                        , False\n",
    "                                                        , X_train_norm[mc_cols]\n",
    "                                                        , X_val_norm[mc_cols])"
   ]
  },
  {
   "cell_type": "markdown",
   "id": "9694bed5",
   "metadata": {},
   "source": [
    "### Exploring alternatives: RandomizedSearchCV() in potential candidates\n",
    "\n",
    "By making use of RandomizedSearchCV() we could perhaps obtain better metrics in our potential model candidates  SVR and RFR. Function combines randomly the given hyperparameters to adjust the tuning. "
   ]
  },
  {
   "cell_type": "code",
   "execution_count": 32,
   "id": "240d250d",
   "metadata": {},
   "outputs": [],
   "source": [
    "def apply_randsearch(X_train, y_train, X_val, y_val, c,  X_train_norm = 0 , X_val_norm = 0):\n",
    "    np.random.seed(10)\n",
    "\n",
    "#     grid_param_rfr = {\n",
    "#         'n_estimators': [200, 250, 300],\n",
    "#         'max_depth': [10, 20, 30, 40, None],\n",
    "#         'max_features': ['auto', 'sqrt', 'log2'],\n",
    "#         'min_samples_split': [2, 5, 10, 15],\n",
    "#         'min_samples_leaf': [1, 2, 5, 10],\n",
    "#         'bootstrap': [True, False]\n",
    "#     }\n",
    "\n",
    "    grid_param_svr = {'kernel' : ['rbf'],\n",
    "                      'C' : [1,5,10],\n",
    "                      'degree' : [3,8],\n",
    "                      'coef0' : [0.01,10,0.5],\n",
    "                      'gamma' : ('auto','scale')\n",
    "                     }\n",
    "    \n",
    "#     (grid_param_rfr, RandomForestRegressor()),\n",
    "    rnd_models = []\n",
    "    for grid in [(grid_param_svr, SVR())]:\n",
    "        random_model = RandomizedSearchCV(grid[1], param_distributions = grid[0], n_iter = 300, cv = 5, n_jobs = -1)\n",
    "        rnd_models.append(random_model)\n",
    "\n",
    "    # Fit the model\n",
    "    for ind, m in enumerate(rnd_models):\n",
    "#         if ind == 0:\n",
    "#             rnd_models[ind] = m.fit(X_train, y_train)\n",
    "#         else:\n",
    "        rnd_models[ind] = m.fit(X_train_norm, y_train)\n",
    "    \n",
    "    # Once models are trained we compute the metrics \n",
    "    for i in range(len(rnd_models)):\n",
    "        print(rnd_models[i].best_params_)\n",
    "        temp_clf = rnd_models[i].best_estimator_\n",
    "    \n",
    "        #Predict values \n",
    "#         if i == 0:\n",
    "#             y_pred = temp_clf.predict(X_val)\n",
    "#         else:\n",
    "        y_pred = temp_clf.predict(X_val_norm)\n",
    "\n",
    "        #Compute metrics \n",
    "        r2 = metrics.r2_score(y_val, y_pred)\n",
    "        mae = metrics.mean_absolute_error(y_val, y_pred)\n",
    "        mse = metrics.mean_squared_error(y_val, y_pred)\n",
    "        print('r2: %f, mse: %f, mae: %f' %(r2, mse, mae))\n",
    "    \n",
    "    return rnd_models, (r2, mse, mae)"
   ]
  },
  {
   "cell_type": "code",
   "execution_count": 49,
   "id": "16fbcd13",
   "metadata": {},
   "outputs": [
    {
     "name": "stdout",
     "output_type": "stream",
     "text": [
      "{'n_estimators': 200, 'min_samples_split': 5, 'min_samples_leaf': 1, 'max_features': 'sqrt', 'max_depth': None, 'bootstrap': False}\n",
      "r2: 0.615016, mse: 0.567483, mae: 0.573027\n",
      "{'kernel': 'rbf', 'gamma': 'auto', 'degree': 3, 'coef0': 0.01, 'C': 5}\n",
      "r2: 0.743075, mse: 0.447705, mae: 0.382419\n"
     ]
    }
   ],
   "source": [
    "rnd_models, metrics = apply_randsearch(X_train, X_train_norm, y_train, X_val, False, X_val_norm, y_val)"
   ]
  },
  {
   "cell_type": "code",
   "execution_count": 113,
   "id": "e0abc157",
   "metadata": {},
   "outputs": [],
   "source": [
    "# Save the model \n",
    "joblib.dump(rnd_models[1], 'svr_manual_clean.pkl')\n",
    "\n",
    "# Loading model\n",
    "svr_manual_clean = joblib.load('svr_manual_clean.pkl')"
   ]
  },
  {
   "cell_type": "markdown",
   "id": "bc6f50a8",
   "metadata": {},
   "source": [
    "# Ames mutagenicity \n",
    "Mutagenicity means the ability of a drug to induce genetic alterations. Drugs that can cause damage to the DNA can result in cell death or other severe adverse effects"
   ]
  },
  {
   "cell_type": "code",
   "execution_count": 35,
   "id": "a14f8653",
   "metadata": {},
   "outputs": [
    {
     "name": "stderr",
     "output_type": "stream",
     "text": [
      "Found local copy...\n",
      "Loading...\n",
      "Done!\n"
     ]
    }
   ],
   "source": [
    "data = Tox(name = 'AMES')\n",
    "#DF contains the whole dataset stored in a Pandas dataframe format \n",
    "df = data.get_data()\n",
    "#Get_split divides the dataset into 3 different sets (Train, validation, test)\n",
    "split_AMES = data.get_split()"
   ]
  },
  {
   "cell_type": "code",
   "execution_count": 36,
   "id": "53b52877",
   "metadata": {
    "scrolled": true
   },
   "outputs": [
    {
     "name": "stdout",
     "output_type": "stream",
     "text": [
      "Total number of molecules: 7278\n",
      "Train set: 5094 - 70.0%\n",
      "Validation set: 728 - 10.0%\n",
      "Test set: 1456 - 20.0%\n"
     ]
    },
    {
     "data": {
      "text/html": [
       "<div>\n",
       "<style scoped>\n",
       "    .dataframe tbody tr th:only-of-type {\n",
       "        vertical-align: middle;\n",
       "    }\n",
       "\n",
       "    .dataframe tbody tr th {\n",
       "        vertical-align: top;\n",
       "    }\n",
       "\n",
       "    .dataframe thead th {\n",
       "        text-align: right;\n",
       "    }\n",
       "</style>\n",
       "<table border=\"1\" class=\"dataframe\">\n",
       "  <thead>\n",
       "    <tr style=\"text-align: right;\">\n",
       "      <th></th>\n",
       "      <th>Drug_ID</th>\n",
       "      <th>Drug</th>\n",
       "      <th>Y</th>\n",
       "    </tr>\n",
       "  </thead>\n",
       "  <tbody>\n",
       "    <tr>\n",
       "      <th>0</th>\n",
       "      <td>Drug 1</td>\n",
       "      <td>O=[N+]([O-])c1c2c(c3ccc4cccc5ccc1c3c45)CCCC2</td>\n",
       "      <td>1</td>\n",
       "    </tr>\n",
       "    <tr>\n",
       "      <th>1</th>\n",
       "      <td>Drug 2</td>\n",
       "      <td>O=c1c2ccccc2c(=O)c2c1ccc1c2[nH]c2c3c(=O)c4cccc...</td>\n",
       "      <td>0</td>\n",
       "    </tr>\n",
       "    <tr>\n",
       "      <th>2</th>\n",
       "      <td>Drug 3</td>\n",
       "      <td>[N-]=[N+]=CC(=O)NCC(=O)NN</td>\n",
       "      <td>1</td>\n",
       "    </tr>\n",
       "    <tr>\n",
       "      <th>3</th>\n",
       "      <td>Drug 4</td>\n",
       "      <td>[N-]=[N+]=C1C=NC(=O)NC1=O</td>\n",
       "      <td>1</td>\n",
       "    </tr>\n",
       "    <tr>\n",
       "      <th>4</th>\n",
       "      <td>Drug 6</td>\n",
       "      <td>CCCCN(CC(O)C1=CC(=[N+]=[N-])C(=O)C=C1)N=O</td>\n",
       "      <td>1</td>\n",
       "    </tr>\n",
       "  </tbody>\n",
       "</table>\n",
       "</div>"
      ],
      "text/plain": [
       "  Drug_ID                                               Drug  Y\n",
       "0  Drug 1       O=[N+]([O-])c1c2c(c3ccc4cccc5ccc1c3c45)CCCC2  1\n",
       "1  Drug 2  O=c1c2ccccc2c(=O)c2c1ccc1c2[nH]c2c3c(=O)c4cccc...  0\n",
       "2  Drug 3                          [N-]=[N+]=CC(=O)NCC(=O)NN  1\n",
       "3  Drug 4                          [N-]=[N+]=C1C=NC(=O)NC1=O  1\n",
       "4  Drug 6          CCCCN(CC(O)C1=CC(=[N+]=[N-])C(=O)C=C1)N=O  1"
      ]
     },
     "metadata": {},
     "output_type": "display_data"
    }
   ],
   "source": [
    "data_overview(df, split_AMES)"
   ]
  },
  {
   "cell_type": "code",
   "execution_count": 37,
   "id": "147ba596",
   "metadata": {},
   "outputs": [
    {
     "name": "stdout",
     "output_type": "stream",
     "text": [
      "Number of compounds modified:0\n"
     ]
    }
   ],
   "source": [
    "# Remove fragments of compounds that may contain them\n",
    "frag_compounds = [comp for comp in df['Drug'] if len(comp.split('.')) > 1]\n",
    "for ind, c in enumerate(frag_compounds):\n",
    "    df.loc[df.Drug == frag_compounds[ind], 'Drug'] = frag_compounds[ind].split('.')[0]\n",
    "\n",
    "print('Number of compounds modified:{}'.format(len(frag_compounds)))"
   ]
  },
  {
   "cell_type": "code",
   "execution_count": 38,
   "id": "48f69366",
   "metadata": {},
   "outputs": [
    {
     "name": "stdout",
     "output_type": "stream",
     "text": [
      "Duplicated compounds and with less than 5 heavy atoms have been removed.\n",
      "Shape: (7140, 3)\n"
     ]
    }
   ],
   "source": [
    "# Duplicates and compounds with less than 5 heavy atoms removal\n",
    "df = remove_ha_duplicates(df)"
   ]
  },
  {
   "cell_type": "code",
   "execution_count": 40,
   "id": "9ec2a15d",
   "metadata": {},
   "outputs": [
    {
     "name": "stderr",
     "output_type": "stream",
     "text": [
      "RDKit ERROR: [19:18:03] Can't kekulize mol.  Unkekulized atoms: 0 4 7 8 9\n",
      "[19:18:03] Can't kekulize mol.  Unkekulized atoms: 0 4 7 8 9\n",
      "\n",
      "RDKit ERROR: \n"
     ]
    },
    {
     "name": "stdout",
     "output_type": "stream",
     "text": [
      "Actual shape of the Dataframe: (7140, 211)\n"
     ]
    }
   ],
   "source": [
    "# Standardize the molecules \n",
    "df['Drug'] = [standardize_smiles(smi) for smi in df['Drug']]\n",
    "\n",
    "# Generate a list of lists where each row corresponds to a molecule and each column to a descriptor (transpose step required)\n",
    "c = [calculator.CalcDescriptors(Chem.MolFromSmiles(smi)) for smi in df['Drug']]\n",
    "\n",
    "# Convert it into a numpy array and transpose it so the columns represent the descriptors\n",
    "c = np.asarray(c).transpose()\n",
    "\n",
    "# Append all the descriptors to the DF\n",
    "for i, descriptor in enumerate(descList):\n",
    "    df[descriptor] = c[i]\n",
    "    \n",
    "#We move the target (Ames) to the end\n",
    "temp = df.pop('Y') # remove column b and store it in df1\n",
    "df['Y'] = temp\n",
    "\n",
    "print('Actual shape of the Dataframe:', df.shape)"
   ]
  },
  {
   "cell_type": "code",
   "execution_count": 41,
   "id": "efc903c6",
   "metadata": {},
   "outputs": [
    {
     "data": {
      "text/html": [
       "<div>\n",
       "<style scoped>\n",
       "    .dataframe tbody tr th:only-of-type {\n",
       "        vertical-align: middle;\n",
       "    }\n",
       "\n",
       "    .dataframe tbody tr th {\n",
       "        vertical-align: top;\n",
       "    }\n",
       "\n",
       "    .dataframe thead th {\n",
       "        text-align: right;\n",
       "    }\n",
       "</style>\n",
       "<table border=\"1\" class=\"dataframe\">\n",
       "  <thead>\n",
       "    <tr style=\"text-align: right;\">\n",
       "      <th></th>\n",
       "      <th>Drug_ID</th>\n",
       "      <th>Drug</th>\n",
       "      <th>MaxEStateIndex</th>\n",
       "      <th>MinEStateIndex</th>\n",
       "      <th>MaxAbsEStateIndex</th>\n",
       "      <th>MinAbsEStateIndex</th>\n",
       "      <th>qed</th>\n",
       "      <th>MolWt</th>\n",
       "      <th>HeavyAtomMolWt</th>\n",
       "      <th>ExactMolWt</th>\n",
       "      <th>...</th>\n",
       "      <th>fr_sulfonamd</th>\n",
       "      <th>fr_sulfone</th>\n",
       "      <th>fr_term_acetylene</th>\n",
       "      <th>fr_tetrazole</th>\n",
       "      <th>fr_thiazole</th>\n",
       "      <th>fr_thiocyan</th>\n",
       "      <th>fr_thiophene</th>\n",
       "      <th>fr_unbrch_alkane</th>\n",
       "      <th>fr_urea</th>\n",
       "      <th>Y</th>\n",
       "    </tr>\n",
       "  </thead>\n",
       "  <tbody>\n",
       "    <tr>\n",
       "      <th>0</th>\n",
       "      <td>Drug 0</td>\n",
       "      <td>O=[N+]([O-])c1ccc2ccc3ccc([N+](=O)[O-])c4c5ccc...</td>\n",
       "      <td>11.663401</td>\n",
       "      <td>-0.396099</td>\n",
       "      <td>11.663401</td>\n",
       "      <td>0.008895</td>\n",
       "      <td>0.181963</td>\n",
       "      <td>342.310</td>\n",
       "      <td>332.230</td>\n",
       "      <td>342.064057</td>\n",
       "      <td>...</td>\n",
       "      <td>0.0</td>\n",
       "      <td>0.0</td>\n",
       "      <td>0.0</td>\n",
       "      <td>0.0</td>\n",
       "      <td>0.0</td>\n",
       "      <td>0.0</td>\n",
       "      <td>0.0</td>\n",
       "      <td>0.0</td>\n",
       "      <td>0.0</td>\n",
       "      <td>1</td>\n",
       "    </tr>\n",
       "    <tr>\n",
       "      <th>1</th>\n",
       "      <td>Drug 1</td>\n",
       "      <td>O=[N+]([O-])c1c2c(c3ccc4cccc5ccc1c3c45)CCCC2</td>\n",
       "      <td>11.824743</td>\n",
       "      <td>-0.170602</td>\n",
       "      <td>11.824743</td>\n",
       "      <td>0.170602</td>\n",
       "      <td>0.269289</td>\n",
       "      <td>301.345</td>\n",
       "      <td>286.225</td>\n",
       "      <td>301.110279</td>\n",
       "      <td>...</td>\n",
       "      <td>0.0</td>\n",
       "      <td>0.0</td>\n",
       "      <td>0.0</td>\n",
       "      <td>0.0</td>\n",
       "      <td>0.0</td>\n",
       "      <td>0.0</td>\n",
       "      <td>0.0</td>\n",
       "      <td>0.0</td>\n",
       "      <td>0.0</td>\n",
       "      <td>1</td>\n",
       "    </tr>\n",
       "    <tr>\n",
       "      <th>2</th>\n",
       "      <td>Drug 2</td>\n",
       "      <td>O=c1c2ccccc2c(=O)c2c1ccc1c2[nH]c2c3c(=O)c4cccc...</td>\n",
       "      <td>14.431073</td>\n",
       "      <td>-0.378575</td>\n",
       "      <td>14.431073</td>\n",
       "      <td>0.128988</td>\n",
       "      <td>0.184582</td>\n",
       "      <td>646.614</td>\n",
       "      <td>628.470</td>\n",
       "      <td>646.116486</td>\n",
       "      <td>...</td>\n",
       "      <td>0.0</td>\n",
       "      <td>0.0</td>\n",
       "      <td>0.0</td>\n",
       "      <td>0.0</td>\n",
       "      <td>0.0</td>\n",
       "      <td>0.0</td>\n",
       "      <td>0.0</td>\n",
       "      <td>0.0</td>\n",
       "      <td>0.0</td>\n",
       "      <td>0</td>\n",
       "    </tr>\n",
       "    <tr>\n",
       "      <th>3</th>\n",
       "      <td>Drug 3</td>\n",
       "      <td>[N-]=[N+]=CC(=O)NCC(=O)NN</td>\n",
       "      <td>10.422197</td>\n",
       "      <td>-0.670278</td>\n",
       "      <td>10.422197</td>\n",
       "      <td>0.248657</td>\n",
       "      <td>0.103849</td>\n",
       "      <td>157.133</td>\n",
       "      <td>150.077</td>\n",
       "      <td>157.059974</td>\n",
       "      <td>...</td>\n",
       "      <td>0.0</td>\n",
       "      <td>0.0</td>\n",
       "      <td>0.0</td>\n",
       "      <td>0.0</td>\n",
       "      <td>0.0</td>\n",
       "      <td>0.0</td>\n",
       "      <td>0.0</td>\n",
       "      <td>0.0</td>\n",
       "      <td>0.0</td>\n",
       "      <td>1</td>\n",
       "    </tr>\n",
       "    <tr>\n",
       "      <th>4</th>\n",
       "      <td>Drug 4</td>\n",
       "      <td>[N-]=[N+]=C1C=NC(=O)NC1=O</td>\n",
       "      <td>10.521759</td>\n",
       "      <td>-0.752407</td>\n",
       "      <td>10.521759</td>\n",
       "      <td>0.278148</td>\n",
       "      <td>0.342148</td>\n",
       "      <td>138.086</td>\n",
       "      <td>136.070</td>\n",
       "      <td>138.017775</td>\n",
       "      <td>...</td>\n",
       "      <td>0.0</td>\n",
       "      <td>0.0</td>\n",
       "      <td>0.0</td>\n",
       "      <td>0.0</td>\n",
       "      <td>0.0</td>\n",
       "      <td>0.0</td>\n",
       "      <td>0.0</td>\n",
       "      <td>0.0</td>\n",
       "      <td>1.0</td>\n",
       "      <td>1</td>\n",
       "    </tr>\n",
       "  </tbody>\n",
       "</table>\n",
       "<p>5 rows × 211 columns</p>\n",
       "</div>"
      ],
      "text/plain": [
       "  Drug_ID                                               Drug  MaxEStateIndex  \\\n",
       "0  Drug 0  O=[N+]([O-])c1ccc2ccc3ccc([N+](=O)[O-])c4c5ccc...       11.663401   \n",
       "1  Drug 1       O=[N+]([O-])c1c2c(c3ccc4cccc5ccc1c3c45)CCCC2       11.824743   \n",
       "2  Drug 2  O=c1c2ccccc2c(=O)c2c1ccc1c2[nH]c2c3c(=O)c4cccc...       14.431073   \n",
       "3  Drug 3                          [N-]=[N+]=CC(=O)NCC(=O)NN       10.422197   \n",
       "4  Drug 4                          [N-]=[N+]=C1C=NC(=O)NC1=O       10.521759   \n",
       "\n",
       "   MinEStateIndex  MaxAbsEStateIndex  MinAbsEStateIndex       qed    MolWt  \\\n",
       "0       -0.396099          11.663401           0.008895  0.181963  342.310   \n",
       "1       -0.170602          11.824743           0.170602  0.269289  301.345   \n",
       "2       -0.378575          14.431073           0.128988  0.184582  646.614   \n",
       "3       -0.670278          10.422197           0.248657  0.103849  157.133   \n",
       "4       -0.752407          10.521759           0.278148  0.342148  138.086   \n",
       "\n",
       "   HeavyAtomMolWt  ExactMolWt  ...  fr_sulfonamd  fr_sulfone  \\\n",
       "0         332.230  342.064057  ...           0.0         0.0   \n",
       "1         286.225  301.110279  ...           0.0         0.0   \n",
       "2         628.470  646.116486  ...           0.0         0.0   \n",
       "3         150.077  157.059974  ...           0.0         0.0   \n",
       "4         136.070  138.017775  ...           0.0         0.0   \n",
       "\n",
       "   fr_term_acetylene  fr_tetrazole  fr_thiazole  fr_thiocyan  fr_thiophene  \\\n",
       "0                0.0           0.0          0.0          0.0           0.0   \n",
       "1                0.0           0.0          0.0          0.0           0.0   \n",
       "2                0.0           0.0          0.0          0.0           0.0   \n",
       "3                0.0           0.0          0.0          0.0           0.0   \n",
       "4                0.0           0.0          0.0          0.0           0.0   \n",
       "\n",
       "   fr_unbrch_alkane  fr_urea  Y  \n",
       "0               0.0      0.0  1  \n",
       "1               0.0      0.0  1  \n",
       "2               0.0      0.0  0  \n",
       "3               0.0      0.0  1  \n",
       "4               0.0      1.0  1  \n",
       "\n",
       "[5 rows x 211 columns]"
      ]
     },
     "execution_count": 41,
     "metadata": {},
     "output_type": "execute_result"
    }
   ],
   "source": [
    "df.head()"
   ]
  },
  {
   "cell_type": "code",
   "execution_count": 42,
   "id": "799470f4",
   "metadata": {},
   "outputs": [
    {
     "name": "stdout",
     "output_type": "stream",
     "text": [
      "Current shape of the fingerprint dataset: 7140 x 1024\n"
     ]
    }
   ],
   "source": [
    "# Generate fingerprints dataset and transform into a dataframe\n",
    "fingerprints = generate_fingerprints(df)\n",
    "fps = pd.DataFrame(fingerprints, columns = np.arange(1,1025))"
   ]
  },
  {
   "cell_type": "code",
   "execution_count": 43,
   "id": "d1934fa1",
   "metadata": {},
   "outputs": [
    {
     "name": "stdout",
     "output_type": "stream",
     "text": [
      "0       False\n",
      "1       False\n",
      "2       False\n",
      "3       False\n",
      "4       False\n",
      "        ...  \n",
      "7273    False\n",
      "7274    False\n",
      "7275    False\n",
      "7276    False\n",
      "7277    False\n",
      "Length: 7140, dtype: bool\n"
     ]
    }
   ],
   "source": [
    "nan_mols = df.isnull().any(axis=1)\n",
    "nan_mols[nan_mols == True]\n",
    "df.dropna(inplace = True)"
   ]
  },
  {
   "cell_type": "code",
   "execution_count": 44,
   "id": "3cfb3ca6",
   "metadata": {},
   "outputs": [
    {
     "name": "stdout",
     "output_type": "stream",
     "text": [
      "Data has been split\n"
     ]
    }
   ],
   "source": [
    "X_train, X_train_fps, y_train, X_val, X_val_fps, y_val, X_test, X_test_fps, y_test = train_val_test_split(df, split_AMES, fps)"
   ]
  },
  {
   "cell_type": "code",
   "execution_count": 45,
   "id": "d2675288",
   "metadata": {},
   "outputs": [
    {
     "name": "stdout",
     "output_type": "stream",
     "text": [
      "Data is now normalized.\n"
     ]
    }
   ],
   "source": [
    "X_train_norm, X_val_norm, X_test_norm = normalize_data(X_train, X_val, X_test)"
   ]
  },
  {
   "cell_type": "markdown",
   "id": "f36190d9",
   "metadata": {},
   "source": [
    "### Check balance of dataset/split"
   ]
  },
  {
   "cell_type": "code",
   "execution_count": 46,
   "id": "5ededa5b",
   "metadata": {
    "scrolled": false
   },
   "outputs": [
    {
     "data": {
      "image/png": "[encoded data removed]",
      "text/plain": [
       "<Figure size 1296x720 with 4 Axes>"
      ]
     },
     "metadata": {},
     "output_type": "display_data"
    }
   ],
   "source": [
    "sns.set_theme(style=\"darkgrid\")\n",
    "\n",
    "fig, axes = plt.subplots(2, 2, figsize=(18, 10))\n",
    "fig.suptitle('Counts of 0s and 1s in each split')\n",
    "\n",
    "sns.countplot(x=\"Y\",ax=axes[0, 0], data = df, label = 'Complete dataset')\n",
    "axes[0, 0].set_title('Full dataset')\n",
    "sns.barplot(ax=axes[0, 1], x= y_train.value_counts().index, y= y_train.value_counts(), label= 'Training')\n",
    "axes[0, 1].set_title('Training')\n",
    "sns.barplot(ax=axes[1, 0], x= y_val.value_counts().index, y= y_val.value_counts(), label = 'Validation')\n",
    "axes[1, 0].set_title('Validation')\n",
    "sns.barplot(ax=axes[1, 1], x= y_val.value_counts().index, y= y_val.value_counts(), label = 'Test')\n",
    "axes[1, 1].set_title('Test')\n",
    "plt.show()"
   ]
  },
  {
   "cell_type": "markdown",
   "id": "615416be",
   "metadata": {},
   "source": [
    "## Building our baseline models"
   ]
  },
  {
   "cell_type": "code",
   "execution_count": 48,
   "id": "7c246ff9",
   "metadata": {
    "scrolled": false
   },
   "outputs": [
    {
     "name": "stdout",
     "output_type": "stream",
     "text": [
      "MLPC | MCC: 0.592, AUC: 0.796, Accuracy: 0.772, Precision: 0.826, Recall: 0.795\n",
      "SVC | MCC: 0.575, AUC: 0.787, Accuracy: 0.769, Precision: 0.806, Recall: 0.787\n",
      "RFC | MCC: 0.632, AUC: 0.816, Accuracy: 0.807, Precision: 0.820, Recall: 0.816\n",
      "DTC | MCC: 0.473, AUC: 0.736, Accuracy: 0.723, Precision: 0.747, Recall: 0.736\n",
      "LG | MCC: 0.000, AUC: 0.500, Accuracy: 0.000, Precision: 0.000, Recall: 0.511\n"
     ]
    },
    {
     "data": {
      "image/png": "[encoded data removed]",
      "text/plain": [
       "<Figure size 1425x570 with 1 Axes>"
      ]
     },
     "metadata": {},
     "output_type": "display_data"
    }
   ],
   "source": [
    "models, results = models_comparison(X_train, y_train, X_val, y_val, True,True, False, X_train_norm, X_val_norm)"
   ]
  },
  {
   "cell_type": "code",
   "execution_count": null,
   "id": "2fd2fa38",
   "metadata": {},
   "outputs": [],
   "source": []
  }
 ],
 "metadata": {
  "kernelspec": {
   "display_name": "Python 3 (ipykernel)",
   "language": "python",
   "name": "python3"
  },
  "language_info": {
   "codemirror_mode": {
    "name": "ipython",
    "version": 3
   },
   "file_extension": ".py",
   "mimetype": "text/x-python",
   "name": "python",
   "nbconvert_exporter": "python",
   "pygments_lexer": "ipython3",
   "version": "3.9.6"
  }
 },
 "nbformat": 4,
 "nbformat_minor": 5
}
