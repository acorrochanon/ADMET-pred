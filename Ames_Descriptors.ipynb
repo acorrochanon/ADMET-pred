{
 "cells": [
  {
   "cell_type": "markdown",
   "id": "2446747b",
   "metadata": {},
   "source": [
    "# Benchmarking feature selection algorithms in the molecular property prediction space: Ames mutagenicity\n",
    "\n",
    "*Alejandro Corrochano's contribution to the final project.* "
   ]
  },
  {
   "cell_type": "code",
   "execution_count": 80,
   "id": "14c8203f",
   "metadata": {},
   "outputs": [],
   "source": [
    "# Datasets\n",
    "from tdc.single_pred import Tox\n",
    "\n",
    "# Additional functions in a separate ipynb file\n",
    "from ipynb.fs.full.AZ_additional_functions import *\n",
    "\n",
    "# General use \n",
    "import pandas as pd\n",
    "import numpy as np\n",
    "import seaborn as sns\n",
    "import matplotlib.pyplot as plt \n",
    "\n",
    "#import shap\n",
    "#Save and load models\n",
    "import joblib\n",
    "import pickle \n",
    "\n",
    "#Metrics \n",
    "import sklearn.metrics as metrics\n",
    "from sklearn.feature_selection import mutual_info_classif\n",
    "\n",
    "# RDkit\n",
    "from rdkit import Chem\n",
    "from rdkit import RDLogger\n",
    "from rdkit import DataStructs\n",
    "from rdkit.Chem import AllChem\n",
    "from rdkit.Chem import Descriptors\n",
    "from rdkit.ML.Descriptors.MoleculeDescriptors import MolecularDescriptorCalculator\n",
    "\n",
    "# Standardizing\n",
    "from molvs import standardize_smiles"
   ]
  },
  {
   "cell_type": "code",
   "execution_count": 2,
   "id": "8c3ae46f",
   "metadata": {},
   "outputs": [
    {
     "name": "stderr",
     "output_type": "stream",
     "text": [
      "Found local copy...\n",
      "Loading...\n",
      "Done!\n"
     ]
    }
   ],
   "source": [
    "data = Tox(name = 'AMES')\n",
    "#DF contains the whole dataset stored in a Pandas dataframe format \n",
    "df = data.get_data()\n",
    "#Get_split divides the dataset into 3 different sets (Train, validation, test)\n",
    "split_AMES = data.get_split()"
   ]
  },
  {
   "cell_type": "code",
   "execution_count": 3,
   "id": "565b9a6a",
   "metadata": {},
   "outputs": [
    {
     "name": "stdout",
     "output_type": "stream",
     "text": [
      "Total number of molecules: 7278\n",
      "Train set: 5094 - 70.0%\n",
      "Validation set: 728 - 10.0%\n",
      "Test set: 1456 - 20.0%\n"
     ]
    },
    {
     "data": {
      "text/html": [
       "<div>\n",
       "<style scoped>\n",
       "    .dataframe tbody tr th:only-of-type {\n",
       "        vertical-align: middle;\n",
       "    }\n",
       "\n",
       "    .dataframe tbody tr th {\n",
       "        vertical-align: top;\n",
       "    }\n",
       "\n",
       "    .dataframe thead th {\n",
       "        text-align: right;\n",
       "    }\n",
       "</style>\n",
       "<table border=\"1\" class=\"dataframe\">\n",
       "  <thead>\n",
       "    <tr style=\"text-align: right;\">\n",
       "      <th></th>\n",
       "      <th>Drug_ID</th>\n",
       "      <th>Drug</th>\n",
       "      <th>Y</th>\n",
       "    </tr>\n",
       "  </thead>\n",
       "  <tbody>\n",
       "    <tr>\n",
       "      <th>0</th>\n",
       "      <td>Drug 1</td>\n",
       "      <td>O=[N+]([O-])c1c2c(c3ccc4cccc5ccc1c3c45)CCCC2</td>\n",
       "      <td>1</td>\n",
       "    </tr>\n",
       "    <tr>\n",
       "      <th>1</th>\n",
       "      <td>Drug 2</td>\n",
       "      <td>O=c1c2ccccc2c(=O)c2c1ccc1c2[nH]c2c3c(=O)c4cccc...</td>\n",
       "      <td>0</td>\n",
       "    </tr>\n",
       "    <tr>\n",
       "      <th>2</th>\n",
       "      <td>Drug 3</td>\n",
       "      <td>[N-]=[N+]=CC(=O)NCC(=O)NN</td>\n",
       "      <td>1</td>\n",
       "    </tr>\n",
       "    <tr>\n",
       "      <th>3</th>\n",
       "      <td>Drug 4</td>\n",
       "      <td>[N-]=[N+]=C1C=NC(=O)NC1=O</td>\n",
       "      <td>1</td>\n",
       "    </tr>\n",
       "    <tr>\n",
       "      <th>4</th>\n",
       "      <td>Drug 6</td>\n",
       "      <td>CCCCN(CC(O)C1=CC(=[N+]=[N-])C(=O)C=C1)N=O</td>\n",
       "      <td>1</td>\n",
       "    </tr>\n",
       "  </tbody>\n",
       "</table>\n",
       "</div>"
      ],
      "text/plain": [
       "  Drug_ID                                               Drug  Y\n",
       "0  Drug 1       O=[N+]([O-])c1c2c(c3ccc4cccc5ccc1c3c45)CCCC2  1\n",
       "1  Drug 2  O=c1c2ccccc2c(=O)c2c1ccc1c2[nH]c2c3c(=O)c4cccc...  0\n",
       "2  Drug 3                          [N-]=[N+]=CC(=O)NCC(=O)NN  1\n",
       "3  Drug 4                          [N-]=[N+]=C1C=NC(=O)NC1=O  1\n",
       "4  Drug 6          CCCCN(CC(O)C1=CC(=[N+]=[N-])C(=O)C=C1)N=O  1"
      ]
     },
     "metadata": {},
     "output_type": "display_data"
    }
   ],
   "source": [
    "data_overview(df, split_AMES)"
   ]
  },
  {
   "cell_type": "code",
   "execution_count": 4,
   "id": "ef7c80ab",
   "metadata": {},
   "outputs": [
    {
     "name": "stdout",
     "output_type": "stream",
     "text": [
      "Number of compounds modified: 0\n"
     ]
    }
   ],
   "source": [
    "# Remove fragments of compounds that may contain them\n",
    "frag_compounds = [comp for comp in df['Drug'] if len(comp.split('.')) > 1]\n",
    "for ind, c in enumerate(frag_compounds):\n",
    "    df.loc[df.Drug == frag_compounds[ind], 'Drug'] = frag_compounds[ind].split('.')[0]\n",
    "\n",
    "print('Number of compounds modified: {}'.format(len(frag_compounds)))"
   ]
  },
  {
   "cell_type": "code",
   "execution_count": 5,
   "id": "55517821",
   "metadata": {},
   "outputs": [
    {
     "name": "stdout",
     "output_type": "stream",
     "text": [
      "Duplicated compounds and with less than 5 heavy atoms have been removed.\n",
      "New number of compounds: 7140 (-138)\n"
     ]
    }
   ],
   "source": [
    "# Duplicates and compounds with less than 5 heavy atoms removal\n",
    "df = remove_ha_duplicates(df)"
   ]
  },
  {
   "cell_type": "code",
   "execution_count": 6,
   "id": "08c42ead",
   "metadata": {},
   "outputs": [
    {
     "name": "stdout",
     "output_type": "stream",
     "text": [
      "Calculator initialized. Total number of descriptors: 208\n"
     ]
    }
   ],
   "source": [
    "descList = [i for i,j in Descriptors.descList]\n",
    "#Molecular descriptor calculator\n",
    "calculator = MolecularDescriptorCalculator(descList)\n",
    "print('Calculator initialized. Total number of descriptors:', len(descList))"
   ]
  },
  {
   "cell_type": "code",
   "execution_count": 7,
   "id": "8e08b0ab",
   "metadata": {},
   "outputs": [
    {
     "name": "stdout",
     "output_type": "stream",
     "text": [
      "Actual shape of the Dataframe: (7140, 211)\n"
     ]
    }
   ],
   "source": [
    "# Standardize the molecules \n",
    "df['Drug'] = [standardize_smiles(smi) for smi in df['Drug']]\n",
    "\n",
    "# Generate a list of lists where each row corresponds to a molecule and each column to a descriptor (transpose step required)\n",
    "c = [calculator.CalcDescriptors(Chem.MolFromSmiles(smi)) for smi in df['Drug']]\n",
    "\n",
    "# Convert it into a numpy array and transpose it so the columns represent the descriptors\n",
    "c = np.asarray(c).transpose()\n",
    "\n",
    "# Append all the descriptors to the DF\n",
    "for i, descriptor in enumerate(descList):\n",
    "    df[descriptor] = c[i]\n",
    "    \n",
    "#We move the target (Ames) to the end\n",
    "temp = df.pop('Y') # remove column b and store it in df1\n",
    "df['Y'] = temp\n",
    "\n",
    "print('Actual shape of the Dataframe:', df.shape)"
   ]
  },
  {
   "cell_type": "code",
   "execution_count": 8,
   "id": "bf6251fc",
   "metadata": {},
   "outputs": [
    {
     "data": {
      "text/html": [
       "<div>\n",
       "<style scoped>\n",
       "    .dataframe tbody tr th:only-of-type {\n",
       "        vertical-align: middle;\n",
       "    }\n",
       "\n",
       "    .dataframe tbody tr th {\n",
       "        vertical-align: top;\n",
       "    }\n",
       "\n",
       "    .dataframe thead th {\n",
       "        text-align: right;\n",
       "    }\n",
       "</style>\n",
       "<table border=\"1\" class=\"dataframe\">\n",
       "  <thead>\n",
       "    <tr style=\"text-align: right;\">\n",
       "      <th></th>\n",
       "      <th>Drug_ID</th>\n",
       "      <th>Drug</th>\n",
       "      <th>MaxEStateIndex</th>\n",
       "      <th>MinEStateIndex</th>\n",
       "      <th>MaxAbsEStateIndex</th>\n",
       "      <th>MinAbsEStateIndex</th>\n",
       "      <th>qed</th>\n",
       "      <th>MolWt</th>\n",
       "      <th>HeavyAtomMolWt</th>\n",
       "      <th>ExactMolWt</th>\n",
       "      <th>...</th>\n",
       "      <th>fr_sulfonamd</th>\n",
       "      <th>fr_sulfone</th>\n",
       "      <th>fr_term_acetylene</th>\n",
       "      <th>fr_tetrazole</th>\n",
       "      <th>fr_thiazole</th>\n",
       "      <th>fr_thiocyan</th>\n",
       "      <th>fr_thiophene</th>\n",
       "      <th>fr_unbrch_alkane</th>\n",
       "      <th>fr_urea</th>\n",
       "      <th>Y</th>\n",
       "    </tr>\n",
       "  </thead>\n",
       "  <tbody>\n",
       "    <tr>\n",
       "      <th>0</th>\n",
       "      <td>Drug 0</td>\n",
       "      <td>O=[N+]([O-])c1ccc2ccc3ccc([N+](=O)[O-])c4c5ccc...</td>\n",
       "      <td>11.663401</td>\n",
       "      <td>-0.396099</td>\n",
       "      <td>11.663401</td>\n",
       "      <td>0.008895</td>\n",
       "      <td>0.181963</td>\n",
       "      <td>342.310</td>\n",
       "      <td>332.230</td>\n",
       "      <td>342.064057</td>\n",
       "      <td>...</td>\n",
       "      <td>0.0</td>\n",
       "      <td>0.0</td>\n",
       "      <td>0.0</td>\n",
       "      <td>0.0</td>\n",
       "      <td>0.0</td>\n",
       "      <td>0.0</td>\n",
       "      <td>0.0</td>\n",
       "      <td>0.0</td>\n",
       "      <td>0.0</td>\n",
       "      <td>1</td>\n",
       "    </tr>\n",
       "    <tr>\n",
       "      <th>1</th>\n",
       "      <td>Drug 1</td>\n",
       "      <td>O=[N+]([O-])c1c2c(c3ccc4cccc5ccc1c3c45)CCCC2</td>\n",
       "      <td>11.824743</td>\n",
       "      <td>-0.170602</td>\n",
       "      <td>11.824743</td>\n",
       "      <td>0.170602</td>\n",
       "      <td>0.269289</td>\n",
       "      <td>301.345</td>\n",
       "      <td>286.225</td>\n",
       "      <td>301.110279</td>\n",
       "      <td>...</td>\n",
       "      <td>0.0</td>\n",
       "      <td>0.0</td>\n",
       "      <td>0.0</td>\n",
       "      <td>0.0</td>\n",
       "      <td>0.0</td>\n",
       "      <td>0.0</td>\n",
       "      <td>0.0</td>\n",
       "      <td>0.0</td>\n",
       "      <td>0.0</td>\n",
       "      <td>1</td>\n",
       "    </tr>\n",
       "    <tr>\n",
       "      <th>2</th>\n",
       "      <td>Drug 2</td>\n",
       "      <td>O=c1c2ccccc2c(=O)c2c1ccc1c2[nH]c2c3c(=O)c4cccc...</td>\n",
       "      <td>14.431073</td>\n",
       "      <td>-0.378575</td>\n",
       "      <td>14.431073</td>\n",
       "      <td>0.128988</td>\n",
       "      <td>0.184582</td>\n",
       "      <td>646.614</td>\n",
       "      <td>628.470</td>\n",
       "      <td>646.116486</td>\n",
       "      <td>...</td>\n",
       "      <td>0.0</td>\n",
       "      <td>0.0</td>\n",
       "      <td>0.0</td>\n",
       "      <td>0.0</td>\n",
       "      <td>0.0</td>\n",
       "      <td>0.0</td>\n",
       "      <td>0.0</td>\n",
       "      <td>0.0</td>\n",
       "      <td>0.0</td>\n",
       "      <td>0</td>\n",
       "    </tr>\n",
       "    <tr>\n",
       "      <th>3</th>\n",
       "      <td>Drug 3</td>\n",
       "      <td>[N-]=[N+]=CC(=O)NCC(=O)NN</td>\n",
       "      <td>10.422197</td>\n",
       "      <td>-0.670278</td>\n",
       "      <td>10.422197</td>\n",
       "      <td>0.248657</td>\n",
       "      <td>0.103849</td>\n",
       "      <td>157.133</td>\n",
       "      <td>150.077</td>\n",
       "      <td>157.059974</td>\n",
       "      <td>...</td>\n",
       "      <td>0.0</td>\n",
       "      <td>0.0</td>\n",
       "      <td>0.0</td>\n",
       "      <td>0.0</td>\n",
       "      <td>0.0</td>\n",
       "      <td>0.0</td>\n",
       "      <td>0.0</td>\n",
       "      <td>0.0</td>\n",
       "      <td>0.0</td>\n",
       "      <td>1</td>\n",
       "    </tr>\n",
       "    <tr>\n",
       "      <th>4</th>\n",
       "      <td>Drug 4</td>\n",
       "      <td>[N-]=[N+]=C1C=NC(=O)NC1=O</td>\n",
       "      <td>10.521759</td>\n",
       "      <td>-0.752407</td>\n",
       "      <td>10.521759</td>\n",
       "      <td>0.278148</td>\n",
       "      <td>0.342148</td>\n",
       "      <td>138.086</td>\n",
       "      <td>136.070</td>\n",
       "      <td>138.017775</td>\n",
       "      <td>...</td>\n",
       "      <td>0.0</td>\n",
       "      <td>0.0</td>\n",
       "      <td>0.0</td>\n",
       "      <td>0.0</td>\n",
       "      <td>0.0</td>\n",
       "      <td>0.0</td>\n",
       "      <td>0.0</td>\n",
       "      <td>0.0</td>\n",
       "      <td>1.0</td>\n",
       "      <td>1</td>\n",
       "    </tr>\n",
       "  </tbody>\n",
       "</table>\n",
       "<p>5 rows × 211 columns</p>\n",
       "</div>"
      ],
      "text/plain": [
       "  Drug_ID                                               Drug  MaxEStateIndex  \\\n",
       "0  Drug 0  O=[N+]([O-])c1ccc2ccc3ccc([N+](=O)[O-])c4c5ccc...       11.663401   \n",
       "1  Drug 1       O=[N+]([O-])c1c2c(c3ccc4cccc5ccc1c3c45)CCCC2       11.824743   \n",
       "2  Drug 2  O=c1c2ccccc2c(=O)c2c1ccc1c2[nH]c2c3c(=O)c4cccc...       14.431073   \n",
       "3  Drug 3                          [N-]=[N+]=CC(=O)NCC(=O)NN       10.422197   \n",
       "4  Drug 4                          [N-]=[N+]=C1C=NC(=O)NC1=O       10.521759   \n",
       "\n",
       "   MinEStateIndex  MaxAbsEStateIndex  MinAbsEStateIndex       qed    MolWt  \\\n",
       "0       -0.396099          11.663401           0.008895  0.181963  342.310   \n",
       "1       -0.170602          11.824743           0.170602  0.269289  301.345   \n",
       "2       -0.378575          14.431073           0.128988  0.184582  646.614   \n",
       "3       -0.670278          10.422197           0.248657  0.103849  157.133   \n",
       "4       -0.752407          10.521759           0.278148  0.342148  138.086   \n",
       "\n",
       "   HeavyAtomMolWt  ExactMolWt  ...  fr_sulfonamd  fr_sulfone  \\\n",
       "0         332.230  342.064057  ...           0.0         0.0   \n",
       "1         286.225  301.110279  ...           0.0         0.0   \n",
       "2         628.470  646.116486  ...           0.0         0.0   \n",
       "3         150.077  157.059974  ...           0.0         0.0   \n",
       "4         136.070  138.017775  ...           0.0         0.0   \n",
       "\n",
       "   fr_term_acetylene  fr_tetrazole  fr_thiazole  fr_thiocyan  fr_thiophene  \\\n",
       "0                0.0           0.0          0.0          0.0           0.0   \n",
       "1                0.0           0.0          0.0          0.0           0.0   \n",
       "2                0.0           0.0          0.0          0.0           0.0   \n",
       "3                0.0           0.0          0.0          0.0           0.0   \n",
       "4                0.0           0.0          0.0          0.0           0.0   \n",
       "\n",
       "   fr_unbrch_alkane  fr_urea  Y  \n",
       "0               0.0      0.0  1  \n",
       "1               0.0      0.0  1  \n",
       "2               0.0      0.0  0  \n",
       "3               0.0      0.0  1  \n",
       "4               0.0      1.0  1  \n",
       "\n",
       "[5 rows x 211 columns]"
      ]
     },
     "execution_count": 8,
     "metadata": {},
     "output_type": "execute_result"
    }
   ],
   "source": [
    "df.head()"
   ]
  },
  {
   "cell_type": "markdown",
   "id": "7f0aa897",
   "metadata": {},
   "source": [
    "### Generate splits, remove NaNs, and normalization"
   ]
  },
  {
   "cell_type": "markdown",
   "id": "4549bf92",
   "metadata": {},
   "source": [
    "#### Train, validation, and test sets for both Descriptors and fingerprints"
   ]
  },
  {
   "cell_type": "code",
   "execution_count": 9,
   "id": "1ffd3616",
   "metadata": {},
   "outputs": [
    {
     "name": "stdout",
     "output_type": "stream",
     "text": [
      "Data has been split\n"
     ]
    }
   ],
   "source": [
    "X_train, y_train, X_val, y_val, X_test, y_test = train_val_test_split(df, split_AMES)"
   ]
  },
  {
   "cell_type": "markdown",
   "id": "0a876083",
   "metadata": {},
   "source": [
    "#### Remove NaNs values"
   ]
  },
  {
   "cell_type": "code",
   "execution_count": 10,
   "id": "e9f31be2",
   "metadata": {},
   "outputs": [
    {
     "name": "stdout",
     "output_type": "stream",
     "text": [
      "Removed the following rows in the train set: Int64Index([231, 3258, 3693], dtype='int64')\n",
      "Removed the following rows in the val set: Int64Index([5482], dtype='int64')\n",
      "Removed the following rows in the test set: Int64Index([6439], dtype='int64')\n"
     ]
    }
   ],
   "source": [
    "X_train, y_train, X_val, y_val, X_test, y_test = remove_nans(X_train, X_val, X_test, y_train, y_val, y_test)"
   ]
  },
  {
   "cell_type": "markdown",
   "id": "ba3c0b46",
   "metadata": {},
   "source": [
    "#### Data normalization required in linear models"
   ]
  },
  {
   "cell_type": "code",
   "execution_count": 11,
   "id": "482c9c92",
   "metadata": {},
   "outputs": [
    {
     "name": "stdout",
     "output_type": "stream",
     "text": [
      "Data is now normalized.\n"
     ]
    }
   ],
   "source": [
    "X_train_norm, X_val_norm, X_test_norm = normalize_data(X_train, X_val, X_test)"
   ]
  },
  {
   "cell_type": "markdown",
   "id": "f6f65754",
   "metadata": {},
   "source": [
    "## Baseline"
   ]
  },
  {
   "cell_type": "code",
   "execution_count": 12,
   "id": "141f9997",
   "metadata": {},
   "outputs": [
    {
     "name": "stdout",
     "output_type": "stream",
     "text": [
      "MLPC | MCC: 0.524, AUC: 0.762, Accuracy: 0.749, Precision: 0.772, Recall: 0.762 | Training time: 4.5\n",
      "SVC | MCC: 0.583, AUC: 0.791, Accuracy: 0.771, Precision: 0.814, Recall: 0.791 | Training time: 2.6\n",
      "RFC | MCC: 0.632, AUC: 0.816, Accuracy: 0.799, Precision: 0.831, Recall: 0.816 | Training time: 2.0\n",
      "DTC | MCC: 0.495, AUC: 0.747, Accuracy: 0.728, Precision: 0.769, Recall: 0.747 | Training time: 0.5\n",
      "XGBC | MCC: 0.582, AUC: 0.791, Accuracy: 0.777, Precision: 0.803, Recall: 0.791 | Training time: 2.1\n"
     ]
    },
    {
     "data": {
      "image/png": "[encoded data removed]",
      "text/plain": [
       "<Figure size 1425x570 with 1 Axes>"
      ]
     },
     "metadata": {},
     "output_type": "display_data"
    }
   ],
   "source": [
    "models, results = models_comparison(X_train, y_train, X_val, y_val, True, True, False, X_train_norm, X_val_norm)"
   ]
  },
  {
   "cell_type": "markdown",
   "id": "2f055318",
   "metadata": {},
   "source": [
    "## MRMR"
   ]
  },
  {
   "cell_type": "code",
   "execution_count": 13,
   "id": "7ec4b11b",
   "metadata": {},
   "outputs": [
    {
     "name": "stderr",
     "output_type": "stream",
     "text": [
      "100%|██████████████████████████████████████████████████████████████████████████████████| 10/10 [00:00<00:00, 12.44it/s]\n"
     ]
    },
    {
     "name": "stdout",
     "output_type": "stream",
     "text": [
      "MLPC | MCC: 0.425, AUC: 0.712, Accuracy: 0.711, Precision: 0.693, Recall: 0.713 | Training time: 11.0\n",
      "SVC | MCC: 0.428, AUC: 0.714, Accuracy: 0.705, Precision: 0.713, Recall: 0.714 | Training time: 1.0\n",
      "RFC | MCC: 0.409, AUC: 0.705, Accuracy: 0.689, Precision: 0.718, Recall: 0.704 | Training time: 0.5\n",
      "DTC | MCC: 0.327, AUC: 0.664, Accuracy: 0.646, Precision: 0.687, Recall: 0.663 | Training time: 0.0\n",
      "XGBC | MCC: 0.451, AUC: 0.725, Accuracy: 0.708, Precision: 0.744, Recall: 0.725 | Training time: 0.2\n"
     ]
    },
    {
     "name": "stderr",
     "output_type": "stream",
     "text": [
      "100%|██████████████████████████████████████████████████████████████████████████████████| 15/15 [00:01<00:00, 12.95it/s]\n"
     ]
    },
    {
     "name": "stdout",
     "output_type": "stream",
     "text": [
      "MLPC | MCC: 0.464, AUC: 0.732, Accuracy: 0.716, Precision: 0.746, Recall: 0.732 | Training time: 9.5\n",
      "SVC | MCC: 0.461, AUC: 0.730, Accuracy: 0.721, Precision: 0.730, Recall: 0.730 | Training time: 1.0\n",
      "RFC | MCC: 0.489, AUC: 0.744, Accuracy: 0.730, Precision: 0.755, Recall: 0.744 | Training time: 0.6\n",
      "DTC | MCC: 0.339, AUC: 0.669, Accuracy: 0.640, Precision: 0.730, Recall: 0.667 | Training time: 0.0\n",
      "XGBC | MCC: 0.468, AUC: 0.734, Accuracy: 0.714, Precision: 0.758, Recall: 0.733 | Training time: 0.4\n"
     ]
    },
    {
     "name": "stderr",
     "output_type": "stream",
     "text": [
      "100%|██████████████████████████████████████████████████████████████████████████████████| 20/20 [00:01<00:00, 13.23it/s]\n"
     ]
    },
    {
     "name": "stdout",
     "output_type": "stream",
     "text": [
      "MLPC | MCC: 0.500, AUC: 0.750, Accuracy: 0.736, Precision: 0.761, Recall: 0.750 | Training time: 9.7\n",
      "SVC | MCC: 0.467, AUC: 0.733, Accuracy: 0.719, Precision: 0.744, Recall: 0.733 | Training time: 1.0\n",
      "RFC | MCC: 0.550, AUC: 0.775, Accuracy: 0.753, Precision: 0.800, Recall: 0.774 | Training time: 0.6\n",
      "DTC | MCC: 0.411, AUC: 0.705, Accuracy: 0.682, Precision: 0.738, Recall: 0.704 | Training time: 0.0\n",
      "XGBC | MCC: 0.523, AUC: 0.761, Accuracy: 0.740, Precision: 0.786, Recall: 0.761 | Training time: 0.4\n"
     ]
    },
    {
     "name": "stderr",
     "output_type": "stream",
     "text": [
      "100%|██████████████████████████████████████████████████████████████████████████████████| 25/25 [00:01<00:00, 13.35it/s]\n"
     ]
    },
    {
     "name": "stdout",
     "output_type": "stream",
     "text": [
      "MLPC | MCC: 0.517, AUC: 0.758, Accuracy: 0.725, Precision: 0.808, Recall: 0.757 | Training time: 9.1\n",
      "SVC | MCC: 0.505, AUC: 0.752, Accuracy: 0.725, Precision: 0.789, Recall: 0.751 | Training time: 1.0\n",
      "RFC | MCC: 0.576, AUC: 0.788, Accuracy: 0.780, Precision: 0.789, Recall: 0.788 | Training time: 0.8\n",
      "DTC | MCC: 0.388, AUC: 0.694, Accuracy: 0.673, Precision: 0.724, Recall: 0.693 | Training time: 0.0\n",
      "XGBC | MCC: 0.533, AUC: 0.767, Accuracy: 0.747, Precision: 0.789, Recall: 0.766 | Training time: 0.5\n"
     ]
    },
    {
     "name": "stderr",
     "output_type": "stream",
     "text": [
      "100%|██████████████████████████████████████████████████████████████████████████████████| 30/30 [00:02<00:00, 13.90it/s]\n"
     ]
    },
    {
     "name": "stdout",
     "output_type": "stream",
     "text": [
      "MLPC | MCC: 0.501, AUC: 0.750, Accuracy: 0.727, Precision: 0.780, Recall: 0.750 | Training time: 7.9\n",
      "SVC | MCC: 0.536, AUC: 0.768, Accuracy: 0.747, Precision: 0.792, Recall: 0.768 | Training time: 1.1\n",
      "RFC | MCC: 0.587, AUC: 0.794, Accuracy: 0.786, Precision: 0.794, Recall: 0.794 | Training time: 0.8\n",
      "DTC | MCC: 0.407, AUC: 0.703, Accuracy: 0.683, Precision: 0.730, Recall: 0.703 | Training time: 0.1\n",
      "XGBC | MCC: 0.546, AUC: 0.773, Accuracy: 0.745, Precision: 0.808, Recall: 0.772 | Training time: 0.6\n"
     ]
    },
    {
     "name": "stderr",
     "output_type": "stream",
     "text": [
      "100%|██████████████████████████████████████████████████████████████████████████████████| 35/35 [00:02<00:00, 14.31it/s]\n"
     ]
    },
    {
     "name": "stdout",
     "output_type": "stream",
     "text": [
      "MLPC | MCC: 0.536, AUC: 0.766, Accuracy: 0.727, Precision: 0.831, Recall: 0.765 | Training time: 8.7\n",
      "SVC | MCC: 0.534, AUC: 0.767, Accuracy: 0.745, Precision: 0.792, Recall: 0.766 | Training time: 1.0\n",
      "RFC | MCC: 0.604, AUC: 0.802, Accuracy: 0.787, Precision: 0.814, Recall: 0.802 | Training time: 0.8\n",
      "DTC | MCC: 0.400, AUC: 0.700, Accuracy: 0.674, Precision: 0.741, Recall: 0.699 | Training time: 0.1\n",
      "XGBC | MCC: 0.576, AUC: 0.788, Accuracy: 0.762, Precision: 0.820, Recall: 0.787 | Training time: 0.6\n"
     ]
    },
    {
     "name": "stderr",
     "output_type": "stream",
     "text": [
      "100%|██████████████████████████████████████████████████████████████████████████████████| 40/40 [00:02<00:00, 14.45it/s]\n"
     ]
    },
    {
     "name": "stdout",
     "output_type": "stream",
     "text": [
      "MLPC | MCC: 0.489, AUC: 0.744, Accuracy: 0.729, Precision: 0.758, Recall: 0.744 | Training time: 6.1\n",
      "SVC | MCC: 0.529, AUC: 0.764, Accuracy: 0.738, Precision: 0.800, Recall: 0.763 | Training time: 1.0\n",
      "RFC | MCC: 0.593, AUC: 0.797, Accuracy: 0.785, Precision: 0.803, Recall: 0.796 | Training time: 0.9\n",
      "DTC | MCC: 0.498, AUC: 0.749, Accuracy: 0.728, Precision: 0.775, Recall: 0.748 | Training time: 0.1\n",
      "XGBC | MCC: 0.531, AUC: 0.765, Accuracy: 0.732, Precision: 0.814, Recall: 0.763 | Training time: 0.7\n"
     ]
    },
    {
     "name": "stderr",
     "output_type": "stream",
     "text": [
      "100%|██████████████████████████████████████████████████████████████████████████████████| 45/45 [00:03<00:00, 14.88it/s]\n"
     ]
    },
    {
     "name": "stdout",
     "output_type": "stream",
     "text": [
      "MLPC | MCC: 0.537, AUC: 0.768, Accuracy: 0.742, Precision: 0.803, Recall: 0.768 | Training time: 5.2\n",
      "SVC | MCC: 0.534, AUC: 0.767, Accuracy: 0.743, Precision: 0.797, Recall: 0.766 | Training time: 1.1\n",
      "RFC | MCC: 0.593, AUC: 0.796, Accuracy: 0.790, Precision: 0.794, Recall: 0.796 | Training time: 0.9\n",
      "DTC | MCC: 0.478, AUC: 0.739, Accuracy: 0.721, Precision: 0.758, Recall: 0.739 | Training time: 0.1\n",
      "XGBC | MCC: 0.558, AUC: 0.779, Accuracy: 0.758, Precision: 0.803, Recall: 0.779 | Training time: 0.7\n"
     ]
    },
    {
     "name": "stderr",
     "output_type": "stream",
     "text": [
      "100%|██████████████████████████████████████████████████████████████████████████████████| 50/50 [00:03<00:00, 14.66it/s]\n"
     ]
    },
    {
     "name": "stdout",
     "output_type": "stream",
     "text": [
      "MLPC | MCC: 0.546, AUC: 0.773, Accuracy: 0.743, Precision: 0.814, Recall: 0.772 | Training time: 6.2\n",
      "SVC | MCC: 0.534, AUC: 0.767, Accuracy: 0.742, Precision: 0.800, Recall: 0.766 | Training time: 1.0\n",
      "RFC | MCC: 0.612, AUC: 0.806, Accuracy: 0.792, Precision: 0.817, Recall: 0.806 | Training time: 1.0\n",
      "DTC | MCC: 0.460, AUC: 0.730, Accuracy: 0.706, Precision: 0.763, Recall: 0.729 | Training time: 0.1\n",
      "XGBC | MCC: 0.563, AUC: 0.781, Accuracy: 0.751, Precision: 0.823, Recall: 0.780 | Training time: 0.8\n"
     ]
    },
    {
     "name": "stderr",
     "output_type": "stream",
     "text": [
      "100%|██████████████████████████████████████████████████████████████████████████████████| 55/55 [00:03<00:00, 15.19it/s]\n"
     ]
    },
    {
     "name": "stdout",
     "output_type": "stream",
     "text": [
      "MLPC | MCC: 0.558, AUC: 0.779, Accuracy: 0.764, Precision: 0.792, Recall: 0.779 | Training time: 5.3\n",
      "SVC | MCC: 0.524, AUC: 0.762, Accuracy: 0.734, Precision: 0.800, Recall: 0.761 | Training time: 1.1\n",
      "RFC | MCC: 0.638, AUC: 0.819, Accuracy: 0.801, Precision: 0.837, Recall: 0.818 | Training time: 1.0\n",
      "DTC | MCC: 0.448, AUC: 0.724, Accuracy: 0.706, Precision: 0.744, Recall: 0.724 | Training time: 0.1\n",
      "XGBC | MCC: 0.570, AUC: 0.785, Accuracy: 0.758, Precision: 0.820, Recall: 0.784 | Training time: 0.7\n"
     ]
    },
    {
     "name": "stderr",
     "output_type": "stream",
     "text": [
      "100%|██████████████████████████████████████████████████████████████████████████████████| 60/60 [00:03<00:00, 15.09it/s]\n"
     ]
    },
    {
     "name": "stdout",
     "output_type": "stream",
     "text": [
      "MLPC | MCC: 0.540, AUC: 0.770, Accuracy: 0.744, Precision: 0.803, Recall: 0.769 | Training time: 5.4\n",
      "SVC | MCC: 0.530, AUC: 0.764, Accuracy: 0.735, Precision: 0.806, Recall: 0.763 | Training time: 1.2\n",
      "RFC | MCC: 0.596, AUC: 0.798, Accuracy: 0.784, Precision: 0.808, Recall: 0.798 | Training time: 1.1\n",
      "DTC | MCC: 0.474, AUC: 0.737, Accuracy: 0.712, Precision: 0.772, Recall: 0.736 | Training time: 0.1\n",
      "XGBC | MCC: 0.578, AUC: 0.789, Accuracy: 0.764, Precision: 0.820, Recall: 0.788 | Training time: 0.8\n"
     ]
    },
    {
     "name": "stderr",
     "output_type": "stream",
     "text": [
      "100%|██████████████████████████████████████████████████████████████████████████████████| 65/65 [00:04<00:00, 15.36it/s]\n"
     ]
    },
    {
     "name": "stdout",
     "output_type": "stream",
     "text": [
      "MLPC | MCC: 0.537, AUC: 0.769, Accuracy: 0.769, Precision: 0.752, Recall: 0.769 | Training time: 5.5\n",
      "SVC | MCC: 0.522, AUC: 0.760, Accuracy: 0.730, Precision: 0.806, Recall: 0.759 | Training time: 1.0\n",
      "RFC | MCC: 0.648, AUC: 0.824, Accuracy: 0.813, Precision: 0.831, Recall: 0.824 | Training time: 1.2\n",
      "DTC | MCC: 0.527, AUC: 0.763, Accuracy: 0.753, Precision: 0.766, Recall: 0.763 | Training time: 0.2\n",
      "XGBC | MCC: 0.594, AUC: 0.797, Accuracy: 0.779, Precision: 0.814, Recall: 0.796 | Training time: 0.8\n"
     ]
    },
    {
     "name": "stderr",
     "output_type": "stream",
     "text": [
      "100%|██████████████████████████████████████████████████████████████████████████████████| 70/70 [00:04<00:00, 15.35it/s]\n"
     ]
    },
    {
     "name": "stdout",
     "output_type": "stream",
     "text": [
      "MLPC | MCC: 0.548, AUC: 0.774, Accuracy: 0.749, Precision: 0.806, Recall: 0.773 | Training time: 7.1\n",
      "SVC | MCC: 0.538, AUC: 0.768, Accuracy: 0.740, Precision: 0.808, Recall: 0.768 | Training time: 1.1\n",
      "RFC | MCC: 0.635, AUC: 0.817, Accuracy: 0.800, Precision: 0.834, Recall: 0.817 | Training time: 1.1\n",
      "DTC | MCC: 0.453, AUC: 0.727, Accuracy: 0.711, Precision: 0.741, Recall: 0.726 | Training time: 0.1\n",
      "XGBC | MCC: 0.584, AUC: 0.792, Accuracy: 0.764, Precision: 0.828, Recall: 0.791 | Training time: 0.8\n"
     ]
    },
    {
     "name": "stderr",
     "output_type": "stream",
     "text": [
      "100%|██████████████████████████████████████████████████████████████████████████████████| 75/75 [00:04<00:00, 15.96it/s]\n"
     ]
    },
    {
     "name": "stdout",
     "output_type": "stream",
     "text": [
      "MLPC | MCC: 0.587, AUC: 0.794, Accuracy: 0.784, Precision: 0.797, Recall: 0.794 | Training time: 6.2\n",
      "SVC | MCC: 0.551, AUC: 0.775, Accuracy: 0.748, Precision: 0.811, Recall: 0.774 | Training time: 1.1\n",
      "RFC | MCC: 0.621, AUC: 0.810, Accuracy: 0.796, Precision: 0.823, Recall: 0.810 | Training time: 1.1\n",
      "DTC | MCC: 0.441, AUC: 0.721, Accuracy: 0.713, Precision: 0.715, Recall: 0.721 | Training time: 0.2\n",
      "XGBC | MCC: 0.602, AUC: 0.801, Accuracy: 0.781, Precision: 0.823, Recall: 0.801 | Training time: 0.9\n"
     ]
    },
    {
     "name": "stderr",
     "output_type": "stream",
     "text": [
      "100%|██████████████████████████████████████████████████████████████████████████████████| 80/80 [00:04<00:00, 16.28it/s]\n"
     ]
    },
    {
     "name": "stdout",
     "output_type": "stream",
     "text": [
      "MLPC | MCC: 0.552, AUC: 0.774, Accuracy: 0.735, Precision: 0.837, Recall: 0.773 | Training time: 5.4\n",
      "SVC | MCC: 0.549, AUC: 0.774, Accuracy: 0.744, Precision: 0.817, Recall: 0.773 | Training time: 1.1\n",
      "RFC | MCC: 0.635, AUC: 0.817, Accuracy: 0.802, Precision: 0.831, Recall: 0.817 | Training time: 1.1\n",
      "DTC | MCC: 0.450, AUC: 0.725, Accuracy: 0.715, Precision: 0.727, Recall: 0.725 | Training time: 0.2\n",
      "XGBC | MCC: 0.593, AUC: 0.797, Accuracy: 0.784, Precision: 0.806, Recall: 0.796 | Training time: 1.0\n"
     ]
    },
    {
     "name": "stderr",
     "output_type": "stream",
     "text": [
      "100%|██████████████████████████████████████████████████████████████████████████████████| 85/85 [00:05<00:00, 16.32it/s]\n"
     ]
    },
    {
     "name": "stdout",
     "output_type": "stream",
     "text": [
      "MLPC | MCC: 0.574, AUC: 0.786, Accuracy: 0.745, Precision: 0.848, Recall: 0.784 | Training time: 6.6\n",
      "SVC | MCC: 0.549, AUC: 0.774, Accuracy: 0.744, Precision: 0.817, Recall: 0.773 | Training time: 1.2\n",
      "RFC | MCC: 0.618, AUC: 0.809, Accuracy: 0.798, Precision: 0.814, Recall: 0.809 | Training time: 1.2\n",
      "DTC | MCC: 0.453, AUC: 0.726, Accuracy: 0.714, Precision: 0.732, Recall: 0.726 | Training time: 0.2\n",
      "XGBC | MCC: 0.607, AUC: 0.804, Accuracy: 0.788, Precision: 0.817, Recall: 0.803 | Training time: 1.0\n"
     ]
    },
    {
     "name": "stderr",
     "output_type": "stream",
     "text": [
      "100%|██████████████████████████████████████████████████████████████████████████████████| 90/90 [00:05<00:00, 16.19it/s]\n"
     ]
    },
    {
     "name": "stdout",
     "output_type": "stream",
     "text": [
      "MLPC | MCC: 0.610, AUC: 0.805, Accuracy: 0.792, Precision: 0.814, Recall: 0.805 | Training time: 5.5\n",
      "SVC | MCC: 0.545, AUC: 0.771, Accuracy: 0.739, Precision: 0.820, Recall: 0.770 | Training time: 1.3\n",
      "RFC | MCC: 0.623, AUC: 0.812, Accuracy: 0.798, Precision: 0.823, Recall: 0.812 | Training time: 1.2\n",
      "DTC | MCC: 0.462, AUC: 0.731, Accuracy: 0.714, Precision: 0.746, Recall: 0.730 | Training time: 0.2\n",
      "XGBC | MCC: 0.602, AUC: 0.801, Accuracy: 0.782, Precision: 0.820, Recall: 0.801 | Training time: 1.0\n"
     ]
    },
    {
     "name": "stderr",
     "output_type": "stream",
     "text": [
      "100%|██████████████████████████████████████████████████████████████████████████████████| 95/95 [00:05<00:00, 16.85it/s]\n"
     ]
    },
    {
     "name": "stdout",
     "output_type": "stream",
     "text": [
      "MLPC | MCC: 0.574, AUC: 0.787, Accuracy: 0.769, Precision: 0.806, Recall: 0.787 | Training time: 4.5\n",
      "SVC | MCC: 0.547, AUC: 0.773, Accuracy: 0.740, Precision: 0.820, Recall: 0.772 | Training time: 1.4\n",
      "RFC | MCC: 0.624, AUC: 0.812, Accuracy: 0.793, Precision: 0.831, Recall: 0.812 | Training time: 1.2\n",
      "DTC | MCC: 0.447, AUC: 0.724, Accuracy: 0.710, Precision: 0.732, Recall: 0.724 | Training time: 0.2\n",
      "XGBC | MCC: 0.597, AUC: 0.798, Accuracy: 0.775, Precision: 0.825, Recall: 0.798 | Training time: 1.1\n"
     ]
    },
    {
     "name": "stderr",
     "output_type": "stream",
     "text": [
      "100%|████████████████████████████████████████████████████████████████████████████████| 100/100 [00:05<00:00, 17.18it/s]\n"
     ]
    },
    {
     "name": "stdout",
     "output_type": "stream",
     "text": [
      "MLPC | MCC: 0.602, AUC: 0.801, Accuracy: 0.782, Precision: 0.820, Recall: 0.801 | Training time: 6.5\n",
      "SVC | MCC: 0.539, AUC: 0.769, Accuracy: 0.736, Precision: 0.817, Recall: 0.768 | Training time: 1.2\n",
      "RFC | MCC: 0.621, AUC: 0.811, Accuracy: 0.791, Precision: 0.831, Recall: 0.810 | Training time: 1.3\n",
      "DTC | MCC: 0.476, AUC: 0.738, Accuracy: 0.715, Precision: 0.769, Recall: 0.737 | Training time: 0.2\n",
      "XGBC | MCC: 0.578, AUC: 0.789, Accuracy: 0.768, Precision: 0.811, Recall: 0.788 | Training time: 1.1\n"
     ]
    },
    {
     "name": "stderr",
     "output_type": "stream",
     "text": [
      "100%|████████████████████████████████████████████████████████████████████████████████| 105/105 [00:06<00:00, 16.92it/s]\n"
     ]
    },
    {
     "name": "stdout",
     "output_type": "stream",
     "text": [
      "MLPC | MCC: 0.569, AUC: 0.784, Accuracy: 0.769, Precision: 0.797, Recall: 0.784 | Training time: 6.7\n",
      "SVC | MCC: 0.563, AUC: 0.781, Accuracy: 0.752, Precision: 0.820, Recall: 0.780 | Training time: 1.3\n",
      "RFC | MCC: 0.643, AUC: 0.822, Accuracy: 0.803, Precision: 0.839, Recall: 0.821 | Training time: 1.3\n",
      "DTC | MCC: 0.507, AUC: 0.753, Accuracy: 0.727, Precision: 0.789, Recall: 0.752 | Training time: 0.2\n",
      "XGBC | MCC: 0.613, AUC: 0.806, Accuracy: 0.774, Precision: 0.848, Recall: 0.805 | Training time: 1.1\n"
     ]
    },
    {
     "name": "stderr",
     "output_type": "stream",
     "text": [
      "100%|████████████████████████████████████████████████████████████████████████████████| 110/110 [00:06<00:00, 17.54it/s]\n"
     ]
    },
    {
     "name": "stdout",
     "output_type": "stream",
     "text": [
      "MLPC | MCC: 0.557, AUC: 0.778, Accuracy: 0.787, Precision: 0.749, Recall: 0.779 | Training time: 7.0\n",
      "SVC | MCC: 0.554, AUC: 0.777, Accuracy: 0.750, Precision: 0.811, Recall: 0.776 | Training time: 1.5\n",
      "RFC | MCC: 0.647, AUC: 0.823, Accuracy: 0.797, Precision: 0.854, Recall: 0.823 | Training time: 1.3\n",
      "DTC | MCC: 0.479, AUC: 0.739, Accuracy: 0.715, Precision: 0.772, Recall: 0.739 | Training time: 0.2\n",
      "XGBC | MCC: 0.592, AUC: 0.796, Accuracy: 0.770, Precision: 0.828, Recall: 0.795 | Training time: 1.2\n"
     ]
    },
    {
     "name": "stderr",
     "output_type": "stream",
     "text": [
      "100%|████████████████████████████████████████████████████████████████████████████████| 115/115 [00:06<00:00, 17.49it/s]\n"
     ]
    },
    {
     "name": "stdout",
     "output_type": "stream",
     "text": [
      "MLPC | MCC: 0.596, AUC: 0.798, Accuracy: 0.789, Precision: 0.800, Recall: 0.798 | Training time: 6.7\n",
      "SVC | MCC: 0.567, AUC: 0.783, Accuracy: 0.759, Precision: 0.814, Recall: 0.783 | Training time: 1.4\n",
      "RFC | MCC: 0.632, AUC: 0.816, Accuracy: 0.804, Precision: 0.823, Recall: 0.816 | Training time: 1.4\n",
      "DTC | MCC: 0.495, AUC: 0.747, Accuracy: 0.727, Precision: 0.772, Recall: 0.747 | Training time: 0.2\n",
      "XGBC | MCC: 0.569, AUC: 0.784, Accuracy: 0.766, Precision: 0.803, Recall: 0.784 | Training time: 1.3\n"
     ]
    },
    {
     "name": "stderr",
     "output_type": "stream",
     "text": [
      "100%|████████████████████████████████████████████████████████████████████████████████| 120/120 [00:06<00:00, 17.89it/s]\n"
     ]
    },
    {
     "name": "stdout",
     "output_type": "stream",
     "text": [
      "MLPC | MCC: 0.559, AUC: 0.778, Accuracy: 0.744, Precision: 0.828, Recall: 0.777 | Training time: 6.4\n",
      "SVC | MCC: 0.564, AUC: 0.782, Accuracy: 0.758, Precision: 0.811, Recall: 0.781 | Training time: 1.4\n",
      "RFC | MCC: 0.641, AUC: 0.820, Accuracy: 0.801, Precision: 0.839, Recall: 0.820 | Training time: 1.3\n",
      "DTC | MCC: 0.495, AUC: 0.747, Accuracy: 0.727, Precision: 0.772, Recall: 0.747 | Training time: 0.2\n",
      "XGBC | MCC: 0.603, AUC: 0.801, Accuracy: 0.776, Precision: 0.831, Recall: 0.801 | Training time: 1.3\n"
     ]
    },
    {
     "name": "stderr",
     "output_type": "stream",
     "text": [
      "100%|████████████████████████████████████████████████████████████████████████████████| 125/125 [00:06<00:00, 18.10it/s]\n"
     ]
    },
    {
     "name": "stdout",
     "output_type": "stream",
     "text": [
      "MLPC | MCC: 0.538, AUC: 0.769, Accuracy: 0.759, Precision: 0.772, Recall: 0.769 | Training time: 8.8\n",
      "SVC | MCC: 0.573, AUC: 0.786, Accuracy: 0.763, Precision: 0.814, Recall: 0.785 | Training time: 1.6\n",
      "RFC | MCC: 0.635, AUC: 0.817, Accuracy: 0.802, Precision: 0.831, Recall: 0.817 | Training time: 1.4\n",
      "DTC | MCC: 0.451, AUC: 0.725, Accuracy: 0.708, Precision: 0.744, Recall: 0.725 | Training time: 0.2\n",
      "XGBC | MCC: 0.608, AUC: 0.804, Accuracy: 0.779, Precision: 0.834, Recall: 0.803 | Training time: 1.3\n"
     ]
    },
    {
     "name": "stderr",
     "output_type": "stream",
     "text": [
      "100%|████████████████████████████████████████████████████████████████████████████████| 130/130 [00:07<00:00, 18.45it/s]\n"
     ]
    },
    {
     "name": "stdout",
     "output_type": "stream",
     "text": [
      "MLPC | MCC: 0.538, AUC: 0.768, Accuracy: 0.740, Precision: 0.808, Recall: 0.768 | Training time: 6.0\n",
      "SVC | MCC: 0.564, AUC: 0.782, Accuracy: 0.758, Precision: 0.811, Recall: 0.781 | Training time: 1.4\n",
      "RFC | MCC: 0.616, AUC: 0.808, Accuracy: 0.787, Precision: 0.831, Recall: 0.807 | Training time: 1.4\n",
      "DTC | MCC: 0.480, AUC: 0.740, Accuracy: 0.712, Precision: 0.780, Recall: 0.739 | Training time: 0.3\n",
      "XGBC | MCC: 0.612, AUC: 0.806, Accuracy: 0.792, Precision: 0.817, Recall: 0.806 | Training time: 1.3\n"
     ]
    },
    {
     "name": "stderr",
     "output_type": "stream",
     "text": [
      "100%|████████████████████████████████████████████████████████████████████████████████| 135/135 [00:07<00:00, 18.59it/s]\n"
     ]
    },
    {
     "name": "stdout",
     "output_type": "stream",
     "text": [
      "MLPC | MCC: 0.545, AUC: 0.772, Accuracy: 0.751, Precision: 0.797, Recall: 0.772 | Training time: 6.5\n",
      "SVC | MCC: 0.564, AUC: 0.782, Accuracy: 0.758, Precision: 0.811, Recall: 0.781 | Training time: 1.7\n",
      "RFC | MCC: 0.610, AUC: 0.805, Accuracy: 0.792, Precision: 0.814, Recall: 0.805 | Training time: 1.5\n",
      "DTC | MCC: 0.478, AUC: 0.739, Accuracy: 0.721, Precision: 0.758, Recall: 0.739 | Training time: 0.3\n",
      "XGBC | MCC: 0.593, AUC: 0.797, Accuracy: 0.780, Precision: 0.811, Recall: 0.796 | Training time: 1.4\n"
     ]
    },
    {
     "name": "stderr",
     "output_type": "stream",
     "text": [
      "100%|████████████████████████████████████████████████████████████████████████████████| 140/140 [00:07<00:00, 18.90it/s]\n"
     ]
    },
    {
     "name": "stdout",
     "output_type": "stream",
     "text": [
      "MLPC | MCC: 0.562, AUC: 0.781, Accuracy: 0.755, Precision: 0.814, Recall: 0.780 | Training time: 6.7\n",
      "SVC | MCC: 0.572, AUC: 0.786, Accuracy: 0.764, Precision: 0.811, Recall: 0.785 | Training time: 1.7\n",
      "RFC | MCC: 0.621, AUC: 0.810, Accuracy: 0.797, Precision: 0.820, Recall: 0.810 | Training time: 1.5\n",
      "DTC | MCC: 0.453, AUC: 0.726, Accuracy: 0.713, Precision: 0.735, Recall: 0.726 | Training time: 0.3\n",
      "XGBC | MCC: 0.594, AUC: 0.797, Accuracy: 0.775, Precision: 0.823, Recall: 0.796 | Training time: 1.4\n"
     ]
    },
    {
     "name": "stderr",
     "output_type": "stream",
     "text": [
      "100%|████████████████████████████████████████████████████████████████████████████████| 145/145 [00:07<00:00, 18.95it/s]\n"
     ]
    },
    {
     "name": "stdout",
     "output_type": "stream",
     "text": [
      "MLPC | MCC: 0.569, AUC: 0.784, Accuracy: 0.766, Precision: 0.803, Recall: 0.784 | Training time: 6.0\n",
      "SVC | MCC: 0.581, AUC: 0.790, Accuracy: 0.767, Precision: 0.817, Recall: 0.790 | Training time: 1.6\n",
      "RFC | MCC: 0.641, AUC: 0.820, Accuracy: 0.798, Precision: 0.845, Recall: 0.820 | Training time: 1.6\n",
      "DTC | MCC: 0.407, AUC: 0.704, Accuracy: 0.682, Precision: 0.732, Recall: 0.703 | Training time: 0.3\n",
      "XGBC | MCC: 0.562, AUC: 0.781, Accuracy: 0.755, Precision: 0.814, Recall: 0.780 | Training time: 1.7\n"
     ]
    },
    {
     "name": "stderr",
     "output_type": "stream",
     "text": [
      "100%|████████████████████████████████████████████████████████████████████████████████| 150/150 [00:07<00:00, 19.24it/s]\n"
     ]
    },
    {
     "name": "stdout",
     "output_type": "stream",
     "text": [
      "MLPC | MCC: 0.569, AUC: 0.785, Accuracy: 0.765, Precision: 0.806, Recall: 0.784 | Training time: 5.0\n",
      "SVC | MCC: 0.586, AUC: 0.793, Accuracy: 0.771, Precision: 0.817, Recall: 0.792 | Training time: 1.7\n",
      "RFC | MCC: 0.634, AUC: 0.817, Accuracy: 0.812, Precision: 0.814, Recall: 0.817 | Training time: 1.6\n",
      "DTC | MCC: 0.448, AUC: 0.724, Accuracy: 0.704, Precision: 0.749, Recall: 0.724 | Training time: 0.3\n",
      "XGBC | MCC: 0.596, AUC: 0.798, Accuracy: 0.780, Precision: 0.817, Recall: 0.798 | Training time: 1.6\n"
     ]
    },
    {
     "name": "stderr",
     "output_type": "stream",
     "text": [
      "100%|████████████████████████████████████████████████████████████████████████████████| 155/155 [00:08<00:00, 19.30it/s]\n"
     ]
    },
    {
     "name": "stdout",
     "output_type": "stream",
     "text": [
      "MLPC | MCC: 0.615, AUC: 0.808, Accuracy: 0.791, Precision: 0.823, Recall: 0.807 | Training time: 5.8\n",
      "SVC | MCC: 0.580, AUC: 0.790, Accuracy: 0.769, Precision: 0.814, Recall: 0.790 | Training time: 1.9\n",
      "RFC | MCC: 0.629, AUC: 0.815, Accuracy: 0.799, Precision: 0.828, Recall: 0.814 | Training time: 1.6\n",
      "DTC | MCC: 0.447, AUC: 0.724, Accuracy: 0.710, Precision: 0.732, Recall: 0.724 | Training time: 0.3\n",
      "XGBC | MCC: 0.595, AUC: 0.797, Accuracy: 0.769, Precision: 0.834, Recall: 0.796 | Training time: 1.6\n"
     ]
    },
    {
     "name": "stderr",
     "output_type": "stream",
     "text": [
      "100%|████████████████████████████████████████████████████████████████████████████████| 160/160 [00:08<00:00, 19.89it/s]\n"
     ]
    },
    {
     "name": "stdout",
     "output_type": "stream",
     "text": [
      "MLPC | MCC: 0.571, AUC: 0.786, Accuracy: 0.773, Precision: 0.794, Recall: 0.785 | Training time: 4.5\n",
      "SVC | MCC: 0.572, AUC: 0.786, Accuracy: 0.764, Precision: 0.811, Recall: 0.785 | Training time: 1.8\n",
      "RFC | MCC: 0.635, AUC: 0.817, Accuracy: 0.802, Precision: 0.831, Recall: 0.817 | Training time: 1.6\n",
      "DTC | MCC: 0.467, AUC: 0.733, Accuracy: 0.718, Precision: 0.746, Recall: 0.733 | Training time: 0.4\n",
      "XGBC | MCC: 0.599, AUC: 0.799, Accuracy: 0.785, Precision: 0.811, Recall: 0.799 | Training time: 1.6\n"
     ]
    },
    {
     "name": "stderr",
     "output_type": "stream",
     "text": [
      "100%|████████████████████████████████████████████████████████████████████████████████| 165/165 [00:08<00:00, 20.10it/s]\n"
     ]
    },
    {
     "name": "stdout",
     "output_type": "stream",
     "text": [
      "MLPC | MCC: 0.586, AUC: 0.793, Accuracy: 0.768, Precision: 0.823, Recall: 0.792 | Training time: 7.8\n",
      "SVC | MCC: 0.575, AUC: 0.787, Accuracy: 0.765, Precision: 0.814, Recall: 0.787 | Training time: 1.9\n",
      "RFC | MCC: 0.646, AUC: 0.823, Accuracy: 0.804, Precision: 0.842, Recall: 0.823 | Training time: 1.7\n",
      "DTC | MCC: 0.414, AUC: 0.707, Accuracy: 0.693, Precision: 0.718, Recall: 0.707 | Training time: 0.4\n",
      "XGBC | MCC: 0.599, AUC: 0.799, Accuracy: 0.786, Precision: 0.808, Recall: 0.799 | Training time: 1.8\n"
     ]
    },
    {
     "name": "stderr",
     "output_type": "stream",
     "text": [
      "100%|████████████████████████████████████████████████████████████████████████████████| 170/170 [00:08<00:00, 20.38it/s]\n"
     ]
    },
    {
     "name": "stdout",
     "output_type": "stream",
     "text": [
      "MLPC | MCC: 0.569, AUC: 0.785, Accuracy: 0.765, Precision: 0.806, Recall: 0.784 | Training time: 6.0\n",
      "SVC | MCC: 0.570, AUC: 0.785, Accuracy: 0.761, Precision: 0.814, Recall: 0.784 | Training time: 2.2\n",
      "RFC | MCC: 0.638, AUC: 0.819, Accuracy: 0.797, Precision: 0.842, Recall: 0.818 | Training time: 1.8\n",
      "DTC | MCC: 0.457, AUC: 0.728, Accuracy: 0.707, Precision: 0.755, Recall: 0.728 | Training time: 0.4\n",
      "XGBC | MCC: 0.599, AUC: 0.800, Accuracy: 0.783, Precision: 0.814, Recall: 0.799 | Training time: 1.8\n"
     ]
    },
    {
     "name": "stderr",
     "output_type": "stream",
     "text": [
      "100%|████████████████████████████████████████████████████████████████████████████████| 175/175 [00:08<00:00, 20.40it/s]\n"
     ]
    },
    {
     "name": "stdout",
     "output_type": "stream",
     "text": [
      "MLPC | MCC: 0.580, AUC: 0.790, Accuracy: 0.772, Precision: 0.808, Recall: 0.790 | Training time: 6.0\n",
      "SVC | MCC: 0.573, AUC: 0.786, Accuracy: 0.763, Precision: 0.814, Recall: 0.785 | Training time: 2.2\n",
      "RFC | MCC: 0.649, AUC: 0.824, Accuracy: 0.806, Precision: 0.842, Recall: 0.824 | Training time: 1.8\n",
      "DTC | MCC: 0.470, AUC: 0.735, Accuracy: 0.720, Precision: 0.746, Recall: 0.735 | Training time: 0.4\n",
      "XGBC | MCC: 0.604, AUC: 0.802, Accuracy: 0.787, Precision: 0.814, Recall: 0.802 | Training time: 1.9\n"
     ]
    },
    {
     "name": "stderr",
     "output_type": "stream",
     "text": [
      "100%|████████████████████████████████████████████████████████████████████████████████| 180/180 [00:08<00:00, 20.54it/s]\n"
     ]
    },
    {
     "name": "stdout",
     "output_type": "stream",
     "text": [
      "MLPC | MCC: 0.571, AUC: 0.785, Accuracy: 0.779, Precision: 0.783, Recall: 0.785 | Training time: 5.4\n",
      "SVC | MCC: 0.567, AUC: 0.783, Accuracy: 0.761, Precision: 0.808, Recall: 0.783 | Training time: 2.1\n",
      "RFC | MCC: 0.632, AUC: 0.816, Accuracy: 0.803, Precision: 0.825, Recall: 0.816 | Training time: 1.9\n",
      "DTC | MCC: 0.451, AUC: 0.725, Accuracy: 0.708, Precision: 0.744, Recall: 0.725 | Training time: 0.5\n",
      "XGBC | MCC: 0.612, AUC: 0.806, Accuracy: 0.792, Precision: 0.817, Recall: 0.806 | Training time: 1.9\n"
     ]
    },
    {
     "name": "stderr",
     "output_type": "stream",
     "text": [
      "100%|████████████████████████████████████████████████████████████████████████████████| 185/185 [00:08<00:00, 20.99it/s]\n"
     ]
    },
    {
     "name": "stdout",
     "output_type": "stream",
     "text": [
      "MLPC | MCC: 0.579, AUC: 0.789, Accuracy: 0.761, Precision: 0.825, Recall: 0.788 | Training time: 5.8\n",
      "SVC | MCC: 0.575, AUC: 0.787, Accuracy: 0.765, Precision: 0.814, Recall: 0.787 | Training time: 2.3\n",
      "RFC | MCC: 0.634, AUC: 0.817, Accuracy: 0.803, Precision: 0.828, Recall: 0.817 | Training time: 1.9\n",
      "DTC | MCC: 0.461, AUC: 0.730, Accuracy: 0.721, Precision: 0.730, Recall: 0.730 | Training time: 0.5\n",
      "XGBC | MCC: 0.608, AUC: 0.804, Accuracy: 0.782, Precision: 0.828, Recall: 0.803 | Training time: 1.9\n"
     ]
    },
    {
     "name": "stderr",
     "output_type": "stream",
     "text": [
      "100%|████████████████████████████████████████████████████████████████████████████████| 190/190 [00:08<00:00, 21.39it/s]\n"
     ]
    },
    {
     "name": "stdout",
     "output_type": "stream",
     "text": [
      "MLPC | MCC: 0.584, AUC: 0.792, Accuracy: 0.766, Precision: 0.823, Recall: 0.791 | Training time: 8.8\n",
      "SVC | MCC: 0.581, AUC: 0.790, Accuracy: 0.767, Precision: 0.817, Recall: 0.790 | Training time: 2.4\n",
      "RFC | MCC: 0.629, AUC: 0.815, Accuracy: 0.797, Precision: 0.831, Recall: 0.814 | Training time: 1.9\n",
      "DTC | MCC: 0.484, AUC: 0.742, Accuracy: 0.720, Precision: 0.769, Recall: 0.741 | Training time: 0.5\n",
      "XGBC | MCC: 0.616, AUC: 0.808, Accuracy: 0.785, Precision: 0.834, Recall: 0.807 | Training time: 2.1\n"
     ]
    },
    {
     "name": "stderr",
     "output_type": "stream",
     "text": [
      "100%|████████████████████████████████████████████████████████████████████████████████| 195/195 [00:09<00:00, 21.58it/s]\n"
     ]
    },
    {
     "name": "stdout",
     "output_type": "stream",
     "text": [
      "MLPC | MCC: 0.570, AUC: 0.785, Accuracy: 0.758, Precision: 0.820, Recall: 0.784 | Training time: 5.1\n",
      "SVC | MCC: 0.583, AUC: 0.792, Accuracy: 0.769, Precision: 0.817, Recall: 0.791 | Training time: 2.3\n",
      "RFC | MCC: 0.640, AUC: 0.820, Accuracy: 0.806, Precision: 0.831, Recall: 0.820 | Training time: 1.9\n",
      "DTC | MCC: 0.451, AUC: 0.725, Accuracy: 0.706, Precision: 0.749, Recall: 0.725 | Training time: 0.5\n",
      "XGBC | MCC: 0.632, AUC: 0.816, Accuracy: 0.799, Precision: 0.831, Recall: 0.816 | Training time: 2.1\n"
     ]
    },
    {
     "name": "stderr",
     "output_type": "stream",
     "text": [
      "100%|████████████████████████████████████████████████████████████████████████████████| 200/200 [00:11<00:00, 16.68it/s]\n"
     ]
    },
    {
     "name": "stdout",
     "output_type": "stream",
     "text": [
      "MLPC | MCC: 0.582, AUC: 0.791, Accuracy: 0.777, Precision: 0.803, Recall: 0.791 | Training time: 7.2\n",
      "SVC | MCC: 0.575, AUC: 0.787, Accuracy: 0.767, Precision: 0.808, Recall: 0.787 | Training time: 2.4\n",
      "RFC | MCC: 0.618, AUC: 0.809, Accuracy: 0.795, Precision: 0.820, Recall: 0.809 | Training time: 2.1\n",
      "DTC | MCC: 0.497, AUC: 0.748, Accuracy: 0.718, Precision: 0.794, Recall: 0.747 | Training time: 0.5\n",
      "XGBC | MCC: 0.618, AUC: 0.809, Accuracy: 0.795, Precision: 0.820, Recall: 0.809 | Training time: 2.2\n"
     ]
    },
    {
     "name": "stderr",
     "output_type": "stream",
     "text": [
      "100%|████████████████████████████████████████████████████████████████████████████████| 202/202 [00:14<00:00, 14.10it/s]\n"
     ]
    },
    {
     "name": "stdout",
     "output_type": "stream",
     "text": [
      "MLPC | MCC: 0.598, AUC: 0.799, Accuracy: 0.798, Precision: 0.789, Recall: 0.799 | Training time: 5.6\n",
      "SVC | MCC: 0.583, AUC: 0.791, Accuracy: 0.771, Precision: 0.814, Recall: 0.791 | Training time: 2.5\n",
      "RFC | MCC: 0.652, AUC: 0.826, Accuracy: 0.805, Precision: 0.848, Recall: 0.825 | Training time: 2.1\n",
      "DTC | MCC: 0.453, AUC: 0.726, Accuracy: 0.698, Precision: 0.769, Recall: 0.725 | Training time: 0.5\n",
      "XGBC | MCC: 0.618, AUC: 0.809, Accuracy: 0.790, Precision: 0.828, Recall: 0.809 | Training time: 2.2\n"
     ]
    }
   ],
   "source": [
    "models_mrmr, results_mrmr, num_sel_feat_mrmr, features_mrmr = fs_mrmr(X_train, y_train, X_val, y_val, X_train_norm, X_val_norm, True)"
   ]
  },
  {
   "cell_type": "code",
   "execution_count": 38,
   "id": "e33ba60f",
   "metadata": {},
   "outputs": [
    {
     "data": {
      "image/png": "[encoded data removed]",
      "text/plain": [
       "<Figure size 950x380 with 1 Axes>"
      ]
     },
     "metadata": {},
     "output_type": "display_data"
    }
   ],
   "source": [
    "mcc_mrmr, auc_mrmr = plot_fs_metrics(num_sel_feat_mrmr, results_mrmr, 'MRMR', True)"
   ]
  },
  {
   "cell_type": "code",
   "execution_count": 46,
   "id": "d51ace14",
   "metadata": {},
   "outputs": [
    {
     "name": "stdout",
     "output_type": "stream",
     "text": [
      "Number of features that will be employed: 65\n"
     ]
    }
   ],
   "source": [
    "# Take selected features by MRMR\n",
    "idx = get_pos_features(mcc_mrmr, True)\n",
    "print('Number of features that will be employed:',len(features_mrmr[idx]))\n",
    "selected_features_mrmr = features_mrmr[idx]"
   ]
  },
  {
   "cell_type": "code",
   "execution_count": 16,
   "id": "55961c76",
   "metadata": {},
   "outputs": [
    {
     "name": "stdout",
     "output_type": "stream",
     "text": [
      "{'n_estimators': 300, 'min_samples_split': 5, 'min_samples_leaf': 1, 'max_features': 'log2', 'max_depth': None, 'bootstrap': False}\n",
      "MCC: 0.642969, AUC: 0.821536, PRECISION: 0.804878, RECALL: 0.836620, ACCURACY: 0.821183\n"
     ]
    }
   ],
   "source": [
    "rnd_models_mrmr, metrics_rnd_mrmr = apply_randsearch(X_train[selected_features_mrmr]\n",
    "                                                        , y_train                                                       \n",
    "                                                        , X_val[selected_features_mrmr]\n",
    "                                                        , y_val\n",
    "                                                        , True\n",
    "                                                        , X_train_norm[selected_features_mrmr]\n",
    "                                                        , X_val_norm[selected_features_mrmr])"
   ]
  },
  {
   "cell_type": "markdown",
   "id": "782d8612",
   "metadata": {},
   "source": [
    "## RELIEFF"
   ]
  },
  {
   "cell_type": "code",
   "execution_count": 17,
   "id": "258f3591",
   "metadata": {},
   "outputs": [
    {
     "name": "stdout",
     "output_type": "stream",
     "text": [
      "\n",
      "=======================Selected features 10/207 =======================\n",
      "MLPC | MCC: 0.474, AUC: 0.736, Accuracy: 0.703, Precision: 0.792, Recall: 0.735 | Training time: 9.6\n",
      "SVC | MCC: 0.416, AUC: 0.706, Accuracy: 0.669, Precision: 0.780, Recall: 0.704 | Training time: 0.9\n",
      "RFC | MCC: 0.585, AUC: 0.793, Accuracy: 0.776, Precision: 0.808, Recall: 0.792 | Training time: 0.8\n",
      "DTC | MCC: 0.439, AUC: 0.719, Accuracy: 0.692, Precision: 0.761, Recall: 0.718 | Training time: 0.0\n",
      "XGBC | MCC: 0.579, AUC: 0.789, Accuracy: 0.760, Precision: 0.828, Recall: 0.788 | Training time: 0.4\n",
      "\n",
      "=======================Selected features 15/207 =======================\n",
      "MLPC | MCC: 0.487, AUC: 0.743, Accuracy: 0.721, Precision: 0.772, Recall: 0.743 | Training time: 9.2\n",
      "SVC | MCC: 0.455, AUC: 0.726, Accuracy: 0.693, Precision: 0.783, Recall: 0.725 | Training time: 1.0\n",
      "RFC | MCC: 0.591, AUC: 0.795, Accuracy: 0.778, Precision: 0.811, Recall: 0.795 | Training time: 0.8\n",
      "DTC | MCC: 0.507, AUC: 0.753, Accuracy: 0.728, Precision: 0.786, Recall: 0.752 | Training time: 0.0\n",
      "XGBC | MCC: 0.568, AUC: 0.783, Accuracy: 0.757, Precision: 0.817, Recall: 0.783 | Training time: 0.5\n",
      "\n",
      "=======================Selected features 20/207 =======================\n",
      "MLPC | MCC: 0.503, AUC: 0.751, Accuracy: 0.734, Precision: 0.769, Recall: 0.751 | Training time: 10.4\n",
      "SVC | MCC: 0.480, AUC: 0.739, Accuracy: 0.704, Precision: 0.797, Recall: 0.737 | Training time: 1.0\n",
      "RFC | MCC: 0.599, AUC: 0.800, Accuracy: 0.783, Precision: 0.814, Recall: 0.799 | Training time: 1.0\n",
      "DTC | MCC: 0.474, AUC: 0.737, Accuracy: 0.713, Precision: 0.769, Recall: 0.736 | Training time: 0.1\n",
      "XGBC | MCC: 0.575, AUC: 0.787, Accuracy: 0.766, Precision: 0.811, Recall: 0.787 | Training time: 0.6\n",
      "\n",
      "=======================Selected features 25/207 =======================\n",
      "MLPC | MCC: 0.536, AUC: 0.768, Accuracy: 0.750, Precision: 0.786, Recall: 0.768 | Training time: 7.5\n",
      "SVC | MCC: 0.524, AUC: 0.762, Accuracy: 0.734, Precision: 0.800, Recall: 0.761 | Training time: 1.1\n",
      "RFC | MCC: 0.619, AUC: 0.809, Accuracy: 0.787, Precision: 0.834, Recall: 0.809 | Training time: 1.2\n",
      "DTC | MCC: 0.448, AUC: 0.723, Accuracy: 0.695, Precision: 0.769, Recall: 0.722 | Training time: 0.1\n",
      "XGBC | MCC: 0.595, AUC: 0.797, Accuracy: 0.769, Precision: 0.834, Recall: 0.796 | Training time: 0.7\n",
      "\n",
      "=======================Selected features 30/207 =======================\n",
      "MLPC | MCC: 0.592, AUC: 0.796, Accuracy: 0.771, Precision: 0.825, Recall: 0.795 | Training time: 7.7\n",
      "SVC | MCC: 0.517, AUC: 0.758, Accuracy: 0.740, Precision: 0.777, Recall: 0.758 | Training time: 1.1\n",
      "RFC | MCC: 0.613, AUC: 0.806, Accuracy: 0.788, Precision: 0.825, Recall: 0.806 | Training time: 1.2\n",
      "DTC | MCC: 0.417, AUC: 0.709, Accuracy: 0.695, Precision: 0.718, Recall: 0.708 | Training time: 0.1\n",
      "XGBC | MCC: 0.578, AUC: 0.789, Accuracy: 0.768, Precision: 0.811, Recall: 0.788 | Training time: 0.7\n",
      "\n",
      "=======================Selected features 35/207 =======================\n",
      "MLPC | MCC: 0.535, AUC: 0.767, Accuracy: 0.761, Precision: 0.763, Recall: 0.768 | Training time: 7.3\n",
      "SVC | MCC: 0.537, AUC: 0.768, Accuracy: 0.743, Precision: 0.800, Recall: 0.768 | Training time: 1.0\n",
      "RFC | MCC: 0.607, AUC: 0.804, Accuracy: 0.786, Precision: 0.820, Recall: 0.803 | Training time: 1.2\n",
      "DTC | MCC: 0.423, AUC: 0.712, Accuracy: 0.694, Precision: 0.730, Recall: 0.711 | Training time: 0.1\n",
      "XGBC | MCC: 0.568, AUC: 0.784, Accuracy: 0.773, Precision: 0.789, Recall: 0.784 | Training time: 0.8\n",
      "\n",
      "=======================Selected features 40/207 =======================\n",
      "MLPC | MCC: 0.565, AUC: 0.782, Accuracy: 0.755, Precision: 0.817, Recall: 0.781 | Training time: 7.5\n",
      "SVC | MCC: 0.550, AUC: 0.775, Accuracy: 0.755, Precision: 0.797, Recall: 0.774 | Training time: 1.1\n",
      "RFC | MCC: 0.635, AUC: 0.817, Accuracy: 0.800, Precision: 0.834, Recall: 0.817 | Training time: 1.4\n",
      "DTC | MCC: 0.416, AUC: 0.708, Accuracy: 0.684, Precision: 0.744, Recall: 0.707 | Training time: 0.1\n",
      "XGBC | MCC: 0.605, AUC: 0.803, Accuracy: 0.780, Precision: 0.828, Recall: 0.802 | Training time: 0.9\n",
      "\n",
      "=======================Selected features 45/207 =======================\n",
      "MLPC | MCC: 0.534, AUC: 0.766, Accuracy: 0.734, Precision: 0.814, Recall: 0.765 | Training time: 6.4\n",
      "SVC | MCC: 0.551, AUC: 0.775, Accuracy: 0.751, Precision: 0.806, Recall: 0.774 | Training time: 1.2\n",
      "RFC | MCC: 0.611, AUC: 0.805, Accuracy: 0.784, Precision: 0.828, Recall: 0.805 | Training time: 1.5\n",
      "DTC | MCC: 0.412, AUC: 0.706, Accuracy: 0.689, Precision: 0.724, Recall: 0.706 | Training time: 0.2\n",
      "XGBC | MCC: 0.576, AUC: 0.788, Accuracy: 0.762, Precision: 0.820, Recall: 0.787 | Training time: 1.0\n",
      "\n",
      "=======================Selected features 50/207 =======================\n",
      "MLPC | MCC: 0.550, AUC: 0.775, Accuracy: 0.752, Precision: 0.803, Recall: 0.774 | Training time: 8.0\n",
      "SVC | MCC: 0.547, AUC: 0.774, Accuracy: 0.753, Precision: 0.797, Recall: 0.773 | Training time: 1.0\n",
      "RFC | MCC: 0.629, AUC: 0.815, Accuracy: 0.797, Precision: 0.831, Recall: 0.814 | Training time: 1.6\n",
      "DTC | MCC: 0.354, AUC: 0.677, Accuracy: 0.666, Precision: 0.679, Recall: 0.677 | Training time: 0.2\n",
      "XGBC | MCC: 0.573, AUC: 0.786, Accuracy: 0.758, Precision: 0.823, Recall: 0.785 | Training time: 1.0\n",
      "\n",
      "=======================Selected features 55/207 =======================\n",
      "MLPC | MCC: 0.540, AUC: 0.770, Accuracy: 0.766, Precision: 0.763, Recall: 0.770 | Training time: 6.6\n",
      "SVC | MCC: 0.559, AUC: 0.779, Accuracy: 0.753, Precision: 0.814, Recall: 0.779 | Training time: 1.1\n",
      "RFC | MCC: 0.626, AUC: 0.813, Accuracy: 0.798, Precision: 0.825, Recall: 0.813 | Training time: 1.7\n",
      "DTC | MCC: 0.436, AUC: 0.718, Accuracy: 0.709, Precision: 0.715, Recall: 0.718 | Training time: 0.2\n",
      "XGBC | MCC: 0.594, AUC: 0.797, Accuracy: 0.777, Precision: 0.817, Recall: 0.796 | Training time: 1.1\n",
      "\n",
      "=======================Selected features 60/207 =======================\n",
      "MLPC | MCC: 0.540, AUC: 0.770, Accuracy: 0.745, Precision: 0.800, Recall: 0.769 | Training time: 6.8\n",
      "SVC | MCC: 0.557, AUC: 0.778, Accuracy: 0.751, Precision: 0.814, Recall: 0.777 | Training time: 1.1\n",
      "RFC | MCC: 0.605, AUC: 0.802, Accuracy: 0.784, Precision: 0.820, Recall: 0.802 | Training time: 1.7\n",
      "DTC | MCC: 0.448, AUC: 0.724, Accuracy: 0.708, Precision: 0.738, Recall: 0.724 | Training time: 0.2\n",
      "XGBC | MCC: 0.600, AUC: 0.800, Accuracy: 0.779, Precision: 0.823, Recall: 0.799 | Training time: 1.3\n",
      "\n",
      "=======================Selected features 65/207 =======================\n",
      "MLPC | MCC: 0.601, AUC: 0.801, Accuracy: 0.790, Precision: 0.806, Recall: 0.801 | Training time: 6.4\n",
      "SVC | MCC: 0.570, AUC: 0.785, Accuracy: 0.759, Precision: 0.817, Recall: 0.784 | Training time: 1.1\n",
      "RFC | MCC: 0.624, AUC: 0.812, Accuracy: 0.795, Precision: 0.828, Recall: 0.812 | Training time: 2.0\n",
      "DTC | MCC: 0.472, AUC: 0.736, Accuracy: 0.722, Precision: 0.746, Recall: 0.736 | Training time: 0.3\n",
      "XGBC | MCC: 0.591, AUC: 0.795, Accuracy: 0.777, Precision: 0.814, Recall: 0.795 | Training time: 1.4\n",
      "\n",
      "=======================Selected features 70/207 =======================\n",
      "MLPC | MCC: 0.543, AUC: 0.771, Accuracy: 0.745, Precision: 0.806, Recall: 0.770 | Training time: 5.4\n",
      "SVC | MCC: 0.567, AUC: 0.783, Accuracy: 0.759, Precision: 0.814, Recall: 0.783 | Training time: 1.2\n",
      "RFC | MCC: 0.629, AUC: 0.815, Accuracy: 0.799, Precision: 0.828, Recall: 0.814 | Training time: 1.8\n",
      "DTC | MCC: 0.455, AUC: 0.727, Accuracy: 0.703, Precision: 0.761, Recall: 0.726 | Training time: 0.2\n",
      "XGBC | MCC: 0.624, AUC: 0.812, Accuracy: 0.790, Precision: 0.837, Recall: 0.812 | Training time: 1.4\n",
      "\n",
      "=======================Selected features 75/207 =======================\n",
      "MLPC | MCC: 0.560, AUC: 0.780, Accuracy: 0.770, Precision: 0.783, Recall: 0.780 | Training time: 5.5\n",
      "SVC | MCC: 0.559, AUC: 0.779, Accuracy: 0.755, Precision: 0.808, Recall: 0.779 | Training time: 1.2\n",
      "RFC | MCC: 0.654, AUC: 0.827, Accuracy: 0.810, Precision: 0.842, Recall: 0.827 | Training time: 1.8\n",
      "DTC | MCC: 0.445, AUC: 0.722, Accuracy: 0.693, Precision: 0.769, Recall: 0.721 | Training time: 0.3\n",
      "XGBC | MCC: 0.635, AUC: 0.817, Accuracy: 0.784, Precision: 0.859, Recall: 0.816 | Training time: 1.4\n",
      "\n",
      "=======================Selected features 80/207 =======================\n",
      "MLPC | MCC: 0.552, AUC: 0.776, Accuracy: 0.765, Precision: 0.780, Recall: 0.776 | Training time: 5.1\n"
     ]
    },
    {
     "name": "stdout",
     "output_type": "stream",
     "text": [
      "SVC | MCC: 0.559, AUC: 0.779, Accuracy: 0.753, Precision: 0.814, Recall: 0.779 | Training time: 1.1\n",
      "RFC | MCC: 0.646, AUC: 0.823, Accuracy: 0.805, Precision: 0.839, Recall: 0.823 | Training time: 1.9\n",
      "DTC | MCC: 0.444, AUC: 0.722, Accuracy: 0.697, Precision: 0.758, Recall: 0.721 | Training time: 0.3\n",
      "XGBC | MCC: 0.594, AUC: 0.797, Accuracy: 0.775, Precision: 0.823, Recall: 0.796 | Training time: 1.5\n",
      "\n",
      "=======================Selected features 85/207 =======================\n",
      "MLPC | MCC: 0.560, AUC: 0.779, Accuracy: 0.751, Precision: 0.817, Recall: 0.779 | Training time: 6.1\n",
      "SVC | MCC: 0.562, AUC: 0.781, Accuracy: 0.755, Precision: 0.814, Recall: 0.780 | Training time: 1.2\n",
      "RFC | MCC: 0.638, AUC: 0.819, Accuracy: 0.797, Precision: 0.842, Recall: 0.818 | Training time: 2.0\n",
      "DTC | MCC: 0.467, AUC: 0.733, Accuracy: 0.704, Precision: 0.777, Recall: 0.732 | Training time: 0.3\n",
      "XGBC | MCC: 0.630, AUC: 0.815, Accuracy: 0.796, Precision: 0.834, Recall: 0.814 | Training time: 1.5\n",
      "\n",
      "=======================Selected features 90/207 =======================\n",
      "MLPC | MCC: 0.508, AUC: 0.753, Accuracy: 0.725, Precision: 0.794, Recall: 0.752 | Training time: 6.0\n",
      "SVC | MCC: 0.547, AUC: 0.773, Accuracy: 0.757, Precision: 0.789, Recall: 0.773 | Training time: 1.3\n",
      "RFC | MCC: 0.624, AUC: 0.812, Accuracy: 0.795, Precision: 0.828, Recall: 0.812 | Training time: 2.1\n",
      "DTC | MCC: 0.479, AUC: 0.739, Accuracy: 0.719, Precision: 0.763, Recall: 0.739 | Training time: 0.3\n",
      "XGBC | MCC: 0.602, AUC: 0.801, Accuracy: 0.779, Precision: 0.825, Recall: 0.801 | Training time: 1.5\n",
      "\n",
      "=======================Selected features 95/207 =======================\n",
      "MLPC | MCC: 0.580, AUC: 0.790, Accuracy: 0.770, Precision: 0.811, Recall: 0.790 | Training time: 6.3\n",
      "SVC | MCC: 0.561, AUC: 0.780, Accuracy: 0.761, Precision: 0.800, Recall: 0.780 | Training time: 1.3\n",
      "RFC | MCC: 0.648, AUC: 0.824, Accuracy: 0.809, Precision: 0.837, Recall: 0.824 | Training time: 2.0\n",
      "DTC | MCC: 0.459, AUC: 0.729, Accuracy: 0.711, Precision: 0.749, Recall: 0.729 | Training time: 0.3\n",
      "XGBC | MCC: 0.591, AUC: 0.796, Accuracy: 0.774, Precision: 0.820, Recall: 0.795 | Training time: 1.6\n",
      "\n",
      "=======================Selected features 100/207 =======================\n",
      "MLPC | MCC: 0.557, AUC: 0.777, Accuracy: 0.740, Precision: 0.834, Recall: 0.776 | Training time: 6.4\n",
      "SVC | MCC: 0.550, AUC: 0.775, Accuracy: 0.753, Precision: 0.800, Recall: 0.774 | Training time: 1.3\n",
      "RFC | MCC: 0.649, AUC: 0.824, Accuracy: 0.804, Precision: 0.845, Recall: 0.824 | Training time: 2.2\n",
      "DTC | MCC: 0.451, AUC: 0.725, Accuracy: 0.708, Precision: 0.744, Recall: 0.725 | Training time: 0.4\n",
      "XGBC | MCC: 0.598, AUC: 0.799, Accuracy: 0.771, Precision: 0.834, Recall: 0.798 | Training time: 1.7\n",
      "\n",
      "=======================Selected features 105/207 =======================\n",
      "MLPC | MCC: 0.540, AUC: 0.770, Accuracy: 0.778, Precision: 0.741, Recall: 0.770 | Training time: 8.1\n",
      "SVC | MCC: 0.561, AUC: 0.781, Accuracy: 0.757, Precision: 0.808, Recall: 0.780 | Training time: 1.4\n",
      "RFC | MCC: 0.627, AUC: 0.813, Accuracy: 0.794, Precision: 0.834, Recall: 0.813 | Training time: 2.2\n",
      "DTC | MCC: 0.492, AUC: 0.746, Accuracy: 0.728, Precision: 0.763, Recall: 0.746 | Training time: 0.4\n",
      "XGBC | MCC: 0.611, AUC: 0.805, Accuracy: 0.781, Precision: 0.834, Recall: 0.805 | Training time: 1.7\n",
      "\n",
      "=======================Selected features 110/207 =======================\n",
      "MLPC | MCC: 0.535, AUC: 0.768, Accuracy: 0.760, Precision: 0.766, Recall: 0.768 | Training time: 7.4\n",
      "SVC | MCC: 0.570, AUC: 0.785, Accuracy: 0.759, Precision: 0.817, Recall: 0.784 | Training time: 2.3\n",
      "RFC | MCC: 0.609, AUC: 0.805, Accuracy: 0.793, Precision: 0.811, Recall: 0.805 | Training time: 2.7\n",
      "DTC | MCC: 0.500, AUC: 0.750, Accuracy: 0.734, Precision: 0.763, Recall: 0.750 | Training time: 0.6\n",
      "XGBC | MCC: 0.611, AUC: 0.805, Accuracy: 0.784, Precision: 0.828, Recall: 0.805 | Training time: 2.2\n",
      "\n",
      "=======================Selected features 115/207 =======================\n",
      "MLPC | MCC: 0.554, AUC: 0.777, Accuracy: 0.770, Precision: 0.775, Recall: 0.777 | Training time: 6.2\n",
      "SVC | MCC: 0.567, AUC: 0.783, Accuracy: 0.763, Precision: 0.806, Recall: 0.783 | Training time: 1.5\n",
      "RFC | MCC: 0.634, AUC: 0.817, Accuracy: 0.805, Precision: 0.825, Recall: 0.817 | Training time: 2.2\n",
      "DTC | MCC: 0.518, AUC: 0.759, Accuracy: 0.732, Precision: 0.794, Recall: 0.758 | Training time: 0.5\n",
      "XGBC | MCC: 0.630, AUC: 0.815, Accuracy: 0.796, Precision: 0.834, Recall: 0.814 | Training time: 2.0\n",
      "\n",
      "=======================Selected features 120/207 =======================\n",
      "MLPC | MCC: 0.604, AUC: 0.801, Accuracy: 0.811, Precision: 0.775, Recall: 0.802 | Training time: 4.4\n",
      "SVC | MCC: 0.566, AUC: 0.783, Accuracy: 0.764, Precision: 0.803, Recall: 0.783 | Training time: 1.5\n",
      "RFC | MCC: 0.624, AUC: 0.812, Accuracy: 0.790, Precision: 0.837, Recall: 0.812 | Training time: 2.1\n",
      "DTC | MCC: 0.478, AUC: 0.738, Accuracy: 0.710, Precision: 0.780, Recall: 0.737 | Training time: 0.4\n",
      "XGBC | MCC: 0.623, AUC: 0.812, Accuracy: 0.798, Precision: 0.823, Recall: 0.812 | Training time: 1.8\n",
      "\n",
      "=======================Selected features 125/207 =======================\n",
      "MLPC | MCC: 0.573, AUC: 0.787, Accuracy: 0.784, Precision: 0.777, Recall: 0.787 | Training time: 8.7\n",
      "SVC | MCC: 0.569, AUC: 0.784, Accuracy: 0.766, Precision: 0.803, Recall: 0.784 | Training time: 1.6\n",
      "RFC | MCC: 0.634, AUC: 0.817, Accuracy: 0.807, Precision: 0.823, Recall: 0.817 | Training time: 2.2\n",
      "DTC | MCC: 0.472, AUC: 0.735, Accuracy: 0.710, Precision: 0.772, Recall: 0.735 | Training time: 0.4\n",
      "XGBC | MCC: 0.596, AUC: 0.797, Accuracy: 0.766, Precision: 0.839, Recall: 0.796 | Training time: 1.8\n",
      "\n",
      "=======================Selected features 130/207 =======================\n",
      "MLPC | MCC: 0.601, AUC: 0.800, Accuracy: 0.771, Precision: 0.837, Recall: 0.799 | Training time: 6.1\n",
      "SVC | MCC: 0.569, AUC: 0.784, Accuracy: 0.766, Precision: 0.803, Recall: 0.784 | Training time: 1.4\n",
      "RFC | MCC: 0.640, AUC: 0.820, Accuracy: 0.806, Precision: 0.831, Recall: 0.820 | Training time: 2.2\n",
      "DTC | MCC: 0.518, AUC: 0.759, Accuracy: 0.734, Precision: 0.792, Recall: 0.758 | Training time: 0.4\n",
      "XGBC | MCC: 0.624, AUC: 0.812, Accuracy: 0.790, Precision: 0.837, Recall: 0.812 | Training time: 1.8\n",
      "\n",
      "=======================Selected features 135/207 =======================\n",
      "MLPC | MCC: 0.543, AUC: 0.770, Accuracy: 0.734, Precision: 0.825, Recall: 0.769 | Training time: 5.2\n",
      "SVC | MCC: 0.583, AUC: 0.791, Accuracy: 0.771, Precision: 0.814, Recall: 0.791 | Training time: 1.6\n",
      "RFC | MCC: 0.620, AUC: 0.810, Accuracy: 0.801, Precision: 0.814, Recall: 0.810 | Training time: 2.0\n",
      "DTC | MCC: 0.523, AUC: 0.761, Accuracy: 0.736, Precision: 0.794, Recall: 0.761 | Training time: 0.4\n",
      "XGBC | MCC: 0.629, AUC: 0.815, Accuracy: 0.797, Precision: 0.831, Recall: 0.814 | Training time: 1.8\n",
      "\n",
      "=======================Selected features 140/207 =======================\n",
      "MLPC | MCC: 0.591, AUC: 0.795, Accuracy: 0.780, Precision: 0.808, Recall: 0.795 | Training time: 5.7\n",
      "SVC | MCC: 0.579, AUC: 0.789, Accuracy: 0.760, Precision: 0.828, Recall: 0.788 | Training time: 1.8\n",
      "RFC | MCC: 0.632, AUC: 0.816, Accuracy: 0.798, Precision: 0.834, Recall: 0.816 | Training time: 2.1\n",
      "DTC | MCC: 0.504, AUC: 0.752, Accuracy: 0.729, Precision: 0.780, Recall: 0.751 | Training time: 0.5\n",
      "XGBC | MCC: 0.638, AUC: 0.819, Accuracy: 0.797, Precision: 0.842, Recall: 0.818 | Training time: 1.9\n",
      "\n",
      "=======================Selected features 145/207 =======================\n",
      "MLPC | MCC: 0.537, AUC: 0.768, Accuracy: 0.746, Precision: 0.794, Recall: 0.768 | Training time: 6.0\n",
      "SVC | MCC: 0.575, AUC: 0.787, Accuracy: 0.763, Precision: 0.817, Recall: 0.787 | Training time: 1.6\n",
      "RFC | MCC: 0.627, AUC: 0.813, Accuracy: 0.792, Precision: 0.837, Recall: 0.813 | Training time: 2.3\n",
      "DTC | MCC: 0.490, AUC: 0.745, Accuracy: 0.723, Precision: 0.772, Recall: 0.744 | Training time: 0.5\n",
      "XGBC | MCC: 0.637, AUC: 0.819, Accuracy: 0.802, Precision: 0.834, Recall: 0.818 | Training time: 1.9\n",
      "\n",
      "=======================Selected features 150/207 =======================\n",
      "MLPC | MCC: 0.562, AUC: 0.781, Accuracy: 0.756, Precision: 0.811, Recall: 0.780 | Training time: 7.2\n",
      "SVC | MCC: 0.589, AUC: 0.794, Accuracy: 0.769, Precision: 0.825, Recall: 0.794 | Training time: 1.9\n",
      "RFC | MCC: 0.635, AUC: 0.817, Accuracy: 0.802, Precision: 0.831, Recall: 0.817 | Training time: 2.2\n"
     ]
    },
    {
     "name": "stdout",
     "output_type": "stream",
     "text": [
      "DTC | MCC: 0.489, AUC: 0.745, Accuracy: 0.725, Precision: 0.766, Recall: 0.744 | Training time: 0.5\n",
      "XGBC | MCC: 0.613, AUC: 0.807, Accuracy: 0.785, Precision: 0.831, Recall: 0.806 | Training time: 1.9\n",
      "\n",
      "=======================Selected features 155/207 =======================\n",
      "MLPC | MCC: 0.586, AUC: 0.793, Accuracy: 0.770, Precision: 0.820, Recall: 0.792 | Training time: 5.5\n",
      "SVC | MCC: 0.584, AUC: 0.792, Accuracy: 0.766, Precision: 0.823, Recall: 0.791 | Training time: 1.9\n",
      "RFC | MCC: 0.626, AUC: 0.813, Accuracy: 0.800, Precision: 0.823, Recall: 0.813 | Training time: 2.1\n",
      "DTC | MCC: 0.482, AUC: 0.741, Accuracy: 0.717, Precision: 0.772, Recall: 0.740 | Training time: 0.5\n",
      "XGBC | MCC: 0.610, AUC: 0.805, Accuracy: 0.786, Precision: 0.825, Recall: 0.805 | Training time: 1.9\n",
      "\n",
      "=======================Selected features 160/207 =======================\n",
      "MLPC | MCC: 0.593, AUC: 0.796, Accuracy: 0.765, Precision: 0.837, Recall: 0.795 | Training time: 8.2\n",
      "SVC | MCC: 0.575, AUC: 0.787, Accuracy: 0.765, Precision: 0.814, Recall: 0.787 | Training time: 2.0\n",
      "RFC | MCC: 0.635, AUC: 0.817, Accuracy: 0.802, Precision: 0.831, Recall: 0.817 | Training time: 2.1\n",
      "DTC | MCC: 0.484, AUC: 0.742, Accuracy: 0.721, Precision: 0.766, Recall: 0.741 | Training time: 0.6\n",
      "XGBC | MCC: 0.607, AUC: 0.804, Accuracy: 0.785, Precision: 0.823, Recall: 0.803 | Training time: 2.1\n",
      "\n",
      "=======================Selected features 165/207 =======================\n",
      "MLPC | MCC: 0.593, AUC: 0.797, Accuracy: 0.784, Precision: 0.806, Recall: 0.796 | Training time: 7.2\n",
      "SVC | MCC: 0.569, AUC: 0.785, Accuracy: 0.763, Precision: 0.808, Recall: 0.784 | Training time: 2.4\n",
      "RFC | MCC: 0.665, AUC: 0.833, Accuracy: 0.812, Precision: 0.854, Recall: 0.832 | Training time: 2.6\n",
      "DTC | MCC: 0.480, AUC: 0.740, Accuracy: 0.712, Precision: 0.780, Recall: 0.739 | Training time: 0.6\n",
      "XGBC | MCC: 0.632, AUC: 0.816, Accuracy: 0.799, Precision: 0.831, Recall: 0.816 | Training time: 2.1\n",
      "\n",
      "=======================Selected features 170/207 =======================\n",
      "MLPC | MCC: 0.545, AUC: 0.772, Accuracy: 0.748, Precision: 0.803, Recall: 0.772 | Training time: 7.1\n",
      "SVC | MCC: 0.564, AUC: 0.782, Accuracy: 0.759, Precision: 0.808, Recall: 0.781 | Training time: 2.1\n",
      "RFC | MCC: 0.645, AUC: 0.823, Accuracy: 0.809, Precision: 0.834, Recall: 0.823 | Training time: 2.1\n",
      "DTC | MCC: 0.469, AUC: 0.734, Accuracy: 0.708, Precision: 0.772, Recall: 0.733 | Training time: 0.5\n",
      "XGBC | MCC: 0.632, AUC: 0.816, Accuracy: 0.799, Precision: 0.831, Recall: 0.816 | Training time: 1.9\n",
      "\n",
      "=======================Selected features 175/207 =======================\n",
      "MLPC | MCC: 0.576, AUC: 0.788, Accuracy: 0.759, Precision: 0.825, Recall: 0.787 | Training time: 5.6\n",
      "SVC | MCC: 0.570, AUC: 0.785, Accuracy: 0.762, Precision: 0.811, Recall: 0.784 | Training time: 2.2\n",
      "RFC | MCC: 0.637, AUC: 0.819, Accuracy: 0.802, Precision: 0.834, Recall: 0.818 | Training time: 2.1\n",
      "DTC | MCC: 0.511, AUC: 0.755, Accuracy: 0.724, Precision: 0.800, Recall: 0.754 | Training time: 0.5\n",
      "XGBC | MCC: 0.632, AUC: 0.816, Accuracy: 0.799, Precision: 0.831, Recall: 0.816 | Training time: 1.9\n",
      "\n",
      "=======================Selected features 180/207 =======================\n",
      "MLPC | MCC: 0.573, AUC: 0.786, Accuracy: 0.789, Precision: 0.769, Recall: 0.787 | Training time: 6.6\n",
      "SVC | MCC: 0.575, AUC: 0.787, Accuracy: 0.767, Precision: 0.808, Recall: 0.787 | Training time: 2.5\n",
      "RFC | MCC: 0.613, AUC: 0.806, Accuracy: 0.791, Precision: 0.820, Recall: 0.806 | Training time: 2.3\n",
      "DTC | MCC: 0.468, AUC: 0.734, Accuracy: 0.711, Precision: 0.763, Recall: 0.733 | Training time: 0.6\n",
      "XGBC | MCC: 0.632, AUC: 0.816, Accuracy: 0.799, Precision: 0.831, Recall: 0.816 | Training time: 2.0\n",
      "\n",
      "=======================Selected features 185/207 =======================\n",
      "MLPC | MCC: 0.594, AUC: 0.797, Accuracy: 0.779, Precision: 0.814, Recall: 0.796 | Training time: 5.8\n",
      "SVC | MCC: 0.575, AUC: 0.787, Accuracy: 0.767, Precision: 0.808, Recall: 0.787 | Training time: 2.3\n",
      "RFC | MCC: 0.618, AUC: 0.809, Accuracy: 0.792, Precision: 0.825, Recall: 0.809 | Training time: 2.0\n",
      "DTC | MCC: 0.472, AUC: 0.735, Accuracy: 0.709, Precision: 0.775, Recall: 0.735 | Training time: 0.5\n",
      "XGBC | MCC: 0.623, AUC: 0.811, Accuracy: 0.783, Precision: 0.845, Recall: 0.810 | Training time: 2.0\n",
      "\n",
      "=======================Selected features 190/207 =======================\n",
      "MLPC | MCC: 0.544, AUC: 0.771, Accuracy: 0.740, Precision: 0.817, Recall: 0.770 | Training time: 7.1\n",
      "SVC | MCC: 0.577, AUC: 0.789, Accuracy: 0.769, Precision: 0.808, Recall: 0.788 | Training time: 2.4\n",
      "RFC | MCC: 0.637, AUC: 0.819, Accuracy: 0.802, Precision: 0.834, Recall: 0.818 | Training time: 2.2\n",
      "DTC | MCC: 0.468, AUC: 0.734, Accuracy: 0.712, Precision: 0.761, Recall: 0.733 | Training time: 0.6\n",
      "XGBC | MCC: 0.632, AUC: 0.816, Accuracy: 0.799, Precision: 0.831, Recall: 0.816 | Training time: 2.2\n",
      "\n",
      "=======================Selected features 195/207 =======================\n",
      "MLPC | MCC: 0.595, AUC: 0.798, Accuracy: 0.797, Precision: 0.786, Recall: 0.798 | Training time: 7.2\n",
      "SVC | MCC: 0.577, AUC: 0.789, Accuracy: 0.769, Precision: 0.808, Recall: 0.788 | Training time: 2.5\n",
      "RFC | MCC: 0.621, AUC: 0.811, Accuracy: 0.794, Precision: 0.825, Recall: 0.810 | Training time: 2.2\n",
      "DTC | MCC: 0.488, AUC: 0.744, Accuracy: 0.718, Precision: 0.780, Recall: 0.743 | Training time: 0.6\n",
      "XGBC | MCC: 0.632, AUC: 0.816, Accuracy: 0.799, Precision: 0.831, Recall: 0.816 | Training time: 2.3\n",
      "\n",
      "=======================Selected features 200/207 =======================\n",
      "MLPC | MCC: 0.573, AUC: 0.786, Accuracy: 0.763, Precision: 0.814, Recall: 0.785 | Training time: 7.1\n",
      "SVC | MCC: 0.578, AUC: 0.789, Accuracy: 0.768, Precision: 0.811, Recall: 0.788 | Training time: 2.3\n",
      "RFC | MCC: 0.663, AUC: 0.831, Accuracy: 0.809, Precision: 0.856, Recall: 0.831 | Training time: 2.6\n",
      "DTC | MCC: 0.459, AUC: 0.729, Accuracy: 0.714, Precision: 0.744, Recall: 0.729 | Training time: 0.6\n",
      "XGBC | MCC: 0.629, AUC: 0.814, Accuracy: 0.802, Precision: 0.823, Recall: 0.814 | Training time: 2.3\n",
      "\n",
      "=======================Selected features 205/207 =======================\n",
      "MLPC | MCC: 0.592, AUC: 0.796, Accuracy: 0.772, Precision: 0.823, Recall: 0.795 | Training time: 6.1\n",
      "SVC | MCC: 0.577, AUC: 0.789, Accuracy: 0.769, Precision: 0.808, Recall: 0.788 | Training time: 2.6\n",
      "RFC | MCC: 0.637, AUC: 0.819, Accuracy: 0.804, Precision: 0.831, Recall: 0.818 | Training time: 2.2\n",
      "DTC | MCC: 0.474, AUC: 0.737, Accuracy: 0.714, Precision: 0.766, Recall: 0.736 | Training time: 0.6\n",
      "XGBC | MCC: 0.624, AUC: 0.812, Accuracy: 0.790, Precision: 0.837, Recall: 0.812 | Training time: 2.3\n"
     ]
    }
   ],
   "source": [
    "n_neighbors = 100\n",
    "models_rf, results_rf, num_sel_feat_rf, features_rf = fs_relieff(X_train, y_train, X_val, y_val, X_train_norm, X_val_norm, True, n_neighbors)"
   ]
  },
  {
   "cell_type": "code",
   "execution_count": 32,
   "id": "db6bcc95",
   "metadata": {},
   "outputs": [
    {
     "data": {
      "image/png": "[encoded data removed]",
      "text/plain": [
       "<Figure size 950x380 with 1 Axes>"
      ]
     },
     "metadata": {},
     "output_type": "display_data"
    }
   ],
   "source": [
    "mcc_rf, auc_rf = plot_fs_metrics(num_sel_feat_rf, results_rf, 'RelieFf', True)"
   ]
  },
  {
   "cell_type": "code",
   "execution_count": 47,
   "id": "b7abd443",
   "metadata": {},
   "outputs": [
    {
     "name": "stdout",
     "output_type": "stream",
     "text": [
      "Number of features that will be employed: 75\n"
     ]
    }
   ],
   "source": [
    "# Take selected features by RelieFf\n",
    "idx = get_pos_features(mcc_rf, True)\n",
    "print('Number of features that will be employed:',len(features_rf[idx]))\n",
    "selected_features_rf = features_rf[idx]"
   ]
  },
  {
   "cell_type": "code",
   "execution_count": 48,
   "id": "b6dcc8fa",
   "metadata": {},
   "outputs": [
    {
     "name": "stdout",
     "output_type": "stream",
     "text": [
      "{'n_estimators': 300, 'min_samples_split': 5, 'min_samples_leaf': 1, 'max_features': 'log2', 'max_depth': None, 'bootstrap': False}\n",
      "MCC: 0.626457, AUC: 0.813278, PRECISION: 0.796748, RECALL: 0.828169, ACCURACY: 0.812930\n"
     ]
    }
   ],
   "source": [
    "# Hyperparameter optimisation post relief feature selection\n",
    "rnd_models_rf, metrics_rnd_rf = apply_randsearch(X_train[selected_features_rf]\n",
    "                                                        , y_train                                                       \n",
    "                                                        , X_val[selected_features_rf]\n",
    "                                                        , y_val\n",
    "                                                        , True\n",
    "                                                        , X_train_norm[selected_features_rf]\n",
    "                                                        , X_val_norm[selected_features_rf])"
   ]
  },
  {
   "cell_type": "markdown",
   "id": "a018e13f",
   "metadata": {},
   "source": [
    "## MIC"
   ]
  },
  {
   "cell_type": "code",
   "execution_count": 50,
   "id": "af3d8c7d",
   "metadata": {},
   "outputs": [
    {
     "name": "stdout",
     "output_type": "stream",
     "text": [
      "\n",
      "=======================Selected features 10/207 =======================\n",
      "MLPC | MCC: 0.532, AUC: 0.766, Accuracy: 0.738, Precision: 0.803, Recall: 0.765 | Training time: 12.6\n",
      "SVC | MCC: 0.419, AUC: 0.709, Accuracy: 0.686, Precision: 0.744, Recall: 0.708 | Training time: 1.1\n",
      "RFC | MCC: 0.566, AUC: 0.783, Accuracy: 0.768, Precision: 0.794, Recall: 0.783 | Training time: 1.1\n",
      "DTC | MCC: 0.487, AUC: 0.743, Accuracy: 0.723, Precision: 0.766, Recall: 0.743 | Training time: 0.1\n",
      "XGBC | MCC: 0.592, AUC: 0.796, Accuracy: 0.771, Precision: 0.825, Recall: 0.795 | Training time: 0.5\n",
      "\n",
      "=======================Selected features 15/207 =======================\n",
      "MLPC | MCC: 0.489, AUC: 0.742, Accuracy: 0.700, Precision: 0.820, Recall: 0.740 | Training time: 12.1\n",
      "SVC | MCC: 0.463, AUC: 0.730, Accuracy: 0.697, Precision: 0.789, Recall: 0.729 | Training time: 1.0\n",
      "RFC | MCC: 0.623, AUC: 0.812, Accuracy: 0.804, Precision: 0.811, Recall: 0.812 | Training time: 1.1\n",
      "DTC | MCC: 0.427, AUC: 0.713, Accuracy: 0.692, Precision: 0.741, Recall: 0.713 | Training time: 0.1\n",
      "XGBC | MCC: 0.553, AUC: 0.776, Accuracy: 0.757, Precision: 0.797, Recall: 0.776 | Training time: 0.6\n",
      "\n",
      "=======================Selected features 20/207 =======================\n",
      "MLPC | MCC: 0.507, AUC: 0.753, Accuracy: 0.730, Precision: 0.783, Recall: 0.752 | Training time: 10.6\n",
      "SVC | MCC: 0.496, AUC: 0.747, Accuracy: 0.713, Precision: 0.803, Recall: 0.746 | Training time: 1.1\n",
      "RFC | MCC: 0.604, AUC: 0.802, Accuracy: 0.786, Precision: 0.817, Recall: 0.802 | Training time: 1.3\n",
      "DTC | MCC: 0.473, AUC: 0.736, Accuracy: 0.720, Precision: 0.752, Recall: 0.736 | Training time: 0.1\n",
      "XGBC | MCC: 0.593, AUC: 0.797, Accuracy: 0.784, Precision: 0.806, Recall: 0.796 | Training time: 0.6\n",
      "\n",
      "=======================Selected features 25/207 =======================\n",
      "MLPC | MCC: 0.538, AUC: 0.768, Accuracy: 0.740, Precision: 0.808, Recall: 0.768 | Training time: 11.7\n",
      "SVC | MCC: 0.512, AUC: 0.755, Accuracy: 0.721, Precision: 0.808, Recall: 0.754 | Training time: 1.2\n",
      "RFC | MCC: 0.596, AUC: 0.798, Accuracy: 0.784, Precision: 0.808, Recall: 0.798 | Training time: 1.5\n",
      "DTC | MCC: 0.476, AUC: 0.738, Accuracy: 0.717, Precision: 0.763, Recall: 0.737 | Training time: 0.1\n",
      "XGBC | MCC: 0.573, AUC: 0.786, Accuracy: 0.758, Precision: 0.823, Recall: 0.785 | Training time: 0.7\n",
      "\n",
      "=======================Selected features 30/207 =======================\n",
      "MLPC | MCC: 0.523, AUC: 0.760, Accuracy: 0.728, Precision: 0.808, Recall: 0.759 | Training time: 9.9\n",
      "SVC | MCC: 0.515, AUC: 0.756, Accuracy: 0.722, Precision: 0.811, Recall: 0.755 | Training time: 1.2\n",
      "RFC | MCC: 0.602, AUC: 0.801, Accuracy: 0.782, Precision: 0.820, Recall: 0.801 | Training time: 1.6\n",
      "DTC | MCC: 0.450, AUC: 0.725, Accuracy: 0.713, Precision: 0.730, Recall: 0.725 | Training time: 0.1\n",
      "XGBC | MCC: 0.584, AUC: 0.792, Accuracy: 0.765, Precision: 0.825, Recall: 0.791 | Training time: 0.8\n",
      "\n",
      "=======================Selected features 35/207 =======================\n",
      "MLPC | MCC: 0.536, AUC: 0.768, Accuracy: 0.749, Precision: 0.789, Recall: 0.768 | Training time: 10.5\n",
      "SVC | MCC: 0.536, AUC: 0.767, Accuracy: 0.737, Precision: 0.811, Recall: 0.766 | Training time: 1.1\n",
      "RFC | MCC: 0.593, AUC: 0.797, Accuracy: 0.780, Precision: 0.811, Recall: 0.796 | Training time: 1.6\n",
      "DTC | MCC: 0.505, AUC: 0.752, Accuracy: 0.725, Precision: 0.789, Recall: 0.751 | Training time: 0.2\n",
      "XGBC | MCC: 0.592, AUC: 0.795, Accuracy: 0.759, Precision: 0.845, Recall: 0.794 | Training time: 1.0\n",
      "\n",
      "=======================Selected features 40/207 =======================\n",
      "MLPC | MCC: 0.527, AUC: 0.761, Accuracy: 0.718, Precision: 0.834, Recall: 0.759 | Training time: 8.5\n",
      "SVC | MCC: 0.519, AUC: 0.759, Accuracy: 0.730, Precision: 0.800, Recall: 0.758 | Training time: 1.2\n",
      "RFC | MCC: 0.602, AUC: 0.801, Accuracy: 0.784, Precision: 0.817, Recall: 0.801 | Training time: 1.9\n",
      "DTC | MCC: 0.467, AUC: 0.733, Accuracy: 0.718, Precision: 0.746, Recall: 0.733 | Training time: 0.2\n",
      "XGBC | MCC: 0.598, AUC: 0.799, Accuracy: 0.772, Precision: 0.831, Recall: 0.798 | Training time: 1.1\n",
      "\n",
      "=======================Selected features 45/207 =======================\n",
      "MLPC | MCC: 0.486, AUC: 0.742, Accuracy: 0.712, Precision: 0.789, Recall: 0.741 | Training time: 9.3\n",
      "SVC | MCC: 0.526, AUC: 0.762, Accuracy: 0.728, Precision: 0.814, Recall: 0.761 | Training time: 1.4\n",
      "RFC | MCC: 0.611, AUC: 0.805, Accuracy: 0.781, Precision: 0.834, Recall: 0.805 | Training time: 1.9\n",
      "DTC | MCC: 0.464, AUC: 0.732, Accuracy: 0.716, Precision: 0.746, Recall: 0.732 | Training time: 0.2\n",
      "XGBC | MCC: 0.559, AUC: 0.779, Accuracy: 0.753, Precision: 0.814, Recall: 0.779 | Training time: 1.2\n",
      "\n",
      "=======================Selected features 50/207 =======================\n",
      "MLPC | MCC: 0.533, AUC: 0.767, Accuracy: 0.748, Precision: 0.786, Recall: 0.766 | Training time: 11.4\n",
      "SVC | MCC: 0.534, AUC: 0.766, Accuracy: 0.731, Precision: 0.820, Recall: 0.765 | Training time: 1.3\n",
      "RFC | MCC: 0.608, AUC: 0.804, Accuracy: 0.782, Precision: 0.828, Recall: 0.803 | Training time: 2.2\n",
      "DTC | MCC: 0.445, AUC: 0.722, Accuracy: 0.710, Precision: 0.730, Recall: 0.722 | Training time: 0.2\n",
      "XGBC | MCC: 0.584, AUC: 0.792, Accuracy: 0.765, Precision: 0.825, Recall: 0.791 | Training time: 1.3\n",
      "\n",
      "=======================Selected features 55/207 =======================\n",
      "MLPC | MCC: 0.507, AUC: 0.751, Accuracy: 0.709, Precision: 0.825, Recall: 0.750 | Training time: 7.9\n",
      "SVC | MCC: 0.548, AUC: 0.773, Accuracy: 0.738, Precision: 0.825, Recall: 0.772 | Training time: 1.8\n",
      "RFC | MCC: 0.611, AUC: 0.805, Accuracy: 0.782, Precision: 0.831, Recall: 0.805 | Training time: 2.6\n",
      "DTC | MCC: 0.437, AUC: 0.718, Accuracy: 0.701, Precision: 0.738, Recall: 0.718 | Training time: 0.3\n",
      "XGBC | MCC: 0.595, AUC: 0.797, Accuracy: 0.773, Precision: 0.825, Recall: 0.796 | Training time: 1.7\n",
      "\n",
      "=======================Selected features 60/207 =======================\n",
      "MLPC | MCC: 0.501, AUC: 0.750, Accuracy: 0.726, Precision: 0.783, Recall: 0.750 | Training time: 10.0\n",
      "SVC | MCC: 0.563, AUC: 0.781, Accuracy: 0.752, Precision: 0.820, Recall: 0.780 | Training time: 1.5\n",
      "RFC | MCC: 0.632, AUC: 0.816, Accuracy: 0.799, Precision: 0.831, Recall: 0.816 | Training time: 2.1\n",
      "DTC | MCC: 0.500, AUC: 0.750, Accuracy: 0.732, Precision: 0.769, Recall: 0.750 | Training time: 0.3\n",
      "XGBC | MCC: 0.600, AUC: 0.800, Accuracy: 0.776, Precision: 0.828, Recall: 0.799 | Training time: 1.4\n",
      "\n",
      "=======================Selected features 65/207 =======================\n",
      "MLPC | MCC: 0.535, AUC: 0.768, Accuracy: 0.758, Precision: 0.769, Recall: 0.768 | Training time: 8.3\n",
      "SVC | MCC: 0.538, AUC: 0.769, Accuracy: 0.738, Precision: 0.811, Recall: 0.768 | Training time: 1.4\n",
      "RFC | MCC: 0.617, AUC: 0.808, Accuracy: 0.782, Precision: 0.839, Recall: 0.807 | Training time: 2.4\n",
      "DTC | MCC: 0.481, AUC: 0.740, Accuracy: 0.724, Precision: 0.755, Recall: 0.740 | Training time: 0.3\n",
      "XGBC | MCC: 0.595, AUC: 0.797, Accuracy: 0.773, Precision: 0.825, Recall: 0.796 | Training time: 1.5\n",
      "\n",
      "=======================Selected features 70/207 =======================\n",
      "MLPC | MCC: 0.531, AUC: 0.763, Accuracy: 0.716, Precision: 0.845, Recall: 0.761 | Training time: 12.2\n",
      "SVC | MCC: 0.562, AUC: 0.780, Accuracy: 0.744, Precision: 0.834, Recall: 0.779 | Training time: 1.5\n",
      "RFC | MCC: 0.630, AUC: 0.815, Accuracy: 0.793, Precision: 0.839, Recall: 0.814 | Training time: 2.4\n",
      "DTC | MCC: 0.458, AUC: 0.729, Accuracy: 0.703, Precision: 0.766, Recall: 0.728 | Training time: 0.3\n",
      "XGBC | MCC: 0.605, AUC: 0.802, Accuracy: 0.781, Precision: 0.825, Recall: 0.802 | Training time: 1.6\n",
      "\n",
      "=======================Selected features 75/207 =======================\n",
      "MLPC | MCC: 0.569, AUC: 0.783, Accuracy: 0.743, Precision: 0.845, Recall: 0.781 | Training time: 9.5\n",
      "SVC | MCC: 0.568, AUC: 0.784, Accuracy: 0.756, Precision: 0.820, Recall: 0.783 | Training time: 1.8\n",
      "RFC | MCC: 0.640, AUC: 0.820, Accuracy: 0.803, Precision: 0.837, Recall: 0.820 | Training time: 2.3\n",
      "DTC | MCC: 0.445, AUC: 0.722, Accuracy: 0.707, Precision: 0.735, Recall: 0.722 | Training time: 0.3\n",
      "XGBC | MCC: 0.612, AUC: 0.806, Accuracy: 0.777, Precision: 0.842, Recall: 0.805 | Training time: 1.7\n",
      "\n",
      "=======================Selected features 80/207 =======================\n",
      "MLPC | MCC: 0.527, AUC: 0.763, Accuracy: 0.733, Precision: 0.806, Recall: 0.762 | Training time: 7.3\n"
     ]
    },
    {
     "name": "stdout",
     "output_type": "stream",
     "text": [
      "SVC | MCC: 0.548, AUC: 0.773, Accuracy: 0.738, Precision: 0.825, Recall: 0.772 | Training time: 1.7\n",
      "RFC | MCC: 0.643, AUC: 0.822, Accuracy: 0.802, Precision: 0.842, Recall: 0.821 | Training time: 2.6\n",
      "DTC | MCC: 0.439, AUC: 0.720, Accuracy: 0.704, Precision: 0.735, Recall: 0.719 | Training time: 0.4\n",
      "XGBC | MCC: 0.639, AUC: 0.819, Accuracy: 0.793, Precision: 0.851, Recall: 0.818 | Training time: 1.8\n",
      "\n",
      "=======================Selected features 85/207 =======================\n",
      "MLPC | MCC: 0.543, AUC: 0.772, Accuracy: 0.766, Precision: 0.766, Recall: 0.772 | Training time: 8.1\n",
      "SVC | MCC: 0.542, AUC: 0.770, Accuracy: 0.738, Precision: 0.817, Recall: 0.769 | Training time: 1.5\n",
      "RFC | MCC: 0.634, AUC: 0.817, Accuracy: 0.805, Precision: 0.825, Recall: 0.817 | Training time: 2.5\n",
      "DTC | MCC: 0.457, AUC: 0.728, Accuracy: 0.708, Precision: 0.752, Recall: 0.728 | Training time: 0.4\n",
      "XGBC | MCC: 0.601, AUC: 0.800, Accuracy: 0.773, Precision: 0.834, Recall: 0.799 | Training time: 1.7\n",
      "\n",
      "=======================Selected features 90/207 =======================\n",
      "MLPC | MCC: 0.551, AUC: 0.775, Accuracy: 0.777, Precision: 0.758, Recall: 0.776 | Training time: 7.0\n",
      "SVC | MCC: 0.549, AUC: 0.774, Accuracy: 0.746, Precision: 0.811, Recall: 0.773 | Training time: 1.7\n",
      "RFC | MCC: 0.627, AUC: 0.813, Accuracy: 0.795, Precision: 0.831, Recall: 0.813 | Training time: 2.5\n",
      "DTC | MCC: 0.420, AUC: 0.710, Accuracy: 0.699, Precision: 0.713, Recall: 0.710 | Training time: 0.4\n",
      "XGBC | MCC: 0.612, AUC: 0.806, Accuracy: 0.775, Precision: 0.845, Recall: 0.805 | Training time: 1.7\n",
      "\n",
      "=======================Selected features 95/207 =======================\n",
      "MLPC | MCC: 0.589, AUC: 0.794, Accuracy: 0.773, Precision: 0.817, Recall: 0.794 | Training time: 9.0\n",
      "SVC | MCC: 0.569, AUC: 0.784, Accuracy: 0.753, Precision: 0.825, Recall: 0.783 | Training time: 1.9\n",
      "RFC | MCC: 0.633, AUC: 0.816, Accuracy: 0.795, Precision: 0.839, Recall: 0.816 | Training time: 2.7\n",
      "DTC | MCC: 0.484, AUC: 0.742, Accuracy: 0.723, Precision: 0.763, Recall: 0.741 | Training time: 0.4\n",
      "XGBC | MCC: 0.613, AUC: 0.807, Accuracy: 0.785, Precision: 0.831, Recall: 0.806 | Training time: 2.3\n",
      "\n",
      "=======================Selected features 100/207 =======================\n",
      "MLPC | MCC: 0.551, AUC: 0.776, Accuracy: 0.773, Precision: 0.766, Recall: 0.776 | Training time: 7.6\n",
      "SVC | MCC: 0.546, AUC: 0.773, Accuracy: 0.743, Precision: 0.814, Recall: 0.772 | Training time: 1.6\n",
      "RFC | MCC: 0.610, AUC: 0.805, Accuracy: 0.786, Precision: 0.825, Recall: 0.805 | Training time: 2.7\n",
      "DTC | MCC: 0.461, AUC: 0.731, Accuracy: 0.715, Precision: 0.744, Recall: 0.730 | Training time: 0.5\n",
      "XGBC | MCC: 0.613, AUC: 0.806, Accuracy: 0.791, Precision: 0.820, Recall: 0.806 | Training time: 1.9\n",
      "\n",
      "=======================Selected features 105/207 =======================\n",
      "MLPC | MCC: 0.532, AUC: 0.766, Accuracy: 0.741, Precision: 0.797, Recall: 0.765 | Training time: 7.5\n",
      "SVC | MCC: 0.558, AUC: 0.778, Accuracy: 0.747, Precision: 0.823, Recall: 0.777 | Training time: 2.0\n",
      "RFC | MCC: 0.635, AUC: 0.818, Accuracy: 0.797, Precision: 0.839, Recall: 0.817 | Training time: 2.8\n",
      "DTC | MCC: 0.477, AUC: 0.738, Accuracy: 0.712, Precision: 0.775, Recall: 0.737 | Training time: 0.5\n",
      "XGBC | MCC: 0.630, AUC: 0.815, Accuracy: 0.794, Precision: 0.837, Recall: 0.814 | Training time: 2.0\n",
      "\n",
      "=======================Selected features 110/207 =======================\n",
      "MLPC | MCC: 0.555, AUC: 0.777, Accuracy: 0.747, Precision: 0.817, Recall: 0.776 | Training time: 9.5\n",
      "SVC | MCC: 0.548, AUC: 0.774, Accuracy: 0.747, Precision: 0.808, Recall: 0.773 | Training time: 1.9\n",
      "RFC | MCC: 0.616, AUC: 0.808, Accuracy: 0.790, Precision: 0.825, Recall: 0.807 | Training time: 2.8\n",
      "DTC | MCC: 0.470, AUC: 0.735, Accuracy: 0.717, Precision: 0.755, Recall: 0.735 | Training time: 0.5\n",
      "XGBC | MCC: 0.619, AUC: 0.810, Accuracy: 0.784, Precision: 0.839, Recall: 0.809 | Training time: 1.9\n",
      "\n",
      "=======================Selected features 115/207 =======================\n",
      "MLPC | MCC: 0.576, AUC: 0.788, Accuracy: 0.760, Precision: 0.823, Recall: 0.787 | Training time: 5.6\n",
      "SVC | MCC: 0.560, AUC: 0.779, Accuracy: 0.751, Precision: 0.817, Recall: 0.779 | Training time: 1.9\n",
      "RFC | MCC: 0.648, AUC: 0.824, Accuracy: 0.813, Precision: 0.831, Recall: 0.824 | Training time: 2.4\n",
      "DTC | MCC: 0.473, AUC: 0.736, Accuracy: 0.718, Precision: 0.755, Recall: 0.736 | Training time: 0.4\n",
      "XGBC | MCC: 0.607, AUC: 0.803, Accuracy: 0.791, Precision: 0.811, Recall: 0.803 | Training time: 1.9\n",
      "\n",
      "=======================Selected features 120/207 =======================\n",
      "MLPC | MCC: 0.538, AUC: 0.769, Accuracy: 0.758, Precision: 0.775, Recall: 0.769 | Training time: 7.3\n",
      "SVC | MCC: 0.546, AUC: 0.772, Accuracy: 0.747, Precision: 0.806, Recall: 0.772 | Training time: 2.3\n",
      "RFC | MCC: 0.656, AUC: 0.828, Accuracy: 0.818, Precision: 0.834, Recall: 0.828 | Training time: 2.8\n",
      "DTC | MCC: 0.483, AUC: 0.741, Accuracy: 0.715, Precision: 0.777, Recall: 0.740 | Training time: 0.6\n",
      "XGBC | MCC: 0.609, AUC: 0.804, Accuracy: 0.777, Precision: 0.837, Recall: 0.803 | Training time: 2.1\n",
      "\n",
      "=======================Selected features 125/207 =======================\n",
      "MLPC | MCC: 0.573, AUC: 0.786, Accuracy: 0.760, Precision: 0.820, Recall: 0.785 | Training time: 6.8\n",
      "SVC | MCC: 0.563, AUC: 0.781, Accuracy: 0.752, Precision: 0.820, Recall: 0.780 | Training time: 2.3\n",
      "RFC | MCC: 0.612, AUC: 0.806, Accuracy: 0.796, Precision: 0.811, Recall: 0.806 | Training time: 2.5\n",
      "DTC | MCC: 0.459, AUC: 0.729, Accuracy: 0.714, Precision: 0.744, Recall: 0.729 | Training time: 0.5\n",
      "XGBC | MCC: 0.629, AUC: 0.814, Accuracy: 0.784, Precision: 0.851, Recall: 0.813 | Training time: 2.0\n",
      "\n",
      "=======================Selected features 130/207 =======================\n",
      "MLPC | MCC: 0.540, AUC: 0.770, Accuracy: 0.766, Precision: 0.763, Recall: 0.770 | Training time: 6.0\n",
      "SVC | MCC: 0.551, AUC: 0.775, Accuracy: 0.748, Precision: 0.811, Recall: 0.774 | Training time: 1.9\n",
      "RFC | MCC: 0.607, AUC: 0.804, Accuracy: 0.790, Precision: 0.814, Recall: 0.803 | Training time: 2.6\n",
      "DTC | MCC: 0.442, AUC: 0.721, Accuracy: 0.707, Precision: 0.732, Recall: 0.721 | Training time: 0.5\n",
      "XGBC | MCC: 0.611, AUC: 0.805, Accuracy: 0.784, Precision: 0.828, Recall: 0.805 | Training time: 1.9\n",
      "\n",
      "=======================Selected features 135/207 =======================\n",
      "MLPC | MCC: 0.567, AUC: 0.783, Accuracy: 0.763, Precision: 0.806, Recall: 0.783 | Training time: 5.3\n",
      "SVC | MCC: 0.563, AUC: 0.781, Accuracy: 0.749, Precision: 0.825, Recall: 0.780 | Training time: 2.1\n",
      "RFC | MCC: 0.621, AUC: 0.810, Accuracy: 0.797, Precision: 0.820, Recall: 0.810 | Training time: 2.5\n",
      "DTC | MCC: 0.438, AUC: 0.719, Accuracy: 0.694, Precision: 0.755, Recall: 0.718 | Training time: 0.5\n",
      "XGBC | MCC: 0.635, AUC: 0.818, Accuracy: 0.798, Precision: 0.837, Recall: 0.817 | Training time: 2.0\n",
      "\n",
      "=======================Selected features 140/207 =======================\n",
      "MLPC | MCC: 0.565, AUC: 0.782, Accuracy: 0.786, Precision: 0.763, Recall: 0.783 | Training time: 7.0\n",
      "SVC | MCC: 0.568, AUC: 0.784, Accuracy: 0.756, Precision: 0.820, Recall: 0.783 | Training time: 2.2\n",
      "RFC | MCC: 0.656, AUC: 0.828, Accuracy: 0.816, Precision: 0.837, Recall: 0.828 | Training time: 2.5\n",
      "DTC | MCC: 0.500, AUC: 0.749, Accuracy: 0.719, Precision: 0.794, Recall: 0.748 | Training time: 0.5\n",
      "XGBC | MCC: 0.589, AUC: 0.794, Accuracy: 0.770, Precision: 0.823, Recall: 0.794 | Training time: 2.0\n",
      "\n",
      "=======================Selected features 145/207 =======================\n",
      "MLPC | MCC: 0.584, AUC: 0.792, Accuracy: 0.798, Precision: 0.769, Recall: 0.792 | Training time: 7.0\n",
      "SVC | MCC: 0.576, AUC: 0.788, Accuracy: 0.759, Precision: 0.825, Recall: 0.787 | Training time: 2.2\n",
      "RFC | MCC: 0.652, AUC: 0.826, Accuracy: 0.803, Precision: 0.851, Recall: 0.825 | Training time: 2.6\n",
      "DTC | MCC: 0.511, AUC: 0.756, Accuracy: 0.737, Precision: 0.775, Recall: 0.755 | Training time: 0.5\n",
      "XGBC | MCC: 0.594, AUC: 0.797, Accuracy: 0.776, Precision: 0.820, Recall: 0.796 | Training time: 2.0\n",
      "\n",
      "=======================Selected features 150/207 =======================\n",
      "MLPC | MCC: 0.537, AUC: 0.768, Accuracy: 0.746, Precision: 0.794, Recall: 0.768 | Training time: 6.5\n",
      "SVC | MCC: 0.581, AUC: 0.790, Accuracy: 0.767, Precision: 0.817, Recall: 0.790 | Training time: 2.2\n",
      "RFC | MCC: 0.613, AUC: 0.806, Accuracy: 0.788, Precision: 0.825, Recall: 0.806 | Training time: 2.6\n"
     ]
    },
    {
     "name": "stdout",
     "output_type": "stream",
     "text": [
      "DTC | MCC: 0.436, AUC: 0.717, Accuracy: 0.694, Precision: 0.752, Recall: 0.717 | Training time: 0.5\n",
      "XGBC | MCC: 0.597, AUC: 0.798, Accuracy: 0.774, Precision: 0.828, Recall: 0.798 | Training time: 2.0\n",
      "\n",
      "=======================Selected features 155/207 =======================\n",
      "MLPC | MCC: 0.544, AUC: 0.772, Accuracy: 0.756, Precision: 0.786, Recall: 0.772 | Training time: 11.3\n",
      "SVC | MCC: 0.573, AUC: 0.786, Accuracy: 0.761, Precision: 0.817, Recall: 0.785 | Training time: 2.4\n",
      "RFC | MCC: 0.643, AUC: 0.822, Accuracy: 0.802, Precision: 0.842, Recall: 0.821 | Training time: 2.5\n",
      "DTC | MCC: 0.474, AUC: 0.737, Accuracy: 0.728, Precision: 0.738, Recall: 0.737 | Training time: 0.6\n",
      "XGBC | MCC: 0.637, AUC: 0.819, Accuracy: 0.802, Precision: 0.834, Recall: 0.818 | Training time: 2.4\n",
      "\n",
      "=======================Selected features 160/207 =======================\n",
      "MLPC | MCC: 0.568, AUC: 0.784, Accuracy: 0.772, Precision: 0.792, Recall: 0.784 | Training time: 8.5\n",
      "SVC | MCC: 0.570, AUC: 0.785, Accuracy: 0.762, Precision: 0.811, Recall: 0.784 | Training time: 2.5\n",
      "RFC | MCC: 0.627, AUC: 0.813, Accuracy: 0.795, Precision: 0.831, Recall: 0.813 | Training time: 2.5\n",
      "DTC | MCC: 0.485, AUC: 0.742, Accuracy: 0.718, Precision: 0.775, Recall: 0.741 | Training time: 0.5\n",
      "XGBC | MCC: 0.609, AUC: 0.804, Accuracy: 0.777, Precision: 0.837, Recall: 0.803 | Training time: 2.1\n",
      "\n",
      "=======================Selected features 165/207 =======================\n",
      "MLPC | MCC: 0.607, AUC: 0.803, Accuracy: 0.815, Precision: 0.772, Recall: 0.803 | Training time: 5.1\n",
      "SVC | MCC: 0.562, AUC: 0.781, Accuracy: 0.756, Precision: 0.811, Recall: 0.780 | Training time: 2.4\n",
      "RFC | MCC: 0.648, AUC: 0.824, Accuracy: 0.808, Precision: 0.839, Recall: 0.824 | Training time: 2.4\n",
      "DTC | MCC: 0.474, AUC: 0.737, Accuracy: 0.711, Precision: 0.775, Recall: 0.736 | Training time: 0.5\n",
      "XGBC | MCC: 0.596, AUC: 0.798, Accuracy: 0.786, Precision: 0.806, Recall: 0.798 | Training time: 2.3\n",
      "\n",
      "=======================Selected features 170/207 =======================\n",
      "MLPC | MCC: 0.581, AUC: 0.789, Accuracy: 0.753, Precision: 0.842, Recall: 0.788 | Training time: 9.6\n",
      "SVC | MCC: 0.567, AUC: 0.783, Accuracy: 0.761, Precision: 0.808, Recall: 0.783 | Training time: 2.6\n",
      "RFC | MCC: 0.638, AUC: 0.819, Accuracy: 0.801, Precision: 0.837, Recall: 0.818 | Training time: 2.6\n",
      "DTC | MCC: 0.509, AUC: 0.754, Accuracy: 0.733, Precision: 0.780, Recall: 0.754 | Training time: 0.6\n",
      "XGBC | MCC: 0.633, AUC: 0.816, Accuracy: 0.795, Precision: 0.839, Recall: 0.816 | Training time: 2.1\n",
      "\n",
      "=======================Selected features 175/207 =======================\n",
      "MLPC | MCC: 0.511, AUC: 0.755, Accuracy: 0.724, Precision: 0.800, Recall: 0.754 | Training time: 7.6\n",
      "SVC | MCC: 0.557, AUC: 0.778, Accuracy: 0.752, Precision: 0.811, Recall: 0.777 | Training time: 2.6\n",
      "RFC | MCC: 0.635, AUC: 0.818, Accuracy: 0.795, Precision: 0.842, Recall: 0.817 | Training time: 2.7\n",
      "DTC | MCC: 0.496, AUC: 0.748, Accuracy: 0.739, Precision: 0.749, Recall: 0.748 | Training time: 0.5\n",
      "XGBC | MCC: 0.606, AUC: 0.803, Accuracy: 0.777, Precision: 0.834, Recall: 0.802 | Training time: 2.1\n",
      "\n",
      "=======================Selected features 180/207 =======================\n",
      "MLPC | MCC: 0.566, AUC: 0.783, Accuracy: 0.765, Precision: 0.800, Recall: 0.783 | Training time: 7.3\n",
      "SVC | MCC: 0.564, AUC: 0.782, Accuracy: 0.759, Precision: 0.808, Recall: 0.781 | Training time: 2.8\n",
      "RFC | MCC: 0.656, AUC: 0.828, Accuracy: 0.816, Precision: 0.837, Recall: 0.828 | Training time: 2.4\n",
      "DTC | MCC: 0.487, AUC: 0.743, Accuracy: 0.723, Precision: 0.766, Recall: 0.743 | Training time: 0.5\n",
      "XGBC | MCC: 0.619, AUC: 0.809, Accuracy: 0.787, Precision: 0.834, Recall: 0.809 | Training time: 2.2\n",
      "\n",
      "=======================Selected features 185/207 =======================\n",
      "MLPC | MCC: 0.572, AUC: 0.786, Accuracy: 0.768, Precision: 0.803, Recall: 0.785 | Training time: 9.5\n",
      "SVC | MCC: 0.573, AUC: 0.786, Accuracy: 0.763, Precision: 0.814, Recall: 0.785 | Training time: 2.8\n",
      "RFC | MCC: 0.632, AUC: 0.816, Accuracy: 0.801, Precision: 0.828, Recall: 0.816 | Training time: 2.4\n",
      "DTC | MCC: 0.470, AUC: 0.735, Accuracy: 0.719, Precision: 0.749, Recall: 0.735 | Training time: 0.6\n",
      "XGBC | MCC: 0.619, AUC: 0.810, Accuracy: 0.784, Precision: 0.839, Recall: 0.809 | Training time: 2.2\n",
      "\n",
      "=======================Selected features 190/207 =======================\n",
      "MLPC | MCC: 0.572, AUC: 0.786, Accuracy: 0.764, Precision: 0.811, Recall: 0.785 | Training time: 9.0\n",
      "SVC | MCC: 0.575, AUC: 0.787, Accuracy: 0.767, Precision: 0.808, Recall: 0.787 | Training time: 3.0\n",
      "RFC | MCC: 0.644, AUC: 0.822, Accuracy: 0.800, Precision: 0.845, Recall: 0.821 | Training time: 2.4\n",
      "DTC | MCC: 0.484, AUC: 0.742, Accuracy: 0.725, Precision: 0.758, Recall: 0.741 | Training time: 0.6\n",
      "XGBC | MCC: 0.612, AUC: 0.806, Accuracy: 0.802, Precision: 0.800, Recall: 0.806 | Training time: 2.3\n",
      "\n",
      "=======================Selected features 195/207 =======================\n",
      "MLPC | MCC: 0.550, AUC: 0.775, Accuracy: 0.756, Precision: 0.794, Recall: 0.774 | Training time: 5.8\n",
      "SVC | MCC: 0.569, AUC: 0.785, Accuracy: 0.763, Precision: 0.808, Recall: 0.784 | Training time: 2.8\n",
      "RFC | MCC: 0.662, AUC: 0.831, Accuracy: 0.815, Precision: 0.845, Recall: 0.831 | Training time: 2.3\n",
      "DTC | MCC: 0.452, AUC: 0.726, Accuracy: 0.702, Precision: 0.758, Recall: 0.725 | Training time: 0.6\n",
      "XGBC | MCC: 0.615, AUC: 0.808, Accuracy: 0.791, Precision: 0.823, Recall: 0.807 | Training time: 2.2\n",
      "\n",
      "=======================Selected features 200/207 =======================\n",
      "MLPC | MCC: 0.594, AUC: 0.797, Accuracy: 0.775, Precision: 0.823, Recall: 0.796 | Training time: 7.0\n",
      "SVC | MCC: 0.572, AUC: 0.786, Accuracy: 0.764, Precision: 0.811, Recall: 0.785 | Training time: 2.9\n",
      "RFC | MCC: 0.646, AUC: 0.823, Accuracy: 0.802, Precision: 0.845, Recall: 0.823 | Training time: 2.5\n",
      "DTC | MCC: 0.448, AUC: 0.724, Accuracy: 0.705, Precision: 0.746, Recall: 0.724 | Training time: 0.6\n",
      "XGBC | MCC: 0.602, AUC: 0.801, Accuracy: 0.784, Precision: 0.817, Recall: 0.801 | Training time: 2.2\n",
      "\n",
      "=======================Selected features 205/207 =======================\n",
      "MLPC | MCC: 0.569, AUC: 0.785, Accuracy: 0.765, Precision: 0.806, Recall: 0.784 | Training time: 9.5\n",
      "SVC | MCC: 0.583, AUC: 0.791, Accuracy: 0.771, Precision: 0.814, Recall: 0.791 | Training time: 3.0\n",
      "RFC | MCC: 0.637, AUC: 0.819, Accuracy: 0.807, Precision: 0.825, Recall: 0.818 | Training time: 2.6\n",
      "DTC | MCC: 0.463, AUC: 0.731, Accuracy: 0.706, Precision: 0.766, Recall: 0.730 | Training time: 0.7\n",
      "XGBC | MCC: 0.582, AUC: 0.791, Accuracy: 0.777, Precision: 0.803, Recall: 0.791 | Training time: 2.3\n"
     ]
    }
   ],
   "source": [
    "models_mic, results_mic, num_sel_feat_mic, features_mic = fs_score_fn(X_train, y_train, X_val, y_val, X_train_norm, X_val_norm, True, mutual_info_classif)"
   ]
  },
  {
   "cell_type": "code",
   "execution_count": 60,
   "id": "e6cd46e2",
   "metadata": {},
   "outputs": [
    {
     "data": {
      "image/png": "[encoded data removed]",
      "text/plain": [
       "<Figure size 950x380 with 1 Axes>"
      ]
     },
     "metadata": {},
     "output_type": "display_data"
    }
   ],
   "source": [
    "mcc_mic, auc_mic = plot_fs_metrics(num_sel_feat_mic, results_mic, 'Mutual Info Classification', True)"
   ]
  },
  {
   "cell_type": "code",
   "execution_count": 64,
   "id": "f6d272a7",
   "metadata": {},
   "outputs": [
    {
     "name": "stdout",
     "output_type": "stream",
     "text": [
      "Number of features that will be employed: 120\n"
     ]
    }
   ],
   "source": [
    "idx = get_pos_features(mcc_mic, True)\n",
    "print('Number of features that will be employed:',len(features_mic[idx]))\n",
    "selected_features_mic = features_mic[idx]"
   ]
  },
  {
   "cell_type": "code",
   "execution_count": 65,
   "id": "7f8007ce",
   "metadata": {},
   "outputs": [
    {
     "name": "stdout",
     "output_type": "stream",
     "text": [
      "{'n_estimators': 200, 'min_samples_split': 15, 'min_samples_leaf': 1, 'max_features': 'sqrt', 'max_depth': None, 'bootstrap': False}\n",
      "MCC: 0.648878, AUC: 0.824417, PRECISION: 0.804290, RECALL: 0.845070, ACCURACY: 0.823934\n"
     ]
    }
   ],
   "source": [
    "# Hyperparameter optimisation post mutual info classification feature selection\n",
    "rnd_models_mic, metrics_rnd_mic = apply_randsearch(X_train[selected_features_mic]\n",
    "                                                        , y_train                                                       \n",
    "                                                        , X_val[selected_features_mic]\n",
    "                                                        , y_val\n",
    "                                                        , True\n",
    "                                                        , X_train_norm[selected_features_mic]\n",
    "                                                        , X_val_norm[selected_features_mic])"
   ]
  },
  {
   "cell_type": "markdown",
   "id": "45ef970d",
   "metadata": {},
   "source": [
    "## Performance against the test set \n",
    "\n",
    "We will now see how our best model works with the unseen test set. Recall that the tuned RFC with the features selected by MIC is the chosen solution. "
   ]
  },
  {
   "cell_type": "code",
   "execution_count": 83,
   "id": "f485a898",
   "metadata": {},
   "outputs": [],
   "source": [
    "# Save the model that better performs  \n",
    "joblib.dump(rnd_models_mic[0], 'rfc_mic.pkl')\n",
    "\n",
    "# loading the model \n",
    "rfc_mic = joblib.load('rfc_mic.pkl')\n",
    "\n",
    "#Saving the list of features used by each FS algo\n",
    "with open(\"Features/features_mic.txt\", \"wb\") as fp:\n",
    "    pickle.dump(selected_features_mic, fp)\n",
    "\n",
    "with open(\"Features/features_rf_c.txt\", \"wb\") as fp:\n",
    "    pickle.dump(selected_features_rf, fp)\n",
    "    \n",
    "with open(\"Features/features_mrmr_c.txt\", \"wb\") as fp:\n",
    "    pickle.dump(selected_features_mrmr, fp)"
   ]
  },
  {
   "cell_type": "code",
   "execution_count": 79,
   "id": "f91de19f",
   "metadata": {
    "scrolled": true
   },
   "outputs": [
    {
     "name": "stdout",
     "output_type": "stream",
     "text": [
      "Number of samples: 1317 | MCC: 0.766, AUC: 0.884, Accuracy: 0.902, Precision: 0.890, Recall: 0.885\n"
     ]
    },
    {
     "data": {
      "image/png": "[encoded data removed]",
      "text/plain": [
       "<Figure size 432x288 with 2 Axes>"
      ]
     },
     "metadata": {},
     "output_type": "display_data"
    }
   ],
   "source": [
    "# Confusion matrix\n",
    "metrics.plot_confusion_matrix(rfc_mic, X_test[selected_features_mic], y_test)\n",
    "\n",
    "# Metrics\n",
    "y_pred = rfc_mic.predict(X_test[selected_features_mic])\n",
    "var1 = metrics.matthews_corrcoef(y_test, y_pred)\n",
    "var2 = metrics.roc_auc_score(y_test, y_pred)\n",
    "var3 = metrics.precision_score(y_test, y_pred)\n",
    "var4 = metrics.recall_score(y_test, y_pred)\n",
    "var5 = metrics.accuracy_score(y_test, y_pred)\n",
    "        \n",
    "print('Number of samples: %d | MCC: %0.3f, AUC: %0.3f, Accuracy: %0.3f, Precision: %0.3f, Recall: %0.3f'\n",
    "      %(len(y_test), var1, var2, var3, var4, var5))\n",
    "\n",
    "plt.grid(False)\n",
    "plt.show()"
   ]
  }
 ],
 "metadata": {
  "kernelspec": {
   "display_name": "Python 3 (ipykernel)",
   "language": "python",
   "name": "python3"
  },
  "language_info": {
   "codemirror_mode": {
    "name": "ipython",
    "version": 3
   },
   "file_extension": ".py",
   "mimetype": "text/x-python",
   "name": "python",
   "nbconvert_exporter": "python",
   "pygments_lexer": "ipython3",
   "version": "3.9.7"
  }
 },
 "nbformat": 4,
 "nbformat_minor": 5
}
