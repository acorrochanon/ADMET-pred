{
 "cells": [
  {
   "cell_type": "markdown",
   "id": "2446747b",
   "metadata": {},
   "source": [
    "# Benchmarking feature selection algorithms in the molecular property prediction space: Ames mutagenicity\n",
    "\n",
    "*Alejandro Corrochano's contribution to the final project.* "
   ]
  },
  {
   "cell_type": "code",
   "execution_count": 1,
   "id": "14c8203f",
   "metadata": {},
   "outputs": [],
   "source": [
    "# Datasets\n",
    "from tdc.single_pred import Tox\n",
    "\n",
    "# Additional functions in a separate ipynb file\n",
    "from ipynb.fs.full.AZ_additional_functions import *\n",
    "\n",
    "# General use \n",
    "import pandas as pd\n",
    "import numpy as np\n",
    "import seaborn as sns\n",
    "import matplotlib.pyplot as plt \n",
    "\n",
    "#import shap\n",
    "#Save and load models\n",
    "import joblib\n",
    "\n",
    "# RDkit\n",
    "from rdkit import Chem\n",
    "from rdkit import RDLogger\n",
    "from rdkit import DataStructs\n",
    "from rdkit.Chem import AllChem\n",
    "from rdkit.Chem import Descriptors\n",
    "from rdkit.ML.Descriptors.MoleculeDescriptors import MolecularDescriptorCalculator\n",
    "\n",
    "# Standardizing\n",
    "from molvs import standardize_smiles"
   ]
  },
  {
   "cell_type": "code",
   "execution_count": 2,
   "id": "8c3ae46f",
   "metadata": {},
   "outputs": [
    {
     "name": "stderr",
     "output_type": "stream",
     "text": [
      "Found local copy...\n",
      "Loading...\n",
      "Done!\n"
     ]
    }
   ],
   "source": [
    "data = Tox(name = 'AMES')\n",
    "#DF contains the whole dataset stored in a Pandas dataframe format \n",
    "df = data.get_data()\n",
    "#Get_split divides the dataset into 3 different sets (Train, validation, test)\n",
    "split_AMES = data.get_split()"
   ]
  },
  {
   "cell_type": "code",
   "execution_count": 3,
   "id": "565b9a6a",
   "metadata": {},
   "outputs": [
    {
     "name": "stdout",
     "output_type": "stream",
     "text": [
      "Total number of molecules: 7278\n",
      "Train set: 5094 - 70.0%\n",
      "Validation set: 728 - 10.0%\n",
      "Test set: 1456 - 20.0%\n"
     ]
    },
    {
     "data": {
      "text/html": [
       "<div>\n",
       "<style scoped>\n",
       "    .dataframe tbody tr th:only-of-type {\n",
       "        vertical-align: middle;\n",
       "    }\n",
       "\n",
       "    .dataframe tbody tr th {\n",
       "        vertical-align: top;\n",
       "    }\n",
       "\n",
       "    .dataframe thead th {\n",
       "        text-align: right;\n",
       "    }\n",
       "</style>\n",
       "<table border=\"1\" class=\"dataframe\">\n",
       "  <thead>\n",
       "    <tr style=\"text-align: right;\">\n",
       "      <th></th>\n",
       "      <th>Drug_ID</th>\n",
       "      <th>Drug</th>\n",
       "      <th>Y</th>\n",
       "    </tr>\n",
       "  </thead>\n",
       "  <tbody>\n",
       "    <tr>\n",
       "      <th>0</th>\n",
       "      <td>Drug 1</td>\n",
       "      <td>O=[N+]([O-])c1c2c(c3ccc4cccc5ccc1c3c45)CCCC2</td>\n",
       "      <td>1</td>\n",
       "    </tr>\n",
       "    <tr>\n",
       "      <th>1</th>\n",
       "      <td>Drug 2</td>\n",
       "      <td>O=c1c2ccccc2c(=O)c2c1ccc1c2[nH]c2c3c(=O)c4cccc...</td>\n",
       "      <td>0</td>\n",
       "    </tr>\n",
       "    <tr>\n",
       "      <th>2</th>\n",
       "      <td>Drug 3</td>\n",
       "      <td>[N-]=[N+]=CC(=O)NCC(=O)NN</td>\n",
       "      <td>1</td>\n",
       "    </tr>\n",
       "    <tr>\n",
       "      <th>3</th>\n",
       "      <td>Drug 4</td>\n",
       "      <td>[N-]=[N+]=C1C=NC(=O)NC1=O</td>\n",
       "      <td>1</td>\n",
       "    </tr>\n",
       "    <tr>\n",
       "      <th>4</th>\n",
       "      <td>Drug 6</td>\n",
       "      <td>CCCCN(CC(O)C1=CC(=[N+]=[N-])C(=O)C=C1)N=O</td>\n",
       "      <td>1</td>\n",
       "    </tr>\n",
       "  </tbody>\n",
       "</table>\n",
       "</div>"
      ],
      "text/plain": [
       "  Drug_ID                                               Drug  Y\n",
       "0  Drug 1       O=[N+]([O-])c1c2c(c3ccc4cccc5ccc1c3c45)CCCC2  1\n",
       "1  Drug 2  O=c1c2ccccc2c(=O)c2c1ccc1c2[nH]c2c3c(=O)c4cccc...  0\n",
       "2  Drug 3                          [N-]=[N+]=CC(=O)NCC(=O)NN  1\n",
       "3  Drug 4                          [N-]=[N+]=C1C=NC(=O)NC1=O  1\n",
       "4  Drug 6          CCCCN(CC(O)C1=CC(=[N+]=[N-])C(=O)C=C1)N=O  1"
      ]
     },
     "metadata": {},
     "output_type": "display_data"
    }
   ],
   "source": [
    "data_overview(df, split_AMES)"
   ]
  },
  {
   "cell_type": "code",
   "execution_count": 4,
   "id": "ef7c80ab",
   "metadata": {},
   "outputs": [
    {
     "name": "stdout",
     "output_type": "stream",
     "text": [
      "Number of compounds modified: 0\n"
     ]
    }
   ],
   "source": [
    "# Remove fragments of compounds that may contain them\n",
    "frag_compounds = [comp for comp in df['Drug'] if len(comp.split('.')) > 1]\n",
    "for ind, c in enumerate(frag_compounds):\n",
    "    df.loc[df.Drug == frag_compounds[ind], 'Drug'] = frag_compounds[ind].split('.')[0]\n",
    "\n",
    "print('Number of compounds modified: {}'.format(len(frag_compounds)))"
   ]
  },
  {
   "cell_type": "code",
   "execution_count": 5,
   "id": "55517821",
   "metadata": {},
   "outputs": [
    {
     "name": "stdout",
     "output_type": "stream",
     "text": [
      "Duplicated compounds and with less than 5 heavy atoms have been removed.\n",
      "New number of compounds: 7140 (-138)\n"
     ]
    }
   ],
   "source": [
    "# Duplicates and compounds with less than 5 heavy atoms removal\n",
    "df = remove_ha_duplicates(df)"
   ]
  },
  {
   "cell_type": "code",
   "execution_count": 6,
   "id": "08c42ead",
   "metadata": {},
   "outputs": [
    {
     "name": "stdout",
     "output_type": "stream",
     "text": [
      "Calculator initialized. Total number of descriptors: 208\n"
     ]
    }
   ],
   "source": [
    "descList = [i for i,j in Descriptors.descList]\n",
    "#Molecular descriptor calculator\n",
    "calculator = MolecularDescriptorCalculator(descList)\n",
    "print('Calculator initialized. Total number of descriptors:', len(descList))"
   ]
  },
  {
   "cell_type": "code",
   "execution_count": 7,
   "id": "8e08b0ab",
   "metadata": {},
   "outputs": [
    {
     "ename": "KeyboardInterrupt",
     "evalue": "",
     "output_type": "error",
     "traceback": [
      "\u001b[1;31m---------------------------------------------------------------------------\u001b[0m",
      "\u001b[1;31mKeyboardInterrupt\u001b[0m                         Traceback (most recent call last)",
      "\u001b[1;32mC:\\Users\\ALEJAN~1\\AppData\\Local\\Temp/ipykernel_18320/319699517.py\u001b[0m in \u001b[0;36m<module>\u001b[1;34m\u001b[0m\n\u001b[0;32m      3\u001b[0m \u001b[1;33m\u001b[0m\u001b[0m\n\u001b[0;32m      4\u001b[0m \u001b[1;31m# Generate a list of lists where each row corresponds to a molecule and each column to a descriptor (transpose step required)\u001b[0m\u001b[1;33m\u001b[0m\u001b[1;33m\u001b[0m\u001b[0m\n\u001b[1;32m----> 5\u001b[1;33m \u001b[0mc\u001b[0m \u001b[1;33m=\u001b[0m \u001b[1;33m[\u001b[0m\u001b[0mcalculator\u001b[0m\u001b[1;33m.\u001b[0m\u001b[0mCalcDescriptors\u001b[0m\u001b[1;33m(\u001b[0m\u001b[0mChem\u001b[0m\u001b[1;33m.\u001b[0m\u001b[0mMolFromSmiles\u001b[0m\u001b[1;33m(\u001b[0m\u001b[0msmi\u001b[0m\u001b[1;33m)\u001b[0m\u001b[1;33m)\u001b[0m \u001b[1;32mfor\u001b[0m \u001b[0msmi\u001b[0m \u001b[1;32min\u001b[0m \u001b[0mdf\u001b[0m\u001b[1;33m[\u001b[0m\u001b[1;34m'Drug'\u001b[0m\u001b[1;33m]\u001b[0m\u001b[1;33m]\u001b[0m\u001b[1;33m\u001b[0m\u001b[1;33m\u001b[0m\u001b[0m\n\u001b[0m\u001b[0;32m      6\u001b[0m \u001b[1;33m\u001b[0m\u001b[0m\n\u001b[0;32m      7\u001b[0m \u001b[1;31m# Convert it into a numpy array and transpose it so the columns represent the descriptors\u001b[0m\u001b[1;33m\u001b[0m\u001b[1;33m\u001b[0m\u001b[0m\n",
      "\u001b[1;32mC:\\Users\\ALEJAN~1\\AppData\\Local\\Temp/ipykernel_18320/319699517.py\u001b[0m in \u001b[0;36m<listcomp>\u001b[1;34m(.0)\u001b[0m\n\u001b[0;32m      3\u001b[0m \u001b[1;33m\u001b[0m\u001b[0m\n\u001b[0;32m      4\u001b[0m \u001b[1;31m# Generate a list of lists where each row corresponds to a molecule and each column to a descriptor (transpose step required)\u001b[0m\u001b[1;33m\u001b[0m\u001b[1;33m\u001b[0m\u001b[0m\n\u001b[1;32m----> 5\u001b[1;33m \u001b[0mc\u001b[0m \u001b[1;33m=\u001b[0m \u001b[1;33m[\u001b[0m\u001b[0mcalculator\u001b[0m\u001b[1;33m.\u001b[0m\u001b[0mCalcDescriptors\u001b[0m\u001b[1;33m(\u001b[0m\u001b[0mChem\u001b[0m\u001b[1;33m.\u001b[0m\u001b[0mMolFromSmiles\u001b[0m\u001b[1;33m(\u001b[0m\u001b[0msmi\u001b[0m\u001b[1;33m)\u001b[0m\u001b[1;33m)\u001b[0m \u001b[1;32mfor\u001b[0m \u001b[0msmi\u001b[0m \u001b[1;32min\u001b[0m \u001b[0mdf\u001b[0m\u001b[1;33m[\u001b[0m\u001b[1;34m'Drug'\u001b[0m\u001b[1;33m]\u001b[0m\u001b[1;33m]\u001b[0m\u001b[1;33m\u001b[0m\u001b[1;33m\u001b[0m\u001b[0m\n\u001b[0m\u001b[0;32m      6\u001b[0m \u001b[1;33m\u001b[0m\u001b[0m\n\u001b[0;32m      7\u001b[0m \u001b[1;31m# Convert it into a numpy array and transpose it so the columns represent the descriptors\u001b[0m\u001b[1;33m\u001b[0m\u001b[1;33m\u001b[0m\u001b[0m\n",
      "\u001b[1;32m~\\Anaconda3\\envs\\my-rdkit-env\\lib\\site-packages\\rdkit\\ML\\Descriptors\\MoleculeDescriptors.py\u001b[0m in \u001b[0;36mCalcDescriptors\u001b[1;34m(self, mol, *args, **kwargs)\u001b[0m\n\u001b[0;32m     86\u001b[0m       \u001b[0mfn\u001b[0m \u001b[1;33m=\u001b[0m \u001b[0mgetattr\u001b[0m\u001b[1;33m(\u001b[0m\u001b[0mDescriptorsMod\u001b[0m\u001b[1;33m,\u001b[0m \u001b[0mnm\u001b[0m\u001b[1;33m,\u001b[0m \u001b[1;32mlambda\u001b[0m \u001b[0mx\u001b[0m\u001b[1;33m:\u001b[0m \u001b[1;36m777\u001b[0m\u001b[1;33m)\u001b[0m\u001b[1;33m\u001b[0m\u001b[1;33m\u001b[0m\u001b[0m\n\u001b[0;32m     87\u001b[0m       \u001b[1;32mtry\u001b[0m\u001b[1;33m:\u001b[0m\u001b[1;33m\u001b[0m\u001b[1;33m\u001b[0m\u001b[0m\n\u001b[1;32m---> 88\u001b[1;33m         \u001b[0mres\u001b[0m\u001b[1;33m[\u001b[0m\u001b[0mi\u001b[0m\u001b[1;33m]\u001b[0m \u001b[1;33m=\u001b[0m \u001b[0mfn\u001b[0m\u001b[1;33m(\u001b[0m\u001b[0mmol\u001b[0m\u001b[1;33m)\u001b[0m\u001b[1;33m\u001b[0m\u001b[1;33m\u001b[0m\u001b[0m\n\u001b[0m\u001b[0;32m     89\u001b[0m       \u001b[1;32mexcept\u001b[0m \u001b[0mException\u001b[0m\u001b[1;33m:\u001b[0m\u001b[1;33m\u001b[0m\u001b[1;33m\u001b[0m\u001b[0m\n\u001b[0;32m     90\u001b[0m         \u001b[1;32mimport\u001b[0m \u001b[0mtraceback\u001b[0m\u001b[1;33m\u001b[0m\u001b[1;33m\u001b[0m\u001b[0m\n",
      "\u001b[1;32m~\\Anaconda3\\envs\\my-rdkit-env\\lib\\site-packages\\rdkit\\Chem\\QED.py\u001b[0m in \u001b[0;36mqed\u001b[1;34m(mol, w, qedProperties)\u001b[0m\n\u001b[0;32m    284\u001b[0m   \"\"\"\n\u001b[0;32m    285\u001b[0m   \u001b[1;32mif\u001b[0m \u001b[0mqedProperties\u001b[0m \u001b[1;32mis\u001b[0m \u001b[1;32mNone\u001b[0m\u001b[1;33m:\u001b[0m\u001b[1;33m\u001b[0m\u001b[1;33m\u001b[0m\u001b[0m\n\u001b[1;32m--> 286\u001b[1;33m       \u001b[0mqedProperties\u001b[0m \u001b[1;33m=\u001b[0m \u001b[0mproperties\u001b[0m\u001b[1;33m(\u001b[0m\u001b[0mmol\u001b[0m\u001b[1;33m)\u001b[0m\u001b[1;33m\u001b[0m\u001b[1;33m\u001b[0m\u001b[0m\n\u001b[0m\u001b[0;32m    287\u001b[0m   \u001b[0md\u001b[0m \u001b[1;33m=\u001b[0m \u001b[1;33m[\u001b[0m\u001b[0mads\u001b[0m\u001b[1;33m(\u001b[0m\u001b[0mpi\u001b[0m\u001b[1;33m,\u001b[0m \u001b[0madsParameters\u001b[0m\u001b[1;33m[\u001b[0m\u001b[0mname\u001b[0m\u001b[1;33m]\u001b[0m\u001b[1;33m)\u001b[0m \u001b[1;32mfor\u001b[0m \u001b[0mname\u001b[0m\u001b[1;33m,\u001b[0m \u001b[0mpi\u001b[0m \u001b[1;32min\u001b[0m \u001b[0mqedProperties\u001b[0m\u001b[1;33m.\u001b[0m\u001b[0m_asdict\u001b[0m\u001b[1;33m(\u001b[0m\u001b[1;33m)\u001b[0m\u001b[1;33m.\u001b[0m\u001b[0mitems\u001b[0m\u001b[1;33m(\u001b[0m\u001b[1;33m)\u001b[0m\u001b[1;33m]\u001b[0m\u001b[1;33m\u001b[0m\u001b[1;33m\u001b[0m\u001b[0m\n\u001b[0;32m    288\u001b[0m   \u001b[0mt\u001b[0m \u001b[1;33m=\u001b[0m \u001b[0msum\u001b[0m\u001b[1;33m(\u001b[0m\u001b[0mwi\u001b[0m \u001b[1;33m*\u001b[0m \u001b[0mmath\u001b[0m\u001b[1;33m.\u001b[0m\u001b[0mlog\u001b[0m\u001b[1;33m(\u001b[0m\u001b[0mdi\u001b[0m\u001b[1;33m)\u001b[0m \u001b[1;32mfor\u001b[0m \u001b[0mwi\u001b[0m\u001b[1;33m,\u001b[0m \u001b[0mdi\u001b[0m \u001b[1;32min\u001b[0m \u001b[0mzip\u001b[0m\u001b[1;33m(\u001b[0m\u001b[0mw\u001b[0m\u001b[1;33m,\u001b[0m \u001b[0md\u001b[0m\u001b[1;33m)\u001b[0m\u001b[1;33m)\u001b[0m\u001b[1;33m\u001b[0m\u001b[1;33m\u001b[0m\u001b[0m\n",
      "\u001b[1;32m~\\Anaconda3\\envs\\my-rdkit-env\\lib\\site-packages\\rdkit\\Chem\\QED.py\u001b[0m in \u001b[0;36mproperties\u001b[1;34m(mol)\u001b[0m\n\u001b[0;32m    251\u001b[0m     \u001b[0mMW\u001b[0m\u001b[1;33m=\u001b[0m\u001b[0mrdmd\u001b[0m\u001b[1;33m.\u001b[0m\u001b[0m_CalcMolWt\u001b[0m\u001b[1;33m(\u001b[0m\u001b[0mmol\u001b[0m\u001b[1;33m)\u001b[0m\u001b[1;33m,\u001b[0m\u001b[1;33m\u001b[0m\u001b[1;33m\u001b[0m\u001b[0m\n\u001b[0;32m    252\u001b[0m     \u001b[0mALOGP\u001b[0m\u001b[1;33m=\u001b[0m\u001b[0mCrippen\u001b[0m\u001b[1;33m.\u001b[0m\u001b[0mMolLogP\u001b[0m\u001b[1;33m(\u001b[0m\u001b[0mmol\u001b[0m\u001b[1;33m)\u001b[0m\u001b[1;33m,\u001b[0m\u001b[1;33m\u001b[0m\u001b[1;33m\u001b[0m\u001b[0m\n\u001b[1;32m--> 253\u001b[1;33m     HBA=sum(len(mol.GetSubstructMatches(pattern)) for pattern in Acceptors\n\u001b[0m\u001b[0;32m    254\u001b[0m             if mol.HasSubstructMatch(pattern)),\n\u001b[0;32m    255\u001b[0m     \u001b[0mHBD\u001b[0m\u001b[1;33m=\u001b[0m\u001b[0mrdmd\u001b[0m\u001b[1;33m.\u001b[0m\u001b[0mCalcNumHBD\u001b[0m\u001b[1;33m(\u001b[0m\u001b[0mmol\u001b[0m\u001b[1;33m)\u001b[0m\u001b[1;33m,\u001b[0m\u001b[1;33m\u001b[0m\u001b[1;33m\u001b[0m\u001b[0m\n",
      "\u001b[1;32m~\\Anaconda3\\envs\\my-rdkit-env\\lib\\site-packages\\rdkit\\Chem\\QED.py\u001b[0m in \u001b[0;36m<genexpr>\u001b[1;34m(.0)\u001b[0m\n\u001b[0;32m    252\u001b[0m     \u001b[0mALOGP\u001b[0m\u001b[1;33m=\u001b[0m\u001b[0mCrippen\u001b[0m\u001b[1;33m.\u001b[0m\u001b[0mMolLogP\u001b[0m\u001b[1;33m(\u001b[0m\u001b[0mmol\u001b[0m\u001b[1;33m)\u001b[0m\u001b[1;33m,\u001b[0m\u001b[1;33m\u001b[0m\u001b[1;33m\u001b[0m\u001b[0m\n\u001b[0;32m    253\u001b[0m     HBA=sum(len(mol.GetSubstructMatches(pattern)) for pattern in Acceptors\n\u001b[1;32m--> 254\u001b[1;33m             if mol.HasSubstructMatch(pattern)),\n\u001b[0m\u001b[0;32m    255\u001b[0m     \u001b[0mHBD\u001b[0m\u001b[1;33m=\u001b[0m\u001b[0mrdmd\u001b[0m\u001b[1;33m.\u001b[0m\u001b[0mCalcNumHBD\u001b[0m\u001b[1;33m(\u001b[0m\u001b[0mmol\u001b[0m\u001b[1;33m)\u001b[0m\u001b[1;33m,\u001b[0m\u001b[1;33m\u001b[0m\u001b[1;33m\u001b[0m\u001b[0m\n\u001b[0;32m    256\u001b[0m     \u001b[0mPSA\u001b[0m\u001b[1;33m=\u001b[0m\u001b[0mMolSurf\u001b[0m\u001b[1;33m.\u001b[0m\u001b[0mTPSA\u001b[0m\u001b[1;33m(\u001b[0m\u001b[0mmol\u001b[0m\u001b[1;33m)\u001b[0m\u001b[1;33m,\u001b[0m\u001b[1;33m\u001b[0m\u001b[1;33m\u001b[0m\u001b[0m\n",
      "\u001b[1;31mKeyboardInterrupt\u001b[0m: "
     ]
    }
   ],
   "source": [
    "# Standardize the molecules \n",
    "df['Drug'] = [standardize_smiles(smi) for smi in df['Drug']]\n",
    "\n",
    "# Generate a list of lists where each row corresponds to a molecule and each column to a descriptor (transpose step required)\n",
    "c = [calculator.CalcDescriptors(Chem.MolFromSmiles(smi)) for smi in df['Drug']]\n",
    "\n",
    "# Convert it into a numpy array and transpose it so the columns represent the descriptors\n",
    "c = np.asarray(c).transpose()\n",
    "\n",
    "# Append all the descriptors to the DF\n",
    "for i, descriptor in enumerate(descList):\n",
    "    df[descriptor] = c[i]\n",
    "    \n",
    "#We move the target (Ames) to the end\n",
    "temp = df.pop('Y') # remove column b and store it in df1\n",
    "df['Y'] = temp\n",
    "\n",
    "print('Actual shape of the Dataframe:', df.shape)"
   ]
  },
  {
   "cell_type": "code",
   "execution_count": null,
   "id": "bf6251fc",
   "metadata": {},
   "outputs": [],
   "source": [
    "df.head()"
   ]
  },
  {
   "cell_type": "markdown",
   "id": "7f0aa897",
   "metadata": {},
   "source": [
    "### Generate splits, remove NaNs, and normalization"
   ]
  },
  {
   "cell_type": "markdown",
   "id": "4549bf92",
   "metadata": {},
   "source": [
    "#### Train, validation, and test sets for both Descriptors and fingerprints"
   ]
  },
  {
   "cell_type": "code",
   "execution_count": null,
   "id": "1ffd3616",
   "metadata": {},
   "outputs": [],
   "source": [
    "X_train, y_train, X_val, y_val, X_test, y_test = train_val_test_split(df, split_AMES)"
   ]
  },
  {
   "cell_type": "markdown",
   "id": "0a876083",
   "metadata": {},
   "source": [
    "#### Remove NaNs values"
   ]
  },
  {
   "cell_type": "code",
   "execution_count": null,
   "id": "e9f31be2",
   "metadata": {},
   "outputs": [],
   "source": [
    "X_train, y_train, X_val, y_val, X_test, y_test = remove_nans(X_train, X_val, X_test, y_train, y_val, y_test)"
   ]
  },
  {
   "cell_type": "markdown",
   "id": "ba3c0b46",
   "metadata": {},
   "source": [
    "#### Data normalization required in linear models"
   ]
  },
  {
   "cell_type": "code",
   "execution_count": null,
   "id": "482c9c92",
   "metadata": {},
   "outputs": [],
   "source": [
    "X_train_norm, X_val_norm, X_test_norm = normalize_data(X_train, X_val, X_test)"
   ]
  },
  {
   "cell_type": "markdown",
   "id": "f6f65754",
   "metadata": {},
   "source": [
    "## Baseline"
   ]
  },
  {
   "cell_type": "code",
   "execution_count": null,
   "id": "141f9997",
   "metadata": {},
   "outputs": [],
   "source": [
    "models, results = models_comparison(X_train, y_train, X_val, y_val, True, True, False, X_train_norm, X_val_norm)"
   ]
  },
  {
   "cell_type": "markdown",
   "id": "2f055318",
   "metadata": {},
   "source": [
    "## MRMR"
   ]
  },
  {
   "cell_type": "code",
   "execution_count": null,
   "id": "7ec4b11b",
   "metadata": {},
   "outputs": [],
   "source": [
    "models_mrmr, results_mrmr, num_sel_feat_mrmr, features_mrmr = fs_mrmr(X_train, y_train, X_val, y_val, X_train_norm, X_val_norm, True)"
   ]
  },
  {
   "cell_type": "code",
   "execution_count": null,
   "id": "e33ba60f",
   "metadata": {},
   "outputs": [],
   "source": [
    "mcc_mrmr, auc_mrmr = plot_fs_metrics(num_sel_feat_mrmr, results_mrmr, 'MRMR', True)"
   ]
  },
  {
   "cell_type": "code",
   "execution_count": null,
   "id": "d51ace14",
   "metadata": {},
   "outputs": [],
   "source": [
    "# Take selected features by MRMR\n",
    "selected_features_mrmr = features_mrmr[np.argmax(mcc_mrmr)]"
   ]
  },
  {
   "cell_type": "code",
   "execution_count": null,
   "id": "55961c76",
   "metadata": {},
   "outputs": [],
   "source": [
    "rnd_models_mrmr, metrics_rnd_mrmr = apply_randsearch(X_train[selected_features_mrmr]\n",
    "                                                        , y_train                                                       \n",
    "                                                        , X_val[selected_features_mrmr]\n",
    "                                                        , y_val\n",
    "                                                        , False\n",
    "                                                        , X_train_norm[selected_features_mrmr]\n",
    "                                                        , X_val_norm[selected_features_mrmr])"
   ]
  },
  {
   "cell_type": "markdown",
   "id": "782d8612",
   "metadata": {},
   "source": [
    "## RELIEFF"
   ]
  },
  {
   "cell_type": "code",
   "execution_count": null,
   "id": "258f3591",
   "metadata": {},
   "outputs": [],
   "source": [
    "n_neighbors = 100\n",
    "models_rf, results_rf, num_sel_feat_rf, features_rf = fs_relieff(X_train, y_train, X_val, y_val, X_train_norm, X_val_norm, True, n_neighbors)"
   ]
  },
  {
   "cell_type": "code",
   "execution_count": null,
   "id": "db6bcc95",
   "metadata": {},
   "outputs": [],
   "source": [
    "mcc_rf, auc_rf = plot_classification_metrics(results_rf, X_train, \"RelieFf\")"
   ]
  },
  {
   "cell_type": "code",
   "execution_count": null,
   "id": "b7abd443",
   "metadata": {},
   "outputs": [],
   "source": [
    "# Take selected features by RelieFf\n",
    "selected_features_rf = features_rf[np.argmax(mcc_rf)]"
   ]
  },
  {
   "cell_type": "code",
   "execution_count": null,
   "id": "b6dcc8fa",
   "metadata": {},
   "outputs": [],
   "source": [
    "# Hyperparameter optimisation post relief feature selection\n",
    "rnd_models_rf, metrics_rnd_rf = apply_randsearch(X_train[selected_features_rf]\n",
    "                                                        , y_train                                                       \n",
    "                                                        , X_val[selected_features_rf]\n",
    "                                                        , y_val\n",
    "                                                        , True\n",
    "                                                        , X_train_norm[selected_features_rf]\n",
    "                                                        , X_val_norm[selected_features_rf])"
   ]
  },
  {
   "cell_type": "markdown",
   "id": "a018e13f",
   "metadata": {},
   "source": [
    "## MIC"
   ]
  },
  {
   "cell_type": "code",
   "execution_count": null,
   "id": "af3d8c7d",
   "metadata": {},
   "outputs": [],
   "source": [
    "models_mic, results_mic, num_sel_feat_mic, features_mic = fs_score_fn(X_train, y_train, X_val, y_val, X_train_norm, X_val_norm, True, mutual_info_classif)"
   ]
  },
  {
   "cell_type": "code",
   "execution_count": null,
   "id": "e6cd46e2",
   "metadata": {},
   "outputs": [],
   "source": [
    "mcc_mic, auc_mic = plot_classification_metrics(results_mic, X_train, \"Mutual Info Classification\")"
   ]
  },
  {
   "cell_type": "code",
   "execution_count": null,
   "id": "f6d272a7",
   "metadata": {},
   "outputs": [],
   "source": [
    "selected_features_mic = features_mic[np.argmax(mcc_mic)]"
   ]
  },
  {
   "cell_type": "code",
   "execution_count": null,
   "id": "7f8007ce",
   "metadata": {},
   "outputs": [],
   "source": [
    "# Hyperparameter optimisation post mutual info classification feature selection\n",
    "rnd_models_mic, metrics_rnd_mic = apply_randsearch(X_train[selected_features_mic]\n",
    "                                                        , y_train                                                       \n",
    "                                                        , X_val[selected_features_mic]\n",
    "                                                        , y_val\n",
    "                                                        , True\n",
    "                                                        , X_train_norm[selected_features_mic]\n",
    "                                                        , X_val_norm[selected_features_mic])"
   ]
  }
 ],
 "metadata": {
  "kernelspec": {
   "display_name": "Python 3 (ipykernel)",
   "language": "python",
   "name": "python3"
  },
  "language_info": {
   "codemirror_mode": {
    "name": "ipython",
    "version": 3
   },
   "file_extension": ".py",
   "mimetype": "text/x-python",
   "name": "python",
   "nbconvert_exporter": "python",
   "pygments_lexer": "ipython3",
   "version": "3.9.7"
  }
 },
 "nbformat": 4,
 "nbformat_minor": 5
}
