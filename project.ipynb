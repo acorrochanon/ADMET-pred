{
 "cells": [
  {
   "cell_type": "code",
   "execution_count": 5,
   "id": "3e52208a",
   "metadata": {},
   "outputs": [],
   "source": [
    "from tdc.single_pred import Tox\n",
    "\n",
    "import torch\n",
    "import torchvision\n",
    "import torchvision.transforms as transforms"
   ]
  },
  {
   "cell_type": "code",
   "execution_count": 7,
   "id": "317ba082",
   "metadata": {},
   "outputs": [
    {
     "name": "stderr",
     "output_type": "stream",
     "text": [
      "Found local copy...\n",
      "Loading...\n",
      "Done!\n"
     ]
    }
   ],
   "source": [
    "data = Tox(name = 'AMES')\n",
    "#DF contains the whole dataset stored in a Pandas dataframe format \n",
    "df = data.get_data()\n",
    "#Get_split divides the dataset into 3 different sets (Train, validation, test)\n",
    "split_AMES = data.get_split()"
   ]
  },
  {
   "cell_type": "code",
   "execution_count": null,
   "id": "d4b499a3",
   "metadata": {},
   "outputs": [],
   "source": []
  }
 ],
 "metadata": {
  "kernelspec": {
   "display_name": "Python 3 (ipykernel)",
   "language": "python",
   "name": "python3"
  },
  "language_info": {
   "codemirror_mode": {
    "name": "ipython",
    "version": 3
   },
   "file_extension": ".py",
   "mimetype": "text/x-python",
   "name": "python",
   "nbconvert_exporter": "python",
   "pygments_lexer": "ipython3",
   "version": "3.9.6"
  }
 },
 "nbformat": 4,
 "nbformat_minor": 5
}
